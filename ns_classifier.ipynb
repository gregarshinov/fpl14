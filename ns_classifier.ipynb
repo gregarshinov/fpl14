{
 "cells": [
  {
   "cell_type": "code",
   "execution_count": 4,
   "metadata": {
    "collapsed": true
   },
   "outputs": [],
   "source": [
    "import tensorflow as tf"
   ]
  },
  {
   "cell_type": "code",
   "execution_count": 2,
   "metadata": {},
   "outputs": [
    {
     "name": "stderr",
     "output_type": "stream",
     "text": [
      "Downloading 20news dataset. This may take a few minutes.\n",
      "Downloading dataset from https://ndownloader.figshare.com/files/5975967 (14 MB)\n"
     ]
    }
   ],
   "source": [
    "from sklearn.datasets import fetch_20newsgroups\n",
    "data= fetch_20newsgroups(subset='all')"
   ]
  },
  {
   "cell_type": "code",
   "execution_count": 38,
   "metadata": {},
   "outputs": [],
   "source": [
    "emb_dim=50\n",
    "vocab_size=10000\n",
    "num_classes=2\n",
    "tf.reset_default_graph()\n",
    "\n",
    "word_inds=tf.placeholder(tf.int32, [None], name='word_inds')\n",
    "true_classes=tf.placeholder(tf.int32, name='true_classes')\n",
    "\n",
    "word_matrix=tf.get_variable(\"word_matrix\", [vocab_size, emb_dim],initializer=tf.random_normal_initializer(0,0.1))\n",
    "emb=tf.nn.embedding_lookup(word_matrix, word_inds)\n",
    "\n",
    "weights=tf.Variable(tf.random_normal([emb_dim, num_classes]))\n",
    "biases=tf.Variable(tf.random_normal([num_classes]))\n",
    "pred=tf.reduce_mean(tf.matmul(emb,weights)+biases, axis=0)\n",
    "\n",
    "oh_true_classes=tf.one_hot(true_classes, num_classes)\n",
    "loss_val = tf.nn.softmax_cross_entropy_with_logits(labels=oh_true_classes, logits=pred)\n",
    "train_op=tf.train.AdamOptimizer().minimize(loss_val)"
   ]
  },
  {
   "cell_type": "code",
   "execution_count": 14,
   "metadata": {
    "collapsed": true
   },
   "outputs": [],
   "source": [
    "from keras.preprocessing.text import Tokenizer\n",
    "from keras.preprocessing.sequence import pad_sequences"
   ]
  },
  {
   "cell_type": "code",
   "execution_count": 32,
   "metadata": {},
   "outputs": [
    {
     "data": {
      "text/plain": [
       "(1073,)"
      ]
     },
     "execution_count": 32,
     "metadata": {},
     "output_type": "execute_result"
    }
   ],
   "source": [
    "cats = ['alt.atheism', 'sci.space']\n",
    "newsgroups_train = fetch_20newsgroups(subset='train', categories=cats)\n",
    "newsgroups_train.target.shape"
   ]
  },
  {
   "cell_type": "code",
   "execution_count": 33,
   "metadata": {},
   "outputs": [
    {
     "data": {
      "text/plain": [
       "(1073, 6189)"
      ]
     },
     "execution_count": 33,
     "metadata": {},
     "output_type": "execute_result"
    }
   ],
   "source": [
    "tokenizer=Tokenizer(num_words=vocab_size)\n",
    "tokenizer.fit_on_texts(newsgroups_train.data)\n",
    "sequences=tokenizer.texts_to_sequences(newsgroups_train.data)\n",
    "pad_seqs=pad_sequences(sequences)\n",
    "pad_seqs.shape"
   ]
  },
  {
   "cell_type": "code",
   "execution_count": 40,
   "metadata": {},
   "outputs": [
    {
     "name": "stdout",
     "output_type": "stream",
     "text": [
      "0.682467439683\n",
      "0.643626513361\n",
      "0.608084286991\n"
     ]
    }
   ],
   "source": [
    "num_epoch=3\n",
    "\n",
    "with tf.Session() as sess:\n",
    "    sess.run(tf.global_variables_initializer())\n",
    "    for epoch in range(num_epoch):\n",
    "        mean_loss_val=0\n",
    "        for i in range(pad_seqs.shape[0]):\n",
    "            pad_seq=pad_seqs[i,:]\n",
    "            text_target=newsgroups_train.target[i]\n",
    "            \n",
    "            a, _loss_val=sess.run([train_op, loss_val], \n",
    "                                  feed_dict={word_inds:pad_seq, true_classes:text_target})\n",
    "            mean_loss_val+=_loss_val\n",
    "        print(mean_loss_val/pad_seqs.shape[0])"
   ]
  },
  {
   "cell_type": "code",
   "execution_count": 37,
   "metadata": {},
   "outputs": [
    {
     "data": {
      "text/plain": [
       "1"
      ]
     },
     "execution_count": 37,
     "metadata": {},
     "output_type": "execute_result"
    }
   ],
   "source": [
    "newsgroups_train.target[1]"
   ]
  },
  {
   "cell_type": "code",
   "execution_count": null,
   "metadata": {
    "collapsed": true
   },
   "outputs": [],
   "source": []
  }
 ],
 "metadata": {
  "kernelspec": {
   "display_name": "Python 3",
   "language": "python",
   "name": "python3"
  },
  "language_info": {
   "codemirror_mode": {
    "name": "ipython",
    "version": 3
   },
   "file_extension": ".py",
   "mimetype": "text/x-python",
   "name": "python",
   "nbconvert_exporter": "python",
   "pygments_lexer": "ipython3",
   "version": "3.6.3"
  }
 },
 "nbformat": 4,
 "nbformat_minor": 2
}
