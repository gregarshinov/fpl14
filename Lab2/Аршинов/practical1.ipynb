{
 "cells": [
  {
   "cell_type": "markdown",
   "metadata": {},
   "source": [
    "## Practical 1: word2vec\n",
    "<p>Oxford CS - Deep NLP 2017<br>\n",
    "https://www.cs.ox.ac.uk/teaching/courses/2016-2017/dl/</p>\n",
    "<p>[Yannis Assael, Brendan Shillingford, Chris Dyer]</p>"
   ]
  },
  {
   "cell_type": "markdown",
   "metadata": {},
   "source": [
    "This practical is presented as an IPython Notebook, with the code written for recent versions of **Python 3**. The code in this practical will not work with Python 2 unless you modify it. If you are using your own Python installation, ensure you have a setup identical to that described in the installation shell script (which is intended for use with the department lab machines). We will be unable to support installation on personal machines due to time constraints, so please use the lab machines and the setup script if you are unfamiliar with how to install Anaconda.\n",
    "\n",
    "To execute a notebook cell, press `shift-enter`. The return value of the last command will be displayed, if it is not `None`.\n",
    "\n",
    "Potentially useful library documentation, references, and resources:\n",
    "\n",
    "* IPython notebooks: <https://ipython.org/ipython-doc/3/notebook/notebook.html#introduction>\n",
    "* Numpy numerical array library: <https://docs.scipy.org/doc/>\n",
    "* Gensim's word2vec: <https://radimrehurek.com/gensim/models/word2vec.html>\n",
    "* Bokeh interactive plots: <http://bokeh.pydata.org/en/latest/> (we provide plotting code here, but click the thumbnails for more examples to copy-paste)\n",
    "* scikit-learn ML library (aka `sklearn`): <http://scikit-learn.org/stable/documentation.html>\n",
    "* nltk NLP toolkit: <http://www.nltk.org/>\n",
    "* tutorial for processing xml in python using `lxml`: <http://lxml.de/tutorial.html> (we did this for you below, but in case you need it in the future)"
   ]
  },
  {
   "cell_type": "code",
   "execution_count": 3,
   "metadata": {},
   "outputs": [],
   "source": [
    "import numpy as np\n",
    "import os\n",
    "from random import shuffle\n",
    "import re"
   ]
  },
  {
   "cell_type": "code",
   "execution_count": 4,
   "metadata": {},
   "outputs": [
    {
     "data": {
      "text/html": [
       "\n",
       "    <div class=\"bk-root\">\n",
       "        <a href=\"http://bokeh.pydata.org\" target=\"_blank\" class=\"bk-logo bk-logo-small bk-logo-notebook\"></a>\n",
       "        <span id=\"3bacd7b7-8813-4268-8d2e-23328f898cce\">Loading BokehJS ...</span>\n",
       "    </div>"
      ]
     },
     "metadata": {},
     "output_type": "display_data"
    },
    {
     "data": {
      "application/javascript": [
       "\n",
       "(function(global) {\n",
       "  function now() {\n",
       "    return new Date();\n",
       "  }\n",
       "\n",
       "  var force = true;\n",
       "\n",
       "  if (typeof (window._bokeh_onload_callbacks) === \"undefined\" || force === true) {\n",
       "    window._bokeh_onload_callbacks = [];\n",
       "    window._bokeh_is_loading = undefined;\n",
       "  }\n",
       "\n",
       "\n",
       "  \n",
       "  if (typeof (window._bokeh_timeout) === \"undefined\" || force === true) {\n",
       "    window._bokeh_timeout = Date.now() + 5000;\n",
       "    window._bokeh_failed_load = false;\n",
       "  }\n",
       "\n",
       "  var NB_LOAD_WARNING = {'data': {'text/html':\n",
       "     \"<div style='background-color: #fdd'>\\n\"+\n",
       "     \"<p>\\n\"+\n",
       "     \"BokehJS does not appear to have successfully loaded. If loading BokehJS from CDN, this \\n\"+\n",
       "     \"may be due to a slow or bad network connection. Possible fixes:\\n\"+\n",
       "     \"</p>\\n\"+\n",
       "     \"<ul>\\n\"+\n",
       "     \"<li>re-rerun `output_notebook()` to attempt to load from CDN again, or</li>\\n\"+\n",
       "     \"<li>use INLINE resources instead, as so:</li>\\n\"+\n",
       "     \"</ul>\\n\"+\n",
       "     \"<code>\\n\"+\n",
       "     \"from bokeh.resources import INLINE\\n\"+\n",
       "     \"output_notebook(resources=INLINE)\\n\"+\n",
       "     \"</code>\\n\"+\n",
       "     \"</div>\"}};\n",
       "\n",
       "  function display_loaded() {\n",
       "    if (window.Bokeh !== undefined) {\n",
       "      document.getElementById(\"3bacd7b7-8813-4268-8d2e-23328f898cce\").textContent = \"BokehJS successfully loaded.\";\n",
       "    } else if (Date.now() < window._bokeh_timeout) {\n",
       "      setTimeout(display_loaded, 100)\n",
       "    }\n",
       "  }\n",
       "\n",
       "  function run_callbacks() {\n",
       "    window._bokeh_onload_callbacks.forEach(function(callback) { callback() });\n",
       "    delete window._bokeh_onload_callbacks\n",
       "    console.info(\"Bokeh: all callbacks have finished\");\n",
       "  }\n",
       "\n",
       "  function load_libs(js_urls, callback) {\n",
       "    window._bokeh_onload_callbacks.push(callback);\n",
       "    if (window._bokeh_is_loading > 0) {\n",
       "      console.log(\"Bokeh: BokehJS is being loaded, scheduling callback at\", now());\n",
       "      return null;\n",
       "    }\n",
       "    if (js_urls == null || js_urls.length === 0) {\n",
       "      run_callbacks();\n",
       "      return null;\n",
       "    }\n",
       "    console.log(\"Bokeh: BokehJS not loaded, scheduling load and callback at\", now());\n",
       "    window._bokeh_is_loading = js_urls.length;\n",
       "    for (var i = 0; i < js_urls.length; i++) {\n",
       "      var url = js_urls[i];\n",
       "      var s = document.createElement('script');\n",
       "      s.src = url;\n",
       "      s.async = false;\n",
       "      s.onreadystatechange = s.onload = function() {\n",
       "        window._bokeh_is_loading--;\n",
       "        if (window._bokeh_is_loading === 0) {\n",
       "          console.log(\"Bokeh: all BokehJS libraries loaded\");\n",
       "          run_callbacks()\n",
       "        }\n",
       "      };\n",
       "      s.onerror = function() {\n",
       "        console.warn(\"failed to load library \" + url);\n",
       "      };\n",
       "      console.log(\"Bokeh: injecting script tag for BokehJS library: \", url);\n",
       "      document.getElementsByTagName(\"head\")[0].appendChild(s);\n",
       "    }\n",
       "  };var element = document.getElementById(\"3bacd7b7-8813-4268-8d2e-23328f898cce\");\n",
       "  if (element == null) {\n",
       "    console.log(\"Bokeh: ERROR: autoload.js configured with elementid '3bacd7b7-8813-4268-8d2e-23328f898cce' but no matching script tag was found. \")\n",
       "    return false;\n",
       "  }\n",
       "\n",
       "  var js_urls = [\"https://cdn.pydata.org/bokeh/release/bokeh-0.12.4.min.js\", \"https://cdn.pydata.org/bokeh/release/bokeh-widgets-0.12.4.min.js\"];\n",
       "\n",
       "  var inline_js = [\n",
       "    function(Bokeh) {\n",
       "      Bokeh.set_log_level(\"info\");\n",
       "    },\n",
       "    \n",
       "    function(Bokeh) {\n",
       "      \n",
       "      document.getElementById(\"3bacd7b7-8813-4268-8d2e-23328f898cce\").textContent = \"BokehJS is loading...\";\n",
       "    },\n",
       "    function(Bokeh) {\n",
       "      console.log(\"Bokeh: injecting CSS: https://cdn.pydata.org/bokeh/release/bokeh-0.12.4.min.css\");\n",
       "      Bokeh.embed.inject_css(\"https://cdn.pydata.org/bokeh/release/bokeh-0.12.4.min.css\");\n",
       "      console.log(\"Bokeh: injecting CSS: https://cdn.pydata.org/bokeh/release/bokeh-widgets-0.12.4.min.css\");\n",
       "      Bokeh.embed.inject_css(\"https://cdn.pydata.org/bokeh/release/bokeh-widgets-0.12.4.min.css\");\n",
       "    }\n",
       "  ];\n",
       "\n",
       "  function run_inline_js() {\n",
       "    \n",
       "    if ((window.Bokeh !== undefined) || (force === true)) {\n",
       "      for (var i = 0; i < inline_js.length; i++) {\n",
       "        inline_js[i](window.Bokeh);\n",
       "      }if (force === true) {\n",
       "        display_loaded();\n",
       "      }} else if (Date.now() < window._bokeh_timeout) {\n",
       "      setTimeout(run_inline_js, 100);\n",
       "    } else if (!window._bokeh_failed_load) {\n",
       "      console.log(\"Bokeh: BokehJS failed to load within specified timeout.\");\n",
       "      window._bokeh_failed_load = true;\n",
       "    } else if (force !== true) {\n",
       "      var cell = $(document.getElementById(\"3bacd7b7-8813-4268-8d2e-23328f898cce\")).parents('.cell').data().cell;\n",
       "      cell.output_area.append_execute_result(NB_LOAD_WARNING)\n",
       "    }\n",
       "\n",
       "  }\n",
       "\n",
       "  if (window._bokeh_is_loading === 0) {\n",
       "    console.log(\"Bokeh: BokehJS loaded, going straight to plotting\");\n",
       "    run_inline_js();\n",
       "  } else {\n",
       "    load_libs(js_urls, function() {\n",
       "      console.log(\"Bokeh: BokehJS plotting callback run at\", now());\n",
       "      run_inline_js();\n",
       "    });\n",
       "  }\n",
       "}(this));"
      ]
     },
     "metadata": {},
     "output_type": "display_data"
    }
   ],
   "source": [
    "from bokeh.models import ColumnDataSource, LabelSet\n",
    "from bokeh.plotting import figure, show, output_file\n",
    "from bokeh.io import output_notebook\n",
    "output_notebook()"
   ]
  },
  {
   "cell_type": "markdown",
   "metadata": {},
   "source": [
    "### Part 0: Download the TED dataset"
   ]
  },
  {
   "cell_type": "code",
   "execution_count": 5,
   "metadata": {},
   "outputs": [],
   "source": [
    "import urllib.request\n",
    "import zipfile\n",
    "import lxml.etree"
   ]
  },
  {
   "cell_type": "code",
   "execution_count": 6,
   "metadata": {},
   "outputs": [],
   "source": [
    "# Download the dataset if it's not already there: this may take a minute as it is 75MB\n",
    "if not os.path.isfile('ted_en-20160408.zip'):\n",
    "    urllib.request.urlretrieve(\"https://wit3.fbk.eu/get.php?path=XML_releases/xml/ted_en-20160408.zip&filename=ted_en-20160408.zip\", filename=\"ted_en-20160408.zip\")"
   ]
  },
  {
   "cell_type": "code",
   "execution_count": 7,
   "metadata": {},
   "outputs": [],
   "source": [
    "# For now, we're only interested in the subtitle text, so let's extract that from the XML:\n",
    "with zipfile.ZipFile('ted_en-20160408.zip', 'r') as z:\n",
    "    doc = lxml.etree.parse(z.open('ted_en-20160408.xml', 'r'))\n",
    "input_text = '\\n'.join(doc.xpath('//content/text()'))\n",
    "del doc"
   ]
  },
  {
   "cell_type": "markdown",
   "metadata": {},
   "source": [
    "### Part 1: Preprocessing\n",
    "\n",
    "In this part, we attempt to clean up the raw subtitles a bit, so that we get only sentences. The following substring shows examples of what we're trying to get rid of. Since it's hard to define precisely what we want to get rid of, we'll just use some simple heuristics."
   ]
  },
  {
   "cell_type": "code",
   "execution_count": 8,
   "metadata": {
    "scrolled": false
   },
   "outputs": [
    {
     "data": {
      "text/plain": [
       "' baby does.\\n(Video) Hyowon Gweon: See this? (Ball squeaks) Did you see that? (Ball squeaks) Cool. See this one? (Ball squeaks) Wow.\\nLaura Schulz: Told you. (Laughs)\\n(Vide'"
      ]
     },
     "execution_count": 8,
     "metadata": {},
     "output_type": "execute_result"
    }
   ],
   "source": [
    "i = input_text.find(\"Hyowon Gweon: See this?\")\n",
    "input_text[i-20:i+150]"
   ]
  },
  {
   "cell_type": "markdown",
   "metadata": {},
   "source": [
    "Let's start by removing all parenthesized strings using a regex:"
   ]
  },
  {
   "cell_type": "code",
   "execution_count": 9,
   "metadata": {
    "collapsed": true
   },
   "outputs": [],
   "source": [
    "input_text_noparens = re.sub(r'\\([^)]*\\)', '', input_text)"
   ]
  },
  {
   "cell_type": "markdown",
   "metadata": {},
   "source": [
    "We can verify the same location in the text is now clean as follows. We won't worry about the irregular spaces since we'll later split the text into sentences and tokenize it anyway."
   ]
  },
  {
   "cell_type": "code",
   "execution_count": 10,
   "metadata": {},
   "outputs": [
    {
     "data": {
      "text/plain": [
       "\"hat the baby does.\\n Hyowon Gweon: See this?  Did you see that?  Cool. See this one?  Wow.\\nLaura Schulz: Told you. \\n HG: See this one?  Hey Clara, this one's for you. You \""
      ]
     },
     "execution_count": 10,
     "metadata": {},
     "output_type": "execute_result"
    }
   ],
   "source": [
    "i = input_text_noparens.find(\"Hyowon Gweon: See this?\")\n",
    "input_text_noparens[i-20:i+150]"
   ]
  },
  {
   "cell_type": "markdown",
   "metadata": {},
   "source": [
    "Now, let's attempt to remove speakers' names that occur at the beginning of a line, by deleting pieces of the form \"`<up to 20 characters>:`\", as shown in this example. Of course, this is an imperfect heuristic. "
   ]
  },
  {
   "cell_type": "code",
   "execution_count": 11,
   "metadata": {},
   "outputs": [
    {
     "data": {
      "text/plain": [
       "[\"Here are two reasons companies fail: they only do more of the same, or they only do what's new\",\n",
       " 'To me the real, real solution to quality growth is figuring out the balance between two activities: exploration and exploitation',\n",
       " ' Both are necessary, but it can be too much of a good thing',\n",
       " 'Consider Facit',\n",
       " \" I'm actually old enough to remember them\"]"
      ]
     },
     "execution_count": 11,
     "metadata": {},
     "output_type": "execute_result"
    }
   ],
   "source": [
    "sentences_strings_ted = []\n",
    "for line in input_text_noparens.split('\\n'):\n",
    "    m = re.match(r'^(?:(?P<precolon>[^:]{,20}):)?(?P<postcolon>.*)$', line)\n",
    "    sentences_strings_ted.extend(sent for sent in m.groupdict()['postcolon'].split('.') if sent)\n",
    "\n",
    "# Uncomment if you need to save some RAM: these strings are about 50MB.\n",
    "# del input_text, input_text_noparens\n",
    "\n",
    "# Let's view the first few:\n",
    "sentences_strings_ted[:5]"
   ]
  },
  {
   "cell_type": "markdown",
   "metadata": {},
   "source": [
    "Now that we have sentences, we're ready to tokenize each of them into words. This tokenization is imperfect, of course. For instance, how many tokens is \"can't\", and where/how do we split it? We'll take the simplest naive approach of splitting on spaces. Before splitting, we remove non-alphanumeric characters, such as punctuation. You may want to consider the following question: why do we replace these characters with spaces rather than deleting them? Think of a case where this yields a different answer."
   ]
  },
  {
   "cell_type": "code",
   "execution_count": 12,
   "metadata": {},
   "outputs": [],
   "source": [
    "sentences_ted = []\n",
    "for sent_str in sentences_strings_ted:\n",
    "    tokens = re.sub(r\"[^a-z0-9]+\", \" \", sent_str.lower()).split()\n",
    "    sentences_ted.append(tokens)"
   ]
  },
  {
   "cell_type": "markdown",
   "metadata": {},
   "source": [
    "Two sample processed sentences:"
   ]
  },
  {
   "cell_type": "code",
   "execution_count": 13,
   "metadata": {},
   "outputs": [
    {
     "data": {
      "text/plain": [
       "266694"
      ]
     },
     "execution_count": 13,
     "metadata": {},
     "output_type": "execute_result"
    }
   ],
   "source": [
    "len(sentences_ted)"
   ]
  },
  {
   "cell_type": "code",
   "execution_count": 14,
   "metadata": {},
   "outputs": [
    {
     "name": "stdout",
     "output_type": "stream",
     "text": [
      "['here', 'are', 'two', 'reasons', 'companies', 'fail', 'they', 'only', 'do', 'more', 'of', 'the', 'same', 'or', 'they', 'only', 'do', 'what', 's', 'new']\n",
      "['to', 'me', 'the', 'real', 'real', 'solution', 'to', 'quality', 'growth', 'is', 'figuring', 'out', 'the', 'balance', 'between', 'two', 'activities', 'exploration', 'and', 'exploitation']\n"
     ]
    }
   ],
   "source": [
    "print(sentences_ted[0])\n",
    "print(sentences_ted[1])"
   ]
  },
  {
   "cell_type": "markdown",
   "metadata": {},
   "source": [
    "### Part 2: Word Frequencies"
   ]
  },
  {
   "cell_type": "markdown",
   "metadata": {},
   "source": [
    "If you store the counts of the top 1000 words in a list called `counts_ted_top1000`, the code below will plot the histogram requested in the writeup."
   ]
  },
  {
   "cell_type": "code",
   "execution_count": 15,
   "metadata": {},
   "outputs": [
    {
     "name": "stdout",
     "output_type": "stream",
     "text": [
      "[207749, 149306, 125170, 114819, 105400, 95147, 83181, 78071, 74739, 70924]\n"
     ]
    }
   ],
   "source": [
    "counts_ted={}\n",
    "for sentence in sentences_ted:\n",
    "    for word in sentence:\n",
    "        if word not in counts_ted:\n",
    "            counts_ted[word]=1\n",
    "        if word in counts_ted:\n",
    "            counts_ted[word]+=1\n",
    "\n",
    "words_ted_top1000=sorted(counts_ted, key=lambda x:int(counts_ted[x]), reverse=True)[:1000]\n",
    "counts_ted_top1000=[]\n",
    "for word in words_ted_top1000:\n",
    "    counts_ted_top1000.append(counts_ted[word])\n",
    "print(counts_ted_top1000[:10])\n",
    "\n",
    "    "
   ]
  },
  {
   "cell_type": "markdown",
   "metadata": {},
   "source": [
    "Plot distribution of top-1000 words"
   ]
  },
  {
   "cell_type": "code",
   "execution_count": 16,
   "metadata": {},
   "outputs": [
    {
     "data": {
      "text/html": [
       "\n",
       "\n",
       "    <div class=\"bk-root\">\n",
       "        <div class=\"bk-plotdiv\" id=\"63c95d59-cd7b-4810-93d1-a931497d06f9\"></div>\n",
       "    </div>\n",
       "<script type=\"text/javascript\">\n",
       "  \n",
       "  (function(global) {\n",
       "    function now() {\n",
       "      return new Date();\n",
       "    }\n",
       "  \n",
       "    var force = false;\n",
       "  \n",
       "    if (typeof (window._bokeh_onload_callbacks) === \"undefined\" || force === true) {\n",
       "      window._bokeh_onload_callbacks = [];\n",
       "      window._bokeh_is_loading = undefined;\n",
       "    }\n",
       "  \n",
       "  \n",
       "    \n",
       "    if (typeof (window._bokeh_timeout) === \"undefined\" || force === true) {\n",
       "      window._bokeh_timeout = Date.now() + 0;\n",
       "      window._bokeh_failed_load = false;\n",
       "    }\n",
       "  \n",
       "    var NB_LOAD_WARNING = {'data': {'text/html':\n",
       "       \"<div style='background-color: #fdd'>\\n\"+\n",
       "       \"<p>\\n\"+\n",
       "       \"BokehJS does not appear to have successfully loaded. If loading BokehJS from CDN, this \\n\"+\n",
       "       \"may be due to a slow or bad network connection. Possible fixes:\\n\"+\n",
       "       \"</p>\\n\"+\n",
       "       \"<ul>\\n\"+\n",
       "       \"<li>re-rerun `output_notebook()` to attempt to load from CDN again, or</li>\\n\"+\n",
       "       \"<li>use INLINE resources instead, as so:</li>\\n\"+\n",
       "       \"</ul>\\n\"+\n",
       "       \"<code>\\n\"+\n",
       "       \"from bokeh.resources import INLINE\\n\"+\n",
       "       \"output_notebook(resources=INLINE)\\n\"+\n",
       "       \"</code>\\n\"+\n",
       "       \"</div>\"}};\n",
       "  \n",
       "    function display_loaded() {\n",
       "      if (window.Bokeh !== undefined) {\n",
       "        document.getElementById(\"63c95d59-cd7b-4810-93d1-a931497d06f9\").textContent = \"BokehJS successfully loaded.\";\n",
       "      } else if (Date.now() < window._bokeh_timeout) {\n",
       "        setTimeout(display_loaded, 100)\n",
       "      }\n",
       "    }\n",
       "  \n",
       "    function run_callbacks() {\n",
       "      window._bokeh_onload_callbacks.forEach(function(callback) { callback() });\n",
       "      delete window._bokeh_onload_callbacks\n",
       "      console.info(\"Bokeh: all callbacks have finished\");\n",
       "    }\n",
       "  \n",
       "    function load_libs(js_urls, callback) {\n",
       "      window._bokeh_onload_callbacks.push(callback);\n",
       "      if (window._bokeh_is_loading > 0) {\n",
       "        console.log(\"Bokeh: BokehJS is being loaded, scheduling callback at\", now());\n",
       "        return null;\n",
       "      }\n",
       "      if (js_urls == null || js_urls.length === 0) {\n",
       "        run_callbacks();\n",
       "        return null;\n",
       "      }\n",
       "      console.log(\"Bokeh: BokehJS not loaded, scheduling load and callback at\", now());\n",
       "      window._bokeh_is_loading = js_urls.length;\n",
       "      for (var i = 0; i < js_urls.length; i++) {\n",
       "        var url = js_urls[i];\n",
       "        var s = document.createElement('script');\n",
       "        s.src = url;\n",
       "        s.async = false;\n",
       "        s.onreadystatechange = s.onload = function() {\n",
       "          window._bokeh_is_loading--;\n",
       "          if (window._bokeh_is_loading === 0) {\n",
       "            console.log(\"Bokeh: all BokehJS libraries loaded\");\n",
       "            run_callbacks()\n",
       "          }\n",
       "        };\n",
       "        s.onerror = function() {\n",
       "          console.warn(\"failed to load library \" + url);\n",
       "        };\n",
       "        console.log(\"Bokeh: injecting script tag for BokehJS library: \", url);\n",
       "        document.getElementsByTagName(\"head\")[0].appendChild(s);\n",
       "      }\n",
       "    };var element = document.getElementById(\"63c95d59-cd7b-4810-93d1-a931497d06f9\");\n",
       "    if (element == null) {\n",
       "      console.log(\"Bokeh: ERROR: autoload.js configured with elementid '63c95d59-cd7b-4810-93d1-a931497d06f9' but no matching script tag was found. \")\n",
       "      return false;\n",
       "    }\n",
       "  \n",
       "    var js_urls = [];\n",
       "  \n",
       "    var inline_js = [\n",
       "      function(Bokeh) {\n",
       "        (function() {\n",
       "          var fn = function() {\n",
       "            var docs_json = {\"3c0eaf7e-2d39-4e0e-bb5f-1e48d35a08fe\":{\"roots\":{\"references\":[{\"attributes\":{\"callback\":null},\"id\":\"9b712de1-fa2b-4650-ad8d-eacdc98caf6e\",\"type\":\"DataRange1d\"},{\"attributes\":{\"formatter\":{\"id\":\"715aa559-1738-4c98-8b84-574e28a60308\",\"type\":\"BasicTickFormatter\"},\"plot\":{\"id\":\"b63ee98b-4b27-4096-9de3-5cea3cd62303\",\"subtype\":\"Figure\",\"type\":\"Plot\"},\"ticker\":{\"id\":\"94e53d75-6ef8-4bce-837e-7e345ef96bbf\",\"type\":\"BasicTicker\"}},\"id\":\"e5be30fb-5349-4214-8542-f443a6660eea\",\"type\":\"LinearAxis\"},{\"attributes\":{\"callback\":null},\"id\":\"2f27d737-1ca0-487c-9358-5830d9c4e80e\",\"type\":\"DataRange1d\"},{\"attributes\":{},\"id\":\"831a0c13-9b48-4e57-9fac-a2608428bda0\",\"type\":\"ToolEvents\"},{\"attributes\":{},\"id\":\"94e53d75-6ef8-4bce-837e-7e345ef96bbf\",\"type\":\"BasicTicker\"},{\"attributes\":{\"data_source\":{\"id\":\"965aa51e-1a9c-4bea-a1ba-d7abfb8ca61b\",\"type\":\"ColumnDataSource\"},\"glyph\":{\"id\":\"0d64d160-02e6-4405-b2ee-0b60ed506a86\",\"type\":\"Quad\"},\"hover_glyph\":null,\"nonselection_glyph\":{\"id\":\"7c4c99f7-462b-4eb4-aaa9-faa4d0d4d00b\",\"type\":\"Quad\"},\"selection_glyph\":null},\"id\":\"00d3e2e5-8a85-49b5-b137-843fbb599059\",\"type\":\"GlyphRenderer\"},{\"attributes\":{\"plot\":{\"id\":\"b63ee98b-4b27-4096-9de3-5cea3cd62303\",\"subtype\":\"Figure\",\"type\":\"Plot\"},\"ticker\":{\"id\":\"94e53d75-6ef8-4bce-837e-7e345ef96bbf\",\"type\":\"BasicTicker\"}},\"id\":\"be8968eb-feb3-4c5d-a751-d4a07af26b3c\",\"type\":\"Grid\"},{\"attributes\":{\"formatter\":{\"id\":\"0c11a3b1-45b2-44b5-9451-1809dce6960e\",\"type\":\"BasicTickFormatter\"},\"plot\":{\"id\":\"b63ee98b-4b27-4096-9de3-5cea3cd62303\",\"subtype\":\"Figure\",\"type\":\"Plot\"},\"ticker\":{\"id\":\"617f731f-9a0e-4953-8312-d2f72d2e6c56\",\"type\":\"BasicTicker\"}},\"id\":\"54d4ff03-3447-43f5-82d9-4f408812e840\",\"type\":\"LinearAxis\"},{\"attributes\":{},\"id\":\"617f731f-9a0e-4953-8312-d2f72d2e6c56\",\"type\":\"BasicTicker\"},{\"attributes\":{\"bottom\":{\"value\":0},\"fill_alpha\":{\"value\":0.1},\"fill_color\":{\"value\":\"#1f77b4\"},\"left\":{\"field\":\"left\"},\"line_alpha\":{\"value\":0.1},\"line_color\":{\"value\":\"#1f77b4\"},\"right\":{\"field\":\"right\"},\"top\":{\"field\":\"top\"}},\"id\":\"7c4c99f7-462b-4eb4-aaa9-faa4d0d4d00b\",\"type\":\"Quad\"},{\"attributes\":{\"active_drag\":\"auto\",\"active_scroll\":\"auto\",\"active_tap\":\"auto\",\"tools\":[{\"id\":\"ba4d9623-25bb-489f-a867-6a5d53c0785a\",\"type\":\"PanTool\"},{\"id\":\"aa3f839c-5052-49ab-9886-a40a28191fd2\",\"type\":\"WheelZoomTool\"},{\"id\":\"2140691c-182f-4c3f-9ff2-1407014788e7\",\"type\":\"ResetTool\"},{\"id\":\"3ee695fb-8b4c-4299-8c0e-087e4e9ee4d0\",\"type\":\"SaveTool\"}]},\"id\":\"0b3fd1e8-331d-4f53-9694-2aa815089fd6\",\"type\":\"Toolbar\"},{\"attributes\":{\"dimension\":1,\"plot\":{\"id\":\"b63ee98b-4b27-4096-9de3-5cea3cd62303\",\"subtype\":\"Figure\",\"type\":\"Plot\"},\"ticker\":{\"id\":\"617f731f-9a0e-4953-8312-d2f72d2e6c56\",\"type\":\"BasicTicker\"}},\"id\":\"a03d660a-53f2-46fc-8b11-0bb7a5267a28\",\"type\":\"Grid\"},{\"attributes\":{\"plot\":{\"id\":\"b63ee98b-4b27-4096-9de3-5cea3cd62303\",\"subtype\":\"Figure\",\"type\":\"Plot\"}},\"id\":\"ba4d9623-25bb-489f-a867-6a5d53c0785a\",\"type\":\"PanTool\"},{\"attributes\":{},\"id\":\"715aa559-1738-4c98-8b84-574e28a60308\",\"type\":\"BasicTickFormatter\"},{\"attributes\":{\"plot\":null,\"text\":\"Top-1000 words distribution\"},\"id\":\"41ad9a85-8133-494f-9f5d-1ade8be735fe\",\"type\":\"Title\"},{\"attributes\":{\"plot\":{\"id\":\"b63ee98b-4b27-4096-9de3-5cea3cd62303\",\"subtype\":\"Figure\",\"type\":\"Plot\"}},\"id\":\"aa3f839c-5052-49ab-9886-a40a28191fd2\",\"type\":\"WheelZoomTool\"},{\"attributes\":{},\"id\":\"0c11a3b1-45b2-44b5-9451-1809dce6960e\",\"type\":\"BasicTickFormatter\"},{\"attributes\":{\"plot\":{\"id\":\"b63ee98b-4b27-4096-9de3-5cea3cd62303\",\"subtype\":\"Figure\",\"type\":\"Plot\"}},\"id\":\"2140691c-182f-4c3f-9ff2-1407014788e7\",\"type\":\"ResetTool\"},{\"attributes\":{\"plot\":{\"id\":\"b63ee98b-4b27-4096-9de3-5cea3cd62303\",\"subtype\":\"Figure\",\"type\":\"Plot\"}},\"id\":\"3ee695fb-8b4c-4299-8c0e-087e4e9ee4d0\",\"type\":\"SaveTool\"},{\"attributes\":{\"bottom\":{\"value\":0},\"fill_color\":{\"value\":\"#1f77b4\"},\"left\":{\"field\":\"left\"},\"line_color\":{\"value\":\"#555555\"},\"right\":{\"field\":\"right\"},\"top\":{\"field\":\"top\"}},\"id\":\"0d64d160-02e6-4405-b2ee-0b60ed506a86\",\"type\":\"Quad\"},{\"attributes\":{\"below\":[{\"id\":\"e5be30fb-5349-4214-8542-f443a6660eea\",\"type\":\"LinearAxis\"}],\"left\":[{\"id\":\"54d4ff03-3447-43f5-82d9-4f408812e840\",\"type\":\"LinearAxis\"}],\"renderers\":[{\"id\":\"e5be30fb-5349-4214-8542-f443a6660eea\",\"type\":\"LinearAxis\"},{\"id\":\"be8968eb-feb3-4c5d-a751-d4a07af26b3c\",\"type\":\"Grid\"},{\"id\":\"54d4ff03-3447-43f5-82d9-4f408812e840\",\"type\":\"LinearAxis\"},{\"id\":\"a03d660a-53f2-46fc-8b11-0bb7a5267a28\",\"type\":\"Grid\"},{\"id\":\"00d3e2e5-8a85-49b5-b137-843fbb599059\",\"type\":\"GlyphRenderer\"}],\"title\":{\"id\":\"41ad9a85-8133-494f-9f5d-1ade8be735fe\",\"type\":\"Title\"},\"tool_events\":{\"id\":\"831a0c13-9b48-4e57-9fac-a2608428bda0\",\"type\":\"ToolEvents\"},\"toolbar\":{\"id\":\"0b3fd1e8-331d-4f53-9694-2aa815089fd6\",\"type\":\"Toolbar\"},\"toolbar_location\":\"above\",\"x_range\":{\"id\":\"9b712de1-fa2b-4650-ad8d-eacdc98caf6e\",\"type\":\"DataRange1d\"},\"y_range\":{\"id\":\"2f27d737-1ca0-487c-9358-5830d9c4e80e\",\"type\":\"DataRange1d\"}},\"id\":\"b63ee98b-4b27-4096-9de3-5cea3cd62303\",\"subtype\":\"Figure\",\"type\":\"Plot\"},{\"attributes\":{\"callback\":null,\"column_names\":[\"left\",\"right\",\"top\"],\"data\":{\"left\":{\"__ndarray__\":\"V2ao+PoDGEBtlDRH4UMYQIPCwJXHgxhAmvBM5K3DGECwHtkylAMZQMZMZYF6QxlA3Hrxz2CDGUDzqH0eR8MZQAnXCW0tAxpAHwWWuxNDGkA1MyIK+oIaQExhrljgwhpAYo86p8YCG0B4vcb1rEIbQI7rUkSTghtApBnfknnCG0C7R2vhXwIcQNF19y9GQhxA56ODfiyCHED90Q/NEsIcQBQAnBv5AR1AKi4oat9BHUBAXLS4xYEdQFaKQAeswR1AbLjMVZIBHkCD5likeEEeQJkU5fJegR5Ar0JxQUXBHkDFcP2PKwEfQNyeid4RQR9A8swVLfiAH0AI+6F73sAfQI8UF2ViACBAmitdjFUgIEClQqOzSEAgQLBZ6do7YCBAvHAvAi+AIEDHh3UpIqAgQNKeu1AVwCBA3bUBeAjgIEDozEef+/8gQPPjjcbuHyFA/vrT7eE/IUAJEhoV1V8hQBQpYDzIfyFAIECmY7ufIUArV+yKrr8hQDZuMrKh3yFAQYV42ZT/IUBMnL4AiB8iQFezBCh7PyJAYspKT25fIkBu4ZB2YX8iQHj41p1UnyJAhA8dxUe/IkCPJmPsOt8iQJo9qRMu/yJApVTvOiEfI0CwazViFD8jQLuCe4kHXyNAxpnBsPp+I0DSsAfY7Z4jQNzHTf/gviNA6N6TJtTeI0Dz9dlNx/4jQP4MIHW6HiRACSRmnK0+JEAUO6zDoF4kQB9S8uqTfiRAKmk4EoeeJEA2gH45er4kQECXxGBt3iRATK4KiGD+JEBXxVCvUx4lQGLcltZGPiVAbfPc/TleJUB4CiMlLX4lQIMhaUwgniVAjjivcxO+JUCaT/WaBt4lQKRmO8L5/SVAsH2B6ewdJkC7lMcQ4D0mQMarDTjTXSZA0cJTX8Z9JkDc2ZmGuZ0mQOfw362svSZA8gcm1Z/dJkD+Hmz8kv0mQAg2siOGHSdAFE34Snk9J0AfZD5ybF0nQCp7hJlffSdANZLKwFKdJ0BAqRDoRb0nQEzAVg853SdAVtecNiz9J0Bi7uJdHx0oQGwFKYUSPShAeBxvrAVdKEA=\",\"dtype\":\"float64\",\"shape\":[100]},\"right\":{\"__ndarray__\":\"bZQ0R+FDGECDwsCVx4MYQJrwTOStwxhAsB7ZMpQDGUDGTGWBekMZQNx68c9ggxlA86h9HkfDGUAJ1wltLQMaQB8FlrsTQxpANTMiCvqCGkBMYa5Y4MIaQGKPOqfGAhtAeL3G9axCG0CO61JEk4IbQKQZ35J5whtAu0dr4V8CHEDRdfcvRkIcQOejg34sghxA/dEPzRLCHEAUAJwb+QEdQCouKGrfQR1AQFy0uMWBHUBWikAHrMEdQGy4zFWSAR5Ag+ZYpHhBHkCZFOXyXoEeQK9CcUFFwR5AxXD9jysBH0DcnoneEUEfQPLMFS34gB9ACPuhe97AH0CPFBdlYgAgQJorXYxVICBApUKjs0hAIECwWenaO2AgQLxwLwIvgCBAx4d1KSKgIEDSnrtQFcAgQN21AXgI4CBA6MxHn/v/IEDz443G7h8hQP760+3hPyFACRIaFdVfIUAUKWA8yH8hQCBApmO7nyFAK1fsiq6/IUA2bjKyod8hQEGFeNmU/yFATJy+AIgfIkBXswQoez8iQGLKSk9uXyJAbuGQdmF/IkB4+NadVJ8iQIQPHcVHvyJAjyZj7DrfIkCaPakTLv8iQKVU7zohHyNAsGs1YhQ/I0C7gnuJB18jQMaZwbD6fiNA0rAH2O2eI0Dcx03/4L4jQOjekybU3iNA8/XZTcf+I0D+DCB1uh4kQAkkZpytPiRAFDusw6BeJEAfUvLqk34kQCppOBKHniRANoB+OXq+JEBAl8Rgbd4kQEyuCohg/iRAV8VQr1MeJUBi3JbWRj4lQG3z3P05XiVAeAojJS1+JUCDIWlMIJ4lQI44r3MTviVAmk/1mgbeJUCkZjvC+f0lQLB9gensHSZAu5THEOA9JkDGqw04010mQNHCU1/GfSZA3NmZhrmdJkDn8N+trL0mQPIHJtWf3SZA/h5s/JL9JkAINrIjhh0nQBRN+Ep5PSdAH2Q+cmxdJ0Aqe4SZX30nQDWSysBSnSdAQKkQ6EW9J0BMwFYPOd0nQFbXnDYs/SdAYu7iXR8dKEBsBSmFEj0oQHgcb6wFXShAgzO10/h8KEA=\",\"dtype\":\"float64\",\"shape\":[100]},\"top\":{\"__ndarray__\":\"bd9UDqzE7j+IxzyUnSDpPxtX+9grJ+o/fue5Hbot6z+IxzyUnSDpP7H/6EvkaOA/Va8kGo984z+oH2bVAHbiP3JPlskdvt0/sf/oS+Ro4D85X2DoOZDWP4p/3XFWndg/ck+WyR2+3T+Kf91xVp3YP6rXBrO58uE/DC8ZQAGx2z+Bn1r7cqraP4p/3XFWndg/hQ+ctuSj2T8MLxlAAbHbP7H/6EvkaNA/rY+nkHJv0T+Kf91xVp3IP4GfWvtyqso/cP/oS+RowD+tj6eQcm/RP54/414dg8Q/in/dcVadyD9MP+NeHYPEP3e/14SPt8w/nj/jXh2DxD+x/+hL5GjAP4p/3XFWnbg/d7/XhI+3vD+x/+hL5GigP5C+14SPt7w/in/dcVadqD+Kf91xVp24P4p/3XFWnbg/sf/oS+RokD+x/+hL5GjAP3e/14SPt7w/sf/oS+RosD+eP+NeHYO0P8Z+3XFWnag/sf/oS+RosD+Kf91xVp24P54/414dg7Q/sf/oS+RooD+eP+NeHYO0P7H/6EvkaLA/kL7XhI+3vD81AOlL5GiwP/o+414dg7Q/sf/oS+RosD+x/+hL5GigP4p/3XFWnbg/sf/oS+RokD+x/+hL5GigP4p/3XFWnag/xn7dcVadqD9QgN1xVp2oPy7/6EvkaKA/sf/oS+RooD+x/+hL5GigP7H/6EvkaJA/sf/oS+RokD+x/+hL5GiwP7H/6EvkaJA/Lv/oS+RokD81AOlL5GiQPwAAAAAAAAAAsf/oS+RokD8AAAAAAAAAAAAAAAAAAAAAAAAAAAAAAACx/+hL5GiQPwAAAAAAAAAAAAAAAAAAAAA1AOlL5GiQPy7/6EvkaJA/AAAAAAAAAACx/+hL5GigP7H/6EvkaJA/sf/oS+RokD+x/+hL5GiQPwAAAAAAAAAALv/oS+RokD8AAAAAAAAAAC7/6EvkaJA/sf/oS+RokD+x/+hL5GiQPwAAAAAAAAAAAAAAAAAAAAAu/+hL5GiQPwAAAAAAAAAAAAAAAAAAAAAAAAAAAAAAAAAAAAAAAAAAsf/oS+RokD8=\",\"dtype\":\"float64\",\"shape\":[100]}}},\"id\":\"965aa51e-1a9c-4bea-a1ba-d7abfb8ca61b\",\"type\":\"ColumnDataSource\"}],\"root_ids\":[\"b63ee98b-4b27-4096-9de3-5cea3cd62303\"]},\"title\":\"Bokeh Application\",\"version\":\"0.12.4\"}};\n",
       "            var render_items = [{\"docid\":\"3c0eaf7e-2d39-4e0e-bb5f-1e48d35a08fe\",\"elementid\":\"63c95d59-cd7b-4810-93d1-a931497d06f9\",\"modelid\":\"b63ee98b-4b27-4096-9de3-5cea3cd62303\"}];\n",
       "            \n",
       "            Bokeh.embed.embed_items(docs_json, render_items);\n",
       "          };\n",
       "          if (document.readyState != \"loading\") fn();\n",
       "          else document.addEventListener(\"DOMContentLoaded\", fn);\n",
       "        })();\n",
       "      },\n",
       "      function(Bokeh) {\n",
       "      }\n",
       "    ];\n",
       "  \n",
       "    function run_inline_js() {\n",
       "      \n",
       "      if ((window.Bokeh !== undefined) || (force === true)) {\n",
       "        for (var i = 0; i < inline_js.length; i++) {\n",
       "          inline_js[i](window.Bokeh);\n",
       "        }if (force === true) {\n",
       "          display_loaded();\n",
       "        }} else if (Date.now() < window._bokeh_timeout) {\n",
       "        setTimeout(run_inline_js, 100);\n",
       "      } else if (!window._bokeh_failed_load) {\n",
       "        console.log(\"Bokeh: BokehJS failed to load within specified timeout.\");\n",
       "        window._bokeh_failed_load = true;\n",
       "      } else if (force !== true) {\n",
       "        var cell = $(document.getElementById(\"63c95d59-cd7b-4810-93d1-a931497d06f9\")).parents('.cell').data().cell;\n",
       "        cell.output_area.append_execute_result(NB_LOAD_WARNING)\n",
       "      }\n",
       "  \n",
       "    }\n",
       "  \n",
       "    if (window._bokeh_is_loading === 0) {\n",
       "      console.log(\"Bokeh: BokehJS loaded, going straight to plotting\");\n",
       "      run_inline_js();\n",
       "    } else {\n",
       "      load_libs(js_urls, function() {\n",
       "        console.log(\"Bokeh: BokehJS plotting callback run at\", now());\n",
       "        run_inline_js();\n",
       "      });\n",
       "    }\n",
       "  }(this));\n",
       "</script>"
      ]
     },
     "metadata": {},
     "output_type": "display_data"
    }
   ],
   "source": [
    "hist, edges = np.histogram(np.log(counts_ted_top1000), density=True, bins=100, normed=True)\n",
    "\n",
    "p = figure(tools=\"pan,wheel_zoom,reset,save\",\n",
    "           toolbar_location=\"above\",\n",
    "           title=\"Top-1000 words distribution\")\n",
    "p.quad(top=hist, bottom=0, left=edges[:-1], right=edges[1:], line_color=\"#555555\")\n",
    "show(p)"
   ]
  },
  {
   "cell_type": "markdown",
   "metadata": {},
   "source": [
    "### Part 3: Train Word2Vec"
   ]
  },
  {
   "cell_type": "code",
   "execution_count": 17,
   "metadata": {},
   "outputs": [
    {
     "name": "stderr",
     "output_type": "stream",
     "text": [
      "C:\\ProgramData\\Anaconda3\\lib\\site-packages\\gensim\\utils.py:862: UserWarning: detected Windows; aliasing chunkize to chunkize_serial\n",
      "  warnings.warn(\"detected Windows; aliasing chunkize to chunkize_serial\")\n"
     ]
    }
   ],
   "source": [
    "from gensim.models import Word2Vec"
   ]
  },
  {
   "cell_type": "code",
   "execution_count": 18,
   "metadata": {},
   "outputs": [],
   "source": [
    "model_ted = Word2Vec(sentences_ted, size=100, window=5, min_count=5, workers=4)"
   ]
  },
  {
   "cell_type": "markdown",
   "metadata": {},
   "source": [
    "### Part 4: Ted Learnt Representations"
   ]
  },
  {
   "cell_type": "markdown",
   "metadata": {},
   "source": [
    "Finding similar words: (see gensim docs for more functionality of `most_similar`)"
   ]
  },
  {
   "cell_type": "code",
   "execution_count": 19,
   "metadata": {},
   "outputs": [
    {
     "data": {
      "text/plain": [
       "[('woman', 0.8434553146362305),\n",
       " ('guy', 0.8334395885467529),\n",
       " ('boy', 0.7573233842849731),\n",
       " ('lady', 0.7547436356544495),\n",
       " ('soldier', 0.7478539943695068),\n",
       " ('girl', 0.7353519797325134),\n",
       " ('gentleman', 0.7251615524291992),\n",
       " ('poet', 0.6711980104446411),\n",
       " ('john', 0.6692219376564026),\n",
       " ('kid', 0.6592816114425659)]"
      ]
     },
     "execution_count": 19,
     "metadata": {},
     "output_type": "execute_result"
    }
   ],
   "source": [
    "model_ted.most_similar(\"man\")"
   ]
  },
  {
   "cell_type": "code",
   "execution_count": 20,
   "metadata": {},
   "outputs": [
    {
     "data": {
      "text/plain": [
       "[('machine', 0.7319157719612122),\n",
       " ('software', 0.712874174118042),\n",
       " ('program', 0.6924588680267334),\n",
       " ('3d', 0.6876763701438904),\n",
       " ('robot', 0.667427659034729),\n",
       " ('printer', 0.6626852750778198),\n",
       " ('video', 0.6560510396957397),\n",
       " ('device', 0.6526011228561401),\n",
       " ('chip', 0.6485830545425415),\n",
       " ('camera', 0.6381588578224182)]"
      ]
     },
     "execution_count": 20,
     "metadata": {},
     "output_type": "execute_result"
    }
   ],
   "source": [
    "model_ted.most_similar(\"computer\")"
   ]
  },
  {
   "cell_type": "code",
   "execution_count": 21,
   "metadata": {},
   "outputs": [
    {
     "data": {
      "text/plain": [
       "[('organism', 0.7644995450973511),\n",
       " ('organ', 0.735634446144104),\n",
       " ('ant', 0.6900226473808289),\n",
       " ('neuron', 0.6851450204849243),\n",
       " ('gene', 0.6747211217880249),\n",
       " ('object', 0.6711485385894775),\n",
       " ('protein', 0.646078884601593),\n",
       " ('virus', 0.6381279230117798),\n",
       " ('ecosystem', 0.6279876828193665),\n",
       " ('individual', 0.6259214878082275)]"
      ]
     },
     "execution_count": 21,
     "metadata": {},
     "output_type": "execute_result"
    }
   ],
   "source": [
    "model_ted.most_similar(\"animal\")"
   ]
  },
  {
   "cell_type": "markdown",
   "metadata": {},
   "source": [
    "#### t-SNE visualization\n",
    "To use the t-SNE code below, first put a list of the top 1000 words (as strings) into a variable `words_top_ted`. The following code gets the corresponding vectors from the model, assuming it's called `model_ted`:"
   ]
  },
  {
   "cell_type": "code",
   "execution_count": 22,
   "metadata": {},
   "outputs": [],
   "source": [
    "# This assumes words_top_ted is a list of strings, the top 1000 words\n",
    "words_top_ted = words_ted_top1000\n",
    "words_top_vec_ted = model_ted[words_top_ted]"
   ]
  },
  {
   "cell_type": "code",
   "execution_count": 23,
   "metadata": {},
   "outputs": [],
   "source": [
    "from sklearn.manifold import TSNE\n",
    "tsne = TSNE(n_components=2, random_state=0)\n",
    "words_top_ted_tsne = tsne.fit_transform(words_top_vec_ted)"
   ]
  },
  {
   "cell_type": "code",
   "execution_count": 24,
   "metadata": {},
   "outputs": [
    {
     "data": {
      "text/html": [
       "\n",
       "\n",
       "    <div class=\"bk-root\">\n",
       "        <div class=\"bk-plotdiv\" id=\"1962a94e-3534-42bc-b091-d91d0f28b61c\"></div>\n",
       "    </div>\n",
       "<script type=\"text/javascript\">\n",
       "  \n",
       "  (function(global) {\n",
       "    function now() {\n",
       "      return new Date();\n",
       "    }\n",
       "  \n",
       "    var force = false;\n",
       "  \n",
       "    if (typeof (window._bokeh_onload_callbacks) === \"undefined\" || force === true) {\n",
       "      window._bokeh_onload_callbacks = [];\n",
       "      window._bokeh_is_loading = undefined;\n",
       "    }\n",
       "  \n",
       "  \n",
       "    \n",
       "    if (typeof (window._bokeh_timeout) === \"undefined\" || force === true) {\n",
       "      window._bokeh_timeout = Date.now() + 0;\n",
       "      window._bokeh_failed_load = false;\n",
       "    }\n",
       "  \n",
       "    var NB_LOAD_WARNING = {'data': {'text/html':\n",
       "       \"<div style='background-color: #fdd'>\\n\"+\n",
       "       \"<p>\\n\"+\n",
       "       \"BokehJS does not appear to have successfully loaded. If loading BokehJS from CDN, this \\n\"+\n",
       "       \"may be due to a slow or bad network connection. Possible fixes:\\n\"+\n",
       "       \"</p>\\n\"+\n",
       "       \"<ul>\\n\"+\n",
       "       \"<li>re-rerun `output_notebook()` to attempt to load from CDN again, or</li>\\n\"+\n",
       "       \"<li>use INLINE resources instead, as so:</li>\\n\"+\n",
       "       \"</ul>\\n\"+\n",
       "       \"<code>\\n\"+\n",
       "       \"from bokeh.resources import INLINE\\n\"+\n",
       "       \"output_notebook(resources=INLINE)\\n\"+\n",
       "       \"</code>\\n\"+\n",
       "       \"</div>\"}};\n",
       "  \n",
       "    function display_loaded() {\n",
       "      if (window.Bokeh !== undefined) {\n",
       "        document.getElementById(\"1962a94e-3534-42bc-b091-d91d0f28b61c\").textContent = \"BokehJS successfully loaded.\";\n",
       "      } else if (Date.now() < window._bokeh_timeout) {\n",
       "        setTimeout(display_loaded, 100)\n",
       "      }\n",
       "    }\n",
       "  \n",
       "    function run_callbacks() {\n",
       "      window._bokeh_onload_callbacks.forEach(function(callback) { callback() });\n",
       "      delete window._bokeh_onload_callbacks\n",
       "      console.info(\"Bokeh: all callbacks have finished\");\n",
       "    }\n",
       "  \n",
       "    function load_libs(js_urls, callback) {\n",
       "      window._bokeh_onload_callbacks.push(callback);\n",
       "      if (window._bokeh_is_loading > 0) {\n",
       "        console.log(\"Bokeh: BokehJS is being loaded, scheduling callback at\", now());\n",
       "        return null;\n",
       "      }\n",
       "      if (js_urls == null || js_urls.length === 0) {\n",
       "        run_callbacks();\n",
       "        return null;\n",
       "      }\n",
       "      console.log(\"Bokeh: BokehJS not loaded, scheduling load and callback at\", now());\n",
       "      window._bokeh_is_loading = js_urls.length;\n",
       "      for (var i = 0; i < js_urls.length; i++) {\n",
       "        var url = js_urls[i];\n",
       "        var s = document.createElement('script');\n",
       "        s.src = url;\n",
       "        s.async = false;\n",
       "        s.onreadystatechange = s.onload = function() {\n",
       "          window._bokeh_is_loading--;\n",
       "          if (window._bokeh_is_loading === 0) {\n",
       "            console.log(\"Bokeh: all BokehJS libraries loaded\");\n",
       "            run_callbacks()\n",
       "          }\n",
       "        };\n",
       "        s.onerror = function() {\n",
       "          console.warn(\"failed to load library \" + url);\n",
       "        };\n",
       "        console.log(\"Bokeh: injecting script tag for BokehJS library: \", url);\n",
       "        document.getElementsByTagName(\"head\")[0].appendChild(s);\n",
       "      }\n",
       "    };var element = document.getElementById(\"1962a94e-3534-42bc-b091-d91d0f28b61c\");\n",
       "    if (element == null) {\n",
       "      console.log(\"Bokeh: ERROR: autoload.js configured with elementid '1962a94e-3534-42bc-b091-d91d0f28b61c' but no matching script tag was found. \")\n",
       "      return false;\n",
       "    }\n",
       "  \n",
       "    var js_urls = [];\n",
       "  \n",
       "    var inline_js = [\n",
       "      function(Bokeh) {\n",
       "        (function() {\n",
       "          var fn = function() {\n",
       "            var docs_json = {\"2193d70f-78e4-4415-80ff-b20cc4b3771c\":{\"roots\":{\"references\":[{\"attributes\":{\"dimension\":1,\"plot\":{\"id\":\"e49b237c-b024-4207-a75d-82e33a5780f6\",\"subtype\":\"Figure\",\"type\":\"Plot\"},\"ticker\":{\"id\":\"48a03a19-9a26-4fa2-936e-74b5f212517e\",\"type\":\"BasicTicker\"}},\"id\":\"0d155063-d44f-4f6e-91fb-7cae626c3ab6\",\"type\":\"Grid\"},{\"attributes\":{\"fill_alpha\":{\"value\":0.1},\"fill_color\":{\"value\":\"#1f77b4\"},\"line_alpha\":{\"value\":0.1},\"line_color\":{\"value\":\"#1f77b4\"},\"size\":{\"units\":\"screen\",\"value\":8},\"x\":{\"field\":\"x1\"},\"y\":{\"field\":\"x2\"}},\"id\":\"b274258f-4f76-454e-96ee-07cc6031e6e4\",\"type\":\"Circle\"},{\"attributes\":{\"fill_color\":{\"value\":\"#1f77b4\"},\"line_color\":{\"value\":\"#1f77b4\"},\"size\":{\"units\":\"screen\",\"value\":8},\"x\":{\"field\":\"x1\"},\"y\":{\"field\":\"x2\"}},\"id\":\"ddbc24a6-f77e-4102-b50e-766dec50dd37\",\"type\":\"Circle\"},{\"attributes\":{\"plot\":{\"id\":\"e49b237c-b024-4207-a75d-82e33a5780f6\",\"subtype\":\"Figure\",\"type\":\"Plot\"}},\"id\":\"0877cc6d-e49c-4d56-9a80-2d66ccb27609\",\"type\":\"PanTool\"},{\"attributes\":{\"plot\":{\"id\":\"e49b237c-b024-4207-a75d-82e33a5780f6\",\"subtype\":\"Figure\",\"type\":\"Plot\"}},\"id\":\"92cb8d29-f40a-4825-81e6-58a5fc82c99b\",\"type\":\"WheelZoomTool\"},{\"attributes\":{\"plot\":{\"id\":\"e49b237c-b024-4207-a75d-82e33a5780f6\",\"subtype\":\"Figure\",\"type\":\"Plot\"}},\"id\":\"e2af209a-86e4-43ca-9ec4-bb075f061777\",\"type\":\"ResetTool\"},{\"attributes\":{\"plot\":{\"id\":\"e49b237c-b024-4207-a75d-82e33a5780f6\",\"subtype\":\"Figure\",\"type\":\"Plot\"}},\"id\":\"54e02a5f-a9e2-48d4-ae21-8b77ddde5127\",\"type\":\"SaveTool\"},{\"attributes\":{\"plot\":{\"id\":\"e49b237c-b024-4207-a75d-82e33a5780f6\",\"subtype\":\"Figure\",\"type\":\"Plot\"},\"source\":{\"id\":\"0e76c25e-0dcd-4338-ba38-1684c0f310d6\",\"type\":\"ColumnDataSource\"},\"text\":{\"field\":\"names\"},\"text_align\":\"center\",\"text_color\":{\"value\":\"#555555\"},\"text_font_size\":{\"value\":\"8pt\"},\"x\":{\"field\":\"x1\"},\"y\":{\"field\":\"x2\"},\"y_offset\":{\"value\":6}},\"id\":\"60d75b84-6cfa-4765-b1cc-1e9c80298082\",\"type\":\"LabelSet\"},{\"attributes\":{\"below\":[{\"id\":\"0d47e958-4924-4c01-9008-a2e818d1b68d\",\"type\":\"LinearAxis\"}],\"left\":[{\"id\":\"f83f1129-ba9e-488d-8630-f77c06315cbc\",\"type\":\"LinearAxis\"}],\"renderers\":[{\"id\":\"0d47e958-4924-4c01-9008-a2e818d1b68d\",\"type\":\"LinearAxis\"},{\"id\":\"b477d91f-48b8-4712-bf75-1fc512f877cd\",\"type\":\"Grid\"},{\"id\":\"f83f1129-ba9e-488d-8630-f77c06315cbc\",\"type\":\"LinearAxis\"},{\"id\":\"0d155063-d44f-4f6e-91fb-7cae626c3ab6\",\"type\":\"Grid\"},{\"id\":\"24d5247e-ec41-4416-b939-1ed9fbd22423\",\"type\":\"GlyphRenderer\"},{\"id\":\"60d75b84-6cfa-4765-b1cc-1e9c80298082\",\"type\":\"LabelSet\"}],\"title\":{\"id\":\"b5d34a70-34e8-4e78-aaaf-46a4a2646113\",\"type\":\"Title\"},\"tool_events\":{\"id\":\"d8c3e335-3960-4e93-83ae-b932a45e87d2\",\"type\":\"ToolEvents\"},\"toolbar\":{\"id\":\"3c7d8365-ab2e-48cf-9dc9-cb73ee263c55\",\"type\":\"Toolbar\"},\"toolbar_location\":\"above\",\"x_range\":{\"id\":\"7cb378c6-70c6-4aac-bdec-6e41eaae0497\",\"type\":\"DataRange1d\"},\"y_range\":{\"id\":\"5e9a8b2b-43ff-4bb3-9a24-e1a99ae6fc56\",\"type\":\"DataRange1d\"}},\"id\":\"e49b237c-b024-4207-a75d-82e33a5780f6\",\"subtype\":\"Figure\",\"type\":\"Plot\"},{\"attributes\":{\"callback\":null,\"column_names\":[\"x1\",\"x2\",\"names\"],\"data\":{\"names\":[\"the\",\"and\",\"to\",\"of\",\"a\",\"that\",\"i\",\"in\",\"it\",\"you\",\"we\",\"is\",\"s\",\"this\",\"so\",\"they\",\"was\",\"for\",\"are\",\"have\",\"but\",\"what\",\"on\",\"with\",\"can\",\"t\",\"about\",\"there\",\"be\",\"as\",\"at\",\"all\",\"not\",\"do\",\"my\",\"one\",\"re\",\"people\",\"like\",\"if\",\"from\",\"now\",\"our\",\"he\",\"an\",\"just\",\"these\",\"or\",\"when\",\"because\",\"very\",\"me\",\"out\",\"by\",\"them\",\"how\",\"know\",\"up\",\"going\",\"had\",\"more\",\"think\",\"who\",\"were\",\"see\",\"your\",\"their\",\"which\",\"would\",\"here\",\"really\",\"get\",\"ve\",\"then\",\"m\",\"world\",\"us\",\"time\",\"some\",\"has\",\"don\",\"actually\",\"into\",\"way\",\"where\",\"will\",\"years\",\"things\",\"other\",\"no\",\"could\",\"go\",\"well\",\"want\",\"been\",\"make\",\"right\",\"she\",\"said\",\"something\",\"those\",\"first\",\"two\",\"than\",\"much\",\"also\",\"look\",\"new\",\"thing\",\"little\",\"got\",\"back\",\"over\",\"most\",\"say\",\"even\",\"his\",\"life\",\"only\",\"work\",\"many\",\"take\",\"need\",\"did\",\"lot\",\"kind\",\"why\",\"good\",\"around\",\"every\",\"different\",\"down\",\"ll\",\"let\",\"her\",\"through\",\"same\",\"being\",\"come\",\"d\",\"day\",\"year\",\"three\",\"use\",\"doing\",\"put\",\"called\",\"any\",\"today\",\"percent\",\"made\",\"after\",\"thank\",\"tell\",\"great\",\"human\",\"find\",\"didn\",\"fact\",\"talk\",\"change\",\"started\",\"another\",\"idea\",\"big\",\"last\",\"own\",\"before\",\"its\",\"never\",\"should\",\"better\",\"give\",\"thought\",\"went\",\"might\",\"important\",\"000\",\"again\",\"able\",\"together\",\"still\",\"problem\",\"off\",\"next\",\"part\",\"course\",\"system\",\"him\",\"does\",\"each\",\"start\",\"show\",\"long\",\"ago\",\"story\",\"came\",\"brain\",\"few\",\"bit\",\"between\",\"used\",\"place\",\"technology\",\"women\",\"too\",\"old\",\"mean\",\"data\",\"water\",\"looking\",\"question\",\"maybe\",\"found\",\"love\",\"doesn\",\"end\",\"example\",\"10\",\"done\",\"point\",\"four\",\"real\",\"wanted\",\"ever\",\"school\",\"understand\",\"sort\",\"live\",\"call\",\"whole\",\"children\",\"always\",\"trying\",\"may\",\"person\",\"away\",\"believe\",\"feel\",\"try\",\"million\",\"working\",\"help\",\"everything\",\"five\",\"country\",\"thinking\",\"second\",\"using\",\"information\",\"money\",\"means\",\"power\",\"took\",\"times\",\"high\",\"space\",\"number\",\"kids\",\"home\",\"become\",\"create\",\"small\",\"design\",\"making\",\"best\",\"left\",\"getting\",\"future\",\"enough\",\"man\",\"quite\",\"city\",\"without\",\"sense\",\"happened\",\"comes\",\"social\",\"probably\",\"less\",\"light\",\"talking\",\"energy\",\"am\",\"building\",\"science\",\"food\",\"body\",\"told\",\"interesting\",\"ask\",\"half\",\"pretty\",\"hard\",\"play\",\"anything\",\"lives\",\"countries\",\"coming\",\"such\",\"family\",\"stuff\",\"dollars\",\"earth\",\"moment\",\"20\",\"imagine\",\"across\",\"side\",\"while\",\"saw\",\"happen\",\"once\",\"okay\",\"build\",\"having\",\"men\",\"later\",\"experience\",\"makes\",\"asked\",\"living\",\"seen\",\"says\",\"room\",\"hand\",\"simple\",\"health\",\"ways\",\"else\",\"case\",\"yet\",\"almost\",\"young\",\"days\",\"nothing\",\"care\",\"bad\",\"happens\",\"goes\",\"move\",\"states\",\"reason\",\"computer\",\"open\",\"learn\",\"africa\",\"process\",\"inside\",\"someone\",\"six\",\"far\",\"mind\",\"project\",\"remember\",\"single\",\"picture\",\"both\",\"whether\",\"problems\",\"saying\",\"community\",\"basically\",\"already\",\"within\",\"looked\",\"myself\",\"billion\",\"often\",\"possible\",\"business\",\"planet\",\"global\",\"everybody\",\"top\",\"sure\",\"public\",\"set\",\"wrong\",\"car\",\"book\",\"keep\",\"yes\",\"answer\",\"oh\",\"hope\",\"sometimes\",\"true\",\"history\",\"war\",\"guy\",\"child\",\"instead\",\"months\",\"ideas\",\"looks\",\"matter\",\"government\",\"amazing\",\"united\",\"since\",\"bring\",\"age\",\"cells\",\"job\",\"heard\",\"until\",\"face\",\"wasn\",\"100\",\"read\",\"control\",\"isn\",\"research\",\"30\",\"words\",\"u\",\"group\",\"under\",\"self\",\"somebody\",\"built\",\"state\",\"woman\",\"turn\",\"friends\",\"beautiful\",\"line\",\"knew\",\"couple\",\"order\",\"form\",\"yeah\",\"internet\",\"middle\",\"music\",\"piece\",\"nature\",\"head\",\"though\",\"stop\",\"everyone\",\"50\",\"places\",\"video\",\"learned\",\"language\",\"run\",\"night\",\"decided\",\"study\",\"word\",\"cancer\",\"taking\",\"works\",\"became\",\"exactly\",\"species\",\"society\",\"completely\",\"education\",\"against\",\"stories\",\"large\",\"share\",\"level\",\"heart\",\"america\",\"model\",\"questions\",\"gets\",\"mother\",\"god\",\"company\",\"turns\",\"ourselves\",\"happening\",\"hear\",\"art\",\"themselves\",\"must\",\"itself\",\"rather\",\"kinds\",\"students\",\"name\",\"hours\",\"disease\",\"front\",\"house\",\"huge\",\"couldn\",\"created\",\"universe\",\"ok\",\"animals\",\"american\",\"environment\",\"worked\",\"minutes\",\"ones\",\"black\",\"perhaps\",\"1\",\"past\",\"third\",\"along\",\"others\",\"finally\",\"sound\",\"early\",\"game\",\"thousands\",\"century\",\"based\",\"least\",\"per\",\"ted\",\"lots\",\"figure\",\"free\",\"guys\",\"particular\",\"happy\",\"news\",\"learning\",\"entire\",\"won\",\"gave\",\"machine\",\"india\",\"during\",\"systems\",\"air\",\"difference\",\"outside\",\"natural\",\"taken\",\"seven\",\"given\",\"changed\",\"leave\",\"cell\",\"15\",\"close\",\"behind\",\"cities\",\"full\",\"scale\",\"difficult\",\"china\",\"takes\",\"companies\",\"yourself\",\"area\",\"reality\",\"seeing\",\"easy\",\"turned\",\"cost\",\"eyes\",\"team\",\"moving\",\"population\",\"culture\",\"york\",\"hands\",\"whatever\",\"began\",\"needs\",\"terms\",\"image\",\"simply\",\"needed\",\"beginning\",\"father\",\"local\",\"realized\",\"media\",\"death\",\"parents\",\"view\",\"walk\",\"white\",\"market\",\"parts\",\"ocean\",\"economic\",\"eight\",\"powerful\",\"known\",\"week\",\"size\",\"felt\",\"humans\",\"certain\",\"spend\",\"longer\",\"phone\",\"wonderful\",\"cannot\",\"grow\",\"common\",\"center\",\"tried\",\"fish\",\"land\",\"oil\",\"political\",\"interested\",\"deal\",\"red\",\"gone\",\"amount\",\"weeks\",\"spent\",\"opportunity\",\"paper\",\"lost\",\"national\",\"quickly\",\"blue\",\"step\",\"poor\",\"green\",\"buy\",\"growth\",\"wouldn\",\"either\",\"patients\",\"sitting\",\"ability\",\"changes\",\"write\",\"challenge\",\"south\",\"low\",\"growing\",\"friend\",\"field\",\"shows\",\"2\",\"born\",\"rest\",\"climate\",\"40\",\"test\",\"street\",\"surface\",\"incredible\",\"average\",\"physical\",\"morning\",\"scientists\",\"program\",\"pay\",\"value\",\"feeling\",\"hundreds\",\"girl\",\"met\",\"behavior\",\"economy\",\"dna\",\"complex\",\"access\",\"risk\",\"animal\",\"structure\",\"feet\",\"attention\",\"areas\",\"anyone\",\"deep\",\"watch\",\"short\",\"absolutely\",\"speak\",\"brought\",\"die\",\"bottom\",\"numbers\",\"audience\",\"stage\",\"realize\",\"law\",\"images\",\"wrote\",\"understanding\",\"knowledge\",\"literally\",\"books\",\"movement\",\"ground\",\"giving\",\"eat\",\"force\",\"seems\",\"alone\",\"telling\",\"starting\",\"hold\",\"nice\",\"forward\",\"sea\",\"developed\",\"individual\",\"kid\",\"millions\",\"support\",\"miles\",\"tools\",\"running\",\"online\",\"result\",\"act\",\"medical\",\"technologies\",\"north\",\"lab\",\"development\",\"blood\",\"fear\",\"nobody\",\"map\",\"personal\",\"issue\",\"voice\",\"material\",\"key\",\"12\",\"recently\",\"theory\",\"cut\",\"cars\",\"sun\",\"fast\",\"changing\",\"playing\",\"clear\",\"especially\",\"soon\",\"girls\",\"patient\",\"choice\",\"fly\",\"creating\",\"normal\",\"discovered\",\"europe\",\"talked\",\"relationship\",\"gives\",\"generation\",\"dark\",\"type\",\"showed\",\"chance\",\"seem\",\"industry\",\"asking\",\"rate\",\"fun\",\"issues\",\"color\",\"designed\",\"hour\",\"university\",\"innovation\",\"several\",\"class\",\"computers\",\"english\",\"tiny\",\"allow\",\"save\",\"focus\",\"digital\",\"solve\",\"developing\",\"network\",\"film\",\"special\",\"wall\",\"situation\",\"baby\",\"solution\",\"reasons\",\"box\",\"knows\",\"meet\",\"dead\",\"stand\",\"begin\",\"haven\",\"impact\",\"anybody\",\"term\",\"beyond\",\"pictures\",\"please\",\"ice\",\"produce\",\"shape\",\"non\",\"resources\",\"robot\",\"cool\",\"groups\",\"likely\",\"stay\",\"available\",\"truth\",\"rights\",\"major\",\"cause\",\"evidence\",\"obviously\",\"writing\",\"experiment\",\"modern\",\"drug\",\"becomes\",\"incredibly\",\"aren\",\"bigger\",\"guess\",\"nine\",\"product\",\"drugs\",\"lived\",\"involved\",\"perfect\",\"google\",\"month\",\"effect\",\"similar\",\"putting\",\"eye\",\"pick\",\"message\",\"quality\",\"violence\",\"web\",\"evolution\",\"security\",\"office\",\"basic\",\"solar\",\"indeed\",\"general\",\"towards\",\"present\",\"drive\",\"send\",\"listen\",\"worth\",\"revolution\",\"explain\",\"hundred\",\"certainly\",\"died\",\"ready\",\"teach\",\"journey\",\"25\",\"hit\",\"walking\",\"led\",\"approach\",\"international\",\"200\",\"scientific\",\"games\",\"60\",\"potential\",\"crazy\",\"communities\",\"chinese\",\"device\",\"source\",\"camera\",\"rules\",\"sex\",\"carbon\",\"sounds\",\"boy\",\"reach\",\"starts\",\"examples\",\"west\",\"3\",\"success\",\"measure\",\"particularly\",\"software\",\"totally\",\"suddenly\",\"action\",\"college\",\"higher\",\"code\",\"eventually\",\"democracy\",\"among\",\"minute\",\"sit\",\"largest\",\"showing\",\"hospital\",\"notice\",\"period\",\"mass\",\"develop\",\"dream\",\"onto\",\"plants\",\"break\",\"add\",\"memory\",\"everywhere\",\"favorite\",\"11\",\"zero\",\"speed\",\"schools\",\"moved\",\"response\",\"wants\",\"extremely\",\"movie\",\"individuals\",\"table\",\"wait\",\"medicine\",\"follow\",\"anyway\",\"trust\",\"plant\",\"biggest\",\"watching\",\"organization\",\"creative\",\"road\",\"choose\",\"worse\",\"lead\",\"results\",\"500\",\"exciting\",\"grew\",\"materials\",\"jobs\",\"plan\",\"east\",\"poverty\",\"positive\",\"safe\",\"strong\",\"fall\",\"essentially\",\"object\",\"door\",\"son\",\"vision\",\"further\",\"happiness\",\"continue\",\"student\",\"doctor\",\"including\",\"named\",\"role\",\"objects\",\"extraordinary\",\"standing\",\"skin\",\"leaders\",\"usually\",\"african\",\"conversation\",\"projects\",\"allowed\",\"models\",\"supposed\",\"faster\",\"interest\",\"families\",\"police\",\"fight\",\"tree\",\"connected\",\"screen\",\"5\",\"cases\",\"goal\",\"somewhere\",\"finding\",\"buildings\",\"shown\"],\"x1\":{\"__ndarray__\":\"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\",\"dtype\":\"float64\",\"shape\":[1000]},\"x2\":{\"__ndarray__\":\"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\",\"dtype\":\"float64\",\"shape\":[1000]}}},\"id\":\"0e76c25e-0dcd-4338-ba38-1684c0f310d6\",\"type\":\"ColumnDataSource\"},{\"attributes\":{\"plot\":null,\"text\":\"word2vec T-SNE for most common words\"},\"id\":\"b5d34a70-34e8-4e78-aaaf-46a4a2646113\",\"type\":\"Title\"},{\"attributes\":{\"callback\":null},\"id\":\"7cb378c6-70c6-4aac-bdec-6e41eaae0497\",\"type\":\"DataRange1d\"},{\"attributes\":{},\"id\":\"d8c3e335-3960-4e93-83ae-b932a45e87d2\",\"type\":\"ToolEvents\"},{\"attributes\":{\"active_drag\":\"auto\",\"active_scroll\":\"auto\",\"active_tap\":\"auto\",\"tools\":[{\"id\":\"0877cc6d-e49c-4d56-9a80-2d66ccb27609\",\"type\":\"PanTool\"},{\"id\":\"92cb8d29-f40a-4825-81e6-58a5fc82c99b\",\"type\":\"WheelZoomTool\"},{\"id\":\"e2af209a-86e4-43ca-9ec4-bb075f061777\",\"type\":\"ResetTool\"},{\"id\":\"54e02a5f-a9e2-48d4-ae21-8b77ddde5127\",\"type\":\"SaveTool\"}]},\"id\":\"3c7d8365-ab2e-48cf-9dc9-cb73ee263c55\",\"type\":\"Toolbar\"},{\"attributes\":{},\"id\":\"79521425-c411-43c6-917f-15888ad983dd\",\"type\":\"BasicTickFormatter\"},{\"attributes\":{},\"id\":\"48a03a19-9a26-4fa2-936e-74b5f212517e\",\"type\":\"BasicTicker\"},{\"attributes\":{\"data_source\":{\"id\":\"0e76c25e-0dcd-4338-ba38-1684c0f310d6\",\"type\":\"ColumnDataSource\"},\"glyph\":{\"id\":\"ddbc24a6-f77e-4102-b50e-766dec50dd37\",\"type\":\"Circle\"},\"hover_glyph\":null,\"nonselection_glyph\":{\"id\":\"b274258f-4f76-454e-96ee-07cc6031e6e4\",\"type\":\"Circle\"},\"selection_glyph\":null},\"id\":\"24d5247e-ec41-4416-b939-1ed9fbd22423\",\"type\":\"GlyphRenderer\"},{\"attributes\":{\"callback\":null},\"id\":\"5e9a8b2b-43ff-4bb3-9a24-e1a99ae6fc56\",\"type\":\"DataRange1d\"},{\"attributes\":{\"formatter\":{\"id\":\"34682fd5-2c64-4d30-8b0b-7232875f0e01\",\"type\":\"BasicTickFormatter\"},\"plot\":{\"id\":\"e49b237c-b024-4207-a75d-82e33a5780f6\",\"subtype\":\"Figure\",\"type\":\"Plot\"},\"ticker\":{\"id\":\"41551d3d-d82d-4f36-9bf5-c2c13799aa12\",\"type\":\"BasicTicker\"}},\"id\":\"0d47e958-4924-4c01-9008-a2e818d1b68d\",\"type\":\"LinearAxis\"},{\"attributes\":{},\"id\":\"41551d3d-d82d-4f36-9bf5-c2c13799aa12\",\"type\":\"BasicTicker\"},{\"attributes\":{\"plot\":{\"id\":\"e49b237c-b024-4207-a75d-82e33a5780f6\",\"subtype\":\"Figure\",\"type\":\"Plot\"},\"ticker\":{\"id\":\"41551d3d-d82d-4f36-9bf5-c2c13799aa12\",\"type\":\"BasicTicker\"}},\"id\":\"b477d91f-48b8-4712-bf75-1fc512f877cd\",\"type\":\"Grid\"},{\"attributes\":{\"formatter\":{\"id\":\"79521425-c411-43c6-917f-15888ad983dd\",\"type\":\"BasicTickFormatter\"},\"plot\":{\"id\":\"e49b237c-b024-4207-a75d-82e33a5780f6\",\"subtype\":\"Figure\",\"type\":\"Plot\"},\"ticker\":{\"id\":\"48a03a19-9a26-4fa2-936e-74b5f212517e\",\"type\":\"BasicTicker\"}},\"id\":\"f83f1129-ba9e-488d-8630-f77c06315cbc\",\"type\":\"LinearAxis\"},{\"attributes\":{},\"id\":\"34682fd5-2c64-4d30-8b0b-7232875f0e01\",\"type\":\"BasicTickFormatter\"}],\"root_ids\":[\"e49b237c-b024-4207-a75d-82e33a5780f6\"]},\"title\":\"Bokeh Application\",\"version\":\"0.12.4\"}};\n",
       "            var render_items = [{\"docid\":\"2193d70f-78e4-4415-80ff-b20cc4b3771c\",\"elementid\":\"1962a94e-3534-42bc-b091-d91d0f28b61c\",\"modelid\":\"e49b237c-b024-4207-a75d-82e33a5780f6\"}];\n",
       "            \n",
       "            Bokeh.embed.embed_items(docs_json, render_items);\n",
       "          };\n",
       "          if (document.readyState != \"loading\") fn();\n",
       "          else document.addEventListener(\"DOMContentLoaded\", fn);\n",
       "        })();\n",
       "      },\n",
       "      function(Bokeh) {\n",
       "      }\n",
       "    ];\n",
       "  \n",
       "    function run_inline_js() {\n",
       "      \n",
       "      if ((window.Bokeh !== undefined) || (force === true)) {\n",
       "        for (var i = 0; i < inline_js.length; i++) {\n",
       "          inline_js[i](window.Bokeh);\n",
       "        }if (force === true) {\n",
       "          display_loaded();\n",
       "        }} else if (Date.now() < window._bokeh_timeout) {\n",
       "        setTimeout(run_inline_js, 100);\n",
       "      } else if (!window._bokeh_failed_load) {\n",
       "        console.log(\"Bokeh: BokehJS failed to load within specified timeout.\");\n",
       "        window._bokeh_failed_load = true;\n",
       "      } else if (force !== true) {\n",
       "        var cell = $(document.getElementById(\"1962a94e-3534-42bc-b091-d91d0f28b61c\")).parents('.cell').data().cell;\n",
       "        cell.output_area.append_execute_result(NB_LOAD_WARNING)\n",
       "      }\n",
       "  \n",
       "    }\n",
       "  \n",
       "    if (window._bokeh_is_loading === 0) {\n",
       "      console.log(\"Bokeh: BokehJS loaded, going straight to plotting\");\n",
       "      run_inline_js();\n",
       "    } else {\n",
       "      load_libs(js_urls, function() {\n",
       "        console.log(\"Bokeh: BokehJS plotting callback run at\", now());\n",
       "        run_inline_js();\n",
       "      });\n",
       "    }\n",
       "  }(this));\n",
       "</script>"
      ]
     },
     "metadata": {},
     "output_type": "display_data"
    }
   ],
   "source": [
    "p = figure(tools=\"pan,wheel_zoom,reset,save\",\n",
    "           toolbar_location=\"above\",\n",
    "           title=\"word2vec T-SNE for most common words\")\n",
    "\n",
    "source = ColumnDataSource(data=dict(x1=words_top_ted_tsne[:,0],\n",
    "                                    x2=words_top_ted_tsne[:,1],\n",
    "                                    names=words_top_ted))\n",
    "\n",
    "p.scatter(x=\"x1\", y=\"x2\", size=8, source=source)\n",
    "\n",
    "labels = LabelSet(x=\"x1\", y=\"x2\", text=\"names\", y_offset=6,\n",
    "                  text_font_size=\"8pt\", text_color=\"#555555\",\n",
    "                  source=source, text_align='center')\n",
    "p.add_layout(labels)\n",
    "\n",
    "show(p)"
   ]
  },
  {
   "cell_type": "markdown",
   "metadata": {},
   "source": [
    "### Part 5: Wiki Learnt Representations"
   ]
  },
  {
   "cell_type": "markdown",
   "metadata": {},
   "source": [
    "Download dataset"
   ]
  },
  {
   "cell_type": "code",
   "execution_count": 25,
   "metadata": {},
   "outputs": [],
   "source": [
    "if not os.path.isfile('wikitext.zip'):\n",
    "    urllib.request.urlretrieve(\"https://s3.amazonaws.com/research.metamind.io/wikitext/wikitext-103-raw-v1.zip\", filename=\"wikitext-103-raw-v1.zip\")"
   ]
  },
  {
   "cell_type": "code",
   "execution_count": 26,
   "metadata": {},
   "outputs": [],
   "source": [
    "with zipfile.ZipFile('wikitext-103-raw-v1.zip', 'r') as z:\n",
    "    input_text = str(z.open('wikitext-103-raw/wiki.train.raw', 'r').read(), encoding='utf-8') # Thanks Robert Bastian"
   ]
  },
  {
   "cell_type": "markdown",
   "metadata": {},
   "source": [
    "Preprocess sentences (note that it's important to remove small sentences for performance)"
   ]
  },
  {
   "cell_type": "code",
   "execution_count": 27,
   "metadata": {},
   "outputs": [],
   "source": [
    "sentences_wiki = []\n",
    "for line in input_text.split('\\n'):\n",
    "    s = [x for x in line.split('.') if x and len(x.split()) >= 5]\n",
    "    sentences_wiki.extend(s)\n",
    "    \n",
    "for s_i in range(len(sentences_wiki)):\n",
    "    sentences_wiki[s_i] = re.sub(\"[^a-z]\", \" \", sentences_wiki[s_i].lower())\n",
    "    sentences_wiki[s_i] = re.sub(r'\\([^)]*\\)', '', sentences_wiki[s_i])\n",
    "del input_text"
   ]
  },
  {
   "cell_type": "code",
   "execution_count": 28,
   "metadata": {},
   "outputs": [
    {
     "name": "stdout",
     "output_type": "stream",
     "text": [
      "4267112\n",
      "853422\n"
     ]
    }
   ],
   "source": [
    "# sample 1/5 of the data\n",
    "shuffle(sentences_wiki)\n",
    "print(len(sentences_wiki))\n",
    "sentences_wiki = sentences_wiki[:int(len(sentences_wiki)/5)]\n",
    "print(len(sentences_wiki))"
   ]
  },
  {
   "cell_type": "markdown",
   "metadata": {},
   "source": [
    "Now, repeat all the same steps that you performed above. You should be able to reuse essentially all the code."
   ]
  },
  {
   "cell_type": "code",
   "execution_count": 47,
   "metadata": {
    "collapsed": true
   },
   "outputs": [],
   "source": [
    "counts_wiki = {}\n",
    "for sentence in sentences_wiki:\n",
    "    for word in sentence:\n",
    "        if word in counts_wiki:\n",
    "            counts_wiki[word] += 1\n",
    "        else:\n",
    "            counts_wiki[word] = 1"
   ]
  },
  {
   "cell_type": "code",
   "execution_count": 53,
   "metadata": {},
   "outputs": [
    {
     "name": "stdout",
     "output_type": "stream",
     "text": [
      "[24831720, 9901755, 7150853, 7029977, 5980974, 5959059, 5843069, 5393472, 5347208, 3969734]\n"
     ]
    }
   ],
   "source": [
    "words_top_wiki = sorted(counts_wiki, reverse=True, key=counts_wiki.__getitem__)\n",
    "counts_wiki_top1000 = [counts_wiki[word] for word in words_top_wiki[:1000]]\n",
    "print(counts_wiki_top1000[:10])"
   ]
  },
  {
   "cell_type": "code",
   "execution_count": 56,
   "metadata": {},
   "outputs": [
    {
     "data": {
      "text/html": [
       "\n",
       "\n",
       "    <div class=\"bk-root\">\n",
       "        <div class=\"bk-plotdiv\" id=\"b2118eec-cbea-4ceb-95fd-1034936710b0\"></div>\n",
       "    </div>\n",
       "<script type=\"text/javascript\">\n",
       "  \n",
       "  (function(global) {\n",
       "    function now() {\n",
       "      return new Date();\n",
       "    }\n",
       "  \n",
       "    var force = false;\n",
       "  \n",
       "    if (typeof (window._bokeh_onload_callbacks) === \"undefined\" || force === true) {\n",
       "      window._bokeh_onload_callbacks = [];\n",
       "      window._bokeh_is_loading = undefined;\n",
       "    }\n",
       "  \n",
       "  \n",
       "    \n",
       "    if (typeof (window._bokeh_timeout) === \"undefined\" || force === true) {\n",
       "      window._bokeh_timeout = Date.now() + 0;\n",
       "      window._bokeh_failed_load = false;\n",
       "    }\n",
       "  \n",
       "    var NB_LOAD_WARNING = {'data': {'text/html':\n",
       "       \"<div style='background-color: #fdd'>\\n\"+\n",
       "       \"<p>\\n\"+\n",
       "       \"BokehJS does not appear to have successfully loaded. If loading BokehJS from CDN, this \\n\"+\n",
       "       \"may be due to a slow or bad network connection. Possible fixes:\\n\"+\n",
       "       \"</p>\\n\"+\n",
       "       \"<ul>\\n\"+\n",
       "       \"<li>re-rerun `output_notebook()` to attempt to load from CDN again, or</li>\\n\"+\n",
       "       \"<li>use INLINE resources instead, as so:</li>\\n\"+\n",
       "       \"</ul>\\n\"+\n",
       "       \"<code>\\n\"+\n",
       "       \"from bokeh.resources import INLINE\\n\"+\n",
       "       \"output_notebook(resources=INLINE)\\n\"+\n",
       "       \"</code>\\n\"+\n",
       "       \"</div>\"}};\n",
       "  \n",
       "    function display_loaded() {\n",
       "      if (window.Bokeh !== undefined) {\n",
       "        document.getElementById(\"b2118eec-cbea-4ceb-95fd-1034936710b0\").textContent = \"BokehJS successfully loaded.\";\n",
       "      } else if (Date.now() < window._bokeh_timeout) {\n",
       "        setTimeout(display_loaded, 100)\n",
       "      }\n",
       "    }\n",
       "  \n",
       "    function run_callbacks() {\n",
       "      window._bokeh_onload_callbacks.forEach(function(callback) { callback() });\n",
       "      delete window._bokeh_onload_callbacks\n",
       "      console.info(\"Bokeh: all callbacks have finished\");\n",
       "    }\n",
       "  \n",
       "    function load_libs(js_urls, callback) {\n",
       "      window._bokeh_onload_callbacks.push(callback);\n",
       "      if (window._bokeh_is_loading > 0) {\n",
       "        console.log(\"Bokeh: BokehJS is being loaded, scheduling callback at\", now());\n",
       "        return null;\n",
       "      }\n",
       "      if (js_urls == null || js_urls.length === 0) {\n",
       "        run_callbacks();\n",
       "        return null;\n",
       "      }\n",
       "      console.log(\"Bokeh: BokehJS not loaded, scheduling load and callback at\", now());\n",
       "      window._bokeh_is_loading = js_urls.length;\n",
       "      for (var i = 0; i < js_urls.length; i++) {\n",
       "        var url = js_urls[i];\n",
       "        var s = document.createElement('script');\n",
       "        s.src = url;\n",
       "        s.async = false;\n",
       "        s.onreadystatechange = s.onload = function() {\n",
       "          window._bokeh_is_loading--;\n",
       "          if (window._bokeh_is_loading === 0) {\n",
       "            console.log(\"Bokeh: all BokehJS libraries loaded\");\n",
       "            run_callbacks()\n",
       "          }\n",
       "        };\n",
       "        s.onerror = function() {\n",
       "          console.warn(\"failed to load library \" + url);\n",
       "        };\n",
       "        console.log(\"Bokeh: injecting script tag for BokehJS library: \", url);\n",
       "        document.getElementsByTagName(\"head\")[0].appendChild(s);\n",
       "      }\n",
       "    };var element = document.getElementById(\"b2118eec-cbea-4ceb-95fd-1034936710b0\");\n",
       "    if (element == null) {\n",
       "      console.log(\"Bokeh: ERROR: autoload.js configured with elementid 'b2118eec-cbea-4ceb-95fd-1034936710b0' but no matching script tag was found. \")\n",
       "      return false;\n",
       "    }\n",
       "  \n",
       "    var js_urls = [];\n",
       "  \n",
       "    var inline_js = [\n",
       "      function(Bokeh) {\n",
       "        (function() {\n",
       "          var fn = function() {\n",
       "            var docs_json = {\"a5924e12-b49f-447e-94b0-5038c1decbd3\":{\"roots\":{\"references\":[{\"attributes\":{\"plot\":{\"id\":\"68144407-7861-483f-ad30-29239dce84cf\",\"subtype\":\"Figure\",\"type\":\"Plot\"}},\"id\":\"04c712bd-5b27-4ddc-9155-795ecebbd017\",\"type\":\"PanTool\"},{\"attributes\":{\"plot\":null,\"text\":\"Top-1000 words distribution\"},\"id\":\"fc015d0c-d787-4fe7-90f7-fd8d11923968\",\"type\":\"Title\"},{\"attributes\":{\"data_source\":{\"id\":\"ebec8cc4-4f7c-4072-b4d8-00292736af63\",\"type\":\"ColumnDataSource\"},\"glyph\":{\"id\":\"79d5c207-5f9d-4322-be65-29af315c56d1\",\"type\":\"Quad\"},\"hover_glyph\":null,\"nonselection_glyph\":{\"id\":\"c26cac0c-42b4-4cca-b9cf-4e2bced8f278\",\"type\":\"Quad\"},\"selection_glyph\":null},\"id\":\"1baff476-d44a-426e-80dc-dff12076d8d2\",\"type\":\"GlyphRenderer\"},{\"attributes\":{},\"id\":\"0fedffd8-5753-4f4f-98dd-e05490b060b7\",\"type\":\"ToolEvents\"},{\"attributes\":{},\"id\":\"82d39b44-8310-4c35-8861-c90493a16687\",\"type\":\"BasicTicker\"},{\"attributes\":{},\"id\":\"7eb4afd2-9a62-4537-bb63-01e738c85b4a\",\"type\":\"BasicTickFormatter\"},{\"attributes\":{\"formatter\":{\"id\":\"7eb4afd2-9a62-4537-bb63-01e738c85b4a\",\"type\":\"BasicTickFormatter\"},\"plot\":{\"id\":\"68144407-7861-483f-ad30-29239dce84cf\",\"subtype\":\"Figure\",\"type\":\"Plot\"},\"ticker\":{\"id\":\"82d39b44-8310-4c35-8861-c90493a16687\",\"type\":\"BasicTicker\"}},\"id\":\"5a3a6dc6-d5d5-46f0-9238-5eca94612122\",\"type\":\"LinearAxis\"},{\"attributes\":{\"active_drag\":\"auto\",\"active_scroll\":\"auto\",\"active_tap\":\"auto\",\"tools\":[{\"id\":\"04c712bd-5b27-4ddc-9155-795ecebbd017\",\"type\":\"PanTool\"},{\"id\":\"8dc9c176-1ce4-4bf1-9850-0fb753fd9b90\",\"type\":\"WheelZoomTool\"},{\"id\":\"3f1561d9-25b9-4307-9549-7a3b97fd03dc\",\"type\":\"ResetTool\"},{\"id\":\"2415902c-b7f4-4e32-ae01-c9fb6efca356\",\"type\":\"SaveTool\"}]},\"id\":\"9963120e-0a9c-4171-9167-1169d5a4dbfe\",\"type\":\"Toolbar\"},{\"attributes\":{\"callback\":null},\"id\":\"e73f510a-01c0-435c-8537-9ef596aa2a48\",\"type\":\"DataRange1d\"},{\"attributes\":{\"below\":[{\"id\":\"5a3a6dc6-d5d5-46f0-9238-5eca94612122\",\"type\":\"LinearAxis\"}],\"left\":[{\"id\":\"82be3d4d-980c-4bfc-acbe-0b3a9242b055\",\"type\":\"LinearAxis\"}],\"renderers\":[{\"id\":\"5a3a6dc6-d5d5-46f0-9238-5eca94612122\",\"type\":\"LinearAxis\"},{\"id\":\"edafc693-cce5-4ca3-86dd-4380d715dd57\",\"type\":\"Grid\"},{\"id\":\"82be3d4d-980c-4bfc-acbe-0b3a9242b055\",\"type\":\"LinearAxis\"},{\"id\":\"a5786a8e-e606-469d-985b-2eca4d0ea56b\",\"type\":\"Grid\"},{\"id\":\"1baff476-d44a-426e-80dc-dff12076d8d2\",\"type\":\"GlyphRenderer\"}],\"title\":{\"id\":\"fc015d0c-d787-4fe7-90f7-fd8d11923968\",\"type\":\"Title\"},\"tool_events\":{\"id\":\"0fedffd8-5753-4f4f-98dd-e05490b060b7\",\"type\":\"ToolEvents\"},\"toolbar\":{\"id\":\"9963120e-0a9c-4171-9167-1169d5a4dbfe\",\"type\":\"Toolbar\"},\"toolbar_location\":\"above\",\"x_range\":{\"id\":\"e73f510a-01c0-435c-8537-9ef596aa2a48\",\"type\":\"DataRange1d\"},\"y_range\":{\"id\":\"34ca930c-0ef5-4201-be6f-4821dcb2efd3\",\"type\":\"DataRange1d\"}},\"id\":\"68144407-7861-483f-ad30-29239dce84cf\",\"subtype\":\"Figure\",\"type\":\"Plot\"},{\"attributes\":{\"callback\":null,\"column_names\":[\"left\",\"right\",\"top\"],\"data\":{\"left\":{\"__ndarray__\":\"AAAAANDm8kBcj8L1j9UTQVyPwvW1eCFBCtej8KMGKUFcj8L1SEowQTMzM/M/ETRBCtej8DbYN0HhehTuLZ87QbgeheskZj9BSOF69I2WQUEzMzNzCXpDQR6F6/GEXUVBCtejcABBR0H2KFzveyRJQeF6FG73B0tBzMzM7HLrTEG4HoVr7s5OQVK4HvU0WVBBSOF6tPJKUUE9CtdzsDxSQTMzMzNuLlNBKVyP8isgVEEeheux6RFVQRSuR3GnA1ZBCtejMGX1VkEAAADwIudXQfYoXK/g2FhB61G4bp7KWUHhehQuXLxaQdejcO0ZrltBzMzMrNefXEHC9ShslZFdQbgehStTg15Brkfh6hB1X0FSuB5VZzNgQc3MzDRGrGBBSOF6FCUlYUHC9Sj0A55hQT0K19PiFmJBuB6Fs8GPYkEzMzOToAhjQa5H4XJ/gWNBKVyPUl76Y0GkcD0yPXNkQR6F6xEc7GRBmZmZ8fpkZUEUrkfR2d1lQY/C9bC4VmZBCtejkJfPZkGF61FwdkhnQQAAAFBVwWdBexSuLzQ6aEH2KFwPE7NoQXA9Cu/xK2lB61G4ztCkaUFmZmaurx1qQeF6FI6OlmpBXI/CbW0Pa0HXo3BNTIhrQVK4Hi0rAWxBzMzMDAp6bEFH4Xrs6PJsQcL1KMzHa21BPQrXq6bkbUG4HoWLhV1uQTMzM2tk1m5BrkfhSkNPb0EpXI8qIshvQVK4HoWAIHBBj8L19O9ccEHNzMxkX5lwQQrXo9TO1XBBSOF6RD4ScUGF61G0rU5xQcL1KCQdi3FBAAAAlIzHcUE9CtcD/ANyQXsUrnNrQHJBuB6F49p8ckH2KFxTSrlyQTMzM8O59XJBcD0KMykyc0GuR+GimG5zQetRuBIIq3NBKVyPgnfnc0FmZmby5iN0QaRwPWJWYHRB4XoU0sWcdEEehetBNdl0QVyPwrGkFXVBmZmZIRRSdUHXo3CRg451QRSuRwHzynVBUrgecWIHdkGPwvXg0UN2Qc3MzFBBgHZBCtejwLC8dkFH4XowIPl2QYXrUaCPNXdBwvUoEP9xd0E=\",\"dtype\":\"float64\",\"shape\":[100]},\"right\":{\"__ndarray__\":\"XI/C9Y/VE0Fcj8L1tXghQQrXo/CjBilBXI/C9UhKMEEzMzPzPxE0QQrXo/A22DdB4XoU7i2fO0G4HoXrJGY/QUjhevSNlkFBMzMzcwl6Q0EehevxhF1FQQrXo3AAQUdB9ihc73skSUHhehRu9wdLQczMzOxy60xBuB6Fa+7OTkFSuB71NFlQQUjherTySlFBPQrXc7A8UkEzMzMzbi5TQSlcj/IrIFRBHoXrsekRVUEUrkdxpwNWQQrXozBl9VZBAAAA8CLnV0H2KFyv4NhYQetRuG6eyllB4XoULly8WkHXo3DtGa5bQczMzKzXn1xBwvUobJWRXUG4HoUrU4NeQa5H4eoQdV9BUrgeVWczYEHNzMw0RqxgQUjhehQlJWFBwvUo9AOeYUE9CtfT4hZiQbgehbPBj2JBMzMzk6AIY0GuR+Fyf4FjQSlcj1Je+mNBpHA9Mj1zZEEehesRHOxkQZmZmfH6ZGVBFK5H0dndZUGPwvWwuFZmQQrXo5CXz2ZBhetRcHZIZ0EAAABQVcFnQXsUri80OmhB9ihcDxOzaEFwPQrv8StpQetRuM7QpGlBZmZmrq8dakHhehSOjpZqQVyPwm1tD2tB16NwTUyIa0FSuB4tKwFsQczMzAwKemxBR+F67OjybEHC9SjMx2ttQT0K16um5G1BuB6Fi4VdbkEzMzNrZNZuQa5H4UpDT29BKVyPKiLIb0FSuB6FgCBwQY/C9fTvXHBBzczMZF+ZcEEK16PUztVwQUjhekQ+EnFBhetRtK1OcUHC9SgkHYtxQQAAAJSMx3FBPQrXA/wDckF7FK5za0ByQbgehePafHJB9ihcU0q5ckEzMzPDufVyQXA9CjMpMnNBrkfhophuc0HrUbgSCKtzQSlcj4J353NBZmZm8uYjdEGkcD1iVmB0QeF6FNLFnHRBHoXrQTXZdEFcj8KxpBV1QZmZmSEUUnVB16NwkYOOdUEUrkcB88p1QVK4HnFiB3ZBj8L14NFDdkHNzMxQQYB2QQrXo8CwvHZBR+F6MCD5dkGF61GgjzV3QcL1KBD/cXdBAAAAgG6ud0E=\",\"dtype\":\"float64\",\"shape\":[100]},\"top\":{\"__ndarray__\":\"2aOkLNsUpD7Zo6Qs2xSEPgAAAAAAAAAA2aOkLNsUhD7Zo6Qs2xSUPtmjpCzbFIQ+2aOkLNsUlD7Zo6Qs2xSEPtSjpCzbFJQ+AAAAAAAAAADeo6Qs2xSEPgAAAAAAAAAAAAAAAAAAAADeo6Qs2xSUPgAAAAAAAAAA1KOkLNsUhD4AAAAAAAAAAAAAAAAAAAAAAAAAAAAAAAAAAAAAAAAAAAAAAAAAAAAA6KOkLNsUlD4AAAAAAAAAAL719sJIH54+AAAAAAAAAAAAAAAAAAAAAAAAAAAAAAAAAAAAAAAAAADUo6Qs2xSUPgAAAAAAAAAAAAAAAAAAAAAAAAAAAAAAAAAAAAAAAAAAAAAAAAAAAAAAAAAAAAAAAAAAAAAAAAAAAAAAAAAAAAAAAAAAAAAAAAAAAAAAAAAA1KOkLNsUhD4AAAAAAAAAAAAAAAAAAAAAAAAAAAAAAAAAAAAAAAAAAAAAAAAAAAAAAAAAAAAAAAAAAAAAAAAAAAAAAAAAAAAAAAAAAAAAAAAAAAAAAAAAAAAAAAAAAAAAAAAAAAAAAAAAAAAAAAAAAAAAAAAAAAAAAAAAAAAAAAAAAAAAAAAAAAAAAAAAAAAAAAAAAAAAAAAAAAAAAAAAAAAAAAAAAAAAAAAAAAAAAAAAAAAAAAAAAAAAAAAAAAAAAAAAAAAAAAAAAAAAAAAAAAAAAAAAAAAAAAAAAAAAAAAAAAAAAAAAAAAAAAAAAAAAAAAAAAAAAAAAAAAAAAAAAAAAAAAAAAAAAAAAAAAAAAAAAAAAAAAAAAAAAAAAAAAAAAAAAAAAAAAAAAAAAAAAAAAAAAAAAAAAAAAAAAAAAAAAAAAAAAAAAAAAAAAAAAAAAAAAAAAAAAAAAAAAAAAAAAAAAAAAAAAAAAAAAAAAAAAAAAAAAAAAAAAAAAAAAAAAAAAAAAAAAAAAAAAAAAAAAAAAAAAAAAAAAAAAAAAAAAAAAAAAAAAAAAAAAAAAAAAAAAAAAAAAAAAAAAAAAAAAAAAAAAAAAAAAAAAAAAAAAAAAAAAAAAAAAAAAAAAAAAAAqaOkLNsUhD4=\",\"dtype\":\"float64\",\"shape\":[100]}}},\"id\":\"ebec8cc4-4f7c-4072-b4d8-00292736af63\",\"type\":\"ColumnDataSource\"},{\"attributes\":{\"plot\":{\"id\":\"68144407-7861-483f-ad30-29239dce84cf\",\"subtype\":\"Figure\",\"type\":\"Plot\"}},\"id\":\"2415902c-b7f4-4e32-ae01-c9fb6efca356\",\"type\":\"SaveTool\"},{\"attributes\":{\"plot\":{\"id\":\"68144407-7861-483f-ad30-29239dce84cf\",\"subtype\":\"Figure\",\"type\":\"Plot\"}},\"id\":\"8dc9c176-1ce4-4bf1-9850-0fb753fd9b90\",\"type\":\"WheelZoomTool\"},{\"attributes\":{\"bottom\":{\"value\":0},\"fill_color\":{\"value\":\"#1f77b4\"},\"left\":{\"field\":\"left\"},\"line_color\":{\"value\":\"#555555\"},\"right\":{\"field\":\"right\"},\"top\":{\"field\":\"top\"}},\"id\":\"79d5c207-5f9d-4322-be65-29af315c56d1\",\"type\":\"Quad\"},{\"attributes\":{\"bottom\":{\"value\":0},\"fill_alpha\":{\"value\":0.1},\"fill_color\":{\"value\":\"#1f77b4\"},\"left\":{\"field\":\"left\"},\"line_alpha\":{\"value\":0.1},\"line_color\":{\"value\":\"#1f77b4\"},\"right\":{\"field\":\"right\"},\"top\":{\"field\":\"top\"}},\"id\":\"c26cac0c-42b4-4cca-b9cf-4e2bced8f278\",\"type\":\"Quad\"},{\"attributes\":{},\"id\":\"0f899809-23af-4325-8638-a63b39e5c150\",\"type\":\"BasicTickFormatter\"},{\"attributes\":{\"plot\":{\"id\":\"68144407-7861-483f-ad30-29239dce84cf\",\"subtype\":\"Figure\",\"type\":\"Plot\"}},\"id\":\"3f1561d9-25b9-4307-9549-7a3b97fd03dc\",\"type\":\"ResetTool\"},{\"attributes\":{\"callback\":null},\"id\":\"34ca930c-0ef5-4201-be6f-4821dcb2efd3\",\"type\":\"DataRange1d\"},{\"attributes\":{},\"id\":\"c98021e7-036f-4d45-a4b6-83877c6ce92d\",\"type\":\"BasicTicker\"},{\"attributes\":{\"plot\":{\"id\":\"68144407-7861-483f-ad30-29239dce84cf\",\"subtype\":\"Figure\",\"type\":\"Plot\"},\"ticker\":{\"id\":\"82d39b44-8310-4c35-8861-c90493a16687\",\"type\":\"BasicTicker\"}},\"id\":\"edafc693-cce5-4ca3-86dd-4380d715dd57\",\"type\":\"Grid\"},{\"attributes\":{\"dimension\":1,\"plot\":{\"id\":\"68144407-7861-483f-ad30-29239dce84cf\",\"subtype\":\"Figure\",\"type\":\"Plot\"},\"ticker\":{\"id\":\"c98021e7-036f-4d45-a4b6-83877c6ce92d\",\"type\":\"BasicTicker\"}},\"id\":\"a5786a8e-e606-469d-985b-2eca4d0ea56b\",\"type\":\"Grid\"},{\"attributes\":{\"formatter\":{\"id\":\"0f899809-23af-4325-8638-a63b39e5c150\",\"type\":\"BasicTickFormatter\"},\"plot\":{\"id\":\"68144407-7861-483f-ad30-29239dce84cf\",\"subtype\":\"Figure\",\"type\":\"Plot\"},\"ticker\":{\"id\":\"c98021e7-036f-4d45-a4b6-83877c6ce92d\",\"type\":\"BasicTicker\"}},\"id\":\"82be3d4d-980c-4bfc-acbe-0b3a9242b055\",\"type\":\"LinearAxis\"}],\"root_ids\":[\"68144407-7861-483f-ad30-29239dce84cf\"]},\"title\":\"Bokeh Application\",\"version\":\"0.12.4\"}};\n",
       "            var render_items = [{\"docid\":\"a5924e12-b49f-447e-94b0-5038c1decbd3\",\"elementid\":\"b2118eec-cbea-4ceb-95fd-1034936710b0\",\"modelid\":\"68144407-7861-483f-ad30-29239dce84cf\"}];\n",
       "            \n",
       "            Bokeh.embed.embed_items(docs_json, render_items);\n",
       "          };\n",
       "          if (document.readyState != \"loading\") fn();\n",
       "          else document.addEventListener(\"DOMContentLoaded\", fn);\n",
       "        })();\n",
       "      },\n",
       "      function(Bokeh) {\n",
       "      }\n",
       "    ];\n",
       "  \n",
       "    function run_inline_js() {\n",
       "      \n",
       "      if ((window.Bokeh !== undefined) || (force === true)) {\n",
       "        for (var i = 0; i < inline_js.length; i++) {\n",
       "          inline_js[i](window.Bokeh);\n",
       "        }if (force === true) {\n",
       "          display_loaded();\n",
       "        }} else if (Date.now() < window._bokeh_timeout) {\n",
       "        setTimeout(run_inline_js, 100);\n",
       "      } else if (!window._bokeh_failed_load) {\n",
       "        console.log(\"Bokeh: BokehJS failed to load within specified timeout.\");\n",
       "        window._bokeh_failed_load = true;\n",
       "      } else if (force !== true) {\n",
       "        var cell = $(document.getElementById(\"b2118eec-cbea-4ceb-95fd-1034936710b0\")).parents('.cell').data().cell;\n",
       "        cell.output_area.append_execute_result(NB_LOAD_WARNING)\n",
       "      }\n",
       "  \n",
       "    }\n",
       "  \n",
       "    if (window._bokeh_is_loading === 0) {\n",
       "      console.log(\"Bokeh: BokehJS loaded, going straight to plotting\");\n",
       "      run_inline_js();\n",
       "    } else {\n",
       "      load_libs(js_urls, function() {\n",
       "        console.log(\"Bokeh: BokehJS plotting callback run at\", now());\n",
       "        run_inline_js();\n",
       "      });\n",
       "    }\n",
       "  }(this));\n",
       "</script>"
      ]
     },
     "metadata": {},
     "output_type": "display_data"
    }
   ],
   "source": [
    "hist, edges = np.histogram(counts_wiki_top1000, density=True, bins=100, normed=True)\n",
    "\n",
    "p = figure(tools=\"pan,wheel_zoom,reset,save\",\n",
    "           toolbar_location=\"above\",\n",
    "           title=\"Top-1000 words distribution\")\n",
    "p.quad(top=hist, bottom=0, left=edges[:-1], right=edges[1:], line_color=\"#555555\")\n",
    "show(p)"
   ]
  },
  {
   "cell_type": "code",
   "execution_count": 57,
   "metadata": {},
   "outputs": [],
   "source": [
    "model_wiki = Word2Vec(sentences_ted, size=100, window=5, min_count=5, workers=4)"
   ]
  },
  {
   "cell_type": "code",
   "execution_count": 58,
   "metadata": {},
   "outputs": [
    {
     "data": {
      "text/plain": [
       "[('woman', 0.8464617729187012),\n",
       " ('guy', 0.8078672885894775),\n",
       " ('lady', 0.7836194038391113),\n",
       " ('boy', 0.7650604844093323),\n",
       " ('girl', 0.7449390292167664),\n",
       " ('soldier', 0.7323599457740784),\n",
       " ('gentleman', 0.7263708114624023),\n",
       " ('kid', 0.6921200752258301),\n",
       " ('friend', 0.6827057600021362),\n",
       " ('surgeon', 0.6762031316757202)]"
      ]
     },
     "execution_count": 58,
     "metadata": {},
     "output_type": "execute_result"
    }
   ],
   "source": [
    "model_wiki.most_similar(\"man\")"
   ]
  },
  {
   "cell_type": "code",
   "execution_count": 59,
   "metadata": {},
   "outputs": [
    {
     "data": {
      "text/plain": [
       "[('machine', 0.7470157146453857),\n",
       " ('software', 0.7153013348579407),\n",
       " ('robot', 0.692807674407959),\n",
       " ('device', 0.6856371164321899),\n",
       " ('camera', 0.6658025979995728),\n",
       " ('program', 0.6644234657287598),\n",
       " ('video', 0.6214884519577026),\n",
       " ('3d', 0.6191324591636658),\n",
       " ('game', 0.6146800518035889),\n",
       " ('satellite', 0.6107714176177979)]"
      ]
     },
     "execution_count": 59,
     "metadata": {},
     "output_type": "execute_result"
    }
   ],
   "source": [
    "model_wiki.most_similar(\"computer\")"
   ]
  },
  {
   "cell_type": "code",
   "execution_count": 60,
   "metadata": {},
   "outputs": [
    {
     "data": {
      "text/plain": [
       "[('organism', 0.7531567811965942),\n",
       " ('organ', 0.7248586416244507),\n",
       " ('ant', 0.7223650813102722),\n",
       " ('insect', 0.6938428282737732),\n",
       " ('object', 0.6704449653625488),\n",
       " ('neuron', 0.6651753187179565),\n",
       " ('colony', 0.658514142036438),\n",
       " ('gene', 0.6557891368865967),\n",
       " ('virus', 0.6440666913986206),\n",
       " ('algorithm', 0.6403990983963013)]"
      ]
     },
     "execution_count": 60,
     "metadata": {},
     "output_type": "execute_result"
    }
   ],
   "source": [
    "model_wiki.most_similar(\"animal\")"
   ]
  },
  {
   "cell_type": "code",
   "execution_count": null,
   "metadata": {},
   "outputs": [],
   "source": []
  },
  {
   "cell_type": "code",
   "execution_count": null,
   "metadata": {
    "collapsed": true
   },
   "outputs": [],
   "source": []
  },
  {
   "cell_type": "markdown",
   "metadata": {},
   "source": [
    "#### t-SNE visualization"
   ]
  },
  {
   "cell_type": "code",
   "execution_count": 65,
   "metadata": {},
   "outputs": [
    {
     "ename": "KeyError",
     "evalue": "\"word ' ' not in vocabulary\"",
     "output_type": "error",
     "traceback": [
      "\u001b[0;31m---------------------------------------------------------------------------\u001b[0m",
      "\u001b[0;31mKeyError\u001b[0m                                  Traceback (most recent call last)",
      "\u001b[0;32m<ipython-input-65-afb643249265>\u001b[0m in \u001b[0;36m<module>\u001b[0;34m()\u001b[0m\n\u001b[1;32m      1\u001b[0m \u001b[1;31m# This assumes words_top_wiki is a list of strings, the top 1000 words\u001b[0m\u001b[1;33m\u001b[0m\u001b[1;33m\u001b[0m\u001b[0m\n\u001b[0;32m----> 2\u001b[0;31m \u001b[0mwords_top_vec_wiki\u001b[0m \u001b[1;33m=\u001b[0m \u001b[0mmodel_wiki\u001b[0m\u001b[1;33m[\u001b[0m\u001b[0mwords_top_wiki\u001b[0m\u001b[1;33m]\u001b[0m\u001b[1;33m\u001b[0m\u001b[0m\n\u001b[0m\u001b[1;32m      3\u001b[0m \u001b[1;33m\u001b[0m\u001b[0m\n\u001b[1;32m      4\u001b[0m \u001b[0mtsne\u001b[0m \u001b[1;33m=\u001b[0m \u001b[0mTSNE\u001b[0m\u001b[1;33m(\u001b[0m\u001b[0mn_components\u001b[0m\u001b[1;33m=\u001b[0m\u001b[1;36m2\u001b[0m\u001b[1;33m,\u001b[0m \u001b[0mrandom_state\u001b[0m\u001b[1;33m=\u001b[0m\u001b[1;36m0\u001b[0m\u001b[1;33m)\u001b[0m\u001b[1;33m\u001b[0m\u001b[0m\n\u001b[1;32m      5\u001b[0m \u001b[0mwords_top_wiki_tsne\u001b[0m \u001b[1;33m=\u001b[0m \u001b[0mtsne\u001b[0m\u001b[1;33m.\u001b[0m\u001b[0mfit_transform\u001b[0m\u001b[1;33m(\u001b[0m\u001b[0mwords_top_vec_wiki\u001b[0m\u001b[1;33m)\u001b[0m\u001b[1;33m\u001b[0m\u001b[0m\n",
      "\u001b[0;32mC:\\ProgramData\\Anaconda3\\lib\\site-packages\\gensim\\models\\word2vec.py\u001b[0m in \u001b[0;36m__getitem__\u001b[0;34m(self, words)\u001b[0m\n\u001b[1;32m   1343\u001b[0m         \u001b[0mRefer\u001b[0m \u001b[0mto\u001b[0m \u001b[0mthe\u001b[0m \u001b[0mdocumentation\u001b[0m \u001b[1;32mfor\u001b[0m\u001b[0;31m \u001b[0m\u001b[0;31m`\u001b[0m\u001b[0mgensim\u001b[0m\u001b[1;33m.\u001b[0m\u001b[0mmodels\u001b[0m\u001b[1;33m.\u001b[0m\u001b[0mKeyedVectors\u001b[0m\u001b[1;33m.\u001b[0m\u001b[0m__getitem__\u001b[0m\u001b[0;31m`\u001b[0m\u001b[1;33m\u001b[0m\u001b[0m\n\u001b[1;32m   1344\u001b[0m         \"\"\"\n\u001b[0;32m-> 1345\u001b[0;31m         \u001b[1;32mreturn\u001b[0m \u001b[0mself\u001b[0m\u001b[1;33m.\u001b[0m\u001b[0mwv\u001b[0m\u001b[1;33m.\u001b[0m\u001b[0m__getitem__\u001b[0m\u001b[1;33m(\u001b[0m\u001b[0mwords\u001b[0m\u001b[1;33m)\u001b[0m\u001b[1;33m\u001b[0m\u001b[0m\n\u001b[0m\u001b[1;32m   1346\u001b[0m \u001b[1;33m\u001b[0m\u001b[0m\n\u001b[1;32m   1347\u001b[0m     \u001b[1;32mdef\u001b[0m \u001b[0m__contains__\u001b[0m\u001b[1;33m(\u001b[0m\u001b[0mself\u001b[0m\u001b[1;33m,\u001b[0m \u001b[0mword\u001b[0m\u001b[1;33m)\u001b[0m\u001b[1;33m:\u001b[0m\u001b[1;33m\u001b[0m\u001b[0m\n",
      "\u001b[0;32mC:\\ProgramData\\Anaconda3\\lib\\site-packages\\gensim\\models\\keyedvectors.py\u001b[0m in \u001b[0;36m__getitem__\u001b[0;34m(self, words)\u001b[0m\n\u001b[1;32m    602\u001b[0m             \u001b[1;32mreturn\u001b[0m \u001b[0mself\u001b[0m\u001b[1;33m.\u001b[0m\u001b[0mword_vec\u001b[0m\u001b[1;33m(\u001b[0m\u001b[0mwords\u001b[0m\u001b[1;33m)\u001b[0m\u001b[1;33m\u001b[0m\u001b[0m\n\u001b[1;32m    603\u001b[0m \u001b[1;33m\u001b[0m\u001b[0m\n\u001b[0;32m--> 604\u001b[0;31m         \u001b[1;32mreturn\u001b[0m \u001b[0mvstack\u001b[0m\u001b[1;33m(\u001b[0m\u001b[1;33m[\u001b[0m\u001b[0mself\u001b[0m\u001b[1;33m.\u001b[0m\u001b[0mword_vec\u001b[0m\u001b[1;33m(\u001b[0m\u001b[0mword\u001b[0m\u001b[1;33m)\u001b[0m \u001b[1;32mfor\u001b[0m \u001b[0mword\u001b[0m \u001b[1;32min\u001b[0m \u001b[0mwords\u001b[0m\u001b[1;33m]\u001b[0m\u001b[1;33m)\u001b[0m\u001b[1;33m\u001b[0m\u001b[0m\n\u001b[0m\u001b[1;32m    605\u001b[0m \u001b[1;33m\u001b[0m\u001b[0m\n\u001b[1;32m    606\u001b[0m     \u001b[1;32mdef\u001b[0m \u001b[0m__contains__\u001b[0m\u001b[1;33m(\u001b[0m\u001b[0mself\u001b[0m\u001b[1;33m,\u001b[0m \u001b[0mword\u001b[0m\u001b[1;33m)\u001b[0m\u001b[1;33m:\u001b[0m\u001b[1;33m\u001b[0m\u001b[0m\n",
      "\u001b[0;32mC:\\ProgramData\\Anaconda3\\lib\\site-packages\\gensim\\models\\keyedvectors.py\u001b[0m in \u001b[0;36m<listcomp>\u001b[0;34m(.0)\u001b[0m\n\u001b[1;32m    602\u001b[0m             \u001b[1;32mreturn\u001b[0m \u001b[0mself\u001b[0m\u001b[1;33m.\u001b[0m\u001b[0mword_vec\u001b[0m\u001b[1;33m(\u001b[0m\u001b[0mwords\u001b[0m\u001b[1;33m)\u001b[0m\u001b[1;33m\u001b[0m\u001b[0m\n\u001b[1;32m    603\u001b[0m \u001b[1;33m\u001b[0m\u001b[0m\n\u001b[0;32m--> 604\u001b[0;31m         \u001b[1;32mreturn\u001b[0m \u001b[0mvstack\u001b[0m\u001b[1;33m(\u001b[0m\u001b[1;33m[\u001b[0m\u001b[0mself\u001b[0m\u001b[1;33m.\u001b[0m\u001b[0mword_vec\u001b[0m\u001b[1;33m(\u001b[0m\u001b[0mword\u001b[0m\u001b[1;33m)\u001b[0m \u001b[1;32mfor\u001b[0m \u001b[0mword\u001b[0m \u001b[1;32min\u001b[0m \u001b[0mwords\u001b[0m\u001b[1;33m]\u001b[0m\u001b[1;33m)\u001b[0m\u001b[1;33m\u001b[0m\u001b[0m\n\u001b[0m\u001b[1;32m    605\u001b[0m \u001b[1;33m\u001b[0m\u001b[0m\n\u001b[1;32m    606\u001b[0m     \u001b[1;32mdef\u001b[0m \u001b[0m__contains__\u001b[0m\u001b[1;33m(\u001b[0m\u001b[0mself\u001b[0m\u001b[1;33m,\u001b[0m \u001b[0mword\u001b[0m\u001b[1;33m)\u001b[0m\u001b[1;33m:\u001b[0m\u001b[1;33m\u001b[0m\u001b[0m\n",
      "\u001b[0;32mC:\\ProgramData\\Anaconda3\\lib\\site-packages\\gensim\\models\\keyedvectors.py\u001b[0m in \u001b[0;36mword_vec\u001b[0;34m(self, word, use_norm)\u001b[0m\n\u001b[1;32m    287\u001b[0m                 \u001b[1;32mreturn\u001b[0m \u001b[0mself\u001b[0m\u001b[1;33m.\u001b[0m\u001b[0msyn0\u001b[0m\u001b[1;33m[\u001b[0m\u001b[0mself\u001b[0m\u001b[1;33m.\u001b[0m\u001b[0mvocab\u001b[0m\u001b[1;33m[\u001b[0m\u001b[0mword\u001b[0m\u001b[1;33m]\u001b[0m\u001b[1;33m.\u001b[0m\u001b[0mindex\u001b[0m\u001b[1;33m]\u001b[0m\u001b[1;33m\u001b[0m\u001b[0m\n\u001b[1;32m    288\u001b[0m         \u001b[1;32melse\u001b[0m\u001b[1;33m:\u001b[0m\u001b[1;33m\u001b[0m\u001b[0m\n\u001b[0;32m--> 289\u001b[0;31m             \u001b[1;32mraise\u001b[0m \u001b[0mKeyError\u001b[0m\u001b[1;33m(\u001b[0m\u001b[1;34m\"word '%s' not in vocabulary\"\u001b[0m \u001b[1;33m%\u001b[0m \u001b[0mword\u001b[0m\u001b[1;33m)\u001b[0m\u001b[1;33m\u001b[0m\u001b[0m\n\u001b[0m\u001b[1;32m    290\u001b[0m \u001b[1;33m\u001b[0m\u001b[0m\n\u001b[1;32m    291\u001b[0m     \u001b[1;32mdef\u001b[0m \u001b[0mmost_similar\u001b[0m\u001b[1;33m(\u001b[0m\u001b[0mself\u001b[0m\u001b[1;33m,\u001b[0m \u001b[0mpositive\u001b[0m\u001b[1;33m=\u001b[0m\u001b[1;32mNone\u001b[0m\u001b[1;33m,\u001b[0m \u001b[0mnegative\u001b[0m\u001b[1;33m=\u001b[0m\u001b[1;32mNone\u001b[0m\u001b[1;33m,\u001b[0m \u001b[0mtopn\u001b[0m\u001b[1;33m=\u001b[0m\u001b[1;36m10\u001b[0m\u001b[1;33m,\u001b[0m \u001b[0mrestrict_vocab\u001b[0m\u001b[1;33m=\u001b[0m\u001b[1;32mNone\u001b[0m\u001b[1;33m,\u001b[0m \u001b[0mindexer\u001b[0m\u001b[1;33m=\u001b[0m\u001b[1;32mNone\u001b[0m\u001b[1;33m)\u001b[0m\u001b[1;33m:\u001b[0m\u001b[1;33m\u001b[0m\u001b[0m\n",
      "\u001b[0;31mKeyError\u001b[0m: \"word ' ' not in vocabulary\""
     ]
    }
   ],
   "source": [
    "# This assumes words_top_wiki is a list of strings, the top 1000 words\n",
    "words_top_vec_wiki = model_wiki[words_top_wiki]\n",
    "\n",
    "tsne = TSNE(n_components=2, random_state=0)\n",
    "words_top_wiki_tsne = tsne.fit_transform(words_top_vec_wiki)\n",
    "\n",
    "words_top_wiki = counts_wiki_top1000\n",
    "words_top_vec_wiki = model_wiki[words_top_wiki]"
   ]
  },
  {
   "cell_type": "code",
   "execution_count": 67,
   "metadata": {},
   "outputs": [
    {
     "ename": "NameError",
     "evalue": "name 'words_top_wiki_tsne' is not defined",
     "output_type": "error",
     "traceback": [
      "\u001b[0;31m---------------------------------------------------------------------------\u001b[0m",
      "\u001b[0;31mNameError\u001b[0m                                 Traceback (most recent call last)",
      "\u001b[0;32m<ipython-input-67-fe0f734cf098>\u001b[0m in \u001b[0;36m<module>\u001b[0;34m()\u001b[0m\n\u001b[1;32m      3\u001b[0m            title=\"word2vec T-SNE for most common words\")\n\u001b[1;32m      4\u001b[0m \u001b[1;33m\u001b[0m\u001b[0m\n\u001b[0;32m----> 5\u001b[0;31m source = ColumnDataSource(data=dict(x1=words_top_wiki_tsne[:,0],\n\u001b[0m\u001b[1;32m      6\u001b[0m                                     \u001b[0mx2\u001b[0m\u001b[1;33m=\u001b[0m\u001b[0mwords_top_wiki_tsne\u001b[0m\u001b[1;33m[\u001b[0m\u001b[1;33m:\u001b[0m\u001b[1;33m,\u001b[0m\u001b[1;36m1\u001b[0m\u001b[1;33m]\u001b[0m\u001b[1;33m,\u001b[0m\u001b[1;33m\u001b[0m\u001b[0m\n\u001b[1;32m      7\u001b[0m                                     names=words_top_wiki[:1000]))\n",
      "\u001b[0;31mNameError\u001b[0m: name 'words_top_wiki_tsne' is not defined"
     ]
    }
   ],
   "source": [
    "p = figure(tools=\"pan,wheel_zoom,reset,save\",\n",
    "           toolbar_location=\"above\",\n",
    "           title=\"word2vec T-SNE for most common words\")\n",
    "\n",
    "source = ColumnDataSource(data=dict(x1=words_top_wiki_tsne[:,0],\n",
    "                                    x2=words_top_wiki_tsne[:,1],\n",
    "                                    names=words_top_wiki[:1000]))\n",
    "\n",
    "p.scatter(x=\"x1\", y=\"x2\", size=8, source=source)\n",
    "\n",
    "labels = LabelSet(x=\"x1\", y=\"x2\", text=\"names\", y_offset=6,\n",
    "                  text_font_size=\"8pt\", text_color=\"#555555\",\n",
    "                  source=source, text_align='center')\n",
    "p.add_layout(labels)\n",
    "\n",
    "show(p)"
   ]
  },
  {
   "cell_type": "code",
   "execution_count": null,
   "metadata": {
    "collapsed": true
   },
   "outputs": [],
   "source": []
  }
 ],
 "metadata": {
  "anaconda-cloud": {},
  "kernelspec": {
   "display_name": "Python 3",
   "language": "python",
   "name": "python3"
  },
  "language_info": {
   "codemirror_mode": {
    "name": "ipython",
    "version": 3
   },
   "file_extension": ".py",
   "mimetype": "text/x-python",
   "name": "python",
   "nbconvert_exporter": "python",
   "pygments_lexer": "ipython3",
   "version": "3.6.2"
  }
 },
 "nbformat": 4,
 "nbformat_minor": 1
}
