{
 "cells": [
  {
   "cell_type": "markdown",
   "metadata": {},
   "source": [
    "## Practical 1: word2vec\n",
    "<p>Oxford CS - Deep NLP 2017<br>\n",
    "https://www.cs.ox.ac.uk/teaching/courses/2016-2017/dl/</p>\n",
    "<p>[Yannis Assael, Brendan Shillingford, Chris Dyer]</p>"
   ]
  },
  {
   "cell_type": "markdown",
   "metadata": {},
   "source": [
    "This practical is presented as an IPython Notebook, with the code written for recent versions of **Python 3**. The code in this practical will not work with Python 2 unless you modify it. If you are using your own Python installation, ensure you have a setup identical to that described in the installation shell script (which is intended for use with the department lab machines). We will be unable to support installation on personal machines due to time constraints, so please use the lab machines and the setup script if you are unfamiliar with how to install Anaconda.\n",
    "\n",
    "To execute a notebook cell, press `shift-enter`. The return value of the last command will be displayed, if it is not `None`.\n",
    "\n",
    "Potentially useful library documentation, references, and resources:\n",
    "\n",
    "* IPython notebooks: <https://ipython.org/ipython-doc/3/notebook/notebook.html#introduction>\n",
    "* Numpy numerical array library: <https://docs.scipy.org/doc/>\n",
    "* Gensim's word2vec: <https://radimrehurek.com/gensim/models/word2vec.html>\n",
    "* Bokeh interactive plots: <http://bokeh.pydata.org/en/latest/> (we provide plotting code here, but click the thumbnails for more examples to copy-paste)\n",
    "* scikit-learn ML library (aka `sklearn`): <http://scikit-learn.org/stable/documentation.html>\n",
    "* nltk NLP toolkit: <http://www.nltk.org/>\n",
    "* tutorial for processing xml in python using `lxml`: <http://lxml.de/tutorial.html> (we did this for you below, but in case you need it in the future)"
   ]
  },
  {
   "cell_type": "code",
   "execution_count": 1,
   "metadata": {
    "collapsed": true
   },
   "outputs": [],
   "source": [
    "import numpy as np\n",
    "import os\n",
    "from random import shuffle\n",
    "import re"
   ]
  },
  {
   "cell_type": "code",
   "execution_count": 2,
   "metadata": {},
   "outputs": [
    {
     "data": {
      "text/html": [
       "\n",
       "    <div class=\"bk-root\">\n",
       "        <a href=\"http://bokeh.pydata.org\" target=\"_blank\" class=\"bk-logo bk-logo-small bk-logo-notebook\"></a>\n",
       "        <span id=\"71543ff8-8654-460e-9e94-22befdd9b1a7\">Loading BokehJS ...</span>\n",
       "    </div>"
      ]
     },
     "metadata": {},
     "output_type": "display_data"
    },
    {
     "data": {
      "application/javascript": [
       "\n",
       "(function(global) {\n",
       "  function now() {\n",
       "    return new Date();\n",
       "  }\n",
       "\n",
       "  var force = true;\n",
       "\n",
       "  if (typeof (window._bokeh_onload_callbacks) === \"undefined\" || force === true) {\n",
       "    window._bokeh_onload_callbacks = [];\n",
       "    window._bokeh_is_loading = undefined;\n",
       "  }\n",
       "\n",
       "\n",
       "  \n",
       "  if (typeof (window._bokeh_timeout) === \"undefined\" || force === true) {\n",
       "    window._bokeh_timeout = Date.now() + 5000;\n",
       "    window._bokeh_failed_load = false;\n",
       "  }\n",
       "\n",
       "  var NB_LOAD_WARNING = {'data': {'text/html':\n",
       "     \"<div style='background-color: #fdd'>\\n\"+\n",
       "     \"<p>\\n\"+\n",
       "     \"BokehJS does not appear to have successfully loaded. If loading BokehJS from CDN, this \\n\"+\n",
       "     \"may be due to a slow or bad network connection. Possible fixes:\\n\"+\n",
       "     \"</p>\\n\"+\n",
       "     \"<ul>\\n\"+\n",
       "     \"<li>re-rerun `output_notebook()` to attempt to load from CDN again, or</li>\\n\"+\n",
       "     \"<li>use INLINE resources instead, as so:</li>\\n\"+\n",
       "     \"</ul>\\n\"+\n",
       "     \"<code>\\n\"+\n",
       "     \"from bokeh.resources import INLINE\\n\"+\n",
       "     \"output_notebook(resources=INLINE)\\n\"+\n",
       "     \"</code>\\n\"+\n",
       "     \"</div>\"}};\n",
       "\n",
       "  function display_loaded() {\n",
       "    if (window.Bokeh !== undefined) {\n",
       "      document.getElementById(\"71543ff8-8654-460e-9e94-22befdd9b1a7\").textContent = \"BokehJS successfully loaded.\";\n",
       "    } else if (Date.now() < window._bokeh_timeout) {\n",
       "      setTimeout(display_loaded, 100)\n",
       "    }\n",
       "  }\n",
       "\n",
       "  function run_callbacks() {\n",
       "    window._bokeh_onload_callbacks.forEach(function(callback) { callback() });\n",
       "    delete window._bokeh_onload_callbacks\n",
       "    console.info(\"Bokeh: all callbacks have finished\");\n",
       "  }\n",
       "\n",
       "  function load_libs(js_urls, callback) {\n",
       "    window._bokeh_onload_callbacks.push(callback);\n",
       "    if (window._bokeh_is_loading > 0) {\n",
       "      console.log(\"Bokeh: BokehJS is being loaded, scheduling callback at\", now());\n",
       "      return null;\n",
       "    }\n",
       "    if (js_urls == null || js_urls.length === 0) {\n",
       "      run_callbacks();\n",
       "      return null;\n",
       "    }\n",
       "    console.log(\"Bokeh: BokehJS not loaded, scheduling load and callback at\", now());\n",
       "    window._bokeh_is_loading = js_urls.length;\n",
       "    for (var i = 0; i < js_urls.length; i++) {\n",
       "      var url = js_urls[i];\n",
       "      var s = document.createElement('script');\n",
       "      s.src = url;\n",
       "      s.async = false;\n",
       "      s.onreadystatechange = s.onload = function() {\n",
       "        window._bokeh_is_loading--;\n",
       "        if (window._bokeh_is_loading === 0) {\n",
       "          console.log(\"Bokeh: all BokehJS libraries loaded\");\n",
       "          run_callbacks()\n",
       "        }\n",
       "      };\n",
       "      s.onerror = function() {\n",
       "        console.warn(\"failed to load library \" + url);\n",
       "      };\n",
       "      console.log(\"Bokeh: injecting script tag for BokehJS library: \", url);\n",
       "      document.getElementsByTagName(\"head\")[0].appendChild(s);\n",
       "    }\n",
       "  };var element = document.getElementById(\"71543ff8-8654-460e-9e94-22befdd9b1a7\");\n",
       "  if (element == null) {\n",
       "    console.log(\"Bokeh: ERROR: autoload.js configured with elementid '71543ff8-8654-460e-9e94-22befdd9b1a7' but no matching script tag was found. \")\n",
       "    return false;\n",
       "  }\n",
       "\n",
       "  var js_urls = [\"https://cdn.pydata.org/bokeh/release/bokeh-0.12.4.min.js\", \"https://cdn.pydata.org/bokeh/release/bokeh-widgets-0.12.4.min.js\"];\n",
       "\n",
       "  var inline_js = [\n",
       "    function(Bokeh) {\n",
       "      Bokeh.set_log_level(\"info\");\n",
       "    },\n",
       "    \n",
       "    function(Bokeh) {\n",
       "      \n",
       "      document.getElementById(\"71543ff8-8654-460e-9e94-22befdd9b1a7\").textContent = \"BokehJS is loading...\";\n",
       "    },\n",
       "    function(Bokeh) {\n",
       "      console.log(\"Bokeh: injecting CSS: https://cdn.pydata.org/bokeh/release/bokeh-0.12.4.min.css\");\n",
       "      Bokeh.embed.inject_css(\"https://cdn.pydata.org/bokeh/release/bokeh-0.12.4.min.css\");\n",
       "      console.log(\"Bokeh: injecting CSS: https://cdn.pydata.org/bokeh/release/bokeh-widgets-0.12.4.min.css\");\n",
       "      Bokeh.embed.inject_css(\"https://cdn.pydata.org/bokeh/release/bokeh-widgets-0.12.4.min.css\");\n",
       "    }\n",
       "  ];\n",
       "\n",
       "  function run_inline_js() {\n",
       "    \n",
       "    if ((window.Bokeh !== undefined) || (force === true)) {\n",
       "      for (var i = 0; i < inline_js.length; i++) {\n",
       "        inline_js[i](window.Bokeh);\n",
       "      }if (force === true) {\n",
       "        display_loaded();\n",
       "      }} else if (Date.now() < window._bokeh_timeout) {\n",
       "      setTimeout(run_inline_js, 100);\n",
       "    } else if (!window._bokeh_failed_load) {\n",
       "      console.log(\"Bokeh: BokehJS failed to load within specified timeout.\");\n",
       "      window._bokeh_failed_load = true;\n",
       "    } else if (force !== true) {\n",
       "      var cell = $(document.getElementById(\"71543ff8-8654-460e-9e94-22befdd9b1a7\")).parents('.cell').data().cell;\n",
       "      cell.output_area.append_execute_result(NB_LOAD_WARNING)\n",
       "    }\n",
       "\n",
       "  }\n",
       "\n",
       "  if (window._bokeh_is_loading === 0) {\n",
       "    console.log(\"Bokeh: BokehJS loaded, going straight to plotting\");\n",
       "    run_inline_js();\n",
       "  } else {\n",
       "    load_libs(js_urls, function() {\n",
       "      console.log(\"Bokeh: BokehJS plotting callback run at\", now());\n",
       "      run_inline_js();\n",
       "    });\n",
       "  }\n",
       "}(this));"
      ]
     },
     "metadata": {},
     "output_type": "display_data"
    }
   ],
   "source": [
    "from bokeh.models import ColumnDataSource, LabelSet\n",
    "from bokeh.plotting import figure, show, output_file\n",
    "from bokeh.io import output_notebook\n",
    "output_notebook()"
   ]
  },
  {
   "cell_type": "markdown",
   "metadata": {},
   "source": [
    "### Part 0: Download the TED dataset"
   ]
  },
  {
   "cell_type": "code",
   "execution_count": 3,
   "metadata": {
    "collapsed": true
   },
   "outputs": [],
   "source": [
    "import urllib.request\n",
    "import zipfile\n",
    "import lxml.etree"
   ]
  },
  {
   "cell_type": "code",
   "execution_count": 4,
   "metadata": {
    "collapsed": true
   },
   "outputs": [],
   "source": [
    "# Download the dataset if it's not already there: this may take a minute as it is 75MB\n",
    "if not os.path.isfile('ted_en-20160408.zip'):\n",
    "    urllib.request.urlretrieve(\"https://wit3.fbk.eu/get.php?path=XML_releases/xml/ted_en-20160408.zip&filename=ted_en-20160408.zip\", filename=\"ted_en-20160408.zip\")"
   ]
  },
  {
   "cell_type": "code",
   "execution_count": 5,
   "metadata": {
    "collapsed": true
   },
   "outputs": [],
   "source": [
    "# For now, we're only interested in the subtitle text, so let's extract that from the XML:\n",
    "with zipfile.ZipFile('ted_en-20160408.zip', 'r') as z:\n",
    "    doc = lxml.etree.parse(z.open('ted_en-20160408.xml', 'r'))\n",
    "input_text = '\\n'.join(doc.xpath('//content/text()'))\n",
    "del doc"
   ]
  },
  {
   "cell_type": "markdown",
   "metadata": {},
   "source": [
    "### Part 1: Preprocessing\n",
    "\n",
    "In this part, we attempt to clean up the raw subtitles a bit, so that we get only sentences. The following substring shows examples of what we're trying to get rid of. Since it's hard to define precisely what we want to get rid of, we'll just use some simple heuristics."
   ]
  },
  {
   "cell_type": "code",
   "execution_count": 6,
   "metadata": {
    "scrolled": false
   },
   "outputs": [
    {
     "data": {
      "text/plain": [
       "' baby does.\\n(Video) Hyowon Gweon: See this? (Ball squeaks) Did you see that? (Ball squeaks) Cool. See this one? (Ball squeaks) Wow.\\nLaura Schulz: Told you. (Laughs)\\n(Vide'"
      ]
     },
     "execution_count": 6,
     "metadata": {},
     "output_type": "execute_result"
    }
   ],
   "source": [
    "i = input_text.find(\"Hyowon Gweon: See this?\")\n",
    "input_text[i-20:i+150]"
   ]
  },
  {
   "cell_type": "markdown",
   "metadata": {},
   "source": [
    "Let's start by removing all parenthesized strings using a regex:"
   ]
  },
  {
   "cell_type": "code",
   "execution_count": 7,
   "metadata": {
    "collapsed": true
   },
   "outputs": [],
   "source": [
    "input_text_noparens = re.sub(r'\\([^)]*\\)', '', input_text)"
   ]
  },
  {
   "cell_type": "markdown",
   "metadata": {},
   "source": [
    "We can verify the same location in the text is now clean as follows. We won't worry about the irregular spaces since we'll later split the text into sentences and tokenize it anyway."
   ]
  },
  {
   "cell_type": "code",
   "execution_count": 8,
   "metadata": {},
   "outputs": [
    {
     "data": {
      "text/plain": [
       "\"hat the baby does.\\n Hyowon Gweon: See this?  Did you see that?  Cool. See this one?  Wow.\\nLaura Schulz: Told you. \\n HG: See this one?  Hey Clara, this one's for you. You \""
      ]
     },
     "execution_count": 8,
     "metadata": {},
     "output_type": "execute_result"
    }
   ],
   "source": [
    "i = input_text_noparens.find(\"Hyowon Gweon: See this?\")\n",
    "input_text_noparens[i-20:i+150]"
   ]
  },
  {
   "cell_type": "markdown",
   "metadata": {},
   "source": [
    "Now, let's attempt to remove speakers' names that occur at the beginning of a line, by deleting pieces of the form \"`<up to 20 characters>:`\", as shown in this example. Of course, this is an imperfect heuristic. "
   ]
  },
  {
   "cell_type": "code",
   "execution_count": 9,
   "metadata": {},
   "outputs": [
    {
     "data": {
      "text/plain": [
       "[\"Here are two reasons companies fail: they only do more of the same, or they only do what's new\",\n",
       " 'To me the real, real solution to quality growth is figuring out the balance between two activities: exploration and exploitation',\n",
       " ' Both are necessary, but it can be too much of a good thing',\n",
       " 'Consider Facit',\n",
       " \" I'm actually old enough to remember them\"]"
      ]
     },
     "execution_count": 9,
     "metadata": {},
     "output_type": "execute_result"
    }
   ],
   "source": [
    "sentences_strings_ted = []\n",
    "for line in input_text_noparens.split('\\n'):\n",
    "    m = re.match(r'^(?:(?P<precolon>[^:]{,20}):)?(?P<postcolon>.*)$', line)\n",
    "    sentences_strings_ted.extend(sent for sent in m.groupdict()['postcolon'].split('.') if sent)\n",
    "\n",
    "# Uncomment if you need to save some RAM: these strings are about 50MB.\n",
    "# del input_text, input_text_noparens\n",
    "\n",
    "# Let's view the first few:\n",
    "sentences_strings_ted[:5]"
   ]
  },
  {
   "cell_type": "markdown",
   "metadata": {},
   "source": [
    "Now that we have sentences, we're ready to tokenize each of them into words. This tokenization is imperfect, of course. For instance, how many tokens is \"can't\", and where/how do we split it? We'll take the simplest naive approach of splitting on spaces. Before splitting, we remove non-alphanumeric characters, such as punctuation. You may want to consider the following question: why do we replace these characters with spaces rather than deleting them? Think of a case where this yields a different answer."
   ]
  },
  {
   "cell_type": "code",
   "execution_count": 10,
   "metadata": {
    "collapsed": true
   },
   "outputs": [],
   "source": [
    "sentences_ted = []\n",
    "for sent_str in sentences_strings_ted:\n",
    "    tokens = re.sub(r\"[^a-z0-9]+\", \" \", sent_str.lower()).split()\n",
    "    sentences_ted.append(tokens)"
   ]
  },
  {
   "cell_type": "markdown",
   "metadata": {},
   "source": [
    "Two sample processed sentences:"
   ]
  },
  {
   "cell_type": "code",
   "execution_count": 11,
   "metadata": {},
   "outputs": [
    {
     "data": {
      "text/plain": [
       "266694"
      ]
     },
     "execution_count": 11,
     "metadata": {},
     "output_type": "execute_result"
    }
   ],
   "source": [
    "len(sentences_ted)"
   ]
  },
  {
   "cell_type": "code",
   "execution_count": 12,
   "metadata": {},
   "outputs": [
    {
     "name": "stdout",
     "output_type": "stream",
     "text": [
      "['here', 'are', 'two', 'reasons', 'companies', 'fail', 'they', 'only', 'do', 'more', 'of', 'the', 'same', 'or', 'they', 'only', 'do', 'what', 's', 'new']\n",
      "['to', 'me', 'the', 'real', 'real', 'solution', 'to', 'quality', 'growth', 'is', 'figuring', 'out', 'the', 'balance', 'between', 'two', 'activities', 'exploration', 'and', 'exploitation']\n"
     ]
    }
   ],
   "source": [
    "print(sentences_ted[0])\n",
    "print(sentences_ted[1])"
   ]
  },
  {
   "cell_type": "markdown",
   "metadata": {},
   "source": [
    "### Part 2: Word Frequencies"
   ]
  },
  {
   "cell_type": "markdown",
   "metadata": {},
   "source": [
    "If you store the counts of the top 1000 words in a list called `counts_ted_top1000`, the code below will plot the histogram requested in the writeup."
   ]
  },
  {
   "cell_type": "code",
   "execution_count": 13,
   "metadata": {
    "collapsed": true
   },
   "outputs": [],
   "source": [
    "import collections\n",
    "c=collections.Counter()\n",
    "for s in sentences_ted:\n",
    "    for word in s:\n",
    "        c[word]+=1\n",
    "#print (c.most_common(1000))\n",
    "#counts=list(c.most_common(1000))\n",
    "words_top_ted=list(k[0] for k in c.most_common(1000))\n",
    "counts_ted_top1000=list(k[1] for k in c.most_common(1000))\n",
    "#print(counts_ted_top1000[:7])"
   ]
  },
  {
   "cell_type": "markdown",
   "metadata": {},
   "source": [
    "Plot distribution of top-1000 words"
   ]
  },
  {
   "cell_type": "code",
   "execution_count": 14,
   "metadata": {
    "scrolled": true
   },
   "outputs": [
    {
     "data": {
      "text/html": [
       "\n",
       "\n",
       "    <div class=\"bk-root\">\n",
       "        <div class=\"bk-plotdiv\" id=\"431a3d2f-9d2a-497f-8d49-e86ecd6f2d93\"></div>\n",
       "    </div>\n",
       "<script type=\"text/javascript\">\n",
       "  \n",
       "  (function(global) {\n",
       "    function now() {\n",
       "      return new Date();\n",
       "    }\n",
       "  \n",
       "    var force = false;\n",
       "  \n",
       "    if (typeof (window._bokeh_onload_callbacks) === \"undefined\" || force === true) {\n",
       "      window._bokeh_onload_callbacks = [];\n",
       "      window._bokeh_is_loading = undefined;\n",
       "    }\n",
       "  \n",
       "  \n",
       "    \n",
       "    if (typeof (window._bokeh_timeout) === \"undefined\" || force === true) {\n",
       "      window._bokeh_timeout = Date.now() + 0;\n",
       "      window._bokeh_failed_load = false;\n",
       "    }\n",
       "  \n",
       "    var NB_LOAD_WARNING = {'data': {'text/html':\n",
       "       \"<div style='background-color: #fdd'>\\n\"+\n",
       "       \"<p>\\n\"+\n",
       "       \"BokehJS does not appear to have successfully loaded. If loading BokehJS from CDN, this \\n\"+\n",
       "       \"may be due to a slow or bad network connection. Possible fixes:\\n\"+\n",
       "       \"</p>\\n\"+\n",
       "       \"<ul>\\n\"+\n",
       "       \"<li>re-rerun `output_notebook()` to attempt to load from CDN again, or</li>\\n\"+\n",
       "       \"<li>use INLINE resources instead, as so:</li>\\n\"+\n",
       "       \"</ul>\\n\"+\n",
       "       \"<code>\\n\"+\n",
       "       \"from bokeh.resources import INLINE\\n\"+\n",
       "       \"output_notebook(resources=INLINE)\\n\"+\n",
       "       \"</code>\\n\"+\n",
       "       \"</div>\"}};\n",
       "  \n",
       "    function display_loaded() {\n",
       "      if (window.Bokeh !== undefined) {\n",
       "        document.getElementById(\"431a3d2f-9d2a-497f-8d49-e86ecd6f2d93\").textContent = \"BokehJS successfully loaded.\";\n",
       "      } else if (Date.now() < window._bokeh_timeout) {\n",
       "        setTimeout(display_loaded, 100)\n",
       "      }\n",
       "    }\n",
       "  \n",
       "    function run_callbacks() {\n",
       "      window._bokeh_onload_callbacks.forEach(function(callback) { callback() });\n",
       "      delete window._bokeh_onload_callbacks\n",
       "      console.info(\"Bokeh: all callbacks have finished\");\n",
       "    }\n",
       "  \n",
       "    function load_libs(js_urls, callback) {\n",
       "      window._bokeh_onload_callbacks.push(callback);\n",
       "      if (window._bokeh_is_loading > 0) {\n",
       "        console.log(\"Bokeh: BokehJS is being loaded, scheduling callback at\", now());\n",
       "        return null;\n",
       "      }\n",
       "      if (js_urls == null || js_urls.length === 0) {\n",
       "        run_callbacks();\n",
       "        return null;\n",
       "      }\n",
       "      console.log(\"Bokeh: BokehJS not loaded, scheduling load and callback at\", now());\n",
       "      window._bokeh_is_loading = js_urls.length;\n",
       "      for (var i = 0; i < js_urls.length; i++) {\n",
       "        var url = js_urls[i];\n",
       "        var s = document.createElement('script');\n",
       "        s.src = url;\n",
       "        s.async = false;\n",
       "        s.onreadystatechange = s.onload = function() {\n",
       "          window._bokeh_is_loading--;\n",
       "          if (window._bokeh_is_loading === 0) {\n",
       "            console.log(\"Bokeh: all BokehJS libraries loaded\");\n",
       "            run_callbacks()\n",
       "          }\n",
       "        };\n",
       "        s.onerror = function() {\n",
       "          console.warn(\"failed to load library \" + url);\n",
       "        };\n",
       "        console.log(\"Bokeh: injecting script tag for BokehJS library: \", url);\n",
       "        document.getElementsByTagName(\"head\")[0].appendChild(s);\n",
       "      }\n",
       "    };var element = document.getElementById(\"431a3d2f-9d2a-497f-8d49-e86ecd6f2d93\");\n",
       "    if (element == null) {\n",
       "      console.log(\"Bokeh: ERROR: autoload.js configured with elementid '431a3d2f-9d2a-497f-8d49-e86ecd6f2d93' but no matching script tag was found. \")\n",
       "      return false;\n",
       "    }\n",
       "  \n",
       "    var js_urls = [];\n",
       "  \n",
       "    var inline_js = [\n",
       "      function(Bokeh) {\n",
       "        (function() {\n",
       "          var fn = function() {\n",
       "            var docs_json = {\"123a9f40-499e-425a-acf3-88e028bef59b\":{\"roots\":{\"references\":[{\"attributes\":{\"data_source\":{\"id\":\"11513b3c-e778-4b72-8951-889e0562d7ac\",\"type\":\"ColumnDataSource\"},\"glyph\":{\"id\":\"0c3831a8-948f-43d5-8414-e585c4b87afd\",\"type\":\"Quad\"},\"hover_glyph\":null,\"nonselection_glyph\":{\"id\":\"a8ac9cbd-7d6d-43fc-8c8a-5cc2f4e98743\",\"type\":\"Quad\"},\"selection_glyph\":null},\"id\":\"ca3c3521-ca38-4006-9342-9352ebc70307\",\"type\":\"GlyphRenderer\"},{\"attributes\":{\"plot\":{\"id\":\"02f2cc40-9df6-4a77-a9a0-ceafc3d14ba0\",\"subtype\":\"Figure\",\"type\":\"Plot\"},\"ticker\":{\"id\":\"69985fa4-8d47-4e49-9e2e-18d6a4456a41\",\"type\":\"BasicTicker\"}},\"id\":\"4b7a3818-fe74-4bf3-9561-2b10f6f8a4e8\",\"type\":\"Grid\"},{\"attributes\":{\"formatter\":{\"id\":\"11c5a354-370c-4fac-9337-f301530d8688\",\"type\":\"BasicTickFormatter\"},\"plot\":{\"id\":\"02f2cc40-9df6-4a77-a9a0-ceafc3d14ba0\",\"subtype\":\"Figure\",\"type\":\"Plot\"},\"ticker\":{\"id\":\"00e87cc7-4517-4976-9703-df0f06bd0b38\",\"type\":\"BasicTicker\"}},\"id\":\"2dfc0e14-8f2b-4c73-ac35-c0e3da5083f4\",\"type\":\"LinearAxis\"},{\"attributes\":{},\"id\":\"00e87cc7-4517-4976-9703-df0f06bd0b38\",\"type\":\"BasicTicker\"},{\"attributes\":{},\"id\":\"11c5a354-370c-4fac-9337-f301530d8688\",\"type\":\"BasicTickFormatter\"},{\"attributes\":{\"bottom\":{\"value\":0},\"fill_color\":{\"value\":\"#1f77b4\"},\"left\":{\"field\":\"left\"},\"line_color\":{\"value\":\"#555555\"},\"right\":{\"field\":\"right\"},\"top\":{\"field\":\"top\"}},\"id\":\"0c3831a8-948f-43d5-8414-e585c4b87afd\",\"type\":\"Quad\"},{\"attributes\":{\"dimension\":1,\"plot\":{\"id\":\"02f2cc40-9df6-4a77-a9a0-ceafc3d14ba0\",\"subtype\":\"Figure\",\"type\":\"Plot\"},\"ticker\":{\"id\":\"00e87cc7-4517-4976-9703-df0f06bd0b38\",\"type\":\"BasicTicker\"}},\"id\":\"d8f5483a-c01a-478c-835f-37f1769de590\",\"type\":\"Grid\"},{\"attributes\":{\"plot\":{\"id\":\"02f2cc40-9df6-4a77-a9a0-ceafc3d14ba0\",\"subtype\":\"Figure\",\"type\":\"Plot\"}},\"id\":\"3e6ad5bc-de0d-45bd-9e09-7bbab5d23699\",\"type\":\"PanTool\"},{\"attributes\":{\"bottom\":{\"value\":0},\"fill_alpha\":{\"value\":0.1},\"fill_color\":{\"value\":\"#1f77b4\"},\"left\":{\"field\":\"left\"},\"line_alpha\":{\"value\":0.1},\"line_color\":{\"value\":\"#1f77b4\"},\"right\":{\"field\":\"right\"},\"top\":{\"field\":\"top\"}},\"id\":\"a8ac9cbd-7d6d-43fc-8c8a-5cc2f4e98743\",\"type\":\"Quad\"},{\"attributes\":{\"plot\":{\"id\":\"02f2cc40-9df6-4a77-a9a0-ceafc3d14ba0\",\"subtype\":\"Figure\",\"type\":\"Plot\"}},\"id\":\"32c23ab9-fe7a-49c2-9344-890bd5824f0d\",\"type\":\"WheelZoomTool\"},{\"attributes\":{\"plot\":{\"id\":\"02f2cc40-9df6-4a77-a9a0-ceafc3d14ba0\",\"subtype\":\"Figure\",\"type\":\"Plot\"}},\"id\":\"7247f020-a094-46c2-bb10-549df6f47bb5\",\"type\":\"ResetTool\"},{\"attributes\":{\"plot\":{\"id\":\"02f2cc40-9df6-4a77-a9a0-ceafc3d14ba0\",\"subtype\":\"Figure\",\"type\":\"Plot\"}},\"id\":\"21b5b88f-c4ea-4676-ba01-5470e62c2e6b\",\"type\":\"SaveTool\"},{\"attributes\":{\"below\":[{\"id\":\"711ddce8-375b-41f2-acab-e63140cb5ab2\",\"type\":\"LinearAxis\"}],\"left\":[{\"id\":\"2dfc0e14-8f2b-4c73-ac35-c0e3da5083f4\",\"type\":\"LinearAxis\"}],\"renderers\":[{\"id\":\"711ddce8-375b-41f2-acab-e63140cb5ab2\",\"type\":\"LinearAxis\"},{\"id\":\"4b7a3818-fe74-4bf3-9561-2b10f6f8a4e8\",\"type\":\"Grid\"},{\"id\":\"2dfc0e14-8f2b-4c73-ac35-c0e3da5083f4\",\"type\":\"LinearAxis\"},{\"id\":\"d8f5483a-c01a-478c-835f-37f1769de590\",\"type\":\"Grid\"},{\"id\":\"ca3c3521-ca38-4006-9342-9352ebc70307\",\"type\":\"GlyphRenderer\"}],\"title\":{\"id\":\"b1fe0ae2-fc9d-4a31-b9c7-4815f0908e4a\",\"type\":\"Title\"},\"tool_events\":{\"id\":\"c20644be-b537-4b76-9550-bc79005bd8ad\",\"type\":\"ToolEvents\"},\"toolbar\":{\"id\":\"77d538ac-6075-4c9c-82a9-d28a87a96d17\",\"type\":\"Toolbar\"},\"toolbar_location\":\"above\",\"x_range\":{\"id\":\"dccf9a5a-587d-410b-b58f-f997d6b93586\",\"type\":\"DataRange1d\"},\"y_range\":{\"id\":\"d6083051-cb87-479e-804a-5e9c8b78946b\",\"type\":\"DataRange1d\"}},\"id\":\"02f2cc40-9df6-4a77-a9a0-ceafc3d14ba0\",\"subtype\":\"Figure\",\"type\":\"Plot\"},{\"attributes\":{},\"id\":\"49341bfb-a120-4bd7-bdc3-ca20f19fa4bc\",\"type\":\"BasicTickFormatter\"},{\"attributes\":{\"callback\":null,\"column_names\":[\"left\",\"right\",\"top\"],\"data\":{\"left\":{\"__ndarray__\":\"AAAAAABAeUB7FK5H4VqjQHsUrkfhxrFAuB6F61HguUB7FK5H4fzAQJqZmZmZCcVAuB6F61EWyUDXo3A9CiPNQHsUrkfhl9BACtejcD2e0kCamZmZmaTUQClcj8L1qtZAuB6F61Gx2EBI4XoUrrfaQNejcD0KvtxAZ2ZmZmbE3kB7FK5HYWXgQMP1KFyPaOFACtejcL1r4kBSuB6F627jQJqZmZkZcuRA4XoUrkd15UApXI/CdXjmQHE9Cteje+dAuB6F69F+6EAAAAAAAILpQEjhehQuhepAkML1KFyI60DXo3A9iovsQB+F61G4ju1AZ2ZmZuaR7kCuR+F6FJXvQHsUrkchTPBAH4XrUbjN8EDD9ShcT0/xQGdmZmbm0PFACtejcH1S8kCuR+F6FNTyQFK4HoWrVfNA9ihcj0LX80CamZmZ2Vj0QD4K16Nw2vRA4XoUrgdc9UCF61G4nt31QClcj8I1X/ZAzczMzMzg9kBxPQrXY2L3QBWuR+H64/dAuB6F65Fl+EBcj8L1KOf4QAAAAADAaPlApHA9Clfq+UBI4XoU7mv6QOxRuB6F7fpAkML1KBxv+0AzMzMzs/D7QNejcD1KcvxAexSuR+Hz/EAfhetReHX9QMP1KFwP9/1AZ2ZmZqZ4/kAK16NwPfr+QK5H4XrUe/9AUrgehWv9/0B7FK5HgT8AQc3MzMxMgABBH4XrURjBAEFxPQrX4wEBQcP1KFyvQgFBFa5H4XqDAUFnZmZmRsQBQbgehesRBQJBCtejcN1FAkFcj8L1qIYCQa5H4Xp0xwJBAAAAAEAIA0FSuB6FC0kDQaRwPQrXiQNB9ihcj6LKA0FI4XoUbgsEQZqZmZk5TARB7FG4HgWNBEE+Ctej0M0EQZDC9SicDgVB4XoUrmdPBUEzMzMzM5AFQYXrUbj+0AVB16NwPcoRBkEpXI/ClVIGQXsUrkdhkwZBzczMzCzUBkEfhetR+BQHQXE9CtfDVQdBw/UoXI+WB0EVrkfhWtcHQWdmZmYmGAhBuB6F6/FYCEEK16NwvZkIQVyPwvWI2ghBrkfhelQbCUE=\",\"dtype\":\"float64\",\"shape\":[100]},\"right\":{\"__ndarray__\":\"exSuR+Fao0B7FK5H4caxQLgehetR4LlAexSuR+H8wECamZmZmQnFQLgehetRFslA16NwPQojzUB7FK5H4ZfQQArXo3A9ntJAmpmZmZmk1EApXI/C9arWQLgehetRsdhASOF6FK632kDXo3A9Cr7cQGdmZmZmxN5AexSuR2Fl4EDD9Shcj2jhQArXo3C9a+JAUrgehetu40CamZmZGXLkQOF6FK5HdeVAKVyPwnV45kBxPQrXo3vnQLgehevRfuhAAAAAAACC6UBI4XoULoXqQJDC9ShciOtA16NwPYqL7EAfhetRuI7tQGdmZmbmke5ArkfhehSV70B7FK5HIUzwQB+F61G4zfBAw/UoXE9P8UBnZmZm5tDxQArXo3B9UvJArkfhehTU8kBSuB6Fq1XzQPYoXI9C1/NAmpmZmdlY9EA+CtejcNr0QOF6FK4HXPVAhetRuJ7d9UApXI/CNV/2QM3MzMzM4PZAcT0K12Ni90AVrkfh+uP3QLgeheuRZfhAXI/C9Sjn+EAAAAAAwGj5QKRwPQpX6vlASOF6FO5r+kDsUbgehe36QJDC9Sgcb/tAMzMzM7Pw+0DXo3A9SnL8QHsUrkfh8/xAH4XrUXh1/UDD9ShcD/f9QGdmZmameP5ACtejcD36/kCuR+F61Hv/QFK4HoVr/f9AexSuR4E/AEHNzMzMTIAAQR+F61EYwQBBcT0K1+MBAUHD9Shcr0IBQRWuR+F6gwFBZ2ZmZkbEAUG4HoXrEQUCQQrXo3DdRQJBXI/C9aiGAkGuR+F6dMcCQQAAAABACANBUrgehQtJA0GkcD0K14kDQfYoXI+iygNBSOF6FG4LBEGamZmZOUwEQexRuB4FjQRBPgrXo9DNBEGQwvUonA4FQeF6FK5nTwVBMzMzMzOQBUGF61G4/tAFQdejcD3KEQZBKVyPwpVSBkF7FK5HYZMGQc3MzMws1AZBH4XrUfgUB0FxPQrXw1UHQcP1KFyPlgdBFa5H4VrXB0FnZmZmJhgIQbgehevxWAhBCtejcL2ZCEFcj8L1iNoIQa5H4XpUGwlBAAAAACBcCUE=\",\"dtype\":\"float64\",\"shape\":[100]},\"top\":{\"__ndarray__\":\"50H1zNSBOT/ypb1tgHIBPwsriUb5Uew+zuTFiLI04j78kGUPxTHhPh40R25oQNY+zuTFiLI00j4pPQWW1y7APsTbB2FDRsg+JT0FltcuwD4tPQWW1y6wPi09BZbXLrA+JT0FltcuwD4tPQWW1y6gPiU9BZbXLrA+LT0FltcuoD4AAAAAAAAAADU9BZbXLqA+AAAAAAAAAAAAAAAAAAAAAAAAAAAAAAAAAAAAAAAAAAAAAAAAAAAAADU9BZbXLqA+AAAAAAAAAAAAAAAAAAAAAAAAAAAAAAAANT0FltcuoD4AAAAAAAAAAAAAAAAAAAAANT0FltcuoD4AAAAAAAAAACU9BZbXLqA+AAAAAAAAAAAlPQWW1y6gPkU9BZbXLqA+AAAAAAAAAAAlPQWW1y6gPgAAAAAAAAAAJT0FltcuoD4AAAAAAAAAAAAAAAAAAAAAAAAAAAAAAAAAAAAAAAAAAAAAAAAAAAAAJT0FltcuoD4AAAAAAAAAAAAAAAAAAAAAAAAAAAAAAAAAAAAAAAAAACU9BZbXLqA+AAAAAAAAAAAAAAAAAAAAAAAAAAAAAAAAAAAAAAAAAAAlPQWW1y6gPgAAAAAAAAAAAAAAAAAAAAAAAAAAAAAAAAAAAAAAAAAART0FltcuoD4AAAAAAAAAAAAAAAAAAAAAAAAAAAAAAAAAAAAAAAAAAAAAAAAAAAAAAAAAAAAAAAAAAAAAAAAAAAAAAAAAAAAAAAAAAAAAAAAAAAAAAAAAACU9BZbXLqA+AAAAAAAAAAAAAAAAAAAAAAAAAAAAAAAAAAAAAAAAAAAAAAAAAAAAAAAAAAAAAAAAAAAAAAAAAAAAAAAAAAAAAAAAAAAAAAAAAAAAAAAAAAAAAAAAAAAAAAAAAAAAAAAAAAAAAAAAAAAAAAAAAAAAAAAAAAAAAAAAAAAAAAAAAAAAAAAAAAAAAAAAAAAAAAAAAAAAAAAAAAAAAAAAAAAAAAAAAAAAAAAAAAAAAAAAAAAAAAAAAAAAAAAAAAAAAAAAAAAAAAAAAAAAAAAAAAAAAAAAAAAAAAAAJT0FltcuoD4=\",\"dtype\":\"float64\",\"shape\":[100]}}},\"id\":\"11513b3c-e778-4b72-8951-889e0562d7ac\",\"type\":\"ColumnDataSource\"},{\"attributes\":{\"plot\":null,\"text\":\"Top-1000 words distribution\"},\"id\":\"b1fe0ae2-fc9d-4a31-b9c7-4815f0908e4a\",\"type\":\"Title\"},{\"attributes\":{\"callback\":null},\"id\":\"dccf9a5a-587d-410b-b58f-f997d6b93586\",\"type\":\"DataRange1d\"},{\"attributes\":{},\"id\":\"c20644be-b537-4b76-9550-bc79005bd8ad\",\"type\":\"ToolEvents\"},{\"attributes\":{\"active_drag\":\"auto\",\"active_scroll\":\"auto\",\"active_tap\":\"auto\",\"tools\":[{\"id\":\"3e6ad5bc-de0d-45bd-9e09-7bbab5d23699\",\"type\":\"PanTool\"},{\"id\":\"32c23ab9-fe7a-49c2-9344-890bd5824f0d\",\"type\":\"WheelZoomTool\"},{\"id\":\"7247f020-a094-46c2-bb10-549df6f47bb5\",\"type\":\"ResetTool\"},{\"id\":\"21b5b88f-c4ea-4676-ba01-5470e62c2e6b\",\"type\":\"SaveTool\"}]},\"id\":\"77d538ac-6075-4c9c-82a9-d28a87a96d17\",\"type\":\"Toolbar\"},{\"attributes\":{},\"id\":\"69985fa4-8d47-4e49-9e2e-18d6a4456a41\",\"type\":\"BasicTicker\"},{\"attributes\":{\"formatter\":{\"id\":\"49341bfb-a120-4bd7-bdc3-ca20f19fa4bc\",\"type\":\"BasicTickFormatter\"},\"plot\":{\"id\":\"02f2cc40-9df6-4a77-a9a0-ceafc3d14ba0\",\"subtype\":\"Figure\",\"type\":\"Plot\"},\"ticker\":{\"id\":\"69985fa4-8d47-4e49-9e2e-18d6a4456a41\",\"type\":\"BasicTicker\"}},\"id\":\"711ddce8-375b-41f2-acab-e63140cb5ab2\",\"type\":\"LinearAxis\"},{\"attributes\":{\"callback\":null},\"id\":\"d6083051-cb87-479e-804a-5e9c8b78946b\",\"type\":\"DataRange1d\"}],\"root_ids\":[\"02f2cc40-9df6-4a77-a9a0-ceafc3d14ba0\"]},\"title\":\"Bokeh Application\",\"version\":\"0.12.4\"}};\n",
       "            var render_items = [{\"docid\":\"123a9f40-499e-425a-acf3-88e028bef59b\",\"elementid\":\"431a3d2f-9d2a-497f-8d49-e86ecd6f2d93\",\"modelid\":\"02f2cc40-9df6-4a77-a9a0-ceafc3d14ba0\"}];\n",
       "            \n",
       "            Bokeh.embed.embed_items(docs_json, render_items);\n",
       "          };\n",
       "          if (document.readyState != \"loading\") fn();\n",
       "          else document.addEventListener(\"DOMContentLoaded\", fn);\n",
       "        })();\n",
       "      },\n",
       "      function(Bokeh) {\n",
       "      }\n",
       "    ];\n",
       "  \n",
       "    function run_inline_js() {\n",
       "      \n",
       "      if ((window.Bokeh !== undefined) || (force === true)) {\n",
       "        for (var i = 0; i < inline_js.length; i++) {\n",
       "          inline_js[i](window.Bokeh);\n",
       "        }if (force === true) {\n",
       "          display_loaded();\n",
       "        }} else if (Date.now() < window._bokeh_timeout) {\n",
       "        setTimeout(run_inline_js, 100);\n",
       "      } else if (!window._bokeh_failed_load) {\n",
       "        console.log(\"Bokeh: BokehJS failed to load within specified timeout.\");\n",
       "        window._bokeh_failed_load = true;\n",
       "      } else if (force !== true) {\n",
       "        var cell = $(document.getElementById(\"431a3d2f-9d2a-497f-8d49-e86ecd6f2d93\")).parents('.cell').data().cell;\n",
       "        cell.output_area.append_execute_result(NB_LOAD_WARNING)\n",
       "      }\n",
       "  \n",
       "    }\n",
       "  \n",
       "    if (window._bokeh_is_loading === 0) {\n",
       "      console.log(\"Bokeh: BokehJS loaded, going straight to plotting\");\n",
       "      run_inline_js();\n",
       "    } else {\n",
       "      load_libs(js_urls, function() {\n",
       "        console.log(\"Bokeh: BokehJS plotting callback run at\", now());\n",
       "        run_inline_js();\n",
       "      });\n",
       "    }\n",
       "  }(this));\n",
       "</script>"
      ]
     },
     "metadata": {},
     "output_type": "display_data"
    }
   ],
   "source": [
    "hist, edges = np.histogram(counts_ted_top1000, density=True, bins=100, normed=True)\n",
    "\n",
    "p = figure(tools=\"pan,wheel_zoom,reset,save\",\n",
    "           toolbar_location=\"above\",\n",
    "           title=\"Top-1000 words distribution\")\n",
    "p.quad(top=hist, bottom=0, left=edges[:-1], right=edges[1:], line_color=\"#555555\")\n",
    "show(p)"
   ]
  },
  {
   "cell_type": "markdown",
   "metadata": {},
   "source": [
    "### Part 3: Train Word2Vec"
   ]
  },
  {
   "cell_type": "code",
   "execution_count": 15,
   "metadata": {},
   "outputs": [
    {
     "name": "stderr",
     "output_type": "stream",
     "text": [
      "C:\\Users\\user\\Anaconda3\\lib\\site-packages\\gensim\\utils.py:865: UserWarning: detected Windows; aliasing chunkize to chunkize_serial\n",
      "  warnings.warn(\"detected Windows; aliasing chunkize to chunkize_serial\")\n"
     ]
    }
   ],
   "source": [
    "from gensim.models import Word2Vec"
   ]
  },
  {
   "cell_type": "code",
   "execution_count": 16,
   "metadata": {
    "collapsed": true
   },
   "outputs": [],
   "source": [
    "ted_model = Word2Vec(sentences_ted, size=100, window=5, min_count=5, workers=4)"
   ]
  },
  {
   "cell_type": "code",
   "execution_count": 17,
   "metadata": {
    "collapsed": true
   },
   "outputs": [],
   "source": [
    "ted_model.save('ted_model')"
   ]
  },
  {
   "cell_type": "code",
   "execution_count": 18,
   "metadata": {
    "collapsed": true
   },
   "outputs": [],
   "source": [
    "model_ted=Word2Vec.load('ted_model')"
   ]
  },
  {
   "cell_type": "markdown",
   "metadata": {},
   "source": [
    "### Part 4: Ted Learnt Representations"
   ]
  },
  {
   "cell_type": "markdown",
   "metadata": {},
   "source": [
    "Finding similar words: (see gensim docs for more functionality of `most_similar`)"
   ]
  },
  {
   "cell_type": "code",
   "execution_count": 19,
   "metadata": {},
   "outputs": [
    {
     "data": {
      "text/plain": [
       "[('woman', 0.8434584736824036),\n",
       " ('guy', 0.7755302786827087),\n",
       " ('soldier', 0.7587225437164307),\n",
       " ('girl', 0.7537696957588196),\n",
       " ('boy', 0.7495726346969604),\n",
       " ('lady', 0.7463736534118652),\n",
       " ('gentleman', 0.71807861328125),\n",
       " ('kid', 0.7014991044998169),\n",
       " ('surgeon', 0.6748530864715576),\n",
       " ('philosopher', 0.6709384918212891)]"
      ]
     },
     "execution_count": 19,
     "metadata": {},
     "output_type": "execute_result"
    }
   ],
   "source": [
    "model_ted.most_similar(\"man\")"
   ]
  },
  {
   "cell_type": "code",
   "execution_count": 20,
   "metadata": {},
   "outputs": [
    {
     "data": {
      "text/plain": [
       "[('machine', 0.7314210534095764),\n",
       " ('software', 0.7280235886573792),\n",
       " ('robot', 0.6848382353782654),\n",
       " ('device', 0.6756224632263184),\n",
       " ('3d', 0.6661896705627441),\n",
       " ('smartphone', 0.6492739915847778),\n",
       " ('simulation', 0.6462759375572205),\n",
       " ('interface', 0.6414716243743896),\n",
       " ('printer', 0.6366258859634399),\n",
       " ('video', 0.6328012347221375)]"
      ]
     },
     "execution_count": 20,
     "metadata": {},
     "output_type": "execute_result"
    }
   ],
   "source": [
    "model_ted.most_similar(\"computer\")"
   ]
  },
  {
   "cell_type": "code",
   "execution_count": 39,
   "metadata": {},
   "outputs": [
    {
     "data": {
      "text/plain": [
       "[('device', 0.6338647603988647),\n",
       " ('brain', 0.6208169460296631),\n",
       " ('mouse', 0.6168641448020935),\n",
       " ('animal', 0.6155484914779663),\n",
       " ('pattern', 0.613385796546936),\n",
       " ('structure', 0.6054258346557617),\n",
       " ('molecule', 0.5996783971786499),\n",
       " ('machine', 0.5968195796012878),\n",
       " ('interface', 0.5832939743995667),\n",
       " ('object', 0.5772948265075684)]"
      ]
     },
     "execution_count": 39,
     "metadata": {},
     "output_type": "execute_result"
    }
   ],
   "source": [
    "model_ted.most_similar(positive=['robot','human'])"
   ]
  },
  {
   "cell_type": "markdown",
   "metadata": {},
   "source": [
    "#### t-SNE visualization\n",
    "To use the t-SNE code below, first put a list of the top 1000 words (as strings) into a variable `words_top_ted`. The following code gets the corresponding vectors from the model, assuming it's called `model_ted`:"
   ]
  },
  {
   "cell_type": "code",
   "execution_count": 22,
   "metadata": {
    "collapsed": true
   },
   "outputs": [],
   "source": [
    "# This assumes words_top_ted is a list of strings, the top 1000 words\n",
    "words_top_vec_ted = model_ted[words_top_ted]"
   ]
  },
  {
   "cell_type": "code",
   "execution_count": 23,
   "metadata": {
    "collapsed": true
   },
   "outputs": [],
   "source": [
    "from sklearn.manifold import TSNE\n",
    "tsne = TSNE(n_components=2, random_state=0)\n",
    "words_top_ted_tsne = tsne.fit_transform(words_top_vec_ted)"
   ]
  },
  {
   "cell_type": "code",
   "execution_count": 24,
   "metadata": {},
   "outputs": [
    {
     "data": {
      "text/html": [
       "\n",
       "\n",
       "    <div class=\"bk-root\">\n",
       "        <div class=\"bk-plotdiv\" id=\"f8e96415-a9c2-431d-a1c0-8df25b10be0f\"></div>\n",
       "    </div>\n",
       "<script type=\"text/javascript\">\n",
       "  \n",
       "  (function(global) {\n",
       "    function now() {\n",
       "      return new Date();\n",
       "    }\n",
       "  \n",
       "    var force = false;\n",
       "  \n",
       "    if (typeof (window._bokeh_onload_callbacks) === \"undefined\" || force === true) {\n",
       "      window._bokeh_onload_callbacks = [];\n",
       "      window._bokeh_is_loading = undefined;\n",
       "    }\n",
       "  \n",
       "  \n",
       "    \n",
       "    if (typeof (window._bokeh_timeout) === \"undefined\" || force === true) {\n",
       "      window._bokeh_timeout = Date.now() + 0;\n",
       "      window._bokeh_failed_load = false;\n",
       "    }\n",
       "  \n",
       "    var NB_LOAD_WARNING = {'data': {'text/html':\n",
       "       \"<div style='background-color: #fdd'>\\n\"+\n",
       "       \"<p>\\n\"+\n",
       "       \"BokehJS does not appear to have successfully loaded. If loading BokehJS from CDN, this \\n\"+\n",
       "       \"may be due to a slow or bad network connection. Possible fixes:\\n\"+\n",
       "       \"</p>\\n\"+\n",
       "       \"<ul>\\n\"+\n",
       "       \"<li>re-rerun `output_notebook()` to attempt to load from CDN again, or</li>\\n\"+\n",
       "       \"<li>use INLINE resources instead, as so:</li>\\n\"+\n",
       "       \"</ul>\\n\"+\n",
       "       \"<code>\\n\"+\n",
       "       \"from bokeh.resources import INLINE\\n\"+\n",
       "       \"output_notebook(resources=INLINE)\\n\"+\n",
       "       \"</code>\\n\"+\n",
       "       \"</div>\"}};\n",
       "  \n",
       "    function display_loaded() {\n",
       "      if (window.Bokeh !== undefined) {\n",
       "        document.getElementById(\"f8e96415-a9c2-431d-a1c0-8df25b10be0f\").textContent = \"BokehJS successfully loaded.\";\n",
       "      } else if (Date.now() < window._bokeh_timeout) {\n",
       "        setTimeout(display_loaded, 100)\n",
       "      }\n",
       "    }\n",
       "  \n",
       "    function run_callbacks() {\n",
       "      window._bokeh_onload_callbacks.forEach(function(callback) { callback() });\n",
       "      delete window._bokeh_onload_callbacks\n",
       "      console.info(\"Bokeh: all callbacks have finished\");\n",
       "    }\n",
       "  \n",
       "    function load_libs(js_urls, callback) {\n",
       "      window._bokeh_onload_callbacks.push(callback);\n",
       "      if (window._bokeh_is_loading > 0) {\n",
       "        console.log(\"Bokeh: BokehJS is being loaded, scheduling callback at\", now());\n",
       "        return null;\n",
       "      }\n",
       "      if (js_urls == null || js_urls.length === 0) {\n",
       "        run_callbacks();\n",
       "        return null;\n",
       "      }\n",
       "      console.log(\"Bokeh: BokehJS not loaded, scheduling load and callback at\", now());\n",
       "      window._bokeh_is_loading = js_urls.length;\n",
       "      for (var i = 0; i < js_urls.length; i++) {\n",
       "        var url = js_urls[i];\n",
       "        var s = document.createElement('script');\n",
       "        s.src = url;\n",
       "        s.async = false;\n",
       "        s.onreadystatechange = s.onload = function() {\n",
       "          window._bokeh_is_loading--;\n",
       "          if (window._bokeh_is_loading === 0) {\n",
       "            console.log(\"Bokeh: all BokehJS libraries loaded\");\n",
       "            run_callbacks()\n",
       "          }\n",
       "        };\n",
       "        s.onerror = function() {\n",
       "          console.warn(\"failed to load library \" + url);\n",
       "        };\n",
       "        console.log(\"Bokeh: injecting script tag for BokehJS library: \", url);\n",
       "        document.getElementsByTagName(\"head\")[0].appendChild(s);\n",
       "      }\n",
       "    };var element = document.getElementById(\"f8e96415-a9c2-431d-a1c0-8df25b10be0f\");\n",
       "    if (element == null) {\n",
       "      console.log(\"Bokeh: ERROR: autoload.js configured with elementid 'f8e96415-a9c2-431d-a1c0-8df25b10be0f' but no matching script tag was found. \")\n",
       "      return false;\n",
       "    }\n",
       "  \n",
       "    var js_urls = [];\n",
       "  \n",
       "    var inline_js = [\n",
       "      function(Bokeh) {\n",
       "        (function() {\n",
       "          var fn = function() {\n",
       "            var docs_json = {\"c74636ac-f3aa-44f2-8c2d-c2c457643128\":{\"roots\":{\"references\":[{\"attributes\":{\"plot\":{\"id\":\"91745367-d356-428d-a555-7d29e61f7d2c\",\"subtype\":\"Figure\",\"type\":\"Plot\"}},\"id\":\"eb332250-5743-4d1f-abe4-2b5eae7bf2f7\",\"type\":\"PanTool\"},{\"attributes\":{\"plot\":{\"id\":\"91745367-d356-428d-a555-7d29e61f7d2c\",\"subtype\":\"Figure\",\"type\":\"Plot\"}},\"id\":\"e82481f6-93e4-4a85-b052-6254058182fc\",\"type\":\"WheelZoomTool\"},{\"attributes\":{\"plot\":{\"id\":\"91745367-d356-428d-a555-7d29e61f7d2c\",\"subtype\":\"Figure\",\"type\":\"Plot\"}},\"id\":\"3c72c5e3-e952-4b1c-a544-373384d236ed\",\"type\":\"ResetTool\"},{\"attributes\":{\"plot\":{\"id\":\"91745367-d356-428d-a555-7d29e61f7d2c\",\"subtype\":\"Figure\",\"type\":\"Plot\"}},\"id\":\"141f5ca9-fb36-4a1e-a902-61af3454d1fb\",\"type\":\"SaveTool\"},{\"attributes\":{\"plot\":{\"id\":\"91745367-d356-428d-a555-7d29e61f7d2c\",\"subtype\":\"Figure\",\"type\":\"Plot\"},\"source\":{\"id\":\"8e68407a-a9f5-4be2-b1a4-251b8c19781d\",\"type\":\"ColumnDataSource\"},\"text\":{\"field\":\"names\"},\"text_align\":\"center\",\"text_color\":{\"value\":\"#555555\"},\"text_font_size\":{\"value\":\"8pt\"},\"x\":{\"field\":\"x1\"},\"y\":{\"field\":\"x2\"},\"y_offset\":{\"value\":6}},\"id\":\"7e29877e-692a-4c6b-aeae-1ad5717fbcd5\",\"type\":\"LabelSet\"},{\"attributes\":{},\"id\":\"ebd8a437-7161-46ae-9950-2283d9063d08\",\"type\":\"BasicTickFormatter\"},{\"attributes\":{\"below\":[{\"id\":\"2796dfd1-fa9e-4ce7-9c23-12b199c3427a\",\"type\":\"LinearAxis\"}],\"left\":[{\"id\":\"b47e6277-b532-4c40-8cb8-55a23af0bf2a\",\"type\":\"LinearAxis\"}],\"renderers\":[{\"id\":\"2796dfd1-fa9e-4ce7-9c23-12b199c3427a\",\"type\":\"LinearAxis\"},{\"id\":\"ccea851e-f2f1-457c-871f-6949c949f5e8\",\"type\":\"Grid\"},{\"id\":\"b47e6277-b532-4c40-8cb8-55a23af0bf2a\",\"type\":\"LinearAxis\"},{\"id\":\"19e2c75c-ca08-4f49-8f9c-5fe97b770632\",\"type\":\"Grid\"},{\"id\":\"4e59d8ac-cb27-408b-a47d-cd6d551b353d\",\"type\":\"GlyphRenderer\"},{\"id\":\"7e29877e-692a-4c6b-aeae-1ad5717fbcd5\",\"type\":\"LabelSet\"}],\"title\":{\"id\":\"183b382d-9c94-48f5-9421-96e9701d0289\",\"type\":\"Title\"},\"tool_events\":{\"id\":\"0912d1c9-6153-4859-bc00-d964be380960\",\"type\":\"ToolEvents\"},\"toolbar\":{\"id\":\"ab16b04e-d393-4335-af2f-bbc8a220d085\",\"type\":\"Toolbar\"},\"toolbar_location\":\"above\",\"x_range\":{\"id\":\"120b4082-4f08-4611-94ef-4c4b5a82670a\",\"type\":\"DataRange1d\"},\"y_range\":{\"id\":\"1fea3d68-7e13-4d8a-bdd0-e5e0e2433da8\",\"type\":\"DataRange1d\"}},\"id\":\"91745367-d356-428d-a555-7d29e61f7d2c\",\"subtype\":\"Figure\",\"type\":\"Plot\"},{\"attributes\":{},\"id\":\"91dea429-8057-4a57-971b-b2e24efc2cf5\",\"type\":\"BasicTickFormatter\"},{\"attributes\":{\"callback\":null,\"column_names\":[\"x1\",\"x2\",\"names\"],\"data\":{\"names\":[\"the\",\"and\",\"to\",\"of\",\"a\",\"that\",\"i\",\"in\",\"it\",\"you\",\"we\",\"is\",\"s\",\"this\",\"so\",\"they\",\"was\",\"for\",\"are\",\"have\",\"but\",\"what\",\"on\",\"with\",\"can\",\"t\",\"about\",\"there\",\"be\",\"as\",\"at\",\"all\",\"not\",\"do\",\"my\",\"one\",\"re\",\"people\",\"like\",\"if\",\"from\",\"now\",\"our\",\"he\",\"an\",\"just\",\"these\",\"or\",\"when\",\"because\",\"very\",\"me\",\"out\",\"by\",\"them\",\"how\",\"know\",\"up\",\"going\",\"had\",\"more\",\"think\",\"who\",\"were\",\"see\",\"your\",\"their\",\"which\",\"would\",\"here\",\"really\",\"get\",\"ve\",\"then\",\"m\",\"world\",\"us\",\"time\",\"some\",\"has\",\"don\",\"actually\",\"into\",\"way\",\"where\",\"will\",\"years\",\"things\",\"other\",\"no\",\"could\",\"go\",\"well\",\"want\",\"been\",\"make\",\"right\",\"she\",\"said\",\"something\",\"those\",\"first\",\"two\",\"than\",\"much\",\"also\",\"look\",\"new\",\"thing\",\"little\",\"got\",\"back\",\"over\",\"most\",\"say\",\"even\",\"his\",\"life\",\"only\",\"work\",\"many\",\"take\",\"need\",\"did\",\"lot\",\"kind\",\"why\",\"good\",\"around\",\"every\",\"different\",\"down\",\"ll\",\"let\",\"her\",\"through\",\"same\",\"being\",\"come\",\"d\",\"day\",\"year\",\"three\",\"use\",\"doing\",\"put\",\"called\",\"any\",\"today\",\"percent\",\"made\",\"after\",\"thank\",\"tell\",\"great\",\"human\",\"find\",\"didn\",\"fact\",\"talk\",\"change\",\"started\",\"another\",\"idea\",\"big\",\"last\",\"own\",\"before\",\"its\",\"never\",\"should\",\"better\",\"give\",\"thought\",\"went\",\"might\",\"important\",\"000\",\"again\",\"able\",\"together\",\"still\",\"problem\",\"off\",\"next\",\"part\",\"course\",\"system\",\"him\",\"does\",\"each\",\"start\",\"show\",\"long\",\"ago\",\"story\",\"came\",\"brain\",\"few\",\"bit\",\"between\",\"used\",\"place\",\"technology\",\"women\",\"too\",\"old\",\"mean\",\"data\",\"water\",\"looking\",\"question\",\"maybe\",\"found\",\"love\",\"doesn\",\"end\",\"example\",\"10\",\"done\",\"point\",\"four\",\"real\",\"wanted\",\"ever\",\"school\",\"understand\",\"sort\",\"live\",\"call\",\"whole\",\"children\",\"always\",\"trying\",\"may\",\"person\",\"away\",\"believe\",\"feel\",\"try\",\"million\",\"working\",\"help\",\"everything\",\"five\",\"country\",\"thinking\",\"second\",\"using\",\"information\",\"money\",\"means\",\"power\",\"took\",\"times\",\"high\",\"space\",\"number\",\"kids\",\"home\",\"become\",\"create\",\"small\",\"design\",\"making\",\"best\",\"left\",\"getting\",\"future\",\"enough\",\"man\",\"quite\",\"city\",\"without\",\"sense\",\"happened\",\"comes\",\"social\",\"probably\",\"less\",\"light\",\"talking\",\"energy\",\"am\",\"building\",\"science\",\"food\",\"body\",\"told\",\"interesting\",\"ask\",\"half\",\"pretty\",\"hard\",\"play\",\"anything\",\"lives\",\"countries\",\"coming\",\"such\",\"family\",\"stuff\",\"dollars\",\"earth\",\"moment\",\"20\",\"imagine\",\"across\",\"side\",\"while\",\"saw\",\"happen\",\"once\",\"okay\",\"build\",\"having\",\"men\",\"later\",\"experience\",\"makes\",\"asked\",\"living\",\"seen\",\"says\",\"room\",\"hand\",\"simple\",\"health\",\"ways\",\"else\",\"case\",\"yet\",\"almost\",\"young\",\"days\",\"nothing\",\"care\",\"bad\",\"happens\",\"goes\",\"move\",\"states\",\"reason\",\"computer\",\"open\",\"learn\",\"africa\",\"process\",\"inside\",\"someone\",\"six\",\"far\",\"mind\",\"project\",\"remember\",\"single\",\"picture\",\"both\",\"whether\",\"problems\",\"saying\",\"community\",\"basically\",\"already\",\"within\",\"looked\",\"myself\",\"billion\",\"often\",\"possible\",\"business\",\"planet\",\"global\",\"everybody\",\"top\",\"sure\",\"public\",\"set\",\"wrong\",\"car\",\"book\",\"keep\",\"yes\",\"answer\",\"oh\",\"hope\",\"sometimes\",\"true\",\"history\",\"war\",\"guy\",\"child\",\"instead\",\"months\",\"ideas\",\"looks\",\"matter\",\"government\",\"amazing\",\"united\",\"since\",\"bring\",\"age\",\"cells\",\"job\",\"heard\",\"until\",\"face\",\"wasn\",\"100\",\"read\",\"control\",\"isn\",\"research\",\"30\",\"words\",\"u\",\"group\",\"under\",\"self\",\"somebody\",\"built\",\"state\",\"woman\",\"turn\",\"friends\",\"beautiful\",\"line\",\"knew\",\"couple\",\"order\",\"form\",\"yeah\",\"internet\",\"middle\",\"music\",\"piece\",\"nature\",\"head\",\"though\",\"stop\",\"everyone\",\"50\",\"places\",\"video\",\"learned\",\"language\",\"run\",\"night\",\"decided\",\"study\",\"word\",\"cancer\",\"taking\",\"works\",\"became\",\"exactly\",\"species\",\"society\",\"completely\",\"education\",\"against\",\"stories\",\"large\",\"share\",\"level\",\"heart\",\"america\",\"model\",\"questions\",\"gets\",\"mother\",\"god\",\"company\",\"turns\",\"ourselves\",\"happening\",\"hear\",\"art\",\"themselves\",\"must\",\"itself\",\"rather\",\"kinds\",\"students\",\"name\",\"hours\",\"disease\",\"front\",\"house\",\"huge\",\"couldn\",\"created\",\"universe\",\"ok\",\"animals\",\"american\",\"environment\",\"worked\",\"minutes\",\"ones\",\"black\",\"perhaps\",\"1\",\"past\",\"third\",\"along\",\"others\",\"finally\",\"sound\",\"early\",\"game\",\"thousands\",\"century\",\"based\",\"least\",\"per\",\"ted\",\"lots\",\"figure\",\"free\",\"guys\",\"particular\",\"happy\",\"news\",\"learning\",\"entire\",\"won\",\"gave\",\"machine\",\"india\",\"during\",\"systems\",\"air\",\"difference\",\"outside\",\"natural\",\"taken\",\"seven\",\"given\",\"changed\",\"leave\",\"cell\",\"15\",\"close\",\"behind\",\"cities\",\"full\",\"scale\",\"difficult\",\"china\",\"takes\",\"companies\",\"yourself\",\"area\",\"reality\",\"seeing\",\"easy\",\"turned\",\"cost\",\"eyes\",\"team\",\"moving\",\"population\",\"culture\",\"york\",\"hands\",\"whatever\",\"began\",\"needs\",\"terms\",\"image\",\"simply\",\"needed\",\"beginning\",\"father\",\"local\",\"realized\",\"media\",\"death\",\"parents\",\"view\",\"walk\",\"white\",\"market\",\"parts\",\"ocean\",\"economic\",\"eight\",\"powerful\",\"known\",\"week\",\"size\",\"felt\",\"humans\",\"certain\",\"spend\",\"longer\",\"phone\",\"wonderful\",\"cannot\",\"grow\",\"common\",\"center\",\"tried\",\"fish\",\"land\",\"oil\",\"political\",\"interested\",\"deal\",\"red\",\"gone\",\"amount\",\"weeks\",\"spent\",\"opportunity\",\"paper\",\"lost\",\"national\",\"quickly\",\"blue\",\"step\",\"poor\",\"green\",\"buy\",\"growth\",\"wouldn\",\"either\",\"patients\",\"sitting\",\"ability\",\"changes\",\"write\",\"challenge\",\"south\",\"low\",\"growing\",\"friend\",\"field\",\"shows\",\"2\",\"born\",\"rest\",\"climate\",\"40\",\"test\",\"street\",\"surface\",\"incredible\",\"average\",\"physical\",\"morning\",\"scientists\",\"program\",\"pay\",\"value\",\"feeling\",\"hundreds\",\"girl\",\"met\",\"behavior\",\"economy\",\"dna\",\"complex\",\"access\",\"risk\",\"animal\",\"structure\",\"feet\",\"attention\",\"areas\",\"anyone\",\"deep\",\"watch\",\"short\",\"absolutely\",\"speak\",\"brought\",\"die\",\"bottom\",\"numbers\",\"audience\",\"stage\",\"realize\",\"law\",\"images\",\"wrote\",\"understanding\",\"knowledge\",\"literally\",\"books\",\"movement\",\"ground\",\"giving\",\"eat\",\"force\",\"seems\",\"alone\",\"telling\",\"starting\",\"hold\",\"nice\",\"forward\",\"sea\",\"developed\",\"individual\",\"kid\",\"millions\",\"support\",\"miles\",\"tools\",\"running\",\"online\",\"result\",\"act\",\"medical\",\"technologies\",\"north\",\"lab\",\"development\",\"blood\",\"fear\",\"nobody\",\"map\",\"personal\",\"issue\",\"voice\",\"material\",\"key\",\"12\",\"recently\",\"theory\",\"cut\",\"cars\",\"sun\",\"fast\",\"changing\",\"playing\",\"clear\",\"especially\",\"soon\",\"girls\",\"patient\",\"choice\",\"fly\",\"creating\",\"normal\",\"discovered\",\"europe\",\"talked\",\"relationship\",\"gives\",\"generation\",\"dark\",\"type\",\"showed\",\"chance\",\"seem\",\"industry\",\"asking\",\"rate\",\"fun\",\"issues\",\"color\",\"designed\",\"hour\",\"university\",\"innovation\",\"several\",\"class\",\"computers\",\"english\",\"tiny\",\"allow\",\"save\",\"focus\",\"digital\",\"solve\",\"developing\",\"network\",\"film\",\"special\",\"wall\",\"situation\",\"baby\",\"solution\",\"reasons\",\"box\",\"knows\",\"meet\",\"dead\",\"stand\",\"begin\",\"haven\",\"impact\",\"anybody\",\"term\",\"beyond\",\"pictures\",\"please\",\"ice\",\"produce\",\"shape\",\"non\",\"resources\",\"robot\",\"cool\",\"groups\",\"likely\",\"stay\",\"available\",\"truth\",\"rights\",\"major\",\"cause\",\"evidence\",\"obviously\",\"writing\",\"experiment\",\"modern\",\"drug\",\"becomes\",\"incredibly\",\"aren\",\"bigger\",\"guess\",\"nine\",\"product\",\"drugs\",\"lived\",\"involved\",\"perfect\",\"google\",\"month\",\"effect\",\"similar\",\"putting\",\"eye\",\"pick\",\"message\",\"quality\",\"violence\",\"web\",\"evolution\",\"security\",\"office\",\"basic\",\"solar\",\"indeed\",\"general\",\"towards\",\"present\",\"drive\",\"send\",\"listen\",\"worth\",\"revolution\",\"explain\",\"hundred\",\"certainly\",\"died\",\"ready\",\"teach\",\"journey\",\"25\",\"hit\",\"walking\",\"led\",\"approach\",\"international\",\"200\",\"scientific\",\"games\",\"60\",\"potential\",\"crazy\",\"communities\",\"chinese\",\"device\",\"source\",\"camera\",\"rules\",\"sex\",\"carbon\",\"sounds\",\"boy\",\"reach\",\"starts\",\"examples\",\"west\",\"3\",\"success\",\"measure\",\"particularly\",\"software\",\"totally\",\"suddenly\",\"action\",\"college\",\"higher\",\"code\",\"eventually\",\"democracy\",\"among\",\"minute\",\"sit\",\"largest\",\"showing\",\"hospital\",\"notice\",\"period\",\"mass\",\"develop\",\"dream\",\"onto\",\"plants\",\"break\",\"add\",\"memory\",\"everywhere\",\"favorite\",\"11\",\"zero\",\"speed\",\"schools\",\"moved\",\"response\",\"wants\",\"extremely\",\"movie\",\"individuals\",\"table\",\"wait\",\"medicine\",\"follow\",\"anyway\",\"trust\",\"plant\",\"biggest\",\"watching\",\"organization\",\"creative\",\"road\",\"choose\",\"worse\",\"lead\",\"results\",\"500\",\"exciting\",\"grew\",\"materials\",\"jobs\",\"plan\",\"east\",\"poverty\",\"positive\",\"safe\",\"strong\",\"fall\",\"essentially\",\"object\",\"door\",\"son\",\"vision\",\"further\",\"happiness\",\"continue\",\"student\",\"doctor\",\"including\",\"named\",\"role\",\"objects\",\"extraordinary\",\"standing\",\"skin\",\"leaders\",\"usually\",\"african\",\"conversation\",\"projects\",\"allowed\",\"models\",\"supposed\",\"faster\",\"interest\",\"families\",\"police\",\"fight\",\"tree\",\"connected\",\"screen\",\"5\",\"cases\",\"goal\",\"somewhere\",\"finding\",\"buildings\",\"shown\"],\"x1\":{\"__ndarray__\":\"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\",\"dtype\":\"float32\",\"shape\":[1000]},\"x2\":{\"__ndarray__\":\"fRTmwCTCqUBOmnHB3WMyQSOYt8Dxm3VBwJCawZ8l3cEjl2BBgjRpQKfBb0CW3stB/wLHQfL7bUEWJH9B4kdwQI/+70GkqQpA/pAxQsjEDULu8IdB7tuIQfnd4sBuPgJBduDyQboWQkEWmgBBfx2WQffwKULHCiA/nwYwwWXGu0D5dbNAY5k7QuWdvsHlZxrB1ukxQlkuAcIgqHBBF/1RQdEB58EE9KVBHC/RwXZDqcF1v9jA2jdcQWIDEcLOJjBBHpgIwimHhkEVeoBB5ziSwbhx0cBqoljBdX3kwcphf0GJNAJCcGcTwVOth0FKaQNCKoA4wIXq8UH/fPjBUnIxQhEnDkKbBF1A8GDtwS2sfkFLiN5BEfKrQbzWlUHKujVCgGQNQh6DVEBOa+5B5XONwUk138FCYgbCk6cZwtosA0Jq7wxCgGBeQaYROsFnwcrAovr9QAgh5EHgFDLCjo+JwZwVrr+cgZxBMXnjQUFfLkIBhaFBxTH8QTktskE79TRCknymQUsqrcERRctB08gaQUP+EMIz7UTBtmRKwo1HUEGk+DFBAZJSQSE2+kEBRTTBsGfOv9yHbj+EPOZBwAIGwcIk5cE1Kq1AN2TgQSNDBUG+Sb7BAuSPwCgVHEGkSLXAmjUuwofvO0J4c/pBx1gCQsFoH8JRQ5Y/UH6TQSWvd0EB/OLBtmgAwq0pn0BRQufAXYrmQVTMukFOjrzBmCAywR31rUDiYhJAHqArQmsG20H3whjCn04jwgziScJH2ShCvJqNQXe4OUKTEDJB4+6DQWu/nkHLMzDCRwiLQd8PE8KE/AFCeFkPQvJHEUGC5pm//Sg3QpMND0K2TKw/Zs0PQruMJkI6xPhBB/zcwCAcer8Rfs5AFShZwf62NUBnrAfCdpCGvoojiMHkIOBBQ5GKwIhMP0JT599BzNPHQX0P2EHg1K9AbmM3wq3YMkBjpJRBXoc1wdJMD0FFwAjAVZPXwAr7UcHM/I7AXaUav3dw88D7wJPB1RfOQRc6AMIGZBZCIhQUQno+KkFP+RjCrRp2wdodxkGGN3vA7Rw+wurQOb8FhtLBzxSVQfBh18Fv8FLBVlP4wc4Rg0HrOsfBmKnsQRandsGkYho/31+BQc9yL77fhilB4rrKQW70AEIXahFCff2jwKdbvcCAM0zCVaasQVmGAMKKM0jCvWIbQGMe90F/IYjBixZ5wX6lM0IaXJY/KqwgQoNN80GPtLbAElv2wV9mMEE5SYxBxojWQVHPo8EpGb3Akkf3QeHf9kECGQ1CWK00wl2pi0HlzxBCQyIKQU5gSMIWwZfBSMTYQRjFE8HR0XZB3m52wc29QsBzm71Bn78Gwez43kGzFDbC6F0fwV02BcBPMS3Cn9H4wbxWWsHG9SJCaIovQsvHlsFoVSfBj7KAQQni7cDxVYnA/shbQXd4CcEX4YJBfq+xwcR4jUH/nrnByUJiQPtLxb8tfLRBFKbmQcQpTcGpOSdBS9U8wNHkKj17wNdBQUnSvUVq7kGgbFZBdOkJwZ0X7D8Zn3zAZ13hQcg200AgLvlBm8hTwoepgkF271dBWEQYQlPWFUFQrN7BOrPdwYzHXUHWR2c/4Dr/wcyFesFiky3ChzVDQIpUAsKhXkvCLDMLQkjl4sF/mOLAhi77QGkA3UGzyihCImIAwlZCrUGwEy9CB0I6QW3r9sGD4RbC+ZaDwGlL0UHHP+lBALc2QcjquUHDk8hB8UM5wbcq7sDgBwdB8G5fwQpak8EgMCJBHJ4YP+NQBUFaJLNAQEf3wZV8LMLo+hFBIiisQX/Cd0GqY8JBxdHkQRh0MUKxs7DBtfyWvXRmG8HNlRNBbuY5QjBSpsEi4+rAuf4GweZb10DJKUTC2n85QZ2DU8C6VFXBWSEEQmMokD9VvdHAQ4a7QAAdbkEyJr7BKpbYQfsoiMGr9bFA50LUQAzs18GEJu1B1iCYwSxjM8LTICRBYziDQfMvZcFqgktAYrY2wWKZ/UBX/JXANMkzQXDEdMHIGx9CBNxDQUpMNMFhUTTB42EaQsmgpkFAmaY+qIWyQWB35kE/EytBoOSDQf9hVcGi6pPB9E+1wTmJnsFt7MNAzuYswpAdlcHq9rNByxZTPwp8ksFYhvtAom6kwa5oDMLgWThC0nfAwXF+SMBq8r7ADK3DQUB+CcLPia/AVvQcQnuwSsJK8wpC2TYiQtJmHEJi8l/BgHRJws0cnMFpba7BoG+AwXqpwUCP5Mi/XLDZQN8EnkGSaovBcBqtwTLRM0L+jPvBJs4bQTe4RcBlEuBB8wQ+wr6BncB0xnPAdyWvQerGG8GldsHBeko+wQdB3cAi2CfAStYOwXaFO0FvTBZCvpT9QMjfSsIFK9TBn7IQwerRx0GwiCTB84ovQgXzE8K6mPVBP1RTwRxkbL1d3NvBnU5vQRt7qkFupO1B0JiSQA/qx8FYNC7BrcAlQZUpacFi+7TBO9aRwXLBlsHEGhtCu0qvwb7YGMBZsqjBRncRweUjjcH2eNhBPj2kwUIlqkGP017BU1+1QYFX2sHR+adBZLcLQqU5/MBMPOXBW1nkQZyxKL/o7w/A2DIfwsUV8cEFRYnBmb4rwte+28FKb/nAILA+wbZXsUCOYxBCQY2gQV3lZMCWI6xBjRq8wTWrncFqQMDAtKzBQdPTLcIqqLfBSP4iQELwGkEOxkHCbsFmwT6UEcEL6hXBZODewfcyc0DxZ0NBtNEDwmgNIMFLRyjC1VpGwfp6mEGnvrPBa9JHwvwmU8FAIx/CnjU7Qrp8BEFB0qnBbe8TQMsoNUHiwllACp/fP6NgC8HX3BJCDnzbQWTND8EFJqbBCJIPwlLBpsG5DZg8ufBgwGu8BMHf8fq+86erQWeJRMKb+4xBLdW5QeuQHUI3f3bABIVGwuQ8NUGbZwPBbUrUwdvdZ8BQFAfBikRRQQyXpcEpe91BLSzKwat4YEAm04TBh1dywM+lkkGSwFJBaT+2QaU7osHsVhbBK1F2wbXhYkFWBWDBQnkWwadJwsHtRRfBOUFwQVTZ9UEy6OFBAjbYwKIGzMB/3ABBUCbuQamTakEvm6DB7jWKwe7C3EGFy0fB1NR3wb/q+sG84L/A3scoQubUIkBemVjBZ8PKwX+iR7+7PUPBOiZCwkhU5UCT9xxA0iEgwozZeEDSAeZB4bbCwcjuZ0AfLxtC7rIbwHx/DMER8BJB1PHnQUw+L0JkurFABqyywRrL80EBwhfAn1Gov6iQc7+//kPBybCzQCAeOsCWEcA+/HGvQTnHlcEtHizCgt0ZQqIgq8CNCPXAlBDBQd2Dh8GlLktBQkq0PiWLU8EOsqTBw9SRPoDGKEK4ik3B7aUSQhDwcUGC8+fBqyklQY9JnsCVjwzAxlQLQuFBP8CY7LrBlDMewc+znkFN+ZjBIfSowC2VpEGShETCW80BQYQIosBvyTvBiZdHwlPsOMEyEsvAAgXvv693+EBloELCLumrv/eNFMLZbc7Bd4NHweQPKELIAuTA1rNGQLVIKMJtbqnBk7/RQYWRksD0JFbBvu3KwKIGzEALnhZChK+xwe8bXsAqUKHAdSw3wiFdMMAQWM7BGG8DQa+0UUCGmBlCaskmQREoLkH2LBJCY3C6QZX2IEJruJLAmrquwQhEVsFpEEXB5YABQgszesFIdqTBJhDdQdARscAn8/DAPxjLQIrLmcFCUR7BfsxfwDEHdEGZFiZCJ7b/wCxguUF2TBVBRwPeQaLSdkHVZyhCHEImQYZRJsEhe7O/YHeiQdy0JcAU3qLBVWgown5HFUI4CTfCgEKfwZbzSUHZ+0bBl+ulP7p8KT9KhYHBAGOfwTZ2vcHosnXBAdY0wR48WMCfdgtAgtsLQYDrBcHmlklA+50bwM8CTsEAb7jAdu9qQM9rQsJoSAHCEojDvxXRK0LQ3rbBDxOHv20/REHPlhM/KMgzQQ2dKEEwqcBA/5VRQRuL78HJNJfBVGMRwGdeK0IKn2JB99bMQMJPw0GYq6zBjhTNQfwgesC9sNRBbW3BwHLdkL9HFaHAjMbbQYEwmMCfjFZBSuFRwVV65EGiYbHBbDHcQBm6v8FmzADA1zyPQQBEJcK3BXfBJBAqwb0dO8KGtaTBgPSjwUl1KsHG+gY/7F4cQqExI0IoFaFBLaItwdpkH0IsMxLBygkGwf5FI8HDUdBAShXCwFhNIL8Z153BoREdwBBJRz7LJN/ARiXFQRq+F0JzquJA7awhQl+hGkJyqBZCSivKPtNhBkFdoHHBrGM3wT26pMF/RLlBNQezv5n0JUJZ8IrADMNFwSAttcE5QwzBijkjQWbo08FhkVdBlCwjQl+e70BxoiRAq9qIwQzFFcHTEQS9YaxBv6ZHAEFvfyJBxHU3wdfZFME0tU/B3dXUQYRmikHjIBpCVMlywOe17UH0q0DCFKYUwRPvwME4N8RBA2S3QAHw80DN2yrBms8hwpAjNT5M4bpA85tqQbnvmMAYeS9ColdWwVqI7MCppIHBkUMUwUM5GcCsNWvBFadUwSWAhUDROxTAJpv5QPukBsH7bDbBDa57QcYnKUJQ0jRCZe8VQl64AEFPCkbBj94wQgq2O8I03w1B9PzIQb5lgkGLaxBCqDggwZC0RsK5wwVCj+ZEQS0DkkE/nQnBS5WDweTNQcINRBLBegVYwVG/RMLHlNDAJAdIQbDb2cFq+JTBTzAFwWd208AEtQHBhGucwWLIk0Dh/U6/9UJHQbxSpsFwHDZC507bQZfEnsGBXLLBNoNBwj76IMAa1yNCvWLEQHZxNsHwpSdByQCrQDVg6MDSPXjBczmZwGYA2sBIG39APdEqwYADxcFnQSHCKyAkQjCQEsGI35hBUmtcwd4zBkKnFmfBvobgwFeHI0JF+ybBqNcCwZUauMH1USpCCq0tQoZzNcDsx9pAe08jwCgGPsKX2PC/KY6uwTD028HpHLlBOS6qv4QT4EEqq4lB/6olwSQi1MHJNfLAv34KQlslDsFj3hpCypIWQZcJD0Lk/svAtxYOwRcCLkFkQnnBm/zAQHo8l8C4dh5CAmJZwIuMIUKlU6nBA1o/whXA2EBJ0aNB6YGmwXgjx8GaoDPBk4O4wf8zfcFYlNRADIwAQRqe/kC+fSdCcJK1QF28mcDQ7RHBwR6ewcZ7UsBmnYPAyz0SwGNvHEIE2IXBByyXwfLXxMGz1PBAqPALwY8prcHDjfFAISIpQcibgMAptdTB0zQdQZZJnsH+GIPATJmiwTbckkFxLqLBVt2LQWFifMBT+LTAGsHiwchdl8Hn6BZCa8eYwN+Th0G/ZrbAubJDwmduusE5qnnAv2B9QDRpZUELFbPBmK+qQQ==\",\"dtype\":\"float32\",\"shape\":[1000]}}},\"id\":\"8e68407a-a9f5-4be2-b1a4-251b8c19781d\",\"type\":\"ColumnDataSource\"},{\"attributes\":{\"fill_alpha\":{\"value\":0.1},\"fill_color\":{\"value\":\"#1f77b4\"},\"line_alpha\":{\"value\":0.1},\"line_color\":{\"value\":\"#1f77b4\"},\"size\":{\"units\":\"screen\",\"value\":8},\"x\":{\"field\":\"x1\"},\"y\":{\"field\":\"x2\"}},\"id\":\"e7a3d16e-5963-4e17-923c-e4b2e8d747da\",\"type\":\"Circle\"},{\"attributes\":{\"plot\":null,\"text\":\"word2vec T-SNE for most common words\"},\"id\":\"183b382d-9c94-48f5-9421-96e9701d0289\",\"type\":\"Title\"},{\"attributes\":{\"callback\":null},\"id\":\"120b4082-4f08-4611-94ef-4c4b5a82670a\",\"type\":\"DataRange1d\"},{\"attributes\":{},\"id\":\"0912d1c9-6153-4859-bc00-d964be380960\",\"type\":\"ToolEvents\"},{\"attributes\":{\"fill_color\":{\"value\":\"#1f77b4\"},\"line_color\":{\"value\":\"#1f77b4\"},\"size\":{\"units\":\"screen\",\"value\":8},\"x\":{\"field\":\"x1\"},\"y\":{\"field\":\"x2\"}},\"id\":\"0a8eabde-9d5b-42f4-8866-dad0e34825db\",\"type\":\"Circle\"},{\"attributes\":{\"data_source\":{\"id\":\"8e68407a-a9f5-4be2-b1a4-251b8c19781d\",\"type\":\"ColumnDataSource\"},\"glyph\":{\"id\":\"0a8eabde-9d5b-42f4-8866-dad0e34825db\",\"type\":\"Circle\"},\"hover_glyph\":null,\"nonselection_glyph\":{\"id\":\"e7a3d16e-5963-4e17-923c-e4b2e8d747da\",\"type\":\"Circle\"},\"selection_glyph\":null},\"id\":\"4e59d8ac-cb27-408b-a47d-cd6d551b353d\",\"type\":\"GlyphRenderer\"},{\"attributes\":{\"active_drag\":\"auto\",\"active_scroll\":\"auto\",\"active_tap\":\"auto\",\"tools\":[{\"id\":\"eb332250-5743-4d1f-abe4-2b5eae7bf2f7\",\"type\":\"PanTool\"},{\"id\":\"e82481f6-93e4-4a85-b052-6254058182fc\",\"type\":\"WheelZoomTool\"},{\"id\":\"3c72c5e3-e952-4b1c-a544-373384d236ed\",\"type\":\"ResetTool\"},{\"id\":\"141f5ca9-fb36-4a1e-a902-61af3454d1fb\",\"type\":\"SaveTool\"}]},\"id\":\"ab16b04e-d393-4335-af2f-bbc8a220d085\",\"type\":\"Toolbar\"},{\"attributes\":{\"formatter\":{\"id\":\"ebd8a437-7161-46ae-9950-2283d9063d08\",\"type\":\"BasicTickFormatter\"},\"plot\":{\"id\":\"91745367-d356-428d-a555-7d29e61f7d2c\",\"subtype\":\"Figure\",\"type\":\"Plot\"},\"ticker\":{\"id\":\"401a2dad-45b3-4c0b-9522-c9537ece0828\",\"type\":\"BasicTicker\"}},\"id\":\"2796dfd1-fa9e-4ce7-9c23-12b199c3427a\",\"type\":\"LinearAxis\"},{\"attributes\":{\"callback\":null},\"id\":\"1fea3d68-7e13-4d8a-bdd0-e5e0e2433da8\",\"type\":\"DataRange1d\"},{\"attributes\":{},\"id\":\"401a2dad-45b3-4c0b-9522-c9537ece0828\",\"type\":\"BasicTicker\"},{\"attributes\":{\"plot\":{\"id\":\"91745367-d356-428d-a555-7d29e61f7d2c\",\"subtype\":\"Figure\",\"type\":\"Plot\"},\"ticker\":{\"id\":\"401a2dad-45b3-4c0b-9522-c9537ece0828\",\"type\":\"BasicTicker\"}},\"id\":\"ccea851e-f2f1-457c-871f-6949c949f5e8\",\"type\":\"Grid\"},{\"attributes\":{\"formatter\":{\"id\":\"91dea429-8057-4a57-971b-b2e24efc2cf5\",\"type\":\"BasicTickFormatter\"},\"plot\":{\"id\":\"91745367-d356-428d-a555-7d29e61f7d2c\",\"subtype\":\"Figure\",\"type\":\"Plot\"},\"ticker\":{\"id\":\"7d0173da-d1e8-45f6-83be-b0de712b614d\",\"type\":\"BasicTicker\"}},\"id\":\"b47e6277-b532-4c40-8cb8-55a23af0bf2a\",\"type\":\"LinearAxis\"},{\"attributes\":{},\"id\":\"7d0173da-d1e8-45f6-83be-b0de712b614d\",\"type\":\"BasicTicker\"},{\"attributes\":{\"dimension\":1,\"plot\":{\"id\":\"91745367-d356-428d-a555-7d29e61f7d2c\",\"subtype\":\"Figure\",\"type\":\"Plot\"},\"ticker\":{\"id\":\"7d0173da-d1e8-45f6-83be-b0de712b614d\",\"type\":\"BasicTicker\"}},\"id\":\"19e2c75c-ca08-4f49-8f9c-5fe97b770632\",\"type\":\"Grid\"}],\"root_ids\":[\"91745367-d356-428d-a555-7d29e61f7d2c\"]},\"title\":\"Bokeh Application\",\"version\":\"0.12.4\"}};\n",
       "            var render_items = [{\"docid\":\"c74636ac-f3aa-44f2-8c2d-c2c457643128\",\"elementid\":\"f8e96415-a9c2-431d-a1c0-8df25b10be0f\",\"modelid\":\"91745367-d356-428d-a555-7d29e61f7d2c\"}];\n",
       "            \n",
       "            Bokeh.embed.embed_items(docs_json, render_items);\n",
       "          };\n",
       "          if (document.readyState != \"loading\") fn();\n",
       "          else document.addEventListener(\"DOMContentLoaded\", fn);\n",
       "        })();\n",
       "      },\n",
       "      function(Bokeh) {\n",
       "      }\n",
       "    ];\n",
       "  \n",
       "    function run_inline_js() {\n",
       "      \n",
       "      if ((window.Bokeh !== undefined) || (force === true)) {\n",
       "        for (var i = 0; i < inline_js.length; i++) {\n",
       "          inline_js[i](window.Bokeh);\n",
       "        }if (force === true) {\n",
       "          display_loaded();\n",
       "        }} else if (Date.now() < window._bokeh_timeout) {\n",
       "        setTimeout(run_inline_js, 100);\n",
       "      } else if (!window._bokeh_failed_load) {\n",
       "        console.log(\"Bokeh: BokehJS failed to load within specified timeout.\");\n",
       "        window._bokeh_failed_load = true;\n",
       "      } else if (force !== true) {\n",
       "        var cell = $(document.getElementById(\"f8e96415-a9c2-431d-a1c0-8df25b10be0f\")).parents('.cell').data().cell;\n",
       "        cell.output_area.append_execute_result(NB_LOAD_WARNING)\n",
       "      }\n",
       "  \n",
       "    }\n",
       "  \n",
       "    if (window._bokeh_is_loading === 0) {\n",
       "      console.log(\"Bokeh: BokehJS loaded, going straight to plotting\");\n",
       "      run_inline_js();\n",
       "    } else {\n",
       "      load_libs(js_urls, function() {\n",
       "        console.log(\"Bokeh: BokehJS plotting callback run at\", now());\n",
       "        run_inline_js();\n",
       "      });\n",
       "    }\n",
       "  }(this));\n",
       "</script>"
      ]
     },
     "metadata": {},
     "output_type": "display_data"
    }
   ],
   "source": [
    "p = figure(tools=\"pan,wheel_zoom,reset,save\",\n",
    "           toolbar_location=\"above\",\n",
    "           title=\"word2vec T-SNE for most common words\")\n",
    "\n",
    "source = ColumnDataSource(data=dict(x1=words_top_ted_tsne[:,0],\n",
    "                                    x2=words_top_ted_tsne[:,1],\n",
    "                                    names=words_top_ted))\n",
    "\n",
    "p.scatter(x=\"x1\", y=\"x2\", size=8, source=source)\n",
    "\n",
    "labels = LabelSet(x=\"x1\", y=\"x2\", text=\"names\", y_offset=6,\n",
    "                  text_font_size=\"8pt\", text_color=\"#555555\",\n",
    "                  source=source, text_align='center')\n",
    "p.add_layout(labels)\n",
    "\n",
    "show(p)"
   ]
  },
  {
   "cell_type": "markdown",
   "metadata": {},
   "source": [
    "### Part 5: Wiki Learnt Representations"
   ]
  },
  {
   "cell_type": "markdown",
   "metadata": {},
   "source": [
    "Download dataset"
   ]
  },
  {
   "cell_type": "code",
   "execution_count": 25,
   "metadata": {
    "collapsed": true
   },
   "outputs": [],
   "source": [
    "if not os.path.isfile('wikitext-103-raw-v1.zip'):\n",
    "    urllib.request.urlretrieve(\"https://s3.amazonaws.com/research.metamind.io/wikitext/wikitext-103-raw-v1.zip\", filename=\"wikitext-103-raw-v1.zip\")"
   ]
  },
  {
   "cell_type": "code",
   "execution_count": 26,
   "metadata": {
    "collapsed": true
   },
   "outputs": [],
   "source": [
    "with zipfile.ZipFile('wikitext-103-raw-v1.zip', 'r') as z:\n",
    "    input_text = str(z.open('wikitext-103-raw/wiki.train.raw', 'r').read(), encoding='utf-8') # Thanks Robert Bastian"
   ]
  },
  {
   "cell_type": "markdown",
   "metadata": {},
   "source": [
    "Preprocess sentences (note that it's important to remove small sentences for performance)"
   ]
  },
  {
   "cell_type": "code",
   "execution_count": 27,
   "metadata": {
    "collapsed": true
   },
   "outputs": [],
   "source": [
    "sentences_wiki = []\n",
    "for line in input_text.split('\\n'):\n",
    "    s = [x for x in line.split('.') if x and len(x.split()) >= 5]\n",
    "    sentences_wiki.extend(s)\n",
    "    \n",
    "for s_i in range(len(sentences_wiki)):\n",
    "    sentences_wiki[s_i] = re.sub(\"[^a-z]\", \" \", sentences_wiki[s_i].lower())\n",
    "    sentences_wiki[s_i] = re.sub(r'\\([^)]*\\)', '', sentences_wiki[s_i])\n",
    "del input_text"
   ]
  },
  {
   "cell_type": "code",
   "execution_count": 28,
   "metadata": {},
   "outputs": [
    {
     "name": "stdout",
     "output_type": "stream",
     "text": [
      "4267112\n",
      "853422\n"
     ]
    }
   ],
   "source": [
    "# sample 1/5 of the data\n",
    "shuffle(sentences_wiki)\n",
    "print(len(sentences_wiki))\n",
    "sentences_wiki = sentences_wiki[:int(len(sentences_wiki)/5)]\n",
    "print(len(sentences_wiki))"
   ]
  },
  {
   "cell_type": "code",
   "execution_count": 29,
   "metadata": {},
   "outputs": [
    {
     "name": "stdout",
     "output_type": "stream",
     "text": [
      "['spongebob', 'and', 'patrick', 'run', 'into', 'squidward', 'who', 'thinks', 'they', 'stole', 'the', 'missing', 'half', 'of', 'the', 'medallion']\n"
     ]
    }
   ],
   "source": [
    "sentences_wiki_2=[]\n",
    "for k in sentences_wiki:\n",
    "    sentences_wiki_2.append(k.split())\n",
    "print(sentences_wiki_2[0])"
   ]
  },
  {
   "cell_type": "code",
   "execution_count": null,
   "metadata": {
    "collapsed": true
   },
   "outputs": [],
   "source": []
  },
  {
   "cell_type": "markdown",
   "metadata": {},
   "source": [
    "Now, repeat all the same steps that you performed above. You should be able to reuse essentially all the code."
   ]
  },
  {
   "cell_type": "code",
   "execution_count": 30,
   "metadata": {},
   "outputs": [
    {
     "name": "stdout",
     "output_type": "stream",
     "text": [
      "['the', 'of', 'and', 'in', 'to', 'a', 'was']\n"
     ]
    }
   ],
   "source": [
    "wc=collections.Counter()\n",
    "for s in sentences_wiki:\n",
    "    for word in s.split():\n",
    "        wc[word]+=1\n",
    "words_top_wiki=list(k[0] for k in wc.most_common(1000))\n",
    "counts_wiki_top1000=list(k[1] for k in wc.most_common(1000))\n",
    "print(words_top_wiki[:7])"
   ]
  },
  {
   "cell_type": "code",
   "execution_count": 31,
   "metadata": {},
   "outputs": [
    {
     "name": "stdout",
     "output_type": "stream",
     "text": [
      "['the', 'of', 'and', 'in', 'to', 'a', 'was']\n"
     ]
    }
   ],
   "source": [
    "print(words_top_wiki[:7])"
   ]
  },
  {
   "cell_type": "markdown",
   "metadata": {},
   "source": [
    "Plot distribution of top-1000 words"
   ]
  },
  {
   "cell_type": "code",
   "execution_count": 32,
   "metadata": {
    "scrolled": true
   },
   "outputs": [
    {
     "data": {
      "text/html": [
       "\n",
       "\n",
       "    <div class=\"bk-root\">\n",
       "        <div class=\"bk-plotdiv\" id=\"d0ed693b-8e39-47bc-83b2-0f75dc26f6a6\"></div>\n",
       "    </div>\n",
       "<script type=\"text/javascript\">\n",
       "  \n",
       "  (function(global) {\n",
       "    function now() {\n",
       "      return new Date();\n",
       "    }\n",
       "  \n",
       "    var force = false;\n",
       "  \n",
       "    if (typeof (window._bokeh_onload_callbacks) === \"undefined\" || force === true) {\n",
       "      window._bokeh_onload_callbacks = [];\n",
       "      window._bokeh_is_loading = undefined;\n",
       "    }\n",
       "  \n",
       "  \n",
       "    \n",
       "    if (typeof (window._bokeh_timeout) === \"undefined\" || force === true) {\n",
       "      window._bokeh_timeout = Date.now() + 0;\n",
       "      window._bokeh_failed_load = false;\n",
       "    }\n",
       "  \n",
       "    var NB_LOAD_WARNING = {'data': {'text/html':\n",
       "       \"<div style='background-color: #fdd'>\\n\"+\n",
       "       \"<p>\\n\"+\n",
       "       \"BokehJS does not appear to have successfully loaded. If loading BokehJS from CDN, this \\n\"+\n",
       "       \"may be due to a slow or bad network connection. Possible fixes:\\n\"+\n",
       "       \"</p>\\n\"+\n",
       "       \"<ul>\\n\"+\n",
       "       \"<li>re-rerun `output_notebook()` to attempt to load from CDN again, or</li>\\n\"+\n",
       "       \"<li>use INLINE resources instead, as so:</li>\\n\"+\n",
       "       \"</ul>\\n\"+\n",
       "       \"<code>\\n\"+\n",
       "       \"from bokeh.resources import INLINE\\n\"+\n",
       "       \"output_notebook(resources=INLINE)\\n\"+\n",
       "       \"</code>\\n\"+\n",
       "       \"</div>\"}};\n",
       "  \n",
       "    function display_loaded() {\n",
       "      if (window.Bokeh !== undefined) {\n",
       "        document.getElementById(\"d0ed693b-8e39-47bc-83b2-0f75dc26f6a6\").textContent = \"BokehJS successfully loaded.\";\n",
       "      } else if (Date.now() < window._bokeh_timeout) {\n",
       "        setTimeout(display_loaded, 100)\n",
       "      }\n",
       "    }\n",
       "  \n",
       "    function run_callbacks() {\n",
       "      window._bokeh_onload_callbacks.forEach(function(callback) { callback() });\n",
       "      delete window._bokeh_onload_callbacks\n",
       "      console.info(\"Bokeh: all callbacks have finished\");\n",
       "    }\n",
       "  \n",
       "    function load_libs(js_urls, callback) {\n",
       "      window._bokeh_onload_callbacks.push(callback);\n",
       "      if (window._bokeh_is_loading > 0) {\n",
       "        console.log(\"Bokeh: BokehJS is being loaded, scheduling callback at\", now());\n",
       "        return null;\n",
       "      }\n",
       "      if (js_urls == null || js_urls.length === 0) {\n",
       "        run_callbacks();\n",
       "        return null;\n",
       "      }\n",
       "      console.log(\"Bokeh: BokehJS not loaded, scheduling load and callback at\", now());\n",
       "      window._bokeh_is_loading = js_urls.length;\n",
       "      for (var i = 0; i < js_urls.length; i++) {\n",
       "        var url = js_urls[i];\n",
       "        var s = document.createElement('script');\n",
       "        s.src = url;\n",
       "        s.async = false;\n",
       "        s.onreadystatechange = s.onload = function() {\n",
       "          window._bokeh_is_loading--;\n",
       "          if (window._bokeh_is_loading === 0) {\n",
       "            console.log(\"Bokeh: all BokehJS libraries loaded\");\n",
       "            run_callbacks()\n",
       "          }\n",
       "        };\n",
       "        s.onerror = function() {\n",
       "          console.warn(\"failed to load library \" + url);\n",
       "        };\n",
       "        console.log(\"Bokeh: injecting script tag for BokehJS library: \", url);\n",
       "        document.getElementsByTagName(\"head\")[0].appendChild(s);\n",
       "      }\n",
       "    };var element = document.getElementById(\"d0ed693b-8e39-47bc-83b2-0f75dc26f6a6\");\n",
       "    if (element == null) {\n",
       "      console.log(\"Bokeh: ERROR: autoload.js configured with elementid 'd0ed693b-8e39-47bc-83b2-0f75dc26f6a6' but no matching script tag was found. \")\n",
       "      return false;\n",
       "    }\n",
       "  \n",
       "    var js_urls = [];\n",
       "  \n",
       "    var inline_js = [\n",
       "      function(Bokeh) {\n",
       "        (function() {\n",
       "          var fn = function() {\n",
       "            var docs_json = {\"7b50d23d-250c-4e83-b0d1-bf7d580e334a\":{\"roots\":{\"references\":[{\"attributes\":{\"bottom\":{\"value\":0},\"fill_color\":{\"value\":\"#1f77b4\"},\"left\":{\"field\":\"left\"},\"line_color\":{\"value\":\"#555555\"},\"right\":{\"field\":\"right\"},\"top\":{\"field\":\"top\"}},\"id\":\"b0838496-e900-404a-ba50-3c93eb1acbdf\",\"type\":\"Quad\"},{\"attributes\":{},\"id\":\"f7f8687d-8677-46fc-ad93-2f54f1c5b78b\",\"type\":\"BasicTickFormatter\"},{\"attributes\":{},\"id\":\"03d0348e-5231-4b9e-ba8d-51b517c41f4f\",\"type\":\"ToolEvents\"},{\"attributes\":{\"callback\":null,\"column_names\":[\"left\",\"right\",\"top\"],\"data\":{\"left\":{\"__ndarray__\":\"AAAAAAC4nUBcj8L1SNDMQFyPwvXI9NpAhetRuLbA40Bcj8L1CAfqQJqZmZmtJvBAhetRuNZJ80BwPQrX/2z2QFyPwvUokPlASOF6FFKz/EAzMzMze9b/QI/C9SjSfAFBhetRuGYOA0F7FK5H+58EQXA9CtePMQZBZmZmZiTDB0Fcj8L1uFQJQVK4HoVN5gpBSOF6FOJ3DEE9CtejdgkOQTMzMzMLmw9BFK5H4U+WEEGPwvUoGl8RQQrXo3DkJxJBhetRuK7wEkEAAAAAebkTQXsUrkdDghRB9ihcjw1LFUFwPQrX1xMWQetRuB6i3BZBZmZmZmylF0HhehSuNm4YQVyPwvUANxlB16NwPcv/GUFSuB6FlcgaQc3MzMxfkRtBSOF6FCpaHEHC9Shc9CIdQT0K16O+6x1BuB6F64i0HkEzMzMzU30fQdejcL0OIyBBFK5H4XOHIEFSuB4F2esgQY/C9Sg+UCFBzczMTKO0IUEK16NwCBkiQUjhepRtfSJBhetRuNLhIkHC9SjcN0YjQQAAAACdqiNBPQrXIwIPJEF7FK5HZ3MkQbgehWvM1yRB9ihcjzE8JUEzMzOzlqAlQXA9Ctf7BCZBrkfh+mBpJkHrUbgexs0mQSlcj0IrMidBZmZmZpCWJ0GkcD2K9fonQeF6FK5aXyhBH4Xr0b/DKEFcj8L1JCgpQZmZmRmKjClB16NwPe/wKUEUrkdhVFUqQVK4HoW5uSpBj8L1qB4eK0HNzMzMg4IrQQrXo/Do5itBSOF6FE5LLEGF61E4s68sQcL1KFwYFC1BAAAAgH14LUE9Ctej4twtQXsUrsdHQS5BuB6F66ylLkH2KFwPEgovQTMzMzN3bi9BcD0KV9zSL0HXo3C9oBswQfYoXE/TTTBBFK5H4QWAMEEzMzNzOLIwQVK4HgVr5DBBcT0Kl50WMUGPwvUo0EgxQa5H4boCezFBzczMTDWtMUHrUbjeZ98xQQrXo3CaETJBKVyPAs1DMkFI4XqU/3UyQWZmZiYyqDJBhetRuGTaMkGkcD1KlwwzQcL1KNzJPjNB4XoUbvxwM0E=\",\"dtype\":\"float64\",\"shape\":[100]},\"right\":{\"__ndarray__\":\"XI/C9UjQzEBcj8L1yPTaQIXrUbi2wONAXI/C9QgH6kCamZmZrSbwQIXrUbjWSfNAcD0K1/9s9kBcj8L1KJD5QEjhehRSs/xAMzMzM3vW/0CPwvUo0nwBQYXrUbhmDgNBexSuR/ufBEFwPQrXjzEGQWZmZmYkwwdBXI/C9bhUCUFSuB6FTeYKQUjhehTidwxBPQrXo3YJDkEzMzMzC5sPQRSuR+FPlhBBj8L1KBpfEUEK16Nw5CcSQYXrUbiu8BJBAAAAAHm5E0F7FK5HQ4IUQfYoXI8NSxVBcD0K19cTFkHrUbgeotwWQWZmZmZspRdB4XoUrjZuGEFcj8L1ADcZQdejcD3L/xlBUrgehZXIGkHNzMzMX5EbQUjhehQqWhxBwvUoXPQiHUE9CtejvusdQbgeheuItB5BMzMzM1N9H0HXo3C9DiMgQRSuR+FzhyBBUrgeBdnrIEGPwvUoPlAhQc3MzEyjtCFBCtejcAgZIkFI4XqUbX0iQYXrUbjS4SJBwvUo3DdGI0EAAAAAnaojQT0K1yMCDyRBexSuR2dzJEG4HoVrzNckQfYoXI8xPCVBMzMzs5agJUFwPQrX+wQmQa5H4fpgaSZB61G4HsbNJkEpXI9CKzInQWZmZmaQlidBpHA9ivX6J0HhehSuWl8oQR+F69G/wyhBXI/C9SQoKUGZmZkZiowpQdejcD3v8ClBFK5HYVRVKkFSuB6FubkqQY/C9ageHitBzczMzIOCK0EK16Pw6OYrQUjhehROSyxBhetROLOvLEHC9ShcGBQtQQAAAIB9eC1BPQrXo+LcLUF7FK7HR0EuQbgeheuspS5B9ihcDxIKL0EzMzMzd24vQXA9Clfc0i9B16NwvaAbMEH2KFxP000wQRSuR+EFgDBBMzMzcziyMEFSuB4Fa+QwQXE9CpedFjFBj8L1KNBIMUGuR+G6AnsxQc3MzEw1rTFB61G43mffMUEK16NwmhEyQSlcjwLNQzJBSOF6lP91MkFmZmYmMqgyQYXrUbhk2jJBpHA9SpcMM0HC9SjcyT4zQeF6FG78cDNBAAAAAC+jM0E=\",\"dtype\":\"float64\",\"shape\":[100]},\"top\":{\"__ndarray__\":\"7qFFEQa6Ej/YXCBFJCfIPurFg/2U47Q+ZbfkPHocmj7bqEV8X1WPPu/Fg/2U43Q+5ahFfF9Vjz7bqEV8X1WPPgAAAAAAAAAA78WD/ZTjhD7vxYP9lOOEPufFg/2U44Q+58WD/ZTjdD4AAAAAAAAAAAAAAAAAAAAAAAAAAAAAAADnxYP9lON0PgAAAAAAAAAAAAAAAAAAAAAAAAAAAAAAAAAAAAAAAAAAAAAAAAAAAAAAAAAAAAAAAAAAAAAAAAAAAAAAAAAAAAAAAAAAAAAAAAAAAAAAAAAAAsaD/ZTjdD4AAAAAAAAAAAAAAAAAAAAA58WD/ZTjdD4AAAAAAAAAAAAAAAAAAAAA58WD/ZTjdD4AAAAAAAAAAAAAAAAAAAAAAAAAAAAAAAAAAAAAAAAAAOfFg/2U43Q+AAAAAAAAAAAAAAAAAAAAAAAAAAAAAAAAzcWD/ZTjdD4AAAAAAAAAAAAAAAAAAAAAAAAAAAAAAAAAAAAAAAAAAAAAAAAAAAAAAAAAAAAAAAAAAAAAAAAAAAAAAAAAAAAAAAAAAAAAAAAAAAAAAAAAAAAAAAAAAAAAAAAAAAAAAAAAAAAAAAAAAAAAAAAAAAAAAAAAAAAAAAAAAAAAAAAAAAAAAAAAAAAAAAAAAAAAAAAAAAAAAAAAAAAAAAAAAAAAAAAAAAAAAAAAAAAAAAAAAAAAAAAAAAAAAAAAAAAAAAAAAAAAAAAAAAAAAAAAAAAAAAAAAAAAAAAAAAAAAAAAAAAAAAAAAAAAAAAAAAAAAAAAAAAAAAAAAAAAAAAAAAAAAAAAAAAAAAAAAAAAAAAAAAAAAAAAAAAAAAAAAAAAAAAAAAAAAAAAAAAAAAAAAAAAAAAAAAAAAAAAAAAAAAAAAAAAAAAAAAAAAAAAAAAAAAAAAAAAAAAAAAAAAAAAAAAAAAAAAAAAAAAAAAAAAAAAAAAAAAAAAAAAAAAAAAAAAAAAAAAAAAAAAAAAAAAAAAAAAAAAAAAAAAAAAAAAAAAAAAAAAAAAAAAAAAAAAAAAAAAAAAAAAAAAAAAAAAAAAAAAzcWD/ZTjdD4=\",\"dtype\":\"float64\",\"shape\":[100]}}},\"id\":\"1fef6f75-1010-43a6-9740-7d69c6228cb5\",\"type\":\"ColumnDataSource\"},{\"attributes\":{\"formatter\":{\"id\":\"67499b13-4996-4afc-91d1-61ffd9a10722\",\"type\":\"BasicTickFormatter\"},\"plot\":{\"id\":\"793d01fb-13d8-4be1-92f8-d2f5baeddcc0\",\"subtype\":\"Figure\",\"type\":\"Plot\"},\"ticker\":{\"id\":\"f1d2c8be-b4cf-40e0-9f8a-10316fb0157b\",\"type\":\"BasicTicker\"}},\"id\":\"80bdfe54-edd5-49df-91e3-1d0981c58e2e\",\"type\":\"LinearAxis\"},{\"attributes\":{\"active_drag\":\"auto\",\"active_scroll\":\"auto\",\"active_tap\":\"auto\",\"tools\":[{\"id\":\"502659b9-e8c9-404c-9a09-594b3676c10c\",\"type\":\"PanTool\"},{\"id\":\"258e8afc-0ff8-4217-89ed-80300966a357\",\"type\":\"WheelZoomTool\"},{\"id\":\"51a2b3e5-b99d-4d35-b8ee-81c3ac4e347e\",\"type\":\"ResetTool\"},{\"id\":\"a4a42d7f-0246-4449-9d6c-c63ba83e7ad4\",\"type\":\"SaveTool\"}]},\"id\":\"67a77b4a-1c61-45c0-b7da-f7b3f1d217d4\",\"type\":\"Toolbar\"},{\"attributes\":{\"data_source\":{\"id\":\"1fef6f75-1010-43a6-9740-7d69c6228cb5\",\"type\":\"ColumnDataSource\"},\"glyph\":{\"id\":\"b0838496-e900-404a-ba50-3c93eb1acbdf\",\"type\":\"Quad\"},\"hover_glyph\":null,\"nonselection_glyph\":{\"id\":\"24a7bff7-6552-431c-a0a7-d7dd349fb4db\",\"type\":\"Quad\"},\"selection_glyph\":null},\"id\":\"0c16bd7e-4ded-457d-87c9-b6debdbe1fbd\",\"type\":\"GlyphRenderer\"},{\"attributes\":{\"plot\":{\"id\":\"793d01fb-13d8-4be1-92f8-d2f5baeddcc0\",\"subtype\":\"Figure\",\"type\":\"Plot\"}},\"id\":\"a4a42d7f-0246-4449-9d6c-c63ba83e7ad4\",\"type\":\"SaveTool\"},{\"attributes\":{},\"id\":\"67499b13-4996-4afc-91d1-61ffd9a10722\",\"type\":\"BasicTickFormatter\"},{\"attributes\":{\"callback\":null},\"id\":\"9f1dca6b-b26d-472e-a8e9-66da894cbe0f\",\"type\":\"DataRange1d\"},{\"attributes\":{\"plot\":null,\"text\":\"Top-1000 words distribution\"},\"id\":\"27731e0b-fa34-45e3-be0f-bda401d180d0\",\"type\":\"Title\"},{\"attributes\":{\"plot\":{\"id\":\"793d01fb-13d8-4be1-92f8-d2f5baeddcc0\",\"subtype\":\"Figure\",\"type\":\"Plot\"}},\"id\":\"502659b9-e8c9-404c-9a09-594b3676c10c\",\"type\":\"PanTool\"},{\"attributes\":{\"plot\":{\"id\":\"793d01fb-13d8-4be1-92f8-d2f5baeddcc0\",\"subtype\":\"Figure\",\"type\":\"Plot\"},\"ticker\":{\"id\":\"f1d2c8be-b4cf-40e0-9f8a-10316fb0157b\",\"type\":\"BasicTicker\"}},\"id\":\"11073465-2bcd-428a-83d3-b19c6f72bb85\",\"type\":\"Grid\"},{\"attributes\":{\"plot\":{\"id\":\"793d01fb-13d8-4be1-92f8-d2f5baeddcc0\",\"subtype\":\"Figure\",\"type\":\"Plot\"}},\"id\":\"51a2b3e5-b99d-4d35-b8ee-81c3ac4e347e\",\"type\":\"ResetTool\"},{\"attributes\":{\"below\":[{\"id\":\"80bdfe54-edd5-49df-91e3-1d0981c58e2e\",\"type\":\"LinearAxis\"}],\"left\":[{\"id\":\"f6b329ce-d8b8-432e-a818-0f2f0a0f0b2b\",\"type\":\"LinearAxis\"}],\"renderers\":[{\"id\":\"80bdfe54-edd5-49df-91e3-1d0981c58e2e\",\"type\":\"LinearAxis\"},{\"id\":\"11073465-2bcd-428a-83d3-b19c6f72bb85\",\"type\":\"Grid\"},{\"id\":\"f6b329ce-d8b8-432e-a818-0f2f0a0f0b2b\",\"type\":\"LinearAxis\"},{\"id\":\"efe2065c-6bb6-4d81-9e68-9170e593cc09\",\"type\":\"Grid\"},{\"id\":\"0c16bd7e-4ded-457d-87c9-b6debdbe1fbd\",\"type\":\"GlyphRenderer\"}],\"title\":{\"id\":\"27731e0b-fa34-45e3-be0f-bda401d180d0\",\"type\":\"Title\"},\"tool_events\":{\"id\":\"03d0348e-5231-4b9e-ba8d-51b517c41f4f\",\"type\":\"ToolEvents\"},\"toolbar\":{\"id\":\"67a77b4a-1c61-45c0-b7da-f7b3f1d217d4\",\"type\":\"Toolbar\"},\"toolbar_location\":\"above\",\"x_range\":{\"id\":\"9f1dca6b-b26d-472e-a8e9-66da894cbe0f\",\"type\":\"DataRange1d\"},\"y_range\":{\"id\":\"f733a89f-5f6c-43d2-a12b-eddd872a749c\",\"type\":\"DataRange1d\"}},\"id\":\"793d01fb-13d8-4be1-92f8-d2f5baeddcc0\",\"subtype\":\"Figure\",\"type\":\"Plot\"},{\"attributes\":{\"bottom\":{\"value\":0},\"fill_alpha\":{\"value\":0.1},\"fill_color\":{\"value\":\"#1f77b4\"},\"left\":{\"field\":\"left\"},\"line_alpha\":{\"value\":0.1},\"line_color\":{\"value\":\"#1f77b4\"},\"right\":{\"field\":\"right\"},\"top\":{\"field\":\"top\"}},\"id\":\"24a7bff7-6552-431c-a0a7-d7dd349fb4db\",\"type\":\"Quad\"},{\"attributes\":{},\"id\":\"f1d2c8be-b4cf-40e0-9f8a-10316fb0157b\",\"type\":\"BasicTicker\"},{\"attributes\":{\"callback\":null},\"id\":\"f733a89f-5f6c-43d2-a12b-eddd872a749c\",\"type\":\"DataRange1d\"},{\"attributes\":{\"dimension\":1,\"plot\":{\"id\":\"793d01fb-13d8-4be1-92f8-d2f5baeddcc0\",\"subtype\":\"Figure\",\"type\":\"Plot\"},\"ticker\":{\"id\":\"9cb14fe2-105f-48fb-b4c2-87361fecda47\",\"type\":\"BasicTicker\"}},\"id\":\"efe2065c-6bb6-4d81-9e68-9170e593cc09\",\"type\":\"Grid\"},{\"attributes\":{\"plot\":{\"id\":\"793d01fb-13d8-4be1-92f8-d2f5baeddcc0\",\"subtype\":\"Figure\",\"type\":\"Plot\"}},\"id\":\"258e8afc-0ff8-4217-89ed-80300966a357\",\"type\":\"WheelZoomTool\"},{\"attributes\":{\"formatter\":{\"id\":\"f7f8687d-8677-46fc-ad93-2f54f1c5b78b\",\"type\":\"BasicTickFormatter\"},\"plot\":{\"id\":\"793d01fb-13d8-4be1-92f8-d2f5baeddcc0\",\"subtype\":\"Figure\",\"type\":\"Plot\"},\"ticker\":{\"id\":\"9cb14fe2-105f-48fb-b4c2-87361fecda47\",\"type\":\"BasicTicker\"}},\"id\":\"f6b329ce-d8b8-432e-a818-0f2f0a0f0b2b\",\"type\":\"LinearAxis\"},{\"attributes\":{},\"id\":\"9cb14fe2-105f-48fb-b4c2-87361fecda47\",\"type\":\"BasicTicker\"}],\"root_ids\":[\"793d01fb-13d8-4be1-92f8-d2f5baeddcc0\"]},\"title\":\"Bokeh Application\",\"version\":\"0.12.4\"}};\n",
       "            var render_items = [{\"docid\":\"7b50d23d-250c-4e83-b0d1-bf7d580e334a\",\"elementid\":\"d0ed693b-8e39-47bc-83b2-0f75dc26f6a6\",\"modelid\":\"793d01fb-13d8-4be1-92f8-d2f5baeddcc0\"}];\n",
       "            \n",
       "            Bokeh.embed.embed_items(docs_json, render_items);\n",
       "          };\n",
       "          if (document.readyState != \"loading\") fn();\n",
       "          else document.addEventListener(\"DOMContentLoaded\", fn);\n",
       "        })();\n",
       "      },\n",
       "      function(Bokeh) {\n",
       "      }\n",
       "    ];\n",
       "  \n",
       "    function run_inline_js() {\n",
       "      \n",
       "      if ((window.Bokeh !== undefined) || (force === true)) {\n",
       "        for (var i = 0; i < inline_js.length; i++) {\n",
       "          inline_js[i](window.Bokeh);\n",
       "        }if (force === true) {\n",
       "          display_loaded();\n",
       "        }} else if (Date.now() < window._bokeh_timeout) {\n",
       "        setTimeout(run_inline_js, 100);\n",
       "      } else if (!window._bokeh_failed_load) {\n",
       "        console.log(\"Bokeh: BokehJS failed to load within specified timeout.\");\n",
       "        window._bokeh_failed_load = true;\n",
       "      } else if (force !== true) {\n",
       "        var cell = $(document.getElementById(\"d0ed693b-8e39-47bc-83b2-0f75dc26f6a6\")).parents('.cell').data().cell;\n",
       "        cell.output_area.append_execute_result(NB_LOAD_WARNING)\n",
       "      }\n",
       "  \n",
       "    }\n",
       "  \n",
       "    if (window._bokeh_is_loading === 0) {\n",
       "      console.log(\"Bokeh: BokehJS loaded, going straight to plotting\");\n",
       "      run_inline_js();\n",
       "    } else {\n",
       "      load_libs(js_urls, function() {\n",
       "        console.log(\"Bokeh: BokehJS plotting callback run at\", now());\n",
       "        run_inline_js();\n",
       "      });\n",
       "    }\n",
       "  }(this));\n",
       "</script>"
      ]
     },
     "metadata": {},
     "output_type": "display_data"
    }
   ],
   "source": [
    "hist, edges = np.histogram(counts_wiki_top1000, density=True, bins=100, normed=True)\n",
    "\n",
    "p = figure(tools=\"pan,wheel_zoom,reset,save\",\n",
    "           toolbar_location=\"above\",\n",
    "           title=\"Top-1000 words distribution\")\n",
    "p.quad(top=hist, bottom=0, left=edges[:-1], right=edges[1:], line_color=\"#555555\")\n",
    "show(p)"
   ]
  },
  {
   "cell_type": "code",
   "execution_count": 33,
   "metadata": {
    "collapsed": true
   },
   "outputs": [],
   "source": [
    "wiki_model = Word2Vec(sentences_wiki_2, size=100, window=5, min_count=5, workers=4)"
   ]
  },
  {
   "cell_type": "code",
   "execution_count": 34,
   "metadata": {
    "collapsed": true
   },
   "outputs": [],
   "source": [
    "wiki_model.save('wiki_model')"
   ]
  },
  {
   "cell_type": "code",
   "execution_count": 35,
   "metadata": {
    "collapsed": true
   },
   "outputs": [],
   "source": [
    "model_wiki=Word2Vec.load('wiki_model')"
   ]
  },
  {
   "cell_type": "code",
   "execution_count": 36,
   "metadata": {},
   "outputs": [
    {
     "data": {
      "text/plain": [
       "[('woman', 0.707313060760498),\n",
       " ('girl', 0.6170614957809448),\n",
       " ('boy', 0.5929007530212402),\n",
       " ('soldier', 0.5726269483566284),\n",
       " ('person', 0.5580679774284363),\n",
       " ('kid', 0.5576465129852295),\n",
       " ('figure', 0.5489306449890137),\n",
       " ('dog', 0.5444478392601013),\n",
       " ('men', 0.5362035632133484),\n",
       " ('creature', 0.5302779674530029)]"
      ]
     },
     "execution_count": 36,
     "metadata": {},
     "output_type": "execute_result"
    }
   ],
   "source": [
    "model_wiki.most_similar(\"man\")"
   ]
  },
  {
   "cell_type": "code",
   "execution_count": 37,
   "metadata": {},
   "outputs": [
    {
     "data": {
      "text/plain": [
       "[('software', 0.8031641244888306),\n",
       " ('user', 0.762703537940979),\n",
       " ('computing', 0.7579138278961182),\n",
       " ('interface', 0.7493910789489746),\n",
       " ('hardware', 0.7437124848365784),\n",
       " ('computers', 0.7293249368667603),\n",
       " ('processor', 0.7214997410774231),\n",
       " ('graphical', 0.7023988962173462),\n",
       " ('simulation', 0.6995903849601746),\n",
       " ('console', 0.6981037855148315)]"
      ]
     },
     "execution_count": 37,
     "metadata": {},
     "output_type": "execute_result"
    }
   ],
   "source": [
    "model_wiki.most_similar(\"computer\")"
   ]
  },
  {
   "cell_type": "code",
   "execution_count": 42,
   "metadata": {},
   "outputs": [
    {
     "data": {
      "text/plain": [
       "[('mutant', 0.747876763343811),\n",
       " ('magical', 0.7419741153717041),\n",
       " ('sentient', 0.7225201725959778),\n",
       " ('creature', 0.7097342014312744),\n",
       " ('robots', 0.7075183987617493),\n",
       " ('supernatural', 0.6964319944381714),\n",
       " ('monsters', 0.6912652850151062),\n",
       " ('psychic', 0.6789574027061462),\n",
       " ('alien', 0.6787855625152588),\n",
       " ('creatures', 0.6781158447265625)]"
      ]
     },
     "execution_count": 42,
     "metadata": {},
     "output_type": "execute_result"
    }
   ],
   "source": [
    "model_wiki.most_similar(positive=['robot','human'])"
   ]
  },
  {
   "cell_type": "markdown",
   "metadata": {},
   "source": [
    "#### t-SNE visualization"
   ]
  },
  {
   "cell_type": "code",
   "execution_count": 41,
   "metadata": {
    "collapsed": true
   },
   "outputs": [],
   "source": [
    "# This assumes words_top_wiki is a list of strings, the top 1000 words\n",
    "words_top_vec_wiki = model_wiki[words_top_wiki]\n",
    "\n",
    "tsne = TSNE(n_components=2, random_state=0)\n",
    "words_top_wiki_tsne = tsne.fit_transform(words_top_vec_wiki)"
   ]
  },
  {
   "cell_type": "code",
   "execution_count": 43,
   "metadata": {},
   "outputs": [
    {
     "data": {
      "text/html": [
       "\n",
       "\n",
       "    <div class=\"bk-root\">\n",
       "        <div class=\"bk-plotdiv\" id=\"7fabbb3d-b600-4266-b2a2-877141e9052b\"></div>\n",
       "    </div>\n",
       "<script type=\"text/javascript\">\n",
       "  \n",
       "  (function(global) {\n",
       "    function now() {\n",
       "      return new Date();\n",
       "    }\n",
       "  \n",
       "    var force = false;\n",
       "  \n",
       "    if (typeof (window._bokeh_onload_callbacks) === \"undefined\" || force === true) {\n",
       "      window._bokeh_onload_callbacks = [];\n",
       "      window._bokeh_is_loading = undefined;\n",
       "    }\n",
       "  \n",
       "  \n",
       "    \n",
       "    if (typeof (window._bokeh_timeout) === \"undefined\" || force === true) {\n",
       "      window._bokeh_timeout = Date.now() + 0;\n",
       "      window._bokeh_failed_load = false;\n",
       "    }\n",
       "  \n",
       "    var NB_LOAD_WARNING = {'data': {'text/html':\n",
       "       \"<div style='background-color: #fdd'>\\n\"+\n",
       "       \"<p>\\n\"+\n",
       "       \"BokehJS does not appear to have successfully loaded. If loading BokehJS from CDN, this \\n\"+\n",
       "       \"may be due to a slow or bad network connection. Possible fixes:\\n\"+\n",
       "       \"</p>\\n\"+\n",
       "       \"<ul>\\n\"+\n",
       "       \"<li>re-rerun `output_notebook()` to attempt to load from CDN again, or</li>\\n\"+\n",
       "       \"<li>use INLINE resources instead, as so:</li>\\n\"+\n",
       "       \"</ul>\\n\"+\n",
       "       \"<code>\\n\"+\n",
       "       \"from bokeh.resources import INLINE\\n\"+\n",
       "       \"output_notebook(resources=INLINE)\\n\"+\n",
       "       \"</code>\\n\"+\n",
       "       \"</div>\"}};\n",
       "  \n",
       "    function display_loaded() {\n",
       "      if (window.Bokeh !== undefined) {\n",
       "        document.getElementById(\"7fabbb3d-b600-4266-b2a2-877141e9052b\").textContent = \"BokehJS successfully loaded.\";\n",
       "      } else if (Date.now() < window._bokeh_timeout) {\n",
       "        setTimeout(display_loaded, 100)\n",
       "      }\n",
       "    }\n",
       "  \n",
       "    function run_callbacks() {\n",
       "      window._bokeh_onload_callbacks.forEach(function(callback) { callback() });\n",
       "      delete window._bokeh_onload_callbacks\n",
       "      console.info(\"Bokeh: all callbacks have finished\");\n",
       "    }\n",
       "  \n",
       "    function load_libs(js_urls, callback) {\n",
       "      window._bokeh_onload_callbacks.push(callback);\n",
       "      if (window._bokeh_is_loading > 0) {\n",
       "        console.log(\"Bokeh: BokehJS is being loaded, scheduling callback at\", now());\n",
       "        return null;\n",
       "      }\n",
       "      if (js_urls == null || js_urls.length === 0) {\n",
       "        run_callbacks();\n",
       "        return null;\n",
       "      }\n",
       "      console.log(\"Bokeh: BokehJS not loaded, scheduling load and callback at\", now());\n",
       "      window._bokeh_is_loading = js_urls.length;\n",
       "      for (var i = 0; i < js_urls.length; i++) {\n",
       "        var url = js_urls[i];\n",
       "        var s = document.createElement('script');\n",
       "        s.src = url;\n",
       "        s.async = false;\n",
       "        s.onreadystatechange = s.onload = function() {\n",
       "          window._bokeh_is_loading--;\n",
       "          if (window._bokeh_is_loading === 0) {\n",
       "            console.log(\"Bokeh: all BokehJS libraries loaded\");\n",
       "            run_callbacks()\n",
       "          }\n",
       "        };\n",
       "        s.onerror = function() {\n",
       "          console.warn(\"failed to load library \" + url);\n",
       "        };\n",
       "        console.log(\"Bokeh: injecting script tag for BokehJS library: \", url);\n",
       "        document.getElementsByTagName(\"head\")[0].appendChild(s);\n",
       "      }\n",
       "    };var element = document.getElementById(\"7fabbb3d-b600-4266-b2a2-877141e9052b\");\n",
       "    if (element == null) {\n",
       "      console.log(\"Bokeh: ERROR: autoload.js configured with elementid '7fabbb3d-b600-4266-b2a2-877141e9052b' but no matching script tag was found. \")\n",
       "      return false;\n",
       "    }\n",
       "  \n",
       "    var js_urls = [];\n",
       "  \n",
       "    var inline_js = [\n",
       "      function(Bokeh) {\n",
       "        (function() {\n",
       "          var fn = function() {\n",
       "            var docs_json = {\"9fa8c742-b8a4-4dab-ae00-c57ea8e4c3ab\":{\"roots\":{\"references\":[{\"attributes\":{\"dimension\":1,\"plot\":{\"id\":\"720a9a0a-33fe-49f6-a9c1-44df70576b19\",\"subtype\":\"Figure\",\"type\":\"Plot\"},\"ticker\":{\"id\":\"34c5e27f-bb00-43d7-9173-53e6bad6954b\",\"type\":\"BasicTicker\"}},\"id\":\"1a684d0c-84ba-4ed6-bae0-4492fb038326\",\"type\":\"Grid\"},{\"attributes\":{\"fill_alpha\":{\"value\":0.1},\"fill_color\":{\"value\":\"#1f77b4\"},\"line_alpha\":{\"value\":0.1},\"line_color\":{\"value\":\"#1f77b4\"},\"size\":{\"units\":\"screen\",\"value\":8},\"x\":{\"field\":\"x1\"},\"y\":{\"field\":\"x2\"}},\"id\":\"71df5857-cd46-4ef2-b7c8-45691785e739\",\"type\":\"Circle\"},{\"attributes\":{\"fill_color\":{\"value\":\"#1f77b4\"},\"line_color\":{\"value\":\"#1f77b4\"},\"size\":{\"units\":\"screen\",\"value\":8},\"x\":{\"field\":\"x1\"},\"y\":{\"field\":\"x2\"}},\"id\":\"b422f9ae-92e2-4777-a0a5-6137d4fbfe02\",\"type\":\"Circle\"},{\"attributes\":{},\"id\":\"8ef0ec55-9962-4e42-b92a-b24be32016a8\",\"type\":\"BasicTickFormatter\"},{\"attributes\":{\"plot\":{\"id\":\"720a9a0a-33fe-49f6-a9c1-44df70576b19\",\"subtype\":\"Figure\",\"type\":\"Plot\"}},\"id\":\"d22c9a30-4ad9-490c-94e7-2aca1114bf2d\",\"type\":\"PanTool\"},{\"attributes\":{\"plot\":{\"id\":\"720a9a0a-33fe-49f6-a9c1-44df70576b19\",\"subtype\":\"Figure\",\"type\":\"Plot\"}},\"id\":\"0a643b0a-60ce-4ac9-af96-8f2723464ae6\",\"type\":\"WheelZoomTool\"},{\"attributes\":{\"plot\":{\"id\":\"720a9a0a-33fe-49f6-a9c1-44df70576b19\",\"subtype\":\"Figure\",\"type\":\"Plot\"}},\"id\":\"1fa45ffc-8b83-4a99-8db4-d96bce949bee\",\"type\":\"ResetTool\"},{\"attributes\":{\"plot\":{\"id\":\"720a9a0a-33fe-49f6-a9c1-44df70576b19\",\"subtype\":\"Figure\",\"type\":\"Plot\"}},\"id\":\"764be2ed-a670-48bf-b771-e0a0bf47c1fd\",\"type\":\"SaveTool\"},{\"attributes\":{},\"id\":\"8bdd6b58-7209-479c-894c-995263507693\",\"type\":\"BasicTickFormatter\"},{\"attributes\":{\"data_source\":{\"id\":\"8887a6f1-cac8-4eed-8a93-8311f3a415a2\",\"type\":\"ColumnDataSource\"},\"glyph\":{\"id\":\"b422f9ae-92e2-4777-a0a5-6137d4fbfe02\",\"type\":\"Circle\"},\"hover_glyph\":null,\"nonselection_glyph\":{\"id\":\"71df5857-cd46-4ef2-b7c8-45691785e739\",\"type\":\"Circle\"},\"selection_glyph\":null},\"id\":\"c2782e08-2ef0-4f30-9ed2-a47e185c9189\",\"type\":\"GlyphRenderer\"},{\"attributes\":{\"plot\":{\"id\":\"720a9a0a-33fe-49f6-a9c1-44df70576b19\",\"subtype\":\"Figure\",\"type\":\"Plot\"},\"source\":{\"id\":\"8887a6f1-cac8-4eed-8a93-8311f3a415a2\",\"type\":\"ColumnDataSource\"},\"text\":{\"field\":\"names\"},\"text_align\":\"center\",\"text_color\":{\"value\":\"#555555\"},\"text_font_size\":{\"value\":\"8pt\"},\"x\":{\"field\":\"x1\"},\"y\":{\"field\":\"x2\"},\"y_offset\":{\"value\":6}},\"id\":\"2189cdcb-7dc5-44d8-b9a0-20f3cb4c73b3\",\"type\":\"LabelSet\"},{\"attributes\":{\"below\":[{\"id\":\"72c51f2b-3b2e-4a27-a542-ec9dc854e119\",\"type\":\"LinearAxis\"}],\"left\":[{\"id\":\"11af5bdc-b9f6-4853-8408-f659d4257d39\",\"type\":\"LinearAxis\"}],\"renderers\":[{\"id\":\"72c51f2b-3b2e-4a27-a542-ec9dc854e119\",\"type\":\"LinearAxis\"},{\"id\":\"dc4d3f11-f8bc-4c38-86c9-cf463a69ca3e\",\"type\":\"Grid\"},{\"id\":\"11af5bdc-b9f6-4853-8408-f659d4257d39\",\"type\":\"LinearAxis\"},{\"id\":\"1a684d0c-84ba-4ed6-bae0-4492fb038326\",\"type\":\"Grid\"},{\"id\":\"c2782e08-2ef0-4f30-9ed2-a47e185c9189\",\"type\":\"GlyphRenderer\"},{\"id\":\"2189cdcb-7dc5-44d8-b9a0-20f3cb4c73b3\",\"type\":\"LabelSet\"}],\"title\":{\"id\":\"ce259520-f9e3-4f71-b8b7-d7105875a81c\",\"type\":\"Title\"},\"tool_events\":{\"id\":\"63396dfb-8cb8-431e-ba94-670d2a7ea1a5\",\"type\":\"ToolEvents\"},\"toolbar\":{\"id\":\"c7fdc17a-757c-4df7-90c9-b363194a93c3\",\"type\":\"Toolbar\"},\"toolbar_location\":\"above\",\"x_range\":{\"id\":\"79af55fe-f687-480c-b3d1-7114c6779c56\",\"type\":\"DataRange1d\"},\"y_range\":{\"id\":\"25f3b242-232e-4eca-a46f-1dcb530f43ca\",\"type\":\"DataRange1d\"}},\"id\":\"720a9a0a-33fe-49f6-a9c1-44df70576b19\",\"subtype\":\"Figure\",\"type\":\"Plot\"},{\"attributes\":{\"callback\":null,\"column_names\":[\"x1\",\"x2\",\"names\"],\"data\":{\"names\":[\"the\",\"of\",\"and\",\"in\",\"to\",\"a\",\"was\",\"s\",\"on\",\"as\",\"for\",\"that\",\"with\",\"by\",\"is\",\"his\",\"at\",\"he\",\"from\",\"it\",\"were\",\"an\",\"had\",\"which\",\"be\",\"this\",\"but\",\"first\",\"are\",\"not\",\"their\",\"after\",\"one\",\"her\",\"also\",\"its\",\"they\",\"two\",\"or\",\"have\",\"who\",\"new\",\"been\",\"has\",\"she\",\"when\",\"time\",\"during\",\"other\",\"would\",\"into\",\"all\",\"i\",\"more\",\"while\",\"over\",\"game\",\"him\",\"only\",\"later\",\"most\",\"up\",\"out\",\"three\",\"about\",\"between\",\"th\",\"there\",\"than\",\"some\",\"film\",\"may\",\"before\",\"year\",\"no\",\"made\",\"season\",\"such\",\"second\",\"where\",\"world\",\"years\",\"war\",\"both\",\"then\",\"however\",\"being\",\"them\",\"used\",\"these\",\"through\",\"song\",\"series\",\"against\",\"m\",\"many\",\"album\",\"team\",\"north\",\"city\",\"part\",\"number\",\"became\",\"can\",\"including\",\"well\",\"four\",\"several\",\"united\",\"early\",\"state\",\"under\",\"day\",\"episode\",\"south\",\"music\",\"so\",\"said\",\"following\",\"states\",\"known\",\"could\",\"although\",\"american\",\"did\",\"work\",\"began\",\"because\",\"until\",\"t\",\"released\",\"called\",\"like\",\"high\",\"people\",\"end\",\"british\",\"since\",\"around\",\"national\",\"long\",\"found\",\"best\",\"each\",\"if\",\"west\",\"life\",\"september\",\"million\",\"same\",\"another\",\"us\",\"along\",\"five\",\"show\",\"back\",\"use\",\"any\",\"took\",\"you\",\"km\",\"area\",\"final\",\"received\",\"group\",\"august\",\"century\",\"october\",\"off\",\"will\",\"school\",\"government\",\"john\",\"what\",\"due\",\"line\",\"east\",\"june\",\"system\",\"single\",\"games\",\"november\",\"home\",\"march\",\"third\",\"much\",\"april\",\"july\",\"general\",\"down\",\"left\",\"large\",\"set\",\"family\",\"based\",\"company\",\"just\",\"york\",\"house\",\"history\",\"place\",\"army\",\"we\",\"major\",\"six\",\"december\",\"played\",\"won\",\"wrote\",\"now\",\"included\",\"character\",\"january\",\"band\",\"road\",\"king\",\"name\",\"within\",\"d\",\"according\",\"near\",\"described\",\"times\",\"those\",\"own\",\"main\",\"death\",\"led\",\"video\",\"air\",\"last\",\"named\",\"river\",\"st\",\"men\",\"release\",\"record\",\"make\",\"still\",\"de\",\"original\",\"league\",\"top\",\"next\",\"battle\",\"man\",\"late\",\"even\",\"very\",\"ship\",\"storm\",\"club\",\"route\",\"small\",\"force\",\"species\",\"way\",\"production\",\"public\",\"old\",\"again\",\"february\",\"though\",\"u\",\"days\",\"great\",\"built\",\"play\",\"division\",\"university\",\"among\",\"french\",\"do\",\"role\",\"further\",\"held\",\"b\",\"german\",\"members\",\"power\",\"match\",\"player\",\"book\",\"having\",\"story\",\"water\",\"h\",\"service\",\"white\",\"continued\",\"point\",\"often\",\"side\",\"career\",\"town\",\"former\",\"order\",\"black\",\"local\",\"park\",\"without\",\"came\",\"england\",\"despite\",\"few\",\"considered\",\"party\",\"county\",\"half\",\"island\",\"take\",\"support\",\"form\",\"songs\",\"moved\",\"tropical\",\"military\",\"period\",\"development\",\"version\",\"written\",\"different\",\"become\",\"london\",\"c\",\"building\",\"forces\",\"president\",\"country\",\"ii\",\"little\",\"english\",\"given\",\"international\",\"lost\",\"court\",\"re\",\"gave\",\"track\",\"similar\",\"my\",\"never\",\"tour\",\"published\",\"returned\",\"n\",\"attack\",\"church\",\"using\",\"street\",\"went\",\"royal\",\"produced\",\"lead\",\"performance\",\"short\",\"television\",\"recorded\",\"position\",\"aircraft\",\"once\",\"class\",\"how\",\"children\",\"star\",\"ships\",\"good\",\"run\",\"throughout\",\"stated\",\"land\",\"making\",\"father\",\"live\",\"include\",\"love\",\"control\",\"per\",\"fire\",\"total\",\"highway\",\"western\",\"upon\",\"women\",\"australia\",\"week\",\"characters\",\"himself\",\"right\",\"players\",\"me\",\"age\",\"design\",\"head\",\"away\",\"previous\",\"seven\",\"young\",\"less\",\"instead\",\"station\",\"central\",\"red\",\"return\",\"southern\",\"writing\",\"rock\",\"title\",\"r\",\"light\",\"developed\",\"ten\",\"months\",\"e\",\"political\",\"law\",\"areas\",\"result\",\"remained\",\"ft\",\"died\",\"sea\",\"across\",\"night\",\"james\",\"style\",\"eight\",\"too\",\"office\",\"created\",\"hurricane\",\"center\",\"japanese\",\"race\",\"announced\",\"together\",\"college\",\"various\",\"low\",\"america\",\"award\",\"reached\",\"son\",\"william\",\"seen\",\"reported\",\"field\",\"noted\",\"sent\",\"eventually\",\"miles\",\"followed\",\"felt\",\"win\",\"served\",\"act\",\"construction\",\"full\",\"member\",\"level\",\"should\",\"common\",\"performed\",\"able\",\"works\",\"northern\",\"taken\",\"range\",\"success\",\"killed\",\"body\",\"mm\",\"born\",\"chart\",\"started\",\"appeared\",\"features\",\"campaign\",\"action\",\"points\",\"thought\",\"originally\",\"located\",\"feet\",\"addition\",\"post\",\"caused\",\"project\",\"others\",\"behind\",\"critics\",\"rather\",\"football\",\"australian\",\"established\",\"formed\",\"front\",\"george\",\"modern\",\"fourth\",\"site\",\"playing\",\"sold\",\"stage\",\"special\",\"present\",\"get\",\"o\",\"damage\",\"bridge\",\"heavy\",\"f\",\"close\",\"championship\",\"added\",\"popular\",\"eastern\",\"director\",\"important\",\"strong\",\"decided\",\"saw\",\"go\",\"open\",\"command\",\"population\",\"see\",\"completed\",\"almost\",\"awards\",\"non\",\"ground\",\"every\",\"soon\",\"fleet\",\"art\",\"opened\",\"initially\",\"michael\",\"kingdom\",\"guns\",\"france\",\"david\",\"coast\",\"weeks\",\"union\",\"region\",\"case\",\"scene\",\"recording\",\"free\",\"towards\",\"mi\",\"worked\",\"mother\",\"working\",\"event\",\"ever\",\"leading\",\"l\",\"least\",\"sound\",\"average\",\"training\",\"help\",\"allowed\",\"either\",\"victory\",\"example\",\"hall\",\"records\",\"cup\",\"studio\",\"brought\",\"hit\",\"placed\",\"scored\",\"navy\",\"featured\",\"does\",\"magazine\",\"provided\",\"far\",\"put\",\"events\",\"generally\",\"henry\",\"wanted\",\"troops\",\"mid\",\"runs\",\"europe\",\"list\",\"hours\",\"media\",\"wife\",\"washington\",\"start\",\"human\",\"al\",\"designed\",\"joined\",\"believed\",\"nine\",\"earlier\",\"co\",\"minutes\",\"robert\",\"highest\",\"european\",\"brown\",\"involved\",\"council\",\"replaced\",\"radio\",\"japan\",\"opening\",\"operation\",\"available\",\"rest\",\"official\",\"association\",\"crew\",\"base\",\"summer\",\"saying\",\"particularly\",\"test\",\"successful\",\"significant\",\"big\",\"squadron\",\"finished\",\"police\",\"possible\",\"captain\",\"society\",\"taking\",\"films\",\"review\",\"month\",\"process\",\"ended\",\"met\",\"increased\",\"san\",\"largest\",\"research\",\"x\",\"outside\",\"shot\",\"better\",\"mph\",\"beginning\",\"come\",\"change\",\"enough\",\"lower\",\"business\",\"goal\",\"reviews\",\"cross\",\"real\",\"praised\",\"relationship\",\"forced\",\"must\",\"social\",\"turned\",\"hill\",\"thus\",\"section\",\"signed\",\"passed\",\"going\",\"round\",\"cast\",\"stone\",\"parts\",\"middle\",\"units\",\"thomas\",\"appearance\",\"chief\",\"canada\",\"additional\",\"elements\",\"charles\",\"winds\",\"future\",\"interest\",\"gold\",\"ordered\",\"community\",\"move\",\"program\",\"space\",\"find\",\"lines\",\"staff\",\"positive\",\"previously\",\"attempt\",\"castle\",\"california\",\"paul\",\"female\",\"above\",\"brother\",\"give\",\"board\",\"don\",\"rights\",\"told\",\"infantry\",\"plan\",\"critical\",\"v\",\"directed\",\"overall\",\"required\",\"lake\",\"grand\",\"gun\",\"type\",\"committee\",\"battalion\",\"money\",\"groups\",\"prior\",\"spent\",\"g\",\"news\",\"itself\",\"failed\",\"entire\",\"musical\",\"sometimes\",\"square\",\"hand\",\"room\",\"whose\",\"evidence\",\"india\",\"press\",\"cover\",\"port\",\"complete\",\"students\",\"effects\",\"usually\",\"reception\",\"score\",\"election\",\"education\",\"asked\",\"novel\",\"person\",\"movement\",\"term\",\"district\",\"surface\",\"germany\",\"ny\",\"personal\",\"green\",\"uk\",\"idea\",\"past\",\"turn\",\"introduced\",\"whom\",\"study\",\"loss\",\"limited\",\"indian\",\"stars\",\"speed\",\"smith\",\"anti\",\"plot\",\"response\",\"p\",\"governor\",\"quickly\",\"issue\",\"commander\",\"bill\",\"claimed\",\"living\",\"background\",\"our\",\"la\",\"flight\",\"bay\",\"already\",\"larger\",\"mark\",\"blue\",\"food\",\"shows\",\"department\",\"minister\",\"woman\",\"teams\",\"village\",\"writer\",\"industry\",\"cut\",\"fifth\",\"car\",\"report\",\"science\",\"especially\",\"remaining\",\"depression\",\"voice\",\"debut\",\"earth\",\"carried\",\"structure\",\"services\",\"commercial\",\"britain\",\"becoming\",\"queen\",\"defeated\",\"peter\",\"latter\",\"civil\",\"naval\",\"k\",\"decision\",\"episodes\",\"arrived\",\"suggested\",\"centre\",\"winning\",\"operations\",\"scenes\",\"network\",\"running\",\"date\",\"language\",\"current\",\"child\",\"pressure\",\"view\",\"higher\",\"soviet\",\"percent\",\"shortly\",\"islands\",\"virginia\",\"pop\",\"might\",\"los\",\"approximately\",\"finally\",\"nearly\",\"entered\",\"wide\",\"today\",\"empire\",\"railway\",\"changes\",\"estimated\",\"health\",\"course\",\"married\",\"immediately\",\"richard\",\"hot\",\"leaving\",\"nature\",\"material\",\"length\",\"influence\",\"size\",\"god\",\"daughter\",\"spanish\",\"tracks\",\"experience\",\"regular\",\"trade\",\"brigade\",\"compared\",\"face\",\"chicago\",\"contract\",\"destroyed\",\"proposed\",\"museum\",\"leader\",\"lack\",\"natural\",\"subsequently\",\"provide\",\"regiment\",\"awarded\",\"your\",\"self\",\"jackson\",\"planned\",\"related\",\"officer\",\"fans\",\"dark\",\"captured\",\"intended\",\"soldiers\",\"remains\",\"friend\",\"feature\",\"create\",\"helped\",\"officers\",\"buildings\",\"probably\",\"extended\",\"appointed\",\"upper\",\"effect\",\"producer\",\"associated\",\"longer\",\"cost\",\"key\",\"nd\",\"whether\",\"mostly\",\"fact\",\"countries\",\"professional\",\"fort\",\"supported\",\"done\",\"always\",\"plans\",\"agreed\",\"manager\",\"something\",\"billboard\",\"yet\",\"christian\",\"friends\",\"fight\",\"chinese\",\"books\",\"guitar\",\"really\",\"leave\",\"appear\",\"lord\",\"singles\",\"know\",\"ball\",\"via\",\"federal\",\"forward\",\"atlantic\",\"johnson\",\"corps\",\"conference\",\"cm\",\"mixed\",\"got\",\"minor\",\"dance\",\"themselves\",\"location\",\"here\",\"copies\",\"moving\",\"initial\",\"difficult\",\"pacific\",\"energy\",\"information\",\"removed\",\"issued\",\"texas\",\"increase\",\"edward\",\"keep\",\"ran\",\"lyrics\",\"wall\",\"pass\",\"china\",\"tons\",\"inspired\",\"singer\",\"includes\",\"private\",\"changed\",\"fell\",\"wind\",\"majority\"],\"x1\":{\"__ndarray__\":\"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\",\"dtype\":\"float32\",\"shape\":[1000]},\"x2\":{\"__ndarray__\":\"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\",\"dtype\":\"float32\",\"shape\":[1000]}}},\"id\":\"8887a6f1-cac8-4eed-8a93-8311f3a415a2\",\"type\":\"ColumnDataSource\"},{\"attributes\":{\"plot\":null,\"text\":\"word2vec T-SNE for most common words\"},\"id\":\"ce259520-f9e3-4f71-b8b7-d7105875a81c\",\"type\":\"Title\"},{\"attributes\":{\"callback\":null},\"id\":\"79af55fe-f687-480c-b3d1-7114c6779c56\",\"type\":\"DataRange1d\"},{\"attributes\":{},\"id\":\"63396dfb-8cb8-431e-ba94-670d2a7ea1a5\",\"type\":\"ToolEvents\"},{\"attributes\":{\"active_drag\":\"auto\",\"active_scroll\":\"auto\",\"active_tap\":\"auto\",\"tools\":[{\"id\":\"d22c9a30-4ad9-490c-94e7-2aca1114bf2d\",\"type\":\"PanTool\"},{\"id\":\"0a643b0a-60ce-4ac9-af96-8f2723464ae6\",\"type\":\"WheelZoomTool\"},{\"id\":\"1fa45ffc-8b83-4a99-8db4-d96bce949bee\",\"type\":\"ResetTool\"},{\"id\":\"764be2ed-a670-48bf-b771-e0a0bf47c1fd\",\"type\":\"SaveTool\"}]},\"id\":\"c7fdc17a-757c-4df7-90c9-b363194a93c3\",\"type\":\"Toolbar\"},{\"attributes\":{\"formatter\":{\"id\":\"8bdd6b58-7209-479c-894c-995263507693\",\"type\":\"BasicTickFormatter\"},\"plot\":{\"id\":\"720a9a0a-33fe-49f6-a9c1-44df70576b19\",\"subtype\":\"Figure\",\"type\":\"Plot\"},\"ticker\":{\"id\":\"bc1571a7-8865-4e23-87ee-5fda2f48572b\",\"type\":\"BasicTicker\"}},\"id\":\"72c51f2b-3b2e-4a27-a542-ec9dc854e119\",\"type\":\"LinearAxis\"},{\"attributes\":{\"callback\":null},\"id\":\"25f3b242-232e-4eca-a46f-1dcb530f43ca\",\"type\":\"DataRange1d\"},{\"attributes\":{},\"id\":\"bc1571a7-8865-4e23-87ee-5fda2f48572b\",\"type\":\"BasicTicker\"},{\"attributes\":{\"plot\":{\"id\":\"720a9a0a-33fe-49f6-a9c1-44df70576b19\",\"subtype\":\"Figure\",\"type\":\"Plot\"},\"ticker\":{\"id\":\"bc1571a7-8865-4e23-87ee-5fda2f48572b\",\"type\":\"BasicTicker\"}},\"id\":\"dc4d3f11-f8bc-4c38-86c9-cf463a69ca3e\",\"type\":\"Grid\"},{\"attributes\":{\"formatter\":{\"id\":\"8ef0ec55-9962-4e42-b92a-b24be32016a8\",\"type\":\"BasicTickFormatter\"},\"plot\":{\"id\":\"720a9a0a-33fe-49f6-a9c1-44df70576b19\",\"subtype\":\"Figure\",\"type\":\"Plot\"},\"ticker\":{\"id\":\"34c5e27f-bb00-43d7-9173-53e6bad6954b\",\"type\":\"BasicTicker\"}},\"id\":\"11af5bdc-b9f6-4853-8408-f659d4257d39\",\"type\":\"LinearAxis\"},{\"attributes\":{},\"id\":\"34c5e27f-bb00-43d7-9173-53e6bad6954b\",\"type\":\"BasicTicker\"}],\"root_ids\":[\"720a9a0a-33fe-49f6-a9c1-44df70576b19\"]},\"title\":\"Bokeh Application\",\"version\":\"0.12.4\"}};\n",
       "            var render_items = [{\"docid\":\"9fa8c742-b8a4-4dab-ae00-c57ea8e4c3ab\",\"elementid\":\"7fabbb3d-b600-4266-b2a2-877141e9052b\",\"modelid\":\"720a9a0a-33fe-49f6-a9c1-44df70576b19\"}];\n",
       "            \n",
       "            Bokeh.embed.embed_items(docs_json, render_items);\n",
       "          };\n",
       "          if (document.readyState != \"loading\") fn();\n",
       "          else document.addEventListener(\"DOMContentLoaded\", fn);\n",
       "        })();\n",
       "      },\n",
       "      function(Bokeh) {\n",
       "      }\n",
       "    ];\n",
       "  \n",
       "    function run_inline_js() {\n",
       "      \n",
       "      if ((window.Bokeh !== undefined) || (force === true)) {\n",
       "        for (var i = 0; i < inline_js.length; i++) {\n",
       "          inline_js[i](window.Bokeh);\n",
       "        }if (force === true) {\n",
       "          display_loaded();\n",
       "        }} else if (Date.now() < window._bokeh_timeout) {\n",
       "        setTimeout(run_inline_js, 100);\n",
       "      } else if (!window._bokeh_failed_load) {\n",
       "        console.log(\"Bokeh: BokehJS failed to load within specified timeout.\");\n",
       "        window._bokeh_failed_load = true;\n",
       "      } else if (force !== true) {\n",
       "        var cell = $(document.getElementById(\"7fabbb3d-b600-4266-b2a2-877141e9052b\")).parents('.cell').data().cell;\n",
       "        cell.output_area.append_execute_result(NB_LOAD_WARNING)\n",
       "      }\n",
       "  \n",
       "    }\n",
       "  \n",
       "    if (window._bokeh_is_loading === 0) {\n",
       "      console.log(\"Bokeh: BokehJS loaded, going straight to plotting\");\n",
       "      run_inline_js();\n",
       "    } else {\n",
       "      load_libs(js_urls, function() {\n",
       "        console.log(\"Bokeh: BokehJS plotting callback run at\", now());\n",
       "        run_inline_js();\n",
       "      });\n",
       "    }\n",
       "  }(this));\n",
       "</script>"
      ]
     },
     "metadata": {},
     "output_type": "display_data"
    }
   ],
   "source": [
    "p = figure(tools=\"pan,wheel_zoom,reset,save\",\n",
    "           toolbar_location=\"above\",\n",
    "           title=\"word2vec T-SNE for most common words\")\n",
    "\n",
    "source = ColumnDataSource(data=dict(x1=words_top_wiki_tsne[:,0],\n",
    "                                    x2=words_top_wiki_tsne[:,1],\n",
    "                                    names=words_top_wiki))\n",
    "\n",
    "p.scatter(x=\"x1\", y=\"x2\", size=8, source=source)\n",
    "\n",
    "labels = LabelSet(x=\"x1\", y=\"x2\", text=\"names\", y_offset=6,\n",
    "                  text_font_size=\"8pt\", text_color=\"#555555\",\n",
    "                  source=source, text_align='center')\n",
    "p.add_layout(labels)\n",
    "\n",
    "show(p)"
   ]
  },
  {
   "cell_type": "code",
   "execution_count": null,
   "metadata": {
    "collapsed": true
   },
   "outputs": [],
   "source": []
  }
 ],
 "metadata": {
  "anaconda-cloud": {},
  "kernelspec": {
   "display_name": "Python 3",
   "language": "python",
   "name": "python3"
  },
  "language_info": {
   "codemirror_mode": {
    "name": "ipython",
    "version": 3
   },
   "file_extension": ".py",
   "mimetype": "text/x-python",
   "name": "python",
   "nbconvert_exporter": "python",
   "pygments_lexer": "ipython3",
   "version": "3.6.0"
  }
 },
 "nbformat": 4,
 "nbformat_minor": 1
}
