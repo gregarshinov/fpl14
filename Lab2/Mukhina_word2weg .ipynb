{
 "cells": [
  {
   "cell_type": "code",
   "execution_count": 43,
   "metadata": {
    "collapsed": true
   },
   "outputs": [],
   "source": [
    "import numpy as np\n",
    "import os\n",
    "from random import shuffle\n",
    "import re"
   ]
  },
  {
   "cell_type": "code",
   "execution_count": 44,
   "metadata": {},
   "outputs": [
    {
     "data": {
      "text/html": [
       "\n",
       "    <div class=\"bk-root\">\n",
       "        <a href=\"https://bokeh.pydata.org\" target=\"_blank\" class=\"bk-logo bk-logo-small bk-logo-notebook\"></a>\n",
       "        <span id=\"1950e876-1e8d-499c-aced-7738c832e2ad\">Loading BokehJS ...</span>\n",
       "    </div>"
      ]
     },
     "metadata": {},
     "output_type": "display_data"
    },
    {
     "data": {
      "application/javascript": [
       "\n",
       "(function(root) {\n",
       "  function now() {\n",
       "    return new Date();\n",
       "  }\n",
       "\n",
       "  var force = true;\n",
       "\n",
       "  if (typeof (root._bokeh_onload_callbacks) === \"undefined\" || force === true) {\n",
       "    root._bokeh_onload_callbacks = [];\n",
       "    root._bokeh_is_loading = undefined;\n",
       "  }\n",
       "\n",
       "\n",
       "  \n",
       "  if (typeof (root._bokeh_timeout) === \"undefined\" || force === true) {\n",
       "    root._bokeh_timeout = Date.now() + 5000;\n",
       "    root._bokeh_failed_load = false;\n",
       "  }\n",
       "\n",
       "  var NB_LOAD_WARNING = {'data': {'text/html':\n",
       "     \"<div style='background-color: #fdd'>\\n\"+\n",
       "     \"<p>\\n\"+\n",
       "     \"BokehJS does not appear to have successfully loaded. If loading BokehJS from CDN, this \\n\"+\n",
       "     \"may be due to a slow or bad network connection. Possible fixes:\\n\"+\n",
       "     \"</p>\\n\"+\n",
       "     \"<ul>\\n\"+\n",
       "     \"<li>re-rerun `output_notebook()` to attempt to load from CDN again, or</li>\\n\"+\n",
       "     \"<li>use INLINE resources instead, as so:</li>\\n\"+\n",
       "     \"</ul>\\n\"+\n",
       "     \"<code>\\n\"+\n",
       "     \"from bokeh.resources import INLINE\\n\"+\n",
       "     \"output_notebook(resources=INLINE)\\n\"+\n",
       "     \"</code>\\n\"+\n",
       "     \"</div>\"}};\n",
       "\n",
       "  function display_loaded() {\n",
       "    if (root.Bokeh !== undefined) {\n",
       "      var el = document.getElementById(\"1950e876-1e8d-499c-aced-7738c832e2ad\");\n",
       "      if (el != null) {\n",
       "        el.textContent = \"BokehJS \" + Bokeh.version + \" successfully loaded.\";\n",
       "      }\n",
       "    } else if (Date.now() < root._bokeh_timeout) {\n",
       "      setTimeout(display_loaded, 100)\n",
       "    }\n",
       "  }\n",
       "\n",
       "\n",
       "  function run_callbacks() {\n",
       "    try {\n",
       "      root._bokeh_onload_callbacks.forEach(function(callback) { callback() });\n",
       "    }\n",
       "    finally {\n",
       "      delete root._bokeh_onload_callbacks\n",
       "    }\n",
       "    console.info(\"Bokeh: all callbacks have finished\");\n",
       "  }\n",
       "\n",
       "  function load_libs(js_urls, callback) {\n",
       "    root._bokeh_onload_callbacks.push(callback);\n",
       "    if (root._bokeh_is_loading > 0) {\n",
       "      console.log(\"Bokeh: BokehJS is being loaded, scheduling callback at\", now());\n",
       "      return null;\n",
       "    }\n",
       "    if (js_urls == null || js_urls.length === 0) {\n",
       "      run_callbacks();\n",
       "      return null;\n",
       "    }\n",
       "    console.log(\"Bokeh: BokehJS not loaded, scheduling load and callback at\", now());\n",
       "    root._bokeh_is_loading = js_urls.length;\n",
       "    for (var i = 0; i < js_urls.length; i++) {\n",
       "      var url = js_urls[i];\n",
       "      var s = document.createElement('script');\n",
       "      s.src = url;\n",
       "      s.async = false;\n",
       "      s.onreadystatechange = s.onload = function() {\n",
       "        root._bokeh_is_loading--;\n",
       "        if (root._bokeh_is_loading === 0) {\n",
       "          console.log(\"Bokeh: all BokehJS libraries loaded\");\n",
       "          run_callbacks()\n",
       "        }\n",
       "      };\n",
       "      s.onerror = function() {\n",
       "        console.warn(\"failed to load library \" + url);\n",
       "      };\n",
       "      console.log(\"Bokeh: injecting script tag for BokehJS library: \", url);\n",
       "      document.getElementsByTagName(\"head\")[0].appendChild(s);\n",
       "    }\n",
       "  };var element = document.getElementById(\"1950e876-1e8d-499c-aced-7738c832e2ad\");\n",
       "  if (element == null) {\n",
       "    console.log(\"Bokeh: ERROR: autoload.js configured with elementid '1950e876-1e8d-499c-aced-7738c832e2ad' but no matching script tag was found. \")\n",
       "    return false;\n",
       "  }\n",
       "\n",
       "  var js_urls = [\"https://cdn.pydata.org/bokeh/release/bokeh-0.12.7.min.js\", \"https://cdn.pydata.org/bokeh/release/bokeh-widgets-0.12.7.min.js\", \"https://cdn.pydata.org/bokeh/release/bokeh-tables-0.12.7.min.js\", \"https://cdn.pydata.org/bokeh/release/bokeh-gl-0.12.7.min.js\"];\n",
       "\n",
       "  var inline_js = [\n",
       "    function(Bokeh) {\n",
       "      Bokeh.set_log_level(\"info\");\n",
       "    },\n",
       "    \n",
       "    function(Bokeh) {\n",
       "      \n",
       "    },\n",
       "    \n",
       "    function(Bokeh) {\n",
       "      \n",
       "      document.getElementById(\"1950e876-1e8d-499c-aced-7738c832e2ad\").textContent = \"BokehJS is loading...\";\n",
       "    },\n",
       "    function(Bokeh) {\n",
       "      console.log(\"Bokeh: injecting CSS: https://cdn.pydata.org/bokeh/release/bokeh-0.12.7.min.css\");\n",
       "      Bokeh.embed.inject_css(\"https://cdn.pydata.org/bokeh/release/bokeh-0.12.7.min.css\");\n",
       "      console.log(\"Bokeh: injecting CSS: https://cdn.pydata.org/bokeh/release/bokeh-widgets-0.12.7.min.css\");\n",
       "      Bokeh.embed.inject_css(\"https://cdn.pydata.org/bokeh/release/bokeh-widgets-0.12.7.min.css\");\n",
       "      console.log(\"Bokeh: injecting CSS: https://cdn.pydata.org/bokeh/release/bokeh-tables-0.12.7.min.css\");\n",
       "      Bokeh.embed.inject_css(\"https://cdn.pydata.org/bokeh/release/bokeh-tables-0.12.7.min.css\");\n",
       "    }\n",
       "  ];\n",
       "\n",
       "  function run_inline_js() {\n",
       "    \n",
       "    if ((root.Bokeh !== undefined) || (force === true)) {\n",
       "      for (var i = 0; i < inline_js.length; i++) {\n",
       "        inline_js[i].call(root, root.Bokeh);\n",
       "      }if (force === true) {\n",
       "        display_loaded();\n",
       "      }} else if (Date.now() < root._bokeh_timeout) {\n",
       "      setTimeout(run_inline_js, 100);\n",
       "    } else if (!root._bokeh_failed_load) {\n",
       "      console.log(\"Bokeh: BokehJS failed to load within specified timeout.\");\n",
       "      root._bokeh_failed_load = true;\n",
       "    } else if (force !== true) {\n",
       "      var cell = $(document.getElementById(\"1950e876-1e8d-499c-aced-7738c832e2ad\")).parents('.cell').data().cell;\n",
       "      cell.output_area.append_execute_result(NB_LOAD_WARNING)\n",
       "    }\n",
       "\n",
       "  }\n",
       "\n",
       "  if (root._bokeh_is_loading === 0) {\n",
       "    console.log(\"Bokeh: BokehJS loaded, going straight to plotting\");\n",
       "    run_inline_js();\n",
       "  } else {\n",
       "    load_libs(js_urls, function() {\n",
       "      console.log(\"Bokeh: BokehJS plotting callback run at\", now());\n",
       "      run_inline_js();\n",
       "    });\n",
       "  }\n",
       "}(window));"
      ]
     },
     "metadata": {},
     "output_type": "display_data"
    }
   ],
   "source": [
    "from bokeh.models import ColumnDataSource, LabelSet\n",
    "from bokeh.plotting import figure, show, output_file\n",
    "from bokeh.io import output_notebook\n",
    "output_notebook()"
   ]
  },
  {
   "cell_type": "code",
   "execution_count": 45,
   "metadata": {
    "collapsed": true
   },
   "outputs": [],
   "source": [
    "import urllib.request\n",
    "import zipfile\n",
    "#from lxml import etree\n",
    "import lxml.etree"
   ]
  },
  {
   "cell_type": "code",
   "execution_count": 46,
   "metadata": {
    "collapsed": true
   },
   "outputs": [],
   "source": [
    "# Download the dataset \n",
    "if not os.path.isfile('ted_en-20160408.zip'):\n",
    "    urllib.request.urlretrieve(\"https://wit3.fbk.eu/get.php?path=XML_releases/xml/ted_en-20160408.zip&filename=ted_en-20160408.zip\", filename=\"ted_en-20160408.zip\")"
   ]
  },
  {
   "cell_type": "code",
   "execution_count": 47,
   "metadata": {
    "collapsed": true
   },
   "outputs": [],
   "source": [
    "# For now, we're only interested in the subtitle text, so let's extract that from the XML:\n",
    "\n",
    "with zipfile.ZipFile('ted_en-20160408.zip', 'r') as z:\n",
    "    doc = lxml.etree.parse(z.open('ted_en-20160408.xml', 'r'))\n",
    "input_text = '\\n'.join(doc.xpath('//content/text()'))\n",
    "del doc"
   ]
  },
  {
   "cell_type": "code",
   "execution_count": 48,
   "metadata": {},
   "outputs": [
    {
     "data": {
      "text/plain": [
       "' baby does.\\n(Video) Hyowon Gweon: See this? (Ball squeaks) Did you see that? (Ball squeaks) Cool. See this one? (Ball squeaks) Wow.\\nLaura Schulz: Told you. (Laughs)\\n(Vide'"
      ]
     },
     "execution_count": 48,
     "metadata": {},
     "output_type": "execute_result"
    }
   ],
   "source": [
    "i = input_text.find(\"Hyowon Gweon: See this?\")\n",
    "input_text[i-20:i+150]"
   ]
  },
  {
   "cell_type": "code",
   "execution_count": 49,
   "metadata": {
    "collapsed": true
   },
   "outputs": [],
   "source": [
    "input_text_noparens = re.sub(r'\\([^)]*\\)', '', input_text)"
   ]
  },
  {
   "cell_type": "code",
   "execution_count": 50,
   "metadata": {},
   "outputs": [
    {
     "data": {
      "text/plain": [
       "\"hat the baby does.\\n Hyowon Gweon: See this?  Did you see that?  Cool. See this one?  Wow.\\nLaura Schulz: Told you. \\n HG: See this one?  Hey Clara, this one's for you. You \""
      ]
     },
     "execution_count": 50,
     "metadata": {},
     "output_type": "execute_result"
    }
   ],
   "source": [
    "i = input_text_noparens.find(\"Hyowon Gweon: See this?\")\n",
    "input_text_noparens[i-20:i+150]"
   ]
  },
  {
   "cell_type": "code",
   "execution_count": 51,
   "metadata": {
    "collapsed": true
   },
   "outputs": [],
   "source": [
    "input_text_noparens = re.sub(r'\\([^)]*\\)', '', input_text)"
   ]
  },
  {
   "cell_type": "code",
   "execution_count": 52,
   "metadata": {},
   "outputs": [
    {
     "data": {
      "text/plain": [
       "[\"Here are two reasons companies fail: they only do more of the same, or they only do what's new\",\n",
       " 'To me the real, real solution to quality growth is figuring out the balance between two activities: exploration and exploitation',\n",
       " ' Both are necessary, but it can be too much of a good thing',\n",
       " 'Consider Facit',\n",
       " \" I'm actually old enough to remember them\"]"
      ]
     },
     "execution_count": 52,
     "metadata": {},
     "output_type": "execute_result"
    }
   ],
   "source": [
    "sentences_strings_ted = []\n",
    "for line in input_text_noparens.split('\\n'):\n",
    "    m = re.match(r'^(?:(?P<precolon>[^:]{,20}):)?(?P<postcolon>.*)$', line)\n",
    "    sentences_strings_ted.extend(sent for sent in m.groupdict()['postcolon'].split('.') if sent)\n",
    "\n",
    "# view the first few:\n",
    "sentences_strings_ted[:5]"
   ]
  },
  {
   "cell_type": "code",
   "execution_count": 53,
   "metadata": {
    "collapsed": true
   },
   "outputs": [],
   "source": [
    "sentences_ted = []\n",
    "for sent_str in sentences_strings_ted:\n",
    "    tokens = re.sub(r\"[^a-z0-9]+\", \" \", sent_str.lower()).split()\n",
    "    sentences_ted.append(tokens)"
   ]
  },
  {
   "cell_type": "code",
   "execution_count": 54,
   "metadata": {},
   "outputs": [
    {
     "data": {
      "text/plain": [
       "266694"
      ]
     },
     "execution_count": 54,
     "metadata": {},
     "output_type": "execute_result"
    }
   ],
   "source": [
    "len(sentences_ted)"
   ]
  },
  {
   "cell_type": "code",
   "execution_count": 55,
   "metadata": {},
   "outputs": [
    {
     "name": "stdout",
     "output_type": "stream",
     "text": [
      "['here', 'are', 'two', 'reasons', 'companies', 'fail', 'they', 'only', 'do', 'more', 'of', 'the', 'same', 'or', 'they', 'only', 'do', 'what', 's', 'new']\n",
      "['to', 'me', 'the', 'real', 'real', 'solution', 'to', 'quality', 'growth', 'is', 'figuring', 'out', 'the', 'balance', 'between', 'two', 'activities', 'exploration', 'and', 'exploitation']\n"
     ]
    }
   ],
   "source": [
    "print(sentences_ted[0])\n",
    "print(sentences_ted[1])"
   ]
  },
  {
   "cell_type": "code",
   "execution_count": 56,
   "metadata": {},
   "outputs": [],
   "source": [
    "import collections\n",
    "c=collections.Counter()\n",
    "for s in sentences_ted:\n",
    "    for word in s:\n",
    "        c[word]+=1\n",
    "\n",
    "words_top_ted=list(k[0] for k in c.most_common(1000))\n",
    "counts_ted_top1000=list(k[1] for k in c.most_common(1000))\n"
   ]
  },
  {
   "cell_type": "code",
   "execution_count": 57,
   "metadata": {},
   "outputs": [
    {
     "data": {
      "text/html": [
       "\n",
       "\n",
       "    <div class=\"bk-root\">\n",
       "        <div class=\"bk-plotdiv\" id=\"ef16fec3-a2f7-4c51-bc24-c03bca2f9b0d\"></div>\n",
       "    </div>\n",
       "<script type=\"text/javascript\">\n",
       "  \n",
       "  (function(root) {\n",
       "    function now() {\n",
       "      return new Date();\n",
       "    }\n",
       "  \n",
       "    var force = false;\n",
       "  \n",
       "    if (typeof (root._bokeh_onload_callbacks) === \"undefined\" || force === true) {\n",
       "      root._bokeh_onload_callbacks = [];\n",
       "      root._bokeh_is_loading = undefined;\n",
       "    }\n",
       "  \n",
       "  \n",
       "    \n",
       "    if (typeof (root._bokeh_timeout) === \"undefined\" || force === true) {\n",
       "      root._bokeh_timeout = Date.now() + 0;\n",
       "      root._bokeh_failed_load = false;\n",
       "    }\n",
       "  \n",
       "    var NB_LOAD_WARNING = {'data': {'text/html':\n",
       "       \"<div style='background-color: #fdd'>\\n\"+\n",
       "       \"<p>\\n\"+\n",
       "       \"BokehJS does not appear to have successfully loaded. If loading BokehJS from CDN, this \\n\"+\n",
       "       \"may be due to a slow or bad network connection. Possible fixes:\\n\"+\n",
       "       \"</p>\\n\"+\n",
       "       \"<ul>\\n\"+\n",
       "       \"<li>re-rerun `output_notebook()` to attempt to load from CDN again, or</li>\\n\"+\n",
       "       \"<li>use INLINE resources instead, as so:</li>\\n\"+\n",
       "       \"</ul>\\n\"+\n",
       "       \"<code>\\n\"+\n",
       "       \"from bokeh.resources import INLINE\\n\"+\n",
       "       \"output_notebook(resources=INLINE)\\n\"+\n",
       "       \"</code>\\n\"+\n",
       "       \"</div>\"}};\n",
       "  \n",
       "    function display_loaded() {\n",
       "      if (root.Bokeh !== undefined) {\n",
       "        var el = document.getElementById(\"ef16fec3-a2f7-4c51-bc24-c03bca2f9b0d\");\n",
       "        if (el != null) {\n",
       "          el.textContent = \"BokehJS \" + Bokeh.version + \" successfully loaded.\";\n",
       "        }\n",
       "      } else if (Date.now() < root._bokeh_timeout) {\n",
       "        setTimeout(display_loaded, 100)\n",
       "      }\n",
       "    }\n",
       "  \n",
       "  \n",
       "    function run_callbacks() {\n",
       "      try {\n",
       "        root._bokeh_onload_callbacks.forEach(function(callback) { callback() });\n",
       "      }\n",
       "      finally {\n",
       "        delete root._bokeh_onload_callbacks\n",
       "      }\n",
       "      console.info(\"Bokeh: all callbacks have finished\");\n",
       "    }\n",
       "  \n",
       "    function load_libs(js_urls, callback) {\n",
       "      root._bokeh_onload_callbacks.push(callback);\n",
       "      if (root._bokeh_is_loading > 0) {\n",
       "        console.log(\"Bokeh: BokehJS is being loaded, scheduling callback at\", now());\n",
       "        return null;\n",
       "      }\n",
       "      if (js_urls == null || js_urls.length === 0) {\n",
       "        run_callbacks();\n",
       "        return null;\n",
       "      }\n",
       "      console.log(\"Bokeh: BokehJS not loaded, scheduling load and callback at\", now());\n",
       "      root._bokeh_is_loading = js_urls.length;\n",
       "      for (var i = 0; i < js_urls.length; i++) {\n",
       "        var url = js_urls[i];\n",
       "        var s = document.createElement('script');\n",
       "        s.src = url;\n",
       "        s.async = false;\n",
       "        s.onreadystatechange = s.onload = function() {\n",
       "          root._bokeh_is_loading--;\n",
       "          if (root._bokeh_is_loading === 0) {\n",
       "            console.log(\"Bokeh: all BokehJS libraries loaded\");\n",
       "            run_callbacks()\n",
       "          }\n",
       "        };\n",
       "        s.onerror = function() {\n",
       "          console.warn(\"failed to load library \" + url);\n",
       "        };\n",
       "        console.log(\"Bokeh: injecting script tag for BokehJS library: \", url);\n",
       "        document.getElementsByTagName(\"head\")[0].appendChild(s);\n",
       "      }\n",
       "    };var element = document.getElementById(\"ef16fec3-a2f7-4c51-bc24-c03bca2f9b0d\");\n",
       "    if (element == null) {\n",
       "      console.log(\"Bokeh: ERROR: autoload.js configured with elementid 'ef16fec3-a2f7-4c51-bc24-c03bca2f9b0d' but no matching script tag was found. \")\n",
       "      return false;\n",
       "    }\n",
       "  \n",
       "    var js_urls = [];\n",
       "  \n",
       "    var inline_js = [\n",
       "      function(Bokeh) {\n",
       "        (function() {\n",
       "          var fn = function() {\n",
       "            var docs_json = {\"d2127307-ab5a-42b3-9425-3d72c43d4c98\":{\"roots\":{\"references\":[{\"attributes\":{},\"id\":\"64e38e91-6f6a-4117-95fc-01393e5a9a88\",\"type\":\"WheelZoomTool\"},{\"attributes\":{\"source\":{\"id\":\"309c2650-2de8-41d5-861d-795340798ccd\",\"type\":\"ColumnDataSource\"}},\"id\":\"e0dc8d5d-93ac-4125-9f22-003d7be5909c\",\"type\":\"CDSView\"},{\"attributes\":{},\"id\":\"a2bb56a2-2e2a-4f24-a7e2-bbb331069ef5\",\"type\":\"ResetTool\"},{\"attributes\":{\"callback\":null},\"id\":\"f08d611b-c449-4e79-84c9-269148e7c15a\",\"type\":\"DataRange1d\"},{\"attributes\":{},\"id\":\"038fca87-3984-46da-904c-fd93e71c89d3\",\"type\":\"SaveTool\"},{\"attributes\":{\"active_drag\":\"auto\",\"active_inspect\":\"auto\",\"active_scroll\":\"auto\",\"active_tap\":\"auto\",\"tools\":[{\"id\":\"e31062f5-7ec7-4d26-b67e-8c57255be8db\",\"type\":\"PanTool\"},{\"id\":\"64e38e91-6f6a-4117-95fc-01393e5a9a88\",\"type\":\"WheelZoomTool\"},{\"id\":\"a2bb56a2-2e2a-4f24-a7e2-bbb331069ef5\",\"type\":\"ResetTool\"},{\"id\":\"038fca87-3984-46da-904c-fd93e71c89d3\",\"type\":\"SaveTool\"}]},\"id\":\"859f11a7-27c0-4782-b74b-e526af11b722\",\"type\":\"Toolbar\"},{\"attributes\":{\"bottom\":{\"value\":0},\"fill_color\":{\"value\":\"#1f77b4\"},\"left\":{\"field\":\"left\"},\"line_color\":{\"value\":\"#555555\"},\"right\":{\"field\":\"right\"},\"top\":{\"field\":\"top\"}},\"id\":\"30960fc8-87a9-4707-a274-b1e95853442e\",\"type\":\"Quad\"},{\"attributes\":{\"plot\":null,\"text\":\"Top-1000 words distribution\"},\"id\":\"73873691-5930-4f0b-8454-0215264df33f\",\"type\":\"Title\"},{\"attributes\":{\"bottom\":{\"value\":0},\"fill_alpha\":{\"value\":0.1},\"fill_color\":{\"value\":\"#1f77b4\"},\"left\":{\"field\":\"left\"},\"line_alpha\":{\"value\":0.1},\"line_color\":{\"value\":\"#1f77b4\"},\"right\":{\"field\":\"right\"},\"top\":{\"field\":\"top\"}},\"id\":\"dcc1f7b1-61fb-4439-b134-0a619b48f7f9\",\"type\":\"Quad\"},{\"attributes\":{},\"id\":\"bcd64ed5-f830-45ee-836c-f4e9abf0b654\",\"type\":\"LinearScale\"},{\"attributes\":{\"callback\":null},\"id\":\"ff0afb90-967f-40ce-8fbe-7f4f06e9ff98\",\"type\":\"DataRange1d\"},{\"attributes\":{},\"id\":\"5ccc3e81-a52a-49af-bae1-1d35934fed3d\",\"type\":\"LinearScale\"},{\"attributes\":{\"plot\":{\"id\":\"ac03aa02-85c2-4730-9094-46d833fe3450\",\"subtype\":\"Figure\",\"type\":\"Plot\"},\"ticker\":{\"id\":\"d018fbac-a0d3-4db4-8511-43fe1c57cfc9\",\"type\":\"BasicTicker\"}},\"id\":\"45cb0b2a-5fc7-4e89-9eba-8eb918a851e1\",\"type\":\"Grid\"},{\"attributes\":{\"formatter\":{\"id\":\"d941add4-6cd2-4850-8d20-703c74440e71\",\"type\":\"BasicTickFormatter\"},\"plot\":{\"id\":\"ac03aa02-85c2-4730-9094-46d833fe3450\",\"subtype\":\"Figure\",\"type\":\"Plot\"},\"ticker\":{\"id\":\"d018fbac-a0d3-4db4-8511-43fe1c57cfc9\",\"type\":\"BasicTicker\"}},\"id\":\"19f771ff-1eda-4ecb-a0ee-5e7cc728e668\",\"type\":\"LinearAxis\"},{\"attributes\":{},\"id\":\"d941add4-6cd2-4850-8d20-703c74440e71\",\"type\":\"BasicTickFormatter\"},{\"attributes\":{\"callback\":null,\"column_names\":[\"left\",\"right\",\"top\"],\"data\":{\"left\":{\"__ndarray__\":\"AAAAAABAeUB7FK5H4VqjQHsUrkfhxrFAuB6F61HguUB7FK5H4fzAQJqZmZmZCcVAuB6F61EWyUDXo3A9CiPNQHsUrkfhl9BACtejcD2e0kCamZmZmaTUQClcj8L1qtZAuB6F61Gx2EBI4XoUrrfaQNejcD0KvtxAZ2ZmZmbE3kB7FK5HYWXgQMP1KFyPaOFACtejcL1r4kBSuB6F627jQJqZmZkZcuRA4XoUrkd15UApXI/CdXjmQHE9Cteje+dAuB6F69F+6EAAAAAAAILpQEjhehQuhepAkML1KFyI60DXo3A9iovsQB+F61G4ju1AZ2ZmZuaR7kCuR+F6FJXvQHsUrkchTPBAH4XrUbjN8EDD9ShcT0/xQGdmZmbm0PFACtejcH1S8kCuR+F6FNTyQFK4HoWrVfNA9ihcj0LX80CamZmZ2Vj0QD4K16Nw2vRA4XoUrgdc9UCF61G4nt31QClcj8I1X/ZAzczMzMzg9kBxPQrXY2L3QBWuR+H64/dAuB6F65Fl+EBcj8L1KOf4QAAAAADAaPlApHA9Clfq+UBI4XoU7mv6QOxRuB6F7fpAkML1KBxv+0AzMzMzs/D7QNejcD1KcvxAexSuR+Hz/EAfhetReHX9QMP1KFwP9/1AZ2ZmZqZ4/kAK16NwPfr+QK5H4XrUe/9AUrgehWv9/0B7FK5HgT8AQc3MzMxMgABBH4XrURjBAEFxPQrX4wEBQcP1KFyvQgFBFa5H4XqDAUFnZmZmRsQBQbgehesRBQJBCtejcN1FAkFcj8L1qIYCQa5H4Xp0xwJBAAAAAEAIA0FSuB6FC0kDQaRwPQrXiQNB9ihcj6LKA0FI4XoUbgsEQZqZmZk5TARB7FG4HgWNBEE+Ctej0M0EQZDC9SicDgVB4XoUrmdPBUEzMzMzM5AFQYXrUbj+0AVB16NwPcoRBkEpXI/ClVIGQXsUrkdhkwZBzczMzCzUBkEfhetR+BQHQXE9CtfDVQdBw/UoXI+WB0EVrkfhWtcHQWdmZmYmGAhBuB6F6/FYCEEK16NwvZkIQVyPwvWI2ghBrkfhelQbCUE=\",\"dtype\":\"float64\",\"shape\":[100]},\"right\":{\"__ndarray__\":\"exSuR+Fao0B7FK5H4caxQLgehetR4LlAexSuR+H8wECamZmZmQnFQLgehetRFslA16NwPQojzUB7FK5H4ZfQQArXo3A9ntJAmpmZmZmk1EApXI/C9arWQLgehetRsdhASOF6FK632kDXo3A9Cr7cQGdmZmZmxN5AexSuR2Fl4EDD9Shcj2jhQArXo3C9a+JAUrgehetu40CamZmZGXLkQOF6FK5HdeVAKVyPwnV45kBxPQrXo3vnQLgehevRfuhAAAAAAACC6UBI4XoULoXqQJDC9ShciOtA16NwPYqL7EAfhetRuI7tQGdmZmbmke5ArkfhehSV70B7FK5HIUzwQB+F61G4zfBAw/UoXE9P8UBnZmZm5tDxQArXo3B9UvJArkfhehTU8kBSuB6Fq1XzQPYoXI9C1/NAmpmZmdlY9EA+CtejcNr0QOF6FK4HXPVAhetRuJ7d9UApXI/CNV/2QM3MzMzM4PZAcT0K12Ni90AVrkfh+uP3QLgeheuRZfhAXI/C9Sjn+EAAAAAAwGj5QKRwPQpX6vlASOF6FO5r+kDsUbgehe36QJDC9Sgcb/tAMzMzM7Pw+0DXo3A9SnL8QHsUrkfh8/xAH4XrUXh1/UDD9ShcD/f9QGdmZmameP5ACtejcD36/kCuR+F61Hv/QFK4HoVr/f9AexSuR4E/AEHNzMzMTIAAQR+F61EYwQBBcT0K1+MBAUHD9Shcr0IBQRWuR+F6gwFBZ2ZmZkbEAUG4HoXrEQUCQQrXo3DdRQJBXI/C9aiGAkGuR+F6dMcCQQAAAABACANBUrgehQtJA0GkcD0K14kDQfYoXI+iygNBSOF6FG4LBEGamZmZOUwEQexRuB4FjQRBPgrXo9DNBEGQwvUonA4FQeF6FK5nTwVBMzMzMzOQBUGF61G4/tAFQdejcD3KEQZBKVyPwpVSBkF7FK5HYZMGQc3MzMws1AZBH4XrUfgUB0FxPQrXw1UHQcP1KFyPlgdBFa5H4VrXB0FnZmZmJhgIQbgehevxWAhBCtejcL2ZCEFcj8L1iNoIQa5H4XpUGwlBAAAAACBcCUE=\",\"dtype\":\"float64\",\"shape\":[100]},\"top\":{\"__ndarray__\":\"50H1zNSBOT/ypb1tgHIBPwsriUb5Uew+zuTFiLI04j78kGUPxTHhPh40R25oQNY+zuTFiLI00j4pPQWW1y7APsTbB2FDRsg+JT0FltcuwD4tPQWW1y6wPi09BZbXLrA+JT0FltcuwD4tPQWW1y6gPiU9BZbXLrA+LT0FltcuoD4AAAAAAAAAADU9BZbXLqA+AAAAAAAAAAAAAAAAAAAAAAAAAAAAAAAAAAAAAAAAAAAAAAAAAAAAADU9BZbXLqA+AAAAAAAAAAAAAAAAAAAAAAAAAAAAAAAANT0FltcuoD4AAAAAAAAAAAAAAAAAAAAANT0FltcuoD4AAAAAAAAAACU9BZbXLqA+AAAAAAAAAAAlPQWW1y6gPkU9BZbXLqA+AAAAAAAAAAAlPQWW1y6gPgAAAAAAAAAAJT0FltcuoD4AAAAAAAAAAAAAAAAAAAAAAAAAAAAAAAAAAAAAAAAAAAAAAAAAAAAAJT0FltcuoD4AAAAAAAAAAAAAAAAAAAAAAAAAAAAAAAAAAAAAAAAAACU9BZbXLqA+AAAAAAAAAAAAAAAAAAAAAAAAAAAAAAAAAAAAAAAAAAAlPQWW1y6gPgAAAAAAAAAAAAAAAAAAAAAAAAAAAAAAAAAAAAAAAAAART0FltcuoD4AAAAAAAAAAAAAAAAAAAAAAAAAAAAAAAAAAAAAAAAAAAAAAAAAAAAAAAAAAAAAAAAAAAAAAAAAAAAAAAAAAAAAAAAAAAAAAAAAAAAAAAAAACU9BZbXLqA+AAAAAAAAAAAAAAAAAAAAAAAAAAAAAAAAAAAAAAAAAAAAAAAAAAAAAAAAAAAAAAAAAAAAAAAAAAAAAAAAAAAAAAAAAAAAAAAAAAAAAAAAAAAAAAAAAAAAAAAAAAAAAAAAAAAAAAAAAAAAAAAAAAAAAAAAAAAAAAAAAAAAAAAAAAAAAAAAAAAAAAAAAAAAAAAAAAAAAAAAAAAAAAAAAAAAAAAAAAAAAAAAAAAAAAAAAAAAAAAAAAAAAAAAAAAAAAAAAAAAAAAAAAAAAAAAAAAAAAAAAAAAAAAAJT0FltcuoD4=\",\"dtype\":\"float64\",\"shape\":[100]}}},\"id\":\"309c2650-2de8-41d5-861d-795340798ccd\",\"type\":\"ColumnDataSource\"},{\"attributes\":{},\"id\":\"d018fbac-a0d3-4db4-8511-43fe1c57cfc9\",\"type\":\"BasicTicker\"},{\"attributes\":{\"formatter\":{\"id\":\"7e899caa-6d77-49d1-95bd-e88a158f2be4\",\"type\":\"BasicTickFormatter\"},\"plot\":{\"id\":\"ac03aa02-85c2-4730-9094-46d833fe3450\",\"subtype\":\"Figure\",\"type\":\"Plot\"},\"ticker\":{\"id\":\"02f0105d-a4d4-4471-87ef-ae8b0c0e4efe\",\"type\":\"BasicTicker\"}},\"id\":\"46c2054a-86d6-4775-8dd5-5c759593c658\",\"type\":\"LinearAxis\"},{\"attributes\":{},\"id\":\"02f0105d-a4d4-4471-87ef-ae8b0c0e4efe\",\"type\":\"BasicTicker\"},{\"attributes\":{\"dimension\":1,\"plot\":{\"id\":\"ac03aa02-85c2-4730-9094-46d833fe3450\",\"subtype\":\"Figure\",\"type\":\"Plot\"},\"ticker\":{\"id\":\"02f0105d-a4d4-4471-87ef-ae8b0c0e4efe\",\"type\":\"BasicTicker\"}},\"id\":\"404b6965-7cc6-4e7f-b117-13a1329d75e3\",\"type\":\"Grid\"},{\"attributes\":{},\"id\":\"7e899caa-6d77-49d1-95bd-e88a158f2be4\",\"type\":\"BasicTickFormatter\"},{\"attributes\":{\"below\":[{\"id\":\"19f771ff-1eda-4ecb-a0ee-5e7cc728e668\",\"type\":\"LinearAxis\"}],\"left\":[{\"id\":\"46c2054a-86d6-4775-8dd5-5c759593c658\",\"type\":\"LinearAxis\"}],\"renderers\":[{\"id\":\"19f771ff-1eda-4ecb-a0ee-5e7cc728e668\",\"type\":\"LinearAxis\"},{\"id\":\"45cb0b2a-5fc7-4e89-9eba-8eb918a851e1\",\"type\":\"Grid\"},{\"id\":\"46c2054a-86d6-4775-8dd5-5c759593c658\",\"type\":\"LinearAxis\"},{\"id\":\"404b6965-7cc6-4e7f-b117-13a1329d75e3\",\"type\":\"Grid\"},{\"id\":\"43cefb7b-a648-4701-93a5-deafb168b800\",\"type\":\"GlyphRenderer\"}],\"title\":{\"id\":\"73873691-5930-4f0b-8454-0215264df33f\",\"type\":\"Title\"},\"toolbar\":{\"id\":\"859f11a7-27c0-4782-b74b-e526af11b722\",\"type\":\"Toolbar\"},\"toolbar_location\":\"above\",\"x_range\":{\"id\":\"f08d611b-c449-4e79-84c9-269148e7c15a\",\"type\":\"DataRange1d\"},\"x_scale\":{\"id\":\"bcd64ed5-f830-45ee-836c-f4e9abf0b654\",\"type\":\"LinearScale\"},\"y_range\":{\"id\":\"ff0afb90-967f-40ce-8fbe-7f4f06e9ff98\",\"type\":\"DataRange1d\"},\"y_scale\":{\"id\":\"5ccc3e81-a52a-49af-bae1-1d35934fed3d\",\"type\":\"LinearScale\"}},\"id\":\"ac03aa02-85c2-4730-9094-46d833fe3450\",\"subtype\":\"Figure\",\"type\":\"Plot\"},{\"attributes\":{},\"id\":\"e31062f5-7ec7-4d26-b67e-8c57255be8db\",\"type\":\"PanTool\"},{\"attributes\":{\"data_source\":{\"id\":\"309c2650-2de8-41d5-861d-795340798ccd\",\"type\":\"ColumnDataSource\"},\"glyph\":{\"id\":\"30960fc8-87a9-4707-a274-b1e95853442e\",\"type\":\"Quad\"},\"hover_glyph\":null,\"muted_glyph\":null,\"nonselection_glyph\":{\"id\":\"dcc1f7b1-61fb-4439-b134-0a619b48f7f9\",\"type\":\"Quad\"},\"selection_glyph\":null,\"view\":{\"id\":\"e0dc8d5d-93ac-4125-9f22-003d7be5909c\",\"type\":\"CDSView\"}},\"id\":\"43cefb7b-a648-4701-93a5-deafb168b800\",\"type\":\"GlyphRenderer\"}],\"root_ids\":[\"ac03aa02-85c2-4730-9094-46d833fe3450\"]},\"title\":\"Bokeh Application\",\"version\":\"0.12.7\"}};\n",
       "            var render_items = [{\"docid\":\"d2127307-ab5a-42b3-9425-3d72c43d4c98\",\"elementid\":\"ef16fec3-a2f7-4c51-bc24-c03bca2f9b0d\",\"modelid\":\"ac03aa02-85c2-4730-9094-46d833fe3450\"}];\n",
       "            \n",
       "            Bokeh.embed.embed_items(docs_json, render_items);\n",
       "          };\n",
       "          if (document.readyState != \"loading\") fn();\n",
       "          else document.addEventListener(\"DOMContentLoaded\", fn);\n",
       "        })();\n",
       "      },\n",
       "      function(Bokeh) {\n",
       "      }\n",
       "    ];\n",
       "  \n",
       "    function run_inline_js() {\n",
       "      \n",
       "      if ((root.Bokeh !== undefined) || (force === true)) {\n",
       "        for (var i = 0; i < inline_js.length; i++) {\n",
       "          inline_js[i].call(root, root.Bokeh);\n",
       "        }if (force === true) {\n",
       "          display_loaded();\n",
       "        }} else if (Date.now() < root._bokeh_timeout) {\n",
       "        setTimeout(run_inline_js, 100);\n",
       "      } else if (!root._bokeh_failed_load) {\n",
       "        console.log(\"Bokeh: BokehJS failed to load within specified timeout.\");\n",
       "        root._bokeh_failed_load = true;\n",
       "      } else if (force !== true) {\n",
       "        var cell = $(document.getElementById(\"ef16fec3-a2f7-4c51-bc24-c03bca2f9b0d\")).parents('.cell').data().cell;\n",
       "        cell.output_area.append_execute_result(NB_LOAD_WARNING)\n",
       "      }\n",
       "  \n",
       "    }\n",
       "  \n",
       "    if (root._bokeh_is_loading === 0) {\n",
       "      console.log(\"Bokeh: BokehJS loaded, going straight to plotting\");\n",
       "      run_inline_js();\n",
       "    } else {\n",
       "      load_libs(js_urls, function() {\n",
       "        console.log(\"Bokeh: BokehJS plotting callback run at\", now());\n",
       "        run_inline_js();\n",
       "      });\n",
       "    }\n",
       "  }(window));\n",
       "</script>"
      ]
     },
     "metadata": {},
     "output_type": "display_data"
    }
   ],
   "source": [
    "hist, edges = np.histogram(counts_ted_top1000, density=True, bins=100, normed=True)\n",
    "\n",
    "p = figure(tools=\"pan,wheel_zoom,reset,save\",\n",
    "           toolbar_location=\"above\",\n",
    "           title=\"Top-1000 words distribution\")\n",
    "p.quad(top=hist, bottom=0, left=edges[:-1], right=edges[1:], line_color=\"#555555\")\n",
    "show(p)"
   ]
  },
  {
   "cell_type": "code",
   "execution_count": 94,
   "metadata": {},
   "outputs": [],
   "source": [
    "from gensim.models import Word2Vec"
   ]
  },
  {
   "cell_type": "code",
   "execution_count": 61,
   "metadata": {
    "collapsed": true
   },
   "outputs": [],
   "source": [
    "ted_model = Word2Vec(sentences_ted, size=100, window=5, min_count=5, workers=4)"
   ]
  },
  {
   "cell_type": "code",
   "execution_count": 95,
   "metadata": {},
   "outputs": [],
   "source": [
    "ted_model.save('ted_model')"
   ]
  },
  {
   "cell_type": "code",
   "execution_count": 96,
   "metadata": {},
   "outputs": [],
   "source": [
    "ted_model=Word2Vec.load('ted_model')"
   ]
  },
  {
   "cell_type": "code",
   "execution_count": 97,
   "metadata": {},
   "outputs": [
    {
     "data": {
      "text/plain": [
       "[('woman', 0.8307706117630005),\n",
       " ('guy', 0.8081215620040894),\n",
       " ('lady', 0.7646480798721313),\n",
       " ('boy', 0.7446976900100708),\n",
       " ('girl', 0.7293294668197632),\n",
       " ('gentleman', 0.7206354737281799),\n",
       " ('soldier', 0.6900509595870972),\n",
       " ('poet', 0.6793301105499268),\n",
       " ('david', 0.6725543737411499),\n",
       " ('surgeon', 0.6675092577934265)]"
      ]
     },
     "execution_count": 97,
     "metadata": {},
     "output_type": "execute_result"
    }
   ],
   "source": [
    "ted_model.most_similar(\"man\")"
   ]
  },
  {
   "cell_type": "code",
   "execution_count": 67,
   "metadata": {},
   "outputs": [
    {
     "data": {
      "text/plain": [
       "[('machine', 0.7482309341430664),\n",
       " ('software', 0.7177109718322754),\n",
       " ('robot', 0.6981737613677979),\n",
       " ('device', 0.6796837449073792),\n",
       " ('camera', 0.6488869786262512),\n",
       " ('3d', 0.6460374593734741),\n",
       " ('mechanical', 0.641261875629425),\n",
       " ('code', 0.6328430771827698),\n",
       " ('interface', 0.6326004266738892),\n",
       " ('video', 0.6314619779586792)]"
      ]
     },
     "execution_count": 67,
     "metadata": {},
     "output_type": "execute_result"
    }
   ],
   "source": [
    "ted_model.most_similar(\"computer\")\n"
   ]
  },
  {
   "cell_type": "code",
   "execution_count": 68,
   "metadata": {},
   "outputs": [
    {
     "data": {
      "text/plain": [
       "[('seat', 0.8153576254844666),\n",
       " ('office', 0.7878681421279907),\n",
       " ('door', 0.7811933755874634),\n",
       " ('shop', 0.7807976603507996),\n",
       " ('apartment', 0.7781676054000854),\n",
       " ('hut', 0.7697461843490601),\n",
       " ('chair', 0.767337441444397),\n",
       " ('kitchen', 0.7658503651618958),\n",
       " ('bed', 0.7632778286933899),\n",
       " ('town', 0.75962233543396)]"
      ]
     },
     "execution_count": 68,
     "metadata": {},
     "output_type": "execute_result"
    }
   ],
   "source": [
    "ted_model.most_similar('house')"
   ]
  },
  {
   "cell_type": "code",
   "execution_count": 69,
   "metadata": {},
   "outputs": [],
   "source": [
    "# This assumes words_top_ted is a list of strings, the top 1000 words\n",
    "words_top_vec_ted = model_ted[words_top_ted]"
   ]
  },
  {
   "cell_type": "code",
   "execution_count": 70,
   "metadata": {},
   "outputs": [],
   "source": [
    "from sklearn.manifold import TSNE\n",
    "tsne = TSNE(n_components=2, random_state=0)\n",
    "words_top_ted_tsne = tsne.fit_transform(words_top_vec_ted)"
   ]
  },
  {
   "cell_type": "code",
   "execution_count": 71,
   "metadata": {},
   "outputs": [
    {
     "data": {
      "text/html": [
       "\n",
       "\n",
       "    <div class=\"bk-root\">\n",
       "        <div class=\"bk-plotdiv\" id=\"0836e965-b82d-486f-bab0-2ac6af1388f6\"></div>\n",
       "    </div>\n",
       "<script type=\"text/javascript\">\n",
       "  \n",
       "  (function(root) {\n",
       "    function now() {\n",
       "      return new Date();\n",
       "    }\n",
       "  \n",
       "    var force = false;\n",
       "  \n",
       "    if (typeof (root._bokeh_onload_callbacks) === \"undefined\" || force === true) {\n",
       "      root._bokeh_onload_callbacks = [];\n",
       "      root._bokeh_is_loading = undefined;\n",
       "    }\n",
       "  \n",
       "  \n",
       "    \n",
       "    if (typeof (root._bokeh_timeout) === \"undefined\" || force === true) {\n",
       "      root._bokeh_timeout = Date.now() + 0;\n",
       "      root._bokeh_failed_load = false;\n",
       "    }\n",
       "  \n",
       "    var NB_LOAD_WARNING = {'data': {'text/html':\n",
       "       \"<div style='background-color: #fdd'>\\n\"+\n",
       "       \"<p>\\n\"+\n",
       "       \"BokehJS does not appear to have successfully loaded. If loading BokehJS from CDN, this \\n\"+\n",
       "       \"may be due to a slow or bad network connection. Possible fixes:\\n\"+\n",
       "       \"</p>\\n\"+\n",
       "       \"<ul>\\n\"+\n",
       "       \"<li>re-rerun `output_notebook()` to attempt to load from CDN again, or</li>\\n\"+\n",
       "       \"<li>use INLINE resources instead, as so:</li>\\n\"+\n",
       "       \"</ul>\\n\"+\n",
       "       \"<code>\\n\"+\n",
       "       \"from bokeh.resources import INLINE\\n\"+\n",
       "       \"output_notebook(resources=INLINE)\\n\"+\n",
       "       \"</code>\\n\"+\n",
       "       \"</div>\"}};\n",
       "  \n",
       "    function display_loaded() {\n",
       "      if (root.Bokeh !== undefined) {\n",
       "        var el = document.getElementById(\"0836e965-b82d-486f-bab0-2ac6af1388f6\");\n",
       "        if (el != null) {\n",
       "          el.textContent = \"BokehJS \" + Bokeh.version + \" successfully loaded.\";\n",
       "        }\n",
       "      } else if (Date.now() < root._bokeh_timeout) {\n",
       "        setTimeout(display_loaded, 100)\n",
       "      }\n",
       "    }\n",
       "  \n",
       "  \n",
       "    function run_callbacks() {\n",
       "      try {\n",
       "        root._bokeh_onload_callbacks.forEach(function(callback) { callback() });\n",
       "      }\n",
       "      finally {\n",
       "        delete root._bokeh_onload_callbacks\n",
       "      }\n",
       "      console.info(\"Bokeh: all callbacks have finished\");\n",
       "    }\n",
       "  \n",
       "    function load_libs(js_urls, callback) {\n",
       "      root._bokeh_onload_callbacks.push(callback);\n",
       "      if (root._bokeh_is_loading > 0) {\n",
       "        console.log(\"Bokeh: BokehJS is being loaded, scheduling callback at\", now());\n",
       "        return null;\n",
       "      }\n",
       "      if (js_urls == null || js_urls.length === 0) {\n",
       "        run_callbacks();\n",
       "        return null;\n",
       "      }\n",
       "      console.log(\"Bokeh: BokehJS not loaded, scheduling load and callback at\", now());\n",
       "      root._bokeh_is_loading = js_urls.length;\n",
       "      for (var i = 0; i < js_urls.length; i++) {\n",
       "        var url = js_urls[i];\n",
       "        var s = document.createElement('script');\n",
       "        s.src = url;\n",
       "        s.async = false;\n",
       "        s.onreadystatechange = s.onload = function() {\n",
       "          root._bokeh_is_loading--;\n",
       "          if (root._bokeh_is_loading === 0) {\n",
       "            console.log(\"Bokeh: all BokehJS libraries loaded\");\n",
       "            run_callbacks()\n",
       "          }\n",
       "        };\n",
       "        s.onerror = function() {\n",
       "          console.warn(\"failed to load library \" + url);\n",
       "        };\n",
       "        console.log(\"Bokeh: injecting script tag for BokehJS library: \", url);\n",
       "        document.getElementsByTagName(\"head\")[0].appendChild(s);\n",
       "      }\n",
       "    };var element = document.getElementById(\"0836e965-b82d-486f-bab0-2ac6af1388f6\");\n",
       "    if (element == null) {\n",
       "      console.log(\"Bokeh: ERROR: autoload.js configured with elementid '0836e965-b82d-486f-bab0-2ac6af1388f6' but no matching script tag was found. \")\n",
       "      return false;\n",
       "    }\n",
       "  \n",
       "    var js_urls = [];\n",
       "  \n",
       "    var inline_js = [\n",
       "      function(Bokeh) {\n",
       "        (function() {\n",
       "          var fn = function() {\n",
       "            var docs_json = {\"a367f3bf-09de-48b0-bc96-45e20ffee4d1\":{\"roots\":{\"references\":[{\"attributes\":{\"plot\":null,\"text\":\"word2vec T-SNE for most common words\"},\"id\":\"3df430e3-af47-4ec2-9355-9c237319d8cd\",\"type\":\"Title\"},{\"attributes\":{\"formatter\":{\"id\":\"3be73b17-9c38-42b2-a95f-989cf3986c0b\",\"type\":\"BasicTickFormatter\"},\"plot\":{\"id\":\"ace2142a-7cec-4e48-af43-08c5f3d4a08d\",\"subtype\":\"Figure\",\"type\":\"Plot\"},\"ticker\":{\"id\":\"65c9d6a2-d396-4ef6-945c-df75174999c7\",\"type\":\"BasicTicker\"}},\"id\":\"07cd0a79-17f1-48e5-ab8c-e60eac87723f\",\"type\":\"LinearAxis\"},{\"attributes\":{\"formatter\":{\"id\":\"30da6ad1-6522-4029-9c03-705864c850a0\",\"type\":\"BasicTickFormatter\"},\"plot\":{\"id\":\"ace2142a-7cec-4e48-af43-08c5f3d4a08d\",\"subtype\":\"Figure\",\"type\":\"Plot\"},\"ticker\":{\"id\":\"67727ebe-b99d-497f-b4a8-6c503bf76698\",\"type\":\"BasicTicker\"}},\"id\":\"a44da724-02df-48ef-ad46-dc0f4c3eff40\",\"type\":\"LinearAxis\"},{\"attributes\":{\"callback\":null},\"id\":\"e9bbd1c4-de4f-42fc-8162-7eef1a6aa8d6\",\"type\":\"DataRange1d\"},{\"attributes\":{},\"id\":\"65c9d6a2-d396-4ef6-945c-df75174999c7\",\"type\":\"BasicTicker\"},{\"attributes\":{},\"id\":\"93cb8cbe-b34a-44ea-9e06-aabff9ec6d10\",\"type\":\"LinearScale\"},{\"attributes\":{\"active_drag\":\"auto\",\"active_inspect\":\"auto\",\"active_scroll\":\"auto\",\"active_tap\":\"auto\",\"tools\":[{\"id\":\"e4cc8c0f-5fb0-4885-831a-a646d6718d50\",\"type\":\"PanTool\"},{\"id\":\"9e57e89c-62f2-45ba-a0e3-ea6d3c38933b\",\"type\":\"WheelZoomTool\"},{\"id\":\"78ad1e1d-e49f-4a26-821d-79008b157e6f\",\"type\":\"ResetTool\"},{\"id\":\"fb57c3da-39a4-4b6a-a1be-f3e74c909616\",\"type\":\"SaveTool\"}]},\"id\":\"cf382797-f07a-4cc9-bfe8-f3ac597d3f47\",\"type\":\"Toolbar\"},{\"attributes\":{\"plot\":{\"id\":\"ace2142a-7cec-4e48-af43-08c5f3d4a08d\",\"subtype\":\"Figure\",\"type\":\"Plot\"},\"ticker\":{\"id\":\"67727ebe-b99d-497f-b4a8-6c503bf76698\",\"type\":\"BasicTicker\"}},\"id\":\"60930c1a-201c-463f-b01e-320be545d40a\",\"type\":\"Grid\"},{\"attributes\":{},\"id\":\"5c047f6d-bec0-440b-adbb-09ce56de4a81\",\"type\":\"LinearScale\"},{\"attributes\":{\"source\":{\"id\":\"4ecc9e6e-b1ac-4dd6-bf08-f0f3861bda6d\",\"type\":\"ColumnDataSource\"}},\"id\":\"acd5edb8-2d1c-4158-ab77-ce2cfbe692da\",\"type\":\"CDSView\"},{\"attributes\":{\"dimension\":1,\"plot\":{\"id\":\"ace2142a-7cec-4e48-af43-08c5f3d4a08d\",\"subtype\":\"Figure\",\"type\":\"Plot\"},\"ticker\":{\"id\":\"65c9d6a2-d396-4ef6-945c-df75174999c7\",\"type\":\"BasicTicker\"}},\"id\":\"2cb05e87-bc14-4342-a284-8f55caa5cbcb\",\"type\":\"Grid\"},{\"attributes\":{},\"id\":\"30da6ad1-6522-4029-9c03-705864c850a0\",\"type\":\"BasicTickFormatter\"},{\"attributes\":{},\"id\":\"e4cc8c0f-5fb0-4885-831a-a646d6718d50\",\"type\":\"PanTool\"},{\"attributes\":{},\"id\":\"67727ebe-b99d-497f-b4a8-6c503bf76698\",\"type\":\"BasicTicker\"},{\"attributes\":{},\"id\":\"9e57e89c-62f2-45ba-a0e3-ea6d3c38933b\",\"type\":\"WheelZoomTool\"},{\"attributes\":{},\"id\":\"78ad1e1d-e49f-4a26-821d-79008b157e6f\",\"type\":\"ResetTool\"},{\"attributes\":{},\"id\":\"fb57c3da-39a4-4b6a-a1be-f3e74c909616\",\"type\":\"SaveTool\"},{\"attributes\":{\"data_source\":{\"id\":\"4ecc9e6e-b1ac-4dd6-bf08-f0f3861bda6d\",\"type\":\"ColumnDataSource\"},\"glyph\":{\"id\":\"066207f0-1f57-4945-bebc-de23a6272faf\",\"type\":\"Circle\"},\"hover_glyph\":null,\"muted_glyph\":null,\"nonselection_glyph\":{\"id\":\"bd6ec6a8-490c-4ec6-9a79-d1f7cd5e4fc0\",\"type\":\"Circle\"},\"selection_glyph\":null,\"view\":{\"id\":\"acd5edb8-2d1c-4158-ab77-ce2cfbe692da\",\"type\":\"CDSView\"}},\"id\":\"d14b7d69-979f-48b9-a777-cb97fefd67f6\",\"type\":\"GlyphRenderer\"},{\"attributes\":{\"plot\":{\"id\":\"ace2142a-7cec-4e48-af43-08c5f3d4a08d\",\"subtype\":\"Figure\",\"type\":\"Plot\"},\"source\":{\"id\":\"4ecc9e6e-b1ac-4dd6-bf08-f0f3861bda6d\",\"type\":\"ColumnDataSource\"},\"text\":{\"field\":\"names\"},\"text_align\":\"center\",\"text_color\":{\"value\":\"#555555\"},\"text_font_size\":{\"value\":\"8pt\"},\"x\":{\"field\":\"x1\"},\"y\":{\"field\":\"x2\"},\"y_offset\":{\"value\":6}},\"id\":\"97087976-75bb-4fc6-ab30-06b92767ae98\",\"type\":\"LabelSet\"},{\"attributes\":{\"fill_alpha\":{\"value\":0.1},\"fill_color\":{\"value\":\"#1f77b4\"},\"line_alpha\":{\"value\":0.1},\"line_color\":{\"value\":\"#1f77b4\"},\"size\":{\"units\":\"screen\",\"value\":8},\"x\":{\"field\":\"x1\"},\"y\":{\"field\":\"x2\"}},\"id\":\"bd6ec6a8-490c-4ec6-9a79-d1f7cd5e4fc0\",\"type\":\"Circle\"},{\"attributes\":{\"below\":[{\"id\":\"a44da724-02df-48ef-ad46-dc0f4c3eff40\",\"type\":\"LinearAxis\"}],\"left\":[{\"id\":\"07cd0a79-17f1-48e5-ab8c-e60eac87723f\",\"type\":\"LinearAxis\"}],\"renderers\":[{\"id\":\"a44da724-02df-48ef-ad46-dc0f4c3eff40\",\"type\":\"LinearAxis\"},{\"id\":\"60930c1a-201c-463f-b01e-320be545d40a\",\"type\":\"Grid\"},{\"id\":\"07cd0a79-17f1-48e5-ab8c-e60eac87723f\",\"type\":\"LinearAxis\"},{\"id\":\"2cb05e87-bc14-4342-a284-8f55caa5cbcb\",\"type\":\"Grid\"},{\"id\":\"d14b7d69-979f-48b9-a777-cb97fefd67f6\",\"type\":\"GlyphRenderer\"},{\"id\":\"97087976-75bb-4fc6-ab30-06b92767ae98\",\"type\":\"LabelSet\"}],\"title\":{\"id\":\"3df430e3-af47-4ec2-9355-9c237319d8cd\",\"type\":\"Title\"},\"toolbar\":{\"id\":\"cf382797-f07a-4cc9-bfe8-f3ac597d3f47\",\"type\":\"Toolbar\"},\"toolbar_location\":\"above\",\"x_range\":{\"id\":\"bd5c3c84-58e9-4d75-9ab3-fcf43b874e42\",\"type\":\"DataRange1d\"},\"x_scale\":{\"id\":\"5c047f6d-bec0-440b-adbb-09ce56de4a81\",\"type\":\"LinearScale\"},\"y_range\":{\"id\":\"e9bbd1c4-de4f-42fc-8162-7eef1a6aa8d6\",\"type\":\"DataRange1d\"},\"y_scale\":{\"id\":\"93cb8cbe-b34a-44ea-9e06-aabff9ec6d10\",\"type\":\"LinearScale\"}},\"id\":\"ace2142a-7cec-4e48-af43-08c5f3d4a08d\",\"subtype\":\"Figure\",\"type\":\"Plot\"},{\"attributes\":{},\"id\":\"3be73b17-9c38-42b2-a95f-989cf3986c0b\",\"type\":\"BasicTickFormatter\"},{\"attributes\":{\"callback\":null,\"column_names\":[\"x1\",\"x2\",\"names\"],\"data\":{\"names\":[\"the\",\"and\",\"to\",\"of\",\"a\",\"that\",\"i\",\"in\",\"it\",\"you\",\"we\",\"is\",\"s\",\"this\",\"so\",\"they\",\"was\",\"for\",\"are\",\"have\",\"but\",\"what\",\"on\",\"with\",\"can\",\"t\",\"about\",\"there\",\"be\",\"as\",\"at\",\"all\",\"not\",\"do\",\"my\",\"one\",\"re\",\"people\",\"like\",\"if\",\"from\",\"now\",\"our\",\"he\",\"an\",\"just\",\"these\",\"or\",\"when\",\"because\",\"very\",\"me\",\"out\",\"by\",\"them\",\"how\",\"know\",\"up\",\"going\",\"had\",\"more\",\"think\",\"who\",\"were\",\"see\",\"your\",\"their\",\"which\",\"would\",\"here\",\"really\",\"get\",\"ve\",\"then\",\"m\",\"world\",\"us\",\"time\",\"some\",\"has\",\"don\",\"actually\",\"into\",\"way\",\"where\",\"will\",\"years\",\"things\",\"other\",\"no\",\"could\",\"go\",\"well\",\"want\",\"been\",\"make\",\"right\",\"she\",\"said\",\"something\",\"those\",\"first\",\"two\",\"than\",\"much\",\"also\",\"look\",\"new\",\"thing\",\"little\",\"got\",\"back\",\"over\",\"most\",\"say\",\"even\",\"his\",\"life\",\"only\",\"work\",\"many\",\"take\",\"need\",\"did\",\"lot\",\"kind\",\"why\",\"good\",\"around\",\"every\",\"different\",\"down\",\"ll\",\"let\",\"her\",\"through\",\"same\",\"being\",\"come\",\"d\",\"day\",\"year\",\"three\",\"use\",\"doing\",\"put\",\"called\",\"any\",\"today\",\"percent\",\"made\",\"after\",\"thank\",\"tell\",\"great\",\"human\",\"find\",\"didn\",\"fact\",\"talk\",\"change\",\"started\",\"another\",\"idea\",\"big\",\"last\",\"own\",\"before\",\"its\",\"never\",\"should\",\"better\",\"give\",\"thought\",\"went\",\"might\",\"important\",\"000\",\"again\",\"able\",\"together\",\"still\",\"problem\",\"off\",\"next\",\"part\",\"course\",\"system\",\"him\",\"does\",\"each\",\"start\",\"show\",\"long\",\"ago\",\"story\",\"came\",\"brain\",\"few\",\"bit\",\"between\",\"used\",\"place\",\"technology\",\"women\",\"too\",\"old\",\"mean\",\"data\",\"water\",\"looking\",\"question\",\"maybe\",\"found\",\"love\",\"doesn\",\"end\",\"example\",\"10\",\"done\",\"point\",\"four\",\"real\",\"wanted\",\"ever\",\"school\",\"understand\",\"sort\",\"live\",\"call\",\"whole\",\"children\",\"always\",\"trying\",\"may\",\"person\",\"away\",\"believe\",\"feel\",\"try\",\"million\",\"working\",\"help\",\"everything\",\"five\",\"country\",\"thinking\",\"second\",\"using\",\"information\",\"money\",\"means\",\"power\",\"took\",\"times\",\"high\",\"space\",\"number\",\"kids\",\"home\",\"become\",\"create\",\"small\",\"design\",\"making\",\"best\",\"left\",\"getting\",\"future\",\"enough\",\"man\",\"quite\",\"city\",\"without\",\"sense\",\"happened\",\"comes\",\"social\",\"probably\",\"less\",\"light\",\"talking\",\"energy\",\"am\",\"building\",\"science\",\"food\",\"body\",\"told\",\"interesting\",\"ask\",\"half\",\"pretty\",\"hard\",\"play\",\"anything\",\"lives\",\"countries\",\"coming\",\"such\",\"family\",\"stuff\",\"dollars\",\"earth\",\"moment\",\"20\",\"imagine\",\"across\",\"side\",\"while\",\"saw\",\"happen\",\"once\",\"okay\",\"build\",\"having\",\"men\",\"later\",\"experience\",\"makes\",\"asked\",\"living\",\"seen\",\"says\",\"room\",\"hand\",\"simple\",\"health\",\"ways\",\"else\",\"case\",\"yet\",\"almost\",\"young\",\"days\",\"nothing\",\"care\",\"bad\",\"happens\",\"goes\",\"move\",\"states\",\"reason\",\"computer\",\"open\",\"learn\",\"africa\",\"process\",\"inside\",\"someone\",\"six\",\"far\",\"mind\",\"project\",\"remember\",\"single\",\"picture\",\"both\",\"whether\",\"problems\",\"saying\",\"community\",\"basically\",\"already\",\"within\",\"looked\",\"myself\",\"billion\",\"often\",\"possible\",\"business\",\"planet\",\"global\",\"everybody\",\"top\",\"sure\",\"public\",\"set\",\"wrong\",\"car\",\"book\",\"keep\",\"yes\",\"answer\",\"oh\",\"hope\",\"sometimes\",\"true\",\"history\",\"war\",\"guy\",\"child\",\"instead\",\"months\",\"ideas\",\"looks\",\"matter\",\"government\",\"amazing\",\"united\",\"since\",\"bring\",\"age\",\"cells\",\"job\",\"heard\",\"until\",\"face\",\"wasn\",\"100\",\"read\",\"control\",\"isn\",\"research\",\"30\",\"words\",\"u\",\"group\",\"under\",\"self\",\"somebody\",\"built\",\"state\",\"woman\",\"turn\",\"friends\",\"beautiful\",\"line\",\"knew\",\"couple\",\"order\",\"form\",\"yeah\",\"internet\",\"middle\",\"music\",\"piece\",\"nature\",\"head\",\"though\",\"stop\",\"everyone\",\"50\",\"places\",\"video\",\"learned\",\"language\",\"run\",\"night\",\"decided\",\"study\",\"word\",\"cancer\",\"taking\",\"works\",\"became\",\"exactly\",\"species\",\"society\",\"completely\",\"education\",\"against\",\"stories\",\"large\",\"share\",\"level\",\"heart\",\"america\",\"model\",\"questions\",\"gets\",\"mother\",\"god\",\"company\",\"turns\",\"ourselves\",\"happening\",\"hear\",\"art\",\"themselves\",\"must\",\"itself\",\"rather\",\"kinds\",\"students\",\"name\",\"hours\",\"disease\",\"front\",\"house\",\"huge\",\"couldn\",\"created\",\"universe\",\"ok\",\"animals\",\"american\",\"environment\",\"worked\",\"minutes\",\"ones\",\"black\",\"perhaps\",\"1\",\"past\",\"third\",\"along\",\"others\",\"finally\",\"sound\",\"early\",\"game\",\"thousands\",\"century\",\"based\",\"least\",\"per\",\"ted\",\"lots\",\"figure\",\"free\",\"guys\",\"particular\",\"happy\",\"news\",\"learning\",\"entire\",\"won\",\"gave\",\"machine\",\"india\",\"during\",\"systems\",\"air\",\"difference\",\"outside\",\"natural\",\"taken\",\"seven\",\"given\",\"changed\",\"leave\",\"cell\",\"15\",\"close\",\"behind\",\"cities\",\"full\",\"scale\",\"difficult\",\"china\",\"takes\",\"companies\",\"yourself\",\"area\",\"reality\",\"seeing\",\"easy\",\"turned\",\"cost\",\"eyes\",\"team\",\"moving\",\"population\",\"culture\",\"york\",\"hands\",\"whatever\",\"began\",\"needs\",\"terms\",\"image\",\"simply\",\"needed\",\"beginning\",\"father\",\"local\",\"realized\",\"media\",\"death\",\"parents\",\"view\",\"walk\",\"white\",\"market\",\"parts\",\"ocean\",\"economic\",\"eight\",\"powerful\",\"known\",\"week\",\"size\",\"felt\",\"humans\",\"certain\",\"spend\",\"longer\",\"phone\",\"wonderful\",\"cannot\",\"grow\",\"common\",\"center\",\"tried\",\"fish\",\"land\",\"oil\",\"political\",\"interested\",\"deal\",\"red\",\"gone\",\"amount\",\"weeks\",\"spent\",\"opportunity\",\"paper\",\"lost\",\"national\",\"quickly\",\"blue\",\"step\",\"poor\",\"green\",\"buy\",\"growth\",\"wouldn\",\"either\",\"patients\",\"sitting\",\"ability\",\"changes\",\"write\",\"challenge\",\"south\",\"low\",\"growing\",\"friend\",\"field\",\"shows\",\"2\",\"born\",\"rest\",\"climate\",\"40\",\"test\",\"street\",\"surface\",\"incredible\",\"average\",\"physical\",\"morning\",\"scientists\",\"program\",\"pay\",\"value\",\"feeling\",\"hundreds\",\"girl\",\"met\",\"behavior\",\"economy\",\"dna\",\"complex\",\"access\",\"risk\",\"animal\",\"structure\",\"feet\",\"attention\",\"areas\",\"anyone\",\"deep\",\"watch\",\"short\",\"absolutely\",\"speak\",\"brought\",\"die\",\"bottom\",\"numbers\",\"audience\",\"stage\",\"realize\",\"law\",\"images\",\"wrote\",\"understanding\",\"knowledge\",\"literally\",\"books\",\"movement\",\"ground\",\"giving\",\"eat\",\"force\",\"seems\",\"alone\",\"telling\",\"starting\",\"hold\",\"nice\",\"forward\",\"sea\",\"developed\",\"individual\",\"kid\",\"millions\",\"support\",\"miles\",\"tools\",\"running\",\"online\",\"result\",\"act\",\"medical\",\"technologies\",\"north\",\"lab\",\"development\",\"blood\",\"fear\",\"nobody\",\"map\",\"personal\",\"issue\",\"voice\",\"material\",\"key\",\"12\",\"recently\",\"theory\",\"cut\",\"cars\",\"sun\",\"fast\",\"changing\",\"playing\",\"clear\",\"especially\",\"soon\",\"girls\",\"patient\",\"choice\",\"fly\",\"creating\",\"normal\",\"discovered\",\"europe\",\"talked\",\"relationship\",\"gives\",\"generation\",\"dark\",\"type\",\"showed\",\"chance\",\"seem\",\"industry\",\"asking\",\"rate\",\"fun\",\"issues\",\"color\",\"designed\",\"hour\",\"university\",\"innovation\",\"several\",\"class\",\"computers\",\"english\",\"tiny\",\"allow\",\"save\",\"focus\",\"digital\",\"solve\",\"developing\",\"network\",\"film\",\"special\",\"wall\",\"situation\",\"baby\",\"solution\",\"reasons\",\"box\",\"knows\",\"meet\",\"dead\",\"stand\",\"begin\",\"haven\",\"impact\",\"anybody\",\"term\",\"beyond\",\"pictures\",\"please\",\"ice\",\"produce\",\"shape\",\"non\",\"resources\",\"robot\",\"cool\",\"groups\",\"likely\",\"stay\",\"available\",\"truth\",\"rights\",\"major\",\"cause\",\"evidence\",\"obviously\",\"writing\",\"experiment\",\"modern\",\"drug\",\"becomes\",\"incredibly\",\"aren\",\"bigger\",\"guess\",\"nine\",\"product\",\"drugs\",\"lived\",\"involved\",\"perfect\",\"google\",\"month\",\"effect\",\"similar\",\"putting\",\"eye\",\"pick\",\"message\",\"quality\",\"violence\",\"web\",\"evolution\",\"security\",\"office\",\"basic\",\"solar\",\"indeed\",\"general\",\"towards\",\"present\",\"drive\",\"send\",\"listen\",\"worth\",\"revolution\",\"explain\",\"hundred\",\"certainly\",\"died\",\"ready\",\"teach\",\"journey\",\"25\",\"hit\",\"walking\",\"led\",\"approach\",\"international\",\"200\",\"scientific\",\"games\",\"60\",\"potential\",\"crazy\",\"communities\",\"chinese\",\"device\",\"source\",\"camera\",\"rules\",\"sex\",\"carbon\",\"sounds\",\"boy\",\"reach\",\"starts\",\"examples\",\"west\",\"3\",\"success\",\"measure\",\"particularly\",\"software\",\"totally\",\"suddenly\",\"action\",\"college\",\"higher\",\"code\",\"eventually\",\"democracy\",\"among\",\"minute\",\"sit\",\"largest\",\"showing\",\"hospital\",\"notice\",\"period\",\"mass\",\"develop\",\"dream\",\"onto\",\"plants\",\"break\",\"add\",\"memory\",\"everywhere\",\"favorite\",\"11\",\"zero\",\"speed\",\"schools\",\"moved\",\"response\",\"wants\",\"extremely\",\"movie\",\"individuals\",\"table\",\"wait\",\"medicine\",\"follow\",\"anyway\",\"trust\",\"plant\",\"biggest\",\"watching\",\"organization\",\"creative\",\"road\",\"choose\",\"worse\",\"lead\",\"results\",\"500\",\"exciting\",\"grew\",\"materials\",\"jobs\",\"plan\",\"east\",\"poverty\",\"positive\",\"safe\",\"strong\",\"fall\",\"essentially\",\"object\",\"door\",\"son\",\"vision\",\"further\",\"happiness\",\"continue\",\"student\",\"doctor\",\"including\",\"named\",\"role\",\"objects\",\"extraordinary\",\"standing\",\"skin\",\"leaders\",\"usually\",\"african\",\"conversation\",\"projects\",\"allowed\",\"models\",\"supposed\",\"faster\",\"interest\",\"families\",\"police\",\"fight\",\"tree\",\"connected\",\"screen\",\"5\",\"cases\",\"goal\",\"somewhere\",\"finding\",\"buildings\",\"shown\"],\"x1\":{\"__ndarray__\":\"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\",\"dtype\":\"float32\",\"shape\":[1000]},\"x2\":{\"__ndarray__\":\"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\",\"dtype\":\"float32\",\"shape\":[1000]}}},\"id\":\"4ecc9e6e-b1ac-4dd6-bf08-f0f3861bda6d\",\"type\":\"ColumnDataSource\"},{\"attributes\":{\"fill_color\":{\"value\":\"#1f77b4\"},\"line_color\":{\"value\":\"#1f77b4\"},\"size\":{\"units\":\"screen\",\"value\":8},\"x\":{\"field\":\"x1\"},\"y\":{\"field\":\"x2\"}},\"id\":\"066207f0-1f57-4945-bebc-de23a6272faf\",\"type\":\"Circle\"},{\"attributes\":{\"callback\":null},\"id\":\"bd5c3c84-58e9-4d75-9ab3-fcf43b874e42\",\"type\":\"DataRange1d\"}],\"root_ids\":[\"ace2142a-7cec-4e48-af43-08c5f3d4a08d\"]},\"title\":\"Bokeh Application\",\"version\":\"0.12.7\"}};\n",
       "            var render_items = [{\"docid\":\"a367f3bf-09de-48b0-bc96-45e20ffee4d1\",\"elementid\":\"0836e965-b82d-486f-bab0-2ac6af1388f6\",\"modelid\":\"ace2142a-7cec-4e48-af43-08c5f3d4a08d\"}];\n",
       "            \n",
       "            Bokeh.embed.embed_items(docs_json, render_items);\n",
       "          };\n",
       "          if (document.readyState != \"loading\") fn();\n",
       "          else document.addEventListener(\"DOMContentLoaded\", fn);\n",
       "        })();\n",
       "      },\n",
       "      function(Bokeh) {\n",
       "      }\n",
       "    ];\n",
       "  \n",
       "    function run_inline_js() {\n",
       "      \n",
       "      if ((root.Bokeh !== undefined) || (force === true)) {\n",
       "        for (var i = 0; i < inline_js.length; i++) {\n",
       "          inline_js[i].call(root, root.Bokeh);\n",
       "        }if (force === true) {\n",
       "          display_loaded();\n",
       "        }} else if (Date.now() < root._bokeh_timeout) {\n",
       "        setTimeout(run_inline_js, 100);\n",
       "      } else if (!root._bokeh_failed_load) {\n",
       "        console.log(\"Bokeh: BokehJS failed to load within specified timeout.\");\n",
       "        root._bokeh_failed_load = true;\n",
       "      } else if (force !== true) {\n",
       "        var cell = $(document.getElementById(\"0836e965-b82d-486f-bab0-2ac6af1388f6\")).parents('.cell').data().cell;\n",
       "        cell.output_area.append_execute_result(NB_LOAD_WARNING)\n",
       "      }\n",
       "  \n",
       "    }\n",
       "  \n",
       "    if (root._bokeh_is_loading === 0) {\n",
       "      console.log(\"Bokeh: BokehJS loaded, going straight to plotting\");\n",
       "      run_inline_js();\n",
       "    } else {\n",
       "      load_libs(js_urls, function() {\n",
       "        console.log(\"Bokeh: BokehJS plotting callback run at\", now());\n",
       "        run_inline_js();\n",
       "      });\n",
       "    }\n",
       "  }(window));\n",
       "</script>"
      ]
     },
     "metadata": {},
     "output_type": "display_data"
    }
   ],
   "source": [
    "p = figure(tools=\"pan,wheel_zoom,reset,save\",\n",
    "           toolbar_location=\"above\",\n",
    "           title=\"word2vec T-SNE for most common words\")\n",
    "\n",
    "source = ColumnDataSource(data=dict(x1=words_top_ted_tsne[:,0],\n",
    "                                    x2=words_top_ted_tsne[:,1],\n",
    "                                    names=words_top_ted))\n",
    "\n",
    "p.scatter(x=\"x1\", y=\"x2\", size=8, source=source)\n",
    "\n",
    "labels = LabelSet(x=\"x1\", y=\"x2\", text=\"names\", y_offset=6,\n",
    "                  text_font_size=\"8pt\", text_color=\"#555555\",\n",
    "                  source=source, text_align='center')\n",
    "p.add_layout(labels)\n",
    "\n",
    "show(p)"
   ]
  },
  {
   "cell_type": "code",
   "execution_count": 72,
   "metadata": {
    "collapsed": true
   },
   "outputs": [],
   "source": [
    "if not os.path.isfile('wikitext-103-raw-v1.zip'):\n",
    "    urllib.request.urlretrieve(\"https://s3.amazonaws.com/research.metamind.io/wikitext/wikitext-103-raw-v1.zip\", filename=\"wikitext-103-raw-v1.zip\")"
   ]
  },
  {
   "cell_type": "code",
   "execution_count": 73,
   "metadata": {
    "collapsed": true
   },
   "outputs": [],
   "source": [
    "with zipfile.ZipFile('wikitext-103-raw-v1.zip', 'r') as z:\n",
    "    input_text = str(z.open('wikitext-103-raw/wiki.train.raw', 'r').read(), encoding='utf-8') # Thanks Robert Bastian"
   ]
  },
  {
   "cell_type": "code",
   "execution_count": 74,
   "metadata": {
    "collapsed": true
   },
   "outputs": [],
   "source": [
    "sentences_wiki = []\n",
    "for line in input_text.split('\\n'):\n",
    "    s = [x for x in line.split('.') if x and len(x.split()) >= 5]\n",
    "    sentences_wiki.extend(s)\n",
    "    \n",
    "for s_i in range(len(sentences_wiki)):\n",
    "    sentences_wiki[s_i] = re.sub(\"[^a-z]\", \" \", sentences_wiki[s_i].lower())\n",
    "    sentences_wiki[s_i] = re.sub(r'\\([^)]*\\)', '', sentences_wiki[s_i])\n",
    "del input_text"
   ]
  },
  {
   "cell_type": "code",
   "execution_count": 75,
   "metadata": {},
   "outputs": [
    {
     "name": "stdout",
     "output_type": "stream",
     "text": [
      "4267112\n",
      "853422\n"
     ]
    }
   ],
   "source": [
    "# sample 1/5 of the data\n",
    "shuffle(sentences_wiki)\n",
    "print(len(sentences_wiki))\n",
    "sentences_wiki = sentences_wiki[:int(len(sentences_wiki)/5)]\n",
    "print(len(sentences_wiki))"
   ]
  },
  {
   "cell_type": "code",
   "execution_count": 76,
   "metadata": {
    "collapsed": true
   },
   "outputs": [],
   "source": [
    "import collections\n",
    "c=collections.Counter()\n",
    "for s in sentences_ted:\n",
    "    for word in s:\n",
    "        c[word]+=1\n",
    "#print (c.most_common(1000))\n",
    "words_top_ted=list(k[0] for k in c.most_common(1000))\n",
    "counts_wiki_top1000=list(k[1] for k in c.most_common(1000))"
   ]
  },
  {
   "cell_type": "code",
   "execution_count": 77,
   "metadata": {},
   "outputs": [
    {
     "data": {
      "text/html": [
       "\n",
       "\n",
       "    <div class=\"bk-root\">\n",
       "        <div class=\"bk-plotdiv\" id=\"f35bfa02-7c76-4fb0-8cdd-f87cff2ebe25\"></div>\n",
       "    </div>\n",
       "<script type=\"text/javascript\">\n",
       "  \n",
       "  (function(root) {\n",
       "    function now() {\n",
       "      return new Date();\n",
       "    }\n",
       "  \n",
       "    var force = false;\n",
       "  \n",
       "    if (typeof (root._bokeh_onload_callbacks) === \"undefined\" || force === true) {\n",
       "      root._bokeh_onload_callbacks = [];\n",
       "      root._bokeh_is_loading = undefined;\n",
       "    }\n",
       "  \n",
       "  \n",
       "    \n",
       "    if (typeof (root._bokeh_timeout) === \"undefined\" || force === true) {\n",
       "      root._bokeh_timeout = Date.now() + 0;\n",
       "      root._bokeh_failed_load = false;\n",
       "    }\n",
       "  \n",
       "    var NB_LOAD_WARNING = {'data': {'text/html':\n",
       "       \"<div style='background-color: #fdd'>\\n\"+\n",
       "       \"<p>\\n\"+\n",
       "       \"BokehJS does not appear to have successfully loaded. If loading BokehJS from CDN, this \\n\"+\n",
       "       \"may be due to a slow or bad network connection. Possible fixes:\\n\"+\n",
       "       \"</p>\\n\"+\n",
       "       \"<ul>\\n\"+\n",
       "       \"<li>re-rerun `output_notebook()` to attempt to load from CDN again, or</li>\\n\"+\n",
       "       \"<li>use INLINE resources instead, as so:</li>\\n\"+\n",
       "       \"</ul>\\n\"+\n",
       "       \"<code>\\n\"+\n",
       "       \"from bokeh.resources import INLINE\\n\"+\n",
       "       \"output_notebook(resources=INLINE)\\n\"+\n",
       "       \"</code>\\n\"+\n",
       "       \"</div>\"}};\n",
       "  \n",
       "    function display_loaded() {\n",
       "      if (root.Bokeh !== undefined) {\n",
       "        var el = document.getElementById(\"f35bfa02-7c76-4fb0-8cdd-f87cff2ebe25\");\n",
       "        if (el != null) {\n",
       "          el.textContent = \"BokehJS \" + Bokeh.version + \" successfully loaded.\";\n",
       "        }\n",
       "      } else if (Date.now() < root._bokeh_timeout) {\n",
       "        setTimeout(display_loaded, 100)\n",
       "      }\n",
       "    }\n",
       "  \n",
       "  \n",
       "    function run_callbacks() {\n",
       "      try {\n",
       "        root._bokeh_onload_callbacks.forEach(function(callback) { callback() });\n",
       "      }\n",
       "      finally {\n",
       "        delete root._bokeh_onload_callbacks\n",
       "      }\n",
       "      console.info(\"Bokeh: all callbacks have finished\");\n",
       "    }\n",
       "  \n",
       "    function load_libs(js_urls, callback) {\n",
       "      root._bokeh_onload_callbacks.push(callback);\n",
       "      if (root._bokeh_is_loading > 0) {\n",
       "        console.log(\"Bokeh: BokehJS is being loaded, scheduling callback at\", now());\n",
       "        return null;\n",
       "      }\n",
       "      if (js_urls == null || js_urls.length === 0) {\n",
       "        run_callbacks();\n",
       "        return null;\n",
       "      }\n",
       "      console.log(\"Bokeh: BokehJS not loaded, scheduling load and callback at\", now());\n",
       "      root._bokeh_is_loading = js_urls.length;\n",
       "      for (var i = 0; i < js_urls.length; i++) {\n",
       "        var url = js_urls[i];\n",
       "        var s = document.createElement('script');\n",
       "        s.src = url;\n",
       "        s.async = false;\n",
       "        s.onreadystatechange = s.onload = function() {\n",
       "          root._bokeh_is_loading--;\n",
       "          if (root._bokeh_is_loading === 0) {\n",
       "            console.log(\"Bokeh: all BokehJS libraries loaded\");\n",
       "            run_callbacks()\n",
       "          }\n",
       "        };\n",
       "        s.onerror = function() {\n",
       "          console.warn(\"failed to load library \" + url);\n",
       "        };\n",
       "        console.log(\"Bokeh: injecting script tag for BokehJS library: \", url);\n",
       "        document.getElementsByTagName(\"head\")[0].appendChild(s);\n",
       "      }\n",
       "    };var element = document.getElementById(\"f35bfa02-7c76-4fb0-8cdd-f87cff2ebe25\");\n",
       "    if (element == null) {\n",
       "      console.log(\"Bokeh: ERROR: autoload.js configured with elementid 'f35bfa02-7c76-4fb0-8cdd-f87cff2ebe25' but no matching script tag was found. \")\n",
       "      return false;\n",
       "    }\n",
       "  \n",
       "    var js_urls = [];\n",
       "  \n",
       "    var inline_js = [\n",
       "      function(Bokeh) {\n",
       "        (function() {\n",
       "          var fn = function() {\n",
       "            var docs_json = {\"bb0336f5-1522-4037-a13e-f1498d4bd49e\":{\"roots\":{\"references\":[{\"attributes\":{},\"id\":\"0265bd2e-cfa0-4749-8471-811a2a81bdfa\",\"type\":\"BasicTicker\"},{\"attributes\":{},\"id\":\"c0bdd207-8e59-4800-ade4-9e9666afd72e\",\"type\":\"BasicTickFormatter\"},{\"attributes\":{\"below\":[{\"id\":\"b708cb0f-c616-47ed-90d4-7bb90cca4083\",\"type\":\"LinearAxis\"}],\"left\":[{\"id\":\"aa115a30-ad01-4ae2-b8ca-08295199ba41\",\"type\":\"LinearAxis\"}],\"renderers\":[{\"id\":\"b708cb0f-c616-47ed-90d4-7bb90cca4083\",\"type\":\"LinearAxis\"},{\"id\":\"9331666f-37bf-4365-9054-d5a6ce8184cc\",\"type\":\"Grid\"},{\"id\":\"aa115a30-ad01-4ae2-b8ca-08295199ba41\",\"type\":\"LinearAxis\"},{\"id\":\"4d0a6bc6-9f4f-4868-bb6d-a1f57d9089be\",\"type\":\"Grid\"},{\"id\":\"ba75aea9-4d71-4694-9b0a-2920f114e030\",\"type\":\"GlyphRenderer\"}],\"title\":{\"id\":\"caf319ef-1b9c-490c-8a2a-cb91101220c9\",\"type\":\"Title\"},\"toolbar\":{\"id\":\"5051cde0-4d3c-44fc-a78a-8ed6165de3fc\",\"type\":\"Toolbar\"},\"toolbar_location\":\"above\",\"x_range\":{\"id\":\"9f61501c-1a6e-420e-9299-29726228b9be\",\"type\":\"DataRange1d\"},\"x_scale\":{\"id\":\"62d75584-d2e6-47a4-b7e9-c9730cc860a8\",\"type\":\"LinearScale\"},\"y_range\":{\"id\":\"bcfef78b-b669-4268-a3b2-ffa4bfb313b1\",\"type\":\"DataRange1d\"},\"y_scale\":{\"id\":\"45837ec9-7b65-4a75-8536-4902b4395232\",\"type\":\"LinearScale\"}},\"id\":\"319cd0c2-abc4-497c-9715-f964873d3baa\",\"subtype\":\"Figure\",\"type\":\"Plot\"},{\"attributes\":{},\"id\":\"d3fc72b7-b8f2-4385-807e-6272b4b69d76\",\"type\":\"BasicTicker\"},{\"attributes\":{\"source\":{\"id\":\"c9797ddd-5b8f-405c-ab07-f55b5757e58f\",\"type\":\"ColumnDataSource\"}},\"id\":\"7173d11a-90e8-494d-b53b-96ba2ea43f73\",\"type\":\"CDSView\"},{\"attributes\":{\"callback\":null,\"column_names\":[\"left\",\"right\",\"top\"],\"data\":{\"left\":{\"__ndarray__\":\"AAAAAABAeUB7FK5H4VqjQHsUrkfhxrFAuB6F61HguUB7FK5H4fzAQJqZmZmZCcVAuB6F61EWyUDXo3A9CiPNQHsUrkfhl9BACtejcD2e0kCamZmZmaTUQClcj8L1qtZAuB6F61Gx2EBI4XoUrrfaQNejcD0KvtxAZ2ZmZmbE3kB7FK5HYWXgQMP1KFyPaOFACtejcL1r4kBSuB6F627jQJqZmZkZcuRA4XoUrkd15UApXI/CdXjmQHE9Cteje+dAuB6F69F+6EAAAAAAAILpQEjhehQuhepAkML1KFyI60DXo3A9iovsQB+F61G4ju1AZ2ZmZuaR7kCuR+F6FJXvQHsUrkchTPBAH4XrUbjN8EDD9ShcT0/xQGdmZmbm0PFACtejcH1S8kCuR+F6FNTyQFK4HoWrVfNA9ihcj0LX80CamZmZ2Vj0QD4K16Nw2vRA4XoUrgdc9UCF61G4nt31QClcj8I1X/ZAzczMzMzg9kBxPQrXY2L3QBWuR+H64/dAuB6F65Fl+EBcj8L1KOf4QAAAAADAaPlApHA9Clfq+UBI4XoU7mv6QOxRuB6F7fpAkML1KBxv+0AzMzMzs/D7QNejcD1KcvxAexSuR+Hz/EAfhetReHX9QMP1KFwP9/1AZ2ZmZqZ4/kAK16NwPfr+QK5H4XrUe/9AUrgehWv9/0B7FK5HgT8AQc3MzMxMgABBH4XrURjBAEFxPQrX4wEBQcP1KFyvQgFBFa5H4XqDAUFnZmZmRsQBQbgehesRBQJBCtejcN1FAkFcj8L1qIYCQa5H4Xp0xwJBAAAAAEAIA0FSuB6FC0kDQaRwPQrXiQNB9ihcj6LKA0FI4XoUbgsEQZqZmZk5TARB7FG4HgWNBEE+Ctej0M0EQZDC9SicDgVB4XoUrmdPBUEzMzMzM5AFQYXrUbj+0AVB16NwPcoRBkEpXI/ClVIGQXsUrkdhkwZBzczMzCzUBkEfhetR+BQHQXE9CtfDVQdBw/UoXI+WB0EVrkfhWtcHQWdmZmYmGAhBuB6F6/FYCEEK16NwvZkIQVyPwvWI2ghBrkfhelQbCUE=\",\"dtype\":\"float64\",\"shape\":[100]},\"right\":{\"__ndarray__\":\"exSuR+Fao0B7FK5H4caxQLgehetR4LlAexSuR+H8wECamZmZmQnFQLgehetRFslA16NwPQojzUB7FK5H4ZfQQArXo3A9ntJAmpmZmZmk1EApXI/C9arWQLgehetRsdhASOF6FK632kDXo3A9Cr7cQGdmZmZmxN5AexSuR2Fl4EDD9Shcj2jhQArXo3C9a+JAUrgehetu40CamZmZGXLkQOF6FK5HdeVAKVyPwnV45kBxPQrXo3vnQLgehevRfuhAAAAAAACC6UBI4XoULoXqQJDC9ShciOtA16NwPYqL7EAfhetRuI7tQGdmZmbmke5ArkfhehSV70B7FK5HIUzwQB+F61G4zfBAw/UoXE9P8UBnZmZm5tDxQArXo3B9UvJArkfhehTU8kBSuB6Fq1XzQPYoXI9C1/NAmpmZmdlY9EA+CtejcNr0QOF6FK4HXPVAhetRuJ7d9UApXI/CNV/2QM3MzMzM4PZAcT0K12Ni90AVrkfh+uP3QLgeheuRZfhAXI/C9Sjn+EAAAAAAwGj5QKRwPQpX6vlASOF6FO5r+kDsUbgehe36QJDC9Sgcb/tAMzMzM7Pw+0DXo3A9SnL8QHsUrkfh8/xAH4XrUXh1/UDD9ShcD/f9QGdmZmameP5ACtejcD36/kCuR+F61Hv/QFK4HoVr/f9AexSuR4E/AEHNzMzMTIAAQR+F61EYwQBBcT0K1+MBAUHD9Shcr0IBQRWuR+F6gwFBZ2ZmZkbEAUG4HoXrEQUCQQrXo3DdRQJBXI/C9aiGAkGuR+F6dMcCQQAAAABACANBUrgehQtJA0GkcD0K14kDQfYoXI+iygNBSOF6FG4LBEGamZmZOUwEQexRuB4FjQRBPgrXo9DNBEGQwvUonA4FQeF6FK5nTwVBMzMzMzOQBUGF61G4/tAFQdejcD3KEQZBKVyPwpVSBkF7FK5HYZMGQc3MzMws1AZBH4XrUfgUB0FxPQrXw1UHQcP1KFyPlgdBFa5H4VrXB0FnZmZmJhgIQbgehevxWAhBCtejcL2ZCEFcj8L1iNoIQa5H4XpUGwlBAAAAACBcCUE=\",\"dtype\":\"float64\",\"shape\":[100]},\"top\":{\"__ndarray__\":\"50H1zNSBOT/ypb1tgHIBPwsriUb5Uew+zuTFiLI04j78kGUPxTHhPh40R25oQNY+zuTFiLI00j4pPQWW1y7APsTbB2FDRsg+JT0FltcuwD4tPQWW1y6wPi09BZbXLrA+JT0FltcuwD4tPQWW1y6gPiU9BZbXLrA+LT0FltcuoD4AAAAAAAAAADU9BZbXLqA+AAAAAAAAAAAAAAAAAAAAAAAAAAAAAAAAAAAAAAAAAAAAAAAAAAAAADU9BZbXLqA+AAAAAAAAAAAAAAAAAAAAAAAAAAAAAAAANT0FltcuoD4AAAAAAAAAAAAAAAAAAAAANT0FltcuoD4AAAAAAAAAACU9BZbXLqA+AAAAAAAAAAAlPQWW1y6gPkU9BZbXLqA+AAAAAAAAAAAlPQWW1y6gPgAAAAAAAAAAJT0FltcuoD4AAAAAAAAAAAAAAAAAAAAAAAAAAAAAAAAAAAAAAAAAAAAAAAAAAAAAJT0FltcuoD4AAAAAAAAAAAAAAAAAAAAAAAAAAAAAAAAAAAAAAAAAACU9BZbXLqA+AAAAAAAAAAAAAAAAAAAAAAAAAAAAAAAAAAAAAAAAAAAlPQWW1y6gPgAAAAAAAAAAAAAAAAAAAAAAAAAAAAAAAAAAAAAAAAAART0FltcuoD4AAAAAAAAAAAAAAAAAAAAAAAAAAAAAAAAAAAAAAAAAAAAAAAAAAAAAAAAAAAAAAAAAAAAAAAAAAAAAAAAAAAAAAAAAAAAAAAAAAAAAAAAAACU9BZbXLqA+AAAAAAAAAAAAAAAAAAAAAAAAAAAAAAAAAAAAAAAAAAAAAAAAAAAAAAAAAAAAAAAAAAAAAAAAAAAAAAAAAAAAAAAAAAAAAAAAAAAAAAAAAAAAAAAAAAAAAAAAAAAAAAAAAAAAAAAAAAAAAAAAAAAAAAAAAAAAAAAAAAAAAAAAAAAAAAAAAAAAAAAAAAAAAAAAAAAAAAAAAAAAAAAAAAAAAAAAAAAAAAAAAAAAAAAAAAAAAAAAAAAAAAAAAAAAAAAAAAAAAAAAAAAAAAAAAAAAAAAAAAAAAAAAJT0FltcuoD4=\",\"dtype\":\"float64\",\"shape\":[100]}}},\"id\":\"c9797ddd-5b8f-405c-ab07-f55b5757e58f\",\"type\":\"ColumnDataSource\"},{\"attributes\":{\"callback\":null},\"id\":\"bcfef78b-b669-4268-a3b2-ffa4bfb313b1\",\"type\":\"DataRange1d\"},{\"attributes\":{},\"id\":\"e39b1ec9-6b94-4ea8-9473-48b280c4ef7c\",\"type\":\"SaveTool\"},{\"attributes\":{\"plot\":null,\"text\":\"Top-1000 words distribution\"},\"id\":\"caf319ef-1b9c-490c-8a2a-cb91101220c9\",\"type\":\"Title\"},{\"attributes\":{\"formatter\":{\"id\":\"c0bdd207-8e59-4800-ade4-9e9666afd72e\",\"type\":\"BasicTickFormatter\"},\"plot\":{\"id\":\"319cd0c2-abc4-497c-9715-f964873d3baa\",\"subtype\":\"Figure\",\"type\":\"Plot\"},\"ticker\":{\"id\":\"0265bd2e-cfa0-4749-8471-811a2a81bdfa\",\"type\":\"BasicTicker\"}},\"id\":\"aa115a30-ad01-4ae2-b8ca-08295199ba41\",\"type\":\"LinearAxis\"},{\"attributes\":{\"active_drag\":\"auto\",\"active_inspect\":\"auto\",\"active_scroll\":\"auto\",\"active_tap\":\"auto\",\"tools\":[{\"id\":\"44edd015-aea7-4821-a2b9-3bfc04e4a9f3\",\"type\":\"PanTool\"},{\"id\":\"8e78f8e3-e2cf-4601-827f-38fe718a5791\",\"type\":\"WheelZoomTool\"},{\"id\":\"504b745d-8be8-4f1e-a40a-c15867e5d624\",\"type\":\"ResetTool\"},{\"id\":\"e39b1ec9-6b94-4ea8-9473-48b280c4ef7c\",\"type\":\"SaveTool\"}]},\"id\":\"5051cde0-4d3c-44fc-a78a-8ed6165de3fc\",\"type\":\"Toolbar\"},{\"attributes\":{},\"id\":\"45837ec9-7b65-4a75-8536-4902b4395232\",\"type\":\"LinearScale\"},{\"attributes\":{},\"id\":\"8e78f8e3-e2cf-4601-827f-38fe718a5791\",\"type\":\"WheelZoomTool\"},{\"attributes\":{},\"id\":\"504b745d-8be8-4f1e-a40a-c15867e5d624\",\"type\":\"ResetTool\"},{\"attributes\":{},\"id\":\"fa3cb23d-6c29-4193-8d7f-532c76052d88\",\"type\":\"BasicTickFormatter\"},{\"attributes\":{\"bottom\":{\"value\":0},\"fill_color\":{\"value\":\"#1f77b4\"},\"left\":{\"field\":\"left\"},\"line_color\":{\"value\":\"#555555\"},\"right\":{\"field\":\"right\"},\"top\":{\"field\":\"top\"}},\"id\":\"fc522167-f75c-49c0-9795-cf3d9525e1b9\",\"type\":\"Quad\"},{\"attributes\":{},\"id\":\"62d75584-d2e6-47a4-b7e9-c9730cc860a8\",\"type\":\"LinearScale\"},{\"attributes\":{\"plot\":{\"id\":\"319cd0c2-abc4-497c-9715-f964873d3baa\",\"subtype\":\"Figure\",\"type\":\"Plot\"},\"ticker\":{\"id\":\"d3fc72b7-b8f2-4385-807e-6272b4b69d76\",\"type\":\"BasicTicker\"}},\"id\":\"9331666f-37bf-4365-9054-d5a6ce8184cc\",\"type\":\"Grid\"},{\"attributes\":{\"callback\":null},\"id\":\"9f61501c-1a6e-420e-9299-29726228b9be\",\"type\":\"DataRange1d\"},{\"attributes\":{},\"id\":\"44edd015-aea7-4821-a2b9-3bfc04e4a9f3\",\"type\":\"PanTool\"},{\"attributes\":{\"data_source\":{\"id\":\"c9797ddd-5b8f-405c-ab07-f55b5757e58f\",\"type\":\"ColumnDataSource\"},\"glyph\":{\"id\":\"fc522167-f75c-49c0-9795-cf3d9525e1b9\",\"type\":\"Quad\"},\"hover_glyph\":null,\"muted_glyph\":null,\"nonselection_glyph\":{\"id\":\"73f83ea2-8f29-4356-a2cb-57fa25e7d1cb\",\"type\":\"Quad\"},\"selection_glyph\":null,\"view\":{\"id\":\"7173d11a-90e8-494d-b53b-96ba2ea43f73\",\"type\":\"CDSView\"}},\"id\":\"ba75aea9-4d71-4694-9b0a-2920f114e030\",\"type\":\"GlyphRenderer\"},{\"attributes\":{\"formatter\":{\"id\":\"fa3cb23d-6c29-4193-8d7f-532c76052d88\",\"type\":\"BasicTickFormatter\"},\"plot\":{\"id\":\"319cd0c2-abc4-497c-9715-f964873d3baa\",\"subtype\":\"Figure\",\"type\":\"Plot\"},\"ticker\":{\"id\":\"d3fc72b7-b8f2-4385-807e-6272b4b69d76\",\"type\":\"BasicTicker\"}},\"id\":\"b708cb0f-c616-47ed-90d4-7bb90cca4083\",\"type\":\"LinearAxis\"},{\"attributes\":{\"bottom\":{\"value\":0},\"fill_alpha\":{\"value\":0.1},\"fill_color\":{\"value\":\"#1f77b4\"},\"left\":{\"field\":\"left\"},\"line_alpha\":{\"value\":0.1},\"line_color\":{\"value\":\"#1f77b4\"},\"right\":{\"field\":\"right\"},\"top\":{\"field\":\"top\"}},\"id\":\"73f83ea2-8f29-4356-a2cb-57fa25e7d1cb\",\"type\":\"Quad\"},{\"attributes\":{\"dimension\":1,\"plot\":{\"id\":\"319cd0c2-abc4-497c-9715-f964873d3baa\",\"subtype\":\"Figure\",\"type\":\"Plot\"},\"ticker\":{\"id\":\"0265bd2e-cfa0-4749-8471-811a2a81bdfa\",\"type\":\"BasicTicker\"}},\"id\":\"4d0a6bc6-9f4f-4868-bb6d-a1f57d9089be\",\"type\":\"Grid\"}],\"root_ids\":[\"319cd0c2-abc4-497c-9715-f964873d3baa\"]},\"title\":\"Bokeh Application\",\"version\":\"0.12.7\"}};\n",
       "            var render_items = [{\"docid\":\"bb0336f5-1522-4037-a13e-f1498d4bd49e\",\"elementid\":\"f35bfa02-7c76-4fb0-8cdd-f87cff2ebe25\",\"modelid\":\"319cd0c2-abc4-497c-9715-f964873d3baa\"}];\n",
       "            \n",
       "            Bokeh.embed.embed_items(docs_json, render_items);\n",
       "          };\n",
       "          if (document.readyState != \"loading\") fn();\n",
       "          else document.addEventListener(\"DOMContentLoaded\", fn);\n",
       "        })();\n",
       "      },\n",
       "      function(Bokeh) {\n",
       "      }\n",
       "    ];\n",
       "  \n",
       "    function run_inline_js() {\n",
       "      \n",
       "      if ((root.Bokeh !== undefined) || (force === true)) {\n",
       "        for (var i = 0; i < inline_js.length; i++) {\n",
       "          inline_js[i].call(root, root.Bokeh);\n",
       "        }if (force === true) {\n",
       "          display_loaded();\n",
       "        }} else if (Date.now() < root._bokeh_timeout) {\n",
       "        setTimeout(run_inline_js, 100);\n",
       "      } else if (!root._bokeh_failed_load) {\n",
       "        console.log(\"Bokeh: BokehJS failed to load within specified timeout.\");\n",
       "        root._bokeh_failed_load = true;\n",
       "      } else if (force !== true) {\n",
       "        var cell = $(document.getElementById(\"f35bfa02-7c76-4fb0-8cdd-f87cff2ebe25\")).parents('.cell').data().cell;\n",
       "        cell.output_area.append_execute_result(NB_LOAD_WARNING)\n",
       "      }\n",
       "  \n",
       "    }\n",
       "  \n",
       "    if (root._bokeh_is_loading === 0) {\n",
       "      console.log(\"Bokeh: BokehJS loaded, going straight to plotting\");\n",
       "      run_inline_js();\n",
       "    } else {\n",
       "      load_libs(js_urls, function() {\n",
       "        console.log(\"Bokeh: BokehJS plotting callback run at\", now());\n",
       "        run_inline_js();\n",
       "      });\n",
       "    }\n",
       "  }(window));\n",
       "</script>"
      ]
     },
     "metadata": {},
     "output_type": "display_data"
    }
   ],
   "source": [
    "hist, edges = np.histogram(counts_wiki_top1000, density=True, bins=100, normed=True)\n",
    "\n",
    "p = figure(tools=\"pan,wheel_zoom,reset,save\",\n",
    "           toolbar_location=\"above\",\n",
    "           title=\"Top-1000 words distribution\")\n",
    "p.quad(top=hist, bottom=0, left=edges[:-1], right=edges[1:], line_color=\"#555555\")\n",
    "show(p)"
   ]
  },
  {
   "cell_type": "code",
   "execution_count": 89,
   "metadata": {
    "collapsed": true
   },
   "outputs": [],
   "source": [
    "#train word2wec\n",
    "wiki_model = Word2Vec(sentences_wiki, size=100, window=5, min_count=5, workers=4)"
   ]
  },
  {
   "cell_type": "code",
   "execution_count": 109,
   "metadata": {
    "collapsed": true
   },
   "outputs": [],
   "source": [
    "wiki_model.save('wiki_model')"
   ]
  },
  {
   "cell_type": "code",
   "execution_count": 110,
   "metadata": {},
   "outputs": [],
   "source": [
    "wiki_model=Word2Vec.load('wiki_model')"
   ]
  },
  {
   "cell_type": "code",
   "execution_count": 111,
   "metadata": {},
   "outputs": [
    {
     "ename": "KeyError",
     "evalue": "\"word 'man' not in vocabulary\"",
     "output_type": "error",
     "traceback": [
      "\u001b[0;31m---------------------------------------------------------------------------\u001b[0m",
      "\u001b[0;31mKeyError\u001b[0m                                  Traceback (most recent call last)",
      "\u001b[0;32m<ipython-input-111-d3bc37116fca>\u001b[0m in \u001b[0;36m<module>\u001b[0;34m()\u001b[0m\n\u001b[0;32m----> 1\u001b[0;31m \u001b[0mwiki_model\u001b[0m\u001b[0;34m.\u001b[0m\u001b[0mmost_similar\u001b[0m\u001b[0;34m(\u001b[0m\u001b[0;34m\"man\"\u001b[0m\u001b[0;34m)\u001b[0m\u001b[0;34m\u001b[0m\u001b[0m\n\u001b[0m",
      "\u001b[0;32m~/anaconda3/lib/python3.6/site-packages/gensim/models/word2vec.py\u001b[0m in \u001b[0;36mmost_similar\u001b[0;34m(self, positive, negative, topn, restrict_vocab, indexer)\u001b[0m\n\u001b[1;32m   1301\u001b[0m         \u001b[0mRefer\u001b[0m \u001b[0mto\u001b[0m \u001b[0mthe\u001b[0m \u001b[0mdocumentation\u001b[0m \u001b[0;32mfor\u001b[0m\u001b[0;31m \u001b[0m\u001b[0;31m`\u001b[0m\u001b[0mgensim\u001b[0m\u001b[0;34m.\u001b[0m\u001b[0mmodels\u001b[0m\u001b[0;34m.\u001b[0m\u001b[0mKeyedVectors\u001b[0m\u001b[0;34m.\u001b[0m\u001b[0mmost_similar\u001b[0m\u001b[0;31m`\u001b[0m\u001b[0;34m\u001b[0m\u001b[0m\n\u001b[1;32m   1302\u001b[0m         \"\"\"\n\u001b[0;32m-> 1303\u001b[0;31m         \u001b[0;32mreturn\u001b[0m \u001b[0mself\u001b[0m\u001b[0;34m.\u001b[0m\u001b[0mwv\u001b[0m\u001b[0;34m.\u001b[0m\u001b[0mmost_similar\u001b[0m\u001b[0;34m(\u001b[0m\u001b[0mpositive\u001b[0m\u001b[0;34m,\u001b[0m \u001b[0mnegative\u001b[0m\u001b[0;34m,\u001b[0m \u001b[0mtopn\u001b[0m\u001b[0;34m,\u001b[0m \u001b[0mrestrict_vocab\u001b[0m\u001b[0;34m,\u001b[0m \u001b[0mindexer\u001b[0m\u001b[0;34m)\u001b[0m\u001b[0;34m\u001b[0m\u001b[0m\n\u001b[0m\u001b[1;32m   1304\u001b[0m \u001b[0;34m\u001b[0m\u001b[0m\n\u001b[1;32m   1305\u001b[0m     \u001b[0;32mdef\u001b[0m \u001b[0mwmdistance\u001b[0m\u001b[0;34m(\u001b[0m\u001b[0mself\u001b[0m\u001b[0;34m,\u001b[0m \u001b[0mdocument1\u001b[0m\u001b[0;34m,\u001b[0m \u001b[0mdocument2\u001b[0m\u001b[0;34m)\u001b[0m\u001b[0;34m:\u001b[0m\u001b[0;34m\u001b[0m\u001b[0m\n",
      "\u001b[0;32m~/anaconda3/lib/python3.6/site-packages/gensim/models/keyedvectors.py\u001b[0m in \u001b[0;36mmost_similar\u001b[0;34m(self, positive, negative, topn, restrict_vocab, indexer)\u001b[0m\n\u001b[1;32m    334\u001b[0m                 \u001b[0mmean\u001b[0m\u001b[0;34m.\u001b[0m\u001b[0mappend\u001b[0m\u001b[0;34m(\u001b[0m\u001b[0mweight\u001b[0m \u001b[0;34m*\u001b[0m \u001b[0mword\u001b[0m\u001b[0;34m)\u001b[0m\u001b[0;34m\u001b[0m\u001b[0m\n\u001b[1;32m    335\u001b[0m             \u001b[0;32melse\u001b[0m\u001b[0;34m:\u001b[0m\u001b[0;34m\u001b[0m\u001b[0m\n\u001b[0;32m--> 336\u001b[0;31m                 \u001b[0mmean\u001b[0m\u001b[0;34m.\u001b[0m\u001b[0mappend\u001b[0m\u001b[0;34m(\u001b[0m\u001b[0mweight\u001b[0m \u001b[0;34m*\u001b[0m \u001b[0mself\u001b[0m\u001b[0;34m.\u001b[0m\u001b[0mword_vec\u001b[0m\u001b[0;34m(\u001b[0m\u001b[0mword\u001b[0m\u001b[0;34m,\u001b[0m \u001b[0muse_norm\u001b[0m\u001b[0;34m=\u001b[0m\u001b[0;32mTrue\u001b[0m\u001b[0;34m)\u001b[0m\u001b[0;34m)\u001b[0m\u001b[0;34m\u001b[0m\u001b[0m\n\u001b[0m\u001b[1;32m    337\u001b[0m                 \u001b[0;32mif\u001b[0m \u001b[0mword\u001b[0m \u001b[0;32min\u001b[0m \u001b[0mself\u001b[0m\u001b[0;34m.\u001b[0m\u001b[0mvocab\u001b[0m\u001b[0;34m:\u001b[0m\u001b[0;34m\u001b[0m\u001b[0m\n\u001b[1;32m    338\u001b[0m                     \u001b[0mall_words\u001b[0m\u001b[0;34m.\u001b[0m\u001b[0madd\u001b[0m\u001b[0;34m(\u001b[0m\u001b[0mself\u001b[0m\u001b[0;34m.\u001b[0m\u001b[0mvocab\u001b[0m\u001b[0;34m[\u001b[0m\u001b[0mword\u001b[0m\u001b[0;34m]\u001b[0m\u001b[0;34m.\u001b[0m\u001b[0mindex\u001b[0m\u001b[0;34m)\u001b[0m\u001b[0;34m\u001b[0m\u001b[0m\n",
      "\u001b[0;32m~/anaconda3/lib/python3.6/site-packages/gensim/models/keyedvectors.py\u001b[0m in \u001b[0;36mword_vec\u001b[0;34m(self, word, use_norm)\u001b[0m\n\u001b[1;32m    282\u001b[0m                 \u001b[0;32mreturn\u001b[0m \u001b[0mself\u001b[0m\u001b[0;34m.\u001b[0m\u001b[0msyn0\u001b[0m\u001b[0;34m[\u001b[0m\u001b[0mself\u001b[0m\u001b[0;34m.\u001b[0m\u001b[0mvocab\u001b[0m\u001b[0;34m[\u001b[0m\u001b[0mword\u001b[0m\u001b[0;34m]\u001b[0m\u001b[0;34m.\u001b[0m\u001b[0mindex\u001b[0m\u001b[0;34m]\u001b[0m\u001b[0;34m\u001b[0m\u001b[0m\n\u001b[1;32m    283\u001b[0m         \u001b[0;32melse\u001b[0m\u001b[0;34m:\u001b[0m\u001b[0;34m\u001b[0m\u001b[0m\n\u001b[0;32m--> 284\u001b[0;31m             \u001b[0;32mraise\u001b[0m \u001b[0mKeyError\u001b[0m\u001b[0;34m(\u001b[0m\u001b[0;34m\"word '%s' not in vocabulary\"\u001b[0m \u001b[0;34m%\u001b[0m \u001b[0mword\u001b[0m\u001b[0;34m)\u001b[0m\u001b[0;34m\u001b[0m\u001b[0m\n\u001b[0m\u001b[1;32m    285\u001b[0m \u001b[0;34m\u001b[0m\u001b[0m\n\u001b[1;32m    286\u001b[0m     \u001b[0;32mdef\u001b[0m \u001b[0mmost_similar\u001b[0m\u001b[0;34m(\u001b[0m\u001b[0mself\u001b[0m\u001b[0;34m,\u001b[0m \u001b[0mpositive\u001b[0m\u001b[0;34m=\u001b[0m\u001b[0;32mNone\u001b[0m\u001b[0;34m,\u001b[0m \u001b[0mnegative\u001b[0m\u001b[0;34m=\u001b[0m\u001b[0;32mNone\u001b[0m\u001b[0;34m,\u001b[0m \u001b[0mtopn\u001b[0m\u001b[0;34m=\u001b[0m\u001b[0;36m10\u001b[0m\u001b[0;34m,\u001b[0m \u001b[0mrestrict_vocab\u001b[0m\u001b[0;34m=\u001b[0m\u001b[0;32mNone\u001b[0m\u001b[0;34m,\u001b[0m \u001b[0mindexer\u001b[0m\u001b[0;34m=\u001b[0m\u001b[0;32mNone\u001b[0m\u001b[0;34m)\u001b[0m\u001b[0;34m:\u001b[0m\u001b[0;34m\u001b[0m\u001b[0m\n",
      "\u001b[0;31mKeyError\u001b[0m: \"word 'man' not in vocabulary\""
     ]
    }
   ],
   "source": [
    "wiki_model.most_similar(\"man\")"
   ]
  },
  {
   "cell_type": "code",
   "execution_count": 112,
   "metadata": {},
   "outputs": [
    {
     "ename": "KeyError",
     "evalue": "\"word 'computer' not in vocabulary\"",
     "output_type": "error",
     "traceback": [
      "\u001b[0;31m---------------------------------------------------------------------------\u001b[0m",
      "\u001b[0;31mKeyError\u001b[0m                                  Traceback (most recent call last)",
      "\u001b[0;32m<ipython-input-112-a39f4b67d028>\u001b[0m in \u001b[0;36m<module>\u001b[0;34m()\u001b[0m\n\u001b[0;32m----> 1\u001b[0;31m \u001b[0mwiki_model\u001b[0m\u001b[0;34m.\u001b[0m\u001b[0mmost_similar\u001b[0m\u001b[0;34m(\u001b[0m\u001b[0;34m\"computer\"\u001b[0m\u001b[0;34m)\u001b[0m\u001b[0;34m\u001b[0m\u001b[0m\n\u001b[0m",
      "\u001b[0;32m~/anaconda3/lib/python3.6/site-packages/gensim/models/word2vec.py\u001b[0m in \u001b[0;36mmost_similar\u001b[0;34m(self, positive, negative, topn, restrict_vocab, indexer)\u001b[0m\n\u001b[1;32m   1301\u001b[0m         \u001b[0mRefer\u001b[0m \u001b[0mto\u001b[0m \u001b[0mthe\u001b[0m \u001b[0mdocumentation\u001b[0m \u001b[0;32mfor\u001b[0m\u001b[0;31m \u001b[0m\u001b[0;31m`\u001b[0m\u001b[0mgensim\u001b[0m\u001b[0;34m.\u001b[0m\u001b[0mmodels\u001b[0m\u001b[0;34m.\u001b[0m\u001b[0mKeyedVectors\u001b[0m\u001b[0;34m.\u001b[0m\u001b[0mmost_similar\u001b[0m\u001b[0;31m`\u001b[0m\u001b[0;34m\u001b[0m\u001b[0m\n\u001b[1;32m   1302\u001b[0m         \"\"\"\n\u001b[0;32m-> 1303\u001b[0;31m         \u001b[0;32mreturn\u001b[0m \u001b[0mself\u001b[0m\u001b[0;34m.\u001b[0m\u001b[0mwv\u001b[0m\u001b[0;34m.\u001b[0m\u001b[0mmost_similar\u001b[0m\u001b[0;34m(\u001b[0m\u001b[0mpositive\u001b[0m\u001b[0;34m,\u001b[0m \u001b[0mnegative\u001b[0m\u001b[0;34m,\u001b[0m \u001b[0mtopn\u001b[0m\u001b[0;34m,\u001b[0m \u001b[0mrestrict_vocab\u001b[0m\u001b[0;34m,\u001b[0m \u001b[0mindexer\u001b[0m\u001b[0;34m)\u001b[0m\u001b[0;34m\u001b[0m\u001b[0m\n\u001b[0m\u001b[1;32m   1304\u001b[0m \u001b[0;34m\u001b[0m\u001b[0m\n\u001b[1;32m   1305\u001b[0m     \u001b[0;32mdef\u001b[0m \u001b[0mwmdistance\u001b[0m\u001b[0;34m(\u001b[0m\u001b[0mself\u001b[0m\u001b[0;34m,\u001b[0m \u001b[0mdocument1\u001b[0m\u001b[0;34m,\u001b[0m \u001b[0mdocument2\u001b[0m\u001b[0;34m)\u001b[0m\u001b[0;34m:\u001b[0m\u001b[0;34m\u001b[0m\u001b[0m\n",
      "\u001b[0;32m~/anaconda3/lib/python3.6/site-packages/gensim/models/keyedvectors.py\u001b[0m in \u001b[0;36mmost_similar\u001b[0;34m(self, positive, negative, topn, restrict_vocab, indexer)\u001b[0m\n\u001b[1;32m    334\u001b[0m                 \u001b[0mmean\u001b[0m\u001b[0;34m.\u001b[0m\u001b[0mappend\u001b[0m\u001b[0;34m(\u001b[0m\u001b[0mweight\u001b[0m \u001b[0;34m*\u001b[0m \u001b[0mword\u001b[0m\u001b[0;34m)\u001b[0m\u001b[0;34m\u001b[0m\u001b[0m\n\u001b[1;32m    335\u001b[0m             \u001b[0;32melse\u001b[0m\u001b[0;34m:\u001b[0m\u001b[0;34m\u001b[0m\u001b[0m\n\u001b[0;32m--> 336\u001b[0;31m                 \u001b[0mmean\u001b[0m\u001b[0;34m.\u001b[0m\u001b[0mappend\u001b[0m\u001b[0;34m(\u001b[0m\u001b[0mweight\u001b[0m \u001b[0;34m*\u001b[0m \u001b[0mself\u001b[0m\u001b[0;34m.\u001b[0m\u001b[0mword_vec\u001b[0m\u001b[0;34m(\u001b[0m\u001b[0mword\u001b[0m\u001b[0;34m,\u001b[0m \u001b[0muse_norm\u001b[0m\u001b[0;34m=\u001b[0m\u001b[0;32mTrue\u001b[0m\u001b[0;34m)\u001b[0m\u001b[0;34m)\u001b[0m\u001b[0;34m\u001b[0m\u001b[0m\n\u001b[0m\u001b[1;32m    337\u001b[0m                 \u001b[0;32mif\u001b[0m \u001b[0mword\u001b[0m \u001b[0;32min\u001b[0m \u001b[0mself\u001b[0m\u001b[0;34m.\u001b[0m\u001b[0mvocab\u001b[0m\u001b[0;34m:\u001b[0m\u001b[0;34m\u001b[0m\u001b[0m\n\u001b[1;32m    338\u001b[0m                     \u001b[0mall_words\u001b[0m\u001b[0;34m.\u001b[0m\u001b[0madd\u001b[0m\u001b[0;34m(\u001b[0m\u001b[0mself\u001b[0m\u001b[0;34m.\u001b[0m\u001b[0mvocab\u001b[0m\u001b[0;34m[\u001b[0m\u001b[0mword\u001b[0m\u001b[0;34m]\u001b[0m\u001b[0;34m.\u001b[0m\u001b[0mindex\u001b[0m\u001b[0;34m)\u001b[0m\u001b[0;34m\u001b[0m\u001b[0m\n",
      "\u001b[0;32m~/anaconda3/lib/python3.6/site-packages/gensim/models/keyedvectors.py\u001b[0m in \u001b[0;36mword_vec\u001b[0;34m(self, word, use_norm)\u001b[0m\n\u001b[1;32m    282\u001b[0m                 \u001b[0;32mreturn\u001b[0m \u001b[0mself\u001b[0m\u001b[0;34m.\u001b[0m\u001b[0msyn0\u001b[0m\u001b[0;34m[\u001b[0m\u001b[0mself\u001b[0m\u001b[0;34m.\u001b[0m\u001b[0mvocab\u001b[0m\u001b[0;34m[\u001b[0m\u001b[0mword\u001b[0m\u001b[0;34m]\u001b[0m\u001b[0;34m.\u001b[0m\u001b[0mindex\u001b[0m\u001b[0;34m]\u001b[0m\u001b[0;34m\u001b[0m\u001b[0m\n\u001b[1;32m    283\u001b[0m         \u001b[0;32melse\u001b[0m\u001b[0;34m:\u001b[0m\u001b[0;34m\u001b[0m\u001b[0m\n\u001b[0;32m--> 284\u001b[0;31m             \u001b[0;32mraise\u001b[0m \u001b[0mKeyError\u001b[0m\u001b[0;34m(\u001b[0m\u001b[0;34m\"word '%s' not in vocabulary\"\u001b[0m \u001b[0;34m%\u001b[0m \u001b[0mword\u001b[0m\u001b[0;34m)\u001b[0m\u001b[0;34m\u001b[0m\u001b[0m\n\u001b[0m\u001b[1;32m    285\u001b[0m \u001b[0;34m\u001b[0m\u001b[0m\n\u001b[1;32m    286\u001b[0m     \u001b[0;32mdef\u001b[0m \u001b[0mmost_similar\u001b[0m\u001b[0;34m(\u001b[0m\u001b[0mself\u001b[0m\u001b[0;34m,\u001b[0m \u001b[0mpositive\u001b[0m\u001b[0;34m=\u001b[0m\u001b[0;32mNone\u001b[0m\u001b[0;34m,\u001b[0m \u001b[0mnegative\u001b[0m\u001b[0;34m=\u001b[0m\u001b[0;32mNone\u001b[0m\u001b[0;34m,\u001b[0m \u001b[0mtopn\u001b[0m\u001b[0;34m=\u001b[0m\u001b[0;36m10\u001b[0m\u001b[0;34m,\u001b[0m \u001b[0mrestrict_vocab\u001b[0m\u001b[0;34m=\u001b[0m\u001b[0;32mNone\u001b[0m\u001b[0;34m,\u001b[0m \u001b[0mindexer\u001b[0m\u001b[0;34m=\u001b[0m\u001b[0;32mNone\u001b[0m\u001b[0;34m)\u001b[0m\u001b[0;34m:\u001b[0m\u001b[0;34m\u001b[0m\u001b[0m\n",
      "\u001b[0;31mKeyError\u001b[0m: \"word 'computer' not in vocabulary\""
     ]
    }
   ],
   "source": [
    "wiki_model.most_similar(\"computer\")"
   ]
  },
  {
   "cell_type": "code",
   "execution_count": 113,
   "metadata": {},
   "outputs": [
    {
     "ename": "KeyError",
     "evalue": "\"word 'house' not in vocabulary\"",
     "output_type": "error",
     "traceback": [
      "\u001b[0;31m---------------------------------------------------------------------------\u001b[0m",
      "\u001b[0;31mKeyError\u001b[0m                                  Traceback (most recent call last)",
      "\u001b[0;32m<ipython-input-113-96c60e4fc9ee>\u001b[0m in \u001b[0;36m<module>\u001b[0;34m()\u001b[0m\n\u001b[0;32m----> 1\u001b[0;31m \u001b[0mwiki_model\u001b[0m\u001b[0;34m.\u001b[0m\u001b[0mmost_similar\u001b[0m\u001b[0;34m(\u001b[0m\u001b[0;34m\"house\"\u001b[0m\u001b[0;34m)\u001b[0m\u001b[0;34m\u001b[0m\u001b[0m\n\u001b[0m",
      "\u001b[0;32m~/anaconda3/lib/python3.6/site-packages/gensim/models/word2vec.py\u001b[0m in \u001b[0;36mmost_similar\u001b[0;34m(self, positive, negative, topn, restrict_vocab, indexer)\u001b[0m\n\u001b[1;32m   1301\u001b[0m         \u001b[0mRefer\u001b[0m \u001b[0mto\u001b[0m \u001b[0mthe\u001b[0m \u001b[0mdocumentation\u001b[0m \u001b[0;32mfor\u001b[0m\u001b[0;31m \u001b[0m\u001b[0;31m`\u001b[0m\u001b[0mgensim\u001b[0m\u001b[0;34m.\u001b[0m\u001b[0mmodels\u001b[0m\u001b[0;34m.\u001b[0m\u001b[0mKeyedVectors\u001b[0m\u001b[0;34m.\u001b[0m\u001b[0mmost_similar\u001b[0m\u001b[0;31m`\u001b[0m\u001b[0;34m\u001b[0m\u001b[0m\n\u001b[1;32m   1302\u001b[0m         \"\"\"\n\u001b[0;32m-> 1303\u001b[0;31m         \u001b[0;32mreturn\u001b[0m \u001b[0mself\u001b[0m\u001b[0;34m.\u001b[0m\u001b[0mwv\u001b[0m\u001b[0;34m.\u001b[0m\u001b[0mmost_similar\u001b[0m\u001b[0;34m(\u001b[0m\u001b[0mpositive\u001b[0m\u001b[0;34m,\u001b[0m \u001b[0mnegative\u001b[0m\u001b[0;34m,\u001b[0m \u001b[0mtopn\u001b[0m\u001b[0;34m,\u001b[0m \u001b[0mrestrict_vocab\u001b[0m\u001b[0;34m,\u001b[0m \u001b[0mindexer\u001b[0m\u001b[0;34m)\u001b[0m\u001b[0;34m\u001b[0m\u001b[0m\n\u001b[0m\u001b[1;32m   1304\u001b[0m \u001b[0;34m\u001b[0m\u001b[0m\n\u001b[1;32m   1305\u001b[0m     \u001b[0;32mdef\u001b[0m \u001b[0mwmdistance\u001b[0m\u001b[0;34m(\u001b[0m\u001b[0mself\u001b[0m\u001b[0;34m,\u001b[0m \u001b[0mdocument1\u001b[0m\u001b[0;34m,\u001b[0m \u001b[0mdocument2\u001b[0m\u001b[0;34m)\u001b[0m\u001b[0;34m:\u001b[0m\u001b[0;34m\u001b[0m\u001b[0m\n",
      "\u001b[0;32m~/anaconda3/lib/python3.6/site-packages/gensim/models/keyedvectors.py\u001b[0m in \u001b[0;36mmost_similar\u001b[0;34m(self, positive, negative, topn, restrict_vocab, indexer)\u001b[0m\n\u001b[1;32m    334\u001b[0m                 \u001b[0mmean\u001b[0m\u001b[0;34m.\u001b[0m\u001b[0mappend\u001b[0m\u001b[0;34m(\u001b[0m\u001b[0mweight\u001b[0m \u001b[0;34m*\u001b[0m \u001b[0mword\u001b[0m\u001b[0;34m)\u001b[0m\u001b[0;34m\u001b[0m\u001b[0m\n\u001b[1;32m    335\u001b[0m             \u001b[0;32melse\u001b[0m\u001b[0;34m:\u001b[0m\u001b[0;34m\u001b[0m\u001b[0m\n\u001b[0;32m--> 336\u001b[0;31m                 \u001b[0mmean\u001b[0m\u001b[0;34m.\u001b[0m\u001b[0mappend\u001b[0m\u001b[0;34m(\u001b[0m\u001b[0mweight\u001b[0m \u001b[0;34m*\u001b[0m \u001b[0mself\u001b[0m\u001b[0;34m.\u001b[0m\u001b[0mword_vec\u001b[0m\u001b[0;34m(\u001b[0m\u001b[0mword\u001b[0m\u001b[0;34m,\u001b[0m \u001b[0muse_norm\u001b[0m\u001b[0;34m=\u001b[0m\u001b[0;32mTrue\u001b[0m\u001b[0;34m)\u001b[0m\u001b[0;34m)\u001b[0m\u001b[0;34m\u001b[0m\u001b[0m\n\u001b[0m\u001b[1;32m    337\u001b[0m                 \u001b[0;32mif\u001b[0m \u001b[0mword\u001b[0m \u001b[0;32min\u001b[0m \u001b[0mself\u001b[0m\u001b[0;34m.\u001b[0m\u001b[0mvocab\u001b[0m\u001b[0;34m:\u001b[0m\u001b[0;34m\u001b[0m\u001b[0m\n\u001b[1;32m    338\u001b[0m                     \u001b[0mall_words\u001b[0m\u001b[0;34m.\u001b[0m\u001b[0madd\u001b[0m\u001b[0;34m(\u001b[0m\u001b[0mself\u001b[0m\u001b[0;34m.\u001b[0m\u001b[0mvocab\u001b[0m\u001b[0;34m[\u001b[0m\u001b[0mword\u001b[0m\u001b[0;34m]\u001b[0m\u001b[0;34m.\u001b[0m\u001b[0mindex\u001b[0m\u001b[0;34m)\u001b[0m\u001b[0;34m\u001b[0m\u001b[0m\n",
      "\u001b[0;32m~/anaconda3/lib/python3.6/site-packages/gensim/models/keyedvectors.py\u001b[0m in \u001b[0;36mword_vec\u001b[0;34m(self, word, use_norm)\u001b[0m\n\u001b[1;32m    282\u001b[0m                 \u001b[0;32mreturn\u001b[0m \u001b[0mself\u001b[0m\u001b[0;34m.\u001b[0m\u001b[0msyn0\u001b[0m\u001b[0;34m[\u001b[0m\u001b[0mself\u001b[0m\u001b[0;34m.\u001b[0m\u001b[0mvocab\u001b[0m\u001b[0;34m[\u001b[0m\u001b[0mword\u001b[0m\u001b[0;34m]\u001b[0m\u001b[0;34m.\u001b[0m\u001b[0mindex\u001b[0m\u001b[0;34m]\u001b[0m\u001b[0;34m\u001b[0m\u001b[0m\n\u001b[1;32m    283\u001b[0m         \u001b[0;32melse\u001b[0m\u001b[0;34m:\u001b[0m\u001b[0;34m\u001b[0m\u001b[0m\n\u001b[0;32m--> 284\u001b[0;31m             \u001b[0;32mraise\u001b[0m \u001b[0mKeyError\u001b[0m\u001b[0;34m(\u001b[0m\u001b[0;34m\"word '%s' not in vocabulary\"\u001b[0m \u001b[0;34m%\u001b[0m \u001b[0mword\u001b[0m\u001b[0;34m)\u001b[0m\u001b[0;34m\u001b[0m\u001b[0m\n\u001b[0m\u001b[1;32m    285\u001b[0m \u001b[0;34m\u001b[0m\u001b[0m\n\u001b[1;32m    286\u001b[0m     \u001b[0;32mdef\u001b[0m \u001b[0mmost_similar\u001b[0m\u001b[0;34m(\u001b[0m\u001b[0mself\u001b[0m\u001b[0;34m,\u001b[0m \u001b[0mpositive\u001b[0m\u001b[0;34m=\u001b[0m\u001b[0;32mNone\u001b[0m\u001b[0;34m,\u001b[0m \u001b[0mnegative\u001b[0m\u001b[0;34m=\u001b[0m\u001b[0;32mNone\u001b[0m\u001b[0;34m,\u001b[0m \u001b[0mtopn\u001b[0m\u001b[0;34m=\u001b[0m\u001b[0;36m10\u001b[0m\u001b[0;34m,\u001b[0m \u001b[0mrestrict_vocab\u001b[0m\u001b[0;34m=\u001b[0m\u001b[0;32mNone\u001b[0m\u001b[0;34m,\u001b[0m \u001b[0mindexer\u001b[0m\u001b[0;34m=\u001b[0m\u001b[0;32mNone\u001b[0m\u001b[0;34m)\u001b[0m\u001b[0;34m:\u001b[0m\u001b[0;34m\u001b[0m\u001b[0m\n",
      "\u001b[0;31mKeyError\u001b[0m: \"word 'house' not in vocabulary\""
     ]
    }
   ],
   "source": [
    "wiki_model.most_similar(\"house\")"
   ]
  },
  {
   "cell_type": "code",
   "execution_count": 116,
   "metadata": {},
   "outputs": [
    {
     "ename": "NameError",
     "evalue": "name 'words_top_wiki' is not defined",
     "output_type": "error",
     "traceback": [
      "\u001b[0;31m---------------------------------------------------------------------------\u001b[0m",
      "\u001b[0;31mNameError\u001b[0m                                 Traceback (most recent call last)",
      "\u001b[0;32m<ipython-input-116-e997659e2e1f>\u001b[0m in \u001b[0;36m<module>\u001b[0;34m()\u001b[0m\n\u001b[1;32m      1\u001b[0m \u001b[0;31m# This assumes words_top_wiki is a list of strings, the top 1000 words\u001b[0m\u001b[0;34m\u001b[0m\u001b[0;34m\u001b[0m\u001b[0m\n\u001b[0;32m----> 2\u001b[0;31m \u001b[0mwords_top_vec_wiki\u001b[0m \u001b[0;34m=\u001b[0m \u001b[0mwiki_model\u001b[0m\u001b[0;34m[\u001b[0m\u001b[0mwords_top_wiki\u001b[0m\u001b[0;34m]\u001b[0m\u001b[0;34m\u001b[0m\u001b[0m\n\u001b[0m\u001b[1;32m      3\u001b[0m \u001b[0;34m\u001b[0m\u001b[0m\n\u001b[1;32m      4\u001b[0m \u001b[0mtsne\u001b[0m \u001b[0;34m=\u001b[0m \u001b[0mTSNE\u001b[0m\u001b[0;34m(\u001b[0m\u001b[0mn_components\u001b[0m\u001b[0;34m=\u001b[0m\u001b[0;36m2\u001b[0m\u001b[0;34m,\u001b[0m \u001b[0mrandom_state\u001b[0m\u001b[0;34m=\u001b[0m\u001b[0;36m0\u001b[0m\u001b[0;34m)\u001b[0m\u001b[0;34m\u001b[0m\u001b[0m\n\u001b[1;32m      5\u001b[0m \u001b[0mwords_top_wiki_tsne\u001b[0m \u001b[0;34m=\u001b[0m \u001b[0mtsne\u001b[0m\u001b[0;34m.\u001b[0m\u001b[0mfit_transform\u001b[0m\u001b[0;34m(\u001b[0m\u001b[0mwords_top_vec_wiki\u001b[0m\u001b[0;34m)\u001b[0m\u001b[0;34m\u001b[0m\u001b[0m\n",
      "\u001b[0;31mNameError\u001b[0m: name 'words_top_wiki' is not defined"
     ]
    }
   ],
   "source": [
    "# This assumes words_top_wiki is a list of strings, the top 1000 words\n",
    "words_top_vec_wiki = wiki_model[words_top_wiki]\n",
    "\n",
    "tsne = TSNE(n_components=2, random_state=0)\n",
    "words_top_wiki_tsne = tsne.fit_transform(words_top_vec_wiki)"
   ]
  },
  {
   "cell_type": "code",
   "execution_count": null,
   "metadata": {
    "collapsed": true
   },
   "outputs": [],
   "source": [
    "p = figure(tools=\"pan,wheel_zoom,reset,save\",\n",
    "           toolbar_location=\"above\",\n",
    "           title=\"word2vec T-SNE for most common words\")\n",
    "\n",
    "source = ColumnDataSource(data=dict(x1=words_top_wiki_tsne[:,0],\n",
    "                                    x2=words_top_wiki_tsne[:,1],\n",
    "                                    names=words_top_wiki))\n",
    "\n",
    "p.scatter(x=\"x1\", y=\"x2\", size=8, source=source)\n",
    "\n",
    "labels = LabelSet(x=\"x1\", y=\"x2\", text=\"names\", y_offset=6,\n",
    "                  text_font_size=\"8pt\", text_color=\"#555555\",\n",
    "                  source=source, text_align='center')\n",
    "p.add_layout(labels)\n",
    "\n",
    "show(p)"
   ]
  },
  {
   "cell_type": "code",
   "execution_count": null,
   "metadata": {},
   "outputs": [],
   "source": []
  },
  {
   "cell_type": "code",
   "execution_count": null,
   "metadata": {},
   "outputs": [],
   "source": []
  },
  {
   "cell_type": "code",
   "execution_count": null,
   "metadata": {
    "collapsed": true
   },
   "outputs": [],
   "source": []
  }
 ],
 "metadata": {
  "kernelspec": {
   "display_name": "Python 3",
   "language": "python",
   "name": "python3"
  },
  "language_info": {
   "codemirror_mode": {
    "name": "ipython",
    "version": 3
   },
   "file_extension": ".py",
   "mimetype": "text/x-python",
   "name": "python",
   "nbconvert_exporter": "python",
   "pygments_lexer": "ipython3",
   "version": "3.6.2"
  }
 },
 "nbformat": 4,
 "nbformat_minor": 2
}
