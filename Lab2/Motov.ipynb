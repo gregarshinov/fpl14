{
 "cells": [
  {
   "cell_type": "markdown",
   "metadata": {},
   "source": [
    "## Practical 1: word2vec\n",
    "<p>Oxford CS - Deep NLP 2017<br>\n",
    "https://www.cs.ox.ac.uk/teaching/courses/2016-2017/dl/</p>\n",
    "<p>[Yannis Assael, Brendan Shillingford, Chris Dyer]</p>"
   ]
  },
  {
   "cell_type": "markdown",
   "metadata": {},
   "source": [
    "This practical is presented as an IPython Notebook, with the code written for recent versions of **Python 3**. The code in this practical will not work with Python 2 unless you modify it. If you are using your own Python installation, ensure you have a setup identical to that described in the installation shell script (which is intended for use with the department lab machines). We will be unable to support installation on personal machines due to time constraints, so please use the lab machines and the setup script if you are unfamiliar with how to install Anaconda.\n",
    "\n",
    "To execute a notebook cell, press `shift-enter`. The return value of the last command will be displayed, if it is not `None`.\n",
    "\n",
    "Potentially useful library documentation, references, and resources:\n",
    "\n",
    "* IPython notebooks: <https://ipython.org/ipython-doc/3/notebook/notebook.html#introduction>\n",
    "* Numpy numerical array library: <https://docs.scipy.org/doc/>\n",
    "* Gensim's word2vec: <https://radimrehurek.com/gensim/models/word2vec.html>\n",
    "* Bokeh interactive plots: <http://bokeh.pydata.org/en/latest/> (we provide plotting code here, but click the thumbnails for more examples to copy-paste)\n",
    "* scikit-learn ML library (aka `sklearn`): <http://scikit-learn.org/stable/documentation.html>\n",
    "* nltk NLP toolkit: <http://www.nltk.org/>\n",
    "* tutorial for processing xml in python using `lxml`: <http://lxml.de/tutorial.html> (we did this for you below, but in case you need it in the future)"
   ]
  },
  {
   "cell_type": "code",
   "execution_count": 1,
   "metadata": {
    "collapsed": true
   },
   "outputs": [],
   "source": [
    "import numpy as np\n",
    "import os\n",
    "from random import shuffle\n",
    "import re"
   ]
  },
  {
   "cell_type": "code",
   "execution_count": 2,
   "metadata": {},
   "outputs": [
    {
     "data": {
      "text/html": [
       "\n",
       "    <div class=\"bk-root\">\n",
       "        <a href=\"https://bokeh.pydata.org\" target=\"_blank\" class=\"bk-logo bk-logo-small bk-logo-notebook\"></a>\n",
       "        <span id=\"be417dc4-a31a-4bb5-91dd-00881da7369b\">Loading BokehJS ...</span>\n",
       "    </div>"
      ]
     },
     "metadata": {},
     "output_type": "display_data"
    },
    {
     "data": {
      "application/javascript": [
       "\n",
       "(function(root) {\n",
       "  function now() {\n",
       "    return new Date();\n",
       "  }\n",
       "\n",
       "  var force = true;\n",
       "\n",
       "  if (typeof (root._bokeh_onload_callbacks) === \"undefined\" || force === true) {\n",
       "    root._bokeh_onload_callbacks = [];\n",
       "    root._bokeh_is_loading = undefined;\n",
       "  }\n",
       "\n",
       "\n",
       "  \n",
       "  if (typeof (root._bokeh_timeout) === \"undefined\" || force === true) {\n",
       "    root._bokeh_timeout = Date.now() + 5000;\n",
       "    root._bokeh_failed_load = false;\n",
       "  }\n",
       "\n",
       "  var NB_LOAD_WARNING = {'data': {'text/html':\n",
       "     \"<div style='background-color: #fdd'>\\n\"+\n",
       "     \"<p>\\n\"+\n",
       "     \"BokehJS does not appear to have successfully loaded. If loading BokehJS from CDN, this \\n\"+\n",
       "     \"may be due to a slow or bad network connection. Possible fixes:\\n\"+\n",
       "     \"</p>\\n\"+\n",
       "     \"<ul>\\n\"+\n",
       "     \"<li>re-rerun `output_notebook()` to attempt to load from CDN again, or</li>\\n\"+\n",
       "     \"<li>use INLINE resources instead, as so:</li>\\n\"+\n",
       "     \"</ul>\\n\"+\n",
       "     \"<code>\\n\"+\n",
       "     \"from bokeh.resources import INLINE\\n\"+\n",
       "     \"output_notebook(resources=INLINE)\\n\"+\n",
       "     \"</code>\\n\"+\n",
       "     \"</div>\"}};\n",
       "\n",
       "  function display_loaded() {\n",
       "    if (root.Bokeh !== undefined) {\n",
       "      var el = document.getElementById(\"be417dc4-a31a-4bb5-91dd-00881da7369b\");\n",
       "      if (el != null) {\n",
       "        el.textContent = \"BokehJS \" + Bokeh.version + \" successfully loaded.\";\n",
       "      }\n",
       "    } else if (Date.now() < root._bokeh_timeout) {\n",
       "      setTimeout(display_loaded, 100)\n",
       "    }\n",
       "  }\n",
       "\n",
       "\n",
       "  function run_callbacks() {\n",
       "    try {\n",
       "      root._bokeh_onload_callbacks.forEach(function(callback) { callback() });\n",
       "    }\n",
       "    finally {\n",
       "      delete root._bokeh_onload_callbacks\n",
       "    }\n",
       "    console.info(\"Bokeh: all callbacks have finished\");\n",
       "  }\n",
       "\n",
       "  function load_libs(js_urls, callback) {\n",
       "    root._bokeh_onload_callbacks.push(callback);\n",
       "    if (root._bokeh_is_loading > 0) {\n",
       "      console.log(\"Bokeh: BokehJS is being loaded, scheduling callback at\", now());\n",
       "      return null;\n",
       "    }\n",
       "    if (js_urls == null || js_urls.length === 0) {\n",
       "      run_callbacks();\n",
       "      return null;\n",
       "    }\n",
       "    console.log(\"Bokeh: BokehJS not loaded, scheduling load and callback at\", now());\n",
       "    root._bokeh_is_loading = js_urls.length;\n",
       "    for (var i = 0; i < js_urls.length; i++) {\n",
       "      var url = js_urls[i];\n",
       "      var s = document.createElement('script');\n",
       "      s.src = url;\n",
       "      s.async = false;\n",
       "      s.onreadystatechange = s.onload = function() {\n",
       "        root._bokeh_is_loading--;\n",
       "        if (root._bokeh_is_loading === 0) {\n",
       "          console.log(\"Bokeh: all BokehJS libraries loaded\");\n",
       "          run_callbacks()\n",
       "        }\n",
       "      };\n",
       "      s.onerror = function() {\n",
       "        console.warn(\"failed to load library \" + url);\n",
       "      };\n",
       "      console.log(\"Bokeh: injecting script tag for BokehJS library: \", url);\n",
       "      document.getElementsByTagName(\"head\")[0].appendChild(s);\n",
       "    }\n",
       "  };var element = document.getElementById(\"be417dc4-a31a-4bb5-91dd-00881da7369b\");\n",
       "  if (element == null) {\n",
       "    console.log(\"Bokeh: ERROR: autoload.js configured with elementid 'be417dc4-a31a-4bb5-91dd-00881da7369b' but no matching script tag was found. \")\n",
       "    return false;\n",
       "  }\n",
       "\n",
       "  var js_urls = [\"https://cdn.pydata.org/bokeh/release/bokeh-0.12.7.min.js\", \"https://cdn.pydata.org/bokeh/release/bokeh-widgets-0.12.7.min.js\", \"https://cdn.pydata.org/bokeh/release/bokeh-tables-0.12.7.min.js\", \"https://cdn.pydata.org/bokeh/release/bokeh-gl-0.12.7.min.js\"];\n",
       "\n",
       "  var inline_js = [\n",
       "    function(Bokeh) {\n",
       "      Bokeh.set_log_level(\"info\");\n",
       "    },\n",
       "    \n",
       "    function(Bokeh) {\n",
       "      \n",
       "    },\n",
       "    \n",
       "    function(Bokeh) {\n",
       "      \n",
       "      document.getElementById(\"be417dc4-a31a-4bb5-91dd-00881da7369b\").textContent = \"BokehJS is loading...\";\n",
       "    },\n",
       "    function(Bokeh) {\n",
       "      console.log(\"Bokeh: injecting CSS: https://cdn.pydata.org/bokeh/release/bokeh-0.12.7.min.css\");\n",
       "      Bokeh.embed.inject_css(\"https://cdn.pydata.org/bokeh/release/bokeh-0.12.7.min.css\");\n",
       "      console.log(\"Bokeh: injecting CSS: https://cdn.pydata.org/bokeh/release/bokeh-widgets-0.12.7.min.css\");\n",
       "      Bokeh.embed.inject_css(\"https://cdn.pydata.org/bokeh/release/bokeh-widgets-0.12.7.min.css\");\n",
       "      console.log(\"Bokeh: injecting CSS: https://cdn.pydata.org/bokeh/release/bokeh-tables-0.12.7.min.css\");\n",
       "      Bokeh.embed.inject_css(\"https://cdn.pydata.org/bokeh/release/bokeh-tables-0.12.7.min.css\");\n",
       "    }\n",
       "  ];\n",
       "\n",
       "  function run_inline_js() {\n",
       "    \n",
       "    if ((root.Bokeh !== undefined) || (force === true)) {\n",
       "      for (var i = 0; i < inline_js.length; i++) {\n",
       "        inline_js[i].call(root, root.Bokeh);\n",
       "      }if (force === true) {\n",
       "        display_loaded();\n",
       "      }} else if (Date.now() < root._bokeh_timeout) {\n",
       "      setTimeout(run_inline_js, 100);\n",
       "    } else if (!root._bokeh_failed_load) {\n",
       "      console.log(\"Bokeh: BokehJS failed to load within specified timeout.\");\n",
       "      root._bokeh_failed_load = true;\n",
       "    } else if (force !== true) {\n",
       "      var cell = $(document.getElementById(\"be417dc4-a31a-4bb5-91dd-00881da7369b\")).parents('.cell').data().cell;\n",
       "      cell.output_area.append_execute_result(NB_LOAD_WARNING)\n",
       "    }\n",
       "\n",
       "  }\n",
       "\n",
       "  if (root._bokeh_is_loading === 0) {\n",
       "    console.log(\"Bokeh: BokehJS loaded, going straight to plotting\");\n",
       "    run_inline_js();\n",
       "  } else {\n",
       "    load_libs(js_urls, function() {\n",
       "      console.log(\"Bokeh: BokehJS plotting callback run at\", now());\n",
       "      run_inline_js();\n",
       "    });\n",
       "  }\n",
       "}(window));"
      ]
     },
     "metadata": {},
     "output_type": "display_data"
    }
   ],
   "source": [
    "from bokeh.models import ColumnDataSource, LabelSet\n",
    "from bokeh.plotting import figure, show, output_file\n",
    "from bokeh.io import output_notebook\n",
    "output_notebook()"
   ]
  },
  {
   "cell_type": "markdown",
   "metadata": {},
   "source": [
    "### Part 0: Download the TED dataset"
   ]
  },
  {
   "cell_type": "code",
   "execution_count": 3,
   "metadata": {
    "collapsed": true
   },
   "outputs": [],
   "source": [
    "import urllib.request\n",
    "import zipfile\n",
    "import lxml.etree"
   ]
  },
  {
   "cell_type": "code",
   "execution_count": 4,
   "metadata": {
    "collapsed": true
   },
   "outputs": [],
   "source": [
    "# Download the dataset if it's not already there: this may take a minute as it is 75MB\n",
    "if not os.path.isfile('ted_en-20160408.zip'):\n",
    "    urllib.request.urlretrieve(\"https://wit3.fbk.eu/get.php?path=XML_releases/xml/ted_en-20160408.zip&filename=ted_en-20160408.zip\", filename=\"ted_en-20160408.zip\")"
   ]
  },
  {
   "cell_type": "code",
   "execution_count": 5,
   "metadata": {
    "collapsed": true
   },
   "outputs": [],
   "source": [
    "# For now, we're only interested in the subtitle text, so let's extract that from the XML:\n",
    "with zipfile.ZipFile('ted_en-20160408.zip', 'r') as z:\n",
    "    doc = lxml.etree.parse(z.open('ted_en-20160408.xml', 'r'))\n",
    "input_text = '\\n'.join(doc.xpath('//content/text()'))\n",
    "del doc"
   ]
  },
  {
   "cell_type": "markdown",
   "metadata": {},
   "source": [
    "### Part 1: Preprocessing\n",
    "\n",
    "In this part, we attempt to clean up the raw subtitles a bit, so that we get only sentences. The following substring shows examples of what we're trying to get rid of. Since it's hard to define precisely what we want to get rid of, we'll just use some simple heuristics."
   ]
  },
  {
   "cell_type": "code",
   "execution_count": 6,
   "metadata": {
    "scrolled": false
   },
   "outputs": [
    {
     "data": {
      "text/plain": [
       "' baby does.\\n(Video) Hyowon Gweon: See this? (Ball squeaks) Did you see that? (Ball squeaks) Cool. See this one? (Ball squeaks) Wow.\\nLaura Schulz: Told you. (Laughs)\\n(Vide'"
      ]
     },
     "execution_count": 6,
     "metadata": {},
     "output_type": "execute_result"
    }
   ],
   "source": [
    "i = input_text.find(\"Hyowon Gweon: See this?\")\n",
    "input_text[i-20:i+150]"
   ]
  },
  {
   "cell_type": "markdown",
   "metadata": {},
   "source": [
    "Let's start by removing all parenthesized strings using a regex:"
   ]
  },
  {
   "cell_type": "code",
   "execution_count": 7,
   "metadata": {
    "collapsed": true
   },
   "outputs": [],
   "source": [
    "input_text_noparens = re.sub(r'\\([^)]*\\)', '', input_text)"
   ]
  },
  {
   "cell_type": "markdown",
   "metadata": {},
   "source": [
    "We can verify the same location in the text is now clean as follows. We won't worry about the irregular spaces since we'll later split the text into sentences and tokenize it anyway."
   ]
  },
  {
   "cell_type": "code",
   "execution_count": 8,
   "metadata": {},
   "outputs": [
    {
     "data": {
      "text/plain": [
       "\"hat the baby does.\\n Hyowon Gweon: See this?  Did you see that?  Cool. See this one?  Wow.\\nLaura Schulz: Told you. \\n HG: See this one?  Hey Clara, this one's for you. You \""
      ]
     },
     "execution_count": 8,
     "metadata": {},
     "output_type": "execute_result"
    }
   ],
   "source": [
    "i = input_text_noparens.find(\"Hyowon Gweon: See this?\")\n",
    "input_text_noparens[i-20:i+150]"
   ]
  },
  {
   "cell_type": "markdown",
   "metadata": {},
   "source": [
    "Now, let's attempt to remove speakers' names that occur at the beginning of a line, by deleting pieces of the form \"`<up to 20 characters>:`\", as shown in this example. Of course, this is an imperfect heuristic. "
   ]
  },
  {
   "cell_type": "code",
   "execution_count": 9,
   "metadata": {},
   "outputs": [
    {
     "data": {
      "text/plain": [
       "[\"Here are two reasons companies fail: they only do more of the same, or they only do what's new\",\n",
       " 'To me the real, real solution to quality growth is figuring out the balance between two activities: exploration and exploitation',\n",
       " ' Both are necessary, but it can be too much of a good thing',\n",
       " 'Consider Facit',\n",
       " \" I'm actually old enough to remember them\"]"
      ]
     },
     "execution_count": 9,
     "metadata": {},
     "output_type": "execute_result"
    }
   ],
   "source": [
    "sentences_strings_ted = []\n",
    "for line in input_text_noparens.split('\\n'):\n",
    "    m = re.match(r'^(?:(?P<precolon>[^:]{,20}):)?(?P<postcolon>.*)$', line)\n",
    "    sentences_strings_ted.extend(sent for sent in m.groupdict()['postcolon'].split('.') if sent)\n",
    "\n",
    "# Uncomment if you need to save some RAM: these strings are about 50MB.\n",
    "# del input_text, input_text_noparens\n",
    "\n",
    "# Let's view the first few:\n",
    "sentences_strings_ted[:5]"
   ]
  },
  {
   "cell_type": "markdown",
   "metadata": {},
   "source": [
    "Now that we have sentences, we're ready to tokenize each of them into words. This tokenization is imperfect, of course. For instance, how many tokens is \"can't\", and where/how do we split it? We'll take the simplest naive approach of splitting on spaces. Before splitting, we remove non-alphanumeric characters, such as punctuation. You may want to consider the following question: why do we replace these characters with spaces rather than deleting them? Think of a case where this yields a different answer."
   ]
  },
  {
   "cell_type": "code",
   "execution_count": 10,
   "metadata": {
    "collapsed": true
   },
   "outputs": [],
   "source": [
    "sentences_ted = []\n",
    "for sent_str in sentences_strings_ted:\n",
    "    tokens = re.sub(r\"[^a-z0-9]+\", \" \", sent_str.lower()).split()\n",
    "    sentences_ted.append(tokens)"
   ]
  },
  {
   "cell_type": "markdown",
   "metadata": {},
   "source": [
    "Two sample processed sentences:"
   ]
  },
  {
   "cell_type": "code",
   "execution_count": 11,
   "metadata": {},
   "outputs": [
    {
     "data": {
      "text/plain": [
       "266694"
      ]
     },
     "execution_count": 11,
     "metadata": {},
     "output_type": "execute_result"
    }
   ],
   "source": [
    "len(sentences_ted)"
   ]
  },
  {
   "cell_type": "code",
   "execution_count": 12,
   "metadata": {},
   "outputs": [
    {
     "name": "stdout",
     "output_type": "stream",
     "text": [
      "['here', 'are', 'two', 'reasons', 'companies', 'fail', 'they', 'only', 'do', 'more', 'of', 'the', 'same', 'or', 'they', 'only', 'do', 'what', 's', 'new']\n",
      "['to', 'me', 'the', 'real', 'real', 'solution', 'to', 'quality', 'growth', 'is', 'figuring', 'out', 'the', 'balance', 'between', 'two', 'activities', 'exploration', 'and', 'exploitation']\n"
     ]
    }
   ],
   "source": [
    "print(sentences_ted[0])\n",
    "print(sentences_ted[1])"
   ]
  },
  {
   "cell_type": "markdown",
   "metadata": {},
   "source": [
    "### Part 2: Word Frequencies"
   ]
  },
  {
   "cell_type": "markdown",
   "metadata": {},
   "source": [
    "If you store the counts of the top 1000 words in a list called `counts_ted_top1000`, the code below will plot the histogram requested in the writeup."
   ]
  },
  {
   "cell_type": "code",
   "execution_count": 13,
   "metadata": {},
   "outputs": [
    {
     "name": "stdout",
     "output_type": "stream",
     "text": [
      "['the', 'and', 'to', 'of', 'a', 'that', 'i', 'in', 'it', 'you', 'we', 'is', 's', 'this', 'so', 'they', 'was', 'for', 'are', 'have', 'but', 'what', 'on', 'with', 'can', 't', 'about', 'there', 'be', 'as', 'at', 'all', 'not', 'do', 'my', 'one', 're', 'people', 'like', 'if', 'from', 'now', 'our', 'he', 'an', 'just', 'these', 'or', 'when', 'because', 'very', 'me', 'out', 'by', 'them', 'how', 'know', 'up', 'going', 'had', 'more', 'think', 'who', 'were', 'see', 'your', 'their', 'which', 'would', 'here', 'really', 'get', 've', 'then', 'm', 'world', 'us', 'time', 'some', 'has', 'don', 'actually', 'into', 'way', 'where', 'will', 'years', 'things', 'other', 'no', 'could', 'go', 'well', 'want', 'been', 'make', 'right', 'she', 'said', 'something']\n"
     ]
    }
   ],
   "source": [
    "counts = {}\n",
    "for sentence in sentences_ted:\n",
    "    for word in sentence:\n",
    "        if word in counts:\n",
    "            counts[word] += 1\n",
    "        else:\n",
    "            counts[word] = 1   \n",
    "\n",
    "words_top_ted = sorted(counts, reverse=True, key=counts.__getitem__)\n",
    "counts_ted_top1000 = [counts[word] for word in words_top_ted[:1000]]\n",
    "\n",
    "print(words_top_ted[:100])"
   ]
  },
  {
   "cell_type": "markdown",
   "metadata": {},
   "source": [
    "Plot distribution of top-1000 words"
   ]
  },
  {
   "cell_type": "code",
   "execution_count": 14,
   "metadata": {},
   "outputs": [
    {
     "data": {
      "text/html": [
       "\n",
       "\n",
       "    <div class=\"bk-root\">\n",
       "        <div class=\"bk-plotdiv\" id=\"d8d53546-0ed1-4fd5-9565-0d92e4cf17fc\"></div>\n",
       "    </div>\n",
       "<script type=\"text/javascript\">\n",
       "  \n",
       "  (function(root) {\n",
       "    function now() {\n",
       "      return new Date();\n",
       "    }\n",
       "  \n",
       "    var force = false;\n",
       "  \n",
       "    if (typeof (root._bokeh_onload_callbacks) === \"undefined\" || force === true) {\n",
       "      root._bokeh_onload_callbacks = [];\n",
       "      root._bokeh_is_loading = undefined;\n",
       "    }\n",
       "  \n",
       "  \n",
       "    \n",
       "    if (typeof (root._bokeh_timeout) === \"undefined\" || force === true) {\n",
       "      root._bokeh_timeout = Date.now() + 0;\n",
       "      root._bokeh_failed_load = false;\n",
       "    }\n",
       "  \n",
       "    var NB_LOAD_WARNING = {'data': {'text/html':\n",
       "       \"<div style='background-color: #fdd'>\\n\"+\n",
       "       \"<p>\\n\"+\n",
       "       \"BokehJS does not appear to have successfully loaded. If loading BokehJS from CDN, this \\n\"+\n",
       "       \"may be due to a slow or bad network connection. Possible fixes:\\n\"+\n",
       "       \"</p>\\n\"+\n",
       "       \"<ul>\\n\"+\n",
       "       \"<li>re-rerun `output_notebook()` to attempt to load from CDN again, or</li>\\n\"+\n",
       "       \"<li>use INLINE resources instead, as so:</li>\\n\"+\n",
       "       \"</ul>\\n\"+\n",
       "       \"<code>\\n\"+\n",
       "       \"from bokeh.resources import INLINE\\n\"+\n",
       "       \"output_notebook(resources=INLINE)\\n\"+\n",
       "       \"</code>\\n\"+\n",
       "       \"</div>\"}};\n",
       "  \n",
       "    function display_loaded() {\n",
       "      if (root.Bokeh !== undefined) {\n",
       "        var el = document.getElementById(\"d8d53546-0ed1-4fd5-9565-0d92e4cf17fc\");\n",
       "        if (el != null) {\n",
       "          el.textContent = \"BokehJS \" + Bokeh.version + \" successfully loaded.\";\n",
       "        }\n",
       "      } else if (Date.now() < root._bokeh_timeout) {\n",
       "        setTimeout(display_loaded, 100)\n",
       "      }\n",
       "    }\n",
       "  \n",
       "  \n",
       "    function run_callbacks() {\n",
       "      try {\n",
       "        root._bokeh_onload_callbacks.forEach(function(callback) { callback() });\n",
       "      }\n",
       "      finally {\n",
       "        delete root._bokeh_onload_callbacks\n",
       "      }\n",
       "      console.info(\"Bokeh: all callbacks have finished\");\n",
       "    }\n",
       "  \n",
       "    function load_libs(js_urls, callback) {\n",
       "      root._bokeh_onload_callbacks.push(callback);\n",
       "      if (root._bokeh_is_loading > 0) {\n",
       "        console.log(\"Bokeh: BokehJS is being loaded, scheduling callback at\", now());\n",
       "        return null;\n",
       "      }\n",
       "      if (js_urls == null || js_urls.length === 0) {\n",
       "        run_callbacks();\n",
       "        return null;\n",
       "      }\n",
       "      console.log(\"Bokeh: BokehJS not loaded, scheduling load and callback at\", now());\n",
       "      root._bokeh_is_loading = js_urls.length;\n",
       "      for (var i = 0; i < js_urls.length; i++) {\n",
       "        var url = js_urls[i];\n",
       "        var s = document.createElement('script');\n",
       "        s.src = url;\n",
       "        s.async = false;\n",
       "        s.onreadystatechange = s.onload = function() {\n",
       "          root._bokeh_is_loading--;\n",
       "          if (root._bokeh_is_loading === 0) {\n",
       "            console.log(\"Bokeh: all BokehJS libraries loaded\");\n",
       "            run_callbacks()\n",
       "          }\n",
       "        };\n",
       "        s.onerror = function() {\n",
       "          console.warn(\"failed to load library \" + url);\n",
       "        };\n",
       "        console.log(\"Bokeh: injecting script tag for BokehJS library: \", url);\n",
       "        document.getElementsByTagName(\"head\")[0].appendChild(s);\n",
       "      }\n",
       "    };var element = document.getElementById(\"d8d53546-0ed1-4fd5-9565-0d92e4cf17fc\");\n",
       "    if (element == null) {\n",
       "      console.log(\"Bokeh: ERROR: autoload.js configured with elementid 'd8d53546-0ed1-4fd5-9565-0d92e4cf17fc' but no matching script tag was found. \")\n",
       "      return false;\n",
       "    }\n",
       "  \n",
       "    var js_urls = [];\n",
       "  \n",
       "    var inline_js = [\n",
       "      function(Bokeh) {\n",
       "        (function() {\n",
       "          var fn = function() {\n",
       "            var docs_json = {\"b12829ea-896a-4a20-a4e0-4ece78327d08\":{\"roots\":{\"references\":[{\"attributes\":{},\"id\":\"a532c5ec-a5a2-42bb-9f1f-457576f9631b\",\"type\":\"ResetTool\"},{\"attributes\":{},\"id\":\"229b24ea-0a16-4900-ab4e-1562bd594e33\",\"type\":\"BasicTicker\"},{\"attributes\":{},\"id\":\"3c71aade-3ff7-447a-bd20-e6983f760f6f\",\"type\":\"SaveTool\"},{\"attributes\":{\"plot\":{\"id\":\"c8f481d9-0209-4399-90a2-acdd3a6d12d9\",\"subtype\":\"Figure\",\"type\":\"Plot\"},\"ticker\":{\"id\":\"5b26e983-08c9-4c81-8dbf-56ab26dc800a\",\"type\":\"BasicTicker\"}},\"id\":\"39ac0211-2855-48f3-b636-c879db7fd182\",\"type\":\"Grid\"},{\"attributes\":{\"data_source\":{\"id\":\"8bd172ab-364d-4109-bad5-d89b985ed7f5\",\"type\":\"ColumnDataSource\"},\"glyph\":{\"id\":\"2bfd9a33-8ebb-4967-896b-2dab04d0242f\",\"type\":\"Quad\"},\"hover_glyph\":null,\"muted_glyph\":null,\"nonselection_glyph\":{\"id\":\"d498e31d-3a9f-405a-98cf-4da1e090208b\",\"type\":\"Quad\"},\"selection_glyph\":null,\"view\":{\"id\":\"fe6cebe6-9f6d-4b25-9c81-39b07b370b07\",\"type\":\"CDSView\"}},\"id\":\"5c56eec6-904c-4d9e-828f-c7589bbafa85\",\"type\":\"GlyphRenderer\"},{\"attributes\":{\"callback\":null},\"id\":\"403500af-e3ef-41d5-afb8-b452fa9a69be\",\"type\":\"DataRange1d\"},{\"attributes\":{\"bottom\":{\"value\":0},\"fill_color\":{\"value\":\"#1f77b4\"},\"left\":{\"field\":\"left\"},\"line_color\":{\"value\":\"#555555\"},\"right\":{\"field\":\"right\"},\"top\":{\"field\":\"top\"}},\"id\":\"2bfd9a33-8ebb-4967-896b-2dab04d0242f\",\"type\":\"Quad\"},{\"attributes\":{\"callback\":null},\"id\":\"a0423dc5-14cf-4642-9419-d4a771a1351d\",\"type\":\"DataRange1d\"},{\"attributes\":{\"dimension\":1,\"plot\":{\"id\":\"c8f481d9-0209-4399-90a2-acdd3a6d12d9\",\"subtype\":\"Figure\",\"type\":\"Plot\"},\"ticker\":{\"id\":\"229b24ea-0a16-4900-ab4e-1562bd594e33\",\"type\":\"BasicTicker\"}},\"id\":\"352f3be1-b079-4454-bac2-406fff14dd9d\",\"type\":\"Grid\"},{\"attributes\":{},\"id\":\"7afc169e-ff6d-444d-82fc-dd4ceb9488ee\",\"type\":\"LinearScale\"},{\"attributes\":{},\"id\":\"3c4a9add-94d7-4611-b107-9aa475cac2ae\",\"type\":\"LinearScale\"},{\"attributes\":{\"plot\":null,\"text\":\"Top-1000 words distribution\"},\"id\":\"b2326c2d-d683-4e7a-8415-4de90f541262\",\"type\":\"Title\"},{\"attributes\":{\"formatter\":{\"id\":\"87efd3d5-6dc4-44e4-b1ad-611f3e38e553\",\"type\":\"BasicTickFormatter\"},\"plot\":{\"id\":\"c8f481d9-0209-4399-90a2-acdd3a6d12d9\",\"subtype\":\"Figure\",\"type\":\"Plot\"},\"ticker\":{\"id\":\"5b26e983-08c9-4c81-8dbf-56ab26dc800a\",\"type\":\"BasicTicker\"}},\"id\":\"db9229c2-271a-4234-bc7a-21ff5b4df4ef\",\"type\":\"LinearAxis\"},{\"attributes\":{},\"id\":\"87efd3d5-6dc4-44e4-b1ad-611f3e38e553\",\"type\":\"BasicTickFormatter\"},{\"attributes\":{\"bottom\":{\"value\":0},\"fill_alpha\":{\"value\":0.1},\"fill_color\":{\"value\":\"#1f77b4\"},\"left\":{\"field\":\"left\"},\"line_alpha\":{\"value\":0.1},\"line_color\":{\"value\":\"#1f77b4\"},\"right\":{\"field\":\"right\"},\"top\":{\"field\":\"top\"}},\"id\":\"d498e31d-3a9f-405a-98cf-4da1e090208b\",\"type\":\"Quad\"},{\"attributes\":{\"active_drag\":\"auto\",\"active_inspect\":\"auto\",\"active_scroll\":\"auto\",\"active_tap\":\"auto\",\"tools\":[{\"id\":\"87b000b1-ca93-4e7f-bdab-ac068d6e29c1\",\"type\":\"PanTool\"},{\"id\":\"b89def15-4e68-46ca-8ca4-70c93cc69231\",\"type\":\"WheelZoomTool\"},{\"id\":\"a532c5ec-a5a2-42bb-9f1f-457576f9631b\",\"type\":\"ResetTool\"},{\"id\":\"3c71aade-3ff7-447a-bd20-e6983f760f6f\",\"type\":\"SaveTool\"}]},\"id\":\"a238fc50-119e-4edd-b9c0-f6b6ed5de35d\",\"type\":\"Toolbar\"},{\"attributes\":{\"source\":{\"id\":\"8bd172ab-364d-4109-bad5-d89b985ed7f5\",\"type\":\"ColumnDataSource\"}},\"id\":\"fe6cebe6-9f6d-4b25-9c81-39b07b370b07\",\"type\":\"CDSView\"},{\"attributes\":{\"formatter\":{\"id\":\"dbd1fb2d-ef32-4654-b3a6-5f77ed21092d\",\"type\":\"BasicTickFormatter\"},\"plot\":{\"id\":\"c8f481d9-0209-4399-90a2-acdd3a6d12d9\",\"subtype\":\"Figure\",\"type\":\"Plot\"},\"ticker\":{\"id\":\"229b24ea-0a16-4900-ab4e-1562bd594e33\",\"type\":\"BasicTicker\"}},\"id\":\"2cee18aa-2bd3-4b34-9411-c47ba047912b\",\"type\":\"LinearAxis\"},{\"attributes\":{},\"id\":\"dbd1fb2d-ef32-4654-b3a6-5f77ed21092d\",\"type\":\"BasicTickFormatter\"},{\"attributes\":{},\"id\":\"b89def15-4e68-46ca-8ca4-70c93cc69231\",\"type\":\"WheelZoomTool\"},{\"attributes\":{},\"id\":\"5b26e983-08c9-4c81-8dbf-56ab26dc800a\",\"type\":\"BasicTicker\"},{\"attributes\":{\"below\":[{\"id\":\"db9229c2-271a-4234-bc7a-21ff5b4df4ef\",\"type\":\"LinearAxis\"}],\"left\":[{\"id\":\"2cee18aa-2bd3-4b34-9411-c47ba047912b\",\"type\":\"LinearAxis\"}],\"renderers\":[{\"id\":\"db9229c2-271a-4234-bc7a-21ff5b4df4ef\",\"type\":\"LinearAxis\"},{\"id\":\"39ac0211-2855-48f3-b636-c879db7fd182\",\"type\":\"Grid\"},{\"id\":\"2cee18aa-2bd3-4b34-9411-c47ba047912b\",\"type\":\"LinearAxis\"},{\"id\":\"352f3be1-b079-4454-bac2-406fff14dd9d\",\"type\":\"Grid\"},{\"id\":\"5c56eec6-904c-4d9e-828f-c7589bbafa85\",\"type\":\"GlyphRenderer\"}],\"title\":{\"id\":\"b2326c2d-d683-4e7a-8415-4de90f541262\",\"type\":\"Title\"},\"toolbar\":{\"id\":\"a238fc50-119e-4edd-b9c0-f6b6ed5de35d\",\"type\":\"Toolbar\"},\"toolbar_location\":\"above\",\"x_range\":{\"id\":\"403500af-e3ef-41d5-afb8-b452fa9a69be\",\"type\":\"DataRange1d\"},\"x_scale\":{\"id\":\"7afc169e-ff6d-444d-82fc-dd4ceb9488ee\",\"type\":\"LinearScale\"},\"y_range\":{\"id\":\"a0423dc5-14cf-4642-9419-d4a771a1351d\",\"type\":\"DataRange1d\"},\"y_scale\":{\"id\":\"3c4a9add-94d7-4611-b107-9aa475cac2ae\",\"type\":\"LinearScale\"}},\"id\":\"c8f481d9-0209-4399-90a2-acdd3a6d12d9\",\"subtype\":\"Figure\",\"type\":\"Plot\"},{\"attributes\":{},\"id\":\"87b000b1-ca93-4e7f-bdab-ac068d6e29c1\",\"type\":\"PanTool\"},{\"attributes\":{\"callback\":null,\"column_names\":[\"left\",\"right\",\"top\"],\"data\":{\"left\":{\"__ndarray__\":\"AAAAAABAeUB7FK5H4VqjQHsUrkfhxrFAuB6F61HguUB7FK5H4fzAQJqZmZmZCcVAuB6F61EWyUDXo3A9CiPNQHsUrkfhl9BACtejcD2e0kCamZmZmaTUQClcj8L1qtZAuB6F61Gx2EBI4XoUrrfaQNejcD0KvtxAZ2ZmZmbE3kB7FK5HYWXgQMP1KFyPaOFACtejcL1r4kBSuB6F627jQJqZmZkZcuRA4XoUrkd15UApXI/CdXjmQHE9Cteje+dAuB6F69F+6EAAAAAAAILpQEjhehQuhepAkML1KFyI60DXo3A9iovsQB+F61G4ju1AZ2ZmZuaR7kCuR+F6FJXvQHsUrkchTPBAH4XrUbjN8EDD9ShcT0/xQGdmZmbm0PFACtejcH1S8kCuR+F6FNTyQFK4HoWrVfNA9ihcj0LX80CamZmZ2Vj0QD4K16Nw2vRA4XoUrgdc9UCF61G4nt31QClcj8I1X/ZAzczMzMzg9kBxPQrXY2L3QBWuR+H64/dAuB6F65Fl+EBcj8L1KOf4QAAAAADAaPlApHA9Clfq+UBI4XoU7mv6QOxRuB6F7fpAkML1KBxv+0AzMzMzs/D7QNejcD1KcvxAexSuR+Hz/EAfhetReHX9QMP1KFwP9/1AZ2ZmZqZ4/kAK16NwPfr+QK5H4XrUe/9AUrgehWv9/0B7FK5HgT8AQc3MzMxMgABBH4XrURjBAEFxPQrX4wEBQcP1KFyvQgFBFa5H4XqDAUFnZmZmRsQBQbgehesRBQJBCtejcN1FAkFcj8L1qIYCQa5H4Xp0xwJBAAAAAEAIA0FSuB6FC0kDQaRwPQrXiQNB9ihcj6LKA0FI4XoUbgsEQZqZmZk5TARB7FG4HgWNBEE+Ctej0M0EQZDC9SicDgVB4XoUrmdPBUEzMzMzM5AFQYXrUbj+0AVB16NwPcoRBkEpXI/ClVIGQXsUrkdhkwZBzczMzCzUBkEfhetR+BQHQXE9CtfDVQdBw/UoXI+WB0EVrkfhWtcHQWdmZmYmGAhBuB6F6/FYCEEK16NwvZkIQVyPwvWI2ghBrkfhelQbCUE=\",\"dtype\":\"float64\",\"shape\":[100]},\"right\":{\"__ndarray__\":\"exSuR+Fao0B7FK5H4caxQLgehetR4LlAexSuR+H8wECamZmZmQnFQLgehetRFslA16NwPQojzUB7FK5H4ZfQQArXo3A9ntJAmpmZmZmk1EApXI/C9arWQLgehetRsdhASOF6FK632kDXo3A9Cr7cQGdmZmZmxN5AexSuR2Fl4EDD9Shcj2jhQArXo3C9a+JAUrgehetu40CamZmZGXLkQOF6FK5HdeVAKVyPwnV45kBxPQrXo3vnQLgehevRfuhAAAAAAACC6UBI4XoULoXqQJDC9ShciOtA16NwPYqL7EAfhetRuI7tQGdmZmbmke5ArkfhehSV70B7FK5HIUzwQB+F61G4zfBAw/UoXE9P8UBnZmZm5tDxQArXo3B9UvJArkfhehTU8kBSuB6Fq1XzQPYoXI9C1/NAmpmZmdlY9EA+CtejcNr0QOF6FK4HXPVAhetRuJ7d9UApXI/CNV/2QM3MzMzM4PZAcT0K12Ni90AVrkfh+uP3QLgeheuRZfhAXI/C9Sjn+EAAAAAAwGj5QKRwPQpX6vlASOF6FO5r+kDsUbgehe36QJDC9Sgcb/tAMzMzM7Pw+0DXo3A9SnL8QHsUrkfh8/xAH4XrUXh1/UDD9ShcD/f9QGdmZmameP5ACtejcD36/kCuR+F61Hv/QFK4HoVr/f9AexSuR4E/AEHNzMzMTIAAQR+F61EYwQBBcT0K1+MBAUHD9Shcr0IBQRWuR+F6gwFBZ2ZmZkbEAUG4HoXrEQUCQQrXo3DdRQJBXI/C9aiGAkGuR+F6dMcCQQAAAABACANBUrgehQtJA0GkcD0K14kDQfYoXI+iygNBSOF6FG4LBEGamZmZOUwEQexRuB4FjQRBPgrXo9DNBEGQwvUonA4FQeF6FK5nTwVBMzMzMzOQBUGF61G4/tAFQdejcD3KEQZBKVyPwpVSBkF7FK5HYZMGQc3MzMws1AZBH4XrUfgUB0FxPQrXw1UHQcP1KFyPlgdBFa5H4VrXB0FnZmZmJhgIQbgehevxWAhBCtejcL2ZCEFcj8L1iNoIQa5H4XpUGwlBAAAAACBcCUE=\",\"dtype\":\"float64\",\"shape\":[100]},\"top\":{\"__ndarray__\":\"50H1zNSBOT/ypb1tgHIBPwsriUb5Uew+zuTFiLI04j78kGUPxTHhPh40R25oQNY+zuTFiLI00j4pPQWW1y7APsTbB2FDRsg+JT0FltcuwD4tPQWW1y6wPi09BZbXLrA+JT0FltcuwD4tPQWW1y6gPiU9BZbXLrA+LT0FltcuoD4AAAAAAAAAADU9BZbXLqA+AAAAAAAAAAAAAAAAAAAAAAAAAAAAAAAAAAAAAAAAAAAAAAAAAAAAADU9BZbXLqA+AAAAAAAAAAAAAAAAAAAAAAAAAAAAAAAANT0FltcuoD4AAAAAAAAAAAAAAAAAAAAANT0FltcuoD4AAAAAAAAAACU9BZbXLqA+AAAAAAAAAAAlPQWW1y6gPkU9BZbXLqA+AAAAAAAAAAAlPQWW1y6gPgAAAAAAAAAAJT0FltcuoD4AAAAAAAAAAAAAAAAAAAAAAAAAAAAAAAAAAAAAAAAAAAAAAAAAAAAAJT0FltcuoD4AAAAAAAAAAAAAAAAAAAAAAAAAAAAAAAAAAAAAAAAAACU9BZbXLqA+AAAAAAAAAAAAAAAAAAAAAAAAAAAAAAAAAAAAAAAAAAAlPQWW1y6gPgAAAAAAAAAAAAAAAAAAAAAAAAAAAAAAAAAAAAAAAAAART0FltcuoD4AAAAAAAAAAAAAAAAAAAAAAAAAAAAAAAAAAAAAAAAAAAAAAAAAAAAAAAAAAAAAAAAAAAAAAAAAAAAAAAAAAAAAAAAAAAAAAAAAAAAAAAAAACU9BZbXLqA+AAAAAAAAAAAAAAAAAAAAAAAAAAAAAAAAAAAAAAAAAAAAAAAAAAAAAAAAAAAAAAAAAAAAAAAAAAAAAAAAAAAAAAAAAAAAAAAAAAAAAAAAAAAAAAAAAAAAAAAAAAAAAAAAAAAAAAAAAAAAAAAAAAAAAAAAAAAAAAAAAAAAAAAAAAAAAAAAAAAAAAAAAAAAAAAAAAAAAAAAAAAAAAAAAAAAAAAAAAAAAAAAAAAAAAAAAAAAAAAAAAAAAAAAAAAAAAAAAAAAAAAAAAAAAAAAAAAAAAAAAAAAAAAAJT0FltcuoD4=\",\"dtype\":\"float64\",\"shape\":[100]}}},\"id\":\"8bd172ab-364d-4109-bad5-d89b985ed7f5\",\"type\":\"ColumnDataSource\"}],\"root_ids\":[\"c8f481d9-0209-4399-90a2-acdd3a6d12d9\"]},\"title\":\"Bokeh Application\",\"version\":\"0.12.7\"}};\n",
       "            var render_items = [{\"docid\":\"b12829ea-896a-4a20-a4e0-4ece78327d08\",\"elementid\":\"d8d53546-0ed1-4fd5-9565-0d92e4cf17fc\",\"modelid\":\"c8f481d9-0209-4399-90a2-acdd3a6d12d9\"}];\n",
       "            \n",
       "            Bokeh.embed.embed_items(docs_json, render_items);\n",
       "          };\n",
       "          if (document.readyState != \"loading\") fn();\n",
       "          else document.addEventListener(\"DOMContentLoaded\", fn);\n",
       "        })();\n",
       "      },\n",
       "      function(Bokeh) {\n",
       "      }\n",
       "    ];\n",
       "  \n",
       "    function run_inline_js() {\n",
       "      \n",
       "      if ((root.Bokeh !== undefined) || (force === true)) {\n",
       "        for (var i = 0; i < inline_js.length; i++) {\n",
       "          inline_js[i].call(root, root.Bokeh);\n",
       "        }if (force === true) {\n",
       "          display_loaded();\n",
       "        }} else if (Date.now() < root._bokeh_timeout) {\n",
       "        setTimeout(run_inline_js, 100);\n",
       "      } else if (!root._bokeh_failed_load) {\n",
       "        console.log(\"Bokeh: BokehJS failed to load within specified timeout.\");\n",
       "        root._bokeh_failed_load = true;\n",
       "      } else if (force !== true) {\n",
       "        var cell = $(document.getElementById(\"d8d53546-0ed1-4fd5-9565-0d92e4cf17fc\")).parents('.cell').data().cell;\n",
       "        cell.output_area.append_execute_result(NB_LOAD_WARNING)\n",
       "      }\n",
       "  \n",
       "    }\n",
       "  \n",
       "    if (root._bokeh_is_loading === 0) {\n",
       "      console.log(\"Bokeh: BokehJS loaded, going straight to plotting\");\n",
       "      run_inline_js();\n",
       "    } else {\n",
       "      load_libs(js_urls, function() {\n",
       "        console.log(\"Bokeh: BokehJS plotting callback run at\", now());\n",
       "        run_inline_js();\n",
       "      });\n",
       "    }\n",
       "  }(window));\n",
       "</script>"
      ]
     },
     "metadata": {},
     "output_type": "display_data"
    }
   ],
   "source": [
    "hist, edges = np.histogram(counts_ted_top1000, density=True, bins=100, normed=True)\n",
    "\n",
    "p = figure(tools=\"pan,wheel_zoom,reset,save\",\n",
    "           toolbar_location=\"above\",\n",
    "           title=\"Top-1000 words distribution\")\n",
    "p.quad(top=hist, bottom=0, left=edges[:-1], right=edges[1:], line_color=\"#555555\")\n",
    "show(p)"
   ]
  },
  {
   "cell_type": "markdown",
   "metadata": {},
   "source": [
    "### Part 3: Train Word2Vec"
   ]
  },
  {
   "cell_type": "code",
   "execution_count": 15,
   "metadata": {},
   "outputs": [
    {
     "name": "stderr",
     "output_type": "stream",
     "text": [
      "D:\\Programming\\Anaconda\\lib\\site-packages\\gensim\\utils.py:865: UserWarning: detected Windows; aliasing chunkize to chunkize_serial\n",
      "  warnings.warn(\"detected Windows; aliasing chunkize to chunkize_serial\")\n"
     ]
    }
   ],
   "source": [
    "from gensim.models import Word2Vec"
   ]
  },
  {
   "cell_type": "code",
   "execution_count": 16,
   "metadata": {},
   "outputs": [
    {
     "data": {
      "text/plain": [
       "63431997"
      ]
     },
     "execution_count": 16,
     "metadata": {},
     "output_type": "execute_result"
    }
   ],
   "source": [
    "model_ted = Word2Vec(sentences=sentences_ted, size=100, min_count=5)\n",
    "model_ted.train(sentences_ted, total_examples=model_ted.corpus_count, epochs=20)"
   ]
  },
  {
   "cell_type": "markdown",
   "metadata": {},
   "source": [
    "### Part 4: Ted Learnt Representations"
   ]
  },
  {
   "cell_type": "markdown",
   "metadata": {},
   "source": [
    "Finding similar words: (see gensim docs for more functionality of `most_similar`)"
   ]
  },
  {
   "cell_type": "code",
   "execution_count": 17,
   "metadata": {},
   "outputs": [
    {
     "data": {
      "text/plain": [
       "[('woman', 0.7895859479904175),\n",
       " ('guy', 0.7318049669265747),\n",
       " ('gentleman', 0.6735437512397766),\n",
       " ('soldier', 0.6572358012199402),\n",
       " ('lady', 0.6545881628990173),\n",
       " ('person', 0.6382701992988586),\n",
       " ('boy', 0.6305985450744629),\n",
       " ('girl', 0.6223523616790771),\n",
       " ('rabbi', 0.6167187690734863),\n",
       " ('pianist', 0.5954994559288025)]"
      ]
     },
     "execution_count": 17,
     "metadata": {},
     "output_type": "execute_result"
    }
   ],
   "source": [
    "model_ted.most_similar(\"man\")"
   ]
  },
  {
   "cell_type": "code",
   "execution_count": 18,
   "metadata": {},
   "outputs": [
    {
     "data": {
      "text/plain": [
       "[('software', 0.6238788962364197),\n",
       " ('simulation', 0.6197474002838135),\n",
       " ('algorithm', 0.6147148609161377),\n",
       " ('computers', 0.6057816743850708),\n",
       " ('machine', 0.6004705429077148),\n",
       " ('interface', 0.5906597375869751),\n",
       " ('browser', 0.5851816534996033),\n",
       " ('desktop', 0.584074854850769),\n",
       " ('mechanical', 0.5840590000152588),\n",
       " ('device', 0.5837869644165039)]"
      ]
     },
     "execution_count": 18,
     "metadata": {},
     "output_type": "execute_result"
    }
   ],
   "source": [
    "model_ted.most_similar(\"computer\")"
   ]
  },
  {
   "cell_type": "code",
   "execution_count": 19,
   "metadata": {},
   "outputs": [
    {
     "data": {
      "text/plain": [
       "[('ant', 0.692992091178894),\n",
       " ('orchid', 0.597510576248169),\n",
       " ('ngo', 0.5834742784500122),\n",
       " ('egg', 0.5606837272644043),\n",
       " ('administrator', 0.5579937696456909),\n",
       " ('entrepreneur', 0.5485562086105347),\n",
       " ('accountant', 0.5478784441947937),\n",
       " ('enzyme', 0.5436000823974609),\n",
       " ('electroencephalogram', 0.5423248410224915),\n",
       " ('addict', 0.5413431525230408)]"
      ]
     },
     "execution_count": 19,
     "metadata": {},
     "output_type": "execute_result"
    }
   ],
   "source": [
    "model_ted.most_similar(positive=['insect', 'worker'])"
   ]
  },
  {
   "cell_type": "markdown",
   "metadata": {},
   "source": [
    "#### t-SNE visualization\n",
    "To use the t-SNE code below, first put a list of the top 1000 words (as strings) into a variable `words_top_ted`. The following code gets the corresponding vectors from the model, assuming it's called `model_ted`:"
   ]
  },
  {
   "cell_type": "code",
   "execution_count": 20,
   "metadata": {
    "collapsed": true
   },
   "outputs": [],
   "source": [
    "# This assumes words_top_ted is a list of strings, the top 1000 words\n",
    "\n",
    "words_top_vec_ted = model_ted[words_top_ted[:1000]]"
   ]
  },
  {
   "cell_type": "code",
   "execution_count": 21,
   "metadata": {
    "collapsed": true
   },
   "outputs": [],
   "source": [
    "from sklearn.manifold import TSNE\n",
    "tsne = TSNE(n_components=2, random_state=0)\n",
    "words_top_ted_tsne = tsne.fit_transform(words_top_vec_ted)"
   ]
  },
  {
   "cell_type": "code",
   "execution_count": 22,
   "metadata": {},
   "outputs": [
    {
     "data": {
      "text/html": [
       "\n",
       "\n",
       "    <div class=\"bk-root\">\n",
       "        <div class=\"bk-plotdiv\" id=\"56f421d3-a347-4b4c-bed6-2b6ce3c05a45\"></div>\n",
       "    </div>\n",
       "<script type=\"text/javascript\">\n",
       "  \n",
       "  (function(root) {\n",
       "    function now() {\n",
       "      return new Date();\n",
       "    }\n",
       "  \n",
       "    var force = false;\n",
       "  \n",
       "    if (typeof (root._bokeh_onload_callbacks) === \"undefined\" || force === true) {\n",
       "      root._bokeh_onload_callbacks = [];\n",
       "      root._bokeh_is_loading = undefined;\n",
       "    }\n",
       "  \n",
       "  \n",
       "    \n",
       "    if (typeof (root._bokeh_timeout) === \"undefined\" || force === true) {\n",
       "      root._bokeh_timeout = Date.now() + 0;\n",
       "      root._bokeh_failed_load = false;\n",
       "    }\n",
       "  \n",
       "    var NB_LOAD_WARNING = {'data': {'text/html':\n",
       "       \"<div style='background-color: #fdd'>\\n\"+\n",
       "       \"<p>\\n\"+\n",
       "       \"BokehJS does not appear to have successfully loaded. If loading BokehJS from CDN, this \\n\"+\n",
       "       \"may be due to a slow or bad network connection. Possible fixes:\\n\"+\n",
       "       \"</p>\\n\"+\n",
       "       \"<ul>\\n\"+\n",
       "       \"<li>re-rerun `output_notebook()` to attempt to load from CDN again, or</li>\\n\"+\n",
       "       \"<li>use INLINE resources instead, as so:</li>\\n\"+\n",
       "       \"</ul>\\n\"+\n",
       "       \"<code>\\n\"+\n",
       "       \"from bokeh.resources import INLINE\\n\"+\n",
       "       \"output_notebook(resources=INLINE)\\n\"+\n",
       "       \"</code>\\n\"+\n",
       "       \"</div>\"}};\n",
       "  \n",
       "    function display_loaded() {\n",
       "      if (root.Bokeh !== undefined) {\n",
       "        var el = document.getElementById(\"56f421d3-a347-4b4c-bed6-2b6ce3c05a45\");\n",
       "        if (el != null) {\n",
       "          el.textContent = \"BokehJS \" + Bokeh.version + \" successfully loaded.\";\n",
       "        }\n",
       "      } else if (Date.now() < root._bokeh_timeout) {\n",
       "        setTimeout(display_loaded, 100)\n",
       "      }\n",
       "    }\n",
       "  \n",
       "  \n",
       "    function run_callbacks() {\n",
       "      try {\n",
       "        root._bokeh_onload_callbacks.forEach(function(callback) { callback() });\n",
       "      }\n",
       "      finally {\n",
       "        delete root._bokeh_onload_callbacks\n",
       "      }\n",
       "      console.info(\"Bokeh: all callbacks have finished\");\n",
       "    }\n",
       "  \n",
       "    function load_libs(js_urls, callback) {\n",
       "      root._bokeh_onload_callbacks.push(callback);\n",
       "      if (root._bokeh_is_loading > 0) {\n",
       "        console.log(\"Bokeh: BokehJS is being loaded, scheduling callback at\", now());\n",
       "        return null;\n",
       "      }\n",
       "      if (js_urls == null || js_urls.length === 0) {\n",
       "        run_callbacks();\n",
       "        return null;\n",
       "      }\n",
       "      console.log(\"Bokeh: BokehJS not loaded, scheduling load and callback at\", now());\n",
       "      root._bokeh_is_loading = js_urls.length;\n",
       "      for (var i = 0; i < js_urls.length; i++) {\n",
       "        var url = js_urls[i];\n",
       "        var s = document.createElement('script');\n",
       "        s.src = url;\n",
       "        s.async = false;\n",
       "        s.onreadystatechange = s.onload = function() {\n",
       "          root._bokeh_is_loading--;\n",
       "          if (root._bokeh_is_loading === 0) {\n",
       "            console.log(\"Bokeh: all BokehJS libraries loaded\");\n",
       "            run_callbacks()\n",
       "          }\n",
       "        };\n",
       "        s.onerror = function() {\n",
       "          console.warn(\"failed to load library \" + url);\n",
       "        };\n",
       "        console.log(\"Bokeh: injecting script tag for BokehJS library: \", url);\n",
       "        document.getElementsByTagName(\"head\")[0].appendChild(s);\n",
       "      }\n",
       "    };var element = document.getElementById(\"56f421d3-a347-4b4c-bed6-2b6ce3c05a45\");\n",
       "    if (element == null) {\n",
       "      console.log(\"Bokeh: ERROR: autoload.js configured with elementid '56f421d3-a347-4b4c-bed6-2b6ce3c05a45' but no matching script tag was found. \")\n",
       "      return false;\n",
       "    }\n",
       "  \n",
       "    var js_urls = [];\n",
       "  \n",
       "    var inline_js = [\n",
       "      function(Bokeh) {\n",
       "        (function() {\n",
       "          var fn = function() {\n",
       "            var docs_json = {\"b1df2c46-e70d-4e2e-8325-690a1d1bcbef\":{\"roots\":{\"references\":[{\"attributes\":{\"plot\":null,\"text\":\"word2vec T-SNE for most common words\"},\"id\":\"3d3c5969-e756-4cf8-b9c9-c055c748dc47\",\"type\":\"Title\"},{\"attributes\":{\"formatter\":{\"id\":\"44fb885e-7a22-4186-8387-0755ccb21753\",\"type\":\"BasicTickFormatter\"},\"plot\":{\"id\":\"be7e0ff9-762a-44aa-afed-3bcbd621fe8b\",\"subtype\":\"Figure\",\"type\":\"Plot\"},\"ticker\":{\"id\":\"1e672c5e-d275-41f5-8597-d5de48bb2501\",\"type\":\"BasicTicker\"}},\"id\":\"58b73e20-cde2-4d89-9472-f8b3220fdb18\",\"type\":\"LinearAxis\"},{\"attributes\":{},\"id\":\"3ee0f183-9d09-42ea-89ef-07094ee4b7e5\",\"type\":\"WheelZoomTool\"},{\"attributes\":{\"callback\":null},\"id\":\"8f0a2268-767b-41ff-809c-e70b1a709f47\",\"type\":\"DataRange1d\"},{\"attributes\":{},\"id\":\"4c4c04a4-6127-48ae-b4a8-44b980beb3ab\",\"type\":\"ResetTool\"},{\"attributes\":{\"active_drag\":\"auto\",\"active_inspect\":\"auto\",\"active_scroll\":\"auto\",\"active_tap\":\"auto\",\"tools\":[{\"id\":\"64b21401-d1e4-4121-becc-c8dd6a706421\",\"type\":\"PanTool\"},{\"id\":\"3ee0f183-9d09-42ea-89ef-07094ee4b7e5\",\"type\":\"WheelZoomTool\"},{\"id\":\"4c4c04a4-6127-48ae-b4a8-44b980beb3ab\",\"type\":\"ResetTool\"},{\"id\":\"227a3156-f39a-4ec0-9d69-1fc745d0bfe9\",\"type\":\"SaveTool\"}]},\"id\":\"c9dcd41b-7ecd-4779-93ca-e817b895f2bd\",\"type\":\"Toolbar\"},{\"attributes\":{},\"id\":\"227a3156-f39a-4ec0-9d69-1fc745d0bfe9\",\"type\":\"SaveTool\"},{\"attributes\":{},\"id\":\"1e672c5e-d275-41f5-8597-d5de48bb2501\",\"type\":\"BasicTicker\"},{\"attributes\":{},\"id\":\"7fabb822-f252-4bd9-a74d-93f07ea764ca\",\"type\":\"LinearScale\"},{\"attributes\":{},\"id\":\"44fb885e-7a22-4186-8387-0755ccb21753\",\"type\":\"BasicTickFormatter\"},{\"attributes\":{\"callback\":null},\"id\":\"7608721c-ade7-4807-9fad-49307372ba1e\",\"type\":\"DataRange1d\"},{\"attributes\":{},\"id\":\"534618a4-c216-49e7-b18e-ce99f1df8c0e\",\"type\":\"LinearScale\"},{\"attributes\":{\"plot\":{\"id\":\"be7e0ff9-762a-44aa-afed-3bcbd621fe8b\",\"subtype\":\"Figure\",\"type\":\"Plot\"},\"ticker\":{\"id\":\"a1bf2bf9-6f5c-42da-8c7e-1db8406d11fe\",\"type\":\"BasicTicker\"}},\"id\":\"cd912007-290c-4900-9501-875b63442c1a\",\"type\":\"Grid\"},{\"attributes\":{\"formatter\":{\"id\":\"9d8a93ce-4c80-4575-b7a2-30831d439a03\",\"type\":\"BasicTickFormatter\"},\"plot\":{\"id\":\"be7e0ff9-762a-44aa-afed-3bcbd621fe8b\",\"subtype\":\"Figure\",\"type\":\"Plot\"},\"ticker\":{\"id\":\"a1bf2bf9-6f5c-42da-8c7e-1db8406d11fe\",\"type\":\"BasicTicker\"}},\"id\":\"829f14e4-525d-4ae9-8c19-64f8e2824078\",\"type\":\"LinearAxis\"},{\"attributes\":{},\"id\":\"a1bf2bf9-6f5c-42da-8c7e-1db8406d11fe\",\"type\":\"BasicTicker\"},{\"attributes\":{\"dimension\":1,\"plot\":{\"id\":\"be7e0ff9-762a-44aa-afed-3bcbd621fe8b\",\"subtype\":\"Figure\",\"type\":\"Plot\"},\"ticker\":{\"id\":\"1e672c5e-d275-41f5-8597-d5de48bb2501\",\"type\":\"BasicTicker\"}},\"id\":\"1ee1d5bc-a494-41a7-895e-6d9de0892297\",\"type\":\"Grid\"},{\"attributes\":{\"source\":{\"id\":\"d55abe9c-e39f-4032-8498-0a07b9bc89e0\",\"type\":\"ColumnDataSource\"}},\"id\":\"9e8c2219-6203-4296-aaa1-4784d17ee70c\",\"type\":\"CDSView\"},{\"attributes\":{\"data_source\":{\"id\":\"d55abe9c-e39f-4032-8498-0a07b9bc89e0\",\"type\":\"ColumnDataSource\"},\"glyph\":{\"id\":\"01d1b948-bf39-4d4a-b499-a64a98e7b0e8\",\"type\":\"Circle\"},\"hover_glyph\":null,\"muted_glyph\":null,\"nonselection_glyph\":{\"id\":\"702093ff-e24e-4289-8c11-82da8b334550\",\"type\":\"Circle\"},\"selection_glyph\":null,\"view\":{\"id\":\"9e8c2219-6203-4296-aaa1-4784d17ee70c\",\"type\":\"CDSView\"}},\"id\":\"ab178484-68a8-44ae-8bd6-40ba03e7e532\",\"type\":\"GlyphRenderer\"},{\"attributes\":{\"plot\":{\"id\":\"be7e0ff9-762a-44aa-afed-3bcbd621fe8b\",\"subtype\":\"Figure\",\"type\":\"Plot\"},\"source\":{\"id\":\"d55abe9c-e39f-4032-8498-0a07b9bc89e0\",\"type\":\"ColumnDataSource\"},\"text\":{\"field\":\"names\"},\"text_align\":\"center\",\"text_color\":{\"value\":\"#555555\"},\"text_font_size\":{\"value\":\"8pt\"},\"x\":{\"field\":\"x1\"},\"y\":{\"field\":\"x2\"},\"y_offset\":{\"value\":6}},\"id\":\"7d583c34-416b-48f4-a1ec-d3034e378915\",\"type\":\"LabelSet\"},{\"attributes\":{\"below\":[{\"id\":\"829f14e4-525d-4ae9-8c19-64f8e2824078\",\"type\":\"LinearAxis\"}],\"left\":[{\"id\":\"58b73e20-cde2-4d89-9472-f8b3220fdb18\",\"type\":\"LinearAxis\"}],\"renderers\":[{\"id\":\"829f14e4-525d-4ae9-8c19-64f8e2824078\",\"type\":\"LinearAxis\"},{\"id\":\"cd912007-290c-4900-9501-875b63442c1a\",\"type\":\"Grid\"},{\"id\":\"58b73e20-cde2-4d89-9472-f8b3220fdb18\",\"type\":\"LinearAxis\"},{\"id\":\"1ee1d5bc-a494-41a7-895e-6d9de0892297\",\"type\":\"Grid\"},{\"id\":\"ab178484-68a8-44ae-8bd6-40ba03e7e532\",\"type\":\"GlyphRenderer\"},{\"id\":\"7d583c34-416b-48f4-a1ec-d3034e378915\",\"type\":\"LabelSet\"}],\"title\":{\"id\":\"3d3c5969-e756-4cf8-b9c9-c055c748dc47\",\"type\":\"Title\"},\"toolbar\":{\"id\":\"c9dcd41b-7ecd-4779-93ca-e817b895f2bd\",\"type\":\"Toolbar\"},\"toolbar_location\":\"above\",\"x_range\":{\"id\":\"8f0a2268-767b-41ff-809c-e70b1a709f47\",\"type\":\"DataRange1d\"},\"x_scale\":{\"id\":\"7fabb822-f252-4bd9-a74d-93f07ea764ca\",\"type\":\"LinearScale\"},\"y_range\":{\"id\":\"7608721c-ade7-4807-9fad-49307372ba1e\",\"type\":\"DataRange1d\"},\"y_scale\":{\"id\":\"534618a4-c216-49e7-b18e-ce99f1df8c0e\",\"type\":\"LinearScale\"}},\"id\":\"be7e0ff9-762a-44aa-afed-3bcbd621fe8b\",\"subtype\":\"Figure\",\"type\":\"Plot\"},{\"attributes\":{\"fill_alpha\":{\"value\":0.1},\"fill_color\":{\"value\":\"#1f77b4\"},\"line_alpha\":{\"value\":0.1},\"line_color\":{\"value\":\"#1f77b4\"},\"size\":{\"units\":\"screen\",\"value\":8},\"x\":{\"field\":\"x1\"},\"y\":{\"field\":\"x2\"}},\"id\":\"702093ff-e24e-4289-8c11-82da8b334550\",\"type\":\"Circle\"},{\"attributes\":{\"callback\":null,\"column_names\":[\"x1\",\"x2\",\"names\"],\"data\":{\"names\":[\"the\",\"and\",\"to\",\"of\",\"a\",\"that\",\"i\",\"in\",\"it\",\"you\",\"we\",\"is\",\"s\",\"this\",\"so\",\"they\",\"was\",\"for\",\"are\",\"have\",\"but\",\"what\",\"on\",\"with\",\"can\",\"t\",\"about\",\"there\",\"be\",\"as\",\"at\",\"all\",\"not\",\"do\",\"my\",\"one\",\"re\",\"people\",\"like\",\"if\",\"from\",\"now\",\"our\",\"he\",\"an\",\"just\",\"these\",\"or\",\"when\",\"because\",\"very\",\"me\",\"out\",\"by\",\"them\",\"how\",\"know\",\"up\",\"going\",\"had\",\"more\",\"think\",\"who\",\"were\",\"see\",\"your\",\"their\",\"which\",\"would\",\"here\",\"really\",\"get\",\"ve\",\"then\",\"m\",\"world\",\"us\",\"time\",\"some\",\"has\",\"don\",\"actually\",\"into\",\"way\",\"where\",\"will\",\"years\",\"things\",\"other\",\"no\",\"could\",\"go\",\"well\",\"want\",\"been\",\"make\",\"right\",\"she\",\"said\",\"something\",\"those\",\"first\",\"two\",\"than\",\"much\",\"also\",\"look\",\"new\",\"thing\",\"little\",\"got\",\"back\",\"over\",\"most\",\"say\",\"even\",\"his\",\"life\",\"only\",\"work\",\"many\",\"take\",\"need\",\"did\",\"lot\",\"kind\",\"why\",\"good\",\"around\",\"every\",\"different\",\"down\",\"ll\",\"let\",\"her\",\"through\",\"same\",\"being\",\"come\",\"d\",\"day\",\"year\",\"three\",\"use\",\"doing\",\"put\",\"called\",\"any\",\"today\",\"percent\",\"made\",\"after\",\"thank\",\"tell\",\"great\",\"human\",\"find\",\"didn\",\"fact\",\"talk\",\"change\",\"started\",\"another\",\"idea\",\"big\",\"last\",\"own\",\"before\",\"its\",\"never\",\"should\",\"better\",\"give\",\"thought\",\"went\",\"might\",\"important\",\"000\",\"again\",\"able\",\"together\",\"still\",\"problem\",\"off\",\"next\",\"part\",\"course\",\"system\",\"him\",\"does\",\"each\",\"start\",\"show\",\"long\",\"ago\",\"story\",\"came\",\"brain\",\"few\",\"bit\",\"between\",\"used\",\"place\",\"technology\",\"women\",\"too\",\"old\",\"mean\",\"data\",\"water\",\"looking\",\"question\",\"maybe\",\"found\",\"love\",\"doesn\",\"end\",\"example\",\"10\",\"done\",\"point\",\"four\",\"real\",\"wanted\",\"ever\",\"school\",\"understand\",\"sort\",\"live\",\"call\",\"whole\",\"children\",\"always\",\"trying\",\"may\",\"person\",\"away\",\"believe\",\"feel\",\"try\",\"million\",\"working\",\"help\",\"everything\",\"five\",\"country\",\"thinking\",\"second\",\"using\",\"information\",\"money\",\"means\",\"power\",\"took\",\"times\",\"high\",\"space\",\"number\",\"kids\",\"home\",\"become\",\"create\",\"small\",\"design\",\"making\",\"best\",\"left\",\"getting\",\"future\",\"enough\",\"man\",\"quite\",\"city\",\"without\",\"sense\",\"happened\",\"comes\",\"social\",\"probably\",\"less\",\"light\",\"talking\",\"energy\",\"am\",\"building\",\"science\",\"food\",\"body\",\"told\",\"interesting\",\"ask\",\"half\",\"pretty\",\"hard\",\"play\",\"anything\",\"lives\",\"countries\",\"coming\",\"such\",\"family\",\"stuff\",\"dollars\",\"earth\",\"moment\",\"20\",\"imagine\",\"across\",\"side\",\"while\",\"saw\",\"happen\",\"once\",\"okay\",\"build\",\"having\",\"men\",\"later\",\"experience\",\"makes\",\"asked\",\"living\",\"seen\",\"says\",\"room\",\"hand\",\"simple\",\"health\",\"ways\",\"else\",\"case\",\"yet\",\"almost\",\"young\",\"days\",\"nothing\",\"care\",\"bad\",\"happens\",\"goes\",\"move\",\"states\",\"reason\",\"computer\",\"open\",\"learn\",\"africa\",\"process\",\"inside\",\"someone\",\"six\",\"far\",\"mind\",\"project\",\"remember\",\"single\",\"picture\",\"both\",\"whether\",\"problems\",\"saying\",\"community\",\"basically\",\"already\",\"within\",\"looked\",\"myself\",\"billion\",\"often\",\"possible\",\"business\",\"planet\",\"global\",\"everybody\",\"top\",\"sure\",\"public\",\"set\",\"wrong\",\"car\",\"book\",\"keep\",\"yes\",\"answer\",\"oh\",\"hope\",\"sometimes\",\"true\",\"history\",\"war\",\"guy\",\"child\",\"instead\",\"months\",\"ideas\",\"looks\",\"matter\",\"government\",\"amazing\",\"united\",\"since\",\"bring\",\"age\",\"cells\",\"job\",\"heard\",\"until\",\"face\",\"wasn\",\"100\",\"read\",\"control\",\"isn\",\"research\",\"30\",\"words\",\"u\",\"group\",\"under\",\"self\",\"somebody\",\"built\",\"state\",\"woman\",\"turn\",\"friends\",\"beautiful\",\"line\",\"knew\",\"couple\",\"order\",\"form\",\"yeah\",\"internet\",\"middle\",\"music\",\"piece\",\"nature\",\"head\",\"though\",\"stop\",\"everyone\",\"50\",\"places\",\"video\",\"learned\",\"language\",\"run\",\"night\",\"decided\",\"study\",\"word\",\"cancer\",\"taking\",\"works\",\"became\",\"exactly\",\"species\",\"society\",\"completely\",\"education\",\"against\",\"stories\",\"large\",\"share\",\"level\",\"heart\",\"america\",\"model\",\"questions\",\"gets\",\"mother\",\"god\",\"company\",\"turns\",\"ourselves\",\"happening\",\"hear\",\"art\",\"themselves\",\"must\",\"itself\",\"rather\",\"kinds\",\"students\",\"name\",\"hours\",\"disease\",\"front\",\"house\",\"huge\",\"couldn\",\"created\",\"universe\",\"ok\",\"animals\",\"american\",\"environment\",\"worked\",\"minutes\",\"ones\",\"black\",\"perhaps\",\"1\",\"past\",\"third\",\"along\",\"others\",\"finally\",\"sound\",\"early\",\"game\",\"thousands\",\"century\",\"based\",\"least\",\"per\",\"ted\",\"lots\",\"figure\",\"free\",\"guys\",\"particular\",\"happy\",\"news\",\"learning\",\"entire\",\"won\",\"gave\",\"machine\",\"india\",\"during\",\"systems\",\"air\",\"difference\",\"outside\",\"natural\",\"taken\",\"seven\",\"given\",\"changed\",\"leave\",\"cell\",\"15\",\"close\",\"behind\",\"cities\",\"full\",\"scale\",\"difficult\",\"china\",\"takes\",\"companies\",\"yourself\",\"area\",\"reality\",\"seeing\",\"easy\",\"turned\",\"cost\",\"eyes\",\"team\",\"moving\",\"population\",\"culture\",\"york\",\"hands\",\"whatever\",\"began\",\"needs\",\"terms\",\"image\",\"simply\",\"needed\",\"beginning\",\"father\",\"local\",\"realized\",\"media\",\"death\",\"parents\",\"view\",\"walk\",\"white\",\"market\",\"parts\",\"ocean\",\"economic\",\"eight\",\"powerful\",\"known\",\"week\",\"size\",\"felt\",\"humans\",\"certain\",\"spend\",\"longer\",\"phone\",\"wonderful\",\"cannot\",\"grow\",\"common\",\"center\",\"tried\",\"fish\",\"land\",\"oil\",\"political\",\"interested\",\"deal\",\"red\",\"gone\",\"amount\",\"weeks\",\"spent\",\"opportunity\",\"paper\",\"lost\",\"national\",\"quickly\",\"blue\",\"step\",\"poor\",\"green\",\"buy\",\"growth\",\"wouldn\",\"either\",\"patients\",\"sitting\",\"ability\",\"changes\",\"write\",\"challenge\",\"south\",\"low\",\"growing\",\"friend\",\"field\",\"shows\",\"2\",\"born\",\"rest\",\"climate\",\"40\",\"test\",\"street\",\"surface\",\"incredible\",\"average\",\"physical\",\"morning\",\"scientists\",\"program\",\"pay\",\"value\",\"feeling\",\"hundreds\",\"girl\",\"met\",\"behavior\",\"economy\",\"dna\",\"complex\",\"access\",\"risk\",\"animal\",\"structure\",\"feet\",\"attention\",\"areas\",\"anyone\",\"deep\",\"watch\",\"short\",\"absolutely\",\"speak\",\"brought\",\"die\",\"bottom\",\"numbers\",\"audience\",\"stage\",\"realize\",\"law\",\"images\",\"wrote\",\"understanding\",\"knowledge\",\"literally\",\"books\",\"movement\",\"ground\",\"giving\",\"eat\",\"force\",\"seems\",\"alone\",\"telling\",\"starting\",\"hold\",\"nice\",\"forward\",\"sea\",\"developed\",\"individual\",\"kid\",\"millions\",\"support\",\"miles\",\"tools\",\"running\",\"online\",\"result\",\"act\",\"medical\",\"technologies\",\"north\",\"lab\",\"development\",\"blood\",\"fear\",\"nobody\",\"map\",\"personal\",\"issue\",\"voice\",\"material\",\"key\",\"12\",\"recently\",\"theory\",\"cut\",\"cars\",\"sun\",\"fast\",\"changing\",\"playing\",\"clear\",\"especially\",\"soon\",\"girls\",\"patient\",\"choice\",\"fly\",\"creating\",\"normal\",\"discovered\",\"europe\",\"talked\",\"relationship\",\"gives\",\"generation\",\"dark\",\"type\",\"showed\",\"chance\",\"seem\",\"industry\",\"asking\",\"rate\",\"fun\",\"issues\",\"color\",\"designed\",\"hour\",\"university\",\"innovation\",\"several\",\"class\",\"computers\",\"english\",\"tiny\",\"allow\",\"save\",\"focus\",\"digital\",\"solve\",\"developing\",\"network\",\"film\",\"special\",\"wall\",\"situation\",\"baby\",\"solution\",\"reasons\",\"box\",\"knows\",\"meet\",\"dead\",\"stand\",\"begin\",\"haven\",\"impact\",\"anybody\",\"term\",\"beyond\",\"pictures\",\"please\",\"ice\",\"produce\",\"shape\",\"non\",\"resources\",\"robot\",\"cool\",\"groups\",\"likely\",\"stay\",\"available\",\"truth\",\"rights\",\"major\",\"cause\",\"evidence\",\"obviously\",\"writing\",\"experiment\",\"modern\",\"drug\",\"becomes\",\"incredibly\",\"aren\",\"bigger\",\"guess\",\"nine\",\"product\",\"drugs\",\"lived\",\"involved\",\"perfect\",\"google\",\"month\",\"effect\",\"similar\",\"putting\",\"eye\",\"pick\",\"message\",\"quality\",\"violence\",\"web\",\"evolution\",\"security\",\"office\",\"basic\",\"solar\",\"indeed\",\"general\",\"towards\",\"present\",\"drive\",\"send\",\"listen\",\"worth\",\"revolution\",\"explain\",\"hundred\",\"certainly\",\"died\",\"ready\",\"teach\",\"journey\",\"25\",\"hit\",\"walking\",\"led\",\"approach\",\"international\",\"200\",\"scientific\",\"games\",\"60\",\"potential\",\"crazy\",\"communities\",\"chinese\",\"device\",\"source\",\"camera\",\"rules\",\"sex\",\"carbon\",\"sounds\",\"boy\",\"reach\",\"starts\",\"examples\",\"west\",\"3\",\"success\",\"measure\",\"particularly\",\"software\",\"totally\",\"suddenly\",\"action\",\"college\",\"higher\",\"code\",\"eventually\",\"democracy\",\"among\",\"minute\",\"sit\",\"largest\",\"showing\",\"hospital\",\"notice\",\"period\",\"mass\",\"develop\",\"dream\",\"onto\",\"plants\",\"break\",\"add\",\"memory\",\"everywhere\",\"favorite\",\"11\",\"zero\",\"speed\",\"schools\",\"moved\",\"response\",\"wants\",\"extremely\",\"movie\",\"individuals\",\"table\",\"wait\",\"medicine\",\"follow\",\"anyway\",\"trust\",\"plant\",\"biggest\",\"watching\",\"organization\",\"creative\",\"road\",\"choose\",\"worse\",\"lead\",\"results\",\"500\",\"exciting\",\"grew\",\"materials\",\"jobs\",\"plan\",\"east\",\"poverty\",\"positive\",\"safe\",\"strong\",\"fall\",\"essentially\",\"object\",\"door\",\"son\",\"vision\",\"further\",\"happiness\",\"continue\",\"student\",\"doctor\",\"including\",\"named\",\"role\",\"objects\",\"extraordinary\",\"standing\",\"skin\",\"leaders\",\"usually\",\"african\",\"conversation\",\"projects\",\"allowed\",\"models\",\"supposed\",\"faster\",\"interest\",\"families\",\"police\",\"fight\",\"tree\",\"connected\",\"screen\",\"5\",\"cases\",\"goal\",\"somewhere\",\"finding\",\"buildings\",\"shown\"],\"x1\":{\"__ndarray__\":\"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\",\"dtype\":\"float32\",\"shape\":[1000]},\"x2\":{\"__ndarray__\":\"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\",\"dtype\":\"float32\",\"shape\":[1000]}}},\"id\":\"d55abe9c-e39f-4032-8498-0a07b9bc89e0\",\"type\":\"ColumnDataSource\"},{\"attributes\":{},\"id\":\"64b21401-d1e4-4121-becc-c8dd6a706421\",\"type\":\"PanTool\"},{\"attributes\":{\"fill_color\":{\"value\":\"#1f77b4\"},\"line_color\":{\"value\":\"#1f77b4\"},\"size\":{\"units\":\"screen\",\"value\":8},\"x\":{\"field\":\"x1\"},\"y\":{\"field\":\"x2\"}},\"id\":\"01d1b948-bf39-4d4a-b499-a64a98e7b0e8\",\"type\":\"Circle\"},{\"attributes\":{},\"id\":\"9d8a93ce-4c80-4575-b7a2-30831d439a03\",\"type\":\"BasicTickFormatter\"}],\"root_ids\":[\"be7e0ff9-762a-44aa-afed-3bcbd621fe8b\"]},\"title\":\"Bokeh Application\",\"version\":\"0.12.7\"}};\n",
       "            var render_items = [{\"docid\":\"b1df2c46-e70d-4e2e-8325-690a1d1bcbef\",\"elementid\":\"56f421d3-a347-4b4c-bed6-2b6ce3c05a45\",\"modelid\":\"be7e0ff9-762a-44aa-afed-3bcbd621fe8b\"}];\n",
       "            \n",
       "            Bokeh.embed.embed_items(docs_json, render_items);\n",
       "          };\n",
       "          if (document.readyState != \"loading\") fn();\n",
       "          else document.addEventListener(\"DOMContentLoaded\", fn);\n",
       "        })();\n",
       "      },\n",
       "      function(Bokeh) {\n",
       "      }\n",
       "    ];\n",
       "  \n",
       "    function run_inline_js() {\n",
       "      \n",
       "      if ((root.Bokeh !== undefined) || (force === true)) {\n",
       "        for (var i = 0; i < inline_js.length; i++) {\n",
       "          inline_js[i].call(root, root.Bokeh);\n",
       "        }if (force === true) {\n",
       "          display_loaded();\n",
       "        }} else if (Date.now() < root._bokeh_timeout) {\n",
       "        setTimeout(run_inline_js, 100);\n",
       "      } else if (!root._bokeh_failed_load) {\n",
       "        console.log(\"Bokeh: BokehJS failed to load within specified timeout.\");\n",
       "        root._bokeh_failed_load = true;\n",
       "      } else if (force !== true) {\n",
       "        var cell = $(document.getElementById(\"56f421d3-a347-4b4c-bed6-2b6ce3c05a45\")).parents('.cell').data().cell;\n",
       "        cell.output_area.append_execute_result(NB_LOAD_WARNING)\n",
       "      }\n",
       "  \n",
       "    }\n",
       "  \n",
       "    if (root._bokeh_is_loading === 0) {\n",
       "      console.log(\"Bokeh: BokehJS loaded, going straight to plotting\");\n",
       "      run_inline_js();\n",
       "    } else {\n",
       "      load_libs(js_urls, function() {\n",
       "        console.log(\"Bokeh: BokehJS plotting callback run at\", now());\n",
       "        run_inline_js();\n",
       "      });\n",
       "    }\n",
       "  }(window));\n",
       "</script>"
      ]
     },
     "metadata": {},
     "output_type": "display_data"
    }
   ],
   "source": [
    "p = figure(tools=\"pan,wheel_zoom,reset,save\",\n",
    "           toolbar_location=\"above\",\n",
    "           title=\"word2vec T-SNE for most common words\")\n",
    "\n",
    "source = ColumnDataSource(data=dict(x1=words_top_ted_tsne[:,0],\n",
    "                                    x2=words_top_ted_tsne[:,1],\n",
    "                                    names=words_top_ted[:1000]))\n",
    "\n",
    "p.scatter(x=\"x1\", y=\"x2\", size=8, source=source)\n",
    "\n",
    "labels = LabelSet(x=\"x1\", y=\"x2\", text=\"names\", y_offset=6,\n",
    "                  text_font_size=\"8pt\", text_color=\"#555555\",\n",
    "                  source=source, text_align='center')\n",
    "p.add_layout(labels)\n",
    "\n",
    "show(p)"
   ]
  },
  {
   "cell_type": "markdown",
   "metadata": {},
   "source": [
    "### Part 5: Wiki Learnt Representations"
   ]
  },
  {
   "cell_type": "markdown",
   "metadata": {},
   "source": [
    "Download dataset"
   ]
  },
  {
   "cell_type": "code",
   "execution_count": 23,
   "metadata": {
    "collapsed": true
   },
   "outputs": [],
   "source": [
    "if not os.path.isfile('wikitext-103-raw-v1.zip'):\n",
    "    urllib.request.urlretrieve(\"https://s3.amazonaws.com/research.metamind.io/wikitext/wikitext-103-raw-v1.zip\", filename=\"wikitext-103-raw-v1.zip\")"
   ]
  },
  {
   "cell_type": "code",
   "execution_count": 24,
   "metadata": {
    "collapsed": true
   },
   "outputs": [],
   "source": [
    "with zipfile.ZipFile('wikitext-103-raw-v1.zip', 'r') as z:\n",
    "    input_text = str(z.open('wikitext-103-raw/wiki.train.raw', 'r').read(), encoding='utf-8') # Thanks Robert Bastian"
   ]
  },
  {
   "cell_type": "markdown",
   "metadata": {},
   "source": [
    "Preprocess sentences (note that it's important to remove small sentences for performance)"
   ]
  },
  {
   "cell_type": "code",
   "execution_count": 25,
   "metadata": {
    "collapsed": true
   },
   "outputs": [],
   "source": [
    "sentences_wiki = []\n",
    "for line in input_text.split('\\n'):\n",
    "    s = [x for x in line.split('.') if x and len(x.split()) >= 5]\n",
    "    sentences_wiki.extend(s)\n",
    "    \n",
    "for s_i in range(len(sentences_wiki)):\n",
    "    sentences_wiki[s_i] = re.sub(r\"[^a-z0-9]+\", \" \", sentences_wiki[s_i].lower())\n",
    "    sentences_wiki[s_i] = re.sub(r'\\([^)]*\\)', '', sentences_wiki[s_i])\n",
    "del input_text"
   ]
  },
  {
   "cell_type": "code",
   "execution_count": 26,
   "metadata": {},
   "outputs": [
    {
     "name": "stdout",
     "output_type": "stream",
     "text": [
      "4267112\n",
      "853422\n"
     ]
    }
   ],
   "source": [
    "# sample 1/5 of the data\n",
    "shuffle(sentences_wiki)\n",
    "print(len(sentences_wiki))\n",
    "sentences_wiki = sentences_wiki[:int(len(sentences_wiki)/5)]\n",
    "print(len(sentences_wiki))"
   ]
  },
  {
   "cell_type": "markdown",
   "metadata": {},
   "source": [
    "Now, repeat all the same steps that you performed above. You should be able to reuse essentially all the code."
   ]
  },
  {
   "cell_type": "code",
   "execution_count": 27,
   "metadata": {
    "collapsed": true
   },
   "outputs": [],
   "source": [
    "sentences_split_wiki=[]\n",
    "for wr in sentences_wiki:\n",
    "    sentences_split_wiki.append(wr.split())"
   ]
  },
  {
   "cell_type": "code",
   "execution_count": 28,
   "metadata": {},
   "outputs": [
    {
     "name": "stdout",
     "output_type": "stream",
     "text": [
      "['the', 'of', 'and', 'in', 'to', 'a', 'was', 'on', 's', 'as'] [1286865, 548303, 500282, 434688, 398942, 356755, 214913, 154101, 152790, 144701]\n"
     ]
    }
   ],
   "source": [
    "counts_wiki = {}\n",
    "for sentence in sentences_split_wiki:\n",
    "    for word in sentence:\n",
    "        if word in counts_wiki:\n",
    "            counts_wiki[word] += 1\n",
    "        else:\n",
    "            counts_wiki[word] = 1\n",
    "            \n",
    "\n",
    "words_top_wiki = sorted(counts_wiki, reverse=True, key=counts_wiki.__getitem__)\n",
    "counts_wiki_top1000 = [counts_wiki[word] for word in words_top_wiki[:1000]]\n",
    "\n",
    "print(words_top_wiki[:10], counts_wiki_top1000[:10])"
   ]
  },
  {
   "cell_type": "code",
   "execution_count": 29,
   "metadata": {},
   "outputs": [
    {
     "data": {
      "text/html": [
       "\n",
       "\n",
       "    <div class=\"bk-root\">\n",
       "        <div class=\"bk-plotdiv\" id=\"7c79fd62-20c8-4d38-9ad0-b44b286ea0af\"></div>\n",
       "    </div>\n",
       "<script type=\"text/javascript\">\n",
       "  \n",
       "  (function(root) {\n",
       "    function now() {\n",
       "      return new Date();\n",
       "    }\n",
       "  \n",
       "    var force = false;\n",
       "  \n",
       "    if (typeof (root._bokeh_onload_callbacks) === \"undefined\" || force === true) {\n",
       "      root._bokeh_onload_callbacks = [];\n",
       "      root._bokeh_is_loading = undefined;\n",
       "    }\n",
       "  \n",
       "  \n",
       "    \n",
       "    if (typeof (root._bokeh_timeout) === \"undefined\" || force === true) {\n",
       "      root._bokeh_timeout = Date.now() + 0;\n",
       "      root._bokeh_failed_load = false;\n",
       "    }\n",
       "  \n",
       "    var NB_LOAD_WARNING = {'data': {'text/html':\n",
       "       \"<div style='background-color: #fdd'>\\n\"+\n",
       "       \"<p>\\n\"+\n",
       "       \"BokehJS does not appear to have successfully loaded. If loading BokehJS from CDN, this \\n\"+\n",
       "       \"may be due to a slow or bad network connection. Possible fixes:\\n\"+\n",
       "       \"</p>\\n\"+\n",
       "       \"<ul>\\n\"+\n",
       "       \"<li>re-rerun `output_notebook()` to attempt to load from CDN again, or</li>\\n\"+\n",
       "       \"<li>use INLINE resources instead, as so:</li>\\n\"+\n",
       "       \"</ul>\\n\"+\n",
       "       \"<code>\\n\"+\n",
       "       \"from bokeh.resources import INLINE\\n\"+\n",
       "       \"output_notebook(resources=INLINE)\\n\"+\n",
       "       \"</code>\\n\"+\n",
       "       \"</div>\"}};\n",
       "  \n",
       "    function display_loaded() {\n",
       "      if (root.Bokeh !== undefined) {\n",
       "        var el = document.getElementById(\"7c79fd62-20c8-4d38-9ad0-b44b286ea0af\");\n",
       "        if (el != null) {\n",
       "          el.textContent = \"BokehJS \" + Bokeh.version + \" successfully loaded.\";\n",
       "        }\n",
       "      } else if (Date.now() < root._bokeh_timeout) {\n",
       "        setTimeout(display_loaded, 100)\n",
       "      }\n",
       "    }\n",
       "  \n",
       "  \n",
       "    function run_callbacks() {\n",
       "      try {\n",
       "        root._bokeh_onload_callbacks.forEach(function(callback) { callback() });\n",
       "      }\n",
       "      finally {\n",
       "        delete root._bokeh_onload_callbacks\n",
       "      }\n",
       "      console.info(\"Bokeh: all callbacks have finished\");\n",
       "    }\n",
       "  \n",
       "    function load_libs(js_urls, callback) {\n",
       "      root._bokeh_onload_callbacks.push(callback);\n",
       "      if (root._bokeh_is_loading > 0) {\n",
       "        console.log(\"Bokeh: BokehJS is being loaded, scheduling callback at\", now());\n",
       "        return null;\n",
       "      }\n",
       "      if (js_urls == null || js_urls.length === 0) {\n",
       "        run_callbacks();\n",
       "        return null;\n",
       "      }\n",
       "      console.log(\"Bokeh: BokehJS not loaded, scheduling load and callback at\", now());\n",
       "      root._bokeh_is_loading = js_urls.length;\n",
       "      for (var i = 0; i < js_urls.length; i++) {\n",
       "        var url = js_urls[i];\n",
       "        var s = document.createElement('script');\n",
       "        s.src = url;\n",
       "        s.async = false;\n",
       "        s.onreadystatechange = s.onload = function() {\n",
       "          root._bokeh_is_loading--;\n",
       "          if (root._bokeh_is_loading === 0) {\n",
       "            console.log(\"Bokeh: all BokehJS libraries loaded\");\n",
       "            run_callbacks()\n",
       "          }\n",
       "        };\n",
       "        s.onerror = function() {\n",
       "          console.warn(\"failed to load library \" + url);\n",
       "        };\n",
       "        console.log(\"Bokeh: injecting script tag for BokehJS library: \", url);\n",
       "        document.getElementsByTagName(\"head\")[0].appendChild(s);\n",
       "      }\n",
       "    };var element = document.getElementById(\"7c79fd62-20c8-4d38-9ad0-b44b286ea0af\");\n",
       "    if (element == null) {\n",
       "      console.log(\"Bokeh: ERROR: autoload.js configured with elementid '7c79fd62-20c8-4d38-9ad0-b44b286ea0af' but no matching script tag was found. \")\n",
       "      return false;\n",
       "    }\n",
       "  \n",
       "    var js_urls = [];\n",
       "  \n",
       "    var inline_js = [\n",
       "      function(Bokeh) {\n",
       "        (function() {\n",
       "          var fn = function() {\n",
       "            var docs_json = {\"dd17ac0b-2b39-4277-8019-8f9f71cd2b9b\":{\"roots\":{\"references\":[{\"attributes\":{\"formatter\":{\"id\":\"1af6c8da-4b1b-4291-8f6d-377f2b97abc3\",\"type\":\"BasicTickFormatter\"},\"plot\":{\"id\":\"c4bc659e-29dc-4809-968b-d64704cc1800\",\"subtype\":\"Figure\",\"type\":\"Plot\"},\"ticker\":{\"id\":\"e5ceb55a-f83d-40c9-9350-6289108240e3\",\"type\":\"BasicTicker\"}},\"id\":\"02513808-f1fa-4e6e-b289-d4d99ec4f344\",\"type\":\"LinearAxis\"},{\"attributes\":{\"plot\":{\"id\":\"c4bc659e-29dc-4809-968b-d64704cc1800\",\"subtype\":\"Figure\",\"type\":\"Plot\"},\"ticker\":{\"id\":\"e5ceb55a-f83d-40c9-9350-6289108240e3\",\"type\":\"BasicTicker\"}},\"id\":\"04f59654-51cf-427e-8c54-d8b4c5c15a9a\",\"type\":\"Grid\"},{\"attributes\":{\"formatter\":{\"id\":\"b7bc22ea-1723-4ec3-8b7f-145ba208dc02\",\"type\":\"BasicTickFormatter\"},\"plot\":{\"id\":\"c4bc659e-29dc-4809-968b-d64704cc1800\",\"subtype\":\"Figure\",\"type\":\"Plot\"},\"ticker\":{\"id\":\"de7827f6-ca91-43bd-b25b-7698209fb749\",\"type\":\"BasicTicker\"}},\"id\":\"34002980-5155-4b1e-abcd-94ab4966538d\",\"type\":\"LinearAxis\"},{\"attributes\":{},\"id\":\"1af6c8da-4b1b-4291-8f6d-377f2b97abc3\",\"type\":\"BasicTickFormatter\"},{\"attributes\":{},\"id\":\"d0fdd834-2e53-47f4-b1cc-569162bde18a\",\"type\":\"LinearScale\"},{\"attributes\":{\"below\":[{\"id\":\"02513808-f1fa-4e6e-b289-d4d99ec4f344\",\"type\":\"LinearAxis\"}],\"left\":[{\"id\":\"34002980-5155-4b1e-abcd-94ab4966538d\",\"type\":\"LinearAxis\"}],\"renderers\":[{\"id\":\"02513808-f1fa-4e6e-b289-d4d99ec4f344\",\"type\":\"LinearAxis\"},{\"id\":\"04f59654-51cf-427e-8c54-d8b4c5c15a9a\",\"type\":\"Grid\"},{\"id\":\"34002980-5155-4b1e-abcd-94ab4966538d\",\"type\":\"LinearAxis\"},{\"id\":\"773f2c36-e5f7-414f-9b08-8a9771dfc519\",\"type\":\"Grid\"},{\"id\":\"92244cd5-a31e-4e7e-886a-db239c68e9d8\",\"type\":\"GlyphRenderer\"}],\"title\":{\"id\":\"e993a0c9-9fee-4547-bae4-2c9ea8554335\",\"type\":\"Title\"},\"toolbar\":{\"id\":\"599d1a2d-9bd3-47e8-9eb8-adf01bf713dd\",\"type\":\"Toolbar\"},\"toolbar_location\":\"above\",\"x_range\":{\"id\":\"0a22ce25-1a0a-4aed-abf1-d599277b7615\",\"type\":\"DataRange1d\"},\"x_scale\":{\"id\":\"1a688954-567b-4de9-a339-597495c16a29\",\"type\":\"LinearScale\"},\"y_range\":{\"id\":\"b7c573f1-4bf0-4766-9c61-d2b7362360f4\",\"type\":\"DataRange1d\"},\"y_scale\":{\"id\":\"d0fdd834-2e53-47f4-b1cc-569162bde18a\",\"type\":\"LinearScale\"}},\"id\":\"c4bc659e-29dc-4809-968b-d64704cc1800\",\"subtype\":\"Figure\",\"type\":\"Plot\"},{\"attributes\":{\"active_drag\":\"auto\",\"active_inspect\":\"auto\",\"active_scroll\":\"auto\",\"active_tap\":\"auto\",\"tools\":[{\"id\":\"fbdcbd8e-6e34-407f-ab72-76f04c6e9802\",\"type\":\"PanTool\"},{\"id\":\"af91dfb4-a97f-4310-a89a-6a70bc4adadd\",\"type\":\"WheelZoomTool\"},{\"id\":\"2ed4ad3e-86ac-41b0-a9c3-f1d52dbaeb1b\",\"type\":\"ResetTool\"},{\"id\":\"80c98656-30ea-4402-9130-a2b33da5198b\",\"type\":\"SaveTool\"}]},\"id\":\"599d1a2d-9bd3-47e8-9eb8-adf01bf713dd\",\"type\":\"Toolbar\"},{\"attributes\":{\"bottom\":{\"value\":0},\"fill_color\":{\"value\":\"#1f77b4\"},\"left\":{\"field\":\"left\"},\"line_color\":{\"value\":\"#555555\"},\"right\":{\"field\":\"right\"},\"top\":{\"field\":\"top\"}},\"id\":\"06fe3404-a011-482c-ad48-17ba510b3f76\",\"type\":\"Quad\"},{\"attributes\":{\"callback\":null},\"id\":\"b7c573f1-4bf0-4766-9c61-d2b7362360f4\",\"type\":\"DataRange1d\"},{\"attributes\":{},\"id\":\"b7bc22ea-1723-4ec3-8b7f-145ba208dc02\",\"type\":\"BasicTickFormatter\"},{\"attributes\":{},\"id\":\"de7827f6-ca91-43bd-b25b-7698209fb749\",\"type\":\"BasicTicker\"},{\"attributes\":{},\"id\":\"1a688954-567b-4de9-a339-597495c16a29\",\"type\":\"LinearScale\"},{\"attributes\":{},\"id\":\"fbdcbd8e-6e34-407f-ab72-76f04c6e9802\",\"type\":\"PanTool\"},{\"attributes\":{},\"id\":\"af91dfb4-a97f-4310-a89a-6a70bc4adadd\",\"type\":\"WheelZoomTool\"},{\"attributes\":{\"plot\":null,\"text\":\"Top-1000 words distribution\"},\"id\":\"e993a0c9-9fee-4547-bae4-2c9ea8554335\",\"type\":\"Title\"},{\"attributes\":{\"callback\":null,\"column_names\":[\"left\",\"right\",\"top\"],\"data\":{\"left\":{\"__ndarray__\":\"AAAAAABcn0DXo3A9ygPNQNejcD0KDttA4XoUrhfN40DXo3A9KhPqQGZmZmaeLPBA4XoUrqdP80Bcj8L1sHL2QNejcD26lflAUrgehcO4/EDNzMzMzNv/QKRwPQprfwFB4XoUru8QA0EfhetRdKIEQVyPwvX4MwZBmpmZmX3FB0HXo3A9AlcJQRSuR+GG6ApBUrgehQt6DEGPwvUokAsOQc3MzMwUnQ9BhetRuEyXEEGkcD0KD2ARQcP1KFzRKBJB4XoUrpPxEkEAAAAAVroTQR+F61EYgxRBPQrXo9pLFUFcj8L1nBQWQXsUrkdf3RZBmpmZmSGmF0G4HoXr424YQdejcD2mNxlB9ihcj2gAGkEUrkfhKskaQTMzMzPtkRtBUrgeha9aHEFxPQrXcSMdQY/C9Sg07B1Brkfheva0HkHNzMzMuH0fQfYoXI89IyBBhetRuJ6HIEEUrkfh/+sgQaRwPQphUCFBMzMzM8K0IUHD9ShcIxkiQVK4HoWEfSJB4XoUruXhIkFxPQrXRkYjQQAAAACoqiNBj8L1KAkPJEEfhetRanMkQa5H4XrL1yRBPQrXoyw8JUHNzMzMjaAlQVyPwvXuBCZB61G4HlBpJkF7FK5Hsc0mQQrXo3ASMidBmpmZmXOWJ0EpXI/C1PonQbgehes1XyhBSOF6FJfDKEHXo3A9+CcpQWZmZmZZjClB9ihcj7rwKUGF61G4G1UqQRSuR+F8uSpBpHA9Ct4dK0EzMzMzP4IrQcP1KFyg5itBUrgehQFLLEHhehSuYq8sQXE9CtfDEy1BAAAAACV4LUGPwvUohtwtQR+F61HnQC5BrkfhekilLkE9CtejqQkvQc3MzMwKbi9BXI/C9WvSL0H2KFyPZhswQT0K1yOXTTBBhetRuMd/MEHNzMxM+LEwQRSuR+Eo5DBBXI/CdVkWMUGkcD0KikgxQetRuJ66ejFBMzMzM+usMUF7FK7HG98xQcP1KFxMETJBCtej8HxDMkFSuB6FrXUyQZqZmRnepzJB4XoUrg7aMkEpXI9CPwwzQXE9CtdvPjNBuB6Fa6BwM0E=\",\"dtype\":\"float64\",\"shape\":[100]},\"right\":{\"__ndarray__\":\"16NwPcoDzUDXo3A9Cg7bQOF6FK4XzeNA16NwPSoT6kBmZmZmnizwQOF6FK6nT/NAXI/C9bBy9kDXo3A9upX5QFK4HoXDuPxAzczMzMzb/0CkcD0Ka38BQeF6FK7vEANBH4XrUXSiBEFcj8L1+DMGQZqZmZl9xQdB16NwPQJXCUEUrkfhhugKQVK4HoULegxBj8L1KJALDkHNzMzMFJ0PQYXrUbhMlxBBpHA9Cg9gEUHD9Shc0SgSQeF6FK6T8RJBAAAAAFa6E0EfhetRGIMUQT0K16PaSxVBXI/C9ZwUFkF7FK5HX90WQZqZmZkhphdBuB6F6+NuGEHXo3A9pjcZQfYoXI9oABpBFK5H4SrJGkEzMzMz7ZEbQVK4HoWvWhxBcT0K13EjHUGPwvUoNOwdQa5H4Xr2tB5BzczMzLh9H0H2KFyPPSMgQYXrUbiehyBBFK5H4f/rIEGkcD0KYVAhQTMzMzPCtCFBw/UoXCMZIkFSuB6FhH0iQeF6FK7l4SJBcT0K10ZGI0EAAAAAqKojQY/C9SgJDyRBH4XrUWpzJEGuR+F6y9ckQT0K16MsPCVBzczMzI2gJUFcj8L17gQmQetRuB5QaSZBexSuR7HNJkEK16NwEjInQZqZmZlzlidBKVyPwtT6J0G4HoXrNV8oQUjhehSXwyhB16NwPfgnKUFmZmZmWYwpQfYoXI+68ClBhetRuBtVKkEUrkfhfLkqQaRwPQreHStBMzMzMz+CK0HD9ShcoOYrQVK4HoUBSyxB4XoUrmKvLEFxPQrXwxMtQQAAAAAleC1Bj8L1KIbcLUEfhetR50AuQa5H4XpIpS5BPQrXo6kJL0HNzMzMCm4vQVyPwvVr0i9B9ihcj2YbMEE9Ctcjl00wQYXrUbjHfzBBzczMTPixMEEUrkfhKOQwQVyPwnVZFjFBpHA9CopIMUHrUbieunoxQTMzMzPrrDFBexSuxxvfMUHD9ShcTBEyQQrXo/B8QzJBUrgeha11MkGamZkZ3qcyQeF6FK4O2jJBKVyPQj8MM0FxPQrXbz4zQbgehWugcDNBAAAAANGiM0E=\",\"dtype\":\"float64\",\"shape\":[100]},\"top\":{\"__ndarray__\":\"UTHwJcS6Ej+MarltGSjIPhJj8wRp5LQ+1TswRoMdmj6fFG2HnVaPPhFj8wRp5HQ+mhRth51Wjz6aFG2HnVaPPgAAAAAAAAAAEWPzBGnkhD4RY/MEaeSEPqQUbYedVo8+AAAAAAAAAAAAAAAAAAAAAAAAAAAAAAAAAAAAAAAAAAAYY/MEaeR0PgAAAAAAAAAAAAAAAAAAAAAAAAAAAAAAAAAAAAAAAAAAAAAAAAAAAAAAAAAAAAAAAAAAAAAAAAAAAAAAAAAAAAAAAAAAAAAAAAAAAAAAAAAACmPzBGnkdD4AAAAAAAAAAAAAAAAAAAAAJWPzBGnkdD4AAAAAAAAAAAAAAAAAAAAAJWPzBGnkdD4AAAAAAAAAAAAAAAAAAAAAAAAAAAAAAAAAAAAAAAAAAApj8wRp5HQ+AAAAAAAAAAAAAAAAAAAAAAAAAAAAAAAAJWPzBGnkdD4AAAAAAAAAAAAAAAAAAAAAAAAAAAAAAAAAAAAAAAAAAAAAAAAAAAAAAAAAAAAAAAAAAAAAAAAAAAAAAAAAAAAAAAAAAAAAAAAAAAAAAAAAAAAAAAAAAAAAAAAAAAAAAAAAAAAAAAAAAAAAAAAAAAAAAAAAAAAAAAAAAAAAAAAAAAAAAAAAAAAAAAAAAAAAAAAAAAAAAAAAAAAAAAAAAAAAAAAAAAAAAAAAAAAAAAAAAAAAAAAAAAAAAAAAAAAAAAAAAAAAAAAAAAAAAAAAAAAAAAAAAAAAAAAAAAAAAAAAAAAAAAAAAAAAAAAAAAAAAAAAAAAAAAAAAAAAAAAAAAAAAAAAAAAAAAAAAAAAAAAAAAAAAAAAAAAAAAAAAAAAAAAAAAAAAAAAAAAAAAAAAAAAAAAAAAAAAAAAAAAAAAAAAAAAAAAAAAAAAAAAAAAAAAAAAAAAAAAAAAAAAAAAAAAAAAAAAAAAAAAAAAAAAAAAAAAAAAAAAAAAAAAAAAAAAAAAAAAAAAAAAAAAAAAAAAAAAAAAAAAAAAAAAAAAAAAAAAAAAAAAAAAAAAAAAAAAAAAAAAAAAAAAAAAAAAAAAAAA8GLzBGnkdD4=\",\"dtype\":\"float64\",\"shape\":[100]}}},\"id\":\"c07ab8d3-a691-446b-b9b3-5d22617ead5b\",\"type\":\"ColumnDataSource\"},{\"attributes\":{},\"id\":\"e5ceb55a-f83d-40c9-9350-6289108240e3\",\"type\":\"BasicTicker\"},{\"attributes\":{},\"id\":\"2ed4ad3e-86ac-41b0-a9c3-f1d52dbaeb1b\",\"type\":\"ResetTool\"},{\"attributes\":{\"data_source\":{\"id\":\"c07ab8d3-a691-446b-b9b3-5d22617ead5b\",\"type\":\"ColumnDataSource\"},\"glyph\":{\"id\":\"06fe3404-a011-482c-ad48-17ba510b3f76\",\"type\":\"Quad\"},\"hover_glyph\":null,\"muted_glyph\":null,\"nonselection_glyph\":{\"id\":\"a8798e4e-f166-47c5-a1b1-94c1650046f6\",\"type\":\"Quad\"},\"selection_glyph\":null,\"view\":{\"id\":\"7596f2d6-7f30-403f-8c10-3a074b1dcdb3\",\"type\":\"CDSView\"}},\"id\":\"92244cd5-a31e-4e7e-886a-db239c68e9d8\",\"type\":\"GlyphRenderer\"},{\"attributes\":{},\"id\":\"80c98656-30ea-4402-9130-a2b33da5198b\",\"type\":\"SaveTool\"},{\"attributes\":{\"callback\":null},\"id\":\"0a22ce25-1a0a-4aed-abf1-d599277b7615\",\"type\":\"DataRange1d\"},{\"attributes\":{\"dimension\":1,\"plot\":{\"id\":\"c4bc659e-29dc-4809-968b-d64704cc1800\",\"subtype\":\"Figure\",\"type\":\"Plot\"},\"ticker\":{\"id\":\"de7827f6-ca91-43bd-b25b-7698209fb749\",\"type\":\"BasicTicker\"}},\"id\":\"773f2c36-e5f7-414f-9b08-8a9771dfc519\",\"type\":\"Grid\"},{\"attributes\":{\"source\":{\"id\":\"c07ab8d3-a691-446b-b9b3-5d22617ead5b\",\"type\":\"ColumnDataSource\"}},\"id\":\"7596f2d6-7f30-403f-8c10-3a074b1dcdb3\",\"type\":\"CDSView\"},{\"attributes\":{\"bottom\":{\"value\":0},\"fill_alpha\":{\"value\":0.1},\"fill_color\":{\"value\":\"#1f77b4\"},\"left\":{\"field\":\"left\"},\"line_alpha\":{\"value\":0.1},\"line_color\":{\"value\":\"#1f77b4\"},\"right\":{\"field\":\"right\"},\"top\":{\"field\":\"top\"}},\"id\":\"a8798e4e-f166-47c5-a1b1-94c1650046f6\",\"type\":\"Quad\"}],\"root_ids\":[\"c4bc659e-29dc-4809-968b-d64704cc1800\"]},\"title\":\"Bokeh Application\",\"version\":\"0.12.7\"}};\n",
       "            var render_items = [{\"docid\":\"dd17ac0b-2b39-4277-8019-8f9f71cd2b9b\",\"elementid\":\"7c79fd62-20c8-4d38-9ad0-b44b286ea0af\",\"modelid\":\"c4bc659e-29dc-4809-968b-d64704cc1800\"}];\n",
       "            \n",
       "            Bokeh.embed.embed_items(docs_json, render_items);\n",
       "          };\n",
       "          if (document.readyState != \"loading\") fn();\n",
       "          else document.addEventListener(\"DOMContentLoaded\", fn);\n",
       "        })();\n",
       "      },\n",
       "      function(Bokeh) {\n",
       "      }\n",
       "    ];\n",
       "  \n",
       "    function run_inline_js() {\n",
       "      \n",
       "      if ((root.Bokeh !== undefined) || (force === true)) {\n",
       "        for (var i = 0; i < inline_js.length; i++) {\n",
       "          inline_js[i].call(root, root.Bokeh);\n",
       "        }if (force === true) {\n",
       "          display_loaded();\n",
       "        }} else if (Date.now() < root._bokeh_timeout) {\n",
       "        setTimeout(run_inline_js, 100);\n",
       "      } else if (!root._bokeh_failed_load) {\n",
       "        console.log(\"Bokeh: BokehJS failed to load within specified timeout.\");\n",
       "        root._bokeh_failed_load = true;\n",
       "      } else if (force !== true) {\n",
       "        var cell = $(document.getElementById(\"7c79fd62-20c8-4d38-9ad0-b44b286ea0af\")).parents('.cell').data().cell;\n",
       "        cell.output_area.append_execute_result(NB_LOAD_WARNING)\n",
       "      }\n",
       "  \n",
       "    }\n",
       "  \n",
       "    if (root._bokeh_is_loading === 0) {\n",
       "      console.log(\"Bokeh: BokehJS loaded, going straight to plotting\");\n",
       "      run_inline_js();\n",
       "    } else {\n",
       "      load_libs(js_urls, function() {\n",
       "        console.log(\"Bokeh: BokehJS plotting callback run at\", now());\n",
       "        run_inline_js();\n",
       "      });\n",
       "    }\n",
       "  }(window));\n",
       "</script>"
      ]
     },
     "metadata": {},
     "output_type": "display_data"
    }
   ],
   "source": [
    "hist, edges = np.histogram(counts_wiki_top1000, density=True, bins=100, normed=True)\n",
    "\n",
    "p = figure(tools=\"pan,wheel_zoom,reset,save\",\n",
    "           toolbar_location=\"above\",\n",
    "           title=\"Top-1000 words distribution\")\n",
    "p.quad(top=hist, bottom=0, left=edges[:-1], right=edges[1:], line_color=\"#555555\")\n",
    "show(p)"
   ]
  },
  {
   "cell_type": "code",
   "execution_count": 31,
   "metadata": {},
   "outputs": [
    {
     "data": {
      "text/plain": [
       "198133813"
      ]
     },
     "execution_count": 31,
     "metadata": {},
     "output_type": "execute_result"
    }
   ],
   "source": [
    "model_wiki = Word2Vec(sentences=sentences_split_wiki, size=100, min_count=5)\n",
    "model_wiki.train(sentences_split_wiki, total_examples=model_wiki.corpus_count, epochs=15)"
   ]
  },
  {
   "cell_type": "code",
   "execution_count": 34,
   "metadata": {},
   "outputs": [
    {
     "data": {
      "text/plain": [
       "[('woman', 0.7174842953681946),\n",
       " ('girl', 0.6514018177986145),\n",
       " ('person', 0.6181576251983643),\n",
       " ('boy', 0.5799478888511658),\n",
       " ('guy', 0.5705775022506714),\n",
       " ('someone', 0.5612919926643372),\n",
       " ('magician', 0.5578553676605225),\n",
       " ('kid', 0.546867847442627),\n",
       " ('lad', 0.5437709093093872),\n",
       " ('soldier', 0.5415705442428589)]"
      ]
     },
     "execution_count": 34,
     "metadata": {},
     "output_type": "execute_result"
    }
   ],
   "source": [
    "model_wiki.most_similar(\"man\")"
   ]
  },
  {
   "cell_type": "code",
   "execution_count": 49,
   "metadata": {},
   "outputs": [
    {
     "data": {
      "text/plain": [
       "[('software', 0.7000124454498291),\n",
       " ('kinect', 0.6873171329498291),\n",
       " ('computers', 0.6702802181243896),\n",
       " ('mainframe', 0.6658933758735657),\n",
       " ('technology', 0.66304612159729),\n",
       " ('handheld', 0.6344120502471924),\n",
       " ('3d', 0.6211332082748413),\n",
       " ('macintosh', 0.6160797476768494),\n",
       " ('computing', 0.6119583249092102),\n",
       " ('ibm', 0.6076227426528931)]"
      ]
     },
     "execution_count": 49,
     "metadata": {},
     "output_type": "execute_result"
    }
   ],
   "source": [
    "model_wiki.most_similar(\"computer\")"
   ]
  },
  {
   "cell_type": "code",
   "execution_count": 56,
   "metadata": {},
   "outputs": [
    {
     "data": {
      "text/plain": [
       "[('thanksgiving', 0.7480095028877258),\n",
       " ('celebrations', 0.6707433462142944),\n",
       " ('homecoming', 0.6670133471488953),\n",
       " ('parades', 0.6527904868125916),\n",
       " ('parade', 0.6516865491867065),\n",
       " ('feast', 0.6360749006271362),\n",
       " ('christmas', 0.6225383281707764),\n",
       " ('revue', 0.6199454069137573),\n",
       " ('banquet', 0.6071924567222595),\n",
       " ('holidays', 0.5992181301116943)]"
      ]
     },
     "execution_count": 56,
     "metadata": {},
     "output_type": "execute_result"
    }
   ],
   "source": [
    "model_wiki.most_similar(positive=['holiday', 'celebration'])"
   ]
  },
  {
   "cell_type": "markdown",
   "metadata": {},
   "source": [
    "#### t-SNE visualization"
   ]
  },
  {
   "cell_type": "code",
   "execution_count": 38,
   "metadata": {},
   "outputs": [],
   "source": [
    "# This assumes words_top_wiki is a list of strings, the top 1000 words\n",
    "words_top_vec_wiki = model_wiki[words_top_wiki[:1000]]\n",
    "\n",
    "tsne = TSNE(n_components=2, random_state=0)\n",
    "words_top_wiki_tsne = tsne.fit_transform(words_top_vec_wiki)"
   ]
  },
  {
   "cell_type": "code",
   "execution_count": 39,
   "metadata": {},
   "outputs": [
    {
     "data": {
      "text/html": [
       "\n",
       "\n",
       "    <div class=\"bk-root\">\n",
       "        <div class=\"bk-plotdiv\" id=\"0e21bfa9-bf4f-4595-b02d-2498600640ee\"></div>\n",
       "    </div>\n",
       "<script type=\"text/javascript\">\n",
       "  \n",
       "  (function(root) {\n",
       "    function now() {\n",
       "      return new Date();\n",
       "    }\n",
       "  \n",
       "    var force = false;\n",
       "  \n",
       "    if (typeof (root._bokeh_onload_callbacks) === \"undefined\" || force === true) {\n",
       "      root._bokeh_onload_callbacks = [];\n",
       "      root._bokeh_is_loading = undefined;\n",
       "    }\n",
       "  \n",
       "  \n",
       "    \n",
       "    if (typeof (root._bokeh_timeout) === \"undefined\" || force === true) {\n",
       "      root._bokeh_timeout = Date.now() + 0;\n",
       "      root._bokeh_failed_load = false;\n",
       "    }\n",
       "  \n",
       "    var NB_LOAD_WARNING = {'data': {'text/html':\n",
       "       \"<div style='background-color: #fdd'>\\n\"+\n",
       "       \"<p>\\n\"+\n",
       "       \"BokehJS does not appear to have successfully loaded. If loading BokehJS from CDN, this \\n\"+\n",
       "       \"may be due to a slow or bad network connection. Possible fixes:\\n\"+\n",
       "       \"</p>\\n\"+\n",
       "       \"<ul>\\n\"+\n",
       "       \"<li>re-rerun `output_notebook()` to attempt to load from CDN again, or</li>\\n\"+\n",
       "       \"<li>use INLINE resources instead, as so:</li>\\n\"+\n",
       "       \"</ul>\\n\"+\n",
       "       \"<code>\\n\"+\n",
       "       \"from bokeh.resources import INLINE\\n\"+\n",
       "       \"output_notebook(resources=INLINE)\\n\"+\n",
       "       \"</code>\\n\"+\n",
       "       \"</div>\"}};\n",
       "  \n",
       "    function display_loaded() {\n",
       "      if (root.Bokeh !== undefined) {\n",
       "        var el = document.getElementById(\"0e21bfa9-bf4f-4595-b02d-2498600640ee\");\n",
       "        if (el != null) {\n",
       "          el.textContent = \"BokehJS \" + Bokeh.version + \" successfully loaded.\";\n",
       "        }\n",
       "      } else if (Date.now() < root._bokeh_timeout) {\n",
       "        setTimeout(display_loaded, 100)\n",
       "      }\n",
       "    }\n",
       "  \n",
       "  \n",
       "    function run_callbacks() {\n",
       "      try {\n",
       "        root._bokeh_onload_callbacks.forEach(function(callback) { callback() });\n",
       "      }\n",
       "      finally {\n",
       "        delete root._bokeh_onload_callbacks\n",
       "      }\n",
       "      console.info(\"Bokeh: all callbacks have finished\");\n",
       "    }\n",
       "  \n",
       "    function load_libs(js_urls, callback) {\n",
       "      root._bokeh_onload_callbacks.push(callback);\n",
       "      if (root._bokeh_is_loading > 0) {\n",
       "        console.log(\"Bokeh: BokehJS is being loaded, scheduling callback at\", now());\n",
       "        return null;\n",
       "      }\n",
       "      if (js_urls == null || js_urls.length === 0) {\n",
       "        run_callbacks();\n",
       "        return null;\n",
       "      }\n",
       "      console.log(\"Bokeh: BokehJS not loaded, scheduling load and callback at\", now());\n",
       "      root._bokeh_is_loading = js_urls.length;\n",
       "      for (var i = 0; i < js_urls.length; i++) {\n",
       "        var url = js_urls[i];\n",
       "        var s = document.createElement('script');\n",
       "        s.src = url;\n",
       "        s.async = false;\n",
       "        s.onreadystatechange = s.onload = function() {\n",
       "          root._bokeh_is_loading--;\n",
       "          if (root._bokeh_is_loading === 0) {\n",
       "            console.log(\"Bokeh: all BokehJS libraries loaded\");\n",
       "            run_callbacks()\n",
       "          }\n",
       "        };\n",
       "        s.onerror = function() {\n",
       "          console.warn(\"failed to load library \" + url);\n",
       "        };\n",
       "        console.log(\"Bokeh: injecting script tag for BokehJS library: \", url);\n",
       "        document.getElementsByTagName(\"head\")[0].appendChild(s);\n",
       "      }\n",
       "    };var element = document.getElementById(\"0e21bfa9-bf4f-4595-b02d-2498600640ee\");\n",
       "    if (element == null) {\n",
       "      console.log(\"Bokeh: ERROR: autoload.js configured with elementid '0e21bfa9-bf4f-4595-b02d-2498600640ee' but no matching script tag was found. \")\n",
       "      return false;\n",
       "    }\n",
       "  \n",
       "    var js_urls = [];\n",
       "  \n",
       "    var inline_js = [\n",
       "      function(Bokeh) {\n",
       "        (function() {\n",
       "          var fn = function() {\n",
       "            var docs_json = {\"95959ff3-da43-4b15-8d94-b291a2f2cefa\":{\"roots\":{\"references\":[{\"attributes\":{\"data_source\":{\"id\":\"4f473d53-4811-4157-a70f-e592b049cdc6\",\"type\":\"ColumnDataSource\"},\"glyph\":{\"id\":\"c639d0cc-9426-4645-91a7-fbcab680d9e4\",\"type\":\"Circle\"},\"hover_glyph\":null,\"muted_glyph\":null,\"nonselection_glyph\":{\"id\":\"48a97bf0-6ec2-4720-84f2-23e9ec92fb67\",\"type\":\"Circle\"},\"selection_glyph\":null,\"view\":{\"id\":\"ab276035-ff66-4274-9da2-b4db7ef46167\",\"type\":\"CDSView\"}},\"id\":\"6effcbf1-fee0-4630-9b2a-174bafefe461\",\"type\":\"GlyphRenderer\"},{\"attributes\":{\"callback\":null,\"column_names\":[\"x1\",\"x2\",\"names\"],\"data\":{\"names\":[\"the\",\"of\",\"and\",\"in\",\"to\",\"a\",\"was\",\"on\",\"s\",\"as\",\"for\",\"that\",\"with\",\"by\",\"is\",\"his\",\"at\",\"he\",\"it\",\"from\",\"were\",\"an\",\"had\",\"which\",\"be\",\"this\",\"but\",\"first\",\"are\",\"not\",\"their\",\"after\",\"one\",\"her\",\"also\",\"its\",\"they\",\"two\",\"or\",\"have\",\"who\",\"been\",\"new\",\"has\",\"she\",\"when\",\"during\",\"time\",\"other\",\"would\",\"into\",\"all\",\"i\",\"more\",\"1\",\"over\",\"while\",\"game\",\"him\",\"only\",\"later\",\"most\",\"up\",\"three\",\"about\",\"out\",\"between\",\"2\",\"there\",\"than\",\"film\",\"some\",\"may\",\"year\",\"before\",\"made\",\"no\",\"such\",\"second\",\"where\",\"season\",\"3\",\"000\",\"years\",\"war\",\"world\",\"both\",\"then\",\"them\",\"however\",\"being\",\"through\",\"against\",\"used\",\"song\",\"these\",\"series\",\"many\",\"5\",\"album\",\"team\",\"north\",\"including\",\"became\",\"city\",\"can\",\"number\",\"part\",\"four\",\"united\",\"several\",\"well\",\"4\",\"under\",\"early\",\"state\",\"south\",\"music\",\"m\",\"so\",\"day\",\"states\",\"said\",\"following\",\"episode\",\"known\",\"although\",\"could\",\"american\",\"did\",\"work\",\"began\",\"because\",\"until\",\"released\",\"called\",\"like\",\"high\",\"10\",\"people\",\"t\",\"end\",\"6\",\"since\",\"around\",\"british\",\"each\",\"long\",\"september\",\"if\",\"life\",\"found\",\"best\",\"national\",\"same\",\"us\",\"west\",\"another\",\"million\",\"back\",\"took\",\"along\",\"five\",\"any\",\"show\",\"you\",\"use\",\"area\",\"off\",\"final\",\"7\",\"august\",\"group\",\"century\",\"8\",\"received\",\"october\",\"john\",\"school\",\"government\",\"due\",\"line\",\"km\",\"what\",\"will\",\"june\",\"single\",\"march\",\"east\",\"system\",\"home\",\"0\",\"july\",\"much\",\"third\",\"games\",\"november\",\"general\",\"april\",\"down\",\"large\",\"set\",\"major\",\"family\",\"9\",\"based\",\"york\",\"just\",\"place\",\"road\",\"company\",\"we\",\"december\",\"house\",\"left\",\"six\",\"12\",\"army\",\"history\",\"character\",\"played\",\"king\",\"january\",\"name\",\"20\",\"now\",\"included\",\"band\",\"within\",\"wrote\",\"main\",\"15\",\"according\",\"won\",\"described\",\"those\",\"men\",\"last\",\"own\",\"death\",\"near\",\"led\",\"video\",\"times\",\"battle\",\"air\",\"named\",\"release\",\"very\",\"de\",\"record\",\"late\",\"original\",\"next\",\"river\",\"top\",\"make\",\"way\",\"league\",\"species\",\"club\",\"even\",\"ship\",\"still\",\"30\",\"small\",\"production\",\"force\",\"old\",\"man\",\"route\",\"great\",\"days\",\"built\",\"storm\",\"february\",\"again\",\"though\",\"public\",\"play\",\"among\",\"held\",\"11\",\"division\",\"university\",\"german\",\"further\",\"role\",\"story\",\"book\",\"u\",\"having\",\"white\",\"power\",\"do\",\"service\",\"2010\",\"french\",\"members\",\"match\",\"water\",\"player\",\"side\",\"order\",\"100\",\"2008\",\"continued\",\"former\",\"2009\",\"often\",\"local\",\"park\",\"career\",\"town\",\"point\",\"d\",\"without\",\"18\",\"black\",\"2011\",\"england\",\"came\",\"take\",\"party\",\"despite\",\"half\",\"h\",\"version\",\"14\",\"16\",\"written\",\"form\",\"island\",\"considered\",\"period\",\"2007\",\"military\",\"few\",\"b\",\"moved\",\"county\",\"13\",\"different\",\"lost\",\"development\",\"support\",\"25\",\"songs\",\"forces\",\"re\",\"2012\",\"president\",\"building\",\"become\",\"ii\",\"given\",\"court\",\"english\",\"international\",\"london\",\"tropical\",\"little\",\"my\",\"country\",\"lead\",\"tour\",\"performance\",\"church\",\"using\",\"street\",\"returned\",\"never\",\"produced\",\"similar\",\"gave\",\"position\",\"run\",\"published\",\"royal\",\"track\",\"class\",\"attack\",\"ships\",\"highway\",\"stated\",\"western\",\"recorded\",\"went\",\"land\",\"short\",\"children\",\"c\",\"father\",\"week\",\"live\",\"good\",\"aircraft\",\"2006\",\"17\",\"total\",\"television\",\"star\",\"include\",\"per\",\"making\",\"upon\",\"love\",\"women\",\"fire\",\"how\",\"control\",\"throughout\",\"n\",\"australia\",\"design\",\"characters\",\"head\",\"once\",\"2013\",\"himself\",\"less\",\"central\",\"age\",\"right\",\"players\",\"law\",\"writing\",\"months\",\"away\",\"light\",\"across\",\"young\",\"seven\",\"instead\",\"died\",\"rock\",\"remained\",\"sea\",\"red\",\"return\",\"station\",\"24\",\"me\",\"developed\",\"21\",\"ft\",\"title\",\"ten\",\"southern\",\"previous\",\"reported\",\"night\",\"eight\",\"hurricane\",\"political\",\"result\",\"various\",\"eventually\",\"low\",\"office\",\"james\",\"too\",\"style\",\"field\",\"noted\",\"center\",\"america\",\"college\",\"reached\",\"st\",\"areas\",\"construction\",\"created\",\"miles\",\"race\",\"should\",\"son\",\"r\",\"award\",\"22\",\"act\",\"japanese\",\"felt\",\"win\",\"seen\",\"announced\",\"william\",\"together\",\"2005\",\"member\",\"served\",\"performed\",\"2014\",\"19\",\"sent\",\"level\",\"full\",\"followed\",\"northern\",\"action\",\"common\",\"points\",\"range\",\"born\",\"50\",\"campaign\",\"able\",\"originally\",\"chart\",\"taken\",\"killed\",\"established\",\"appeared\",\"fourth\",\"body\",\"works\",\"project\",\"australian\",\"george\",\"23\",\"success\",\"get\",\"features\",\"critics\",\"mm\",\"started\",\"front\",\"others\",\"feet\",\"located\",\"post\",\"modern\",\"thought\",\"playing\",\"added\",\"addition\",\"behind\",\"bridge\",\"present\",\"rather\",\"caused\",\"site\",\"formed\",\"saw\",\"special\",\"almost\",\"damage\",\"population\",\"e\",\"strong\",\"heavy\",\"stage\",\"decided\",\"football\",\"sold\",\"every\",\"see\",\"completed\",\"fleet\",\"initially\",\"popular\",\"soon\",\"40\",\"eastern\",\"close\",\"27\",\"championship\",\"weeks\",\"opened\",\"28\",\"director\",\"non\",\"david\",\"art\",\"go\",\"open\",\"awards\",\"case\",\"ground\",\"region\",\"command\",\"mother\",\"kingdom\",\"worked\",\"coast\",\"important\",\"2004\",\"26\",\"france\",\"guns\",\"working\",\"recording\",\"event\",\"leading\",\"o\",\"training\",\"scene\",\"michael\",\"sound\",\"free\",\"allowed\",\"provided\",\"brought\",\"2015\",\"mi\",\"towards\",\"events\",\"union\",\"scored\",\"average\",\"l\",\"runs\",\"generally\",\"least\",\"either\",\"magazine\",\"does\",\"f\",\"wanted\",\"featured\",\"ever\",\"records\",\"200\",\"henry\",\"placed\",\"put\",\"troops\",\"hall\",\"help\",\"navy\",\"victory\",\"example\",\"designed\",\"washington\",\"hit\",\"wife\",\"minutes\",\"500\",\"mid\",\"cup\",\"studio\",\"list\",\"start\",\"council\",\"replaced\",\"far\",\"joined\",\"2003\",\"summer\",\"opening\",\"co\",\"europe\",\"29\",\"robert\",\"nine\",\"human\",\"highest\",\"possible\",\"rest\",\"hours\",\"involved\",\"earlier\",\"brown\",\"operation\",\"media\",\"month\",\"base\",\"police\",\"european\",\"shot\",\"successful\",\"japan\",\"official\",\"met\",\"finished\",\"al\",\"captain\",\"particularly\",\"significant\",\"radio\",\"big\",\"society\",\"largest\",\"crew\",\"test\",\"believed\",\"saying\",\"beginning\",\"outside\",\"association\",\"films\",\"review\",\"squadron\",\"process\",\"research\",\"appearance\",\"enough\",\"praised\",\"cast\",\"mph\",\"available\",\"2000\",\"community\",\"ended\",\"business\",\"change\",\"2001\",\"forced\",\"better\",\"must\",\"going\",\"2002\",\"gun\",\"future\",\"hill\",\"space\",\"come\",\"units\",\"real\",\"thomas\",\"taking\",\"lower\",\"ordered\",\"thus\",\"san\",\"turned\",\"middle\",\"increased\",\"charles\",\"additional\",\"chief\",\"passed\",\"social\",\"board\",\"stone\",\"goal\",\"elements\",\"spent\",\"move\",\"canada\",\"reviews\",\"section\",\"lake\",\"interest\",\"previously\",\"type\",\"round\",\"above\",\"groups\",\"gold\",\"paul\",\"parts\",\"positive\",\"cross\",\"relationship\",\"find\",\"required\",\"overall\",\"germany\",\"directed\",\"program\",\"give\",\"told\",\"staff\",\"plan\",\"31\",\"musical\",\"female\",\"signed\",\"our\",\"california\",\"winds\",\"failed\",\"lines\",\"grand\",\"brother\",\"attempt\",\"critical\",\"sometimes\",\"rights\",\"asked\",\"room\",\"don\",\"committee\",\"infantry\",\"cover\",\"castle\",\"prior\",\"evidence\",\"whose\",\"students\",\"money\",\"entire\",\"complete\",\"study\",\"itself\",\"hand\",\"election\",\"news\",\"x\",\"term\",\"quickly\",\"port\",\"already\",\"claimed\",\"idea\",\"limited\",\"flight\",\"district\",\"bill\",\"background\",\"smith\",\"reception\",\"introduced\",\"education\",\"uk\",\"square\",\"india\",\"personal\",\"green\",\"battalion\",\"person\",\"surface\",\"speed\",\"issue\",\"governor\",\"effects\",\"score\",\"whom\",\"structure\",\"blue\",\"ny\",\"debut\",\"becoming\",\"earth\",\"britain\",\"movement\",\"writer\",\"plot\",\"commander\",\"usually\",\"press\",\"minister\",\"stars\",\"centre\",\"indian\",\"woman\",\"turn\",\"voice\",\"loss\",\"teams\",\"industry\",\"larger\",\"latter\",\"entered\",\"novel\",\"shows\",\"anti\",\"response\",\"g\",\"food\",\"carried\",\"arrived\",\"services\",\"village\",\"length\",\"mark\",\"peter\",\"bay\",\"science\",\"fifth\",\"scenes\",\"operations\",\"episodes\",\"1999\",\"appointed\",\"living\",\"estimated\",\"pressure\",\"past\",\"los\",\"leaving\",\"car\",\"especially\",\"remaining\",\"naval\",\"department\",\"hot\",\"la\",\"material\",\"view\",\"civil\",\"islands\",\"running\",\"defeated\",\"experience\",\"shortly\",\"richard\",\"language\",\"queen\",\"might\",\"producer\",\"changes\",\"proposed\",\"depression\",\"decision\",\"approximately\",\"nature\",\"pop\",\"god\",\"suggested\",\"destroyed\",\"finally\",\"report\",\"cut\",\"face\",\"v\",\"wide\",\"commercial\",\"course\",\"percent\",\"current\",\"provide\",\"married\",\"virginia\",\"regular\",\"nearly\",\"child\",\"date\",\"fact\",\"winning\",\"higher\",\"tracks\",\"intended\",\"daughter\",\"empire\",\"self\",\"today\",\"helped\",\"buildings\",\"size\",\"whether\",\"spanish\",\"brigade\",\"network\",\"dark\",\"planned\",\"k\",\"ball\",\"compared\",\"related\",\"leader\",\"railway\",\"soviet\",\"influence\",\"lack\",\"agreed\",\"captured\",\"supported\",\"longer\",\"manager\",\"natural\",\"fans\",\"contract\",\"professional\",\"museum\",\"books\",\"singles\",\"1998\",\"officer\",\"associated\",\"done\",\"your\",\"cost\",\"friends\",\"60\",\"extended\",\"pacific\",\"officers\",\"appear\",\"soldiers\",\"mostly\",\"changed\",\"edward\",\"plans\",\"minor\",\"p\",\"remains\",\"feature\",\"ran\",\"initial\",\"create\",\"trade\",\"awarded\",\"effect\",\"private\",\"yet\",\"immediately\",\"chicago\",\"upper\"],\"x1\":{\"__ndarray__\":\"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\",\"dtype\":\"float32\",\"shape\":[1000]},\"x2\":{\"__ndarray__\":\"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\",\"dtype\":\"float32\",\"shape\":[1000]}}},\"id\":\"4f473d53-4811-4157-a70f-e592b049cdc6\",\"type\":\"ColumnDataSource\"},{\"attributes\":{},\"id\":\"ead98287-a82d-448b-99fc-995d65e0e27f\",\"type\":\"WheelZoomTool\"},{\"attributes\":{\"plot\":{\"id\":\"708bcdc6-864e-463d-b8cf-ef3631fa5ce5\",\"subtype\":\"Figure\",\"type\":\"Plot\"},\"source\":{\"id\":\"4f473d53-4811-4157-a70f-e592b049cdc6\",\"type\":\"ColumnDataSource\"},\"text\":{\"field\":\"names\"},\"text_align\":\"center\",\"text_color\":{\"value\":\"#555555\"},\"text_font_size\":{\"value\":\"8pt\"},\"x\":{\"field\":\"x1\"},\"y\":{\"field\":\"x2\"},\"y_offset\":{\"value\":6}},\"id\":\"f48823e5-c743-4e0e-b890-048dbcbf0ba2\",\"type\":\"LabelSet\"},{\"attributes\":{},\"id\":\"fa943d6f-f4e3-4159-b281-b6e9ffc0eae8\",\"type\":\"ResetTool\"},{\"attributes\":{\"formatter\":{\"id\":\"5f726f27-bada-4d12-bb79-90cc768c1ae0\",\"type\":\"BasicTickFormatter\"},\"plot\":{\"id\":\"708bcdc6-864e-463d-b8cf-ef3631fa5ce5\",\"subtype\":\"Figure\",\"type\":\"Plot\"},\"ticker\":{\"id\":\"6f900372-7df5-4730-a1aa-d48223d3a7fa\",\"type\":\"BasicTicker\"}},\"id\":\"918a4ee1-eb94-4782-a2c1-29f4676575a1\",\"type\":\"LinearAxis\"},{\"attributes\":{\"plot\":null,\"text\":\"word2vec T-SNE for most common words\"},\"id\":\"f58e9012-1803-4758-a31e-9632ea0f7708\",\"type\":\"Title\"},{\"attributes\":{},\"id\":\"ce3c2bdb-51b1-478b-abf2-e5d6c36b9f03\",\"type\":\"SaveTool\"},{\"attributes\":{\"callback\":null},\"id\":\"9f98bfa3-8341-426f-b004-1b1018ce5817\",\"type\":\"DataRange1d\"},{\"attributes\":{\"fill_color\":{\"value\":\"#1f77b4\"},\"line_color\":{\"value\":\"#1f77b4\"},\"size\":{\"units\":\"screen\",\"value\":8},\"x\":{\"field\":\"x1\"},\"y\":{\"field\":\"x2\"}},\"id\":\"c639d0cc-9426-4645-91a7-fbcab680d9e4\",\"type\":\"Circle\"},{\"attributes\":{\"active_drag\":\"auto\",\"active_inspect\":\"auto\",\"active_scroll\":\"auto\",\"active_tap\":\"auto\",\"tools\":[{\"id\":\"de806e7e-bdc3-42c5-87c4-5124b31b6cb1\",\"type\":\"PanTool\"},{\"id\":\"ead98287-a82d-448b-99fc-995d65e0e27f\",\"type\":\"WheelZoomTool\"},{\"id\":\"fa943d6f-f4e3-4159-b281-b6e9ffc0eae8\",\"type\":\"ResetTool\"},{\"id\":\"ce3c2bdb-51b1-478b-abf2-e5d6c36b9f03\",\"type\":\"SaveTool\"}]},\"id\":\"9a1b0215-3aa2-490a-96bd-f1f0961d88a0\",\"type\":\"Toolbar\"},{\"attributes\":{},\"id\":\"6f900372-7df5-4730-a1aa-d48223d3a7fa\",\"type\":\"BasicTicker\"},{\"attributes\":{\"source\":{\"id\":\"4f473d53-4811-4157-a70f-e592b049cdc6\",\"type\":\"ColumnDataSource\"}},\"id\":\"ab276035-ff66-4274-9da2-b4db7ef46167\",\"type\":\"CDSView\"},{\"attributes\":{},\"id\":\"3000cbaf-12aa-4128-b274-574cf6788ce8\",\"type\":\"LinearScale\"},{\"attributes\":{\"callback\":null},\"id\":\"f60c8e67-8817-4090-a819-280cd5dc45af\",\"type\":\"DataRange1d\"},{\"attributes\":{},\"id\":\"560e7338-3a9f-408e-9291-2e8a00340788\",\"type\":\"BasicTickFormatter\"},{\"attributes\":{},\"id\":\"f873ff7b-9cf5-4a6a-bfc5-13cb51216662\",\"type\":\"LinearScale\"},{\"attributes\":{\"plot\":{\"id\":\"708bcdc6-864e-463d-b8cf-ef3631fa5ce5\",\"subtype\":\"Figure\",\"type\":\"Plot\"},\"ticker\":{\"id\":\"f8ae4117-c03b-4d2e-8380-6946264e1cd2\",\"type\":\"BasicTicker\"}},\"id\":\"73b08823-6b95-46b4-b391-3f72027ebc96\",\"type\":\"Grid\"},{\"attributes\":{\"formatter\":{\"id\":\"560e7338-3a9f-408e-9291-2e8a00340788\",\"type\":\"BasicTickFormatter\"},\"plot\":{\"id\":\"708bcdc6-864e-463d-b8cf-ef3631fa5ce5\",\"subtype\":\"Figure\",\"type\":\"Plot\"},\"ticker\":{\"id\":\"f8ae4117-c03b-4d2e-8380-6946264e1cd2\",\"type\":\"BasicTicker\"}},\"id\":\"93e89952-6286-4dfe-a957-6000b9f9548e\",\"type\":\"LinearAxis\"},{\"attributes\":{},\"id\":\"f8ae4117-c03b-4d2e-8380-6946264e1cd2\",\"type\":\"BasicTicker\"},{\"attributes\":{},\"id\":\"5f726f27-bada-4d12-bb79-90cc768c1ae0\",\"type\":\"BasicTickFormatter\"},{\"attributes\":{\"dimension\":1,\"plot\":{\"id\":\"708bcdc6-864e-463d-b8cf-ef3631fa5ce5\",\"subtype\":\"Figure\",\"type\":\"Plot\"},\"ticker\":{\"id\":\"6f900372-7df5-4730-a1aa-d48223d3a7fa\",\"type\":\"BasicTicker\"}},\"id\":\"a365be8d-2650-4826-af47-c7aaec221c47\",\"type\":\"Grid\"},{\"attributes\":{\"fill_alpha\":{\"value\":0.1},\"fill_color\":{\"value\":\"#1f77b4\"},\"line_alpha\":{\"value\":0.1},\"line_color\":{\"value\":\"#1f77b4\"},\"size\":{\"units\":\"screen\",\"value\":8},\"x\":{\"field\":\"x1\"},\"y\":{\"field\":\"x2\"}},\"id\":\"48a97bf0-6ec2-4720-84f2-23e9ec92fb67\",\"type\":\"Circle\"},{\"attributes\":{},\"id\":\"de806e7e-bdc3-42c5-87c4-5124b31b6cb1\",\"type\":\"PanTool\"},{\"attributes\":{\"below\":[{\"id\":\"93e89952-6286-4dfe-a957-6000b9f9548e\",\"type\":\"LinearAxis\"}],\"left\":[{\"id\":\"918a4ee1-eb94-4782-a2c1-29f4676575a1\",\"type\":\"LinearAxis\"}],\"renderers\":[{\"id\":\"93e89952-6286-4dfe-a957-6000b9f9548e\",\"type\":\"LinearAxis\"},{\"id\":\"73b08823-6b95-46b4-b391-3f72027ebc96\",\"type\":\"Grid\"},{\"id\":\"918a4ee1-eb94-4782-a2c1-29f4676575a1\",\"type\":\"LinearAxis\"},{\"id\":\"a365be8d-2650-4826-af47-c7aaec221c47\",\"type\":\"Grid\"},{\"id\":\"6effcbf1-fee0-4630-9b2a-174bafefe461\",\"type\":\"GlyphRenderer\"},{\"id\":\"f48823e5-c743-4e0e-b890-048dbcbf0ba2\",\"type\":\"LabelSet\"}],\"title\":{\"id\":\"f58e9012-1803-4758-a31e-9632ea0f7708\",\"type\":\"Title\"},\"toolbar\":{\"id\":\"9a1b0215-3aa2-490a-96bd-f1f0961d88a0\",\"type\":\"Toolbar\"},\"toolbar_location\":\"above\",\"x_range\":{\"id\":\"9f98bfa3-8341-426f-b004-1b1018ce5817\",\"type\":\"DataRange1d\"},\"x_scale\":{\"id\":\"3000cbaf-12aa-4128-b274-574cf6788ce8\",\"type\":\"LinearScale\"},\"y_range\":{\"id\":\"f60c8e67-8817-4090-a819-280cd5dc45af\",\"type\":\"DataRange1d\"},\"y_scale\":{\"id\":\"f873ff7b-9cf5-4a6a-bfc5-13cb51216662\",\"type\":\"LinearScale\"}},\"id\":\"708bcdc6-864e-463d-b8cf-ef3631fa5ce5\",\"subtype\":\"Figure\",\"type\":\"Plot\"}],\"root_ids\":[\"708bcdc6-864e-463d-b8cf-ef3631fa5ce5\"]},\"title\":\"Bokeh Application\",\"version\":\"0.12.7\"}};\n",
       "            var render_items = [{\"docid\":\"95959ff3-da43-4b15-8d94-b291a2f2cefa\",\"elementid\":\"0e21bfa9-bf4f-4595-b02d-2498600640ee\",\"modelid\":\"708bcdc6-864e-463d-b8cf-ef3631fa5ce5\"}];\n",
       "            \n",
       "            Bokeh.embed.embed_items(docs_json, render_items);\n",
       "          };\n",
       "          if (document.readyState != \"loading\") fn();\n",
       "          else document.addEventListener(\"DOMContentLoaded\", fn);\n",
       "        })();\n",
       "      },\n",
       "      function(Bokeh) {\n",
       "      }\n",
       "    ];\n",
       "  \n",
       "    function run_inline_js() {\n",
       "      \n",
       "      if ((root.Bokeh !== undefined) || (force === true)) {\n",
       "        for (var i = 0; i < inline_js.length; i++) {\n",
       "          inline_js[i].call(root, root.Bokeh);\n",
       "        }if (force === true) {\n",
       "          display_loaded();\n",
       "        }} else if (Date.now() < root._bokeh_timeout) {\n",
       "        setTimeout(run_inline_js, 100);\n",
       "      } else if (!root._bokeh_failed_load) {\n",
       "        console.log(\"Bokeh: BokehJS failed to load within specified timeout.\");\n",
       "        root._bokeh_failed_load = true;\n",
       "      } else if (force !== true) {\n",
       "        var cell = $(document.getElementById(\"0e21bfa9-bf4f-4595-b02d-2498600640ee\")).parents('.cell').data().cell;\n",
       "        cell.output_area.append_execute_result(NB_LOAD_WARNING)\n",
       "      }\n",
       "  \n",
       "    }\n",
       "  \n",
       "    if (root._bokeh_is_loading === 0) {\n",
       "      console.log(\"Bokeh: BokehJS loaded, going straight to plotting\");\n",
       "      run_inline_js();\n",
       "    } else {\n",
       "      load_libs(js_urls, function() {\n",
       "        console.log(\"Bokeh: BokehJS plotting callback run at\", now());\n",
       "        run_inline_js();\n",
       "      });\n",
       "    }\n",
       "  }(window));\n",
       "</script>"
      ]
     },
     "metadata": {},
     "output_type": "display_data"
    }
   ],
   "source": [
    "p = figure(tools=\"pan,wheel_zoom,reset,save\",\n",
    "           toolbar_location=\"above\",\n",
    "           title=\"word2vec T-SNE for most common words\")\n",
    "\n",
    "source = ColumnDataSource(data=dict(x1=words_top_wiki_tsne[:,0],\n",
    "                                    x2=words_top_wiki_tsne[:,1],\n",
    "                                    names=words_top_wiki[:1000]))\n",
    "\n",
    "p.scatter(x=\"x1\", y=\"x2\", size=8, source=source)\n",
    "\n",
    "labels = LabelSet(x=\"x1\", y=\"x2\", text=\"names\", y_offset=6,\n",
    "                  text_font_size=\"8pt\", text_color=\"#555555\",\n",
    "                  source=source, text_align='center')\n",
    "p.add_layout(labels)\n",
    "\n",
    "show(p)"
   ]
  },
  {
   "cell_type": "code",
   "execution_count": null,
   "metadata": {
    "collapsed": true
   },
   "outputs": [],
   "source": []
  }
 ],
 "metadata": {
  "anaconda-cloud": {},
  "kernelspec": {
   "display_name": "Python 3",
   "language": "python",
   "name": "python3"
  },
  "language_info": {
   "codemirror_mode": {
    "name": "ipython",
    "version": 3
   },
   "file_extension": ".py",
   "mimetype": "text/x-python",
   "name": "python",
   "nbconvert_exporter": "python",
   "pygments_lexer": "ipython3",
   "version": "3.6.2"
  }
 },
 "nbformat": 4,
 "nbformat_minor": 1
}
