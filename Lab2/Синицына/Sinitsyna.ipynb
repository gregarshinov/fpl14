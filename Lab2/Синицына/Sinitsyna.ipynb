{
 "cells": [
  {
   "cell_type": "markdown",
   "metadata": {},
   "source": [
    "## Practical 1: word2vec\n",
    "<p>Oxford CS - Deep NLP 2017<br>\n",
    "https://www.cs.ox.ac.uk/teaching/courses/2016-2017/dl/</p>\n",
    "<p>[Yannis Assael, Brendan Shillingford, Chris Dyer]</p>"
   ]
  },
  {
   "cell_type": "markdown",
   "metadata": {},
   "source": [
    "This practical is presented as an IPython Notebook, with the code written for recent versions of **Python 3**. The code in this practical will not work with Python 2 unless you modify it. If you are using your own Python installation, ensure you have a setup identical to that described in the installation shell script (which is intended for use with the department lab machines). We will be unable to support installation on personal machines due to time constraints, so please use the lab machines and the setup script if you are unfamiliar with how to install Anaconda.\n",
    "\n",
    "To execute a notebook cell, press `shift-enter`. The return value of the last command will be displayed, if it is not `None`.\n",
    "\n",
    "Potentially useful library documentation, references, and resources:\n",
    "\n",
    "* IPython notebooks: <https://ipython.org/ipython-doc/3/notebook/notebook.html#introduction>\n",
    "* Numpy numerical array library: <https://docs.scipy.org/doc/>\n",
    "* Gensim's word2vec: <https://radimrehurek.com/gensim/models/word2vec.html>\n",
    "* Bokeh interactive plots: <http://bokeh.pydata.org/en/latest/> (we provide plotting code here, but click the thumbnails for more examples to copy-paste)\n",
    "* scikit-learn ML library (aka `sklearn`): <http://scikit-learn.org/stable/documentation.html>\n",
    "* nltk NLP toolkit: <http://www.nltk.org/>\n",
    "* tutorial for processing xml in python using `lxml`: <http://lxml.de/tutorial.html> (we did this for you below, but in case you need it in the future)"
   ]
  },
  {
   "cell_type": "code",
   "execution_count": 1,
   "metadata": {
    "collapsed": false
   },
   "outputs": [],
   "source": [
    "import numpy as np\n",
    "import os\n",
    "from random import shuffle\n",
    "import re"
   ]
  },
  {
   "cell_type": "code",
   "execution_count": 2,
   "metadata": {
    "collapsed": false
   },
   "outputs": [
    {
     "data": {
      "text/html": [
       "\n",
       "    <div class=\"bk-root\">\n",
       "        <a href=\"http://bokeh.pydata.org\" target=\"_blank\" class=\"bk-logo bk-logo-small bk-logo-notebook\"></a>\n",
       "        <span id=\"1b4e7366-ee1b-4f77-802e-6f4d23c80d17\">Loading BokehJS ...</span>\n",
       "    </div>"
      ]
     },
     "metadata": {},
     "output_type": "display_data"
    },
    {
     "data": {
      "application/javascript": [
       "\n",
       "(function(global) {\n",
       "  function now() {\n",
       "    return new Date();\n",
       "  }\n",
       "\n",
       "  var force = true;\n",
       "\n",
       "  if (typeof (window._bokeh_onload_callbacks) === \"undefined\" || force === true) {\n",
       "    window._bokeh_onload_callbacks = [];\n",
       "    window._bokeh_is_loading = undefined;\n",
       "  }\n",
       "\n",
       "\n",
       "  \n",
       "  if (typeof (window._bokeh_timeout) === \"undefined\" || force === true) {\n",
       "    window._bokeh_timeout = Date.now() + 5000;\n",
       "    window._bokeh_failed_load = false;\n",
       "  }\n",
       "\n",
       "  var NB_LOAD_WARNING = {'data': {'text/html':\n",
       "     \"<div style='background-color: #fdd'>\\n\"+\n",
       "     \"<p>\\n\"+\n",
       "     \"BokehJS does not appear to have successfully loaded. If loading BokehJS from CDN, this \\n\"+\n",
       "     \"may be due to a slow or bad network connection. Possible fixes:\\n\"+\n",
       "     \"</p>\\n\"+\n",
       "     \"<ul>\\n\"+\n",
       "     \"<li>re-rerun `output_notebook()` to attempt to load from CDN again, or</li>\\n\"+\n",
       "     \"<li>use INLINE resources instead, as so:</li>\\n\"+\n",
       "     \"</ul>\\n\"+\n",
       "     \"<code>\\n\"+\n",
       "     \"from bokeh.resources import INLINE\\n\"+\n",
       "     \"output_notebook(resources=INLINE)\\n\"+\n",
       "     \"</code>\\n\"+\n",
       "     \"</div>\"}};\n",
       "\n",
       "  function display_loaded() {\n",
       "    if (window.Bokeh !== undefined) {\n",
       "      document.getElementById(\"1b4e7366-ee1b-4f77-802e-6f4d23c80d17\").textContent = \"BokehJS successfully loaded.\";\n",
       "    } else if (Date.now() < window._bokeh_timeout) {\n",
       "      setTimeout(display_loaded, 100)\n",
       "    }\n",
       "  }\n",
       "\n",
       "  function run_callbacks() {\n",
       "    window._bokeh_onload_callbacks.forEach(function(callback) { callback() });\n",
       "    delete window._bokeh_onload_callbacks\n",
       "    console.info(\"Bokeh: all callbacks have finished\");\n",
       "  }\n",
       "\n",
       "  function load_libs(js_urls, callback) {\n",
       "    window._bokeh_onload_callbacks.push(callback);\n",
       "    if (window._bokeh_is_loading > 0) {\n",
       "      console.log(\"Bokeh: BokehJS is being loaded, scheduling callback at\", now());\n",
       "      return null;\n",
       "    }\n",
       "    if (js_urls == null || js_urls.length === 0) {\n",
       "      run_callbacks();\n",
       "      return null;\n",
       "    }\n",
       "    console.log(\"Bokeh: BokehJS not loaded, scheduling load and callback at\", now());\n",
       "    window._bokeh_is_loading = js_urls.length;\n",
       "    for (var i = 0; i < js_urls.length; i++) {\n",
       "      var url = js_urls[i];\n",
       "      var s = document.createElement('script');\n",
       "      s.src = url;\n",
       "      s.async = false;\n",
       "      s.onreadystatechange = s.onload = function() {\n",
       "        window._bokeh_is_loading--;\n",
       "        if (window._bokeh_is_loading === 0) {\n",
       "          console.log(\"Bokeh: all BokehJS libraries loaded\");\n",
       "          run_callbacks()\n",
       "        }\n",
       "      };\n",
       "      s.onerror = function() {\n",
       "        console.warn(\"failed to load library \" + url);\n",
       "      };\n",
       "      console.log(\"Bokeh: injecting script tag for BokehJS library: \", url);\n",
       "      document.getElementsByTagName(\"head\")[0].appendChild(s);\n",
       "    }\n",
       "  };var element = document.getElementById(\"1b4e7366-ee1b-4f77-802e-6f4d23c80d17\");\n",
       "  if (element == null) {\n",
       "    console.log(\"Bokeh: ERROR: autoload.js configured with elementid '1b4e7366-ee1b-4f77-802e-6f4d23c80d17' but no matching script tag was found. \")\n",
       "    return false;\n",
       "  }\n",
       "\n",
       "  var js_urls = [\"https://cdn.pydata.org/bokeh/release/bokeh-0.12.4.min.js\", \"https://cdn.pydata.org/bokeh/release/bokeh-widgets-0.12.4.min.js\"];\n",
       "\n",
       "  var inline_js = [\n",
       "    function(Bokeh) {\n",
       "      Bokeh.set_log_level(\"info\");\n",
       "    },\n",
       "    \n",
       "    function(Bokeh) {\n",
       "      \n",
       "      document.getElementById(\"1b4e7366-ee1b-4f77-802e-6f4d23c80d17\").textContent = \"BokehJS is loading...\";\n",
       "    },\n",
       "    function(Bokeh) {\n",
       "      console.log(\"Bokeh: injecting CSS: https://cdn.pydata.org/bokeh/release/bokeh-0.12.4.min.css\");\n",
       "      Bokeh.embed.inject_css(\"https://cdn.pydata.org/bokeh/release/bokeh-0.12.4.min.css\");\n",
       "      console.log(\"Bokeh: injecting CSS: https://cdn.pydata.org/bokeh/release/bokeh-widgets-0.12.4.min.css\");\n",
       "      Bokeh.embed.inject_css(\"https://cdn.pydata.org/bokeh/release/bokeh-widgets-0.12.4.min.css\");\n",
       "    }\n",
       "  ];\n",
       "\n",
       "  function run_inline_js() {\n",
       "    \n",
       "    if ((window.Bokeh !== undefined) || (force === true)) {\n",
       "      for (var i = 0; i < inline_js.length; i++) {\n",
       "        inline_js[i](window.Bokeh);\n",
       "      }if (force === true) {\n",
       "        display_loaded();\n",
       "      }} else if (Date.now() < window._bokeh_timeout) {\n",
       "      setTimeout(run_inline_js, 100);\n",
       "    } else if (!window._bokeh_failed_load) {\n",
       "      console.log(\"Bokeh: BokehJS failed to load within specified timeout.\");\n",
       "      window._bokeh_failed_load = true;\n",
       "    } else if (force !== true) {\n",
       "      var cell = $(document.getElementById(\"1b4e7366-ee1b-4f77-802e-6f4d23c80d17\")).parents('.cell').data().cell;\n",
       "      cell.output_area.append_execute_result(NB_LOAD_WARNING)\n",
       "    }\n",
       "\n",
       "  }\n",
       "\n",
       "  if (window._bokeh_is_loading === 0) {\n",
       "    console.log(\"Bokeh: BokehJS loaded, going straight to plotting\");\n",
       "    run_inline_js();\n",
       "  } else {\n",
       "    load_libs(js_urls, function() {\n",
       "      console.log(\"Bokeh: BokehJS plotting callback run at\", now());\n",
       "      run_inline_js();\n",
       "    });\n",
       "  }\n",
       "}(this));"
      ]
     },
     "metadata": {},
     "output_type": "display_data"
    }
   ],
   "source": [
    "from bokeh.models import ColumnDataSource, LabelSet\n",
    "from bokeh.plotting import figure, show, output_file\n",
    "from bokeh.io import output_notebook\n",
    "output_notebook()"
   ]
  },
  {
   "cell_type": "markdown",
   "metadata": {},
   "source": [
    "### Part 0: Download the TED dataset"
   ]
  },
  {
   "cell_type": "code",
   "execution_count": 3,
   "metadata": {
    "collapsed": false
   },
   "outputs": [],
   "source": [
    "import urllib.request\n",
    "import zipfile\n",
    "import lxml.etree"
   ]
  },
  {
   "cell_type": "code",
   "execution_count": 4,
   "metadata": {
    "collapsed": false
   },
   "outputs": [],
   "source": [
    "# Download the dataset if it's not already there: this may take a minute as it is 75MB\n",
    "if not os.path.isfile('ted_en-20160408.zip'):\n",
    "    urllib.request.urlretrieve(\"https://wit3.fbk.eu/get.php?path=XML_releases/xml/ted_en-20160408.zip&filename=ted_en-20160408.zip\", filename=\"ted_en-20160408.zip\")"
   ]
  },
  {
   "cell_type": "code",
   "execution_count": 5,
   "metadata": {
    "collapsed": true
   },
   "outputs": [],
   "source": [
    "# For now, we're only interested in the subtitle text, so let's extract that from the XML:\n",
    "with zipfile.ZipFile('ted_en-20160408.zip', 'r') as z:\n",
    "    doc = lxml.etree.parse(z.open('ted_en-20160408.xml', 'r'))\n",
    "input_text = '\\n'.join(doc.xpath('//content/text()'))\n",
    "del doc"
   ]
  },
  {
   "cell_type": "markdown",
   "metadata": {},
   "source": [
    "### Part 1: Preprocessing\n",
    "\n",
    "In this part, we attempt to clean up the raw subtitles a bit, so that we get only sentences. The following substring shows examples of what we're trying to get rid of. Since it's hard to define precisely what we want to get rid of, we'll just use some simple heuristics."
   ]
  },
  {
   "cell_type": "code",
   "execution_count": 6,
   "metadata": {
    "collapsed": false,
    "scrolled": false
   },
   "outputs": [
    {
     "data": {
      "text/plain": [
       "' baby does.\\n(Video) Hyowon Gweon: See this? (Ball squeaks) Did you see that? (Ball squeaks) Cool. See this one? (Ball squeaks) Wow.\\nLaura Schulz: Told you. (Laughs)\\n(Vide'"
      ]
     },
     "execution_count": 6,
     "metadata": {},
     "output_type": "execute_result"
    }
   ],
   "source": [
    "i = input_text.find(\"Hyowon Gweon: See this?\")\n",
    "input_text[i-20:i+150]"
   ]
  },
  {
   "cell_type": "markdown",
   "metadata": {},
   "source": [
    "Let's start by removing all parenthesized strings using a regex:"
   ]
  },
  {
   "cell_type": "code",
   "execution_count": 7,
   "metadata": {
    "collapsed": true
   },
   "outputs": [],
   "source": [
    "input_text_noparens = re.sub(r'\\([^)]*\\)', '', input_text)"
   ]
  },
  {
   "cell_type": "markdown",
   "metadata": {},
   "source": [
    "We can verify the same location in the text is now clean as follows. We won't worry about the irregular spaces since we'll later split the text into sentences and tokenize it anyway."
   ]
  },
  {
   "cell_type": "code",
   "execution_count": 8,
   "metadata": {
    "collapsed": false
   },
   "outputs": [
    {
     "data": {
      "text/plain": [
       "\"hat the baby does.\\n Hyowon Gweon: See this?  Did you see that?  Cool. See this one?  Wow.\\nLaura Schulz: Told you. \\n HG: See this one?  Hey Clara, this one's for you. You \""
      ]
     },
     "execution_count": 8,
     "metadata": {},
     "output_type": "execute_result"
    }
   ],
   "source": [
    "i = input_text_noparens.find(\"Hyowon Gweon: See this?\")\n",
    "input_text_noparens[i-20:i+150]"
   ]
  },
  {
   "cell_type": "markdown",
   "metadata": {},
   "source": [
    "Now, let's attempt to remove speakers' names that occur at the beginning of a line, by deleting pieces of the form \"`<up to 20 characters>:`\", as shown in this example. Of course, this is an imperfect heuristic. "
   ]
  },
  {
   "cell_type": "code",
   "execution_count": 9,
   "metadata": {
    "collapsed": false
   },
   "outputs": [
    {
     "data": {
      "text/plain": [
       "[\"Here are two reasons companies fail: they only do more of the same, or they only do what's new\",\n",
       " 'To me the real, real solution to quality growth is figuring out the balance between two activities: exploration and exploitation',\n",
       " ' Both are necessary, but it can be too much of a good thing',\n",
       " 'Consider Facit',\n",
       " \" I'm actually old enough to remember them\"]"
      ]
     },
     "execution_count": 9,
     "metadata": {},
     "output_type": "execute_result"
    }
   ],
   "source": [
    "sentences_strings_ted = []\n",
    "for line in input_text_noparens.split('\\n'):\n",
    "    m = re.match(r'^(?:(?P<precolon>[^:]{,20}):)?(?P<postcolon>.*)$', line)\n",
    "    sentences_strings_ted.extend(sent for sent in m.groupdict()['postcolon'].split('.') if sent)\n",
    "\n",
    "# Uncomment if you need to save some RAM: these strings are about 50MB.\n",
    "# del input_text, input_text_noparens\n",
    "\n",
    "# Let's view the first few:\n",
    "sentences_strings_ted[:5]"
   ]
  },
  {
   "cell_type": "markdown",
   "metadata": {},
   "source": [
    "Now that we have sentences, we're ready to tokenize each of them into words. This tokenization is imperfect, of course. For instance, how many tokens is \"can't\", and where/how do we split it? We'll take the simplest naive approach of splitting on spaces. Before splitting, we remove non-alphanumeric characters, such as punctuation. You may want to consider the following question: why do we replace these characters with spaces rather than deleting them? Think of a case where this yields a different answer."
   ]
  },
  {
   "cell_type": "code",
   "execution_count": 10,
   "metadata": {
    "collapsed": false
   },
   "outputs": [],
   "source": [
    "sentences_ted = []\n",
    "for sent_str in sentences_strings_ted:\n",
    "    tokens = re.sub(r\"[^a-z0-9]+\", \" \", sent_str.lower()).split()\n",
    "    sentences_ted.append(tokens)"
   ]
  },
  {
   "cell_type": "markdown",
   "metadata": {},
   "source": [
    "Two sample processed sentences:"
   ]
  },
  {
   "cell_type": "code",
   "execution_count": 11,
   "metadata": {
    "collapsed": false
   },
   "outputs": [
    {
     "data": {
      "text/plain": [
       "266694"
      ]
     },
     "execution_count": 11,
     "metadata": {},
     "output_type": "execute_result"
    }
   ],
   "source": [
    "len(sentences_ted)"
   ]
  },
  {
   "cell_type": "code",
   "execution_count": 12,
   "metadata": {
    "collapsed": false
   },
   "outputs": [
    {
     "name": "stdout",
     "output_type": "stream",
     "text": [
      "['here', 'are', 'two', 'reasons', 'companies', 'fail', 'they', 'only', 'do', 'more', 'of', 'the', 'same', 'or', 'they', 'only', 'do', 'what', 's', 'new']\n",
      "['to', 'me', 'the', 'real', 'real', 'solution', 'to', 'quality', 'growth', 'is', 'figuring', 'out', 'the', 'balance', 'between', 'two', 'activities', 'exploration', 'and', 'exploitation']\n"
     ]
    }
   ],
   "source": [
    "print(sentences_ted[0])\n",
    "print(sentences_ted[1])"
   ]
  },
  {
   "cell_type": "markdown",
   "metadata": {},
   "source": [
    "### Part 2: Word Frequencies"
   ]
  },
  {
   "cell_type": "markdown",
   "metadata": {},
   "source": [
    "If you store the counts of the top 1000 words in a list called `counts_ted_top1000`, the code below will plot the histogram requested in the writeup."
   ]
  },
  {
   "cell_type": "code",
   "execution_count": 13,
   "metadata": {
    "collapsed": false
   },
   "outputs": [],
   "source": [
    "counts_ted_top1000_start = {}\n",
    "for sentence in sentences_ted:\n",
    "    for word in sentence:\n",
    "        if word not in counts_ted_top1000_start:\n",
    "            counts_ted_top1000_start[word] = 1\n",
    "        else:\n",
    "            counts_ted_top1000_start[word] += 1\n",
    "counts_ted_top1000 = list(reversed(sorted(list(counts_ted_top1000_start.values()))))[:1000]"
   ]
  },
  {
   "cell_type": "code",
   "execution_count": 14,
   "metadata": {
    "collapsed": false
   },
   "outputs": [
    {
     "name": "stdout",
     "output_type": "stream",
     "text": [
      "['the', 'and', 'to', 'of', 'a', 'that', 'i', 'in', 'it', 'you']\n"
     ]
    }
   ],
   "source": [
    "words = []\n",
    "for word in counts_ted_top1000_start:\n",
    "    for i in counts_ted_top1000:\n",
    "        if (counts_ted_top1000_start[word] == i) and (word, i) not in words:\n",
    "            words.append((word, i))\n",
    "\n",
    "def getKey(item):\n",
    "    return item[1]\n",
    "words = list(reversed(sorted(words, key=getKey)))\n",
    "\n",
    "words_top_ted = []\n",
    "\n",
    "for word, counts in words:\n",
    "    words_top_ted.append(word)\n",
    "print(words_top_ted[:10])"
   ]
  },
  {
   "cell_type": "markdown",
   "metadata": {},
   "source": [
    "Plot distribution of top-1000 words"
   ]
  },
  {
   "cell_type": "code",
   "execution_count": 15,
   "metadata": {
    "collapsed": false
   },
   "outputs": [
    {
     "data": {
      "text/html": [
       "\n",
       "\n",
       "    <div class=\"bk-root\">\n",
       "        <div class=\"bk-plotdiv\" id=\"35bd0cb6-9bd7-4248-977d-81fbbd3d2cc6\"></div>\n",
       "    </div>\n",
       "<script type=\"text/javascript\">\n",
       "  \n",
       "  (function(global) {\n",
       "    function now() {\n",
       "      return new Date();\n",
       "    }\n",
       "  \n",
       "    var force = false;\n",
       "  \n",
       "    if (typeof (window._bokeh_onload_callbacks) === \"undefined\" || force === true) {\n",
       "      window._bokeh_onload_callbacks = [];\n",
       "      window._bokeh_is_loading = undefined;\n",
       "    }\n",
       "  \n",
       "  \n",
       "    \n",
       "    if (typeof (window._bokeh_timeout) === \"undefined\" || force === true) {\n",
       "      window._bokeh_timeout = Date.now() + 0;\n",
       "      window._bokeh_failed_load = false;\n",
       "    }\n",
       "  \n",
       "    var NB_LOAD_WARNING = {'data': {'text/html':\n",
       "       \"<div style='background-color: #fdd'>\\n\"+\n",
       "       \"<p>\\n\"+\n",
       "       \"BokehJS does not appear to have successfully loaded. If loading BokehJS from CDN, this \\n\"+\n",
       "       \"may be due to a slow or bad network connection. Possible fixes:\\n\"+\n",
       "       \"</p>\\n\"+\n",
       "       \"<ul>\\n\"+\n",
       "       \"<li>re-rerun `output_notebook()` to attempt to load from CDN again, or</li>\\n\"+\n",
       "       \"<li>use INLINE resources instead, as so:</li>\\n\"+\n",
       "       \"</ul>\\n\"+\n",
       "       \"<code>\\n\"+\n",
       "       \"from bokeh.resources import INLINE\\n\"+\n",
       "       \"output_notebook(resources=INLINE)\\n\"+\n",
       "       \"</code>\\n\"+\n",
       "       \"</div>\"}};\n",
       "  \n",
       "    function display_loaded() {\n",
       "      if (window.Bokeh !== undefined) {\n",
       "        document.getElementById(\"35bd0cb6-9bd7-4248-977d-81fbbd3d2cc6\").textContent = \"BokehJS successfully loaded.\";\n",
       "      } else if (Date.now() < window._bokeh_timeout) {\n",
       "        setTimeout(display_loaded, 100)\n",
       "      }\n",
       "    }\n",
       "  \n",
       "    function run_callbacks() {\n",
       "      window._bokeh_onload_callbacks.forEach(function(callback) { callback() });\n",
       "      delete window._bokeh_onload_callbacks\n",
       "      console.info(\"Bokeh: all callbacks have finished\");\n",
       "    }\n",
       "  \n",
       "    function load_libs(js_urls, callback) {\n",
       "      window._bokeh_onload_callbacks.push(callback);\n",
       "      if (window._bokeh_is_loading > 0) {\n",
       "        console.log(\"Bokeh: BokehJS is being loaded, scheduling callback at\", now());\n",
       "        return null;\n",
       "      }\n",
       "      if (js_urls == null || js_urls.length === 0) {\n",
       "        run_callbacks();\n",
       "        return null;\n",
       "      }\n",
       "      console.log(\"Bokeh: BokehJS not loaded, scheduling load and callback at\", now());\n",
       "      window._bokeh_is_loading = js_urls.length;\n",
       "      for (var i = 0; i < js_urls.length; i++) {\n",
       "        var url = js_urls[i];\n",
       "        var s = document.createElement('script');\n",
       "        s.src = url;\n",
       "        s.async = false;\n",
       "        s.onreadystatechange = s.onload = function() {\n",
       "          window._bokeh_is_loading--;\n",
       "          if (window._bokeh_is_loading === 0) {\n",
       "            console.log(\"Bokeh: all BokehJS libraries loaded\");\n",
       "            run_callbacks()\n",
       "          }\n",
       "        };\n",
       "        s.onerror = function() {\n",
       "          console.warn(\"failed to load library \" + url);\n",
       "        };\n",
       "        console.log(\"Bokeh: injecting script tag for BokehJS library: \", url);\n",
       "        document.getElementsByTagName(\"head\")[0].appendChild(s);\n",
       "      }\n",
       "    };var element = document.getElementById(\"35bd0cb6-9bd7-4248-977d-81fbbd3d2cc6\");\n",
       "    if (element == null) {\n",
       "      console.log(\"Bokeh: ERROR: autoload.js configured with elementid '35bd0cb6-9bd7-4248-977d-81fbbd3d2cc6' but no matching script tag was found. \")\n",
       "      return false;\n",
       "    }\n",
       "  \n",
       "    var js_urls = [];\n",
       "  \n",
       "    var inline_js = [\n",
       "      function(Bokeh) {\n",
       "        (function() {\n",
       "          var fn = function() {\n",
       "            var docs_json = {\"b8b06233-df28-46e5-a251-54002504ee3f\":{\"roots\":{\"references\":[{\"attributes\":{},\"id\":\"d312d63a-8fa8-4712-be66-36c7ea404304\",\"type\":\"BasicTickFormatter\"},{\"attributes\":{\"plot\":null,\"text\":\"Top-1000 words distribution\"},\"id\":\"aaa265fd-84fe-48c4-8071-3f9be8cae0c5\",\"type\":\"Title\"},{\"attributes\":{},\"id\":\"163e513f-eafe-42d6-9273-69b25d00babb\",\"type\":\"BasicTicker\"},{\"attributes\":{\"callback\":null},\"id\":\"d49447f4-e46c-451b-a182-fba38c70f898\",\"type\":\"DataRange1d\"},{\"attributes\":{\"formatter\":{\"id\":\"3c8e9dc6-d1f0-4727-b7b6-abf305651166\",\"type\":\"BasicTickFormatter\"},\"plot\":{\"id\":\"5438a276-5fd9-42e3-b3a0-6a85ff8dc8da\",\"subtype\":\"Figure\",\"type\":\"Plot\"},\"ticker\":{\"id\":\"163e513f-eafe-42d6-9273-69b25d00babb\",\"type\":\"BasicTicker\"}},\"id\":\"3f9b966b-d71a-4287-8cf8-58ae7cbd67d8\",\"type\":\"LinearAxis\"},{\"attributes\":{\"callback\":null},\"id\":\"fff107ea-6ca8-4bbd-913e-57bcc2b7ffc1\",\"type\":\"DataRange1d\"},{\"attributes\":{},\"id\":\"04efe854-2b34-44a1-8c62-a62499d8fc8f\",\"type\":\"ToolEvents\"},{\"attributes\":{\"active_drag\":\"auto\",\"active_scroll\":\"auto\",\"active_tap\":\"auto\",\"tools\":[{\"id\":\"00102821-6b22-411d-a36a-1d5039f8ad93\",\"type\":\"PanTool\"},{\"id\":\"5642871e-2790-4928-b81e-4ccf6209e565\",\"type\":\"WheelZoomTool\"},{\"id\":\"76190cb8-187d-4aac-9abc-01520ce4dc7d\",\"type\":\"ResetTool\"},{\"id\":\"67008f10-5d1d-4c7a-bca8-090f2ce1ebe1\",\"type\":\"SaveTool\"}]},\"id\":\"f16307df-e6d1-47d7-b4f3-db91d91b9cc2\",\"type\":\"Toolbar\"},{\"attributes\":{\"plot\":{\"id\":\"5438a276-5fd9-42e3-b3a0-6a85ff8dc8da\",\"subtype\":\"Figure\",\"type\":\"Plot\"},\"ticker\":{\"id\":\"163e513f-eafe-42d6-9273-69b25d00babb\",\"type\":\"BasicTicker\"}},\"id\":\"a0d9b876-d773-4f67-a0e2-c23effe0295d\",\"type\":\"Grid\"},{\"attributes\":{\"formatter\":{\"id\":\"d312d63a-8fa8-4712-be66-36c7ea404304\",\"type\":\"BasicTickFormatter\"},\"plot\":{\"id\":\"5438a276-5fd9-42e3-b3a0-6a85ff8dc8da\",\"subtype\":\"Figure\",\"type\":\"Plot\"},\"ticker\":{\"id\":\"91bc5df5-e0ee-41bd-a651-d3893984c01c\",\"type\":\"BasicTicker\"}},\"id\":\"15121d55-c851-46d6-ae0c-218d127b1f36\",\"type\":\"LinearAxis\"},{\"attributes\":{},\"id\":\"91bc5df5-e0ee-41bd-a651-d3893984c01c\",\"type\":\"BasicTicker\"},{\"attributes\":{\"dimension\":1,\"plot\":{\"id\":\"5438a276-5fd9-42e3-b3a0-6a85ff8dc8da\",\"subtype\":\"Figure\",\"type\":\"Plot\"},\"ticker\":{\"id\":\"91bc5df5-e0ee-41bd-a651-d3893984c01c\",\"type\":\"BasicTicker\"}},\"id\":\"8e8861bf-183e-44d3-b0fc-ad0876301bc0\",\"type\":\"Grid\"},{\"attributes\":{\"bottom\":{\"value\":0},\"fill_color\":{\"value\":\"#1f77b4\"},\"left\":{\"field\":\"left\"},\"line_color\":{\"value\":\"#555555\"},\"right\":{\"field\":\"right\"},\"top\":{\"field\":\"top\"}},\"id\":\"960aac98-695d-43f0-ab76-7771502669ca\",\"type\":\"Quad\"},{\"attributes\":{\"plot\":{\"id\":\"5438a276-5fd9-42e3-b3a0-6a85ff8dc8da\",\"subtype\":\"Figure\",\"type\":\"Plot\"}},\"id\":\"00102821-6b22-411d-a36a-1d5039f8ad93\",\"type\":\"PanTool\"},{\"attributes\":{\"bottom\":{\"value\":0},\"fill_alpha\":{\"value\":0.1},\"fill_color\":{\"value\":\"#1f77b4\"},\"left\":{\"field\":\"left\"},\"line_alpha\":{\"value\":0.1},\"line_color\":{\"value\":\"#1f77b4\"},\"right\":{\"field\":\"right\"},\"top\":{\"field\":\"top\"}},\"id\":\"486e971c-eead-4ac6-9b69-1b5cff0b3263\",\"type\":\"Quad\"},{\"attributes\":{\"callback\":null,\"column_names\":[\"left\",\"right\",\"top\"],\"data\":{\"left\":{\"__ndarray__\":\"rUja5nIBGECzXjqtX0EYQLp0mnNMgRhAwIr6OTnBGEDHoFoAJgEZQM22usYSQRlA1Mwajf+AGUDa4npT7MAZQOH42hnZABpA5w474MVAGkDuJJumsoAaQPQ6+2yfwBpA+1BbM4wAG0ABZ7v5eEAbQAh9G8BlgBtADpN7hlLAG0AUqdtMPwAcQBu/OxMsQBxAItWb2RiAHEAo6/ufBcAcQC4BXGby/xxANRe8LN8/HUA7LRzzy38dQEJDfLm4vx1ASFncf6X/HUBPbzxGkj8eQFWFnAx/fx5AXJv80mu/HkBisVyZWP8eQGjHvF9FPx9Ab90cJjJ/H0B283zsHr8fQHwJ3bIL/x9AwY+ePHwfIEDEms6fcj8gQMil/gJpXyBAy7AuZl9/IEDOu17JVZ8gQNLGjixMvyBA1dG+j0LfIEDY3O7yOP8gQNvnHlYvHyFA3vJOuSU/IUDi/X4cHF8hQOUIr38SfyFA6BPf4gifIUDrHg9G/74hQO4pP6n13iFA8jRvDOz+IUD1P59v4h4iQPhKz9LYPiJA/FX/Nc9eIkD/YC+ZxX4iQAJsX/y7niJABXePX7K+IkAIgr/CqN4iQAyN7yWf/iJAD5gfiZUeI0ASo0/siz4jQBWuf0+CXiNAGLmvsnh+I0AcxN8Vb54jQB/PD3llviNAIto/3FveI0Am5W8/Uv4jQCjwn6JIHiRALPvPBT8+JEAvBgBpNV4kQDIRMMwrfiRANhxgLyKeJEA5J5CSGL4kQDwywPUO3iRAQD3wWAX+JEBCSCC8+x0lQEZTUB/yPSVASV6AguhdJUBMabDl3n0lQFB04EjVnSVAU38QrMu9JUBWikAPwt0lQFqVcHK4/SVAXKCg1a4dJkBgq9A4pT0mQGO2AJybXSZAZsEw/5F9JkBqzGBiiJ0mQGzXkMV+vSZAcOLAKHXdJkBz7fCLa/0mQHb4IO9hHSdAegNRUlg9J0B9DoG1Tl0nQIAZsRhFfSdAhCThezudJ0CGLxHfMb0nQIo6QUIo3SdAjUVxpR79J0CQUKEIFR0oQJRb0WsLPShAlmYBzwFdKEA=\",\"dtype\":\"float64\",\"shape\":[100]},\"right\":{\"__ndarray__\":\"s146rV9BGEC6dJpzTIEYQMCK+jk5wRhAx6BaACYBGUDNtrrGEkEZQNTMGo3/gBlA2uJ6U+zAGUDh+NoZ2QAaQOcOO+DFQBpA7iSbprKAGkD0Ovtsn8AaQPtQWzOMABtAAWe7+XhAG0AIfRvAZYAbQA6Te4ZSwBtAFKnbTD8AHEAbvzsTLEAcQCLVm9kYgBxAKOv7nwXAHEAuAVxm8v8cQDUXvCzfPx1AOy0c88t/HUBCQ3y5uL8dQEhZ3H+l/x1AT288RpI/HkBVhZwMf38eQFyb/NJrvx5AYrFcmVj/HkBox7xfRT8fQG/dHCYyfx9AdvN87B6/H0B8Cd2yC/8fQMGPnjx8HyBAxJrOn3I/IEDIpf4CaV8gQMuwLmZffyBAzrteyVWfIEDSxo4sTL8gQNXRvo9C3yBA2Nzu8jj/IEDb5x5WLx8hQN7yTrklPyFA4v1+HBxfIUDlCK9/En8hQOgT3+IInyFA6x4PRv++IUDuKT+p9d4hQPI0bwzs/iFA9T+fb+IeIkD4Ss/S2D4iQPxV/zXPXiJA/2AvmcV+IkACbF/8u54iQAV3j1+yviJACIK/wqjeIkAMje8ln/4iQA+YH4mVHiNAEqNP7Is+I0AVrn9Pgl4jQBi5r7J4fiNAHMTfFW+eI0Afzw95Zb4jQCLaP9xb3iNAJuVvP1L+I0Ao8J+iSB4kQCz7zwU/PiRALwYAaTVeJEAyETDMK34kQDYcYC8iniRAOSeQkhi+JEA8MsD1Dt4kQEA98FgF/iRAQkggvPsdJUBGU1Af8j0lQElegILoXSVATGmw5d59JUBQdOBI1Z0lQFN/EKzLvSVAVopAD8LdJUBalXByuP0lQFygoNWuHSZAYKvQOKU9JkBjtgCcm10mQGbBMP+RfSZAasxgYoidJkBs15DFfr0mQHDiwCh13SZAc+3wi2v9JkB2+CDvYR0nQHoDUVJYPSdAfQ6BtU5dJ0CAGbEYRX0nQIQk4Xs7nSdAhi8R3zG9J0CKOkFCKN0nQI1FcaUe/SdAkFChCBUdKECUW9FrCz0oQJZmAc8BXShAmnExMvh8KEA=\",\"dtype\":\"float64\",\"shape\":[100]},\"top\":{\"__ndarray__\":\"zpE7E4/B7j9IUBu2Eh7pP1Wi8mmGJOo/kfPJHfoq6z+sUBu2Eh7pP04adT07Z+A/ig/7WJZ64z+YvSOlInTiPyVAZF8bu90/Thp1PTtn4D8zYdIMCoHUPxr5BpBModk/zpE7E4/B3j91py/c2JrYPw0VOMvo8OE/05y19zOu2z++St5DwKfaP3WnL9zYmtg/gPkGkEyh2T8qS95DwKfaP/NrTPGubdE/OGxM8a5t0T91py/c2JrIPypL3kPAp8o/CO6Mq6e0vD/hvSOlInTSP+Fg0gwKgcQ/16cv3NiayD8zYdIMCoHEPwjujKuntMw/4WDSDAqBxD+PGnU9O2fAPzNh0gwKgbQ/jxp1PTtnwD8MGnU9O2egP3zujKuntLw/16cv3NiaqD8Spy/c2Jq4P9enL9zYmrg/jxp1PTtnkD+PGnU9O2fAP3zujKuntLw/DBp1PTtnsD+PGnU9O2ewP48adT07Z7A/16cv3NiaqD987oyrp7S8P49g0gwKgbQ/jxp1PTtnoD8zYdIMCoG0PwwadT07Z7A/fO6Mq6e0vD+PGnU9O2ewPzNh0gwKgbQ/jxp1PTtnsD8MGnU9O2egP9enL9zYmrg/jxp1PTtnkD+PGnU9O2egP9enL9zYmqg/Eqcv3NiaqD/Xpy/c2JqoP48adT07Z6A/DBp1PTtnoD8TG3U9O2eQPwwadT07Z6A/jxp1PTtnkD+PGnU9O2ewPwwadT07Z5A/jxp1PTtnkD+PGnU9O2eQPwAAAAAAAAAAExt1PTtnkD8AAAAAAAAAAAAAAAAAAAAAAAAAAAAAAAAMGnU9O2eQPwAAAAAAAAAAAAAAAAAAAAAMGnU9O2eQPxMbdT07Z5A/AAAAAAAAAACPGnU9O2egP48adT07Z5A/DBp1PTtnkD8TG3U9O2eQPwAAAAAAAAAAjxp1PTtnkD8AAAAAAAAAAAwadT07Z5A/jxp1PTtnkD+PGnU9O2eQPwAAAAAAAAAAAAAAAAAAAAAMGnU9O2eQPwAAAAAAAAAAAAAAAAAAAAAAAAAAAAAAAAAAAAAAAAAADBp1PTtnkD8=\",\"dtype\":\"float64\",\"shape\":[100]}}},\"id\":\"d365751a-34d5-446d-807d-f2b1f88d06d6\",\"type\":\"ColumnDataSource\"},{\"attributes\":{\"plot\":{\"id\":\"5438a276-5fd9-42e3-b3a0-6a85ff8dc8da\",\"subtype\":\"Figure\",\"type\":\"Plot\"}},\"id\":\"5642871e-2790-4928-b81e-4ccf6209e565\",\"type\":\"WheelZoomTool\"},{\"attributes\":{\"plot\":{\"id\":\"5438a276-5fd9-42e3-b3a0-6a85ff8dc8da\",\"subtype\":\"Figure\",\"type\":\"Plot\"}},\"id\":\"76190cb8-187d-4aac-9abc-01520ce4dc7d\",\"type\":\"ResetTool\"},{\"attributes\":{\"data_source\":{\"id\":\"d365751a-34d5-446d-807d-f2b1f88d06d6\",\"type\":\"ColumnDataSource\"},\"glyph\":{\"id\":\"960aac98-695d-43f0-ab76-7771502669ca\",\"type\":\"Quad\"},\"hover_glyph\":null,\"nonselection_glyph\":{\"id\":\"486e971c-eead-4ac6-9b69-1b5cff0b3263\",\"type\":\"Quad\"},\"selection_glyph\":null},\"id\":\"3e70d666-b386-4826-a2fa-2a30f7c8ab59\",\"type\":\"GlyphRenderer\"},{\"attributes\":{\"plot\":{\"id\":\"5438a276-5fd9-42e3-b3a0-6a85ff8dc8da\",\"subtype\":\"Figure\",\"type\":\"Plot\"}},\"id\":\"67008f10-5d1d-4c7a-bca8-090f2ce1ebe1\",\"type\":\"SaveTool\"},{\"attributes\":{\"below\":[{\"id\":\"3f9b966b-d71a-4287-8cf8-58ae7cbd67d8\",\"type\":\"LinearAxis\"}],\"left\":[{\"id\":\"15121d55-c851-46d6-ae0c-218d127b1f36\",\"type\":\"LinearAxis\"}],\"renderers\":[{\"id\":\"3f9b966b-d71a-4287-8cf8-58ae7cbd67d8\",\"type\":\"LinearAxis\"},{\"id\":\"a0d9b876-d773-4f67-a0e2-c23effe0295d\",\"type\":\"Grid\"},{\"id\":\"15121d55-c851-46d6-ae0c-218d127b1f36\",\"type\":\"LinearAxis\"},{\"id\":\"8e8861bf-183e-44d3-b0fc-ad0876301bc0\",\"type\":\"Grid\"},{\"id\":\"3e70d666-b386-4826-a2fa-2a30f7c8ab59\",\"type\":\"GlyphRenderer\"}],\"title\":{\"id\":\"aaa265fd-84fe-48c4-8071-3f9be8cae0c5\",\"type\":\"Title\"},\"tool_events\":{\"id\":\"04efe854-2b34-44a1-8c62-a62499d8fc8f\",\"type\":\"ToolEvents\"},\"toolbar\":{\"id\":\"f16307df-e6d1-47d7-b4f3-db91d91b9cc2\",\"type\":\"Toolbar\"},\"toolbar_location\":\"above\",\"x_range\":{\"id\":\"fff107ea-6ca8-4bbd-913e-57bcc2b7ffc1\",\"type\":\"DataRange1d\"},\"y_range\":{\"id\":\"d49447f4-e46c-451b-a182-fba38c70f898\",\"type\":\"DataRange1d\"}},\"id\":\"5438a276-5fd9-42e3-b3a0-6a85ff8dc8da\",\"subtype\":\"Figure\",\"type\":\"Plot\"},{\"attributes\":{},\"id\":\"3c8e9dc6-d1f0-4727-b7b6-abf305651166\",\"type\":\"BasicTickFormatter\"}],\"root_ids\":[\"5438a276-5fd9-42e3-b3a0-6a85ff8dc8da\"]},\"title\":\"Bokeh Application\",\"version\":\"0.12.4\"}};\n",
       "            var render_items = [{\"docid\":\"b8b06233-df28-46e5-a251-54002504ee3f\",\"elementid\":\"35bd0cb6-9bd7-4248-977d-81fbbd3d2cc6\",\"modelid\":\"5438a276-5fd9-42e3-b3a0-6a85ff8dc8da\"}];\n",
       "            \n",
       "            Bokeh.embed.embed_items(docs_json, render_items);\n",
       "          };\n",
       "          if (document.readyState != \"loading\") fn();\n",
       "          else document.addEventListener(\"DOMContentLoaded\", fn);\n",
       "        })();\n",
       "      },\n",
       "      function(Bokeh) {\n",
       "      }\n",
       "    ];\n",
       "  \n",
       "    function run_inline_js() {\n",
       "      \n",
       "      if ((window.Bokeh !== undefined) || (force === true)) {\n",
       "        for (var i = 0; i < inline_js.length; i++) {\n",
       "          inline_js[i](window.Bokeh);\n",
       "        }if (force === true) {\n",
       "          display_loaded();\n",
       "        }} else if (Date.now() < window._bokeh_timeout) {\n",
       "        setTimeout(run_inline_js, 100);\n",
       "      } else if (!window._bokeh_failed_load) {\n",
       "        console.log(\"Bokeh: BokehJS failed to load within specified timeout.\");\n",
       "        window._bokeh_failed_load = true;\n",
       "      } else if (force !== true) {\n",
       "        var cell = $(document.getElementById(\"35bd0cb6-9bd7-4248-977d-81fbbd3d2cc6\")).parents('.cell').data().cell;\n",
       "        cell.output_area.append_execute_result(NB_LOAD_WARNING)\n",
       "      }\n",
       "  \n",
       "    }\n",
       "  \n",
       "    if (window._bokeh_is_loading === 0) {\n",
       "      console.log(\"Bokeh: BokehJS loaded, going straight to plotting\");\n",
       "      run_inline_js();\n",
       "    } else {\n",
       "      load_libs(js_urls, function() {\n",
       "        console.log(\"Bokeh: BokehJS plotting callback run at\", now());\n",
       "        run_inline_js();\n",
       "      });\n",
       "    }\n",
       "  }(this));\n",
       "</script>"
      ]
     },
     "metadata": {},
     "output_type": "display_data"
    }
   ],
   "source": [
    "hist, edges = np.histogram(np.log(counts_ted_top1000), density=True, bins=100, normed=True)\n",
    "\n",
    "p = figure(tools=\"pan,wheel_zoom,reset,save\",\n",
    "           toolbar_location=\"above\",\n",
    "           title=\"Top-1000 words distribution\")\n",
    "p.quad(top=hist, bottom=0, left=edges[:-1], right=edges[1:], line_color=\"#555555\")\n",
    "show(p)"
   ]
  },
  {
   "cell_type": "markdown",
   "metadata": {},
   "source": [
    "### Part 3: Train Word2Vec"
   ]
  },
  {
   "cell_type": "code",
   "execution_count": 4,
   "metadata": {
    "collapsed": false,
    "scrolled": true
   },
   "outputs": [
    {
     "name": "stderr",
     "output_type": "stream",
     "text": [
      "C:\\Anaconda3\\lib\\site-packages\\gensim\\utils.py:865: UserWarning: detected Windows; aliasing chunkize to chunkize_serial\n",
      "  warnings.warn(\"detected Windows; aliasing chunkize to chunkize_serial\")\n"
     ]
    }
   ],
   "source": [
    "from gensim.models import Word2Vec"
   ]
  },
  {
   "cell_type": "code",
   "execution_count": 17,
   "metadata": {
    "collapsed": false
   },
   "outputs": [],
   "source": [
    "model_ted = Word2Vec(sentences_ted, size = 100, window = 5, min_count = 5, workers = 4)"
   ]
  },
  {
   "cell_type": "markdown",
   "metadata": {},
   "source": [
    "### Part 4: Ted Learnt Representations"
   ]
  },
  {
   "cell_type": "markdown",
   "metadata": {},
   "source": [
    "Finding similar words: (see gensim docs for more functionality of `most_similar`)"
   ]
  },
  {
   "cell_type": "code",
   "execution_count": 18,
   "metadata": {
    "collapsed": false
   },
   "outputs": [
    {
     "data": {
      "text/plain": [
       "[('woman', 0.8335850238800049),\n",
       " ('guy', 0.8087162971496582),\n",
       " ('lady', 0.7737240195274353),\n",
       " ('boy', 0.7574909925460815),\n",
       " ('girl', 0.7386720180511475),\n",
       " ('gentleman', 0.7315648794174194),\n",
       " ('soldier', 0.717430830001831),\n",
       " ('kid', 0.6946544647216797),\n",
       " ('poet', 0.6803505420684814),\n",
       " ('david', 0.6725150346755981)]"
      ]
     },
     "execution_count": 18,
     "metadata": {},
     "output_type": "execute_result"
    }
   ],
   "source": [
    "model_ted.most_similar(\"man\")"
   ]
  },
  {
   "cell_type": "code",
   "execution_count": 19,
   "metadata": {
    "collapsed": false
   },
   "outputs": [
    {
     "data": {
      "text/plain": [
       "[('machine', 0.7680104374885559),\n",
       " ('software', 0.7439441680908203),\n",
       " ('device', 0.6987853050231934),\n",
       " ('robot', 0.6673341393470764),\n",
       " ('3d', 0.6647211313247681),\n",
       " ('interface', 0.6577757596969604),\n",
       " ('program', 0.649340033531189),\n",
       " ('camera', 0.6280550956726074),\n",
       " ('laser', 0.6212490797042847),\n",
       " ('chip', 0.6199733018875122)]"
      ]
     },
     "execution_count": 19,
     "metadata": {},
     "output_type": "execute_result"
    }
   ],
   "source": [
    "model_ted.most_similar(\"computer\")"
   ]
  },
  {
   "cell_type": "code",
   "execution_count": 20,
   "metadata": {
    "collapsed": false
   },
   "outputs": [
    {
     "data": {
      "text/plain": [
       "[('dog', 0.8072423934936523),\n",
       " ('hat', 0.8063454031944275),\n",
       " ('ring', 0.7873803377151489),\n",
       " ('horse', 0.7789794206619263),\n",
       " ('leg', 0.7623213529586792),\n",
       " ('skull', 0.7531557679176331),\n",
       " ('chair', 0.7523902058601379),\n",
       " ('seat', 0.747726559638977),\n",
       " ('photo', 0.7410330772399902),\n",
       " ('knife', 0.7410209774971008)]"
      ]
     },
     "execution_count": 20,
     "metadata": {},
     "output_type": "execute_result"
    }
   ],
   "source": [
    "model_ted.most_similar('cat')"
   ]
  },
  {
   "cell_type": "markdown",
   "metadata": {},
   "source": [
    "#### t-SNE visualization\n",
    "To use the t-SNE code below, first put a list of the top 1000 words (as strings) into a variable `words_top_ted`. The following code gets the corresponding vectors from the model, assuming it's called `model_ted`:"
   ]
  },
  {
   "cell_type": "code",
   "execution_count": 21,
   "metadata": {
    "collapsed": false
   },
   "outputs": [],
   "source": [
    "# This assumes words_top_ted is a list of strings, the top 1000 words\n",
    "words_top_vec_ted = model_ted[words_top_ted]"
   ]
  },
  {
   "cell_type": "code",
   "execution_count": 22,
   "metadata": {
    "collapsed": false
   },
   "outputs": [],
   "source": [
    "from sklearn.manifold import TSNE\n",
    "tsne = TSNE(n_components=2, random_state=0)\n",
    "words_top_ted_tsne = tsne.fit_transform(words_top_vec_ted)"
   ]
  },
  {
   "cell_type": "code",
   "execution_count": 23,
   "metadata": {
    "collapsed": false
   },
   "outputs": [
    {
     "data": {
      "text/html": [
       "\n",
       "\n",
       "    <div class=\"bk-root\">\n",
       "        <div class=\"bk-plotdiv\" id=\"2510a540-0122-4ae6-8d6b-7f5454069b3b\"></div>\n",
       "    </div>\n",
       "<script type=\"text/javascript\">\n",
       "  \n",
       "  (function(global) {\n",
       "    function now() {\n",
       "      return new Date();\n",
       "    }\n",
       "  \n",
       "    var force = false;\n",
       "  \n",
       "    if (typeof (window._bokeh_onload_callbacks) === \"undefined\" || force === true) {\n",
       "      window._bokeh_onload_callbacks = [];\n",
       "      window._bokeh_is_loading = undefined;\n",
       "    }\n",
       "  \n",
       "  \n",
       "    \n",
       "    if (typeof (window._bokeh_timeout) === \"undefined\" || force === true) {\n",
       "      window._bokeh_timeout = Date.now() + 0;\n",
       "      window._bokeh_failed_load = false;\n",
       "    }\n",
       "  \n",
       "    var NB_LOAD_WARNING = {'data': {'text/html':\n",
       "       \"<div style='background-color: #fdd'>\\n\"+\n",
       "       \"<p>\\n\"+\n",
       "       \"BokehJS does not appear to have successfully loaded. If loading BokehJS from CDN, this \\n\"+\n",
       "       \"may be due to a slow or bad network connection. Possible fixes:\\n\"+\n",
       "       \"</p>\\n\"+\n",
       "       \"<ul>\\n\"+\n",
       "       \"<li>re-rerun `output_notebook()` to attempt to load from CDN again, or</li>\\n\"+\n",
       "       \"<li>use INLINE resources instead, as so:</li>\\n\"+\n",
       "       \"</ul>\\n\"+\n",
       "       \"<code>\\n\"+\n",
       "       \"from bokeh.resources import INLINE\\n\"+\n",
       "       \"output_notebook(resources=INLINE)\\n\"+\n",
       "       \"</code>\\n\"+\n",
       "       \"</div>\"}};\n",
       "  \n",
       "    function display_loaded() {\n",
       "      if (window.Bokeh !== undefined) {\n",
       "        document.getElementById(\"2510a540-0122-4ae6-8d6b-7f5454069b3b\").textContent = \"BokehJS successfully loaded.\";\n",
       "      } else if (Date.now() < window._bokeh_timeout) {\n",
       "        setTimeout(display_loaded, 100)\n",
       "      }\n",
       "    }\n",
       "  \n",
       "    function run_callbacks() {\n",
       "      window._bokeh_onload_callbacks.forEach(function(callback) { callback() });\n",
       "      delete window._bokeh_onload_callbacks\n",
       "      console.info(\"Bokeh: all callbacks have finished\");\n",
       "    }\n",
       "  \n",
       "    function load_libs(js_urls, callback) {\n",
       "      window._bokeh_onload_callbacks.push(callback);\n",
       "      if (window._bokeh_is_loading > 0) {\n",
       "        console.log(\"Bokeh: BokehJS is being loaded, scheduling callback at\", now());\n",
       "        return null;\n",
       "      }\n",
       "      if (js_urls == null || js_urls.length === 0) {\n",
       "        run_callbacks();\n",
       "        return null;\n",
       "      }\n",
       "      console.log(\"Bokeh: BokehJS not loaded, scheduling load and callback at\", now());\n",
       "      window._bokeh_is_loading = js_urls.length;\n",
       "      for (var i = 0; i < js_urls.length; i++) {\n",
       "        var url = js_urls[i];\n",
       "        var s = document.createElement('script');\n",
       "        s.src = url;\n",
       "        s.async = false;\n",
       "        s.onreadystatechange = s.onload = function() {\n",
       "          window._bokeh_is_loading--;\n",
       "          if (window._bokeh_is_loading === 0) {\n",
       "            console.log(\"Bokeh: all BokehJS libraries loaded\");\n",
       "            run_callbacks()\n",
       "          }\n",
       "        };\n",
       "        s.onerror = function() {\n",
       "          console.warn(\"failed to load library \" + url);\n",
       "        };\n",
       "        console.log(\"Bokeh: injecting script tag for BokehJS library: \", url);\n",
       "        document.getElementsByTagName(\"head\")[0].appendChild(s);\n",
       "      }\n",
       "    };var element = document.getElementById(\"2510a540-0122-4ae6-8d6b-7f5454069b3b\");\n",
       "    if (element == null) {\n",
       "      console.log(\"Bokeh: ERROR: autoload.js configured with elementid '2510a540-0122-4ae6-8d6b-7f5454069b3b' but no matching script tag was found. \")\n",
       "      return false;\n",
       "    }\n",
       "  \n",
       "    var js_urls = [];\n",
       "  \n",
       "    var inline_js = [\n",
       "      function(Bokeh) {\n",
       "        (function() {\n",
       "          var fn = function() {\n",
       "            var docs_json = {\"884101c2-213a-40a3-93be-4f4a3b67f6ba\":{\"roots\":{\"references\":[{\"attributes\":{\"data_source\":{\"id\":\"41edaf1a-071f-40b8-9077-dd4181c21121\",\"type\":\"ColumnDataSource\"},\"glyph\":{\"id\":\"903b6b9b-5015-4ade-a404-8419eb3be43e\",\"type\":\"Circle\"},\"hover_glyph\":null,\"nonselection_glyph\":{\"id\":\"c73a5c73-db83-42bb-b11d-d3daca363809\",\"type\":\"Circle\"},\"selection_glyph\":null},\"id\":\"7028003c-196e-40c2-8a84-32734d67e5d4\",\"type\":\"GlyphRenderer\"},{\"attributes\":{\"callback\":null},\"id\":\"cc831e35-d5c1-426f-a899-581bcfddd695\",\"type\":\"DataRange1d\"},{\"attributes\":{\"formatter\":{\"id\":\"6d30a2e7-c0e9-4f23-b0b2-26ea9dcae6de\",\"type\":\"BasicTickFormatter\"},\"plot\":{\"id\":\"453e7016-9be6-4a33-ad9d-10acc76ca919\",\"subtype\":\"Figure\",\"type\":\"Plot\"},\"ticker\":{\"id\":\"c1d1bc83-4a3d-4125-a287-54964ae19620\",\"type\":\"BasicTicker\"}},\"id\":\"e7836a88-9caa-4879-959e-38fe75a762da\",\"type\":\"LinearAxis\"},{\"attributes\":{},\"id\":\"c1d1bc83-4a3d-4125-a287-54964ae19620\",\"type\":\"BasicTicker\"},{\"attributes\":{\"plot\":{\"id\":\"453e7016-9be6-4a33-ad9d-10acc76ca919\",\"subtype\":\"Figure\",\"type\":\"Plot\"},\"ticker\":{\"id\":\"c1d1bc83-4a3d-4125-a287-54964ae19620\",\"type\":\"BasicTicker\"}},\"id\":\"d0a4a200-9dea-46d3-9315-c48369fadc11\",\"type\":\"Grid\"},{\"attributes\":{\"formatter\":{\"id\":\"001dd05b-adcd-45a5-8442-8065efd1a439\",\"type\":\"BasicTickFormatter\"},\"plot\":{\"id\":\"453e7016-9be6-4a33-ad9d-10acc76ca919\",\"subtype\":\"Figure\",\"type\":\"Plot\"},\"ticker\":{\"id\":\"23aaa402-d5a2-48b4-b16a-62954f6baf53\",\"type\":\"BasicTicker\"}},\"id\":\"716ab27a-b313-4c5c-b75c-344c6543083d\",\"type\":\"LinearAxis\"},{\"attributes\":{},\"id\":\"23aaa402-d5a2-48b4-b16a-62954f6baf53\",\"type\":\"BasicTicker\"},{\"attributes\":{\"dimension\":1,\"plot\":{\"id\":\"453e7016-9be6-4a33-ad9d-10acc76ca919\",\"subtype\":\"Figure\",\"type\":\"Plot\"},\"ticker\":{\"id\":\"23aaa402-d5a2-48b4-b16a-62954f6baf53\",\"type\":\"BasicTicker\"}},\"id\":\"61bdebe4-4aed-4a20-9884-392816343708\",\"type\":\"Grid\"},{\"attributes\":{\"plot\":{\"id\":\"453e7016-9be6-4a33-ad9d-10acc76ca919\",\"subtype\":\"Figure\",\"type\":\"Plot\"}},\"id\":\"186fd173-a1c8-45e7-a760-7ddec9b0bf9d\",\"type\":\"PanTool\"},{\"attributes\":{\"plot\":{\"id\":\"453e7016-9be6-4a33-ad9d-10acc76ca919\",\"subtype\":\"Figure\",\"type\":\"Plot\"}},\"id\":\"cc3d28ec-b366-4483-8290-a42612271291\",\"type\":\"WheelZoomTool\"},{\"attributes\":{\"plot\":{\"id\":\"453e7016-9be6-4a33-ad9d-10acc76ca919\",\"subtype\":\"Figure\",\"type\":\"Plot\"}},\"id\":\"718eaeb7-e5d9-49c1-b5db-dd70a9b8f863\",\"type\":\"ResetTool\"},{\"attributes\":{\"plot\":{\"id\":\"453e7016-9be6-4a33-ad9d-10acc76ca919\",\"subtype\":\"Figure\",\"type\":\"Plot\"}},\"id\":\"6f28729f-aab0-4497-96d0-cb6f51124d54\",\"type\":\"SaveTool\"},{\"attributes\":{},\"id\":\"6d30a2e7-c0e9-4f23-b0b2-26ea9dcae6de\",\"type\":\"BasicTickFormatter\"},{\"attributes\":{},\"id\":\"001dd05b-adcd-45a5-8442-8065efd1a439\",\"type\":\"BasicTickFormatter\"},{\"attributes\":{\"fill_color\":{\"value\":\"#1f77b4\"},\"line_color\":{\"value\":\"#1f77b4\"},\"size\":{\"units\":\"screen\",\"value\":8},\"x\":{\"field\":\"x1\"},\"y\":{\"field\":\"x2\"}},\"id\":\"903b6b9b-5015-4ade-a404-8419eb3be43e\",\"type\":\"Circle\"},{\"attributes\":{\"fill_alpha\":{\"value\":0.1},\"fill_color\":{\"value\":\"#1f77b4\"},\"line_alpha\":{\"value\":0.1},\"line_color\":{\"value\":\"#1f77b4\"},\"size\":{\"units\":\"screen\",\"value\":8},\"x\":{\"field\":\"x1\"},\"y\":{\"field\":\"x2\"}},\"id\":\"c73a5c73-db83-42bb-b11d-d3daca363809\",\"type\":\"Circle\"},{\"attributes\":{\"below\":[{\"id\":\"e7836a88-9caa-4879-959e-38fe75a762da\",\"type\":\"LinearAxis\"}],\"left\":[{\"id\":\"716ab27a-b313-4c5c-b75c-344c6543083d\",\"type\":\"LinearAxis\"}],\"renderers\":[{\"id\":\"e7836a88-9caa-4879-959e-38fe75a762da\",\"type\":\"LinearAxis\"},{\"id\":\"d0a4a200-9dea-46d3-9315-c48369fadc11\",\"type\":\"Grid\"},{\"id\":\"716ab27a-b313-4c5c-b75c-344c6543083d\",\"type\":\"LinearAxis\"},{\"id\":\"61bdebe4-4aed-4a20-9884-392816343708\",\"type\":\"Grid\"},{\"id\":\"7028003c-196e-40c2-8a84-32734d67e5d4\",\"type\":\"GlyphRenderer\"},{\"id\":\"958e32d9-9d4d-4307-a72a-2ab65cee9df7\",\"type\":\"LabelSet\"}],\"title\":{\"id\":\"5f6befe3-b09e-4c08-8527-68fb608df294\",\"type\":\"Title\"},\"tool_events\":{\"id\":\"cf59bef8-741a-43ad-9cce-1187f38ada97\",\"type\":\"ToolEvents\"},\"toolbar\":{\"id\":\"f07d2c03-b3bf-42bd-ae28-8885d10f3b3d\",\"type\":\"Toolbar\"},\"toolbar_location\":\"above\",\"x_range\":{\"id\":\"0e398f1d-df8b-4fed-aa89-b5eb452418ae\",\"type\":\"DataRange1d\"},\"y_range\":{\"id\":\"cc831e35-d5c1-426f-a899-581bcfddd695\",\"type\":\"DataRange1d\"}},\"id\":\"453e7016-9be6-4a33-ad9d-10acc76ca919\",\"subtype\":\"Figure\",\"type\":\"Plot\"},{\"attributes\":{\"plot\":{\"id\":\"453e7016-9be6-4a33-ad9d-10acc76ca919\",\"subtype\":\"Figure\",\"type\":\"Plot\"},\"source\":{\"id\":\"41edaf1a-071f-40b8-9077-dd4181c21121\",\"type\":\"ColumnDataSource\"},\"text\":{\"field\":\"names\"},\"text_align\":\"center\",\"text_color\":{\"value\":\"#555555\"},\"text_font_size\":{\"value\":\"8pt\"},\"x\":{\"field\":\"x1\"},\"y\":{\"field\":\"x2\"},\"y_offset\":{\"value\":6}},\"id\":\"958e32d9-9d4d-4307-a72a-2ab65cee9df7\",\"type\":\"LabelSet\"},{\"attributes\":{\"callback\":null,\"column_names\":[\"x1\",\"x2\",\"names\"],\"data\":{\"names\":[\"the\",\"and\",\"to\",\"of\",\"a\",\"that\",\"i\",\"in\",\"it\",\"you\",\"we\",\"is\",\"s\",\"this\",\"so\",\"they\",\"was\",\"for\",\"are\",\"have\",\"but\",\"what\",\"on\",\"with\",\"can\",\"t\",\"about\",\"there\",\"be\",\"as\",\"at\",\"all\",\"not\",\"do\",\"my\",\"one\",\"re\",\"people\",\"like\",\"if\",\"from\",\"now\",\"our\",\"he\",\"an\",\"just\",\"these\",\"or\",\"when\",\"because\",\"very\",\"me\",\"out\",\"by\",\"them\",\"how\",\"know\",\"up\",\"going\",\"had\",\"more\",\"think\",\"who\",\"were\",\"see\",\"your\",\"their\",\"which\",\"would\",\"here\",\"really\",\"get\",\"ve\",\"then\",\"m\",\"world\",\"us\",\"time\",\"some\",\"has\",\"don\",\"actually\",\"into\",\"way\",\"where\",\"will\",\"years\",\"things\",\"other\",\"no\",\"could\",\"go\",\"well\",\"want\",\"been\",\"make\",\"right\",\"she\",\"said\",\"something\",\"those\",\"first\",\"two\",\"than\",\"much\",\"also\",\"look\",\"new\",\"thing\",\"little\",\"got\",\"back\",\"over\",\"most\",\"say\",\"even\",\"his\",\"life\",\"only\",\"work\",\"many\",\"take\",\"need\",\"did\",\"lot\",\"kind\",\"why\",\"good\",\"around\",\"every\",\"different\",\"down\",\"ll\",\"let\",\"her\",\"through\",\"same\",\"being\",\"come\",\"d\",\"day\",\"year\",\"three\",\"use\",\"doing\",\"put\",\"called\",\"any\",\"today\",\"percent\",\"made\",\"after\",\"thank\",\"tell\",\"great\",\"human\",\"find\",\"didn\",\"fact\",\"talk\",\"change\",\"started\",\"another\",\"idea\",\"big\",\"last\",\"own\",\"before\",\"its\",\"never\",\"should\",\"better\",\"give\",\"thought\",\"went\",\"might\",\"important\",\"000\",\"again\",\"together\",\"able\",\"still\",\"problem\",\"off\",\"next\",\"part\",\"course\",\"system\",\"him\",\"does\",\"each\",\"start\",\"show\",\"long\",\"ago\",\"story\",\"came\",\"brain\",\"few\",\"bit\",\"between\",\"used\",\"place\",\"technology\",\"women\",\"too\",\"old\",\"mean\",\"data\",\"water\",\"looking\",\"question\",\"maybe\",\"found\",\"love\",\"doesn\",\"end\",\"example\",\"10\",\"done\",\"point\",\"four\",\"real\",\"wanted\",\"ever\",\"understand\",\"school\",\"sort\",\"live\",\"call\",\"whole\",\"always\",\"children\",\"trying\",\"may\",\"person\",\"away\",\"feel\",\"believe\",\"try\",\"million\",\"working\",\"help\",\"everything\",\"five\",\"country\",\"thinking\",\"second\",\"using\",\"information\",\"money\",\"means\",\"took\",\"power\",\"times\",\"high\",\"space\",\"number\",\"kids\",\"home\",\"become\",\"create\",\"small\",\"design\",\"making\",\"best\",\"left\",\"getting\",\"future\",\"enough\",\"man\",\"quite\",\"city\",\"without\",\"sense\",\"happened\",\"comes\",\"social\",\"probably\",\"light\",\"less\",\"energy\",\"talking\",\"am\",\"building\",\"science\",\"food\",\"body\",\"told\",\"interesting\",\"half\",\"ask\",\"pretty\",\"play\",\"hard\",\"anything\",\"lives\",\"countries\",\"such\",\"coming\",\"family\",\"stuff\",\"dollars\",\"moment\",\"earth\",\"20\",\"imagine\",\"across\",\"side\",\"saw\",\"while\",\"happen\",\"okay\",\"once\",\"build\",\"having\",\"men\",\"later\",\"experience\",\"asked\",\"makes\",\"living\",\"says\",\"seen\",\"room\",\"hand\",\"simple\",\"health\",\"ways\",\"else\",\"case\",\"almost\",\"yet\",\"young\",\"days\",\"nothing\",\"bad\",\"care\",\"happens\",\"goes\",\"move\",\"states\",\"reason\",\"computer\",\"open\",\"africa\",\"learn\",\"process\",\"inside\",\"someone\",\"six\",\"far\",\"project\",\"mind\",\"remember\",\"single\",\"picture\",\"both\",\"whether\",\"problems\",\"basically\",\"community\",\"saying\",\"already\",\"within\",\"looked\",\"myself\",\"billion\",\"possible\",\"often\",\"business\",\"planet\",\"global\",\"top\",\"everybody\",\"public\",\"sure\",\"set\",\"wrong\",\"book\",\"car\",\"keep\",\"answer\",\"yes\",\"oh\",\"sometimes\",\"hope\",\"history\",\"true\",\"war\",\"child\",\"guy\",\"instead\",\"months\",\"ideas\",\"looks\",\"matter\",\"government\",\"amazing\",\"united\",\"since\",\"cells\",\"age\",\"bring\",\"job\",\"heard\",\"until\",\"face\",\"wasn\",\"100\",\"read\",\"control\",\"isn\",\"research\",\"30\",\"words\",\"u\",\"group\",\"under\",\"self\",\"somebody\",\"built\",\"state\",\"woman\",\"turn\",\"beautiful\",\"friends\",\"line\",\"knew\",\"couple\",\"order\",\"form\",\"yeah\",\"internet\",\"middle\",\"music\",\"piece\",\"nature\",\"head\",\"though\",\"stop\",\"everyone\",\"50\",\"places\",\"video\",\"language\",\"learned\",\"run\",\"night\",\"decided\",\"word\",\"study\",\"cancer\",\"works\",\"taking\",\"became\",\"exactly\",\"species\",\"completely\",\"society\",\"education\",\"against\",\"stories\",\"large\",\"share\",\"level\",\"heart\",\"america\",\"model\",\"gets\",\"questions\",\"mother\",\"god\",\"company\",\"turns\",\"ourselves\",\"happening\",\"art\",\"hear\",\"themselves\",\"must\",\"itself\",\"kinds\",\"rather\",\"students\",\"name\",\"hours\",\"disease\",\"front\",\"house\",\"couldn\",\"huge\",\"created\",\"universe\",\"ok\",\"animals\",\"american\",\"environment\",\"worked\",\"minutes\",\"ones\",\"black\",\"1\",\"perhaps\",\"past\",\"third\",\"along\",\"finally\",\"others\",\"early\",\"sound\",\"game\",\"thousands\",\"century\",\"least\",\"based\",\"per\",\"ted\",\"lots\",\"figure\",\"free\",\"particular\",\"guys\",\"happy\",\"news\",\"learning\",\"entire\",\"won\",\"gave\",\"india\",\"machine\",\"during\",\"systems\",\"air\",\"difference\",\"outside\",\"taken\",\"natural\",\"seven\",\"changed\",\"given\",\"leave\",\"cell\",\"15\",\"close\",\"cities\",\"behind\",\"full\",\"scale\",\"china\",\"difficult\",\"takes\",\"companies\",\"area\",\"yourself\",\"reality\",\"seeing\",\"easy\",\"turned\",\"cost\",\"eyes\",\"moving\",\"team\",\"population\",\"culture\",\"york\",\"hands\",\"began\",\"whatever\",\"terms\",\"needs\",\"image\",\"needed\",\"simply\",\"beginning\",\"father\",\"local\",\"realized\",\"media\",\"parents\",\"death\",\"walk\",\"view\",\"white\",\"market\",\"parts\",\"ocean\",\"eight\",\"economic\",\"powerful\",\"week\",\"known\",\"size\",\"felt\",\"humans\",\"certain\",\"spend\",\"longer\",\"phone\",\"wonderful\",\"cannot\",\"common\",\"grow\",\"tried\",\"center\",\"fish\",\"land\",\"oil\",\"deal\",\"interested\",\"political\",\"red\",\"gone\",\"amount\",\"weeks\",\"opportunity\",\"spent\",\"lost\",\"paper\",\"quickly\",\"national\",\"blue\",\"step\",\"poor\",\"green\",\"buy\",\"wouldn\",\"growth\",\"either\",\"patients\",\"sitting\",\"ability\",\"changes\",\"write\",\"south\",\"challenge\",\"low\",\"friend\",\"growing\",\"field\",\"2\",\"shows\",\"rest\",\"born\",\"climate\",\"40\",\"test\",\"street\",\"incredible\",\"surface\",\"average\",\"value\",\"pay\",\"program\",\"scientists\",\"morning\",\"physical\",\"behavior\",\"met\",\"girl\",\"hundreds\",\"feeling\",\"economy\",\"dna\",\"complex\",\"access\",\"risk\",\"animal\",\"structure\",\"feet\",\"attention\",\"anyone\",\"areas\",\"deep\",\"watch\",\"short\",\"absolutely\",\"brought\",\"speak\",\"bottom\",\"die\",\"audience\",\"numbers\",\"stage\",\"realize\",\"images\",\"law\",\"wrote\",\"understanding\",\"books\",\"literally\",\"knowledge\",\"movement\",\"giving\",\"ground\",\"eat\",\"force\",\"alone\",\"seems\",\"telling\",\"hold\",\"starting\",\"nice\",\"sea\",\"forward\",\"developed\",\"kid\",\"individual\",\"millions\",\"support\",\"running\",\"tools\",\"miles\",\"online\",\"result\",\"technologies\",\"medical\",\"act\",\"north\",\"development\",\"lab\",\"blood\",\"fear\",\"map\",\"nobody\",\"personal\",\"voice\",\"issue\",\"key\",\"material\",\"recently\",\"12\",\"theory\",\"cut\",\"cars\",\"fast\",\"sun\",\"changing\",\"clear\",\"playing\",\"especially\",\"patient\",\"girls\",\"soon\",\"fly\",\"choice\",\"creating\",\"relationship\",\"talked\",\"europe\",\"discovered\",\"normal\",\"gives\",\"generation\",\"dark\",\"showed\",\"type\",\"asking\",\"industry\",\"seem\",\"chance\",\"rate\",\"hour\",\"designed\",\"color\",\"issues\",\"fun\",\"computers\",\"class\",\"several\",\"innovation\",\"university\",\"tiny\",\"english\",\"focus\",\"save\",\"allow\",\"developing\",\"solve\",\"digital\",\"film\",\"network\",\"special\",\"wall\",\"baby\",\"situation\",\"solution\",\"knows\",\"box\",\"reasons\",\"stand\",\"dead\",\"meet\",\"anybody\",\"impact\",\"haven\",\"begin\",\"term\",\"pictures\",\"beyond\",\"please\",\"produce\",\"ice\",\"shape\",\"non\",\"cool\",\"robot\",\"resources\",\"stay\",\"likely\",\"groups\",\"major\",\"rights\",\"truth\",\"available\",\"experiment\",\"writing\",\"obviously\",\"evidence\",\"cause\",\"drug\",\"modern\",\"incredibly\",\"becomes\",\"guess\",\"bigger\",\"aren\",\"drugs\",\"product\",\"nine\",\"lived\",\"involved\",\"month\",\"google\",\"perfect\",\"putting\",\"similar\",\"effect\",\"pick\",\"eye\",\"message\",\"web\",\"violence\",\"quality\",\"office\",\"security\",\"evolution\",\"general\",\"indeed\",\"solar\",\"basic\",\"towards\",\"drive\",\"present\",\"worth\",\"listen\",\"send\",\"revolution\",\"hundred\",\"explain\",\"died\",\"certainly\",\"teach\",\"ready\",\"25\",\"journey\",\"walking\",\"hit\",\"led\",\"international\",\"approach\",\"200\",\"games\",\"scientific\",\"chinese\",\"communities\",\"crazy\",\"potential\",\"60\",\"device\",\"camera\",\"source\",\"carbon\",\"sex\",\"rules\",\"sounds\",\"boy\",\"reach\",\"starts\",\"west\",\"examples\",\"3\",\"software\",\"particularly\",\"measure\",\"success\",\"totally\",\"suddenly\",\"action\",\"higher\",\"college\",\"code\",\"eventually\",\"democracy\",\"sit\",\"minute\",\"among\",\"largest\",\"hospital\",\"showing\",\"period\",\"notice\",\"develop\",\"mass\",\"onto\",\"dream\",\"memory\",\"add\",\"break\",\"plants\",\"zero\",\"11\",\"favorite\",\"everywhere\",\"response\",\"moved\",\"schools\",\"speed\",\"wants\",\"wait\",\"table\",\"individuals\",\"movie\",\"extremely\",\"trust\",\"anyway\",\"follow\",\"medicine\",\"biggest\",\"plant\",\"organization\",\"watching\",\"road\",\"creative\",\"worse\",\"choose\",\"500\",\"results\",\"lead\",\"exciting\",\"materials\",\"grew\",\"jobs\",\"positive\",\"poverty\",\"east\",\"plan\",\"fall\",\"strong\",\"safe\",\"essentially\",\"door\",\"object\",\"continue\",\"happiness\",\"further\",\"vision\",\"son\",\"doctor\",\"student\",\"objects\",\"role\",\"named\",\"including\",\"extraordinary\",\"standing\",\"projects\",\"conversation\",\"african\",\"usually\",\"leaders\",\"skin\",\"models\",\"allowed\",\"supposed\",\"interest\",\"faster\",\"fight\",\"police\",\"families\",\"connected\",\"tree\",\"cases\",\"5\",\"screen\",\"somewhere\",\"goal\",\"shown\",\"buildings\",\"finding\"],\"x1\":{\"__ndarray__\":\"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\",\"dtype\":\"float32\",\"shape\":[1000]},\"x2\":{\"__ndarray__\":\"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\",\"dtype\":\"float32\",\"shape\":[1000]}}},\"id\":\"41edaf1a-071f-40b8-9077-dd4181c21121\",\"type\":\"ColumnDataSource\"},{\"attributes\":{\"plot\":null,\"text\":\"word2vec T-SNE for most common words\"},\"id\":\"5f6befe3-b09e-4c08-8527-68fb608df294\",\"type\":\"Title\"},{\"attributes\":{\"callback\":null},\"id\":\"0e398f1d-df8b-4fed-aa89-b5eb452418ae\",\"type\":\"DataRange1d\"},{\"attributes\":{},\"id\":\"cf59bef8-741a-43ad-9cce-1187f38ada97\",\"type\":\"ToolEvents\"},{\"attributes\":{\"active_drag\":\"auto\",\"active_scroll\":\"auto\",\"active_tap\":\"auto\",\"tools\":[{\"id\":\"186fd173-a1c8-45e7-a760-7ddec9b0bf9d\",\"type\":\"PanTool\"},{\"id\":\"cc3d28ec-b366-4483-8290-a42612271291\",\"type\":\"WheelZoomTool\"},{\"id\":\"718eaeb7-e5d9-49c1-b5db-dd70a9b8f863\",\"type\":\"ResetTool\"},{\"id\":\"6f28729f-aab0-4497-96d0-cb6f51124d54\",\"type\":\"SaveTool\"}]},\"id\":\"f07d2c03-b3bf-42bd-ae28-8885d10f3b3d\",\"type\":\"Toolbar\"}],\"root_ids\":[\"453e7016-9be6-4a33-ad9d-10acc76ca919\"]},\"title\":\"Bokeh Application\",\"version\":\"0.12.4\"}};\n",
       "            var render_items = [{\"docid\":\"884101c2-213a-40a3-93be-4f4a3b67f6ba\",\"elementid\":\"2510a540-0122-4ae6-8d6b-7f5454069b3b\",\"modelid\":\"453e7016-9be6-4a33-ad9d-10acc76ca919\"}];\n",
       "            \n",
       "            Bokeh.embed.embed_items(docs_json, render_items);\n",
       "          };\n",
       "          if (document.readyState != \"loading\") fn();\n",
       "          else document.addEventListener(\"DOMContentLoaded\", fn);\n",
       "        })();\n",
       "      },\n",
       "      function(Bokeh) {\n",
       "      }\n",
       "    ];\n",
       "  \n",
       "    function run_inline_js() {\n",
       "      \n",
       "      if ((window.Bokeh !== undefined) || (force === true)) {\n",
       "        for (var i = 0; i < inline_js.length; i++) {\n",
       "          inline_js[i](window.Bokeh);\n",
       "        }if (force === true) {\n",
       "          display_loaded();\n",
       "        }} else if (Date.now() < window._bokeh_timeout) {\n",
       "        setTimeout(run_inline_js, 100);\n",
       "      } else if (!window._bokeh_failed_load) {\n",
       "        console.log(\"Bokeh: BokehJS failed to load within specified timeout.\");\n",
       "        window._bokeh_failed_load = true;\n",
       "      } else if (force !== true) {\n",
       "        var cell = $(document.getElementById(\"2510a540-0122-4ae6-8d6b-7f5454069b3b\")).parents('.cell').data().cell;\n",
       "        cell.output_area.append_execute_result(NB_LOAD_WARNING)\n",
       "      }\n",
       "  \n",
       "    }\n",
       "  \n",
       "    if (window._bokeh_is_loading === 0) {\n",
       "      console.log(\"Bokeh: BokehJS loaded, going straight to plotting\");\n",
       "      run_inline_js();\n",
       "    } else {\n",
       "      load_libs(js_urls, function() {\n",
       "        console.log(\"Bokeh: BokehJS plotting callback run at\", now());\n",
       "        run_inline_js();\n",
       "      });\n",
       "    }\n",
       "  }(this));\n",
       "</script>"
      ]
     },
     "metadata": {},
     "output_type": "display_data"
    }
   ],
   "source": [
    "p = figure(tools=\"pan,wheel_zoom,reset,save\",\n",
    "           toolbar_location=\"above\",\n",
    "           title=\"word2vec T-SNE for most common words\")\n",
    "\n",
    "source = ColumnDataSource(data=dict(x1=words_top_ted_tsne[:,0],\n",
    "                                    x2=words_top_ted_tsne[:,1],\n",
    "                                    names=words_top_ted))\n",
    "\n",
    "p.scatter(x=\"x1\", y=\"x2\", size=8, source=source)\n",
    "\n",
    "labels = LabelSet(x=\"x1\", y=\"x2\", text=\"names\", y_offset=6,\n",
    "                  text_font_size=\"8pt\", text_color=\"#555555\",\n",
    "                  source=source, text_align='center')\n",
    "p.add_layout(labels)\n",
    "\n",
    "show(p)"
   ]
  },
  {
   "cell_type": "markdown",
   "metadata": {},
   "source": [
    "### Part 5: Wiki Learnt Representations"
   ]
  },
  {
   "cell_type": "markdown",
   "metadata": {},
   "source": [
    "Download dataset"
   ]
  },
  {
   "cell_type": "code",
   "execution_count": 76,
   "metadata": {
    "collapsed": true
   },
   "outputs": [],
   "source": [
    "#if not os.path.isfile('wikitext-103-raw-v1.zip'):\n",
    "#    urllib.request.urlretrieve(\"https://s3.amazonaws.com/research.metamind.io/wikitext/wikitext-103-raw-v1.zip\", filename=\"wikitext-103-raw-v1.zip\")"
   ]
  },
  {
   "cell_type": "code",
   "execution_count": null,
   "metadata": {
    "collapsed": false
   },
   "outputs": [],
   "source": [
    "with zipfile.ZipFile('wikitext-103-raw-v1.zip', 'r') as z:\n",
    "    input_text = str(z.open('wikitext-103-raw/wiki.train.raw', 'r').read(), encoding='utf-8') # Thanks Robert Bastian"
   ]
  },
  {
   "cell_type": "markdown",
   "metadata": {},
   "source": [
    "Preprocess sentences (note that it's important to remove small sentences for performance)"
   ]
  },
  {
   "cell_type": "code",
   "execution_count": null,
   "metadata": {
    "collapsed": false
   },
   "outputs": [],
   "source": [
    "sentences_wiki = []\n",
    "for line in input_text.split('\\n'):\n",
    "    s = [x for x in line.split('.') if x and len(x.split()) >= 5]\n",
    "    sentences_wiki.extend(s)\n",
    "    \n",
    "for s_i in range(len(sentences_wiki)):\n",
    "    sentences_wiki[s_i] = re.sub(\"[^a-z]\", \" \", sentences_wiki[s_i].lower())\n",
    "    sentences_wiki[s_i] = re.sub(r'\\([^)]*\\)', '', sentences_wiki[s_i])\n"
   ]
  },
  {
   "cell_type": "code",
   "execution_count": 36,
   "metadata": {
    "collapsed": false
   },
   "outputs": [
    {
     "name": "stdout",
     "output_type": "stream",
     "text": [
      "853422\n",
      "170684\n"
     ]
    }
   ],
   "source": [
    "# sample 1/5 of the data\n",
    "shuffle(sentences_wiki)\n",
    "print(len(sentences_wiki))\n",
    "sentences_wiki = sentences_wiki[:int(len(sentences_wiki)/5)]\n",
    "print(len(sentences_wiki))\n",
    "sentences_wiki = [sentence.split() for sentence in sentences_wiki]"
   ]
  },
  {
   "cell_type": "code",
   "execution_count": 37,
   "metadata": {
    "collapsed": false
   },
   "outputs": [
    {
     "name": "stdout",
     "output_type": "stream",
     "text": [
      "['as', 'a', 'result', 'of', 'the', 'group', 'line', 'up', 'change', 'get', 'sexy', 'was', 're', 'recorded', 'along', 'with', 'a', 'number', 'of', 'other', 'tracks', 'to', 'feature', 'the', 'vocals', 'of', 'new', 'member', 'jade', 'ewen', 'and', 'the', 'removal', 'of', 'the', 'vocals', 'by', 'ex', 'member', 'buchanan', 'for', 'the', 'release', 'of', 'sweet', 'in']\n"
     ]
    }
   ],
   "source": [
    "print(sentences_wiki[1])"
   ]
  },
  {
   "cell_type": "markdown",
   "metadata": {},
   "source": [
    "Now, repeat all the same steps that you performed above. You should be able to reuse essentially all the code."
   ]
  },
  {
   "cell_type": "code",
   "execution_count": 39,
   "metadata": {
    "collapsed": false
   },
   "outputs": [
    {
     "name": "stdout",
     "output_type": "stream",
     "text": [
      "[256498, 109247, 99660, 86744, 79539, 71687, 42908, 32883, 30727, 29270]\n",
      "1000\n",
      "1003\n",
      "[('the', 256498), ('of', 109247), ('and', 99660), ('in', 86744), ('to', 79539), ('a', 71687), ('was', 42908), ('s', 32883), ('on', 30727), ('as', 29270)]\n",
      "['the', 'of', 'and', 'in', 'to', 'a', 'was', 's', 'on', 'as']\n"
     ]
    }
   ],
   "source": [
    "future_wiki = {}\n",
    "for sentence in sentences_wiki:\n",
    "    for word in sentence:\n",
    "        if word not in future_wiki:\n",
    "            future_wiki[word] = 1\n",
    "        else:\n",
    "            future_wiki[word] += 1\n",
    "counts_wiki_top1000 = list(reversed(sorted(list(future_wiki.values()))))[:1000]\n",
    "\n",
    "words = []\n",
    "for word in future_wiki:\n",
    "    for i in counts_wiki_top1000:\n",
    "        if (future_wiki[word] == i) and (word, i) not in words:\n",
    "            words.append((word, i))\n",
    "\n",
    "def getKey(item):\n",
    "    return item[1]\n",
    "words = list(reversed(sorted(words, key=getKey)))\n",
    "\n",
    "words_top_wiki = []\n",
    "for word, counts in words:\n",
    "    words_top_wiki.append(word)\n",
    "print(words_top_wiki[:10])"
   ]
  },
  {
   "cell_type": "markdown",
   "metadata": {},
   "source": [
    "#### t-SNE visualization"
   ]
  },
  {
   "cell_type": "code",
   "execution_count": 41,
   "metadata": {
    "collapsed": true
   },
   "outputs": [],
   "source": [
    "model_wiki = Word2Vec(sentences_wiki, size = 100, window = 5, min_count = 5, workers = 4)"
   ]
  },
  {
   "cell_type": "code",
   "execution_count": 42,
   "metadata": {
    "collapsed": false
   },
   "outputs": [],
   "source": [
    "# This assumes words_top_wiki is a list of strings, the top 1000 words\n",
    "words_top_vec_wiki = model_wiki[words_top_wiki]\n",
    "\n",
    "tsne = TSNE(n_components=2, random_state=0)\n",
    "words_top_wiki_tsne = tsne.fit_transform(words_top_vec_wiki)"
   ]
  },
  {
   "cell_type": "code",
   "execution_count": 43,
   "metadata": {
    "collapsed": false
   },
   "outputs": [
    {
     "data": {
      "text/html": [
       "\n",
       "\n",
       "    <div class=\"bk-root\">\n",
       "        <div class=\"bk-plotdiv\" id=\"fd2658ca-c163-4c00-b81f-5e6deb04d841\"></div>\n",
       "    </div>\n",
       "<script type=\"text/javascript\">\n",
       "  \n",
       "  (function(global) {\n",
       "    function now() {\n",
       "      return new Date();\n",
       "    }\n",
       "  \n",
       "    var force = false;\n",
       "  \n",
       "    if (typeof (window._bokeh_onload_callbacks) === \"undefined\" || force === true) {\n",
       "      window._bokeh_onload_callbacks = [];\n",
       "      window._bokeh_is_loading = undefined;\n",
       "    }\n",
       "  \n",
       "  \n",
       "    \n",
       "    if (typeof (window._bokeh_timeout) === \"undefined\" || force === true) {\n",
       "      window._bokeh_timeout = Date.now() + 0;\n",
       "      window._bokeh_failed_load = false;\n",
       "    }\n",
       "  \n",
       "    var NB_LOAD_WARNING = {'data': {'text/html':\n",
       "       \"<div style='background-color: #fdd'>\\n\"+\n",
       "       \"<p>\\n\"+\n",
       "       \"BokehJS does not appear to have successfully loaded. If loading BokehJS from CDN, this \\n\"+\n",
       "       \"may be due to a slow or bad network connection. Possible fixes:\\n\"+\n",
       "       \"</p>\\n\"+\n",
       "       \"<ul>\\n\"+\n",
       "       \"<li>re-rerun `output_notebook()` to attempt to load from CDN again, or</li>\\n\"+\n",
       "       \"<li>use INLINE resources instead, as so:</li>\\n\"+\n",
       "       \"</ul>\\n\"+\n",
       "       \"<code>\\n\"+\n",
       "       \"from bokeh.resources import INLINE\\n\"+\n",
       "       \"output_notebook(resources=INLINE)\\n\"+\n",
       "       \"</code>\\n\"+\n",
       "       \"</div>\"}};\n",
       "  \n",
       "    function display_loaded() {\n",
       "      if (window.Bokeh !== undefined) {\n",
       "        document.getElementById(\"fd2658ca-c163-4c00-b81f-5e6deb04d841\").textContent = \"BokehJS successfully loaded.\";\n",
       "      } else if (Date.now() < window._bokeh_timeout) {\n",
       "        setTimeout(display_loaded, 100)\n",
       "      }\n",
       "    }\n",
       "  \n",
       "    function run_callbacks() {\n",
       "      window._bokeh_onload_callbacks.forEach(function(callback) { callback() });\n",
       "      delete window._bokeh_onload_callbacks\n",
       "      console.info(\"Bokeh: all callbacks have finished\");\n",
       "    }\n",
       "  \n",
       "    function load_libs(js_urls, callback) {\n",
       "      window._bokeh_onload_callbacks.push(callback);\n",
       "      if (window._bokeh_is_loading > 0) {\n",
       "        console.log(\"Bokeh: BokehJS is being loaded, scheduling callback at\", now());\n",
       "        return null;\n",
       "      }\n",
       "      if (js_urls == null || js_urls.length === 0) {\n",
       "        run_callbacks();\n",
       "        return null;\n",
       "      }\n",
       "      console.log(\"Bokeh: BokehJS not loaded, scheduling load and callback at\", now());\n",
       "      window._bokeh_is_loading = js_urls.length;\n",
       "      for (var i = 0; i < js_urls.length; i++) {\n",
       "        var url = js_urls[i];\n",
       "        var s = document.createElement('script');\n",
       "        s.src = url;\n",
       "        s.async = false;\n",
       "        s.onreadystatechange = s.onload = function() {\n",
       "          window._bokeh_is_loading--;\n",
       "          if (window._bokeh_is_loading === 0) {\n",
       "            console.log(\"Bokeh: all BokehJS libraries loaded\");\n",
       "            run_callbacks()\n",
       "          }\n",
       "        };\n",
       "        s.onerror = function() {\n",
       "          console.warn(\"failed to load library \" + url);\n",
       "        };\n",
       "        console.log(\"Bokeh: injecting script tag for BokehJS library: \", url);\n",
       "        document.getElementsByTagName(\"head\")[0].appendChild(s);\n",
       "      }\n",
       "    };var element = document.getElementById(\"fd2658ca-c163-4c00-b81f-5e6deb04d841\");\n",
       "    if (element == null) {\n",
       "      console.log(\"Bokeh: ERROR: autoload.js configured with elementid 'fd2658ca-c163-4c00-b81f-5e6deb04d841' but no matching script tag was found. \")\n",
       "      return false;\n",
       "    }\n",
       "  \n",
       "    var js_urls = [];\n",
       "  \n",
       "    var inline_js = [\n",
       "      function(Bokeh) {\n",
       "        (function() {\n",
       "          var fn = function() {\n",
       "            var docs_json = {\"99c22761-2d40-489a-9a85-b4f5ee9236bb\":{\"roots\":{\"references\":[{\"attributes\":{\"fill_alpha\":{\"value\":0.1},\"fill_color\":{\"value\":\"#1f77b4\"},\"line_alpha\":{\"value\":0.1},\"line_color\":{\"value\":\"#1f77b4\"},\"size\":{\"units\":\"screen\",\"value\":8},\"x\":{\"field\":\"x1\"},\"y\":{\"field\":\"x2\"}},\"id\":\"3b31dd35-e2aa-4d2a-95de-7e47576fbca6\",\"type\":\"Circle\"},{\"attributes\":{\"plot\":{\"id\":\"d340f2df-207c-4a46-90f8-15946d3036f1\",\"subtype\":\"Figure\",\"type\":\"Plot\"}},\"id\":\"4835c57f-c411-480c-8289-ed9c24eff54f\",\"type\":\"PanTool\"},{\"attributes\":{\"plot\":{\"id\":\"d340f2df-207c-4a46-90f8-15946d3036f1\",\"subtype\":\"Figure\",\"type\":\"Plot\"}},\"id\":\"19632a9a-d958-43a3-9dc1-c4f1fae1edb1\",\"type\":\"WheelZoomTool\"},{\"attributes\":{\"plot\":{\"id\":\"d340f2df-207c-4a46-90f8-15946d3036f1\",\"subtype\":\"Figure\",\"type\":\"Plot\"}},\"id\":\"d9273358-eafe-444b-86d0-e8e951ca7ee7\",\"type\":\"ResetTool\"},{\"attributes\":{\"plot\":{\"id\":\"d340f2df-207c-4a46-90f8-15946d3036f1\",\"subtype\":\"Figure\",\"type\":\"Plot\"}},\"id\":\"b842fea0-91e2-43e3-b47f-0a43b5876e25\",\"type\":\"SaveTool\"},{\"attributes\":{},\"id\":\"1eda6f31-63d8-4f0a-8c68-bf05e72b792d\",\"type\":\"BasicTickFormatter\"},{\"attributes\":{\"data_source\":{\"id\":\"a40e223e-706f-414d-a52b-d4cb5b004d40\",\"type\":\"ColumnDataSource\"},\"glyph\":{\"id\":\"cac9bc3c-6bdb-4c21-bd7b-61b7219665dc\",\"type\":\"Circle\"},\"hover_glyph\":null,\"nonselection_glyph\":{\"id\":\"3b31dd35-e2aa-4d2a-95de-7e47576fbca6\",\"type\":\"Circle\"},\"selection_glyph\":null},\"id\":\"ac2a6280-9e4f-48c0-8ab3-9ffc6cdd3f4b\",\"type\":\"GlyphRenderer\"},{\"attributes\":{},\"id\":\"921181d6-b313-4c18-9b56-95524c068404\",\"type\":\"BasicTickFormatter\"},{\"attributes\":{},\"id\":\"09a9b0eb-6dc4-4932-b49a-9953431f9baf\",\"type\":\"BasicTicker\"},{\"attributes\":{\"plot\":{\"id\":\"d340f2df-207c-4a46-90f8-15946d3036f1\",\"subtype\":\"Figure\",\"type\":\"Plot\"},\"source\":{\"id\":\"a40e223e-706f-414d-a52b-d4cb5b004d40\",\"type\":\"ColumnDataSource\"},\"text\":{\"field\":\"names\"},\"text_align\":\"center\",\"text_color\":{\"value\":\"#555555\"},\"text_font_size\":{\"value\":\"8pt\"},\"x\":{\"field\":\"x1\"},\"y\":{\"field\":\"x2\"},\"y_offset\":{\"value\":6}},\"id\":\"8dc67c1d-2d57-47b1-9e27-5f2ca2ca8159\",\"type\":\"LabelSet\"},{\"attributes\":{\"plot\":{\"id\":\"d340f2df-207c-4a46-90f8-15946d3036f1\",\"subtype\":\"Figure\",\"type\":\"Plot\"},\"ticker\":{\"id\":\"09a9b0eb-6dc4-4932-b49a-9953431f9baf\",\"type\":\"BasicTicker\"}},\"id\":\"62c6fc3f-6934-432e-9da0-37c370ddbf85\",\"type\":\"Grid\"},{\"attributes\":{\"below\":[{\"id\":\"0a921130-94ce-4dca-bd56-ee5da9662ec5\",\"type\":\"LinearAxis\"}],\"left\":[{\"id\":\"012b4384-9fa5-425d-a2ea-12aa077b091e\",\"type\":\"LinearAxis\"}],\"renderers\":[{\"id\":\"0a921130-94ce-4dca-bd56-ee5da9662ec5\",\"type\":\"LinearAxis\"},{\"id\":\"62c6fc3f-6934-432e-9da0-37c370ddbf85\",\"type\":\"Grid\"},{\"id\":\"012b4384-9fa5-425d-a2ea-12aa077b091e\",\"type\":\"LinearAxis\"},{\"id\":\"1415f7b2-64e0-4037-b1c8-6c87fc6d041a\",\"type\":\"Grid\"},{\"id\":\"ac2a6280-9e4f-48c0-8ab3-9ffc6cdd3f4b\",\"type\":\"GlyphRenderer\"},{\"id\":\"8dc67c1d-2d57-47b1-9e27-5f2ca2ca8159\",\"type\":\"LabelSet\"}],\"title\":{\"id\":\"0da5c3f2-5edc-4ace-80b3-f6dc2c510c5e\",\"type\":\"Title\"},\"tool_events\":{\"id\":\"dd568deb-7c5d-42da-b965-ef38ece4f092\",\"type\":\"ToolEvents\"},\"toolbar\":{\"id\":\"5fda3696-d1c4-43cf-acd7-d88a79d50d35\",\"type\":\"Toolbar\"},\"toolbar_location\":\"above\",\"x_range\":{\"id\":\"bfdfdb9b-2dc0-4545-a1d0-24331be02d34\",\"type\":\"DataRange1d\"},\"y_range\":{\"id\":\"d4f990f5-79dc-4781-8cfa-aac33cc803c3\",\"type\":\"DataRange1d\"}},\"id\":\"d340f2df-207c-4a46-90f8-15946d3036f1\",\"subtype\":\"Figure\",\"type\":\"Plot\"},{\"attributes\":{\"callback\":null,\"column_names\":[\"x1\",\"x2\",\"names\"],\"data\":{\"names\":[\"the\",\"of\",\"and\",\"in\",\"to\",\"a\",\"was\",\"s\",\"on\",\"as\",\"for\",\"that\",\"with\",\"by\",\"is\",\"his\",\"at\",\"he\",\"from\",\"it\",\"were\",\"an\",\"had\",\"which\",\"be\",\"this\",\"but\",\"first\",\"are\",\"not\",\"after\",\"their\",\"her\",\"one\",\"its\",\"also\",\"they\",\"two\",\"or\",\"have\",\"who\",\"been\",\"new\",\"she\",\"has\",\"time\",\"when\",\"during\",\"into\",\"other\",\"would\",\"all\",\"i\",\"more\",\"while\",\"over\",\"later\",\"only\",\"game\",\"him\",\"up\",\"most\",\"between\",\"th\",\"three\",\"out\",\"than\",\"about\",\"there\",\"film\",\"some\",\"may\",\"before\",\"no\",\"made\",\"year\",\"season\",\"second\",\"such\",\"where\",\"world\",\"years\",\"war\",\"however\",\"through\",\"them\",\"these\",\"then\",\"both\",\"being\",\"album\",\"used\",\"many\",\"m\",\"song\",\"series\",\"north\",\"several\",\"against\",\"became\",\"can\",\"four\",\"part\",\"well\",\"team\",\"city\",\"united\",\"including\",\"number\",\"early\",\"state\",\"under\",\"day\",\"south\",\"episode\",\"states\",\"music\",\"did\",\"known\",\"following\",\"so\",\"said\",\"began\",\"american\",\"could\",\"work\",\"although\",\"because\",\"like\",\"released\",\"until\",\"called\",\"t\",\"people\",\"high\",\"end\",\"since\",\"west\",\"best\",\"british\",\"same\",\"each\",\"around\",\"back\",\"september\",\"final\",\"found\",\"long\",\"million\",\"five\",\"if\",\"along\",\"national\",\"us\",\"life\",\"another\",\"august\",\"off\",\"took\",\"use\",\"any\",\"you\",\"area\",\"show\",\"century\",\"received\",\"what\",\"km\",\"government\",\"group\",\"line\",\"october\",\"due\",\"john\",\"system\",\"school\",\"july\",\"games\",\"much\",\"june\",\"will\",\"house\",\"third\",\"set\",\"single\",\"east\",\"november\",\"general\",\"york\",\"march\",\"based\",\"home\",\"left\",\"down\",\"april\",\"large\",\"road\",\"company\",\"january\",\"major\",\"we\",\"history\",\"december\",\"place\",\"included\",\"family\",\"king\",\"army\",\"just\",\"times\",\"name\",\"played\",\"band\",\"main\",\"men\",\"led\",\"character\",\"wrote\",\"described\",\"video\",\"d\",\"now\",\"de\",\"air\",\"within\",\"next\",\"st\",\"six\",\"league\",\"won\",\"death\",\"make\",\"record\",\"man\",\"ship\",\"those\",\"last\",\"top\",\"own\",\"force\",\"built\",\"named\",\"even\",\"late\",\"original\",\"old\",\"according\",\"route\",\"river\",\"battle\",\"club\",\"still\",\"great\",\"release\",\"days\",\"power\",\"near\",\"february\",\"very\",\"play\",\"storm\",\"species\",\"u\",\"small\",\"way\",\"production\",\"side\",\"public\",\"held\",\"among\",\"again\",\"though\",\"story\",\"further\",\"university\",\"members\",\"german\",\"b\",\"division\",\"service\",\"party\",\"park\",\"career\",\"match\",\"player\",\"role\",\"former\",\"order\",\"french\",\"without\",\"book\",\"having\",\"do\",\"despite\",\"take\",\"water\",\"considered\",\"white\",\"point\",\"h\",\"came\",\"continued\",\"county\",\"often\",\"town\",\"english\",\"version\",\"half\",\"few\",\"island\",\"written\",\"moved\",\"black\",\"local\",\"england\",\"country\",\"church\",\"international\",\"form\",\"lead\",\"building\",\"become\",\"development\",\"c\",\"never\",\"period\",\"lost\",\"returned\",\"court\",\"tropical\",\"military\",\"re\",\"n\",\"support\",\"given\",\"london\",\"class\",\"good\",\"songs\",\"recorded\",\"using\",\"tour\",\"similar\",\"president\",\"little\",\"different\",\"aircraft\",\"ii\",\"land\",\"star\",\"royal\",\"children\",\"position\",\"gave\",\"my\",\"attack\",\"women\",\"went\",\"track\",\"upon\",\"forces\",\"western\",\"total\",\"run\",\"once\",\"highway\",\"head\",\"television\",\"published\",\"short\",\"father\",\"james\",\"street\",\"months\",\"ships\",\"instead\",\"control\",\"stated\",\"performance\",\"age\",\"produced\",\"how\",\"less\",\"himself\",\"making\",\"sea\",\"right\",\"too\",\"include\",\"throughout\",\"ft\",\"red\",\"live\",\"ten\",\"seven\",\"australia\",\"fire\",\"political\",\"title\",\"r\",\"players\",\"away\",\"characters\",\"week\",\"william\",\"previous\",\"died\",\"rock\",\"across\",\"central\",\"per\",\"remained\",\"announced\",\"college\",\"field\",\"light\",\"killed\",\"eight\",\"seen\",\"noted\",\"center\",\"writing\",\"member\",\"young\",\"love\",\"night\",\"hurricane\",\"design\",\"e\",\"return\",\"success\",\"reported\",\"southern\",\"result\",\"law\",\"style\",\"son\",\"me\",\"act\",\"station\",\"low\",\"various\",\"developed\",\"level\",\"areas\",\"race\",\"points\",\"reached\",\"campaign\",\"fourth\",\"office\",\"america\",\"created\",\"eventually\",\"win\",\"born\",\"served\",\"construction\",\"award\",\"front\",\"should\",\"performed\",\"go\",\"sent\",\"japanese\",\"features\",\"felt\",\"damage\",\"northern\",\"australian\",\"together\",\"formed\",\"followed\",\"miles\",\"others\",\"full\",\"originally\",\"chart\",\"saw\",\"population\",\"body\",\"caused\",\"behind\",\"decided\",\"feet\",\"eastern\",\"started\",\"rather\",\"thought\",\"modern\",\"o\",\"project\",\"football\",\"able\",\"mm\",\"heavy\",\"common\",\"sold\",\"established\",\"special\",\"george\",\"present\",\"command\",\"art\",\"france\",\"soon\",\"fleet\",\"playing\",\"completed\",\"works\",\"david\",\"taken\",\"every\",\"located\",\"region\",\"added\",\"range\",\"post\",\"mother\",\"featured\",\"director\",\"addition\",\"action\",\"appeared\",\"get\",\"stage\",\"open\",\"popular\",\"initially\",\"awards\",\"bridge\",\"kingdom\",\"scene\",\"important\",\"recording\",\"critics\",\"guns\",\"working\",\"magazine\",\"case\",\"f\",\"close\",\"almost\",\"hit\",\"championship\",\"sound\",\"weeks\",\"site\",\"non\",\"least\",\"opened\",\"victory\",\"studio\",\"provided\",\"either\",\"henry\",\"leading\",\"michael\",\"see\",\"towards\",\"mi\",\"strong\",\"generally\",\"far\",\"ground\",\"joined\",\"hall\",\"records\",\"worked\",\"ever\",\"cup\",\"crew\",\"scored\",\"event\",\"help\",\"placed\",\"brought\",\"troops\",\"put\",\"training\",\"replaced\",\"wife\",\"allowed\",\"free\",\"start\",\"l\",\"does\",\"x\",\"europe\",\"navy\",\"significant\",\"media\",\"nine\",\"list\",\"average\",\"mid\",\"union\",\"japan\",\"washington\",\"wanted\",\"summer\",\"highest\",\"example\",\"earlier\",\"coast\",\"saying\",\"events\",\"process\",\"better\",\"forced\",\"beginning\",\"base\",\"opening\",\"radio\",\"units\",\"finished\",\"designed\",\"believed\",\"minutes\",\"possible\",\"praised\",\"council\",\"robert\",\"co\",\"squadron\",\"taking\",\"official\",\"real\",\"passed\",\"runs\",\"cast\",\"european\",\"social\",\"al\",\"hours\",\"must\",\"operation\",\"review\",\"brown\",\"films\",\"mph\",\"spent\",\"research\",\"come\",\"shot\",\"thomas\",\"business\",\"appearance\",\"hill\",\"particularly\",\"successful\",\"captain\",\"outside\",\"human\",\"reviews\",\"turned\",\"increased\",\"met\",\"involved\",\"big\",\"lake\",\"society\",\"rest\",\"staff\",\"section\",\"female\",\"cross\",\"police\",\"ended\",\"previously\",\"enough\",\"additional\",\"goal\",\"stone\",\"lower\",\"square\",\"groups\",\"find\",\"elements\",\"month\",\"future\",\"change\",\"largest\",\"move\",\"evidence\",\"charles\",\"directed\",\"musical\",\"critical\",\"association\",\"available\",\"going\",\"ordered\",\"gold\",\"type\",\"chief\",\"community\",\"above\",\"lines\",\"p\",\"plan\",\"gun\",\"entire\",\"space\",\"news\",\"program\",\"round\",\"hand\",\"district\",\"canada\",\"positive\",\"parts\",\"smith\",\"itself\",\"indian\",\"failed\",\"castle\",\"germany\",\"test\",\"stars\",\"overall\",\"battalion\",\"winds\",\"v\",\"required\",\"term\",\"infantry\",\"california\",\"middle\",\"attempt\",\"committee\",\"interest\",\"board\",\"students\",\"already\",\"rights\",\"peter\",\"signed\",\"paul\",\"brother\",\"thus\",\"grand\",\"study\",\"g\",\"debut\",\"ny\",\"sometimes\",\"influence\",\"india\",\"limited\",\"green\",\"don\",\"queen\",\"becoming\",\"depression\",\"britain\",\"prior\",\"give\",\"relationship\",\"education\",\"turn\",\"response\",\"election\",\"novel\",\"estimated\",\"issued\",\"san\",\"effects\",\"mark\",\"surface\",\"bay\",\"introduced\",\"bill\",\"whose\",\"fifth\",\"nearly\",\"cover\",\"loss\",\"writer\",\"services\",\"whom\",\"movement\",\"past\",\"might\",\"room\",\"commander\",\"reception\",\"arrived\",\"press\",\"latter\",\"leaving\",\"uk\",\"complete\",\"asked\",\"told\",\"quickly\",\"empire\",\"village\",\"woman\",\"port\",\"compared\",\"person\",\"pressure\",\"centre\",\"plot\",\"richard\",\"larger\",\"child\",\"daughter\",\"commercial\",\"claimed\",\"money\",\"especially\",\"voice\",\"issue\",\"virginia\",\"score\",\"defeated\",\"personal\",\"food\",\"idea\",\"today\",\"our\",\"minister\",\"appointed\",\"report\",\"entered\",\"industry\",\"earth\",\"jackson\",\"material\",\"shows\",\"dark\",\"la\",\"married\",\"governor\",\"islands\",\"background\",\"percent\",\"longer\",\"department\",\"tracks\",\"length\",\"carried\",\"los\",\"destroyed\",\"finally\",\"view\",\"wide\",\"anti\",\"helped\",\"teams\",\"blue\",\"structure\",\"pop\",\"suggested\",\"decision\",\"running\",\"car\",\"flight\",\"manager\",\"done\",\"guitar\",\"lack\",\"professional\",\"usually\",\"approximately\",\"operations\",\"singer\",\"spanish\",\"regular\",\"course\",\"civil\",\"god\",\"whether\",\"changes\",\"language\",\"proposed\",\"agreed\",\"living\",\"awarded\",\"brigade\",\"nd\",\"cut\",\"higher\",\"changed\",\"upper\",\"ball\",\"related\",\"cm\",\"shortly\",\"forward\",\"date\",\"self\",\"episodes\",\"plans\",\"speed\",\"lyrics\",\"health\",\"network\",\"winning\",\"immediately\",\"size\",\"k\",\"friends\",\"themselves\",\"leader\",\"face\",\"current\",\"private\",\"science\",\"experience\",\"via\",\"lord\",\"trade\",\"federal\",\"removed\",\"planned\",\"provide\",\"remains\",\"feature\",\"naval\",\"j\",\"really\",\"supported\",\"edward\",\"intended\",\"roman\",\"remaining\",\"create\",\"key\",\"producer\",\"railway\",\"corps\",\"soldiers\",\"appear\",\"billboard\",\"fight\",\"yet\",\"your\",\"inspired\",\"always\",\"dead\",\"minor\",\"cost\",\"christian\",\"mixed\",\"pass\",\"books\",\"information\",\"winter\",\"movie\",\"florida\",\"nature\",\"status\",\"moving\",\"issues\",\"pre\",\"effect\",\"tons\",\"discovered\",\"terms\",\"whole\",\"captured\",\"singles\",\"difficult\",\"ran\",\"something\",\"scenes\",\"mostly\",\"china\",\"albums\",\"conference\",\"increase\",\"leave\",\"copies\",\"deal\",\"sales\",\"probably\",\"wall\",\"hot\",\"dance\",\"natural\",\"problems\",\"selected\",\"edition\",\"johnson\",\"energy\",\"greater\",\"officers\",\"subsequently\",\"numerous\",\"atlantic\",\"goals\",\"majority\",\"fell\",\"meeting\",\"museum\",\"attacked\",\"numbers\",\"initial\",\"pacific\",\"buildings\"],\"x1\":{\"__ndarray__\":\"2thmQG738UDFIb5BTdABQd5+9UFyj3JBq+ORQa+gQUEqL3JB3eeXP7l4e0EbJaJB5hieQbJqqEHPUZBBHlv3QcuCfEEO0f1BRflGQVZlaEG8WzNBAFtrQWuu00GxychB6MSXQYb9MEEbP75Bi8qqQcc+M0FOSn1BWZjrQVxb/EAHRfpBpWAYQVGw079L4Y1BPwsHQuXVBMGYrpJAUmvLQcyYGUF/A59B8zJgwSb0/kHCxNJBjNVDwWP6zkEmWvVAH/1vQVJrW0DmaDjCmImBP4yXBkIR2EJAk62/QSU7psB/odFBPatGQT3540GPvulB+WDHQeOynT9GdF9BnanUwQLUCMHbxtNB0g2tQS4MPsAK2YtAQKdIv+sDb0DJPi3C/HLrQV1yVkHLf5xAdeMEQn0q6kGTaqRB9OAVQcM/z0GmiVPBPZQSQk3zlsHEKbtBQWtiQZFo4kF8w5VAujmwQTK3xT9xapNBxg8CQT8r+j8Ez2ZA0DF1wXNxAUGYI3i+dV8Bwg0mPEDotYxBGNxVQXJBNMJcQg/B+DQ+wX23FkGHBdtB71igweNqdMEZXAS/GEZLwCSoGcGx1TTBTrlrwWu4AEIZcADCVLnDv+2QgsEZEYNAHKYywtfLssCpvuBBjKeSQRUyCkDXjW1BCXRCQVY4NsJL7BJBDru5QeKRsEEuxYdBOU2HQD8ow0GJzSzAoqH1QUzS20DSShXBklyVQMpHgkHc//rB6tGIQXmUo8HYYAtBCqoIQeWcSEHQIMdBIP8Jwi+4mEGMn0ZAoG0+QZfiIcFZXA/Bd62eQUbi2cEpdv1BOi2swV6XXUHAzG1BsbYHwtYrzUGPMoFBg35jwJHcP0EnAARC2uXOwaL3yj4Lv7XBqQ08QfE5kkE1cvvBhZgiwel5AcJWyMDBcgULwgiEp8D1fUrBS7XjwCh9h8EgigfCdaTfQfB5JkE5MQXCT/ozwqvoncGi1aBBJ+uTQTXRFEF2EfzByoMHwsqpQMECmcDB0EQGwmyXTUBj1qpBuG1mQQtZzEF3lwTC3LdVwafuj8G3V9DAaKAIwq4yIEBgXQVCop+vvzEkCsJlN3tAu5lQPwxiU0G/mFDBNO/AwWVbH7/LTMRA45RCwKvppUGyfOhA8R5Wwb0X30CwCv5AYzAdwBXquz8F2Ny/lTBDQKEljcE+lbJAmTiPwefxyMHFDhJBidncQcVj0MGHOQfBf9XMQexetUEgn1xB+cu+Qd/YpkE/YEBBdnffwW0vx0CDaKJBjKtHQd9UGEFTzcbBZaajwQoyRcDc2E1BQW0bwf4S3L3R1TdBT6UiQZCmisEEw9TBGmSRPSVi0EEbN0hBf0YSQUMDoEBCGw9CF7IBwYZz2sFbLQTCKvyNQeKZykH08QzCMMaawF+nqcFN71XBiYagQYhJyL/Zw+PB5e4MwcynUT9ePXI//g25Qao/uUFBkNC/GzqZQUA4jsE/5CHBpp+mwfefocE4yNbBRf23wRHrD8FDlrLB+V63QdqN20FHNNRBznuGwKU0Y8HLXnLAHOifwSX2f0G9Vm6/C2/PQSVxy0HGMF9BLgS9QQhHJMHbeYlAo5WawVFWSMF77PnB1O5zQS3abUHIBaLBESqAQKTQpsHQDhLAHXlpQCNouMDvXNzA+YvmwSYgjMDrf1BBJTibwWBiGMEngpXBaU5ewaU4mcGJ6/pBejFewLvhtUGJgKvB5Q6cQbabUcCjVaLBylqAQY/EZD++loFBHPRLQYc1MMEoog7CRtqewd3uuUE8FpnBTD4YwW+4hUBQVajBOsPrwcVRdkEnqhBBE/wjQFoEm8CH305BHFkxv+YzSsHylGZBtZV0QKRP18H3nKHBeIq7wWsz/kCNLa7BvkUUQcqd2cDGOkNB9i/5QUJ3xMF4wQRBTr14QfhiBkFnb2xBqSy9wf3e6MHT3g7BqHWuQVn5t0EU34jB51rpwK/UIcAKm2nAIWE9Qbz8R0H+ZjjBZo69wW+DD0LDltnBb3eKQRqNDsFGkOs/Hy3FP1QVFb5MWlHAyNiTQUp3PkBPMPRBuUoQQOkB6MGYDpZBWCaQQfldEb8K8QlBcKRqwXGNmsH/m+JAGtgNwVn7A8E2cobBcQ/iwYItz8AVxYBBHRydwc2l00EdFsJBNMd3QFUHBUKUcVDB7iBgQeSGFkE476tAvNBNQRtS5cF4LevA6FpiQY5h377pi47BplDbwfMwfsGVURTB0scSwQQmmsD59lM/O8e5wcNVYj9ijR7BoBArQYAu70HTPJpBgq4NwmeDsr/ahpbB+4msQaN7sz31zNk/CpfrwU/YEEE4ARzB6kzGP8TgNUHEIvlBTmKtwK8rxMGNPCDB55EsQCZgJMAOBkHBwzPWwXddukGO58RB53ZCQTaN3cC2qZ1BPcCWwEQLcMENTcm/PnCpQRJO10FpQAJBpVgYQUAursFrBo1B/0newdG/MsKB/yJAc3rNQdRfGUFds5vBOaaBQJUjOUCjak3BUsbtwQ67pcH+CopB5n+fv4Br/0Bb2fTBDZXLQENWN0EoYJxBkdJCQdfPT0F0F8vB4XncwP822cCrZ5tBg9nIQMVBZsG/JOzB6NBgQbLDakDPt19A84aYPwAme8EFiJjAhwTJQR5D6UDSD2nBawzowV9RPb/jBaHAcstlv2oIh0BVykjB0QEEQXdgvMHVBTvAJ0WTweLLp0ENAc/BdWPGQQwm2kDW/gdAx8YnwRUOKEHxfwpBAY7NwTwO1MFR1yC/2Ks6wSJBg8AChkdBHZiyP2fbJsG5eWlAiY4SQEMVFEEt68lBDhWhQbyAScDb+Ta/b1WgQb7jjEHta77BBJyCwXGQaL9EF5+/HOfEQNuWEUHgeu3BLXixQQ+urMDJre+/JF6hwfPlk0Fn9IDAE+6fQSbCyEGpb6lAlu8NQmG5rcHk1Ee+U2mFwDV920C/u9hB2UbPQAEGdD9tLqNA8QhMwVkBg0AiThrBe/u+QbfsV0F2yfXBWad5wHHzFUBBdxdBAN7RwTTDIkH7n5nBbWmFwIm1GUEadV5Be+HIQQaZikGc2a5BhEVAQBpEoEERvhhASLw8QV1kvcF4u7pBcwG6wZXx6kB7yEJBFAapQOO7g0HHS6ZAyaOQwY5+MsJbfI3BS8iEwZTms8FlTGTAUO3UQH7JC8ES7jNBT+j4wJdcHMF8poPBDwWAwQ3prMEKk6pAeDzbP9aDlUFT+ZC/wqdfQUbA7cFQT0VAL3BUP782nECs93NA398GQVNnJUBmTs/BiZyJQTNuUMDhWsnBYkKqQfIu4T93IU5AYUkLQl+aI0ENsxq/jXgVwYwDOsGCaQvBJYfNwSKvg0Hvww/A+iklQTAlQUHXKLNBUXdgvrQDcsGvr8HAoCNkwTjeDEJtuDHCxa+/wY5Bo8AdAp7BYPtSQM5Q/sEzMXBBWEStwEwO0kEWqJtB+D87wZv87MDc2nw/0Be4wUmoiD+GhSM/YmomwRmLPUH9B3C/s4gOQQ10TUELW9TARjwfQbLUsj7PL+VAHfLNwX+20MBCE7BALmAPwWYqt8EwCiVBC4ulwQY3hMGut2RBt4uUQWJVVkEx+A/A91u2QcNCrMG9R6I/Av7EwZaRF0BsartBfbmdP8NaBUId6SRArg/uQJNuj8G3J6tBD4WQQICrQ8FmDaLAt+gBQPazAEE0vfNBHwMdwDCew0EpKBRBnUG7wPuarsCKZjzBiynywLWTHsE4aGbB0WKXwQAmkMCEs+rBdX6IQCc1vsCnvbvAAhBqwOqRu0HlT5BBYF6kwamze8F3HglBdPJ1waTxGMG8iO1ABMyBwcu73UBuBKjB1WOOwblotUHvnMBA+rBiQEtrz8FuwgHCoCuOwRX/oEDwZe0+1H3OwTrQssHisJLBZ6OgQU2BD8EKk91AGacHwSzU4MC0mpNBedSowK98IMEcHcO+CZUrwfgcQEEiTwBBSdmqwRPAmsBJMZLBGIRbQYy8jcH33HtAAHa/QO1DgsHsWB7Aecmjwf6bfcHCJDrBwzgBPy+pDMLWnpLBJTSsQIS2vUEjZWRBVBP4wDgZqEEzEMZA84vlwB+xF79vm/TA0Go1P9GOusHye/o/yjkKwZ5gJMH7PtDBtYajv8zSBcECYzlBOTucQW3aksClVeRAeE+0QGi7GsEBBgvBMwcSQTqLcr/Lm9NA7Gwxwj1OnEH3FbfBklbbQA9cKUGqbzDAbxyOQGskb0HWZpDACnCOQLyzskDqCxBAxwikQYwmjsHkoqzB2Gg9Qd2fz8E23BVBNm03QdGdMMEnN67BjxTRQLrqL8ErKv0/pJdBQRtkOkFeOJi/4asQQLFTmUFbj5Q/TYQGPy3ynr+bArHB7YisQSj0hkG9OAZBYVpMwHulAkHkfLVAAbgzQXStTsHDIy/BY3IUwD/XREEcFMK/9vLtwOwDDMGrMENAPoyIQHtPyEA5PYrBTcsMQcKTQMHUZuDB9d/CQNjnBsHvjXVA1J0QwbygDkFeqj/Br0w5QYJhvsEVow/BWPWvQdeZ+EDf4x/BAB6TwRhPuEDWHdJBpuGgwaQ8osBAjq9ANKcYQIgEKsCCYZ1BmYKbQSZI18H7QBvBTOSLwPhlw0AJ6l1Aj4PBQVald0AAH/PAfyi/wWeA/8BN/5bBX1JmQONHp0DVkJHBoMspQXdgmkF+jfk/Azzyv7RrMb/5/sNAX7klQDw1sr/Hic7BKjPQwaPPk0HUsNY/9Zy6P2h7y8GRXqpBXKuNvvc8Y8GHs6xByLTaweyY6j+u7gVBjCqhQIXegsDuhUHBoX4yQA7T9cDfh1PAfwy9QZ+trkGPttrA1EKXwXf1R0HhEuJAML8vwYPCmEF7A82//zf+wPMVLsDsi/1AliU3Qe4FOsG00wHBBjgfwYmRRkBFpHBAqbRpQZfFxEBV/V9AuuOzwcw4fsG5wYZB2oj7PjAeSMHdhHhAZvuKwXL3S8EvxWpBM6dZQE9GEcEol8LB/A/EwdTuo8FAZ6BAiQg5QQIvpkFXF3FBikL5QYg0QcCTcIBBHp+HQVD3RkDgbAzBJXk1QOvm+UAAs6lBnVYkQDpmVED+k9Y/LJETQLmwtsH3Owu/UFX7vrJ4jEHDKglAwwSEQGwWsEAt41XBzGsyQOp5xT8VVglBNAIPwdVOMkHbDyxB73piQUkKhkFzjnlAKVG1PzWShsHlJipBFw7PQVhP1MBEya1Bnl+owDexjkHVSKjAdr/jQCwGt8FFCTVB45PEQHw9ob8nuihAR82dv7eeZUCD2Q/BLhCNwJHWCEBP8KHB6HCmQcDoAUCDaeDB3QPEQUeudD/Cn2RB9cnCwLvXqsHE/x9B46GMPxkYSEDUY+HBLLp+wQ==\",\"dtype\":\"float32\",\"shape\":[1003]},\"x2\":{\"__ndarray__\":\"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\",\"dtype\":\"float32\",\"shape\":[1003]}}},\"id\":\"a40e223e-706f-414d-a52b-d4cb5b004d40\",\"type\":\"ColumnDataSource\"},{\"attributes\":{\"fill_color\":{\"value\":\"#1f77b4\"},\"line_color\":{\"value\":\"#1f77b4\"},\"size\":{\"units\":\"screen\",\"value\":8},\"x\":{\"field\":\"x1\"},\"y\":{\"field\":\"x2\"}},\"id\":\"cac9bc3c-6bdb-4c21-bd7b-61b7219665dc\",\"type\":\"Circle\"},{\"attributes\":{\"plot\":null,\"text\":\"word2vec T-SNE for most common words\"},\"id\":\"0da5c3f2-5edc-4ace-80b3-f6dc2c510c5e\",\"type\":\"Title\"},{\"attributes\":{\"callback\":null},\"id\":\"bfdfdb9b-2dc0-4545-a1d0-24331be02d34\",\"type\":\"DataRange1d\"},{\"attributes\":{},\"id\":\"dd568deb-7c5d-42da-b965-ef38ece4f092\",\"type\":\"ToolEvents\"},{\"attributes\":{\"active_drag\":\"auto\",\"active_scroll\":\"auto\",\"active_tap\":\"auto\",\"tools\":[{\"id\":\"4835c57f-c411-480c-8289-ed9c24eff54f\",\"type\":\"PanTool\"},{\"id\":\"19632a9a-d958-43a3-9dc1-c4f1fae1edb1\",\"type\":\"WheelZoomTool\"},{\"id\":\"d9273358-eafe-444b-86d0-e8e951ca7ee7\",\"type\":\"ResetTool\"},{\"id\":\"b842fea0-91e2-43e3-b47f-0a43b5876e25\",\"type\":\"SaveTool\"}]},\"id\":\"5fda3696-d1c4-43cf-acd7-d88a79d50d35\",\"type\":\"Toolbar\"},{\"attributes\":{\"formatter\":{\"id\":\"921181d6-b313-4c18-9b56-95524c068404\",\"type\":\"BasicTickFormatter\"},\"plot\":{\"id\":\"d340f2df-207c-4a46-90f8-15946d3036f1\",\"subtype\":\"Figure\",\"type\":\"Plot\"},\"ticker\":{\"id\":\"e460680e-114c-4426-ba86-3e13fe8a547d\",\"type\":\"BasicTicker\"}},\"id\":\"012b4384-9fa5-425d-a2ea-12aa077b091e\",\"type\":\"LinearAxis\"},{\"attributes\":{\"formatter\":{\"id\":\"1eda6f31-63d8-4f0a-8c68-bf05e72b792d\",\"type\":\"BasicTickFormatter\"},\"plot\":{\"id\":\"d340f2df-207c-4a46-90f8-15946d3036f1\",\"subtype\":\"Figure\",\"type\":\"Plot\"},\"ticker\":{\"id\":\"09a9b0eb-6dc4-4932-b49a-9953431f9baf\",\"type\":\"BasicTicker\"}},\"id\":\"0a921130-94ce-4dca-bd56-ee5da9662ec5\",\"type\":\"LinearAxis\"},{\"attributes\":{\"callback\":null},\"id\":\"d4f990f5-79dc-4781-8cfa-aac33cc803c3\",\"type\":\"DataRange1d\"},{\"attributes\":{\"dimension\":1,\"plot\":{\"id\":\"d340f2df-207c-4a46-90f8-15946d3036f1\",\"subtype\":\"Figure\",\"type\":\"Plot\"},\"ticker\":{\"id\":\"e460680e-114c-4426-ba86-3e13fe8a547d\",\"type\":\"BasicTicker\"}},\"id\":\"1415f7b2-64e0-4037-b1c8-6c87fc6d041a\",\"type\":\"Grid\"},{\"attributes\":{},\"id\":\"e460680e-114c-4426-ba86-3e13fe8a547d\",\"type\":\"BasicTicker\"}],\"root_ids\":[\"d340f2df-207c-4a46-90f8-15946d3036f1\"]},\"title\":\"Bokeh Application\",\"version\":\"0.12.4\"}};\n",
       "            var render_items = [{\"docid\":\"99c22761-2d40-489a-9a85-b4f5ee9236bb\",\"elementid\":\"fd2658ca-c163-4c00-b81f-5e6deb04d841\",\"modelid\":\"d340f2df-207c-4a46-90f8-15946d3036f1\"}];\n",
       "            \n",
       "            Bokeh.embed.embed_items(docs_json, render_items);\n",
       "          };\n",
       "          if (document.readyState != \"loading\") fn();\n",
       "          else document.addEventListener(\"DOMContentLoaded\", fn);\n",
       "        })();\n",
       "      },\n",
       "      function(Bokeh) {\n",
       "      }\n",
       "    ];\n",
       "  \n",
       "    function run_inline_js() {\n",
       "      \n",
       "      if ((window.Bokeh !== undefined) || (force === true)) {\n",
       "        for (var i = 0; i < inline_js.length; i++) {\n",
       "          inline_js[i](window.Bokeh);\n",
       "        }if (force === true) {\n",
       "          display_loaded();\n",
       "        }} else if (Date.now() < window._bokeh_timeout) {\n",
       "        setTimeout(run_inline_js, 100);\n",
       "      } else if (!window._bokeh_failed_load) {\n",
       "        console.log(\"Bokeh: BokehJS failed to load within specified timeout.\");\n",
       "        window._bokeh_failed_load = true;\n",
       "      } else if (force !== true) {\n",
       "        var cell = $(document.getElementById(\"fd2658ca-c163-4c00-b81f-5e6deb04d841\")).parents('.cell').data().cell;\n",
       "        cell.output_area.append_execute_result(NB_LOAD_WARNING)\n",
       "      }\n",
       "  \n",
       "    }\n",
       "  \n",
       "    if (window._bokeh_is_loading === 0) {\n",
       "      console.log(\"Bokeh: BokehJS loaded, going straight to plotting\");\n",
       "      run_inline_js();\n",
       "    } else {\n",
       "      load_libs(js_urls, function() {\n",
       "        console.log(\"Bokeh: BokehJS plotting callback run at\", now());\n",
       "        run_inline_js();\n",
       "      });\n",
       "    }\n",
       "  }(this));\n",
       "</script>"
      ]
     },
     "metadata": {},
     "output_type": "display_data"
    }
   ],
   "source": [
    "p = figure(tools=\"pan,wheel_zoom,reset,save\",\n",
    "           toolbar_location=\"above\",\n",
    "           title=\"word2vec T-SNE for most common words\")\n",
    "\n",
    "source = ColumnDataSource(data=dict(x1=words_top_wiki_tsne[:,0],\n",
    "                                    x2=words_top_wiki_tsne[:,1],\n",
    "                                    names=words_top_wiki))\n",
    "\n",
    "p.scatter(x=\"x1\", y=\"x2\", size=8, source=source)\n",
    "\n",
    "labels = LabelSet(x=\"x1\", y=\"x2\", text=\"names\", y_offset=6,\n",
    "                  text_font_size=\"8pt\", text_color=\"#555555\",\n",
    "                  source=source, text_align='center')\n",
    "p.add_layout(labels)\n",
    "\n",
    "show(p)"
   ]
  },
  {
   "cell_type": "code",
   "execution_count": null,
   "metadata": {
    "collapsed": true
   },
   "outputs": [],
   "source": []
  }
 ],
 "metadata": {
  "anaconda-cloud": {},
  "kernelspec": {
   "display_name": "Python 3",
   "language": "python",
   "name": "python3"
  },
  "language_info": {
   "codemirror_mode": {
    "name": "ipython",
    "version": 3
   },
   "file_extension": ".py",
   "mimetype": "text/x-python",
   "name": "python",
   "nbconvert_exporter": "python",
   "pygments_lexer": "ipython3",
   "version": "3.6.0"
  }
 },
 "nbformat": 4,
 "nbformat_minor": 0
}
