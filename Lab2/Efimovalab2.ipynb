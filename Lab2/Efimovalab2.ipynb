{
 "cells": [
  {
   "cell_type": "code",
   "execution_count": null,
   "metadata": {
    "collapsed": true
   },
   "outputs": [],
   "source": [
    "import numpy as np\n",
    "import os\n",
    "from random import shuffle\n",
    "import re"
   ]
  },
  {
   "cell_type": "code",
   "execution_count": 1,
   "metadata": {
    "collapsed": false
   },
   "outputs": [
    {
     "data": {
      "text/html": [
       "\n",
       "    <div class=\"bk-root\">\n",
       "        <a href=\"http://bokeh.pydata.org\" target=\"_blank\" class=\"bk-logo bk-logo-small bk-logo-notebook\"></a>\n",
       "        <span id=\"c3b93f07-5201-48e5-ada7-11deafda5335\">Loading BokehJS ...</span>\n",
       "    </div>"
      ]
     },
     "metadata": {},
     "output_type": "display_data"
    },
    {
     "data": {
      "application/javascript": [
       "\n",
       "(function(global) {\n",
       "  function now() {\n",
       "    return new Date();\n",
       "  }\n",
       "\n",
       "  var force = true;\n",
       "\n",
       "  if (typeof (window._bokeh_onload_callbacks) === \"undefined\" || force === true) {\n",
       "    window._bokeh_onload_callbacks = [];\n",
       "    window._bokeh_is_loading = undefined;\n",
       "  }\n",
       "\n",
       "\n",
       "  \n",
       "  if (typeof (window._bokeh_timeout) === \"undefined\" || force === true) {\n",
       "    window._bokeh_timeout = Date.now() + 5000;\n",
       "    window._bokeh_failed_load = false;\n",
       "  }\n",
       "\n",
       "  var NB_LOAD_WARNING = {'data': {'text/html':\n",
       "     \"<div style='background-color: #fdd'>\\n\"+\n",
       "     \"<p>\\n\"+\n",
       "     \"BokehJS does not appear to have successfully loaded. If loading BokehJS from CDN, this \\n\"+\n",
       "     \"may be due to a slow or bad network connection. Possible fixes:\\n\"+\n",
       "     \"</p>\\n\"+\n",
       "     \"<ul>\\n\"+\n",
       "     \"<li>re-rerun `output_notebook()` to attempt to load from CDN again, or</li>\\n\"+\n",
       "     \"<li>use INLINE resources instead, as so:</li>\\n\"+\n",
       "     \"</ul>\\n\"+\n",
       "     \"<code>\\n\"+\n",
       "     \"from bokeh.resources import INLINE\\n\"+\n",
       "     \"output_notebook(resources=INLINE)\\n\"+\n",
       "     \"</code>\\n\"+\n",
       "     \"</div>\"}};\n",
       "\n",
       "  function display_loaded() {\n",
       "    if (window.Bokeh !== undefined) {\n",
       "      document.getElementById(\"c3b93f07-5201-48e5-ada7-11deafda5335\").textContent = \"BokehJS successfully loaded.\";\n",
       "    } else if (Date.now() < window._bokeh_timeout) {\n",
       "      setTimeout(display_loaded, 100)\n",
       "    }\n",
       "  }\n",
       "\n",
       "  function run_callbacks() {\n",
       "    window._bokeh_onload_callbacks.forEach(function(callback) { callback() });\n",
       "    delete window._bokeh_onload_callbacks\n",
       "    console.info(\"Bokeh: all callbacks have finished\");\n",
       "  }\n",
       "\n",
       "  function load_libs(js_urls, callback) {\n",
       "    window._bokeh_onload_callbacks.push(callback);\n",
       "    if (window._bokeh_is_loading > 0) {\n",
       "      console.log(\"Bokeh: BokehJS is being loaded, scheduling callback at\", now());\n",
       "      return null;\n",
       "    }\n",
       "    if (js_urls == null || js_urls.length === 0) {\n",
       "      run_callbacks();\n",
       "      return null;\n",
       "    }\n",
       "    console.log(\"Bokeh: BokehJS not loaded, scheduling load and callback at\", now());\n",
       "    window._bokeh_is_loading = js_urls.length;\n",
       "    for (var i = 0; i < js_urls.length; i++) {\n",
       "      var url = js_urls[i];\n",
       "      var s = document.createElement('script');\n",
       "      s.src = url;\n",
       "      s.async = false;\n",
       "      s.onreadystatechange = s.onload = function() {\n",
       "        window._bokeh_is_loading--;\n",
       "        if (window._bokeh_is_loading === 0) {\n",
       "          console.log(\"Bokeh: all BokehJS libraries loaded\");\n",
       "          run_callbacks()\n",
       "        }\n",
       "      };\n",
       "      s.onerror = function() {\n",
       "        console.warn(\"failed to load library \" + url);\n",
       "      };\n",
       "      console.log(\"Bokeh: injecting script tag for BokehJS library: \", url);\n",
       "      document.getElementsByTagName(\"head\")[0].appendChild(s);\n",
       "    }\n",
       "  };var element = document.getElementById(\"c3b93f07-5201-48e5-ada7-11deafda5335\");\n",
       "  if (element == null) {\n",
       "    console.log(\"Bokeh: ERROR: autoload.js configured with elementid 'c3b93f07-5201-48e5-ada7-11deafda5335' but no matching script tag was found. \")\n",
       "    return false;\n",
       "  }\n",
       "\n",
       "  var js_urls = [\"https://cdn.pydata.org/bokeh/release/bokeh-0.12.4.min.js\", \"https://cdn.pydata.org/bokeh/release/bokeh-widgets-0.12.4.min.js\"];\n",
       "\n",
       "  var inline_js = [\n",
       "    function(Bokeh) {\n",
       "      Bokeh.set_log_level(\"info\");\n",
       "    },\n",
       "    \n",
       "    function(Bokeh) {\n",
       "      \n",
       "      document.getElementById(\"c3b93f07-5201-48e5-ada7-11deafda5335\").textContent = \"BokehJS is loading...\";\n",
       "    },\n",
       "    function(Bokeh) {\n",
       "      console.log(\"Bokeh: injecting CSS: https://cdn.pydata.org/bokeh/release/bokeh-0.12.4.min.css\");\n",
       "      Bokeh.embed.inject_css(\"https://cdn.pydata.org/bokeh/release/bokeh-0.12.4.min.css\");\n",
       "      console.log(\"Bokeh: injecting CSS: https://cdn.pydata.org/bokeh/release/bokeh-widgets-0.12.4.min.css\");\n",
       "      Bokeh.embed.inject_css(\"https://cdn.pydata.org/bokeh/release/bokeh-widgets-0.12.4.min.css\");\n",
       "    }\n",
       "  ];\n",
       "\n",
       "  function run_inline_js() {\n",
       "    \n",
       "    if ((window.Bokeh !== undefined) || (force === true)) {\n",
       "      for (var i = 0; i < inline_js.length; i++) {\n",
       "        inline_js[i](window.Bokeh);\n",
       "      }if (force === true) {\n",
       "        display_loaded();\n",
       "      }} else if (Date.now() < window._bokeh_timeout) {\n",
       "      setTimeout(run_inline_js, 100);\n",
       "    } else if (!window._bokeh_failed_load) {\n",
       "      console.log(\"Bokeh: BokehJS failed to load within specified timeout.\");\n",
       "      window._bokeh_failed_load = true;\n",
       "    } else if (force !== true) {\n",
       "      var cell = $(document.getElementById(\"c3b93f07-5201-48e5-ada7-11deafda5335\")).parents('.cell').data().cell;\n",
       "      cell.output_area.append_execute_result(NB_LOAD_WARNING)\n",
       "    }\n",
       "\n",
       "  }\n",
       "\n",
       "  if (window._bokeh_is_loading === 0) {\n",
       "    console.log(\"Bokeh: BokehJS loaded, going straight to plotting\");\n",
       "    run_inline_js();\n",
       "  } else {\n",
       "    load_libs(js_urls, function() {\n",
       "      console.log(\"Bokeh: BokehJS plotting callback run at\", now());\n",
       "      run_inline_js();\n",
       "    });\n",
       "  }\n",
       "}(this));"
      ]
     },
     "metadata": {},
     "output_type": "display_data"
    }
   ],
   "source": [
    "from bokeh.models import ColumnDataSource, LabelSet \n",
    "from bokeh.plotting import figure, show, output_file \n",
    "from bokeh.io import output_notebook \n",
    "output_notebook() "
   ]
  },
  {
   "cell_type": "code",
   "execution_count": null,
   "metadata": {
    "collapsed": true
   },
   "outputs": [],
   "source": [
    "import urllib.request \n",
    "import zipfile \n",
    "#from lxml import etree \n",
    "import lxml.etree "
   ]
  },
  {
   "cell_type": "code",
   "execution_count": null,
   "metadata": {
    "collapsed": true
   },
   "outputs": [],
   "source": [
    "if not os.path.isfile('ted_en-20160408.zip'): \n",
    "urllib.request.urlretrieve(\"https://wit3.fbk.eu/get.php?path=XML_releases/xml/ted_en-2016..\", filename=\"ted_en-20160408.zip\") \n"
   ]
  },
  {
   "cell_type": "code",
   "execution_count": null,
   "metadata": {
    "collapsed": true
   },
   "outputs": [],
   "source": [
    "with zipfile.ZipFile('ted_en-20160408.zip', 'r') as z: \n",
    "doc = lxml.etree.parse(z.open('ted_en-20160408.xml', 'r')) \n",
    "input_text = '\\n'.join(doc.xpath('//content/text()')) \n",
    "del doc"
   ]
  },
  {
   "cell_type": "code",
   "execution_count": 2,
   "metadata": {
    "collapsed": false
   },
   "outputs": [
    {
     "ename": "NameError",
     "evalue": "name 'input_text' is not defined",
     "output_type": "error",
     "traceback": [
      "\u001b[0;31m---------------------------------------------------------------------------\u001b[0m",
      "\u001b[0;31mNameError\u001b[0m                                 Traceback (most recent call last)",
      "\u001b[0;32m<ipython-input-2-84362712ea36>\u001b[0m in \u001b[0;36m<module>\u001b[0;34m()\u001b[0m\n\u001b[0;32m----> 1\u001b[0;31m \u001b[0mi\u001b[0m \u001b[0;34m=\u001b[0m \u001b[0minput_text\u001b[0m\u001b[0;34m.\u001b[0m\u001b[0mfind\u001b[0m\u001b[0;34m(\u001b[0m\u001b[0;34m\"Hyowon Gweon: See this?\"\u001b[0m\u001b[0;34m)\u001b[0m\u001b[0;34m\u001b[0m\u001b[0m\n\u001b[0m\u001b[1;32m      2\u001b[0m \u001b[0minput_text\u001b[0m\u001b[0;34m[\u001b[0m\u001b[0mi\u001b[0m\u001b[0;34m-\u001b[0m\u001b[0;36m20\u001b[0m\u001b[0;34m:\u001b[0m\u001b[0mi\u001b[0m\u001b[0;34m+\u001b[0m\u001b[0;36m150\u001b[0m\u001b[0;34m]\u001b[0m\u001b[0;34m\u001b[0m\u001b[0m\n",
      "\u001b[0;31mNameError\u001b[0m: name 'input_text' is not defined"
     ]
    }
   ],
   "source": [
    "i = input_text.find(\"Hyowon Gweon: See this?\") \n",
    "input_text[i-20:i+150] "
   ]
  },
  {
   "cell_type": "code",
   "execution_count": null,
   "metadata": {
    "collapsed": true
   },
   "outputs": [],
   "source": [
    "input_text_noparens = re.sub(r'\\([^)]*\\)', '', input_text) \n",
    "sentences_strings_ted = [] \n",
    "for line in input_text_noparens.split('\\n'): \n",
    "m = re.match(r'^(?:(?P<precolon>[^:]{,20}):)?(?P<postcolon>.*)$', line) \n",
    "sentences_strings_ted.extend(sent for sent in m.groupdict()['postcolon'].split('.') if sent) "
   ]
  },
  {
   "cell_type": "code",
   "execution_count": null,
   "metadata": {
    "collapsed": true
   },
   "outputs": [],
   "source": []
  },
  {
   "cell_type": "code",
   "execution_count": null,
   "metadata": {
    "collapsed": true
   },
   "outputs": [],
   "source": [
    "sentences_strings_ted[:5] "
   ]
  },
  {
   "cell_type": "code",
   "execution_count": null,
   "metadata": {
    "collapsed": true
   },
   "outputs": [],
   "source": [
    "sentences_ted = [] \n",
    "for sent_str in sentences_strings_ted: \n",
    "tokens = re.sub(r\"[^a-z0-9]+\", \" \", sent_str.lower()).split() \n",
    "sentences_ted.append(tokens) \n",
    "len(sentences_ted) \n",
    "print(sentences_ted[0]) \n",
    "print(sentences_ted[1]) \n",
    "import collections \n",
    "c=collections.Counter() \n",
    "for s in sentences_ted: \n",
    "for word in s: \n",
    "c[word]+=1 \n",
    "words_top_ted=list(k[0] for k in c.most_common(1000)) \n",
    "counts_ted_top1000=list(k[1] for k in c.most_common(1000)) \n",
    "\n",
    "hist, edges = np.histogram(counts_ted_top1000, density=True, bins=100, normed=True) "
   ]
  },
  {
   "cell_type": "code",
   "execution_count": null,
   "metadata": {
    "collapsed": true
   },
   "outputs": [],
   "source": [
    "hist, edges = np.histogram(counts_ted_top1000, density=True, bins=100, normed=True) "
   ]
  },
  {
   "cell_type": "code",
   "execution_count": null,
   "metadata": {
    "collapsed": true
   },
   "outputs": [],
   "source": [
    "p = figure(tools=\"pan,wheel_zoom,reset,save\", \n",
    "toolbar_location=\"above\", \n",
    "title=\"Top-1000 words distribution\") \n",
    "p.quad(top=hist, bottom=0, left=edges[:-1], right=edges[1☺, line_color=\"#555555\") \n",
    "show(p) \n",
    "from gensim.models import Word2Vec "
   ]
  },
  {
   "cell_type": "code",
   "execution_count": null,
   "metadata": {
    "collapsed": true
   },
   "outputs": [],
   "source": [
    "ted_model = Word2Vec(sentences_ted, size=100, window=5, min_count=5, workers=4) \n",
    "ted_model.save('ted_model') \n",
    "ted_model=Word2Vec.load('ted_model') \n",
    "ted_model.most_similar(\"man\") \n",
    "ted_model.most_similar(\"computer\") \n",
    "ted_model.most_similar('house') \n",
    "words_top_vec_ted = model_ted[words_top_ted] \n",
    "from sklearn.manifold import TSNE \n",
    "tsne = TSNE(n_components=2, random_state=0) \n",
    "words_top_ted_tsne = tsne.fit_transform(words_top_vec_ted) \n",
    "p = figure(tools=\"pan,wheel_zoom,reset,save\", \n",
    "toolbar_location=\"above\", \n",
    "title=\"word2vec T-SNE for most common words\") \n",
    "source = ColumnDataSource(data=dict(x1=words_top_ted_tsne[:,0], \n",
    "x2=words_top_ted_tsne[:,1], \n",
    "names=words_top_ted)) \n",
    "p.scatter(x=\"x1\", y=\"x2\", size=8, source=source) \n",
    "labels = LabelSet(x=\"x1\", y=\"x2\", text=\"names\", y_offset=6, \n",
    "text_font_size=\"8pt\", text_color=\"#555555\", \n",
    "source=source, text_align='center') \n",
    "p.add_layout(labels) \n",
    "show(p) "
   ]
  },
  {
   "cell_type": "code",
   "execution_count": null,
   "metadata": {
    "collapsed": true
   },
   "outputs": [],
   "source": [
    "if not os.path.isfile('wikitext-103-raw-v1.zip'): \n",
    "urllib.request.urlretrieve(\"https://s3.amazonaws.com/research.metamind.io/wikitext/wikite..\", filename=\"wikitext-103-raw-v1.zip\") \n",
    "with zipfile.ZipFile('wikitext-103-raw-v1.zip', 'r') as z: \n",
    "input_text = str(z.open('wikitext-103-raw/wiki.train.raw', 'r').read(), encoding='utf-8') \n",
    "sentences_wiki = [] \n",
    "for line in input_text.split('\\n'): \n",
    "s = [x for x in line.split('.') if x and len(x.split()) >= 5] \n",
    "sentences_wiki.extend(s) \n",
    "for s_i in range(len(sentences_wiki)): \n",
    "sentences_wiki[s_i] = re.sub(\"[^a-z]\", \" \", sentences_wiki[s_i].lower()) \n",
    "sentences_wiki[s_i] = re.sub(r'\\([^)]*\\)', '', sentences_wiki[s_i]) \n",
    "del input_text \n",
    "shuffle(sentences_wiki) \n",
    "print(len(sentences_wiki)) \n",
    "sentences_wiki = sentences_wiki[:int(len(sentences_wiki)/5)] \n",
    "print(len(sentences_wiki)) \n"
   ]
  },
  {
   "cell_type": "code",
   "execution_count": null,
   "metadata": {
    "collapsed": true
   },
   "outputs": [],
   "source": [
    "import collections \n",
    "c=collections.Counter() \n",
    "for s in sentences_ted: \n",
    "for word in s: \n",
    "c[word]+=1 \n",
    "#print (c.most_common(1000)) \n",
    "words_top_ted=list(k[0] for k in c.most_common(1000)) \n",
    "counts_wiki_top1000=list(k[1] for k in c.most_common(1000)) \n",
    "hist, edges = np.histogram(counts_wiki_top1000,\n"
   ]
  },
  {
   "cell_type": "code",
   "execution_count": null,
   "metadata": {
    "collapsed": true
   },
   "outputs": [],
   "source": [
    "density=True, bins=100, normed=True)"
   ]
  },
  {
   "cell_type": "code",
   "execution_count": null,
   "metadata": {
    "collapsed": true
   },
   "outputs": [],
   "source": [
    "p = figure(tools=\"pan,wheel_zoom,reset,save\", \n",
    "toolbar_location=\"above\", \n",
    "title=\"Top-1000 words distribution\") \n",
    "p.quad(top=hist, bottom=0, left=edges[:-1], right=edges[1☺, line_color=\"#555555\") \n",
    "show(p) \n",
    "wiki_model = Word2Vec(sentences_wiki, size=100, window=5, min_count=5, workers=4) \n",
    "wiki_model.save('wiki_model') \n",
    "wiki_model=Word2Vec.load('wiki_model') \n",
    "wiki_model.most_similar(\"man\") \n",
    "wiki_model.most_similar(\"computer\") \n",
    "wiki_model.most_similar(\"house\") \n"
   ]
  },
  {
   "cell_type": "code",
   "execution_count": null,
   "metadata": {
    "collapsed": true
   },
   "outputs": [],
   "source": [
    "words_top_vec_wiki = wiki_model[words_top_wiki] \n",
    "tsne = TSNE(n_components=2, random_state=0) \n",
    "words_top_wiki_tsne = tsne.fit_transform(words_top_vec_wiki) \n"
   ]
  },
  {
   "cell_type": "code",
   "execution_count": nu�@�=��LU{�CI�T�/�mX©���M�&P� y�)������_�yk�����^˾u�V�ݴ��5�{��Y��zѬ d<�)6�����G�сF>�^yXC��59�e���1��V{�g�����Ý��F�{��y#�S��Da@��e<ۋ���E��	����͝��2�l��x�Q�2=�e{ָu�to[Т�1����7�&S�L�˓r���~����3$�h��Yp�o�Ļ�(�@�Ǖ8o�K>H��J�J	@Kr�ׄ��   �� PK     ! a`��  �  !   ppt/slideLayouts/slideLayout6.xml�V�n�0���w���4�O#��@v�R4�p�Du��6�l�����O�c'�L�*.&������|�9'��l�3��Re���w��X$����`�4�	a��.��g��E�XrNJ��0�
���.�U��D���rx�
����M$��9sۭV��I�q/�/�4��Lě�r]�Hʈ���:+T�V���T��~��.`�3��%g%F�Un���1��W,A��`�2^Ⱥ�'������~�ŪXJ��.%�Pb�~P��[n�p_��6H$إ2I Z��C�Js� НFqe�����o���v� ����U��5�vC���۳�\	����N!.���_ы��p6��=���Z=�Z��n*����k$Sz�KF� �6	 . ?#��)w�W�׹%���xz�,�CZ �d]��D�`
 r�h(NIy�$�|y�l�� v���aYI�w!;��3�)Z2ӵ`	d�9�����a,K14"t�g�[iMޡ��m�g��	MA����Z4%1�"�kS
se���t���}�w�����(t&������`ꝶ'��O\7L��,�f8_���C�y���z��U?��XaH����~S�H�[O���ʩ�U��n���J7S��i2Z�K�\ƽ��*}\e���+�%-6��}���N=�>(q�������"���i�¶����s��Nk��I7���~��Q��w�����O���0H��Y��4'�=/�� ���N3|f@���T��EU����`4*�?   �� PK     ! 9f�  �  !   ppt/slideLayouts/slideLayout7.xml�U�N�0�?i�`y�C>�FmQ���àZ�.�C"'�ݮe��km�Ó��i��"��?��Թ����k{p��8Y1��Z��Q�DZg��ҫ˙sB�� 2�`C�a���>~4���l�&�!TCZh�D��҂U��	��ײ�����$|G슻����
JA���-�u��)���bB� �qи~U���К��5�)���/Iod{�A�Rb��
>!�t�3"��@l3LP5��13�ϲY4sis�WsI���nk����M���p�(�� Z� B	�zHѩ�ybDl�I�ӧhZ\��M��l�� W�8�a�2��N�љ�fd�!eE�3&��#��
�No5R6J�L��U�k蛙����g