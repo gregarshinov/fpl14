{
 "cells": [
  {
   "cell_type": "markdown",
   "metadata": {},
   "source": [
    "## Practical 1: word2vec\n",
    "<p>Oxford CS - Deep NLP 2017<br>\n",
    "https://www.cs.ox.ac.uk/teaching/courses/2016-2017/dl/</p>\n",
    "<p>[Yannis Assael, Brendan Shillingford, Chris Dyer]</p>"
   ]
  },
  {
   "cell_type": "markdown",
   "metadata": {},
   "source": [
    "This practical is presented as an IPython Notebook, with the code written for recent versions of **Python 3**. The code in this practical will not work with Python 2 unless you modify it. If you are using your own Python installation, ensure you have a setup identical to that described in the installation shell script (which is intended for use with the department lab machines). We will be unable to support installation on personal machines due to time constraints, so please use the lab machines and the setup script if you are unfamiliar with how to install Anaconda.\n",
    "\n",
    "To execute a notebook cell, press `shift-enter`. The return value of the last command will be displayed, if it is not `None`.\n",
    "\n",
    "Potentially useful library documentation, references, and resources:\n",
    "\n",
    "* IPython notebooks: <https://ipython.org/ipython-doc/3/notebook/notebook.html#introduction>\n",
    "* Numpy numerical array library: <https://docs.scipy.org/doc/>\n",
    "* Gensim's word2vec: <https://radimrehurek.com/gensim/models/word2vec.html>\n",
    "* Bokeh interactive plots: <http://bokeh.pydata.org/en/latest/> (we provide plotting code here, but click the thumbnails for more examples to copy-paste)\n",
    "* scikit-learn ML library (aka `sklearn`): <http://scikit-learn.org/stable/documentation.html>\n",
    "* nltk NLP toolkit: <http://www.nltk.org/>\n",
    "* tutorial for processing xml in python using `lxml`: <http://lxml.de/tutorial.html> (we did this for you below, but in case you need it in the future)"
   ]
  },
  {
   "cell_type": "code",
   "execution_count": 53,
   "metadata": {
    "collapsed": true
   },
   "outputs": [],
   "source": [
    "import numpy as np\n",
    "import os\n",
    "from random import shuffle\n",
    "import re"
   ]
  },
  {
   "cell_type": "code",
   "execution_count": 54,
   "metadata": {},
   "outputs": [
    {
     "data": {
      "text/html": [
       "\n",
       "    <div class=\"bk-root\">\n",
       "        <a href=\"http://bokeh.pydata.org\" target=\"_blank\" class=\"bk-logo bk-logo-small bk-logo-notebook\"></a>\n",
       "        <span id=\"398da9fb-7f97-46f4-beb4-154751f9d562\">Loading BokehJS ...</span>\n",
       "    </div>"
      ]
     },
     "metadata": {},
     "output_type": "display_data"
    },
    {
     "data": {
      "application/javascript": [
       "\n",
       "(function(global) {\n",
       "  function now() {\n",
       "    return new Date();\n",
       "  }\n",
       "\n",
       "  var force = true;\n",
       "\n",
       "  if (typeof (window._bokeh_onload_callbacks) === \"undefined\" || force === true) {\n",
       "    window._bokeh_onload_callbacks = [];\n",
       "    window._bokeh_is_loading = undefined;\n",
       "  }\n",
       "\n",
       "\n",
       "  \n",
       "  if (typeof (window._bokeh_timeout) === \"undefined\" || force === true) {\n",
       "    window._bokeh_timeout = Date.now() + 5000;\n",
       "    window._bokeh_failed_load = false;\n",
       "  }\n",
       "\n",
       "  var NB_LOAD_WARNING = {'data': {'text/html':\n",
       "     \"<div style='background-color: #fdd'>\\n\"+\n",
       "     \"<p>\\n\"+\n",
       "     \"BokehJS does not appear to have successfully loaded. If loading BokehJS from CDN, this \\n\"+\n",
       "     \"may be due to a slow or bad network connection. Possible fixes:\\n\"+\n",
       "     \"</p>\\n\"+\n",
       "     \"<ul>\\n\"+\n",
       "     \"<li>re-rerun `output_notebook()` to attempt to load from CDN again, or</li>\\n\"+\n",
       "     \"<li>use INLINE resources instead, as so:</li>\\n\"+\n",
       "     \"</ul>\\n\"+\n",
       "     \"<code>\\n\"+\n",
       "     \"from bokeh.resources import INLINE\\n\"+\n",
       "     \"output_notebook(resources=INLINE)\\n\"+\n",
       "     \"</code>\\n\"+\n",
       "     \"</div>\"}};\n",
       "\n",
       "  function display_loaded() {\n",
       "    if (window.Bokeh !== undefined) {\n",
       "      document.getElementById(\"398da9fb-7f97-46f4-beb4-154751f9d562\").textContent = \"BokehJS successfully loaded.\";\n",
       "    } else if (Date.now() < window._bokeh_timeout) {\n",
       "      setTimeout(display_loaded, 100)\n",
       "    }\n",
       "  }\n",
       "\n",
       "  function run_callbacks() {\n",
       "    window._bokeh_onload_callbacks.forEach(function(callback) { callback() });\n",
       "    delete window._bokeh_onload_callbacks\n",
       "    console.info(\"Bokeh: all callbacks have finished\");\n",
       "  }\n",
       "\n",
       "  function load_libs(js_urls, callback) {\n",
       "    window._bokeh_onload_callbacks.push(callback);\n",
       "    if (window._bokeh_is_loading > 0) {\n",
       "      console.log(\"Bokeh: BokehJS is being loaded, scheduling callback at\", now());\n",
       "      return null;\n",
       "    }\n",
       "    if (js_urls == null || js_urls.length === 0) {\n",
       "      run_callbacks();\n",
       "      return null;\n",
       "    }\n",
       "    console.log(\"Bokeh: BokehJS not loaded, scheduling load and callback at\", now());\n",
       "    window._bokeh_is_loading = js_urls.length;\n",
       "    for (var i = 0; i < js_urls.length; i++) {\n",
       "      var url = js_urls[i];\n",
       "      var s = document.createElement('script');\n",
       "      s.src = url;\n",
       "      s.async = false;\n",
       "      s.onreadystatechange = s.onload = function() {\n",
       "        window._bokeh_is_loading--;\n",
       "        if (window._bokeh_is_loading === 0) {\n",
       "          console.log(\"Bokeh: all BokehJS libraries loaded\");\n",
       "          run_callbacks()\n",
       "        }\n",
       "      };\n",
       "      s.onerror = function() {\n",
       "        console.warn(\"failed to load library \" + url);\n",
       "      };\n",
       "      console.log(\"Bokeh: injecting script tag for BokehJS library: \", url);\n",
       "      document.getElementsByTagName(\"head\")[0].appendChild(s);\n",
       "    }\n",
       "  };var element = document.getElementById(\"398da9fb-7f97-46f4-beb4-154751f9d562\");\n",
       "  if (element == null) {\n",
       "    console.log(\"Bokeh: ERROR: autoload.js configured with elementid '398da9fb-7f97-46f4-beb4-154751f9d562' but no matching script tag was found. \")\n",
       "    return false;\n",
       "  }\n",
       "\n",
       "  var js_urls = [\"https://cdn.pydata.org/bokeh/release/bokeh-0.12.4.min.js\", \"https://cdn.pydata.org/bokeh/release/bokeh-widgets-0.12.4.min.js\"];\n",
       "\n",
       "  var inline_js = [\n",
       "    function(Bokeh) {\n",
       "      Bokeh.set_log_level(\"info\");\n",
       "    },\n",
       "    \n",
       "    function(Bokeh) {\n",
       "      \n",
       "      document.getElementById(\"398da9fb-7f97-46f4-beb4-154751f9d562\").textContent = \"BokehJS is loading...\";\n",
       "    },\n",
       "    function(Bokeh) {\n",
       "      console.log(\"Bokeh: injecting CSS: https://cdn.pydata.org/bokeh/release/bokeh-0.12.4.min.css\");\n",
       "      Bokeh.embed.inject_css(\"https://cdn.pydata.org/bokeh/release/bokeh-0.12.4.min.css\");\n",
       "      console.log(\"Bokeh: injecting CSS: https://cdn.pydata.org/bokeh/release/bokeh-widgets-0.12.4.min.css\");\n",
       "      Bokeh.embed.inject_css(\"https://cdn.pydata.org/bokeh/release/bokeh-widgets-0.12.4.min.css\");\n",
       "    }\n",
       "  ];\n",
       "\n",
       "  function run_inline_js() {\n",
       "    \n",
       "    if ((window.Bokeh !== undefined) || (force === true)) {\n",
       "      for (var i = 0; i < inline_js.length; i++) {\n",
       "        inline_js[i](window.Bokeh);\n",
       "      }if (force === true) {\n",
       "        display_loaded();\n",
       "      }} else if (Date.now() < window._bokeh_timeout) {\n",
       "      setTimeout(run_inline_js, 100);\n",
       "    } else if (!window._bokeh_failed_load) {\n",
       "      console.log(\"Bokeh: BokehJS failed to load within specified timeout.\");\n",
       "      window._bokeh_failed_load = true;\n",
       "    } else if (force !== true) {\n",
       "      var cell = $(document.getElementById(\"398da9fb-7f97-46f4-beb4-154751f9d562\")).parents('.cell').data().cell;\n",
       "      cell.output_area.append_execute_result(NB_LOAD_WARNING)\n",
       "    }\n",
       "\n",
       "  }\n",
       "\n",
       "  if (window._bokeh_is_loading === 0) {\n",
       "    console.log(\"Bokeh: BokehJS loaded, going straight to plotting\");\n",
       "    run_inline_js();\n",
       "  } else {\n",
       "    load_libs(js_urls, function() {\n",
       "      console.log(\"Bokeh: BokehJS plotting callback run at\", now());\n",
       "      run_inline_js();\n",
       "    });\n",
       "  }\n",
       "}(this));"
      ]
     },
     "metadata": {},
     "output_type": "display_data"
    }
   ],
   "source": [
    "from bokeh.models import ColumnDataSource, LabelSet\n",
    "from bokeh.plotting import figure, show, output_file\n",
    "from bokeh.io import output_notebook\n",
    "output_notebook()"
   ]
  },
  {
   "cell_type": "markdown",
   "metadata": {},
   "source": [
    "### Part 0: Download the TED dataset"
   ]
  },
  {
   "cell_type": "code",
   "execution_count": 56,
   "metadata": {
    "collapsed": true
   },
   "outputs": [],
   "source": [
    "import urllib.request\n",
    "import zipfile\n",
    "import lxml.etree"
   ]
  },
  {
   "cell_type": "code",
   "execution_count": 57,
   "metadata": {
    "collapsed": true
   },
   "outputs": [],
   "source": [
    "# Download the dataset if it's not already there: this may take a minute as it is 75MB\n",
    "if not os.path.isfile('ted_en-20160408.zip'):\n",
    "    urllib.request.urlretrieve(\"https://wit3.fbk.eu/get.php?path=XML_releases/xml/ted_en-20160408.zip&filename=ted_en-20160408.zip\", filename=\"ted_en-20160408.zip\")"
   ]
  },
  {
   "cell_type": "code",
   "execution_count": 58,
   "metadata": {
    "collapsed": true
   },
   "outputs": [],
   "source": [
    "# For now, we're only interested in the subtitle text, so let's extract that from the XML:\n",
    "with zipfile.ZipFile('ted_en-20160408.zip', 'r') as z:\n",
    "    doc = lxml.etree.parse(z.open('ted_en-20160408.xml', 'r'))\n",
    "input_text = '\\n'.join(doc.xpath('//content/text()'))\n",
    "del doc"
   ]
  },
  {
   "cell_type": "markdown",
   "metadata": {},
   "source": [
    "### Part 1: Preprocessing\n",
    "\n",
    "In this part, we attempt to clean up the raw subtitles a bit, so that we get only sentences. The following substring shows examples of what we're trying to get rid of. Since it's hard to define precisely what we want to get rid of, we'll just use some simple heuristics."
   ]
  },
  {
   "cell_type": "code",
   "execution_count": 59,
   "metadata": {
    "scrolled": false
   },
   "outputs": [
    {
     "data": {
      "text/plain": [
       "' baby does.\\n(Video) Hyowon Gweon: See this? (Ball squeaks) Did you see that? (Ball squeaks) Cool. See this one? (Ball squeaks) Wow.\\nLaura Schulz: Told you. (Laughs)\\n(Vide'"
      ]
     },
     "execution_count": 59,
     "metadata": {},
     "output_type": "execute_result"
    }
   ],
   "source": [
    "i = input_text.find(\"Hyowon Gweon: See this?\")\n",
    "input_text[i-20:i+150]"
   ]
  },
  {
   "cell_type": "markdown",
   "metadata": {},
   "source": [
    "Let's start by removing all parenthesized strings using a regex:"
   ]
  },
  {
   "cell_type": "code",
   "execution_count": 60,
   "metadata": {
    "collapsed": true
   },
   "outputs": [],
   "source": [
    "input_text_noparens = re.sub(r'\\([^)]*\\)', '', input_text)"
   ]
  },
  {
   "cell_type": "markdown",
   "metadata": {},
   "source": [
    "We can verify the same location in the text is now clean as follows. We won't worry about the irregular spaces since we'll later split the text into sentences and tokenize it anyway."
   ]
  },
  {
   "cell_type": "code",
   "execution_count": 61,
   "metadata": {},
   "outputs": [
    {
     "data": {
      "text/plain": [
       "\"hat the baby does.\\n Hyowon Gweon: See this?  Did you see that?  Cool. See this one?  Wow.\\nLaura Schulz: Told you. \\n HG: See this one?  Hey Clara, this one's for you. You \""
      ]
     },
     "execution_count": 61,
     "metadata": {},
     "output_type": "execute_result"
    }
   ],
   "source": [
    "i = input_text_noparens.find(\"Hyowon Gweon: See this?\")\n",
    "input_text_noparens[i-20:i+150]"
   ]
  },
  {
   "cell_type": "markdown",
   "metadata": {},
   "source": [
    "Now, let's attempt to remove speakers' names that occur at the beginning of a line, by deleting pieces of the form \"`<up to 20 characters>:`\", as shown in this example. Of course, this is an imperfect heuristic. "
   ]
  },
  {
   "cell_type": "code",
   "execution_count": 62,
   "metadata": {},
   "outputs": [
    {
     "data": {
      "text/plain": [
       "[\"Here are two reasons companies fail: they only do more of the same, or they only do what's new\",\n",
       " 'To me the real, real solution to quality growth is figuring out the balance between two activities: exploration and exploitation',\n",
       " ' Both are necessary, but it can be too much of a good thing',\n",
       " 'Consider Facit',\n",
       " \" I'm actually old enough to remember them\"]"
      ]
     },
     "execution_count": 62,
     "metadata": {},
     "output_type": "execute_result"
    }
   ],
   "source": [
    "sentences_strings_ted = []\n",
    "for line in input_text_noparens.split('\\n'):\n",
    "    m = re.match(r'^(?:(?P<precolon>[^:]{,20}):)?(?P<postcolon>.*)$', line)\n",
    "    sentences_strings_ted.extend(sent for sent in m.groupdict()['postcolon'].split('.') if sent)\n",
    "\n",
    "# Uncomment if you need to save some RAM: these strings are about 50MB.\n",
    "# del input_text, input_text_noparens\n",
    "\n",
    "# Let's view the first few:\n",
    "sentences_strings_ted[:5]"
   ]
  },
  {
   "cell_type": "markdown",
   "metadata": {},
   "source": [
    "Now that we have sentences, we're ready to tokenize each of them into words. This tokenization is imperfect, of course. For instance, how many tokens is \"can't\", and where/how do we split it? We'll take the simplest naive approach of splitting on spaces. Before splitting, we remove non-alphanumeric characters, such as punctuation. You may want to consider the following question: why do we replace these characters with spaces rather than deleting them? Think of a case where this yields a different answer."
   ]
  },
  {
   "cell_type": "code",
   "execution_count": 63,
   "metadata": {
    "collapsed": true
   },
   "outputs": [],
   "source": [
    "sentences_ted = []\n",
    "for sent_str in sentences_strings_ted:\n",
    "    tokens = re.sub(r\"[^a-z0-9]+\", \" \", sent_str.lower()).split()\n",
    "    sentences_ted.append(tokens)"
   ]
  },
  {
   "cell_type": "markdown",
   "metadata": {},
   "source": [
    "Two sample processed sentences:"
   ]
  },
  {
   "cell_type": "code",
   "execution_count": 64,
   "metadata": {},
   "outputs": [
    {
     "data": {
      "text/plain": [
       "266694"
      ]
     },
     "execution_count": 64,
     "metadata": {},
     "output_type": "execute_result"
    }
   ],
   "source": [
    "len(sentences_ted)"
   ]
  },
  {
   "cell_type": "code",
   "execution_count": 65,
   "metadata": {},
   "outputs": [
    {
     "name": "stdout",
     "output_type": "stream",
     "text": [
      "['here', 'are', 'two', 'reasons', 'companies', 'fail', 'they', 'only', 'do', 'more', 'of', 'the', 'same', 'or', 'they', 'only', 'do', 'what', 's', 'new']\n",
      "['to', 'me', 'the', 'real', 'real', 'solution', 'to', 'quality', 'growth', 'is', 'figuring', 'out', 'the', 'balance', 'between', 'two', 'activities', 'exploration', 'and', 'exploitation']\n"
     ]
    }
   ],
   "source": [
    "print(sentences_ted[0])\n",
    "print(sentences_ted[1])"
   ]
  },
  {
   "cell_type": "markdown",
   "metadata": {},
   "source": [
    "### Part 2: Word Frequencies"
   ]
  },
  {
   "cell_type": "markdown",
   "metadata": {},
   "source": [
    "If you store the counts of the top 1000 words in a list called `counts_ted_top1000`, the code below will plot the histogram requested in the writeup."
   ]
  },
  {
   "cell_type": "code",
   "execution_count": 66,
   "metadata": {
    "collapsed": true
   },
   "outputs": [],
   "source": [
    "import collections"
   ]
  },
  {
   "cell_type": "code",
   "execution_count": 67,
   "metadata": {
    "collapsed": true
   },
   "outputs": [],
   "source": [
    "c = collections.Counter()\n",
    "for sentence in sentences_ted:\n",
    "    for word in sentence:\n",
    "        c[word] += 1\n",
    "        \n",
    "#print(c.most_common)\n",
    "\n",
    "words_top_ted = list(w[0] for w in c.most_common(1000))\n",
    "counts_top_ted = list(w[1] for w in c.most_common(1000))\n",
    "\n",
    "#print(words_top_ted)"
   ]
  },
  {
   "cell_type": "markdown",
   "metadata": {},
   "source": [
    "Plot distribution of top-1000 words"
   ]
  },
  {
   "cell_type": "code",
   "execution_count": null,
   "metadata": {
    "collapsed": true
   },
   "outputs": [],
   "source": [
    "hist, edges = np.histogram(words_top_ted, density=True, bins=100, normed=True)\n",
    "\n",
    "p = figure(tools=\"pan,wheel_zoom,reset,save\",\n",
    "           toolbar_location=\"above\",\n",
    "           title=\"Top-1000 words distribution\")\n",
    "p.quad(top=hist, bottom=0, left=edges[:-1], right=edges[1:], line_color=\"#555555\")\n",
    "show(p)"
   ]
  },
  {
   "cell_type": "markdown",
   "metadata": {},
   "source": [
    "### Part 3: Train Word2Vec"
   ]
  },
  {
   "cell_type": "code",
   "execution_count": 68,
   "metadata": {},
   "outputs": [],
   "source": [
    "from gensim.models import Word2Vec"
   ]
  },
  {
   "cell_type": "code",
   "execution_count": 69,
   "metadata": {
    "collapsed": true
   },
   "outputs": [],
   "source": [
    "model_ted = Word2Vec(sentences_ted, size=100, window=5, min_count=5, workers=4)\n",
    "model_ted.save(\"ted_model\")\n",
    "model_ted = Word2Vec.load(\"ted_model\")"
   ]
  },
  {
   "cell_type": "markdown",
   "metadata": {},
   "source": [
    "### Part 4: Ted Learnt Representations"
   ]
  },
  {
   "cell_type": "markdown",
   "metadata": {},
   "source": [
    "Finding similar words: (see gensim docs for more functionality of `most_similar`)"
   ]
  },
  {
   "cell_type": "code",
   "execution_count": 70,
   "metadata": {},
   "outputs": [
    {
     "data": {
      "text/plain": [
       "[('woman', 0.8623941540718079),\n",
       " ('guy', 0.8020063042640686),\n",
       " ('lady', 0.7517378330230713),\n",
       " ('girl', 0.7424250245094299),\n",
       " ('boy', 0.7260259389877319),\n",
       " ('gentleman', 0.7158139944076538),\n",
       " ('soldier', 0.7101040482521057),\n",
       " ('kid', 0.684889554977417),\n",
       " ('poet', 0.6725330352783203),\n",
       " ('surgeon', 0.6574485898017883)]"
      ]
     },
     "execution_count": 70,
     "metadata": {},
     "output_type": "execute_result"
    }
   ],
   "source": [
    "model_ted.most_similar(\"man\")"
   ]
  },
  {
   "cell_type": "code",
   "execution_count": 71,
   "metadata": {},
   "outputs": [
    {
     "data": {
      "text/plain": [
       "[('machine', 0.7463439702987671),\n",
       " ('software', 0.7283808588981628),\n",
       " ('robot', 0.7065974473953247),\n",
       " ('device', 0.6993850469589233),\n",
       " ('3d', 0.674721360206604),\n",
       " ('program', 0.661706805229187),\n",
       " ('desktop', 0.6491623520851135),\n",
       " ('printer', 0.6485422849655151),\n",
       " ('chip', 0.6469804048538208),\n",
       " ('video', 0.6443352699279785)]"
      ]
     },
     "execution_count": 71,
     "metadata": {},
     "output_type": "execute_result"
    }
   ],
   "source": [
    "model_ted.most_similar(\"computer\")"
   ]
  },
  {
   "cell_type": "code",
   "execution_count": 72,
   "metadata": {},
   "outputs": [
    {
     "data": {
      "text/plain": [
       "[('strategy', 0.6890659332275391),\n",
       " ('problem', 0.6789311170578003),\n",
       " ('challenge', 0.6711745858192444),\n",
       " ('issue', 0.6573665738105774),\n",
       " ('approach', 0.6467491388320923),\n",
       " ('concept', 0.6324085593223572),\n",
       " ('response', 0.6308174729347229),\n",
       " ('tool', 0.6259669065475464),\n",
       " ('task', 0.6233576536178589),\n",
       " ('mechanism', 0.6106288433074951)]"
      ]
     },
     "execution_count": 72,
     "metadata": {},
     "output_type": "execute_result"
    }
   ],
   "source": [
    "model_ted.most_similar(\"solution\")"
   ]
  },
  {
   "cell_type": "code",
   "execution_count": 73,
   "metadata": {},
   "outputs": [
    {
     "data": {
      "text/plain": [
       "[('president', 0.7985718846321106),\n",
       " ('poet', 0.7724171876907349),\n",
       " ('named', 0.7710288763046265),\n",
       " ('queen', 0.7601550221443176),\n",
       " ('martin', 0.7555313110351562),\n",
       " ('james', 0.7550230026245117),\n",
       " ('john', 0.7460649609565735),\n",
       " ('barack', 0.7429082989692688),\n",
       " ('obama', 0.7402222156524658),\n",
       " ('luther', 0.7393237948417664)]"
      ]
     },
     "execution_count": 73,
     "metadata": {},
     "output_type": "execute_result"
    }
   ],
   "source": [
    "model_ted.most_similar(positive=['woman', 'king'], negative=['man'])"
   ]
  },
  {
   "cell_type": "markdown",
   "metadata": {},
   "source": [
    "#### t-SNE visualization\n",
    "To use the t-SNE code below, first put a list of the top 1000 words (as strings) into a variable `words_top_ted`. The following code gets the corresponding vectors from the model, assuming it's called `model_ted`:"
   ]
  },
  {
   "cell_type": "code",
   "execution_count": 74,
   "metadata": {
    "collapsed": true
   },
   "outputs": [],
   "source": [
    "# This assumes words_top_ted is a list of strings, the top 1000 words\n",
    "words_top_vec_ted = model_ted[words_top_ted]"
   ]
  },
  {
   "cell_type": "code",
   "execution_count": 75,
   "metadata": {
    "collapsed": true
   },
   "outputs": [],
   "source": [
    "from sklearn.manifold import TSNE\n",
    "tsne = TSNE(n_components=2, random_state=0)\n",
    "words_top_ted_tsne = tsne.fit_transform(words_top_vec_ted)"
   ]
  },
  {
   "cell_type": "code",
   "execution_count": 76,
   "metadata": {},
   "outputs": [
    {
     "data": {
      "text/html": [
       "\n",
       "\n",
       "    <div class=\"bk-root\">\n",
       "        <div class=\"bk-plotdiv\" id=\"49af0026-cd7e-40a4-85b7-e88a9be41eaf\"></div>\n",
       "    </div>\n",
       "<script type=\"text/javascript\">\n",
       "  \n",
       "  (function(global) {\n",
       "    function now() {\n",
       "      return new Date();\n",
       "    }\n",
       "  \n",
       "    var force = false;\n",
       "  \n",
       "    if (typeof (window._bokeh_onload_callbacks) === \"undefined\" || force === true) {\n",
       "      window._bokeh_onload_callbacks = [];\n",
       "      window._bokeh_is_loading = undefined;\n",
       "    }\n",
       "  \n",
       "  \n",
       "    \n",
       "    if (typeof (window._bokeh_timeout) === \"undefined\" || force === true) {\n",
       "      window._bokeh_timeout = Date.now() + 0;\n",
       "      window._bokeh_failed_load = false;\n",
       "    }\n",
       "  \n",
       "    var NB_LOAD_WARNING = {'data': {'text/html':\n",
       "       \"<div style='background-color: #fdd'>\\n\"+\n",
       "       \"<p>\\n\"+\n",
       "       \"BokehJS does not appear to have successfully loaded. If loading BokehJS from CDN, this \\n\"+\n",
       "       \"may be due to a slow or bad network connection. Possible fixes:\\n\"+\n",
       "       \"</p>\\n\"+\n",
       "       \"<ul>\\n\"+\n",
       "       \"<li>re-rerun `output_notebook()` to attempt to load from CDN again, or</li>\\n\"+\n",
       "       \"<li>use INLINE resources instead, as so:</li>\\n\"+\n",
       "       \"</ul>\\n\"+\n",
       "       \"<code>\\n\"+\n",
       "       \"from bokeh.resources import INLINE\\n\"+\n",
       "       \"output_notebook(resources=INLINE)\\n\"+\n",
       "       \"</code>\\n\"+\n",
       "       \"</div>\"}};\n",
       "  \n",
       "    function display_loaded() {\n",
       "      if (window.Bokeh !== undefined) {\n",
       "        document.getElementById(\"49af0026-cd7e-40a4-85b7-e88a9be41eaf\").textContent = \"BokehJS successfully loaded.\";\n",
       "      } else if (Date.now() < window._bokeh_timeout) {\n",
       "        setTimeout(display_loaded, 100)\n",
       "      }\n",
       "    }\n",
       "  \n",
       "    function run_callbacks() {\n",
       "      window._bokeh_onload_callbacks.forEach(function(callback) { callback() });\n",
       "      delete window._bokeh_onload_callbacks\n",
       "      console.info(\"Bokeh: all callbacks have finished\");\n",
       "    }\n",
       "  \n",
       "    function load_libs(js_urls, callback) {\n",
       "      window._bokeh_onload_callbacks.push(callback);\n",
       "      if (window._bokeh_is_loading > 0) {\n",
       "        console.log(\"Bokeh: BokehJS is being loaded, scheduling callback at\", now());\n",
       "        return null;\n",
       "      }\n",
       "      if (js_urls == null || js_urls.length === 0) {\n",
       "        run_callbacks();\n",
       "        return null;\n",
       "      }\n",
       "      console.log(\"Bokeh: BokehJS not loaded, scheduling load and callback at\", now());\n",
       "      window._bokeh_is_loading = js_urls.length;\n",
       "      for (var i = 0; i < js_urls.length; i++) {\n",
       "        var url = js_urls[i];\n",
       "        var s = document.createElement('script');\n",
       "        s.src = url;\n",
       "        s.async = false;\n",
       "        s.onreadystatechange = s.onload = function() {\n",
       "          window._bokeh_is_loading--;\n",
       "          if (window._bokeh_is_loading === 0) {\n",
       "            console.log(\"Bokeh: all BokehJS libraries loaded\");\n",
       "            run_callbacks()\n",
       "          }\n",
       "        };\n",
       "        s.onerror = function() {\n",
       "          console.warn(\"failed to load library \" + url);\n",
       "        };\n",
       "        console.log(\"Bokeh: injecting script tag for BokehJS library: \", url);\n",
       "        document.getElementsByTagName(\"head\")[0].appendChild(s);\n",
       "      }\n",
       "    };var element = document.getElementById(\"49af0026-cd7e-40a4-85b7-e88a9be41eaf\");\n",
       "    if (element == null) {\n",
       "      console.log(\"Bokeh: ERROR: autoload.js configured with elementid '49af0026-cd7e-40a4-85b7-e88a9be41eaf' but no matching script tag was found. \")\n",
       "      return false;\n",
       "    }\n",
       "  \n",
       "    var js_urls = [];\n",
       "  \n",
       "    var inline_js = [\n",
       "      function(Bokeh) {\n",
       "        (function() {\n",
       "          var fn = function() {\n",
       "            var docs_json = {\"0ed6741a-d03b-4d10-90dc-4378969a136e\":{\"roots\":{\"references\":[{\"attributes\":{},\"id\":\"2f3692c3-8638-4fef-b7ad-03deeeb60ce9\",\"type\":\"BasicTickFormatter\"},{\"attributes\":{\"below\":[{\"id\":\"cc7d99f3-e511-4633-ac3f-9e263bb5f48c\",\"type\":\"LinearAxis\"}],\"left\":[{\"id\":\"ed6f88c7-11ca-4d32-aea7-fda40893a373\",\"type\":\"LinearAxis\"}],\"renderers\":[{\"id\":\"cc7d99f3-e511-4633-ac3f-9e263bb5f48c\",\"type\":\"LinearAxis\"},{\"id\":\"c758c165-ca6f-46b1-8801-d29447e5eb03\",\"type\":\"Grid\"},{\"id\":\"ed6f88c7-11ca-4d32-aea7-fda40893a373\",\"type\":\"LinearAxis\"},{\"id\":\"91415e8d-102b-4b84-aca2-ec46e12d59f0\",\"type\":\"Grid\"},{\"id\":\"e31786fe-20c3-43c3-aaea-d2bf4d56ed3d\",\"type\":\"GlyphRenderer\"},{\"id\":\"63a0a54a-a064-468d-8af4-0ce8d5feee4d\",\"type\":\"LabelSet\"}],\"title\":{\"id\":\"4b362bdb-ba85-4733-ab2c-61646b99d589\",\"type\":\"Title\"},\"tool_events\":{\"id\":\"59e1aac3-54b2-4c17-9f21-3590bc7cd4c6\",\"type\":\"ToolEvents\"},\"toolbar\":{\"id\":\"3cab2957-c6f3-4f02-97cc-a454c9ed22d6\",\"type\":\"Toolbar\"},\"toolbar_location\":\"above\",\"x_range\":{\"id\":\"fe5b1eaf-0704-4642-b962-a92a239c435c\",\"type\":\"DataRange1d\"},\"y_range\":{\"id\":\"d4742814-953f-4c74-a9f2-88999845762b\",\"type\":\"DataRange1d\"}},\"id\":\"4fce676f-8050-4da6-ad97-c52951b0859f\",\"subtype\":\"Figure\",\"type\":\"Plot\"},{\"attributes\":{\"plot\":{\"id\":\"4fce676f-8050-4da6-ad97-c52951b0859f\",\"subtype\":\"Figure\",\"type\":\"Plot\"}},\"id\":\"97bf256e-236a-4a7b-a1b9-0d62ee3af0df\",\"type\":\"PanTool\"},{\"attributes\":{\"fill_color\":{\"value\":\"#1f77b4\"},\"line_color\":{\"value\":\"#1f77b4\"},\"size\":{\"units\":\"screen\",\"value\":8},\"x\":{\"field\":\"x1\"},\"y\":{\"field\":\"x2\"}},\"id\":\"9567450d-bd3e-4653-ade9-fc48dea24402\",\"type\":\"Circle\"},{\"attributes\":{},\"id\":\"88be9eba-6398-4cc8-943a-081e97c3214a\",\"type\":\"BasicTicker\"},{\"attributes\":{\"plot\":null,\"text\":\"word2vec T-SNE for most common words\"},\"id\":\"4b362bdb-ba85-4733-ab2c-61646b99d589\",\"type\":\"Title\"},{\"attributes\":{\"plot\":{\"id\":\"4fce676f-8050-4da6-ad97-c52951b0859f\",\"subtype\":\"Figure\",\"type\":\"Plot\"},\"ticker\":{\"id\":\"88be9eba-6398-4cc8-943a-081e97c3214a\",\"type\":\"BasicTicker\"}},\"id\":\"c758c165-ca6f-46b1-8801-d29447e5eb03\",\"type\":\"Grid\"},{\"attributes\":{\"callback\":null},\"id\":\"fe5b1eaf-0704-4642-b962-a92a239c435c\",\"type\":\"DataRange1d\"},{\"attributes\":{},\"id\":\"4619d140-edef-4bc5-86eb-a51be991ce10\",\"type\":\"BasicTickFormatter\"},{\"attributes\":{\"fill_alpha\":{\"value\":0.1},\"fill_color\":{\"value\":\"#1f77b4\"},\"line_alpha\":{\"value\":0.1},\"line_color\":{\"value\":\"#1f77b4\"},\"size\":{\"units\":\"screen\",\"value\":8},\"x\":{\"field\":\"x1\"},\"y\":{\"field\":\"x2\"}},\"id\":\"4c1ca256-be29-4edd-a587-b7fed1143e54\",\"type\":\"Circle\"},{\"attributes\":{\"active_drag\":\"auto\",\"active_scroll\":\"auto\",\"active_tap\":\"auto\",\"tools\":[{\"id\":\"97bf256e-236a-4a7b-a1b9-0d62ee3af0df\",\"type\":\"PanTool\"},{\"id\":\"3fead1d6-3a51-42e2-964b-c0a849c67c4b\",\"type\":\"WheelZoomTool\"},{\"id\":\"1fbf1ebb-1c13-4ace-aa26-66c36a0d037d\",\"type\":\"ResetTool\"},{\"id\":\"4c5519fe-6ff4-4e27-8a6d-8aad60bf7933\",\"type\":\"SaveTool\"}]},\"id\":\"3cab2957-c6f3-4f02-97cc-a454c9ed22d6\",\"type\":\"Toolbar\"},{\"attributes\":{\"plot\":{\"id\":\"4fce676f-8050-4da6-ad97-c52951b0859f\",\"subtype\":\"Figure\",\"type\":\"Plot\"}},\"id\":\"4c5519fe-6ff4-4e27-8a6d-8aad60bf7933\",\"type\":\"SaveTool\"},{\"attributes\":{},\"id\":\"37747910-9526-4c60-97e5-ef7aa4c9afc2\",\"type\":\"BasicTicker\"},{\"attributes\":{\"callback\":null,\"column_names\":[\"x1\",\"x2\",\"names\"],\"data\":{\"names\":[\"the\",\"and\",\"to\",\"of\",\"a\",\"that\",\"i\",\"in\",\"it\",\"you\",\"we\",\"is\",\"s\",\"this\",\"so\",\"they\",\"was\",\"for\",\"are\",\"have\",\"but\",\"what\",\"on\",\"with\",\"can\",\"t\",\"about\",\"there\",\"be\",\"as\",\"at\",\"all\",\"not\",\"do\",\"my\",\"one\",\"re\",\"people\",\"like\",\"if\",\"from\",\"now\",\"our\",\"he\",\"an\",\"just\",\"these\",\"or\",\"when\",\"because\",\"very\",\"me\",\"out\",\"by\",\"them\",\"how\",\"know\",\"up\",\"going\",\"had\",\"more\",\"think\",\"who\",\"were\",\"see\",\"your\",\"their\",\"which\",\"would\",\"here\",\"really\",\"get\",\"ve\",\"then\",\"m\",\"world\",\"us\",\"time\",\"some\",\"has\",\"don\",\"actually\",\"into\",\"way\",\"where\",\"will\",\"years\",\"things\",\"other\",\"no\",\"could\",\"go\",\"well\",\"want\",\"been\",\"make\",\"right\",\"she\",\"said\",\"something\",\"those\",\"first\",\"two\",\"than\",\"much\",\"also\",\"look\",\"new\",\"thing\",\"little\",\"got\",\"back\",\"over\",\"most\",\"say\",\"even\",\"his\",\"life\",\"only\",\"work\",\"many\",\"take\",\"need\",\"did\",\"lot\",\"kind\",\"why\",\"good\",\"around\",\"every\",\"different\",\"down\",\"ll\",\"let\",\"her\",\"through\",\"same\",\"being\",\"come\",\"d\",\"day\",\"year\",\"three\",\"use\",\"doing\",\"put\",\"called\",\"any\",\"today\",\"percent\",\"made\",\"after\",\"thank\",\"tell\",\"great\",\"human\",\"find\",\"didn\",\"fact\",\"talk\",\"change\",\"started\",\"another\",\"idea\",\"big\",\"last\",\"own\",\"before\",\"its\",\"never\",\"should\",\"better\",\"give\",\"thought\",\"went\",\"might\",\"important\",\"000\",\"again\",\"able\",\"together\",\"still\",\"problem\",\"off\",\"next\",\"part\",\"course\",\"system\",\"him\",\"does\",\"each\",\"start\",\"show\",\"long\",\"ago\",\"story\",\"came\",\"brain\",\"few\",\"bit\",\"between\",\"used\",\"place\",\"technology\",\"women\",\"too\",\"old\",\"mean\",\"data\",\"water\",\"looking\",\"question\",\"maybe\",\"found\",\"love\",\"doesn\",\"end\",\"example\",\"10\",\"done\",\"point\",\"four\",\"real\",\"wanted\",\"ever\",\"school\",\"understand\",\"sort\",\"live\",\"call\",\"whole\",\"children\",\"always\",\"trying\",\"may\",\"person\",\"away\",\"believe\",\"feel\",\"try\",\"million\",\"working\",\"help\",\"everything\",\"five\",\"country\",\"thinking\",\"second\",\"using\",\"information\",\"money\",\"means\",\"power\",\"took\",\"times\",\"high\",\"space\",\"number\",\"kids\",\"home\",\"become\",\"create\",\"small\",\"design\",\"making\",\"best\",\"left\",\"getting\",\"future\",\"enough\",\"man\",\"quite\",\"city\",\"without\",\"sense\",\"happened\",\"comes\",\"social\",\"probably\",\"less\",\"light\",\"talking\",\"energy\",\"am\",\"building\",\"science\",\"food\",\"body\",\"told\",\"interesting\",\"ask\",\"half\",\"pretty\",\"hard\",\"play\",\"anything\",\"lives\",\"countries\",\"coming\",\"such\",\"family\",\"stuff\",\"dollars\",\"earth\",\"moment\",\"20\",\"imagine\",\"across\",\"side\",\"while\",\"saw\",\"happen\",\"once\",\"okay\",\"build\",\"having\",\"men\",\"later\",\"experience\",\"makes\",\"asked\",\"living\",\"seen\",\"says\",\"room\",\"hand\",\"simple\",\"health\",\"ways\",\"else\",\"case\",\"yet\",\"almost\",\"young\",\"days\",\"nothing\",\"care\",\"bad\",\"happens\",\"goes\",\"move\",\"states\",\"reason\",\"computer\",\"open\",\"learn\",\"africa\",\"process\",\"inside\",\"someone\",\"six\",\"far\",\"mind\",\"project\",\"remember\",\"single\",\"picture\",\"both\",\"whether\",\"problems\",\"saying\",\"community\",\"basically\",\"already\",\"within\",\"looked\",\"myself\",\"billion\",\"often\",\"possible\",\"business\",\"planet\",\"global\",\"everybody\",\"top\",\"sure\",\"public\",\"set\",\"wrong\",\"car\",\"book\",\"keep\",\"yes\",\"answer\",\"oh\",\"hope\",\"sometimes\",\"true\",\"history\",\"war\",\"guy\",\"child\",\"instead\",\"months\",\"ideas\",\"looks\",\"matter\",\"government\",\"amazing\",\"united\",\"since\",\"bring\",\"age\",\"cells\",\"job\",\"heard\",\"until\",\"face\",\"wasn\",\"100\",\"read\",\"control\",\"isn\",\"research\",\"30\",\"words\",\"u\",\"group\",\"under\",\"self\",\"somebody\",\"built\",\"state\",\"woman\",\"turn\",\"friends\",\"beautiful\",\"line\",\"knew\",\"couple\",\"order\",\"form\",\"yeah\",\"internet\",\"middle\",\"music\",\"piece\",\"nature\",\"head\",\"though\",\"stop\",\"everyone\",\"50\",\"places\",\"video\",\"learned\",\"language\",\"run\",\"night\",\"decided\",\"study\",\"word\",\"cancer\",\"taking\",\"works\",\"became\",\"exactly\",\"species\",\"society\",\"completely\",\"education\",\"against\",\"stories\",\"large\",\"share\",\"level\",\"heart\",\"america\",\"model\",\"questions\",\"gets\",\"mother\",\"god\",\"company\",\"turns\",\"ourselves\",\"happening\",\"hear\",\"art\",\"themselves\",\"must\",\"itself\",\"rather\",\"kinds\",\"students\",\"name\",\"hours\",\"disease\",\"front\",\"house\",\"huge\",\"couldn\",\"created\",\"universe\",\"ok\",\"animals\",\"american\",\"environment\",\"worked\",\"minutes\",\"ones\",\"black\",\"perhaps\",\"1\",\"past\",\"third\",\"along\",\"others\",\"finally\",\"sound\",\"early\",\"game\",\"thousands\",\"century\",\"based\",\"least\",\"per\",\"ted\",\"lots\",\"figure\",\"free\",\"guys\",\"particular\",\"happy\",\"news\",\"learning\",\"entire\",\"won\",\"gave\",\"machine\",\"india\",\"during\",\"systems\",\"air\",\"difference\",\"outside\",\"natural\",\"taken\",\"seven\",\"given\",\"changed\",\"leave\",\"cell\",\"15\",\"close\",\"behind\",\"cities\",\"full\",\"scale\",\"difficult\",\"china\",\"takes\",\"companies\",\"yourself\",\"area\",\"reality\",\"seeing\",\"easy\",\"turned\",\"cost\",\"eyes\",\"team\",\"moving\",\"population\",\"culture\",\"york\",\"hands\",\"whatever\",\"began\",\"needs\",\"terms\",\"image\",\"simply\",\"needed\",\"beginning\",\"father\",\"local\",\"realized\",\"media\",\"death\",\"parents\",\"view\",\"walk\",\"white\",\"market\",\"parts\",\"ocean\",\"economic\",\"eight\",\"powerful\",\"known\",\"week\",\"size\",\"felt\",\"humans\",\"certain\",\"spend\",\"longer\",\"phone\",\"wonderful\",\"cannot\",\"grow\",\"common\",\"center\",\"tried\",\"fish\",\"land\",\"oil\",\"political\",\"interested\",\"deal\",\"red\",\"gone\",\"amount\",\"weeks\",\"spent\",\"opportunity\",\"paper\",\"lost\",\"national\",\"quickly\",\"blue\",\"step\",\"poor\",\"green\",\"buy\",\"growth\",\"wouldn\",\"either\",\"patients\",\"sitting\",\"ability\",\"changes\",\"write\",\"challenge\",\"south\",\"low\",\"growing\",\"friend\",\"field\",\"shows\",\"2\",\"born\",\"rest\",\"climate\",\"40\",\"test\",\"street\",\"surface\",\"incredible\",\"average\",\"physical\",\"morning\",\"scientists\",\"program\",\"pay\",\"value\",\"feeling\",\"hundreds\",\"girl\",\"met\",\"behavior\",\"economy\",\"dna\",\"complex\",\"access\",\"risk\",\"animal\",\"structure\",\"feet\",\"attention\",\"areas\",\"anyone\",\"deep\",\"watch\",\"short\",\"absolutely\",\"speak\",\"brought\",\"die\",\"bottom\",\"numbers\",\"audience\",\"stage\",\"realize\",\"law\",\"images\",\"wrote\",\"understanding\",\"knowledge\",\"literally\",\"books\",\"movement\",\"ground\",\"giving\",\"eat\",\"force\",\"seems\",\"alone\",\"telling\",\"starting\",\"hold\",\"nice\",\"forward\",\"sea\",\"developed\",\"individual\",\"kid\",\"millions\",\"support\",\"miles\",\"tools\",\"running\",\"online\",\"result\",\"act\",\"medical\",\"technologies\",\"north\",\"lab\",\"development\",\"blood\",\"fear\",\"nobody\",\"map\",\"personal\",\"issue\",\"voice\",\"material\",\"key\",\"12\",\"recently\",\"theory\",\"cut\",\"cars\",\"sun\",\"fast\",\"changing\",\"playing\",\"clear\",\"especially\",\"soon\",\"girls\",\"patient\",\"choice\",\"fly\",\"creating\",\"normal\",\"discovered\",\"europe\",\"talked\",\"relationship\",\"gives\",\"generation\",\"dark\",\"type\",\"showed\",\"chance\",\"seem\",\"industry\",\"asking\",\"rate\",\"fun\",\"issues\",\"color\",\"designed\",\"hour\",\"university\",\"innovation\",\"several\",\"class\",\"computers\",\"english\",\"tiny\",\"allow\",\"save\",\"focus\",\"digital\",\"solve\",\"developing\",\"network\",\"film\",\"special\",\"wall\",\"situation\",\"baby\",\"solution\",\"reasons\",\"box\",\"knows\",\"meet\",\"dead\",\"stand\",\"begin\",\"haven\",\"impact\",\"anybody\",\"term\",\"beyond\",\"pictures\",\"please\",\"ice\",\"produce\",\"shape\",\"non\",\"resources\",\"robot\",\"cool\",\"groups\",\"likely\",\"stay\",\"available\",\"truth\",\"rights\",\"major\",\"cause\",\"evidence\",\"obviously\",\"writing\",\"experiment\",\"modern\",\"drug\",\"becomes\",\"incredibly\",\"aren\",\"bigger\",\"guess\",\"nine\",\"product\",\"drugs\",\"lived\",\"involved\",\"perfect\",\"google\",\"month\",\"effect\",\"similar\",\"putting\",\"eye\",\"pick\",\"message\",\"quality\",\"violence\",\"web\",\"evolution\",\"security\",\"office\",\"basic\",\"solar\",\"indeed\",\"general\",\"towards\",\"present\",\"drive\",\"send\",\"listen\",\"worth\",\"revolution\",\"explain\",\"hundred\",\"certainly\",\"died\",\"ready\",\"teach\",\"journey\",\"25\",\"hit\",\"walking\",\"led\",\"approach\",\"international\",\"200\",\"scientific\",\"games\",\"60\",\"potential\",\"crazy\",\"communities\",\"chinese\",\"device\",\"source\",\"camera\",\"rules\",\"sex\",\"carbon\",\"sounds\",\"boy\",\"reach\",\"starts\",\"examples\",\"west\",\"3\",\"success\",\"measure\",\"particularly\",\"software\",\"totally\",\"suddenly\",\"action\",\"college\",\"higher\",\"code\",\"eventually\",\"democracy\",\"among\",\"minute\",\"sit\",\"largest\",\"showing\",\"hospital\",\"notice\",\"period\",\"mass\",\"develop\",\"dream\",\"onto\",\"plants\",\"break\",\"add\",\"memory\",\"everywhere\",\"favorite\",\"11\",\"zero\",\"speed\",\"schools\",\"moved\",\"response\",\"wants\",\"extremely\",\"movie\",\"individuals\",\"table\",\"wait\",\"medicine\",\"follow\",\"anyway\",\"trust\",\"plant\",\"biggest\",\"watching\",\"organization\",\"creative\",\"road\",\"choose\",\"worse\",\"lead\",\"results\",\"500\",\"exciting\",\"grew\",\"materials\",\"jobs\",\"plan\",\"east\",\"poverty\",\"positive\",\"safe\",\"strong\",\"fall\",\"essentially\",\"object\",\"door\",\"son\",\"vision\",\"further\",\"happiness\",\"continue\",\"student\",\"doctor\",\"including\",\"named\",\"role\",\"objects\",\"extraordinary\",\"standing\",\"skin\",\"leaders\",\"usually\",\"african\",\"conversation\",\"projects\",\"allowed\",\"models\",\"supposed\",\"faster\",\"interest\",\"families\",\"police\",\"fight\",\"tree\",\"connected\",\"screen\",\"5\",\"cases\",\"goal\",\"somewhere\",\"finding\",\"buildings\",\"shown\"],\"x1\":{\"__ndarray__\":\"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\",\"dtype\":\"float64\",\"shape\":[1000]},\"x2\":{\"__ndarray__\":\"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\",\"dtype\":\"float64\",\"shape\":[1000]}}},\"id\":\"b2e22c8c-e594-460a-a3a9-cec836afc2d1\",\"type\":\"ColumnDataSource\"},{\"attributes\":{\"dimension\":1,\"plot\":{\"id\":\"4fce676f-8050-4da6-ad97-c52951b0859f\",\"subtype\":\"Figure\",\"type\":\"Plot\"},\"ticker\":{\"id\":\"37747910-9526-4c60-97e5-ef7aa4c9afc2\",\"type\":\"BasicTicker\"}},\"id\":\"91415e8d-102b-4b84-aca2-ec46e12d59f0\",\"type\":\"Grid\"},{\"attributes\":{\"callback\":null},\"id\":\"d4742814-953f-4c74-a9f2-88999845762b\",\"type\":\"DataRange1d\"},{\"attributes\":{},\"id\":\"59e1aac3-54b2-4c17-9f21-3590bc7cd4c6\",\"type\":\"ToolEvents\"},{\"attributes\":{\"plot\":{\"id\":\"4fce676f-8050-4da6-ad97-c52951b0859f\",\"subtype\":\"Figure\",\"type\":\"Plot\"},\"source\":{\"id\":\"b2e22c8c-e594-460a-a3a9-cec836afc2d1\",\"type\":\"ColumnDataSource\"},\"text\":{\"field\":\"names\"},\"text_align\":\"center\",\"text_color\":{\"value\":\"#555555\"},\"text_font_size\":{\"value\":\"8pt\"},\"x\":{\"field\":\"x1\"},\"y\":{\"field\":\"x2\"},\"y_offset\":{\"value\":6}},\"id\":\"63a0a54a-a064-468d-8af4-0ce8d5feee4d\",\"type\":\"LabelSet\"},{\"attributes\":{\"formatter\":{\"id\":\"2f3692c3-8638-4fef-b7ad-03deeeb60ce9\",\"type\":\"BasicTickFormatter\"},\"plot\":{\"id\":\"4fce676f-8050-4da6-ad97-c52951b0859f\",\"subtype\":\"Figure\",\"type\":\"Plot\"},\"ticker\":{\"id\":\"88be9eba-6398-4cc8-943a-081e97c3214a\",\"type\":\"BasicTicker\"}},\"id\":\"cc7d99f3-e511-4633-ac3f-9e263bb5f48c\",\"type\":\"LinearAxis\"},{\"attributes\":{\"data_source\":{\"id\":\"b2e22c8c-e594-460a-a3a9-cec836afc2d1\",\"type\":\"ColumnDataSource\"},\"glyph\":{\"id\":\"9567450d-bd3e-4653-ade9-fc48dea24402\",\"type\":\"Circle\"},\"hover_glyph\":null,\"nonselection_glyph\":{\"id\":\"4c1ca256-be29-4edd-a587-b7fed1143e54\",\"type\":\"Circle\"},\"selection_glyph\":null},\"id\":\"e31786fe-20c3-43c3-aaea-d2bf4d56ed3d\",\"type\":\"GlyphRenderer\"},{\"attributes\":{\"plot\":{\"id\":\"4fce676f-8050-4da6-ad97-c52951b0859f\",\"subtype\":\"Figure\",\"type\":\"Plot\"}},\"id\":\"1fbf1ebb-1c13-4ace-aa26-66c36a0d037d\",\"type\":\"ResetTool\"},{\"attributes\":{\"plot\":{\"id\":\"4fce676f-8050-4da6-ad97-c52951b0859f\",\"subtype\":\"Figure\",\"type\":\"Plot\"}},\"id\":\"3fead1d6-3a51-42e2-964b-c0a849c67c4b\",\"type\":\"WheelZoomTool\"},{\"attributes\":{\"formatter\":{\"id\":\"4619d140-edef-4bc5-86eb-a51be991ce10\",\"type\":\"BasicTickFormatter\"},\"plot\":{\"id\":\"4fce676f-8050-4da6-ad97-c52951b0859f\",\"subtype\":\"Figure\",\"type\":\"Plot\"},\"ticker\":{\"id\":\"37747910-9526-4c60-97e5-ef7aa4c9afc2\",\"type\":\"BasicTicker\"}},\"id\":\"ed6f88c7-11ca-4d32-aea7-fda40893a373\",\"type\":\"LinearAxis\"}],\"root_ids\":[\"4fce676f-8050-4da6-ad97-c52951b0859f\"]},\"title\":\"Bokeh Application\",\"version\":\"0.12.4\"}};\n",
       "            var render_items = [{\"docid\":\"0ed6741a-d03b-4d10-90dc-4378969a136e\",\"elementid\":\"49af0026-cd7e-40a4-85b7-e88a9be41eaf\",\"modelid\":\"4fce676f-8050-4da6-ad97-c52951b0859f\"}];\n",
       "            \n",
       "            Bokeh.embed.embed_items(docs_json, render_items);\n",
       "          };\n",
       "          if (document.readyState != \"loading\") fn();\n",
       "          else document.addEventListener(\"DOMContentLoaded\", fn);\n",
       "        })();\n",
       "      },\n",
       "      function(Bokeh) {\n",
       "      }\n",
       "    ];\n",
       "  \n",
       "    function run_inline_js() {\n",
       "      \n",
       "      if ((window.Bokeh !== undefined) || (force === true)) {\n",
       "        for (var i = 0; i < inline_js.length; i++) {\n",
       "          inline_js[i](window.Bokeh);\n",
       "        }if (force === true) {\n",
       "          display_loaded();\n",
       "        }} else if (Date.now() < window._bokeh_timeout) {\n",
       "        setTimeout(run_inline_js, 100);\n",
       "      } else if (!window._bokeh_failed_load) {\n",
       "        console.log(\"Bokeh: BokehJS failed to load within specified timeout.\");\n",
       "        window._bokeh_failed_load = true;\n",
       "      } else if (force !== true) {\n",
       "        var cell = $(document.getElementById(\"49af0026-cd7e-40a4-85b7-e88a9be41eaf\")).parents('.cell').data().cell;\n",
       "        cell.output_area.append_execute_result(NB_LOAD_WARNING)\n",
       "      }\n",
       "  \n",
       "    }\n",
       "  \n",
       "    if (window._bokeh_is_loading === 0) {\n",
       "      console.log(\"Bokeh: BokehJS loaded, going straight to plotting\");\n",
       "      run_inline_js();\n",
       "    } else {\n",
       "      load_libs(js_urls, function() {\n",
       "        console.log(\"Bokeh: BokehJS plotting callback run at\", now());\n",
       "        run_inline_js();\n",
       "      });\n",
       "    }\n",
       "  }(this));\n",
       "</script>"
      ]
     },
     "metadata": {},
     "output_type": "display_data"
    }
   ],
   "source": [
    "p = figure(tools=\"pan,wheel_zoom,reset,save\",\n",
    "           toolbar_location=\"above\",\n",
    "           title=\"word2vec T-SNE for most common words\")\n",
    "\n",
    "source = ColumnDataSource(data=dict(x1=words_top_ted_tsne[:,0],\n",
    "                                    x2=words_top_ted_tsne[:,1],\n",
    "                                    names=words_top_ted))\n",
    "\n",
    "p.scatter(x=\"x1\", y=\"x2\", size=8, source=source)\n",
    "\n",
    "labels = LabelSet(x=\"x1\", y=\"x2\", text=\"names\", y_offset=6,\n",
    "                  text_font_size=\"8pt\", text_color=\"#555555\",\n",
    "                  source=source, text_align='center')\n",
    "p.add_layout(labels)\n",
    "\n",
    "show(p)"
   ]
  },
  {
   "cell_type": "markdown",
   "metadata": {},
   "source": [
    "### Part 5: Wiki Learnt Representations"
   ]
  },
  {
   "cell_type": "markdown",
   "metadata": {},
   "source": [
    "Download dataset"
   ]
  },
  {
   "cell_type": "code",
   "execution_count": 77,
   "metadata": {
    "collapsed": true
   },
   "outputs": [],
   "source": [
    "if not os.path.isfile('wikitext-103-raw-v1.zip'):\n",
    "    urllib.request.urlretrieve(\"https://s3.amazonaws.com/research.metamind.io/wikitext/wikitext-103-raw-v1.zip\", filename=\"wikitext-103-raw-v1.zip\")"
   ]
  },
  {
   "cell_type": "code",
   "execution_count": 78,
   "metadata": {
    "collapsed": true
   },
   "outputs": [],
   "source": [
    "with zipfile.ZipFile('wikitext-103-raw-v1.zip', 'r') as z:\n",
    "    input_text = str(z.open('wikitext-103-raw/wiki.train.raw', 'r').read(), encoding='utf-8') # Thanks Robert Bastian"
   ]
  },
  {
   "cell_type": "markdown",
   "metadata": {},
   "source": [
    "Preprocess sentences (note that it's important to remove small sentences for performance)"
   ]
  },
  {
   "cell_type": "code",
   "execution_count": 79,
   "metadata": {
    "collapsed": true
   },
   "outputs": [],
   "source": [
    "sentences_wiki = []\n",
    "for line in input_text.split('\\n'):\n",
    "    s = [x for x in line.split('.') if x and len(x.split()) >= 5]\n",
    "    sentences_wiki.extend(s)\n",
    "    \n",
    "for s_i in range(len(sentences_wiki)):\n",
    "    sentences_wiki[s_i] = re.sub(\"[^a-z]\", \" \", sentences_wiki[s_i].lower())\n",
    "    sentences_wiki[s_i] = re.sub(r'\\([^)]*\\)', '', sentences_wiki[s_i])\n",
    "del input_text"
   ]
  },
  {
   "cell_type": "code",
   "execution_count": 80,
   "metadata": {},
   "outputs": [
    {
     "name": "stdout",
     "output_type": "stream",
     "text": [
      "4267112\n",
      "853422\n"
     ]
    }
   ],
   "source": [
    "# sample 1/5 of the data\n",
    "shuffle(sentences_wiki)\n",
    "print(len(sentences_wiki))\n",
    "sentences_wiki = sentences_wiki[:int(len(sentences_wiki)/5)]\n",
    "print(len(sentences_wiki))"
   ]
  },
  {
   "cell_type": "code",
   "execution_count": 81,
   "metadata": {},
   "outputs": [],
   "source": [
    "sentences_wiki_2=[]\n",
    "for wr in sentences_wiki:\n",
    "    sentences_wiki_2.append(wr.split())\n",
    "#print(sentences_wiki_2[0])"
   ]
  },
  {
   "cell_type": "code",
   "execution_count": 82,
   "metadata": {},
   "outputs": [
    {
     "name": "stdout",
     "output_type": "stream",
     "text": [
      "['the', 'of', 'and', 'in', 'to', 'a', 'was', 's', 'on', 'as']\n"
     ]
    }
   ],
   "source": [
    "wc=collections.Counter()\n",
    "for s in sentences_wiki:\n",
    "    for word in s.split():\n",
    "        wc[word]+=1\n",
    "words_top_wiki=list(k[0] for k in wc.most_common(1000))\n",
    "counts_wiki_top1000=list(k[1] for k in wc.most_common(1000))\n",
    "print(words_top_wiki[:10])"
   ]
  },
  {
   "cell_type": "markdown",
   "metadata": {},
   "source": [
    "Now, repeat all the same steps that you performed above. You should be able to reuse essentially all the code."
   ]
  },
  {
   "cell_type": "code",
   "execution_count": 83,
   "metadata": {},
   "outputs": [
    {
     "name": "stdout",
     "output_type": "stream",
     "text": [
      "[1285892, 546874, 500091, 435571, 398313, 357465, 214287, 164963, 153838, 144792]\n"
     ]
    }
   ],
   "source": [
    "c_2 = collections.Counter()\n",
    "for sentence in sentences_wiki:\n",
    "    for word in sentence.split():\n",
    "        c_2[word] += 1\n",
    "\n",
    "words_top_wiki = list(wrd[0] for wrd in c_2.most_common(1000))\n",
    "counts_top1000_wiki = list(wrd[1] for wrd in c_2.most_common(1000))\n",
    "print(counts_top1000_wiki[:10])"
   ]
  },
  {
   "cell_type": "code",
   "execution_count": null,
   "metadata": {
    "collapsed": true
   },
   "outputs": [],
   "source": [
    "hist, edges = np.histogram(words_top_wiki, density=True, bins=100, normed=True)\n",
    "\n",
    "p = figure(tools=\"pan,wheel_zoom,reset,save\",\n",
    "           toolbar_location=\"above\",\n",
    "           title=\"Top-1000 words distribution\")\n",
    "p.quad(top=hist, bottom=0, left=edges[:-1], right=edges[1:], line_color=\"#555555\")\n",
    "show(p)"
   ]
  },
  {
   "cell_type": "code",
   "execution_count": 84,
   "metadata": {
    "collapsed": true
   },
   "outputs": [],
   "source": [
    "wiki_model = Word2Vec(sentences_wiki_2, size=100, window=5, min_count=5, workers=4)\n",
    "wiki_model.save(\"wiki_model\")\n",
    "model_wiki = Word2Vec.load(\"wiki_model\")"
   ]
  },
  {
   "cell_type": "code",
   "execution_count": 85,
   "metadata": {},
   "outputs": [
    {
     "data": {
      "text/plain": [
       "[('woman', 0.7012144923210144),\n",
       " ('girl', 0.6198760271072388),\n",
       " ('boy', 0.6102288961410522),\n",
       " ('person', 0.6069545745849609),\n",
       " ('soldier', 0.5723516345024109),\n",
       " ('men', 0.5614178776741028),\n",
       " ('kid', 0.5516582131385803),\n",
       " ('someone', 0.5452362298965454),\n",
       " ('creature', 0.5344418287277222),\n",
       " ('dog', 0.5288004279136658)]"
      ]
     },
     "execution_count": 85,
     "metadata": {},
     "output_type": "execute_result"
    }
   ],
   "source": [
    "model_wiki.most_similar(\"man\")"
   ]
  },
  {
   "cell_type": "code",
   "execution_count": 86,
   "metadata": {},
   "outputs": [
    {
     "data": {
      "text/plain": [
       "[('software', 0.7816450595855713),\n",
       " ('computers', 0.722388505935669),\n",
       " ('hardware', 0.7007551789283752),\n",
       " ('user', 0.6909362077713013),\n",
       " ('handheld', 0.6895475387573242),\n",
       " ('controller', 0.6881362795829773),\n",
       " ('interface', 0.6866271495819092),\n",
       " ('interactive', 0.6788220405578613),\n",
       " ('graphics', 0.670163631439209),\n",
       " ('graphical', 0.669544517993927)]"
      ]
     },
     "execution_count": 86,
     "metadata": {},
     "output_type": "execute_result"
    }
   ],
   "source": [
    "model_wiki.most_similar(\"computer\")"
   ]
  },
  {
   "cell_type": "code",
   "execution_count": 87,
   "metadata": {},
   "outputs": [
    {
     "data": {
      "text/plain": [
       "[('problem', 0.7181879281997681),\n",
       " ('function', 0.7173067331314087),\n",
       " ('remedy', 0.7102504968643188),\n",
       " ('mechanism', 0.6947425007820129),\n",
       " ('object', 0.6839619278907776),\n",
       " ('molecule', 0.6784687042236328),\n",
       " ('method', 0.6779582500457764),\n",
       " ('measure', 0.6750925183296204),\n",
       " ('enzyme', 0.6570701599121094),\n",
       " ('solutions', 0.6569666862487793)]"
      ]
     },
     "execution_count": 87,
     "metadata": {},
     "output_type": "execute_result"
    }
   ],
   "source": [
    "model_wiki.most_similar(\"solution\")"
   ]
  },
  {
   "cell_type": "code",
   "execution_count": 88,
   "metadata": {},
   "outputs": [
    {
     "data": {
      "text/plain": [
       "[('queen', 0.7343854308128357),\n",
       " ('monarch', 0.6997648477554321),\n",
       " ('empress', 0.6934734582901001),\n",
       " ('throne', 0.6504689455032349),\n",
       " ('elizabeth', 0.644758939743042),\n",
       " ('mary', 0.6372894644737244),\n",
       " ('prince', 0.6365466117858887),\n",
       " ('emperor', 0.6298166513442993),\n",
       " ('isabella', 0.6141037344932556),\n",
       " ('dowager', 0.6120776534080505)]"
      ]
     },
     "execution_count": 88,
     "metadata": {},
     "output_type": "execute_result"
    }
   ],
   "source": [
    "model_wiki.most_similar(positive=['woman', 'king'], negative=['man'])"
   ]
  },
  {
   "cell_type": "markdown",
   "metadata": {},
   "source": [
    "#### t-SNE visualization"
   ]
  },
  {
   "cell_type": "code",
   "execution_count": 89,
   "metadata": {},
   "outputs": [],
   "source": [
    "# This assumes words_top_wiki is a list of strings, the top 1000 words\n",
    "words_top_vec_wiki = model_wiki[words_top_wiki]\n",
    "\n",
    "tsne = TSNE(n_components=2, random_state=0)\n",
    "words_top_wiki_tsne = tsne.fit_transform(words_top_vec_wiki)"
   ]
  },
  {
   "cell_type": "code",
   "execution_count": 90,
   "metadata": {},
   "outputs": [
    {
     "data": {
      "text/html": [
       "\n",
       "\n",
       "    <div class=\"bk-root\">\n",
       "        <div class=\"bk-plotdiv\" id=\"29cb372c-7338-441a-8ad9-2a7c2c0f232d\"></div>\n",
       "    </div>\n",
       "<script type=\"text/javascript\">\n",
       "  \n",
       "  (function(global) {\n",
       "    function now() {\n",
       "      return new Date();\n",
       "    }\n",
       "  \n",
       "    var force = false;\n",
       "  \n",
       "    if (typeof (window._bokeh_onload_callbacks) === \"undefined\" || force === true) {\n",
       "      window._bokeh_onload_callbacks = [];\n",
       "      window._bokeh_is_loading = undefined;\n",
       "    }\n",
       "  \n",
       "  \n",
       "    \n",
       "    if (typeof (window._bokeh_timeout) === \"undefined\" || force === true) {\n",
       "      window._bokeh_timeout = Date.now() + 0;\n",
       "      window._bokeh_failed_load = false;\n",
       "    }\n",
       "  \n",
       "    var NB_LOAD_WARNING = {'data': {'text/html':\n",
       "       \"<div style='background-color: #fdd'>\\n\"+\n",
       "       \"<p>\\n\"+\n",
       "       \"BokehJS does not appear to have successfully loaded. If loading BokehJS from CDN, this \\n\"+\n",
       "       \"may be due to a slow or bad network connection. Possible fixes:\\n\"+\n",
       "       \"</p>\\n\"+\n",
       "       \"<ul>\\n\"+\n",
       "       \"<li>re-rerun `output_notebook()` to attempt to load from CDN again, or</li>\\n\"+\n",
       "       \"<li>use INLINE resources instead, as so:</li>\\n\"+\n",
       "       \"</ul>\\n\"+\n",
       "       \"<code>\\n\"+\n",
       "       \"from bokeh.resources import INLINE\\n\"+\n",
       "       \"output_notebook(resources=INLINE)\\n\"+\n",
       "       \"</code>\\n\"+\n",
       "       \"</div>\"}};\n",
       "  \n",
       "    function display_loaded() {\n",
       "      if (window.Bokeh !== undefined) {\n",
       "        document.getElementById(\"29cb372c-7338-441a-8ad9-2a7c2c0f232d\").textContent = \"BokehJS successfully loaded.\";\n",
       "      } else if (Date.now() < window._bokeh_timeout) {\n",
       "        setTimeout(display_loaded, 100)\n",
       "      }\n",
       "    }\n",
       "  \n",
       "    function run_callbacks() {\n",
       "      window._bokeh_onload_callbacks.forEach(function(callback) { callback() });\n",
       "      delete window._bokeh_onload_callbacks\n",
       "      console.info(\"Bokeh: all callbacks have finished\");\n",
       "    }\n",
       "  \n",
       "    function load_libs(js_urls, callback) {\n",
       "      window._bokeh_onload_callbacks.push(callback);\n",
       "      if (window._bokeh_is_loading > 0) {\n",
       "        console.log(\"Bokeh: BokehJS is being loaded, scheduling callback at\", now());\n",
       "        return null;\n",
       "      }\n",
       "      if (js_urls == null || js_urls.length === 0) {\n",
       "        run_callbacks();\n",
       "        return null;\n",
       "      }\n",
       "      console.log(\"Bokeh: BokehJS not loaded, scheduling load and callback at\", now());\n",
       "      window._bokeh_is_loading = js_urls.length;\n",
       "      for (var i = 0; i < js_urls.length; i++) {\n",
       "        var url = js_urls[i];\n",
       "        var s = document.createElement('script');\n",
       "        s.src = url;\n",
       "        s.async = false;\n",
       "        s.onreadystatechange = s.onload = function() {\n",
       "          window._bokeh_is_loading--;\n",
       "          if (window._bokeh_is_loading === 0) {\n",
       "            console.log(\"Bokeh: all BokehJS libraries loaded\");\n",
       "            run_callbacks()\n",
       "          }\n",
       "        };\n",
       "        s.onerror = function() {\n",
       "          console.warn(\"failed to load library \" + url);\n",
       "        };\n",
       "        console.log(\"Bokeh: injecting script tag for BokehJS library: \", url);\n",
       "        document.getElementsByTagName(\"head\")[0].appendChild(s);\n",
       "      }\n",
       "    };var element = document.getElementById(\"29cb372c-7338-441a-8ad9-2a7c2c0f232d\");\n",
       "    if (element == null) {\n",
       "      console.log(\"Bokeh: ERROR: autoload.js configured with elementid '29cb372c-7338-441a-8ad9-2a7c2c0f232d' but no matching script tag was found. \")\n",
       "      return false;\n",
       "    }\n",
       "  \n",
       "    var js_urls = [];\n",
       "  \n",
       "    var inline_js = [\n",
       "      function(Bokeh) {\n",
       "        (function() {\n",
       "          var fn = function() {\n",
       "            var docs_json = {\"a0e6fbcb-768a-4834-b402-59faab13c114\":{\"roots\":{\"references\":[{\"attributes\":{\"callback\":null,\"column_names\":[\"x1\",\"x2\",\"names\"],\"data\":{\"names\":[\"the\",\"of\",\"and\",\"in\",\"to\",\"a\",\"was\",\"s\",\"on\",\"as\",\"for\",\"that\",\"with\",\"by\",\"is\",\"his\",\"at\",\"he\",\"from\",\"it\",\"were\",\"an\",\"had\",\"which\",\"be\",\"this\",\"but\",\"first\",\"are\",\"not\",\"their\",\"after\",\"one\",\"her\",\"also\",\"its\",\"they\",\"two\",\"or\",\"have\",\"who\",\"new\",\"been\",\"has\",\"she\",\"when\",\"time\",\"during\",\"other\",\"would\",\"into\",\"all\",\"i\",\"more\",\"while\",\"over\",\"him\",\"game\",\"later\",\"only\",\"up\",\"most\",\"out\",\"three\",\"about\",\"between\",\"th\",\"than\",\"there\",\"some\",\"film\",\"may\",\"before\",\"year\",\"made\",\"no\",\"such\",\"second\",\"season\",\"where\",\"world\",\"war\",\"years\",\"both\",\"used\",\"song\",\"then\",\"through\",\"series\",\"however\",\"these\",\"being\",\"m\",\"them\",\"against\",\"album\",\"many\",\"city\",\"became\",\"team\",\"north\",\"part\",\"can\",\"number\",\"several\",\"four\",\"united\",\"including\",\"well\",\"early\",\"state\",\"under\",\"music\",\"south\",\"so\",\"day\",\"following\",\"episode\",\"states\",\"said\",\"could\",\"american\",\"known\",\"although\",\"did\",\"work\",\"began\",\"until\",\"because\",\"t\",\"released\",\"like\",\"called\",\"people\",\"high\",\"end\",\"since\",\"british\",\"national\",\"long\",\"each\",\"around\",\"life\",\"best\",\"if\",\"same\",\"back\",\"september\",\"west\",\"found\",\"five\",\"million\",\"us\",\"another\",\"use\",\"show\",\"along\",\"took\",\"you\",\"km\",\"area\",\"group\",\"final\",\"off\",\"century\",\"august\",\"october\",\"any\",\"received\",\"due\",\"what\",\"school\",\"east\",\"line\",\"john\",\"will\",\"june\",\"government\",\"november\",\"march\",\"system\",\"july\",\"home\",\"single\",\"general\",\"games\",\"major\",\"down\",\"much\",\"large\",\"third\",\"set\",\"york\",\"just\",\"april\",\"left\",\"house\",\"place\",\"family\",\"based\",\"december\",\"company\",\"character\",\"road\",\"played\",\"name\",\"included\",\"band\",\"we\",\"six\",\"army\",\"wrote\",\"king\",\"history\",\"january\",\"now\",\"led\",\"own\",\"last\",\"death\",\"won\",\"described\",\"st\",\"d\",\"according\",\"near\",\"main\",\"times\",\"within\",\"river\",\"those\",\"air\",\"next\",\"record\",\"video\",\"release\",\"named\",\"original\",\"ship\",\"de\",\"late\",\"league\",\"men\",\"way\",\"very\",\"still\",\"battle\",\"make\",\"top\",\"production\",\"force\",\"club\",\"small\",\"great\",\"february\",\"man\",\"public\",\"storm\",\"old\",\"species\",\"again\",\"built\",\"even\",\"u\",\"route\",\"days\",\"though\",\"held\",\"play\",\"further\",\"among\",\"role\",\"division\",\"book\",\"university\",\"do\",\"story\",\"members\",\"b\",\"power\",\"side\",\"having\",\"match\",\"german\",\"white\",\"french\",\"service\",\"player\",\"often\",\"h\",\"point\",\"water\",\"continued\",\"career\",\"local\",\"former\",\"order\",\"came\",\"england\",\"black\",\"park\",\"considered\",\"town\",\"despite\",\"without\",\"party\",\"take\",\"half\",\"few\",\"different\",\"songs\",\"moved\",\"island\",\"support\",\"form\",\"development\",\"military\",\"forces\",\"county\",\"version\",\"period\",\"building\",\"written\",\"lost\",\"given\",\"president\",\"c\",\"tropical\",\"re\",\"english\",\"become\",\"country\",\"court\",\"little\",\"international\",\"ii\",\"street\",\"track\",\"london\",\"tour\",\"my\",\"similar\",\"lead\",\"church\",\"performance\",\"position\",\"returned\",\"never\",\"recorded\",\"gave\",\"n\",\"royal\",\"attack\",\"using\",\"published\",\"produced\",\"short\",\"children\",\"television\",\"western\",\"went\",\"week\",\"total\",\"star\",\"class\",\"aircraft\",\"live\",\"run\",\"making\",\"father\",\"love\",\"good\",\"control\",\"highway\",\"ships\",\"per\",\"land\",\"stated\",\"include\",\"right\",\"throughout\",\"fire\",\"women\",\"how\",\"me\",\"age\",\"upon\",\"once\",\"australia\",\"less\",\"himself\",\"design\",\"characters\",\"head\",\"central\",\"instead\",\"seven\",\"station\",\"light\",\"across\",\"remained\",\"players\",\"night\",\"months\",\"young\",\"title\",\"writing\",\"r\",\"rock\",\"return\",\"developed\",\"southern\",\"political\",\"away\",\"died\",\"too\",\"james\",\"ten\",\"previous\",\"result\",\"hurricane\",\"ft\",\"sea\",\"red\",\"low\",\"center\",\"eight\",\"style\",\"law\",\"various\",\"e\",\"office\",\"william\",\"win\",\"noted\",\"reported\",\"performed\",\"eventually\",\"race\",\"felt\",\"miles\",\"sent\",\"act\",\"america\",\"announced\",\"construction\",\"should\",\"award\",\"created\",\"reached\",\"seen\",\"son\",\"areas\",\"field\",\"served\",\"member\",\"together\",\"followed\",\"college\",\"full\",\"northern\",\"range\",\"born\",\"japanese\",\"body\",\"campaign\",\"able\",\"chart\",\"points\",\"success\",\"action\",\"taken\",\"others\",\"appeared\",\"common\",\"australian\",\"mm\",\"level\",\"established\",\"front\",\"originally\",\"thought\",\"george\",\"bridge\",\"located\",\"addition\",\"decided\",\"post\",\"stage\",\"works\",\"killed\",\"get\",\"feet\",\"caused\",\"present\",\"modern\",\"football\",\"fourth\",\"every\",\"sold\",\"special\",\"playing\",\"site\",\"added\",\"features\",\"project\",\"population\",\"damage\",\"critics\",\"popular\",\"see\",\"saw\",\"championship\",\"soon\",\"rather\",\"go\",\"behind\",\"command\",\"formed\",\"heavy\",\"almost\",\"started\",\"f\",\"director\",\"o\",\"important\",\"completed\",\"case\",\"initially\",\"guns\",\"strong\",\"opened\",\"non\",\"open\",\"leading\",\"free\",\"fleet\",\"david\",\"region\",\"hall\",\"towards\",\"art\",\"eastern\",\"mi\",\"l\",\"ground\",\"coast\",\"awards\",\"recording\",\"france\",\"training\",\"worked\",\"close\",\"weeks\",\"kingdom\",\"mother\",\"ever\",\"sound\",\"event\",\"union\",\"records\",\"scene\",\"working\",\"help\",\"least\",\"either\",\"michael\",\"wanted\",\"provided\",\"cup\",\"brought\",\"scored\",\"hit\",\"featured\",\"troops\",\"hours\",\"navy\",\"runs\",\"victory\",\"wife\",\"average\",\"put\",\"allowed\",\"events\",\"henry\",\"studio\",\"nine\",\"generally\",\"europe\",\"placed\",\"far\",\"base\",\"council\",\"does\",\"designed\",\"washington\",\"mid\",\"list\",\"minutes\",\"joined\",\"opening\",\"co\",\"believed\",\"earlier\",\"example\",\"magazine\",\"summer\",\"japan\",\"rest\",\"human\",\"european\",\"replaced\",\"start\",\"radio\",\"official\",\"media\",\"finished\",\"highest\",\"robert\",\"significant\",\"shot\",\"involved\",\"review\",\"beginning\",\"police\",\"test\",\"taking\",\"month\",\"passed\",\"met\",\"possible\",\"successful\",\"association\",\"al\",\"forced\",\"outside\",\"largest\",\"research\",\"better\",\"ended\",\"crew\",\"process\",\"particularly\",\"x\",\"saying\",\"mph\",\"brown\",\"squadron\",\"films\",\"operation\",\"available\",\"big\",\"cast\",\"society\",\"change\",\"captain\",\"increased\",\"hill\",\"units\",\"middle\",\"appearance\",\"move\",\"turned\",\"san\",\"come\",\"space\",\"social\",\"business\",\"future\",\"community\",\"real\",\"canada\",\"previously\",\"must\",\"lower\",\"reviews\",\"winds\",\"thomas\",\"charles\",\"thus\",\"female\",\"stone\",\"praised\",\"going\",\"castle\",\"section\",\"board\",\"additional\",\"cross\",\"lake\",\"signed\",\"chief\",\"above\",\"enough\",\"california\",\"relationship\",\"elements\",\"gold\",\"positive\",\"program\",\"give\",\"lines\",\"groups\",\"infantry\",\"musical\",\"rights\",\"interest\",\"type\",\"told\",\"don\",\"brother\",\"spent\",\"goal\",\"paul\",\"ordered\",\"money\",\"round\",\"staff\",\"critical\",\"plan\",\"g\",\"directed\",\"germany\",\"uk\",\"term\",\"entire\",\"attempt\",\"parts\",\"sometimes\",\"committee\",\"find\",\"overall\",\"gun\",\"asked\",\"news\",\"hand\",\"district\",\"grand\",\"prior\",\"cover\",\"p\",\"india\",\"whose\",\"port\",\"failed\",\"required\",\"v\",\"room\",\"election\",\"reception\",\"green\",\"evidence\",\"past\",\"battalion\",\"indian\",\"press\",\"loss\",\"complete\",\"itself\",\"score\",\"personal\",\"k\",\"issue\",\"usually\",\"education\",\"introduced\",\"claimed\",\"turn\",\"already\",\"village\",\"bill\",\"governor\",\"plot\",\"response\",\"square\",\"students\",\"bay\",\"person\",\"effects\",\"speed\",\"background\",\"teams\",\"smith\",\"surface\",\"stars\",\"limited\",\"whom\",\"britain\",\"idea\",\"debut\",\"food\",\"la\",\"woman\",\"mark\",\"minister\",\"fifth\",\"our\",\"operations\",\"shows\",\"decision\",\"peter\",\"quickly\",\"department\",\"study\",\"naval\",\"blue\",\"length\",\"arrived\",\"earth\",\"cut\",\"movement\",\"richard\",\"anti\",\"queen\",\"latter\",\"living\",\"novel\",\"flight\",\"estimated\",\"ny\",\"becoming\",\"changes\",\"material\",\"might\",\"commercial\",\"especially\",\"episodes\",\"services\",\"defeated\",\"leaving\",\"larger\",\"commander\",\"carried\",\"remaining\",\"entered\",\"pressure\",\"voice\",\"nearly\",\"virginia\",\"network\",\"los\",\"running\",\"winning\",\"god\",\"structure\",\"experience\",\"child\",\"industry\",\"appointed\",\"approximately\",\"brigade\",\"writer\",\"civil\",\"course\",\"shortly\",\"scenes\",\"railway\",\"centre\",\"pop\",\"finally\",\"suggested\",\"date\",\"depression\",\"car\",\"destroyed\",\"percent\",\"daughter\",\"today\",\"empire\",\"producer\",\"hot\",\"view\",\"lack\",\"report\",\"your\",\"influence\",\"current\",\"nature\",\"spanish\",\"regular\",\"fact\",\"officers\",\"language\",\"size\",\"higher\",\"tracks\",\"self\",\"immediately\",\"proposed\",\"soldiers\",\"museum\",\"chicago\",\"leader\",\"science\",\"dark\",\"face\",\"related\",\"subsequently\",\"intended\",\"longer\",\"upper\",\"create\",\"fans\",\"trade\",\"islands\",\"contract\",\"regiment\",\"wide\",\"supported\",\"married\",\"changed\",\"lord\",\"officer\",\"corps\",\"soviet\",\"conference\",\"provide\",\"appear\",\"fort\",\"helped\",\"compared\",\"manager\",\"awarded\",\"initial\",\"themselves\",\"nd\",\"lyrics\",\"planned\",\"health\",\"cost\",\"professional\",\"ball\",\"forward\",\"done\",\"yet\",\"edward\",\"guitar\",\"private\",\"friends\",\"probably\",\"jackson\",\"countries\",\"chinese\",\"whether\",\"extended\",\"plans\",\"mixed\",\"singles\",\"natural\",\"associated\",\"feature\",\"friend\",\"j\",\"location\",\"buildings\",\"ran\",\"mostly\",\"books\",\"singer\",\"effect\",\"remains\",\"billboard\",\"captured\",\"issued\",\"something\",\"agreed\",\"numerous\",\"johnson\",\"includes\",\"key\",\"moving\",\"federal\",\"removed\",\"really\",\"know\",\"information\",\"got\",\"cm\",\"christian\",\"status\",\"fight\",\"difficult\",\"minor\",\"dance\",\"always\",\"copies\",\"independent\",\"pacific\",\"movie\",\"creek\",\"leave\",\"pass\",\"broadcast\",\"wall\",\"energy\",\"dead\",\"twenty\",\"valley\",\"composed\",\"increase\"],\"x1\":{\"__ndarray__\":\"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\",\"dtype\":\"float64\",\"shape\":[1000]},\"x2\":{\"__ndarray__\":\"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\",\"dtype\":\"float64\",\"shape\":[1000]}}},\"id\":\"904cc51c-9b99-4747-9723-70222a227477\",\"type\":\"ColumnDataSource\"},{\"attributes\":{\"formatter\":{\"id\":\"b93793d0-492b-4e8b-98c6-0337a3fd4505\",\"type\":\"BasicTickFormatter\"},\"plot\":{\"id\":\"a3468750-0fc7-4b8e-98ef-c4841965ccee\",\"subtype\":\"Figure\",\"type\":\"Plot\"},\"ticker\":{\"id\":\"db3e3d57-545e-44b3-afac-1d8520fa48ad\",\"type\":\"BasicTicker\"}},\"id\":\"113b50a8-4ff3-4343-9759-031e1465a175\",\"type\":\"LinearAxis\"},{\"attributes\":{\"below\":[{\"id\":\"113b50a8-4ff3-4343-9759-031e1465a175\",\"type\":\"LinearAxis\"}],\"left\":[{\"id\":\"88ea04e1-c1de-4f4d-b4cf-f7baebf7d583\",\"type\":\"LinearAxis\"}],\"renderers\":[{\"id\":\"113b50a8-4ff3-4343-9759-031e1465a175\",\"type\":\"LinearAxis\"},{\"id\":\"693cb603-4a29-4e93-8f29-9e4aa9e8cbb8\",\"type\":\"Grid\"},{\"id\":\"88ea04e1-c1de-4f4d-b4cf-f7baebf7d583\",\"type\":\"LinearAxis\"},{\"id\":\"32e0d3c2-ba0d-4b8f-a409-8225119b9603\",\"type\":\"Grid\"},{\"id\":\"5826957d-019d-40b0-88f7-9a54add4353d\",\"type\":\"GlyphRenderer\"},{\"id\":\"2a1535de-d2f3-4dce-8b27-abe451ae8c8d\",\"type\":\"LabelSet\"}],\"title\":{\"id\":\"b793f2fa-b03d-48df-8290-b0a1db8ee2a2\",\"type\":\"Title\"},\"tool_events\":{\"id\":\"5d0f5cf3-1342-47bd-a2d0-0c17018b4a89\",\"type\":\"ToolEvents\"},\"toolbar\":{\"id\":\"a5733e41-7596-440e-a971-f2f828f2ea09\",\"type\":\"Toolbar\"},\"toolbar_location\":\"above\",\"x_range\":{\"id\":\"b791adae-5bb2-459a-b03f-ef42198f81a2\",\"type\":\"DataRange1d\"},\"y_range\":{\"id\":\"97d17098-7125-447e-847c-4be012d7cb9d\",\"type\":\"DataRange1d\"}},\"id\":\"a3468750-0fc7-4b8e-98ef-c4841965ccee\",\"subtype\":\"Figure\",\"type\":\"Plot\"},{\"attributes\":{\"callback\":null},\"id\":\"97d17098-7125-447e-847c-4be012d7cb9d\",\"type\":\"DataRange1d\"},{\"attributes\":{},\"id\":\"db3e3d57-545e-44b3-afac-1d8520fa48ad\",\"type\":\"BasicTicker\"},{\"attributes\":{\"plot\":{\"id\":\"a3468750-0fc7-4b8e-98ef-c4841965ccee\",\"subtype\":\"Figure\",\"type\":\"Plot\"},\"ticker\":{\"id\":\"db3e3d57-545e-44b3-afac-1d8520fa48ad\",\"type\":\"BasicTicker\"}},\"id\":\"693cb603-4a29-4e93-8f29-9e4aa9e8cbb8\",\"type\":\"Grid\"},{\"attributes\":{\"formatter\":{\"id\":\"f7eda9af-6be2-4412-b842-5947060c2723\",\"type\":\"BasicTickFormatter\"},\"plot\":{\"id\":\"a3468750-0fc7-4b8e-98ef-c4841965ccee\",\"subtype\":\"Figure\",\"type\":\"Plot\"},\"ticker\":{\"id\":\"4c21e9d6-c2de-446a-bc95-037bf947eed2\",\"type\":\"BasicTicker\"}},\"id\":\"88ea04e1-c1de-4f4d-b4cf-f7baebf7d583\",\"type\":\"LinearAxis\"},{\"attributes\":{},\"id\":\"4c21e9d6-c2de-446a-bc95-037bf947eed2\",\"type\":\"BasicTicker\"},{\"attributes\":{\"dimension\":1,\"plot\":{\"id\":\"a3468750-0fc7-4b8e-98ef-c4841965ccee\",\"subtype\":\"Figure\",\"type\":\"Plot\"},\"ticker\":{\"id\":\"4c21e9d6-c2de-446a-bc95-037bf947eed2\",\"type\":\"BasicTicker\"}},\"id\":\"32e0d3c2-ba0d-4b8f-a409-8225119b9603\",\"type\":\"Grid\"},{\"attributes\":{\"fill_alpha\":{\"value\":0.1},\"fill_color\":{\"value\":\"#1f77b4\"},\"line_alpha\":{\"value\":0.1},\"line_color\":{\"value\":\"#1f77b4\"},\"size\":{\"units\":\"screen\",\"value\":8},\"x\":{\"field\":\"x1\"},\"y\":{\"field\":\"x2\"}},\"id\":\"af11e9b7-bc00-4266-8d30-6da60973e85d\",\"type\":\"Circle\"},{\"attributes\":{\"fill_color\":{\"value\":\"#1f77b4\"},\"line_color\":{\"value\":\"#1f77b4\"},\"size\":{\"units\":\"screen\",\"value\":8},\"x\":{\"field\":\"x1\"},\"y\":{\"field\":\"x2\"}},\"id\":\"1fb27d8b-b81a-4fd0-8666-4154d0376f8c\",\"type\":\"Circle\"},{\"attributes\":{},\"id\":\"b93793d0-492b-4e8b-98c6-0337a3fd4505\",\"type\":\"BasicTickFormatter\"},{\"attributes\":{},\"id\":\"5d0f5cf3-1342-47bd-a2d0-0c17018b4a89\",\"type\":\"ToolEvents\"},{\"attributes\":{\"plot\":{\"id\":\"a3468750-0fc7-4b8e-98ef-c4841965ccee\",\"subtype\":\"Figure\",\"type\":\"Plot\"}},\"id\":\"73c5ea28-82eb-478b-b22b-ae6951558199\",\"type\":\"PanTool\"},{\"attributes\":{\"plot\":{\"id\":\"a3468750-0fc7-4b8e-98ef-c4841965ccee\",\"subtype\":\"Figure\",\"type\":\"Plot\"}},\"id\":\"3616480a-9dd3-45a7-beee-819d09cded5c\",\"type\":\"WheelZoomTool\"},{\"attributes\":{\"plot\":{\"id\":\"a3468750-0fc7-4b8e-98ef-c4841965ccee\",\"subtype\":\"Figure\",\"type\":\"Plot\"}},\"id\":\"9a529251-53d5-45db-8d28-5d7a6287576f\",\"type\":\"ResetTool\"},{\"attributes\":{\"callback\":null},\"id\":\"b791adae-5bb2-459a-b03f-ef42198f81a2\",\"type\":\"DataRange1d\"},{\"attributes\":{\"plot\":{\"id\":\"a3468750-0fc7-4b8e-98ef-c4841965ccee\",\"subtype\":\"Figure\",\"type\":\"Plot\"}},\"id\":\"f66645bf-bcd0-4460-9031-7215cb5a47af\",\"type\":\"SaveTool\"},{\"attributes\":{},\"id\":\"f7eda9af-6be2-4412-b842-5947060c2723\",\"type\":\"BasicTickFormatter\"},{\"attributes\":{\"data_source\":{\"id\":\"904cc51c-9b99-4747-9723-70222a227477\",\"type\":\"ColumnDataSource\"},\"glyph\":{\"id\":\"1fb27d8b-b81a-4fd0-8666-4154d0376f8c\",\"type\":\"Circle\"},\"hover_glyph\":null,\"nonselection_glyph\":{\"id\":\"af11e9b7-bc00-4266-8d30-6da60973e85d\",\"type\":\"Circle\"},\"selection_glyph\":null},\"id\":\"5826957d-019d-40b0-88f7-9a54add4353d\",\"type\":\"GlyphRenderer\"},{\"attributes\":{\"active_drag\":\"auto\",\"active_scroll\":\"auto\",\"active_tap\":\"auto\",\"tools\":[{\"id\":\"73c5ea28-82eb-478b-b22b-ae6951558199\",\"type\":\"PanTool\"},{\"id\":\"3616480a-9dd3-45a7-beee-819d09cded5c\",\"type\":\"WheelZoomTool\"},{\"id\":\"9a529251-53d5-45db-8d28-5d7a6287576f\",\"type\":\"ResetTool\"},{\"id\":\"f66645bf-bcd0-4460-9031-7215cb5a47af\",\"type\":\"SaveTool\"}]},\"id\":\"a5733e41-7596-440e-a971-f2f828f2ea09\",\"type\":\"Toolbar\"},{\"attributes\":{\"plot\":null,\"text\":\"word2vec T-SNE for most common words\"},\"id\":\"b793f2fa-b03d-48df-8290-b0a1db8ee2a2\",\"type\":\"Title\"},{\"attributes\":{\"plot\":{\"id\":\"a3468750-0fc7-4b8e-98ef-c4841965ccee\",\"subtype\":\"Figure\",\"type\":\"Plot\"},\"source\":{\"id\":\"904cc51c-9b99-4747-9723-70222a227477\",\"type\":\"ColumnDataSource\"},\"text\":{\"field\":\"names\"},\"text_align\":\"center\",\"text_color\":{\"value\":\"#555555\"},\"text_font_size\":{\"value\":\"8pt\"},\"x\":{\"field\":\"x1\"},\"y\":{\"field\":\"x2\"},\"y_offset\":{\"value\":6}},\"id\":\"2a1535de-d2f3-4dce-8b27-abe451ae8c8d\",\"type\":\"LabelSet\"}],\"root_ids\":[\"a3468750-0fc7-4b8e-98ef-c4841965ccee\"]},\"title\":\"Bokeh Application\",\"version\":\"0.12.4\"}};\n",
       "            var render_items = [{\"docid\":\"a0e6fbcb-768a-4834-b402-59faab13c114\",\"elementid\":\"29cb372c-7338-441a-8ad9-2a7c2c0f232d\",\"modelid\":\"a3468750-0fc7-4b8e-98ef-c4841965ccee\"}];\n",
       "            \n",
       "            Bokeh.embed.embed_items(docs_json, render_items);\n",
       "          };\n",
       "          if (document.readyState != \"loading\") fn();\n",
       "          else document.addEventListener(\"DOMContentLoaded\", fn);\n",
       "        })();\n",
       "      },\n",
       "      function(Bokeh) {\n",
       "      }\n",
       "    ];\n",
       "  \n",
       "    function run_inline_js() {\n",
       "      \n",
       "      if ((window.Bokeh !== undefined) || (force === true)) {\n",
       "        for (var i = 0; i < inline_js.length; i++) {\n",
       "          inline_js[i](window.Bokeh);\n",
       "        }if (force === true) {\n",
       "          display_loaded();\n",
       "        }} else if (Date.now() < window._bokeh_timeout) {\n",
       "        setTimeout(run_inline_js, 100);\n",
       "      } else if (!window._bokeh_failed_load) {\n",
       "        console.log(\"Bokeh: BokehJS failed to load within specified timeout.\");\n",
       "        window._bokeh_failed_load = true;\n",
       "      } else if (force !== true) {\n",
       "        var cell = $(document.getElementById(\"29cb372c-7338-441a-8ad9-2a7c2c0f232d\")).parents('.cell').data().cell;\n",
       "        cell.output_area.append_execute_result(NB_LOAD_WARNING)\n",
       "      }\n",
       "  \n",
       "    }\n",
       "  \n",
       "    if (window._bokeh_is_loading === 0) {\n",
       "      console.log(\"Bokeh: BokehJS loaded, going straight to plotting\");\n",
       "      run_inline_js();\n",
       "    } else {\n",
       "      load_libs(js_urls, function() {\n",
       "        console.log(\"Bokeh: BokehJS plotting callback run at\", now());\n",
       "        run_inline_js();\n",
       "      });\n",
       "    }\n",
       "  }(this));\n",
       "</script>"
      ]
     },
     "metadata": {},
     "output_type": "display_data"
    }
   ],
   "source": [
    "p = figure(tools=\"pan,wheel_zoom,reset,save\",\n",
    "           toolbar_location=\"above\",\n",
    "           title=\"word2vec T-SNE for most common words\")\n",
    "\n",
    "source = ColumnDataSource(data=dict(x1=words_top_wiki_tsne[:,0],\n",
    "                                    x2=words_top_wiki_tsne[:,1],\n",
    "                                    names=words_top_wiki))\n",
    "\n",
    "p.scatter(x=\"x1\", y=\"x2\", size=8, source=source)\n",
    "\n",
    "labels = LabelSet(x=\"x1\", y=\"x2\", text=\"names\", y_offset=6,\n",
    "                  text_font_size=\"8pt\", text_color=\"#555555\",\n",
    "                  source=source, text_align='center')\n",
    "p.add_layout(labels)\n",
    "\n",
    "show(p)"
   ]
  }
 ],
 "metadata": {
  "anaconda-cloud": {},
  "kernelspec": {
   "display_name": "Python 3",
   "language": "python",
   "name": "python3"
  },
  "language_info": {
   "codemirror_mode": {
    "name": "ipython",
    "version": 3
   },
   "file_extension": ".py",
   "mimetype": "text/x-python",
   "name": "python",
   "nbconvert_exporter": "python",
   "pygments_lexer": "ipython3",
   "version": "3.6.0"
  }
 },
 "nbformat": 4,
 "nbformat_minor": 1
}
