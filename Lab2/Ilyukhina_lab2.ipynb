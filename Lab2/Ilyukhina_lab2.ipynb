{
 "cells": [
  {
   "cell_type": "markdown",
   "metadata": {},
   "source": [
    "## Practical 1: word2vec\n",
    "<p>Oxford CS - Deep NLP 2017<br>\n",
    "https://www.cs.ox.ac.uk/teaching/courses/2016-2017/dl/</p>\n",
    "<p>[Yannis Assael, Brendan Shillingford, Chris Dyer]</p>"
   ]
  },
  {
   "cell_type": "markdown",
   "metadata": {},
   "source": [
    "This practical is presented as an IPython Notebook, with the code written for recent versions of **Python 3**. The code in this practical will not work with Python 2 unless you modify it. If you are using your own Python installation, ensure you have a setup identical to that described in the installation shell script (which is intended for use with the department lab machines). We will be unable to support installation on personal machines due to time constraints, so please use the lab machines and the setup script if you are unfamiliar with how to install Anaconda.\n",
    "\n",
    "To execute a notebook cell, press `shift-enter`. The return value of the last command will be displayed, if it is not `None`.\n",
    "\n",
    "Potentially useful library documentation, references, and resources:\n",
    "\n",
    "* IPython notebooks: <https://ipython.org/ipython-doc/3/notebook/notebook.html#introduction>\n",
    "* Numpy numerical array library: <https://docs.scipy.org/doc/>\n",
    "* Gensim's word2vec: <https://radimrehurek.com/gensim/models/word2vec.html>\n",
    "* Bokeh interactive plots: <http://bokeh.pydata.org/en/latest/> (we provide plotting code here, but click the thumbnails for more examples to copy-paste)\n",
    "* scikit-learn ML library (aka `sklearn`): <http://scikit-learn.org/stable/documentation.html>\n",
    "* nltk NLP toolkit: <http://www.nltk.org/>\n",
    "* tutorial for processing xml in python using `lxml`: <http://lxml.de/tutorial.html> (we did this for you below, but in case you need it in the future)"
   ]
  },
  {
   "cell_type": "code",
   "execution_count": 1,
   "metadata": {
    "collapsed": false
   },
   "outputs": [],
   "source": [
    "import numpy as np\n",
    "import os\n",
    "from random import shuffle\n",
    "import re"
   ]
  },
  {
   "cell_type": "code",
   "execution_count": 2,
   "metadata": {
    "collapsed": false
   },
   "outputs": [
    {
     "data": {
      "text/html": [
       "\n",
       "    <div class=\"bk-root\">\n",
       "        <a href=\"http://bokeh.pydata.org\" target=\"_blank\" class=\"bk-logo bk-logo-small bk-logo-notebook\"></a>\n",
       "        <span id=\"f9a4a844-6bd6-490b-b103-b04c114f2b28\">Loading BokehJS ...</span>\n",
       "    </div>"
      ]
     },
     "metadata": {},
     "output_type": "display_data"
    },
    {
     "data": {
      "application/javascript": [
       "\n",
       "(function(global) {\n",
       "  function now() {\n",
       "    return new Date();\n",
       "  }\n",
       "\n",
       "  var force = true;\n",
       "\n",
       "  if (typeof (window._bokeh_onload_callbacks) === \"undefined\" || force === true) {\n",
       "    window._bokeh_onload_callbacks = [];\n",
       "    window._bokeh_is_loading = undefined;\n",
       "  }\n",
       "\n",
       "\n",
       "  \n",
       "  if (typeof (window._bokeh_timeout) === \"undefined\" || force === true) {\n",
       "    window._bokeh_timeout = Date.now() + 5000;\n",
       "    window._bokeh_failed_load = false;\n",
       "  }\n",
       "\n",
       "  var NB_LOAD_WARNING = {'data': {'text/html':\n",
       "     \"<div style='background-color: #fdd'>\\n\"+\n",
       "     \"<p>\\n\"+\n",
       "     \"BokehJS does not appear to have successfully loaded. If loading BokehJS from CDN, this \\n\"+\n",
       "     \"may be due to a slow or bad network connection. Possible fixes:\\n\"+\n",
       "     \"</p>\\n\"+\n",
       "     \"<ul>\\n\"+\n",
       "     \"<li>re-rerun `output_notebook()` to attempt to load from CDN again, or</li>\\n\"+\n",
       "     \"<li>use INLINE resources instead, as so:</li>\\n\"+\n",
       "     \"</ul>\\n\"+\n",
       "     \"<code>\\n\"+\n",
       "     \"from bokeh.resources import INLINE\\n\"+\n",
       "     \"output_notebook(resources=INLINE)\\n\"+\n",
       "     \"</code>\\n\"+\n",
       "     \"</div>\"}};\n",
       "\n",
       "  function display_loaded() {\n",
       "    if (window.Bokeh !== undefined) {\n",
       "      document.getElementById(\"f9a4a844-6bd6-490b-b103-b04c114f2b28\").textContent = \"BokehJS successfully loaded.\";\n",
       "    } else if (Date.now() < window._bokeh_timeout) {\n",
       "      setTimeout(display_loaded, 100)\n",
       "    }\n",
       "  }\n",
       "\n",
       "  function run_callbacks() {\n",
       "    window._bokeh_onload_callbacks.forEach(function(callback) { callback() });\n",
       "    delete window._bokeh_onload_callbacks\n",
       "    console.info(\"Bokeh: all callbacks have finished\");\n",
       "  }\n",
       "\n",
       "  function load_libs(js_urls, callback) {\n",
       "    window._bokeh_onload_callbacks.push(callback);\n",
       "    if (window._bokeh_is_loading > 0) {\n",
       "      console.log(\"Bokeh: BokehJS is being loaded, scheduling callback at\", now());\n",
       "      return null;\n",
       "    }\n",
       "    if (js_urls == null || js_urls.length === 0) {\n",
       "      run_callbacks();\n",
       "      return null;\n",
       "    }\n",
       "    console.log(\"Bokeh: BokehJS not loaded, scheduling load and callback at\", now());\n",
       "    window._bokeh_is_loading = js_urls.length;\n",
       "    for (var i = 0; i < js_urls.length; i++) {\n",
       "      var url = js_urls[i];\n",
       "      var s = document.createElement('script');\n",
       "      s.src = url;\n",
       "      s.async = false;\n",
       "      s.onreadystatechange = s.onload = function() {\n",
       "        window._bokeh_is_loading--;\n",
       "        if (window._bokeh_is_loading === 0) {\n",
       "          console.log(\"Bokeh: all BokehJS libraries loaded\");\n",
       "          run_callbacks()\n",
       "        }\n",
       "      };\n",
       "      s.onerror = function() {\n",
       "        console.warn(\"failed to load library \" + url);\n",
       "      };\n",
       "      console.log(\"Bokeh: injecting script tag for BokehJS library: \", url);\n",
       "      document.getElementsByTagName(\"head\")[0].appendChild(s);\n",
       "    }\n",
       "  };var element = document.getElementById(\"f9a4a844-6bd6-490b-b103-b04c114f2b28\");\n",
       "  if (element == null) {\n",
       "    console.log(\"Bokeh: ERROR: autoload.js configured with elementid 'f9a4a844-6bd6-490b-b103-b04c114f2b28' but no matching script tag was found. \")\n",
       "    return false;\n",
       "  }\n",
       "\n",
       "  var js_urls = [\"https://cdn.pydata.org/bokeh/release/bokeh-0.12.4.min.js\", \"https://cdn.pydata.org/bokeh/release/bokeh-widgets-0.12.4.min.js\"];\n",
       "\n",
       "  var inline_js = [\n",
       "    function(Bokeh) {\n",
       "      Bokeh.set_log_level(\"info\");\n",
       "    },\n",
       "    \n",
       "    function(Bokeh) {\n",
       "      \n",
       "      document.getElementById(\"f9a4a844-6bd6-490b-b103-b04c114f2b28\").textContent = \"BokehJS is loading...\";\n",
       "    },\n",
       "    function(Bokeh) {\n",
       "      console.log(\"Bokeh: injecting CSS: https://cdn.pydata.org/bokeh/release/bokeh-0.12.4.min.css\");\n",
       "      Bokeh.embed.inject_css(\"https://cdn.pydata.org/bokeh/release/bokeh-0.12.4.min.css\");\n",
       "      console.log(\"Bokeh: injecting CSS: https://cdn.pydata.org/bokeh/release/bokeh-widgets-0.12.4.min.css\");\n",
       "      Bokeh.embed.inject_css(\"https://cdn.pydata.org/bokeh/release/bokeh-widgets-0.12.4.min.css\");\n",
       "    }\n",
       "  ];\n",
       "\n",
       "  function run_inline_js() {\n",
       "    \n",
       "    if ((window.Bokeh !== undefined) || (force === true)) {\n",
       "      for (var i = 0; i < inline_js.length; i++) {\n",
       "        inline_js[i](window.Bokeh);\n",
       "      }if (force === true) {\n",
       "        display_loaded();\n",
       "      }} else if (Date.now() < window._bokeh_timeout) {\n",
       "      setTimeout(run_inline_js, 100);\n",
       "    } else if (!window._bokeh_failed_load) {\n",
       "      console.log(\"Bokeh: BokehJS failed to load within specified timeout.\");\n",
       "      window._bokeh_failed_load = true;\n",
       "    } else if (force !== true) {\n",
       "      var cell = $(document.getElementById(\"f9a4a844-6bd6-490b-b103-b04c114f2b28\")).parents('.cell').data().cell;\n",
       "      cell.output_area.append_execute_result(NB_LOAD_WARNING)\n",
       "    }\n",
       "\n",
       "  }\n",
       "\n",
       "  if (window._bokeh_is_loading === 0) {\n",
       "    console.log(\"Bokeh: BokehJS loaded, going straight to plotting\");\n",
       "    run_inline_js();\n",
       "  } else {\n",
       "    load_libs(js_urls, function() {\n",
       "      console.log(\"Bokeh: BokehJS plotting callback run at\", now());\n",
       "      run_inline_js();\n",
       "    });\n",
       "  }\n",
       "}(this));"
      ]
     },
     "metadata": {},
     "output_type": "display_data"
    }
   ],
   "source": [
    "from bokeh.models import ColumnDataSource, LabelSet\n",
    "from bokeh.plotting import figure, show, output_file\n",
    "from bokeh.io import output_notebook\n",
    "output_notebook()"
   ]
  },
  {
   "cell_type": "markdown",
   "metadata": {},
   "source": [
    "### Part 0: Download the TED dataset"
   ]
  },
  {
   "cell_type": "code",
   "execution_count": 3,
   "metadata": {
    "collapsed": false
   },
   "outputs": [],
   "source": [
    "import urllib.request\n",
    "import zipfile\n",
    "import lxml.etree"
   ]
  },
  {
   "cell_type": "code",
   "execution_count": 4,
   "metadata": {
    "collapsed": false
   },
   "outputs": [],
   "source": [
    "# Download the dataset if it's not already there: this may take a minute as it is 75MB\n",
    "if not os.path.isfile('ted_en-20160408.zip'):\n",
    "    urllib.request.urlretrieve(\"https://wit3.fbk.eu/get.php?path=XML_releases/xml/ted_en-20160408.zip&filename=ted_en-20160408.zip\", filename=\"ted_en-20160408.zip\")"
   ]
  },
  {
   "cell_type": "code",
   "execution_count": 5,
   "metadata": {
    "collapsed": false
   },
   "outputs": [],
   "source": [
    "# For now, we're only interested in the subtitle text, so let's extract that from the XML:\n",
    "with zipfile.ZipFile('ted_en-20160408.zip', 'r') as z:\n",
    "    doc = lxml.etree.parse(z.open('ted_en-20160408.xml', 'r'))\n",
    "input_text = '\\n'.join(doc.xpath('//content/text()'))\n",
    "del doc"
   ]
  },
  {
   "cell_type": "markdown",
   "metadata": {},
   "source": [
    "### Part 1: Preprocessing\n",
    "\n",
    "In this part, we attempt to clean up the raw subtitles a bit, so that we get only sentences. The following substring shows examples of what we're trying to get rid of. Since it's hard to define precisely what we want to get rid of, we'll just use some simple heuristics."
   ]
  },
  {
   "cell_type": "code",
   "execution_count": 6,
   "metadata": {
    "collapsed": false,
    "scrolled": false
   },
   "outputs": [
    {
     "data": {
      "text/plain": [
       "' baby does.\\n(Video) Hyowon Gweon: See this? (Ball squeaks) Did you see that? (Ball squeaks) Cool. See this one? (Ball squeaks) Wow.\\nLaura Schulz: Told you. (Laughs)\\n(Vide'"
      ]
     },
     "execution_count": 6,
     "metadata": {},
     "output_type": "execute_result"
    }
   ],
   "source": [
    "i = input_text.find(\"Hyowon Gweon: See this?\")\n",
    "input_text[i-20:i+150]"
   ]
  },
  {
   "cell_type": "markdown",
   "metadata": {},
   "source": [
    "Let's start by removing all parenthesized strings using a regex:"
   ]
  },
  {
   "cell_type": "code",
   "execution_count": 7,
   "metadata": {
    "collapsed": true
   },
   "outputs": [],
   "source": [
    "input_text_noparens = re.sub(r'\\([^)]*\\)', '', input_text)"
   ]
  },
  {
   "cell_type": "markdown",
   "metadata": {},
   "source": [
    "We can verify the same location in the text is now clean as follows. We won't worry about the irregular spaces since we'll later split the text into sentences and tokenize it anyway."
   ]
  },
  {
   "cell_type": "code",
   "execution_count": 8,
   "metadata": {
    "collapsed": false
   },
   "outputs": [
    {
     "data": {
      "text/plain": [
       "\"hat the baby does.\\n Hyowon Gweon: See this?  Did you see that?  Cool. See this one?  Wow.\\nLaura Schulz: Told you. \\n HG: See this one?  Hey Clara, this one's for you. You \""
      ]
     },
     "execution_count": 8,
     "metadata": {},
     "output_type": "execute_result"
    }
   ],
   "source": [
    "i = input_text_noparens.find(\"Hyowon Gweon: See this?\")\n",
    "input_text_noparens[i-20:i+150]"
   ]
  },
  {
   "cell_type": "markdown",
   "metadata": {},
   "source": [
    "Now, let's attempt to remove speakers' names that occur at the beginning of a line, by deleting pieces of the form \"`<up to 20 characters>:`\", as shown in this example. Of course, this is an imperfect heuristic. "
   ]
  },
  {
   "cell_type": "code",
   "execution_count": 9,
   "metadata": {
    "collapsed": false
   },
   "outputs": [
    {
     "data": {
      "text/plain": [
       "[\"Here are two reasons companies fail: they only do more of the same, or they only do what's new\",\n",
       " 'To me the real, real solution to quality growth is figuring out the balance between two activities: exploration and exploitation',\n",
       " ' Both are necessary, but it can be too much of a good thing',\n",
       " 'Consider Facit',\n",
       " \" I'm actually old enough to remember them\"]"
      ]
     },
     "execution_count": 9,
     "metadata": {},
     "output_type": "execute_result"
    }
   ],
   "source": [
    "sentences_strings_ted = []\n",
    "for line in input_text_noparens.split('\\n'):\n",
    "    m = re.match(r'^(?:(?P<precolon>[^:]{,20}):)?(?P<postcolon>.*)$', line)\n",
    "    sentences_strings_ted.extend(sent for sent in m.groupdict()['postcolon'].split('.') if sent)\n",
    "\n",
    "# Uncomment if you need to save some RAM: these strings are about 50MB.\n",
    "# del input_text, input_text_noparens\n",
    "\n",
    "# Let's view the first few:\n",
    "sentences_strings_ted[:5]"
   ]
  },
  {
   "cell_type": "markdown",
   "metadata": {},
   "source": [
    "Now that we have sentences, we're ready to tokenize each of them into words. This tokenization is imperfect, of course. For instance, how many tokens is \"can't\", and where/how do we split it? We'll take the simplest naive approach of splitting on spaces. Before splitting, we remove non-alphanumeric characters, such as punctuation. You may want to consider the following question: why do we replace these characters with spaces rather than deleting them? Think of a case where this yields a different answer."
   ]
  },
  {
   "cell_type": "code",
   "execution_count": 10,
   "metadata": {
    "collapsed": false
   },
   "outputs": [],
   "source": [
    "sentences_ted = []\n",
    "for sent_str in sentences_strings_ted:\n",
    "    tokens = re.sub(r\"[^a-z0-9]+\", \" \", sent_str.lower()).split()\n",
    "    sentences_ted.append(tokens)"
   ]
  },
  {
   "cell_type": "markdown",
   "metadata": {},
   "source": [
    "Two sample processed sentences:"
   ]
  },
  {
   "cell_type": "code",
   "execution_count": 11,
   "metadata": {
    "collapsed": false
   },
   "outputs": [
    {
     "data": {
      "text/plain": [
       "266694"
      ]
     },
     "execution_count": 11,
     "metadata": {},
     "output_type": "execute_result"
    }
   ],
   "source": [
    "len(sentences_ted)"
   ]
  },
  {
   "cell_type": "code",
   "execution_count": 12,
   "metadata": {
    "collapsed": false
   },
   "outputs": [
    {
     "name": "stdout",
     "output_type": "stream",
     "text": [
      "['here', 'are', 'two', 'reasons', 'companies', 'fail', 'they', 'only', 'do', 'more', 'of', 'the', 'same', 'or', 'they', 'only', 'do', 'what', 's', 'new']\n",
      "['to', 'me', 'the', 'real', 'real', 'solution', 'to', 'quality', 'growth', 'is', 'figuring', 'out', 'the', 'balance', 'between', 'two', 'activities', 'exploration', 'and', 'exploitation']\n"
     ]
    }
   ],
   "source": [
    "print(sentences_ted[0])\n",
    "print(sentences_ted[1])"
   ]
  },
  {
   "cell_type": "markdown",
   "metadata": {},
   "source": [
    "### Part 2: Word Frequencies"
   ]
  },
  {
   "cell_type": "markdown",
   "metadata": {},
   "source": [
    "If you store the counts of the top 1000 words in a list called `counts_ted_top1000`, the code below will plot the histogram requested in the writeup."
   ]
  },
  {
   "cell_type": "code",
   "execution_count": 13,
   "metadata": {
    "collapsed": false
   },
   "outputs": [
    {
     "name": "stdout",
     "output_type": "stream",
     "text": [
      "[207749, 149306, 125170, 114819, 105400, 95147, 83181, 78071, 74739, 70924]\n"
     ]
    }
   ],
   "source": [
    "counts_ted={}\n",
    "for sentence in sentences_ted:\n",
    "    for word in sentence:\n",
    "        if word not in counts_ted:\n",
    "            counts_ted[word]=1\n",
    "        if word in counts_ted:\n",
    "            counts_ted[word]+=1\n",
    "\n",
    "words_ted_top1000=sorted(counts_ted, key=lambda x:int(counts_ted[x]), reverse=True)[:1000]\n",
    "counts_ted_top1000=[]\n",
    "for word in words_ted_top1000:\n",
    "    counts_ted_top1000.append(counts_ted[word])\n",
    "print(counts_ted_top1000[:10])\n",
    "\n",
    "    "
   ]
  },
  {
   "cell_type": "markdown",
   "metadata": {},
   "source": [
    "Plot distribution of top-1000 words"
   ]
  },
  {
   "cell_type": "code",
   "execution_count": 14,
   "metadata": {
    "collapsed": false
   },
   "outputs": [
    {
     "data": {
      "text/html": [
       "\n",
       "\n",
       "    <div class=\"bk-root\">\n",
       "        <div class=\"bk-plotdiv\" id=\"55d13e42-36aa-4330-99b7-a1ca61e94b0a\"></div>\n",
       "    </div>\n",
       "<script type=\"text/javascript\">\n",
       "  \n",
       "  (function(global) {\n",
       "    function now() {\n",
       "      return new Date();\n",
       "    }\n",
       "  \n",
       "    var force = false;\n",
       "  \n",
       "    if (typeof (window._bokeh_onload_callbacks) === \"undefined\" || force === true) {\n",
       "      window._bokeh_onload_callbacks = [];\n",
       "      window._bokeh_is_loading = undefined;\n",
       "    }\n",
       "  \n",
       "  \n",
       "    \n",
       "    if (typeof (window._bokeh_timeout) === \"undefined\" || force === true) {\n",
       "      window._bokeh_timeout = Date.now() + 0;\n",
       "      window._bokeh_failed_load = false;\n",
       "    }\n",
       "  \n",
       "    var NB_LOAD_WARNING = {'data': {'text/html':\n",
       "       \"<div style='background-color: #fdd'>\\n\"+\n",
       "       \"<p>\\n\"+\n",
       "       \"BokehJS does not appear to have successfully loaded. If loading BokehJS from CDN, this \\n\"+\n",
       "       \"may be due to a slow or bad network connection. Possible fixes:\\n\"+\n",
       "       \"</p>\\n\"+\n",
       "       \"<ul>\\n\"+\n",
       "       \"<li>re-rerun `output_notebook()` to attempt to load from CDN again, or</li>\\n\"+\n",
       "       \"<li>use INLINE resources instead, as so:</li>\\n\"+\n",
       "       \"</ul>\\n\"+\n",
       "       \"<code>\\n\"+\n",
       "       \"from bokeh.resources import INLINE\\n\"+\n",
       "       \"output_notebook(resources=INLINE)\\n\"+\n",
       "       \"</code>\\n\"+\n",
       "       \"</div>\"}};\n",
       "  \n",
       "    function display_loaded() {\n",
       "      if (window.Bokeh !== undefined) {\n",
       "        document.getElementById(\"55d13e42-36aa-4330-99b7-a1ca61e94b0a\").textContent = \"BokehJS successfully loaded.\";\n",
       "      } else if (Date.now() < window._bokeh_timeout) {\n",
       "        setTimeout(display_loaded, 100)\n",
       "      }\n",
       "    }\n",
       "  \n",
       "    function run_callbacks() {\n",
       "      window._bokeh_onload_callbacks.forEach(function(callback) { callback() });\n",
       "      delete window._bokeh_onload_callbacks\n",
       "      console.info(\"Bokeh: all callbacks have finished\");\n",
       "    }\n",
       "  \n",
       "    function load_libs(js_urls, callback) {\n",
       "      window._bokeh_onload_callbacks.push(callback);\n",
       "      if (window._bokeh_is_loading > 0) {\n",
       "        console.log(\"Bokeh: BokehJS is being loaded, scheduling callback at\", now());\n",
       "        return null;\n",
       "      }\n",
       "      if (js_urls == null || js_urls.length === 0) {\n",
       "        run_callbacks();\n",
       "        return null;\n",
       "      }\n",
       "      console.log(\"Bokeh: BokehJS not loaded, scheduling load and callback at\", now());\n",
       "      window._bokeh_is_loading = js_urls.length;\n",
       "      for (var i = 0; i < js_urls.length; i++) {\n",
       "        var url = js_urls[i];\n",
       "        var s = document.createElement('script');\n",
       "        s.src = url;\n",
       "        s.async = false;\n",
       "        s.onreadystatechange = s.onload = function() {\n",
       "          window._bokeh_is_loading--;\n",
       "          if (window._bokeh_is_loading === 0) {\n",
       "            console.log(\"Bokeh: all BokehJS libraries loaded\");\n",
       "            run_callbacks()\n",
       "          }\n",
       "        };\n",
       "        s.onerror = function() {\n",
       "          console.warn(\"failed to load library \" + url);\n",
       "        };\n",
       "        console.log(\"Bokeh: injecting script tag for BokehJS library: \", url);\n",
       "        document.getElementsByTagName(\"head\")[0].appendChild(s);\n",
       "      }\n",
       "    };var element = document.getElementById(\"55d13e42-36aa-4330-99b7-a1ca61e94b0a\");\n",
       "    if (element == null) {\n",
       "      console.log(\"Bokeh: ERROR: autoload.js configured with elementid '55d13e42-36aa-4330-99b7-a1ca61e94b0a' but no matching script tag was found. \")\n",
       "      return false;\n",
       "    }\n",
       "  \n",
       "    var js_urls = [];\n",
       "  \n",
       "    var inline_js = [\n",
       "      function(Bokeh) {\n",
       "        (function() {\n",
       "          var fn = function() {\n",
       "            var docs_json = {\"a2cac38b-18e5-4881-9bdc-478c8565542c\":{\"roots\":{\"references\":[{\"attributes\":{\"data_source\":{\"id\":\"cc6e0456-b125-47c2-b710-b061b853c068\",\"type\":\"ColumnDataSource\"},\"glyph\":{\"id\":\"e2f81ba8-791a-4a8e-bed2-33be847a71cd\",\"type\":\"Quad\"},\"hover_glyph\":null,\"nonselection_glyph\":{\"id\":\"99b31756-8ffb-4e86-8e98-8b0eab8d7d97\",\"type\":\"Quad\"},\"selection_glyph\":null},\"id\":\"1a84003f-e24b-4b94-ae15-ebf022c14431\",\"type\":\"GlyphRenderer\"},{\"attributes\":{\"plot\":null,\"text\":\"Top-1000 words distribution\"},\"id\":\"a0d679b9-6b42-4961-b7ac-bc60a0e27eb3\",\"type\":\"Title\"},{\"attributes\":{\"callback\":null},\"id\":\"a0ec716e-fd88-4add-ac8e-cb92a8c69d2d\",\"type\":\"DataRange1d\"},{\"attributes\":{},\"id\":\"be3b747b-78ee-4670-a29f-531f55f39cc2\",\"type\":\"ToolEvents\"},{\"attributes\":{\"active_drag\":\"auto\",\"active_scroll\":\"auto\",\"active_tap\":\"auto\",\"tools\":[{\"id\":\"3245a62f-d565-4795-aafc-ab27a0c32d9e\",\"type\":\"PanTool\"},{\"id\":\"2567a4ff-a0b2-4106-a732-f59e86d9bbaa\",\"type\":\"WheelZoomTool\"},{\"id\":\"12b9b6bf-ae6e-4930-8976-d8d879ce19d4\",\"type\":\"ResetTool\"},{\"id\":\"72810478-764a-4d16-ab9a-13eb03c91330\",\"type\":\"SaveTool\"}]},\"id\":\"41eae01f-9c45-4bd1-aa62-8a5450fed5ce\",\"type\":\"Toolbar\"},{\"attributes\":{\"formatter\":{\"id\":\"4e26df0d-601d-439a-b586-558fdb88d2b9\",\"type\":\"BasicTickFormatter\"},\"plot\":{\"id\":\"5462e689-cb2b-4fdb-94b1-a063eabaf998\",\"subtype\":\"Figure\",\"type\":\"Plot\"},\"ticker\":{\"id\":\"edb1be95-2c2d-4c94-8270-0a157863ab47\",\"type\":\"BasicTicker\"}},\"id\":\"cf23299e-bd73-4bd2-bb78-2b54a7fdb85d\",\"type\":\"LinearAxis\"},{\"attributes\":{\"callback\":null},\"id\":\"a54e57d5-0456-4bf9-a61f-a2504bb0db00\",\"type\":\"DataRange1d\"},{\"attributes\":{},\"id\":\"edb1be95-2c2d-4c94-8270-0a157863ab47\",\"type\":\"BasicTicker\"},{\"attributes\":{\"bottom\":{\"value\":0},\"fill_alpha\":{\"value\":0.1},\"fill_color\":{\"value\":\"#1f77b4\"},\"left\":{\"field\":\"left\"},\"line_alpha\":{\"value\":0.1},\"line_color\":{\"value\":\"#1f77b4\"},\"right\":{\"field\":\"right\"},\"top\":{\"field\":\"top\"}},\"id\":\"99b31756-8ffb-4e86-8e98-8b0eab8d7d97\",\"type\":\"Quad\"},{\"attributes\":{\"plot\":{\"id\":\"5462e689-cb2b-4fdb-94b1-a063eabaf998\",\"subtype\":\"Figure\",\"type\":\"Plot\"}},\"id\":\"72810478-764a-4d16-ab9a-13eb03c91330\",\"type\":\"SaveTool\"},{\"attributes\":{\"plot\":{\"id\":\"5462e689-cb2b-4fdb-94b1-a063eabaf998\",\"subtype\":\"Figure\",\"type\":\"Plot\"},\"ticker\":{\"id\":\"edb1be95-2c2d-4c94-8270-0a157863ab47\",\"type\":\"BasicTicker\"}},\"id\":\"65fade3b-1f5a-4455-9401-0d72e308d0c0\",\"type\":\"Grid\"},{\"attributes\":{\"formatter\":{\"id\":\"0f579f3b-b8f0-48b5-a94e-fcfc95664e3e\",\"type\":\"BasicTickFormatter\"},\"plot\":{\"id\":\"5462e689-cb2b-4fdb-94b1-a063eabaf998\",\"subtype\":\"Figure\",\"type\":\"Plot\"},\"ticker\":{\"id\":\"775cbb23-a210-4e26-88ca-4c1167bc7abf\",\"type\":\"BasicTicker\"}},\"id\":\"e4c3bd5d-f36a-40bd-a1b4-afd564903828\",\"type\":\"LinearAxis\"},{\"attributes\":{},\"id\":\"4e26df0d-601d-439a-b586-558fdb88d2b9\",\"type\":\"BasicTickFormatter\"},{\"attributes\":{},\"id\":\"775cbb23-a210-4e26-88ca-4c1167bc7abf\",\"type\":\"BasicTicker\"},{\"attributes\":{\"dimension\":1,\"plot\":{\"id\":\"5462e689-cb2b-4fdb-94b1-a063eabaf998\",\"subtype\":\"Figure\",\"type\":\"Plot\"},\"ticker\":{\"id\":\"775cbb23-a210-4e26-88ca-4c1167bc7abf\",\"type\":\"BasicTicker\"}},\"id\":\"9b1161ea-e5d1-4ad7-aabe-608ad17bdf80\",\"type\":\"Grid\"},{\"attributes\":{\"callback\":null,\"column_names\":[\"left\",\"right\",\"top\"],\"data\":{\"left\":{\"__ndarray__\":\"V2ao+PoDGEBtlDRH4UMYQIPCwJXHgxhAmvBM5K3DGECwHtkylAMZQMZMZYF6QxlA3Hrxz2CDGUDzqH0eR8MZQAnXCW0tAxpAHwWWuxNDGkA1MyIK+oIaQExhrljgwhpAYo86p8YCG0B4vcb1rEIbQI7rUkSTghtApBnfknnCG0C7R2vhXwIcQNF19y9GQhxA56ODfiyCHED90Q/NEsIcQBQAnBv5AR1AKi4oat9BHUBAXLS4xYEdQFaKQAeswR1AbLjMVZIBHkCD5likeEEeQJkU5fJegR5Ar0JxQUXBHkDFcP2PKwEfQNyeid4RQR9A8swVLfiAH0AI+6F73sAfQI8UF2ViACBAmitdjFUgIEClQqOzSEAgQLBZ6do7YCBAvHAvAi+AIEDHh3UpIqAgQNKeu1AVwCBA3bUBeAjgIEDozEef+/8gQPPjjcbuHyFA/vrT7eE/IUAJEhoV1V8hQBQpYDzIfyFAIECmY7ufIUArV+yKrr8hQDZuMrKh3yFAQYV42ZT/IUBMnL4AiB8iQFezBCh7PyJAYspKT25fIkBu4ZB2YX8iQHj41p1UnyJAhA8dxUe/IkCPJmPsOt8iQJo9qRMu/yJApVTvOiEfI0CwazViFD8jQLuCe4kHXyNAxpnBsPp+I0DSsAfY7Z4jQNzHTf/gviNA6N6TJtTeI0Dz9dlNx/4jQP4MIHW6HiRACSRmnK0+JEAUO6zDoF4kQB9S8uqTfiRAKmk4EoeeJEA2gH45er4kQECXxGBt3iRATK4KiGD+JEBXxVCvUx4lQGLcltZGPiVAbfPc/TleJUB4CiMlLX4lQIMhaUwgniVAjjivcxO+JUCaT/WaBt4lQKRmO8L5/SVAsH2B6ewdJkC7lMcQ4D0mQMarDTjTXSZA0cJTX8Z9JkDc2ZmGuZ0mQOfw362svSZA8gcm1Z/dJkD+Hmz8kv0mQAg2siOGHSdAFE34Snk9J0AfZD5ybF0nQCp7hJlffSdANZLKwFKdJ0BAqRDoRb0nQEzAVg853SdAVtecNiz9J0Bi7uJdHx0oQGwFKYUSPShAeBxvrAVdKEA=\",\"dtype\":\"float64\",\"shape\":[100]},\"right\":{\"__ndarray__\":\"bZQ0R+FDGECDwsCVx4MYQJrwTOStwxhAsB7ZMpQDGUDGTGWBekMZQNx68c9ggxlA86h9HkfDGUAJ1wltLQMaQB8FlrsTQxpANTMiCvqCGkBMYa5Y4MIaQGKPOqfGAhtAeL3G9axCG0CO61JEk4IbQKQZ35J5whtAu0dr4V8CHEDRdfcvRkIcQOejg34sghxA/dEPzRLCHEAUAJwb+QEdQCouKGrfQR1AQFy0uMWBHUBWikAHrMEdQGy4zFWSAR5Ag+ZYpHhBHkCZFOXyXoEeQK9CcUFFwR5AxXD9jysBH0DcnoneEUEfQPLMFS34gB9ACPuhe97AH0CPFBdlYgAgQJorXYxVICBApUKjs0hAIECwWenaO2AgQLxwLwIvgCBAx4d1KSKgIEDSnrtQFcAgQN21AXgI4CBA6MxHn/v/IEDz443G7h8hQP760+3hPyFACRIaFdVfIUAUKWA8yH8hQCBApmO7nyFAK1fsiq6/IUA2bjKyod8hQEGFeNmU/yFATJy+AIgfIkBXswQoez8iQGLKSk9uXyJAbuGQdmF/IkB4+NadVJ8iQIQPHcVHvyJAjyZj7DrfIkCaPakTLv8iQKVU7zohHyNAsGs1YhQ/I0C7gnuJB18jQMaZwbD6fiNA0rAH2O2eI0Dcx03/4L4jQOjekybU3iNA8/XZTcf+I0D+DCB1uh4kQAkkZpytPiRAFDusw6BeJEAfUvLqk34kQCppOBKHniRANoB+OXq+JEBAl8Rgbd4kQEyuCohg/iRAV8VQr1MeJUBi3JbWRj4lQG3z3P05XiVAeAojJS1+JUCDIWlMIJ4lQI44r3MTviVAmk/1mgbeJUCkZjvC+f0lQLB9gensHSZAu5THEOA9JkDGqw04010mQNHCU1/GfSZA3NmZhrmdJkDn8N+trL0mQPIHJtWf3SZA/h5s/JL9JkAINrIjhh0nQBRN+Ep5PSdAH2Q+cmxdJ0Aqe4SZX30nQDWSysBSnSdAQKkQ6EW9J0BMwFYPOd0nQFbXnDYs/SdAYu7iXR8dKEBsBSmFEj0oQHgcb6wFXShAgzO10/h8KEA=\",\"dtype\":\"float64\",\"shape\":[100]},\"top\":{\"__ndarray__\":\"bd9UDqzE7j+IxzyUnSDpPxtX+9grJ+o/fue5Hbot6z+IxzyUnSDpP7H/6EvkaOA/Va8kGo984z+oH2bVAHbiP3JPlskdvt0/sf/oS+Ro4D85X2DoOZDWP4p/3XFWndg/ck+WyR2+3T+Kf91xVp3YP6rXBrO58uE/DC8ZQAGx2z+Bn1r7cqraP4p/3XFWndg/hQ+ctuSj2T8MLxlAAbHbP7H/6EvkaNA/rY+nkHJv0T+Kf91xVp3IP4GfWvtyqso/cP/oS+RowD+tj6eQcm/RP54/414dg8Q/in/dcVadyD9MP+NeHYPEP3e/14SPt8w/nj/jXh2DxD+x/+hL5GjAP4p/3XFWnbg/d7/XhI+3vD+x/+hL5GigP5C+14SPt7w/in/dcVadqD+Kf91xVp24P4p/3XFWnbg/sf/oS+RokD+x/+hL5GjAP3e/14SPt7w/sf/oS+RosD+eP+NeHYO0P8Z+3XFWnag/sf/oS+RosD+Kf91xVp24P54/414dg7Q/sf/oS+RooD+eP+NeHYO0P7H/6EvkaLA/kL7XhI+3vD81AOlL5GiwP/o+414dg7Q/sf/oS+RosD+x/+hL5GigP4p/3XFWnbg/sf/oS+RokD+x/+hL5GigP4p/3XFWnag/xn7dcVadqD9QgN1xVp2oPy7/6EvkaKA/sf/oS+RooD+x/+hL5GigP7H/6EvkaJA/sf/oS+RokD+x/+hL5GiwP7H/6EvkaJA/Lv/oS+RokD81AOlL5GiQPwAAAAAAAAAAsf/oS+RokD8AAAAAAAAAAAAAAAAAAAAAAAAAAAAAAACx/+hL5GiQPwAAAAAAAAAAAAAAAAAAAAA1AOlL5GiQPy7/6EvkaJA/AAAAAAAAAACx/+hL5GigP7H/6EvkaJA/sf/oS+RokD+x/+hL5GiQPwAAAAAAAAAALv/oS+RokD8AAAAAAAAAAC7/6EvkaJA/sf/oS+RokD+x/+hL5GiQPwAAAAAAAAAAAAAAAAAAAAAu/+hL5GiQPwAAAAAAAAAAAAAAAAAAAAAAAAAAAAAAAAAAAAAAAAAAsf/oS+RokD8=\",\"dtype\":\"float64\",\"shape\":[100]}}},\"id\":\"cc6e0456-b125-47c2-b710-b061b853c068\",\"type\":\"ColumnDataSource\"},{\"attributes\":{\"below\":[{\"id\":\"cf23299e-bd73-4bd2-bb78-2b54a7fdb85d\",\"type\":\"LinearAxis\"}],\"left\":[{\"id\":\"e4c3bd5d-f36a-40bd-a1b4-afd564903828\",\"type\":\"LinearAxis\"}],\"renderers\":[{\"id\":\"cf23299e-bd73-4bd2-bb78-2b54a7fdb85d\",\"type\":\"LinearAxis\"},{\"id\":\"65fade3b-1f5a-4455-9401-0d72e308d0c0\",\"type\":\"Grid\"},{\"id\":\"e4c3bd5d-f36a-40bd-a1b4-afd564903828\",\"type\":\"LinearAxis\"},{\"id\":\"9b1161ea-e5d1-4ad7-aabe-608ad17bdf80\",\"type\":\"Grid\"},{\"id\":\"1a84003f-e24b-4b94-ae15-ebf022c14431\",\"type\":\"GlyphRenderer\"}],\"title\":{\"id\":\"a0d679b9-6b42-4961-b7ac-bc60a0e27eb3\",\"type\":\"Title\"},\"tool_events\":{\"id\":\"be3b747b-78ee-4670-a29f-531f55f39cc2\",\"type\":\"ToolEvents\"},\"toolbar\":{\"id\":\"41eae01f-9c45-4bd1-aa62-8a5450fed5ce\",\"type\":\"Toolbar\"},\"toolbar_location\":\"above\",\"x_range\":{\"id\":\"a0ec716e-fd88-4add-ac8e-cb92a8c69d2d\",\"type\":\"DataRange1d\"},\"y_range\":{\"id\":\"a54e57d5-0456-4bf9-a61f-a2504bb0db00\",\"type\":\"DataRange1d\"}},\"id\":\"5462e689-cb2b-4fdb-94b1-a063eabaf998\",\"subtype\":\"Figure\",\"type\":\"Plot\"},{\"attributes\":{\"plot\":{\"id\":\"5462e689-cb2b-4fdb-94b1-a063eabaf998\",\"subtype\":\"Figure\",\"type\":\"Plot\"}},\"id\":\"3245a62f-d565-4795-aafc-ab27a0c32d9e\",\"type\":\"PanTool\"},{\"attributes\":{},\"id\":\"0f579f3b-b8f0-48b5-a94e-fcfc95664e3e\",\"type\":\"BasicTickFormatter\"},{\"attributes\":{\"bottom\":{\"value\":0},\"fill_color\":{\"value\":\"#1f77b4\"},\"left\":{\"field\":\"left\"},\"line_color\":{\"value\":\"#555555\"},\"right\":{\"field\":\"right\"},\"top\":{\"field\":\"top\"}},\"id\":\"e2f81ba8-791a-4a8e-bed2-33be847a71cd\",\"type\":\"Quad\"},{\"attributes\":{\"plot\":{\"id\":\"5462e689-cb2b-4fdb-94b1-a063eabaf998\",\"subtype\":\"Figure\",\"type\":\"Plot\"}},\"id\":\"2567a4ff-a0b2-4106-a732-f59e86d9bbaa\",\"type\":\"WheelZoomTool\"},{\"attributes\":{\"plot\":{\"id\":\"5462e689-cb2b-4fdb-94b1-a063eabaf998\",\"subtype\":\"Figure\",\"type\":\"Plot\"}},\"id\":\"12b9b6bf-ae6e-4930-8976-d8d879ce19d4\",\"type\":\"ResetTool\"}],\"root_ids\":[\"5462e689-cb2b-4fdb-94b1-a063eabaf998\"]},\"title\":\"Bokeh Application\",\"version\":\"0.12.4\"}};\n",
       "            var render_items = [{\"docid\":\"a2cac38b-18e5-4881-9bdc-478c8565542c\",\"elementid\":\"55d13e42-36aa-4330-99b7-a1ca61e94b0a\",\"modelid\":\"5462e689-cb2b-4fdb-94b1-a063eabaf998\"}];\n",
       "            \n",
       "            Bokeh.embed.embed_items(docs_json, render_items);\n",
       "          };\n",
       "          if (document.readyState != \"loading\") fn();\n",
       "          else document.addEventListener(\"DOMContentLoaded\", fn);\n",
       "        })();\n",
       "      },\n",
       "      function(Bokeh) {\n",
       "      }\n",
       "    ];\n",
       "  \n",
       "    function run_inline_js() {\n",
       "      \n",
       "      if ((window.Bokeh !== undefined) || (force === true)) {\n",
       "        for (var i = 0; i < inline_js.length; i++) {\n",
       "          inline_js[i](window.Bokeh);\n",
       "        }if (force === true) {\n",
       "          display_loaded();\n",
       "        }} else if (Date.now() < window._bokeh_timeout) {\n",
       "        setTimeout(run_inline_js, 100);\n",
       "      } else if (!window._bokeh_failed_load) {\n",
       "        console.log(\"Bokeh: BokehJS failed to load within specified timeout.\");\n",
       "        window._bokeh_failed_load = true;\n",
       "      } else if (force !== true) {\n",
       "        var cell = $(document.getElementById(\"55d13e42-36aa-4330-99b7-a1ca61e94b0a\")).parents('.cell').data().cell;\n",
       "        cell.output_area.append_execute_result(NB_LOAD_WARNING)\n",
       "      }\n",
       "  \n",
       "    }\n",
       "  \n",
       "    if (window._bokeh_is_loading === 0) {\n",
       "      console.log(\"Bokeh: BokehJS loaded, going straight to plotting\");\n",
       "      run_inline_js();\n",
       "    } else {\n",
       "      load_libs(js_urls, function() {\n",
       "        console.log(\"Bokeh: BokehJS plotting callback run at\", now());\n",
       "        run_inline_js();\n",
       "      });\n",
       "    }\n",
       "  }(this));\n",
       "</script>"
      ]
     },
     "metadata": {},
     "output_type": "display_data"
    }
   ],
   "source": [
    "hist, edges = np.histogram(np.log(counts_ted_top1000), density=True, bins=100, normed=True)\n",
    "\n",
    "p = figure(tools=\"pan,wheel_zoom,reset,save\",\n",
    "           toolbar_location=\"above\",\n",
    "           title=\"Top-1000 words distribution\")\n",
    "p.quad(top=hist, bottom=0, left=edges[:-1], right=edges[1:], line_color=\"#555555\")\n",
    "show(p)"
   ]
  },
  {
   "cell_type": "markdown",
   "metadata": {},
   "source": [
    "### Part 3: Train Word2Vec"
   ]
  },
  {
   "cell_type": "code",
   "execution_count": 15,
   "metadata": {
    "collapsed": false
   },
   "outputs": [
    {
     "name": "stderr",
     "output_type": "stream",
     "text": [
      "C:\\ProgramData\\Anaconda3\\lib\\site-packages\\gensim\\utils.py:862: UserWarning: detected Windows; aliasing chunkize to chunkize_serial\n",
      "  warnings.warn(\"detected Windows; aliasing chunkize to chunkize_serial\")\n"
     ]
    }
   ],
   "source": [
    "from gensim.models import Word2Vec"
   ]
  },
  {
   "cell_type": "code",
   "execution_count": 16,
   "metadata": {
    "collapsed": false
   },
   "outputs": [],
   "source": [
    "model_ted = Word2Vec(sentences_ted, size=100, window=5, min_count=5, workers=4)"
   ]
  },
  {
   "cell_type": "markdown",
   "metadata": {},
   "source": [
    "### Part 4: Ted Learnt Representations"
   ]
  },
  {
   "cell_type": "markdown",
   "metadata": {},
   "source": [
    "Finding similar words: (see gensim docs for more functionality of `most_similar`)"
   ]
  },
  {
   "cell_type": "code",
   "execution_count": 17,
   "metadata": {
    "collapsed": false
   },
   "outputs": [
    {
     "data": {
      "text/plain": [
       "[('woman', 0.8321701288223267),\n",
       " ('guy', 0.8106045722961426),\n",
       " ('lady', 0.7713212966918945),\n",
       " ('girl', 0.7513149976730347),\n",
       " ('gentleman', 0.748117208480835),\n",
       " ('soldier', 0.7386072874069214),\n",
       " ('boy', 0.7370038032531738),\n",
       " ('poet', 0.7001882791519165),\n",
       " ('kid', 0.6926425099372864),\n",
       " ('john', 0.6830445528030396)]"
      ]
     },
     "execution_count": 17,
     "metadata": {},
     "output_type": "execute_result"
    }
   ],
   "source": [
    "model_ted.most_similar(\"man\")"
   ]
  },
  {
   "cell_type": "code",
   "execution_count": 18,
   "metadata": {
    "collapsed": false
   },
   "outputs": [
    {
     "data": {
      "text/plain": [
       "[('machine', 0.7656404376029968),\n",
       " ('software', 0.7419309616088867),\n",
       " ('device', 0.6971793174743652),\n",
       " ('robot', 0.6936874389648438),\n",
       " ('interface', 0.6799458861351013),\n",
       " ('printer', 0.662531852722168),\n",
       " ('3d', 0.6589394807815552),\n",
       " ('camera', 0.6567703485488892),\n",
       " ('video', 0.6454722881317139),\n",
       " ('program', 0.6362323760986328)]"
      ]
     },
     "execution_count": 18,
     "metadata": {},
     "output_type": "execute_result"
    }
   ],
   "source": [
    "model_ted.most_similar(\"computer\")"
   ]
  },
  {
   "cell_type": "code",
   "execution_count": 19,
   "metadata": {
    "collapsed": false
   },
   "outputs": [
    {
     "data": {
      "text/plain": [
       "[('organism', 0.7608065009117126),\n",
       " ('organ', 0.7221741080284119),\n",
       " ('ant', 0.7095582485198975),\n",
       " ('neuron', 0.7068353891372681),\n",
       " ('gene', 0.676872968673706),\n",
       " ('object', 0.6723695993423462),\n",
       " ('protein', 0.6625413298606873),\n",
       " ('pattern', 0.6610338687896729),\n",
       " ('image', 0.6558516025543213),\n",
       " ('virus', 0.6552294492721558)]"
      ]
     },
     "execution_count": 19,
     "metadata": {},
     "output_type": "execute_result"
    }
   ],
   "source": [
    "model_ted.most_similar(\"animal\")"
   ]
  },
  {
   "cell_type": "markdown",
   "metadata": {},
   "source": [
    "#### t-SNE visualization\n",
    "To use the t-SNE code below, first put a list of the top 1000 words (as strings) into a variable `words_top_ted`. The following code gets the corresponding vectors from the model, assuming it's called `model_ted`:"
   ]
  },
  {
   "cell_type": "code",
   "execution_count": 20,
   "metadata": {
    "collapsed": false
   },
   "outputs": [],
   "source": [
    "# This assumes words_top_ted is a list of strings, the top 1000 words\n",
    "words_top_ted = words_ted_top1000\n",
    "words_top_vec_ted = model_ted[words_top_ted]"
   ]
  },
  {
   "cell_type": "code",
   "execution_count": 21,
   "metadata": {
    "collapsed": false
   },
   "outputs": [],
   "source": [
    "from sklearn.manifold import TSNE\n",
    "tsne = TSNE(n_components=2, random_state=0)\n",
    "words_top_ted_tsne = tsne.fit_transform(words_top_vec_ted)"
   ]
  },
  {
   "cell_type": "code",
   "execution_count": 22,
   "metadata": {
    "collapsed": false
   },
   "outputs": [
    {
     "data": {
      "text/html": [
       "\n",
       "\n",
       "    <div class=\"bk-root\">\n",
       "        <div class=\"bk-plotdiv\" id=\"32a0eda8-72b3-4910-9d74-4a4228585655\"></div>\n",
       "    </div>\n",
       "<script type=\"text/javascript\">\n",
       "  \n",
       "  (function(global) {\n",
       "    function now() {\n",
       "      return new Date();\n",
       "    }\n",
       "  \n",
       "    var force = false;\n",
       "  \n",
       "    if (typeof (window._bokeh_onload_callbacks) === \"undefined\" || force === true) {\n",
       "      window._bokeh_onload_callbacks = [];\n",
       "      window._bokeh_is_loading = undefined;\n",
       "    }\n",
       "  \n",
       "  \n",
       "    \n",
       "    if (typeof (window._bokeh_timeout) === \"undefined\" || force === true) {\n",
       "      window._bokeh_timeout = Date.now() + 0;\n",
       "      window._bokeh_failed_load = false;\n",
       "    }\n",
       "  \n",
       "    var NB_LOAD_WARNING = {'data': {'text/html':\n",
       "       \"<div style='background-color: #fdd'>\\n\"+\n",
       "       \"<p>\\n\"+\n",
       "       \"BokehJS does not appear to have successfully loaded. If loading BokehJS from CDN, this \\n\"+\n",
       "       \"may be due to a slow or bad network connection. Possible fixes:\\n\"+\n",
       "       \"</p>\\n\"+\n",
       "       \"<ul>\\n\"+\n",
       "       \"<li>re-rerun `output_notebook()` to attempt to load from CDN again, or</li>\\n\"+\n",
       "       \"<li>use INLINE resources instead, as so:</li>\\n\"+\n",
       "       \"</ul>\\n\"+\n",
       "       \"<code>\\n\"+\n",
       "       \"from bokeh.resources import INLINE\\n\"+\n",
       "       \"output_notebook(resources=INLINE)\\n\"+\n",
       "       \"</code>\\n\"+\n",
       "       \"</div>\"}};\n",
       "  \n",
       "    function display_loaded() {\n",
       "      if (window.Bokeh !== undefined) {\n",
       "        document.getElementById(\"32a0eda8-72b3-4910-9d74-4a4228585655\").textContent = \"BokehJS successfully loaded.\";\n",
       "      } else if (Date.now() < window._bokeh_timeout) {\n",
       "        setTimeout(display_loaded, 100)\n",
       "      }\n",
       "    }\n",
       "  \n",
       "    function run_callbacks() {\n",
       "      window._bokeh_onload_callbacks.forEach(function(callback) { callback() });\n",
       "      delete window._bokeh_onload_callbacks\n",
       "      console.info(\"Bokeh: all callbacks have finished\");\n",
       "    }\n",
       "  \n",
       "    function load_libs(js_urls, callback) {\n",
       "      window._bokeh_onload_callbacks.push(callback);\n",
       "      if (window._bokeh_is_loading > 0) {\n",
       "        console.log(\"Bokeh: BokehJS is being loaded, scheduling callback at\", now());\n",
       "        return null;\n",
       "      }\n",
       "      if (js_urls == null || js_urls.length === 0) {\n",
       "        run_callbacks();\n",
       "        return null;\n",
       "      }\n",
       "      console.log(\"Bokeh: BokehJS not loaded, scheduling load and callback at\", now());\n",
       "      window._bokeh_is_loading = js_urls.length;\n",
       "      for (var i = 0; i < js_urls.length; i++) {\n",
       "        var url = js_urls[i];\n",
       "        var s = document.createElement('script');\n",
       "        s.src = url;\n",
       "        s.async = false;\n",
       "        s.onreadystatechange = s.onload = function() {\n",
       "          window._bokeh_is_loading--;\n",
       "          if (window._bokeh_is_loading === 0) {\n",
       "            console.log(\"Bokeh: all BokehJS libraries loaded\");\n",
       "            run_callbacks()\n",
       "          }\n",
       "        };\n",
       "        s.onerror = function() {\n",
       "          console.warn(\"failed to load library \" + url);\n",
       "        };\n",
       "        console.log(\"Bokeh: injecting script tag for BokehJS library: \", url);\n",
       "        document.getElementsByTagName(\"head\")[0].appendChild(s);\n",
       "      }\n",
       "    };var element = document.getElementById(\"32a0eda8-72b3-4910-9d74-4a4228585655\");\n",
       "    if (element == null) {\n",
       "      console.log(\"Bokeh: ERROR: autoload.js configured with elementid '32a0eda8-72b3-4910-9d74-4a4228585655' but no matching script tag was found. \")\n",
       "      return false;\n",
       "    }\n",
       "  \n",
       "    var js_urls = [];\n",
       "  \n",
       "    var inline_js = [\n",
       "      function(Bokeh) {\n",
       "        (function() {\n",
       "          var fn = function() {\n",
       "            var docs_json = {\"7c5d8c29-1ca9-40f5-b64c-f97b405071d0\":{\"roots\":{\"references\":[{\"attributes\":{},\"id\":\"78eeeb08-530c-45d0-849b-da12b2020e89\",\"type\":\"ToolEvents\"},{\"attributes\":{\"active_drag\":\"auto\",\"active_scroll\":\"auto\",\"active_tap\":\"auto\",\"tools\":[{\"id\":\"de47df64-2edb-4bca-bc5f-2608326415a7\",\"type\":\"PanTool\"},{\"id\":\"cb9c7552-cc12-407b-9062-351aff5ba72d\",\"type\":\"WheelZoomTool\"},{\"id\":\"20b326f2-83e6-4b7c-a70f-6dd3a5fa4da5\",\"type\":\"ResetTool\"},{\"id\":\"f739be6e-942f-41ac-a905-0bf3a95e5122\",\"type\":\"SaveTool\"}]},\"id\":\"63786735-b3f1-4a95-9340-2111dd759cf6\",\"type\":\"Toolbar\"},{\"attributes\":{\"formatter\":{\"id\":\"706024b5-2384-4793-9435-9ce7ad2216a4\",\"type\":\"BasicTickFormatter\"},\"plot\":{\"id\":\"45a0972e-fcc2-4658-84c7-aa3dd3ea5ef2\",\"subtype\":\"Figure\",\"type\":\"Plot\"},\"ticker\":{\"id\":\"bc162d75-4ab9-4169-88f2-edbd2c95b0c4\",\"type\":\"BasicTicker\"}},\"id\":\"435ed6c9-bc9e-4720-b262-4be26d62b56f\",\"type\":\"LinearAxis\"},{\"attributes\":{},\"id\":\"4f28d3e3-8977-44d8-8b44-ec7efaa8eee0\",\"type\":\"BasicTickFormatter\"},{\"attributes\":{\"callback\":null},\"id\":\"1ffbeb39-f5e5-4056-93ad-e7bfdfdcca44\",\"type\":\"DataRange1d\"},{\"attributes\":{},\"id\":\"bc162d75-4ab9-4169-88f2-edbd2c95b0c4\",\"type\":\"BasicTicker\"},{\"attributes\":{\"fill_color\":{\"value\":\"#1f77b4\"},\"line_color\":{\"value\":\"#1f77b4\"},\"size\":{\"units\":\"screen\",\"value\":8},\"x\":{\"field\":\"x1\"},\"y\":{\"field\":\"x2\"}},\"id\":\"df6f0673-ae7e-46d3-a816-186b401a861d\",\"type\":\"Circle\"},{\"attributes\":{\"plot\":{\"id\":\"45a0972e-fcc2-4658-84c7-aa3dd3ea5ef2\",\"subtype\":\"Figure\",\"type\":\"Plot\"},\"ticker\":{\"id\":\"bc162d75-4ab9-4169-88f2-edbd2c95b0c4\",\"type\":\"BasicTicker\"}},\"id\":\"051e6de3-8eb5-4f0b-a5f2-c6142abe96c3\",\"type\":\"Grid\"},{\"attributes\":{\"formatter\":{\"id\":\"4f28d3e3-8977-44d8-8b44-ec7efaa8eee0\",\"type\":\"BasicTickFormatter\"},\"plot\":{\"id\":\"45a0972e-fcc2-4658-84c7-aa3dd3ea5ef2\",\"subtype\":\"Figure\",\"type\":\"Plot\"},\"ticker\":{\"id\":\"588ff6ae-7148-4d72-b7b4-1d637b610bef\",\"type\":\"BasicTicker\"}},\"id\":\"520e0a97-5e62-4295-8691-413d56e4422e\",\"type\":\"LinearAxis\"},{\"attributes\":{},\"id\":\"588ff6ae-7148-4d72-b7b4-1d637b610bef\",\"type\":\"BasicTicker\"},{\"attributes\":{\"plot\":{\"id\":\"45a0972e-fcc2-4658-84c7-aa3dd3ea5ef2\",\"subtype\":\"Figure\",\"type\":\"Plot\"},\"source\":{\"id\":\"fd2a8adf-2334-4b12-bfa5-1126b82b5138\",\"type\":\"ColumnDataSource\"},\"text\":{\"field\":\"names\"},\"text_align\":\"center\",\"text_color\":{\"value\":\"#555555\"},\"text_font_size\":{\"value\":\"8pt\"},\"x\":{\"field\":\"x1\"},\"y\":{\"field\":\"x2\"},\"y_offset\":{\"value\":6}},\"id\":\"d69ab84b-8220-4421-9ae3-2283e8ce4f4f\",\"type\":\"LabelSet\"},{\"attributes\":{\"dimension\":1,\"plot\":{\"id\":\"45a0972e-fcc2-4658-84c7-aa3dd3ea5ef2\",\"subtype\":\"Figure\",\"type\":\"Plot\"},\"ticker\":{\"id\":\"588ff6ae-7148-4d72-b7b4-1d637b610bef\",\"type\":\"BasicTicker\"}},\"id\":\"bc644ff0-337d-49f3-8b5d-7aeb744a24a0\",\"type\":\"Grid\"},{\"attributes\":{},\"id\":\"706024b5-2384-4793-9435-9ce7ad2216a4\",\"type\":\"BasicTickFormatter\"},{\"attributes\":{\"data_source\":{\"id\":\"fd2a8adf-2334-4b12-bfa5-1126b82b5138\",\"type\":\"ColumnDataSource\"},\"glyph\":{\"id\":\"df6f0673-ae7e-46d3-a816-186b401a861d\",\"type\":\"Circle\"},\"hover_glyph\":null,\"nonselection_glyph\":{\"id\":\"97a9d519-e1f7-4475-9b56-8ef556826b8b\",\"type\":\"Circle\"},\"selection_glyph\":null},\"id\":\"efbf47c6-b5b6-43ed-889b-91232667f5e2\",\"type\":\"GlyphRenderer\"},{\"attributes\":{\"plot\":{\"id\":\"45a0972e-fcc2-4658-84c7-aa3dd3ea5ef2\",\"subtype\":\"Figure\",\"type\":\"Plot\"}},\"id\":\"de47df64-2edb-4bca-bc5f-2608326415a7\",\"type\":\"PanTool\"},{\"attributes\":{\"plot\":{\"id\":\"45a0972e-fcc2-4658-84c7-aa3dd3ea5ef2\",\"subtype\":\"Figure\",\"type\":\"Plot\"}},\"id\":\"cb9c7552-cc12-407b-9062-351aff5ba72d\",\"type\":\"WheelZoomTool\"},{\"attributes\":{\"plot\":{\"id\":\"45a0972e-fcc2-4658-84c7-aa3dd3ea5ef2\",\"subtype\":\"Figure\",\"type\":\"Plot\"}},\"id\":\"20b326f2-83e6-4b7c-a70f-6dd3a5fa4da5\",\"type\":\"ResetTool\"},{\"attributes\":{\"plot\":{\"id\":\"45a0972e-fcc2-4658-84c7-aa3dd3ea5ef2\",\"subtype\":\"Figure\",\"type\":\"Plot\"}},\"id\":\"f739be6e-942f-41ac-a905-0bf3a95e5122\",\"type\":\"SaveTool\"},{\"attributes\":{\"fill_alpha\":{\"value\":0.1},\"fill_color\":{\"value\":\"#1f77b4\"},\"line_alpha\":{\"value\":0.1},\"line_color\":{\"value\":\"#1f77b4\"},\"size\":{\"units\":\"screen\",\"value\":8},\"x\":{\"field\":\"x1\"},\"y\":{\"field\":\"x2\"}},\"id\":\"97a9d519-e1f7-4475-9b56-8ef556826b8b\",\"type\":\"Circle\"},{\"attributes\":{\"below\":[{\"id\":\"435ed6c9-bc9e-4720-b262-4be26d62b56f\",\"type\":\"LinearAxis\"}],\"left\":[{\"id\":\"520e0a97-5e62-4295-8691-413d56e4422e\",\"type\":\"LinearAxis\"}],\"renderers\":[{\"id\":\"435ed6c9-bc9e-4720-b262-4be26d62b56f\",\"type\":\"LinearAxis\"},{\"id\":\"051e6de3-8eb5-4f0b-a5f2-c6142abe96c3\",\"type\":\"Grid\"},{\"id\":\"520e0a97-5e62-4295-8691-413d56e4422e\",\"type\":\"LinearAxis\"},{\"id\":\"bc644ff0-337d-49f3-8b5d-7aeb744a24a0\",\"type\":\"Grid\"},{\"id\":\"efbf47c6-b5b6-43ed-889b-91232667f5e2\",\"type\":\"GlyphRenderer\"},{\"id\":\"d69ab84b-8220-4421-9ae3-2283e8ce4f4f\",\"type\":\"LabelSet\"}],\"title\":{\"id\":\"5d9260df-2d77-40be-b212-3bf9cad2881f\",\"type\":\"Title\"},\"tool_events\":{\"id\":\"78eeeb08-530c-45d0-849b-da12b2020e89\",\"type\":\"ToolEvents\"},\"toolbar\":{\"id\":\"63786735-b3f1-4a95-9340-2111dd759cf6\",\"type\":\"Toolbar\"},\"toolbar_location\":\"above\",\"x_range\":{\"id\":\"fbda5254-0eda-4709-a45b-d366aec22b58\",\"type\":\"DataRange1d\"},\"y_range\":{\"id\":\"1ffbeb39-f5e5-4056-93ad-e7bfdfdcca44\",\"type\":\"DataRange1d\"}},\"id\":\"45a0972e-fcc2-4658-84c7-aa3dd3ea5ef2\",\"subtype\":\"Figure\",\"type\":\"Plot\"},{\"attributes\":{\"callback\":null,\"column_names\":[\"x1\",\"x2\",\"names\"],\"data\":{\"names\":[\"the\",\"and\",\"to\",\"of\",\"a\",\"that\",\"i\",\"in\",\"it\",\"you\",\"we\",\"is\",\"s\",\"this\",\"so\",\"they\",\"was\",\"for\",\"are\",\"have\",\"but\",\"what\",\"on\",\"with\",\"can\",\"t\",\"about\",\"there\",\"be\",\"as\",\"at\",\"all\",\"not\",\"do\",\"my\",\"one\",\"re\",\"people\",\"like\",\"if\",\"from\",\"now\",\"our\",\"he\",\"an\",\"just\",\"these\",\"or\",\"when\",\"because\",\"very\",\"me\",\"out\",\"by\",\"them\",\"how\",\"know\",\"up\",\"going\",\"had\",\"more\",\"think\",\"who\",\"were\",\"see\",\"your\",\"their\",\"which\",\"would\",\"here\",\"really\",\"get\",\"ve\",\"then\",\"m\",\"world\",\"us\",\"time\",\"some\",\"has\",\"don\",\"actually\",\"into\",\"way\",\"where\",\"will\",\"years\",\"things\",\"other\",\"no\",\"could\",\"go\",\"well\",\"want\",\"been\",\"make\",\"right\",\"she\",\"said\",\"something\",\"those\",\"first\",\"two\",\"than\",\"much\",\"also\",\"look\",\"new\",\"thing\",\"little\",\"got\",\"back\",\"over\",\"most\",\"say\",\"even\",\"his\",\"life\",\"only\",\"work\",\"many\",\"take\",\"need\",\"did\",\"lot\",\"kind\",\"why\",\"good\",\"around\",\"every\",\"different\",\"down\",\"ll\",\"let\",\"her\",\"through\",\"same\",\"being\",\"come\",\"d\",\"day\",\"year\",\"three\",\"use\",\"doing\",\"put\",\"called\",\"any\",\"today\",\"percent\",\"made\",\"after\",\"thank\",\"tell\",\"great\",\"human\",\"find\",\"didn\",\"fact\",\"talk\",\"change\",\"started\",\"another\",\"idea\",\"big\",\"last\",\"own\",\"before\",\"its\",\"never\",\"should\",\"better\",\"give\",\"thought\",\"went\",\"might\",\"important\",\"000\",\"again\",\"able\",\"together\",\"still\",\"problem\",\"off\",\"next\",\"part\",\"course\",\"system\",\"him\",\"does\",\"each\",\"start\",\"show\",\"long\",\"ago\",\"story\",\"came\",\"brain\",\"few\",\"bit\",\"between\",\"used\",\"place\",\"technology\",\"women\",\"too\",\"old\",\"mean\",\"data\",\"water\",\"looking\",\"question\",\"maybe\",\"found\",\"love\",\"doesn\",\"end\",\"example\",\"10\",\"done\",\"point\",\"four\",\"real\",\"wanted\",\"ever\",\"school\",\"understand\",\"sort\",\"live\",\"call\",\"whole\",\"children\",\"always\",\"trying\",\"may\",\"person\",\"away\",\"believe\",\"feel\",\"try\",\"million\",\"working\",\"help\",\"everything\",\"five\",\"country\",\"thinking\",\"second\",\"using\",\"information\",\"money\",\"means\",\"power\",\"took\",\"times\",\"high\",\"space\",\"number\",\"kids\",\"home\",\"become\",\"create\",\"small\",\"design\",\"making\",\"best\",\"left\",\"getting\",\"future\",\"enough\",\"man\",\"quite\",\"city\",\"without\",\"sense\",\"happened\",\"comes\",\"social\",\"probably\",\"less\",\"light\",\"talking\",\"energy\",\"am\",\"building\",\"science\",\"food\",\"body\",\"told\",\"interesting\",\"ask\",\"half\",\"pretty\",\"hard\",\"play\",\"anything\",\"lives\",\"countries\",\"coming\",\"such\",\"family\",\"stuff\",\"dollars\",\"earth\",\"moment\",\"20\",\"imagine\",\"across\",\"side\",\"while\",\"saw\",\"happen\",\"once\",\"okay\",\"build\",\"having\",\"men\",\"later\",\"experience\",\"makes\",\"asked\",\"living\",\"seen\",\"says\",\"room\",\"hand\",\"simple\",\"health\",\"ways\",\"else\",\"case\",\"yet\",\"almost\",\"young\",\"days\",\"nothing\",\"care\",\"bad\",\"happens\",\"goes\",\"move\",\"states\",\"reason\",\"computer\",\"open\",\"learn\",\"africa\",\"process\",\"inside\",\"someone\",\"six\",\"far\",\"mind\",\"project\",\"remember\",\"single\",\"picture\",\"both\",\"whether\",\"problems\",\"saying\",\"community\",\"basically\",\"already\",\"within\",\"looked\",\"myself\",\"billion\",\"often\",\"possible\",\"business\",\"planet\",\"global\",\"everybody\",\"top\",\"sure\",\"public\",\"set\",\"wrong\",\"car\",\"book\",\"keep\",\"yes\",\"answer\",\"oh\",\"hope\",\"sometimes\",\"true\",\"history\",\"war\",\"guy\",\"child\",\"instead\",\"months\",\"ideas\",\"looks\",\"matter\",\"government\",\"amazing\",\"united\",\"since\",\"bring\",\"age\",\"cells\",\"job\",\"heard\",\"until\",\"face\",\"wasn\",\"100\",\"read\",\"control\",\"isn\",\"research\",\"30\",\"words\",\"u\",\"group\",\"under\",\"self\",\"somebody\",\"built\",\"state\",\"woman\",\"turn\",\"friends\",\"beautiful\",\"line\",\"knew\",\"couple\",\"order\",\"form\",\"yeah\",\"internet\",\"middle\",\"music\",\"piece\",\"nature\",\"head\",\"though\",\"stop\",\"everyone\",\"50\",\"places\",\"video\",\"learned\",\"language\",\"run\",\"night\",\"decided\",\"study\",\"word\",\"cancer\",\"taking\",\"works\",\"became\",\"exactly\",\"species\",\"society\",\"completely\",\"education\",\"against\",\"stories\",\"large\",\"share\",\"level\",\"heart\",\"america\",\"model\",\"questions\",\"gets\",\"mother\",\"god\",\"company\",\"turns\",\"ourselves\",\"happening\",\"hear\",\"art\",\"themselves\",\"must\",\"itself\",\"rather\",\"kinds\",\"students\",\"name\",\"hours\",\"disease\",\"front\",\"house\",\"huge\",\"couldn\",\"created\",\"universe\",\"ok\",\"animals\",\"american\",\"environment\",\"worked\",\"minutes\",\"ones\",\"black\",\"perhaps\",\"1\",\"past\",\"third\",\"along\",\"others\",\"finally\",\"sound\",\"early\",\"game\",\"thousands\",\"century\",\"based\",\"least\",\"per\",\"ted\",\"lots\",\"figure\",\"free\",\"guys\",\"particular\",\"happy\",\"news\",\"learning\",\"entire\",\"won\",\"gave\",\"machine\",\"india\",\"during\",\"systems\",\"air\",\"difference\",\"outside\",\"natural\",\"taken\",\"seven\",\"given\",\"changed\",\"leave\",\"cell\",\"15\",\"close\",\"behind\",\"cities\",\"full\",\"scale\",\"difficult\",\"china\",\"takes\",\"companies\",\"yourself\",\"area\",\"reality\",\"seeing\",\"easy\",\"turned\",\"cost\",\"eyes\",\"team\",\"moving\",\"population\",\"culture\",\"york\",\"hands\",\"whatever\",\"began\",\"needs\",\"terms\",\"image\",\"simply\",\"needed\",\"beginning\",\"father\",\"local\",\"realized\",\"media\",\"death\",\"parents\",\"view\",\"walk\",\"white\",\"market\",\"parts\",\"ocean\",\"economic\",\"eight\",\"powerful\",\"known\",\"week\",\"size\",\"felt\",\"humans\",\"certain\",\"spend\",\"longer\",\"phone\",\"wonderful\",\"cannot\",\"grow\",\"common\",\"center\",\"tried\",\"fish\",\"land\",\"oil\",\"political\",\"interested\",\"deal\",\"red\",\"gone\",\"amount\",\"weeks\",\"spent\",\"opportunity\",\"paper\",\"lost\",\"national\",\"quickly\",\"blue\",\"step\",\"poor\",\"green\",\"buy\",\"growth\",\"wouldn\",\"either\",\"patients\",\"sitting\",\"ability\",\"changes\",\"write\",\"challenge\",\"south\",\"low\",\"growing\",\"friend\",\"field\",\"shows\",\"2\",\"born\",\"rest\",\"climate\",\"40\",\"test\",\"street\",\"surface\",\"incredible\",\"average\",\"physical\",\"morning\",\"scientists\",\"program\",\"pay\",\"value\",\"feeling\",\"hundreds\",\"girl\",\"met\",\"behavior\",\"economy\",\"dna\",\"complex\",\"access\",\"risk\",\"animal\",\"structure\",\"feet\",\"attention\",\"areas\",\"anyone\",\"deep\",\"watch\",\"short\",\"absolutely\",\"speak\",\"brought\",\"die\",\"bottom\",\"numbers\",\"audience\",\"stage\",\"realize\",\"law\",\"images\",\"wrote\",\"understanding\",\"knowledge\",\"literally\",\"books\",\"movement\",\"ground\",\"giving\",\"eat\",\"force\",\"seems\",\"alone\",\"telling\",\"starting\",\"hold\",\"nice\",\"forward\",\"sea\",\"developed\",\"individual\",\"kid\",\"millions\",\"support\",\"miles\",\"tools\",\"running\",\"online\",\"result\",\"act\",\"medical\",\"technologies\",\"north\",\"lab\",\"development\",\"blood\",\"fear\",\"nobody\",\"map\",\"personal\",\"issue\",\"voice\",\"material\",\"key\",\"12\",\"recently\",\"theory\",\"cut\",\"cars\",\"sun\",\"fast\",\"changing\",\"playing\",\"clear\",\"especially\",\"soon\",\"girls\",\"patient\",\"choice\",\"fly\",\"creating\",\"normal\",\"discovered\",\"europe\",\"talked\",\"relationship\",\"gives\",\"generation\",\"dark\",\"type\",\"showed\",\"chance\",\"seem\",\"industry\",\"asking\",\"rate\",\"fun\",\"issues\",\"color\",\"designed\",\"hour\",\"university\",\"innovation\",\"several\",\"class\",\"computers\",\"english\",\"tiny\",\"allow\",\"save\",\"focus\",\"digital\",\"solve\",\"developing\",\"network\",\"film\",\"special\",\"wall\",\"situation\",\"baby\",\"solution\",\"reasons\",\"box\",\"knows\",\"meet\",\"dead\",\"stand\",\"begin\",\"haven\",\"impact\",\"anybody\",\"term\",\"beyond\",\"pictures\",\"please\",\"ice\",\"produce\",\"shape\",\"non\",\"resources\",\"robot\",\"cool\",\"groups\",\"likely\",\"stay\",\"available\",\"truth\",\"rights\",\"major\",\"cause\",\"evidence\",\"obviously\",\"writing\",\"experiment\",\"modern\",\"drug\",\"becomes\",\"incredibly\",\"aren\",\"bigger\",\"guess\",\"nine\",\"product\",\"drugs\",\"lived\",\"involved\",\"perfect\",\"google\",\"month\",\"effect\",\"similar\",\"putting\",\"eye\",\"pick\",\"message\",\"quality\",\"violence\",\"web\",\"evolution\",\"security\",\"office\",\"basic\",\"solar\",\"indeed\",\"general\",\"towards\",\"present\",\"drive\",\"send\",\"listen\",\"worth\",\"revolution\",\"explain\",\"hundred\",\"certainly\",\"died\",\"ready\",\"teach\",\"journey\",\"25\",\"hit\",\"walking\",\"led\",\"approach\",\"international\",\"200\",\"scientific\",\"games\",\"60\",\"potential\",\"crazy\",\"communities\",\"chinese\",\"device\",\"source\",\"camera\",\"rules\",\"sex\",\"carbon\",\"sounds\",\"boy\",\"reach\",\"starts\",\"examples\",\"west\",\"3\",\"success\",\"measure\",\"particularly\",\"software\",\"totally\",\"suddenly\",\"action\",\"college\",\"higher\",\"code\",\"eventually\",\"democracy\",\"among\",\"minute\",\"sit\",\"largest\",\"showing\",\"hospital\",\"notice\",\"period\",\"mass\",\"develop\",\"dream\",\"onto\",\"plants\",\"break\",\"add\",\"memory\",\"everywhere\",\"favorite\",\"11\",\"zero\",\"speed\",\"schools\",\"moved\",\"response\",\"wants\",\"extremely\",\"movie\",\"individuals\",\"table\",\"wait\",\"medicine\",\"follow\",\"anyway\",\"trust\",\"plant\",\"biggest\",\"watching\",\"organization\",\"creative\",\"road\",\"choose\",\"worse\",\"lead\",\"results\",\"500\",\"exciting\",\"grew\",\"materials\",\"jobs\",\"plan\",\"east\",\"poverty\",\"positive\",\"safe\",\"strong\",\"fall\",\"essentially\",\"object\",\"door\",\"son\",\"vision\",\"further\",\"happiness\",\"continue\",\"student\",\"doctor\",\"including\",\"named\",\"role\",\"objects\",\"extraordinary\",\"standing\",\"skin\",\"leaders\",\"usually\",\"african\",\"conversation\",\"projects\",\"allowed\",\"models\",\"supposed\",\"faster\",\"interest\",\"families\",\"police\",\"fight\",\"tree\",\"connected\",\"screen\",\"5\",\"cases\",\"goal\",\"somewhere\",\"finding\",\"buildings\",\"shown\"],\"x1\":{\"__ndarray__\":\"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\",\"dtype\":\"float64\",\"shape\":[1000]},\"x2\":{\"__ndarray__\":\"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\",\"dtype\":\"float64\",\"shape\":[1000]}}},\"id\":\"fd2a8adf-2334-4b12-bfa5-1126b82b5138\",\"type\":\"ColumnDataSource\"},{\"attributes\":{\"plot\":null,\"text\":\"word2vec T-SNE for most common words\"},\"id\":\"5d9260df-2d77-40be-b212-3bf9cad2881f\",\"type\":\"Title\"},{\"attributes\":{\"callback\":null},\"id\":\"fbda5254-0eda-4709-a45b-d366aec22b58\",\"type\":\"DataRange1d\"}],\"root_ids\":[\"45a0972e-fcc2-4658-84c7-aa3dd3ea5ef2\"]},\"title\":\"Bokeh Application\",\"version\":\"0.12.4\"}};\n",
       "            var render_items = [{\"docid\":\"7c5d8c29-1ca9-40f5-b64c-f97b405071d0\",\"elementid\":\"32a0eda8-72b3-4910-9d74-4a4228585655\",\"modelid\":\"45a0972e-fcc2-4658-84c7-aa3dd3ea5ef2\"}];\n",
       "            \n",
       "            Bokeh.embed.embed_items(docs_json, render_items);\n",
       "          };\n",
       "          if (document.readyState != \"loading\") fn();\n",
       "          else document.addEventListener(\"DOMContentLoaded\", fn);\n",
       "        })();\n",
       "      },\n",
       "      function(Bokeh) {\n",
       "      }\n",
       "    ];\n",
       "  \n",
       "    function run_inline_js() {\n",
       "      \n",
       "      if ((window.Bokeh !== undefined) || (force === true)) {\n",
       "        for (var i = 0; i < inline_js.length; i++) {\n",
       "          inline_js[i](window.Bokeh);\n",
       "        }if (force === true) {\n",
       "          display_loaded();\n",
       "        }} else if (Date.now() < window._bokeh_timeout) {\n",
       "        setTimeout(run_inline_js, 100);\n",
       "      } else if (!window._bokeh_failed_load) {\n",
       "        console.log(\"Bokeh: BokehJS failed to load within specified timeout.\");\n",
       "        window._bokeh_failed_load = true;\n",
       "      } else if (force !== true) {\n",
       "        var cell = $(document.getElementById(\"32a0eda8-72b3-4910-9d74-4a4228585655\")).parents('.cell').data().cell;\n",
       "        cell.output_area.append_execute_result(NB_LOAD_WARNING)\n",
       "      }\n",
       "  \n",
       "    }\n",
       "  \n",
       "    if (window._bokeh_is_loading === 0) {\n",
       "      console.log(\"Bokeh: BokehJS loaded, going straight to plotting\");\n",
       "      run_inline_js();\n",
       "    } else {\n",
       "      load_libs(js_urls, function() {\n",
       "        console.log(\"Bokeh: BokehJS plotting callback run at\", now());\n",
       "        run_inline_js();\n",
       "      });\n",
       "    }\n",
       "  }(this));\n",
       "</script>"
      ]
     },
     "metadata": {},
     "output_type": "display_data"
    }
   ],
   "source": [
    "p = figure(tools=\"pan,wheel_zoom,reset,save\",\n",
    "           toolbar_location=\"above\",\n",
    "           title=\"word2vec T-SNE for most common words\")\n",
    "\n",
    "source = ColumnDataSource(data=dict(x1=words_top_ted_tsne[:,0],\n",
    "                                    x2=words_top_ted_tsne[:,1],\n",
    "                                    names=words_top_ted))\n",
    "\n",
    "p.scatter(x=\"x1\", y=\"x2\", size=8, source=source)\n",
    "\n",
    "labels = LabelSet(x=\"x1\", y=\"x2\", text=\"names\", y_offset=6,\n",
    "                  text_font_size=\"8pt\", text_color=\"#555555\",\n",
    "                  source=source, text_align='center')\n",
    "p.add_layout(labels)\n",
    "\n",
    "show(p)"
   ]
  },
  {
   "cell_type": "markdown",
   "metadata": {},
   "source": [
    "### Part 5: Wiki Learnt Representations"
   ]
  },
  {
   "cell_type": "markdown",
   "metadata": {},
   "source": [
    "Download dataset"
   ]
  },
  {
   "cell_type": "code",
   "execution_count": 23,
   "metadata": {
    "collapsed": false
   },
   "outputs": [],
   "source": [
    "if not os.path.isfile('wikitext.zip'):\n",
    "    urllib.request.urlretrieve(\"https://s3.amazonaws.com/research.metamind.io/wikitext/wikitext-103-raw-v1.zip\", filename=\"wikitext-103-raw-v1.zip\")"
   ]
  },
  {
   "cell_type": "code",
   "execution_count": 24,
   "metadata": {
    "collapsed": false
   },
   "outputs": [],
   "source": [
    "with zipfile.ZipFile('wikitext-103-raw-v1.zip', 'r') as z:\n",
    "    input_text = str(z.open('wikitext-103-raw/wiki.train.raw', 'r').read(), encoding='utf-8') # Thanks Robert Bastian"
   ]
  },
  {
   "cell_type": "markdown",
   "metadata": {},
   "source": [
    "Preprocess sentences (note that it's important to remove small sentences for performance)"
   ]
  },
  {
   "cell_type": "code",
   "execution_count": 25,
   "metadata": {
    "collapsed": false
   },
   "outputs": [],
   "source": [
    "sentences_wiki = []\n",
    "for line in input_text.split('\\n'):\n",
    "    s = [x for x in line.split('.') if x and len(x.split()) >= 5]\n",
    "    sentences_wiki.extend(s)\n",
    "    \n",
    "for s_i in range(len(sentences_wiki)):\n",
    "    sentences_wiki[s_i] = re.sub(\"[^a-z]\", \" \", sentences_wiki[s_i].lower())\n",
    "    sentences_wiki[s_i] = re.sub(r'\\([^)]*\\)', '', sentences_wiki[s_i])\n",
    "del input_text"
   ]
  },
  {
   "cell_type": "code",
   "execution_count": 26,
   "metadata": {
    "collapsed": false
   },
   "outputs": [
    {
     "name": "stdout",
     "output_type": "stream",
     "text": [
      "4267112\n",
      "609587\n"
     ]
    }
   ],
   "source": [
    "# sample 1/5 of the data\n",
    "shuffle(sentences_wiki)\n",
    "print(len(sentences_wiki))\n",
    "sentences_wiki = sentences_wiki[:int(len(sentences_wiki)/7)]\n",
    "print(len(sentences_wiki))\n",
    "sentences_wiki = [sentence.split() for sentence in sentences_wiki]"
   ]
  },
  {
   "cell_type": "markdown",
   "metadata": {},
   "source": [
    "Now, repeat all the same steps that you performed above. You should be able to reuse essentially all the code."
   ]
  },
  {
   "cell_type": "code",
   "execution_count": 27,
   "metadata": {
    "collapsed": false
   },
   "outputs": [
    {
     "name": "stdout",
     "output_type": "stream",
     "text": [
      "[918926, 392181, 357000, 310183, 285307, 256295, 153789, 117464, 109524, 103542]\n"
     ]
    }
   ],
   "source": [
    "counts_wiki={}\n",
    "for sentence in sentences_wiki:\n",
    "    for word in sentence:\n",
    "        if word not in counts_wiki:\n",
    "            counts_wiki[word]=1\n",
    "        if word in counts_wiki:\n",
    "            counts_wiki[word]+=1\n",
    "words_wiki_top1000=sorted(counts_wiki, key=lambda x:int(counts_wiki[x]), reverse=True)[:1000]\n",
    "counts_wiki_top1000=[]\n",
    "for word in words_wiki_top1000:\n",
    "    counts_wiki_top1000.append(counts_wiki[word])\n",
    "print(counts_wiki_top1000[:10])\n"
   ]
  },
  {
   "cell_type": "code",
   "execution_count": null,
   "metadata": {
    "collapsed": false
   },
   "outputs": [],
   "source": []
  },
  {
   "cell_type": "code",
   "execution_count": 28,
   "metadata": {
    "collapsed": false
   },
   "outputs": [
    {
     "data": {
      "text/html": [
       "\n",
       "\n",
       "    <div class=\"bk-root\">\n",
       "        <div class=\"bk-plotdiv\" id=\"88f30b4a-a629-4127-8cb5-74a65e06d413\"></div>\n",
       "    </div>\n",
       "<script type=\"text/javascript\">\n",
       "  \n",
       "  (function(global) {\n",
       "    function now() {\n",
       "      return new Date();\n",
       "    }\n",
       "  \n",
       "    var force = false;\n",
       "  \n",
       "    if (typeof (window._bokeh_onload_callbacks) === \"undefined\" || force === true) {\n",
       "      window._bokeh_onload_callbacks = [];\n",
       "      window._bokeh_is_loading = undefined;\n",
       "    }\n",
       "  \n",
       "  \n",
       "    \n",
       "    if (typeof (window._bokeh_timeout) === \"undefined\" || force === true) {\n",
       "      window._bokeh_timeout = Date.now() + 0;\n",
       "      window._bokeh_failed_load = false;\n",
       "    }\n",
       "  \n",
       "    var NB_LOAD_WARNING = {'data': {'text/html':\n",
       "       \"<div style='background-color: #fdd'>\\n\"+\n",
       "       \"<p>\\n\"+\n",
       "       \"BokehJS does not appear to have successfully loaded. If loading BokehJS from CDN, this \\n\"+\n",
       "       \"may be due to a slow or bad network connection. Possible fixes:\\n\"+\n",
       "       \"</p>\\n\"+\n",
       "       \"<ul>\\n\"+\n",
       "       \"<li>re-rerun `output_notebook()` to attempt to load from CDN again, or</li>\\n\"+\n",
       "       \"<li>use INLINE resources instead, as so:</li>\\n\"+\n",
       "       \"</ul>\\n\"+\n",
       "       \"<code>\\n\"+\n",
       "       \"from bokeh.resources import INLINE\\n\"+\n",
       "       \"output_notebook(resources=INLINE)\\n\"+\n",
       "       \"</code>\\n\"+\n",
       "       \"</div>\"}};\n",
       "  \n",
       "    function display_loaded() {\n",
       "      if (window.Bokeh !== undefined) {\n",
       "        document.getElementById(\"88f30b4a-a629-4127-8cb5-74a65e06d413\").textContent = \"BokehJS successfully loaded.\";\n",
       "      } else if (Date.now() < window._bokeh_timeout) {\n",
       "        setTimeout(display_loaded, 100)\n",
       "      }\n",
       "    }\n",
       "  \n",
       "    function run_callbacks() {\n",
       "      window._bokeh_onload_callbacks.forEach(function(callback) { callback() });\n",
       "      delete window._bokeh_onload_callbacks\n",
       "      console.info(\"Bokeh: all callbacks have finished\");\n",
       "    }\n",
       "  \n",
       "    function load_libs(js_urls, callback) {\n",
       "      window._bokeh_onload_callbacks.push(callback);\n",
       "      if (window._bokeh_is_loading > 0) {\n",
       "        console.log(\"Bokeh: BokehJS is being loaded, scheduling callback at\", now());\n",
       "        return null;\n",
       "      }\n",
       "      if (js_urls == null || js_urls.length === 0) {\n",
       "        run_callbacks();\n",
       "        return null;\n",
       "      }\n",
       "      console.log(\"Bokeh: BokehJS not loaded, scheduling load and callback at\", now());\n",
       "      window._bokeh_is_loading = js_urls.length;\n",
       "      for (var i = 0; i < js_urls.length; i++) {\n",
       "        var url = js_urls[i];\n",
       "        var s = document.createElement('script');\n",
       "        s.src = url;\n",
       "        s.async = false;\n",
       "        s.onreadystatechange = s.onload = function() {\n",
       "          window._bokeh_is_loading--;\n",
       "          if (window._bokeh_is_loading === 0) {\n",
       "            console.log(\"Bokeh: all BokehJS libraries loaded\");\n",
       "            run_callbacks()\n",
       "          }\n",
       "        };\n",
       "        s.onerror = function() {\n",
       "          console.warn(\"failed to load library \" + url);\n",
       "        };\n",
       "        console.log(\"Bokeh: injecting script tag for BokehJS library: \", url);\n",
       "        document.getElementsByTagName(\"head\")[0].appendChild(s);\n",
       "      }\n",
       "    };var element = document.getElementById(\"88f30b4a-a629-4127-8cb5-74a65e06d413\");\n",
       "    if (element == null) {\n",
       "      console.log(\"Bokeh: ERROR: autoload.js configured with elementid '88f30b4a-a629-4127-8cb5-74a65e06d413' but no matching script tag was found. \")\n",
       "      return false;\n",
       "    }\n",
       "  \n",
       "    var js_urls = [];\n",
       "  \n",
       "    var inline_js = [\n",
       "      function(Bokeh) {\n",
       "        (function() {\n",
       "          var fn = function() {\n",
       "            var docs_json = {\"c7128177-f07b-435b-82d5-dd8c39057408\":{\"roots\":{\"references\":[{\"attributes\":{},\"id\":\"1cfe7d3d-0f58-4c81-ad85-9625da21b979\",\"type\":\"BasicTickFormatter\"},{\"attributes\":{\"data_source\":{\"id\":\"1341cdbf-4e4d-4da4-8a5d-9799c1b2f9de\",\"type\":\"ColumnDataSource\"},\"glyph\":{\"id\":\"b84f9717-90cc-4e91-b0cc-f92b9192a64d\",\"type\":\"Quad\"},\"hover_glyph\":null,\"nonselection_glyph\":{\"id\":\"02eda4ab-8d85-45f4-bc47-85d4b989b31a\",\"type\":\"Quad\"},\"selection_glyph\":null},\"id\":\"18337146-aa03-457c-836c-3fe7cf37b9c2\",\"type\":\"GlyphRenderer\"},{\"attributes\":{\"formatter\":{\"id\":\"00a99ee4-10f1-4d73-9308-024a904e2f0d\",\"type\":\"BasicTickFormatter\"},\"plot\":{\"id\":\"16d2c326-f08f-4fc4-b165-b609565de153\",\"subtype\":\"Figure\",\"type\":\"Plot\"},\"ticker\":{\"id\":\"2ec6d7d8-c942-4222-9d98-c06524dccc8f\",\"type\":\"BasicTicker\"}},\"id\":\"2111b2ec-db3a-4054-807b-3e3b93dc6dd7\",\"type\":\"LinearAxis\"},{\"attributes\":{\"plot\":{\"id\":\"16d2c326-f08f-4fc4-b165-b609565de153\",\"subtype\":\"Figure\",\"type\":\"Plot\"},\"ticker\":{\"id\":\"5a4c838e-fbcd-4aab-8edd-26abd2a419b7\",\"type\":\"BasicTicker\"}},\"id\":\"4b4492a0-9942-4368-8b7d-d340a2ecda1a\",\"type\":\"Grid\"},{\"attributes\":{\"plot\":null,\"text\":\"Top-1000 words distribution\"},\"id\":\"198b7746-b528-4421-bd09-8b3bc9926e6f\",\"type\":\"Title\"},{\"attributes\":{\"callback\":null},\"id\":\"50014096-cdc0-4e8b-8dea-57e7f9133324\",\"type\":\"DataRange1d\"},{\"attributes\":{\"callback\":null},\"id\":\"2fd54de0-b44a-4265-b2ab-d23a19e0a57b\",\"type\":\"DataRange1d\"},{\"attributes\":{},\"id\":\"5a4c838e-fbcd-4aab-8edd-26abd2a419b7\",\"type\":\"BasicTicker\"},{\"attributes\":{},\"id\":\"2dedadf4-3814-4750-9da2-4ad9560bea6e\",\"type\":\"ToolEvents\"},{\"attributes\":{\"formatter\":{\"id\":\"1cfe7d3d-0f58-4c81-ad85-9625da21b979\",\"type\":\"BasicTickFormatter\"},\"plot\":{\"id\":\"16d2c326-f08f-4fc4-b165-b609565de153\",\"subtype\":\"Figure\",\"type\":\"Plot\"},\"ticker\":{\"id\":\"5a4c838e-fbcd-4aab-8edd-26abd2a419b7\",\"type\":\"BasicTicker\"}},\"id\":\"3733d1b2-4d90-48b6-b2e0-b5a466d84844\",\"type\":\"LinearAxis\"},{\"attributes\":{\"active_drag\":\"auto\",\"active_scroll\":\"auto\",\"active_tap\":\"auto\",\"tools\":[{\"id\":\"955a90e3-8c5d-40da-a529-91d21c0b8974\",\"type\":\"PanTool\"},{\"id\":\"139477a3-48d7-47a9-9f8f-0312399e544f\",\"type\":\"WheelZoomTool\"},{\"id\":\"4bef5e88-c047-497d-940d-a88309bb487b\",\"type\":\"ResetTool\"},{\"id\":\"a3f7cce9-1403-4f7b-b89f-9ac80a23ce34\",\"type\":\"SaveTool\"}]},\"id\":\"2bd6b267-6bea-4f8a-8c7a-ae98026d2c36\",\"type\":\"Toolbar\"},{\"attributes\":{},\"id\":\"00a99ee4-10f1-4d73-9308-024a904e2f0d\",\"type\":\"BasicTickFormatter\"},{\"attributes\":{},\"id\":\"2ec6d7d8-c942-4222-9d98-c06524dccc8f\",\"type\":\"BasicTicker\"},{\"attributes\":{\"dimension\":1,\"plot\":{\"id\":\"16d2c326-f08f-4fc4-b165-b609565de153\",\"subtype\":\"Figure\",\"type\":\"Plot\"},\"ticker\":{\"id\":\"2ec6d7d8-c942-4222-9d98-c06524dccc8f\",\"type\":\"BasicTicker\"}},\"id\":\"9c322526-70e6-4d98-b6ea-dd1111126215\",\"type\":\"Grid\"},{\"attributes\":{\"bottom\":{\"value\":0},\"fill_alpha\":{\"value\":0.1},\"fill_color\":{\"value\":\"#1f77b4\"},\"left\":{\"field\":\"left\"},\"line_alpha\":{\"value\":0.1},\"line_color\":{\"value\":\"#1f77b4\"},\"right\":{\"field\":\"right\"},\"top\":{\"field\":\"top\"}},\"id\":\"02eda4ab-8d85-45f4-bc47-85d4b989b31a\",\"type\":\"Quad\"},{\"attributes\":{\"plot\":{\"id\":\"16d2c326-f08f-4fc4-b165-b609565de153\",\"subtype\":\"Figure\",\"type\":\"Plot\"}},\"id\":\"955a90e3-8c5d-40da-a529-91d21c0b8974\",\"type\":\"PanTool\"},{\"attributes\":{\"plot\":{\"id\":\"16d2c326-f08f-4fc4-b165-b609565de153\",\"subtype\":\"Figure\",\"type\":\"Plot\"}},\"id\":\"4bef5e88-c047-497d-940d-a88309bb487b\",\"type\":\"ResetTool\"},{\"attributes\":{\"below\":[{\"id\":\"3733d1b2-4d90-48b6-b2e0-b5a466d84844\",\"type\":\"LinearAxis\"}],\"left\":[{\"id\":\"2111b2ec-db3a-4054-807b-3e3b93dc6dd7\",\"type\":\"LinearAxis\"}],\"renderers\":[{\"id\":\"3733d1b2-4d90-48b6-b2e0-b5a466d84844\",\"type\":\"LinearAxis\"},{\"id\":\"4b4492a0-9942-4368-8b7d-d340a2ecda1a\",\"type\":\"Grid\"},{\"id\":\"2111b2ec-db3a-4054-807b-3e3b93dc6dd7\",\"type\":\"LinearAxis\"},{\"id\":\"9c322526-70e6-4d98-b6ea-dd1111126215\",\"type\":\"Grid\"},{\"id\":\"18337146-aa03-457c-836c-3fe7cf37b9c2\",\"type\":\"GlyphRenderer\"}],\"title\":{\"id\":\"198b7746-b528-4421-bd09-8b3bc9926e6f\",\"type\":\"Title\"},\"tool_events\":{\"id\":\"2dedadf4-3814-4750-9da2-4ad9560bea6e\",\"type\":\"ToolEvents\"},\"toolbar\":{\"id\":\"2bd6b267-6bea-4f8a-8c7a-ae98026d2c36\",\"type\":\"Toolbar\"},\"toolbar_location\":\"above\",\"x_range\":{\"id\":\"50014096-cdc0-4e8b-8dea-57e7f9133324\",\"type\":\"DataRange1d\"},\"y_range\":{\"id\":\"2fd54de0-b44a-4265-b2ab-d23a19e0a57b\",\"type\":\"DataRange1d\"}},\"id\":\"16d2c326-f08f-4fc4-b165-b609565de153\",\"subtype\":\"Figure\",\"type\":\"Plot\"},{\"attributes\":{\"callback\":null,\"column_names\":[\"left\",\"right\",\"top\"],\"data\":{\"left\":{\"__ndarray__\":\"AcB13mfcHEBfQrxwIB8dQL3EAgPZYR1AG0dJlZGkHUB6yY8nSucdQNhL1rkCKh5ANs4cTLtsHkCUUGPec68eQPLSqXAs8h5AUFXwAuU0H0Cu1zaVnXcfQA1afSdWuh9Aa9zDuQ79H0BkLwWm4x8gQJRwKO8/QSBAw7FLOJxiIEDy8m6B+IMgQCE0kspUpSBAUHW1E7HGIEB/tthcDeggQK73+6VpCSFA3Tgf78UqIUAMekI4IkwhQDu7ZYF+bSFAavyIytqOIUCaPawTN7AhQMh+z1yT0SFA+L/ype/yIUAnARbvSxQiQFZCOTioNSJAhYNcgQRXIkC0xH/KYHgiQOMFoxO9mSJAEkfGXBm7IkBBiOmlddwiQHDJDO/R/SJAnwowOC4fI0DOS1OBikAjQP6MdsrmYSNALM6ZE0ODI0BcD71cn6QjQItQ4KX7xSNAupED71fnI0Dp0iY4tAgkQBgUSoEQKiRAR1VtymxLJEB2lpATyWwkQKXXs1wljiRA1BjXpYGvJEADWvru3dAkQDKbHTg68iRAYtxAgZYTJUCQHWTK8jQlQMBehxNPViVA75+qXKt3JUAe4c2lB5klQE0i8e5juiVAfGMUOMDbJUCrpDeBHP0lQNrlWsp4HiZACSd+E9U/JkA4aKFcMWEmQGipxKWNgiZAlurn7umjJkDGKws4RsUmQPRsLoGi5iZAJK5Ryv4HJ0BS73QTWyknQIIwmFy3SidAsXG7pRNsJ0Dgst7ub40nQA/0ATjMridAPjUlgSjQJ0BtdkjKhPEnQJy3axPhEihAzPiOXD00KED6ObKlmVUoQCp71e71dihAWLz4N1KYKECI/RuBrrkoQLY+P8oK2yhA5n9iE2f8KEAVwYVcwx0pQEQCqaUfPylAc0PM7ntgKUCihO832IEpQNHFEoE0oylAAAc2ypDEKUAwSFkT7eUpQF6JfFxJBypAjsqfpaUoKkC8C8PuAUoqQOxM5jdeaypAG44JgbqMKkBKzyzKFq4qQHkQUBNzzypAqFFzXM/wKkDXkpalKxIrQAbUue6HMytANRXdN+RUK0A=\",\"dtype\":\"float64\",\"shape\":[100]},\"right\":{\"__ndarray__\":\"X0K8cCAfHUC9xAID2WEdQBtHSZWRpB1AesmPJ0rnHUDYS9a5AioeQDbOHEy7bB5AlFBj3nOvHkDy0qlwLPIeQFBV8ALlNB9Artc2lZ13H0ANWn0nVrofQGvcw7kO/R9AZC8FpuMfIECUcCjvP0EgQMOxSzicYiBA8vJugfiDIEAhNJLKVKUgQFB1tROxxiBAf7bYXA3oIECu9/ulaQkhQN04H+/FKiFADHpCOCJMIUA7u2WBfm0hQGr8iMrajiFAmj2sEzewIUDIfs9ck9EhQPi/8qXv8iFAJwEW70sUIkBWQjk4qDUiQIWDXIEEVyJAtMR/ymB4IkDjBaMTvZkiQBJHxlwZuyJAQYjppXXcIkBwyQzv0f0iQJ8KMDguHyNAzktTgYpAI0D+jHbK5mEjQCzOmRNDgyNAXA+9XJ+kI0CLUOCl+8UjQLqRA+9X5yNA6dImOLQIJEAYFEqBECokQEdVbcpsSyRAdpaQE8lsJECl17NcJY4kQNQY16WBryRAA1r67t3QJEAymx04OvIkQGLcQIGWEyVAkB1kyvI0JUDAXocTT1YlQO+fqlyrdyVAHuHNpQeZJUBNIvHuY7olQHxjFDjA2yVAq6Q3gRz9JUDa5VrKeB4mQAknfhPVPyZAOGihXDFhJkBoqcSljYImQJbq5+7poyZAxisLOEbFJkD0bC6BouYmQCSuUcr+BydAUu90E1spJ0CCMJhct0onQLFxu6UTbCdA4LLe7m+NJ0AP9AE4zK4nQD41JYEo0CdAbXZIyoTxJ0Cct2sT4RIoQMz4jlw9NChA+jmypZlVKEAqe9Xu9XYoQFi8+DdSmChAiP0bga65KEC2Pj/KCtsoQOZ/YhNn/ChAFcGFXMMdKUBEAqmlHz8pQHNDzO57YClAooTvN9iBKUDRxRKBNKMpQAAHNsqQxClAMEhZE+3lKUBeiXxcSQcqQI7Kn6WlKCpAvAvD7gFKKkDsTOY3XmsqQBuOCYG6jCpASs8syhauKkB5EFATc88qQKhRc1zP8CpA15KWpSsSK0AG1LnuhzMrQDUV3TfkVCtAZFYAgUB2K0A=\",\"dtype\":\"float64\",\"shape\":[100]},\"top\":{\"__ndarray__\":\"hOzaUahh9D/PPJvwU/XtP3ZFFCUprvE/5MIK0Gv+6z/RSXqvgwfqP9FJeq+DB+o/bx536Jl33T+UoIA9VyfjPxMaEV4/HuU/V+qnDPs04D/UJvAcbzDhP7YIzBS1suA/EO8Nl1WO2D/vRBQlKa7hP/OxxYbhktc/dDg1Zvmb1T81glw1nanSP7T77FWFoNQ/tgjMFLWy4D92RRQlKa7RP/W+pEURpdM/tgjMFLWy0D/ulwcJgm6/P3Q4NWb5m9U/Xr6kRRGlsz/fmAcJgm6/P/2WBwmCbr8/9b6kRRGlsz/1vqRFEaXDP3Q4NWb5m8U/dDg1ZvmbxT/1vqRFEaWzP/OxxYbhkrc/87HFhuGSpz/ulwcJgm6vP/Gk5sexgLs/7pcHCYJunz/9lgcJgm6fP9+YBwmCbp8//ZYHCYJurz/zscWG4ZKnP+6XBwmCbo8/87HFhuGSpz/zscWG4ZKnP+6XBwmCbp8/7pcHCYJurz/zscWG4ZKnP+6XBwmCbq8/AAAAAAAAAADulwcJgm6PPwAAAAAAAAAA35gHCYJujz/9lgcJgm6PPwAAAAAAAAAA7pcHCYJujz/ulwcJgm6PPwAAAAAAAAAAAAAAAAAAAADulwcJgm6fP/OxxYbhkqc/AAAAAAAAAAD9lgcJgm6PPwAAAAAAAAAAAAAAAAAAAADfmAcJgm6fP/2WBwmCbo8/35gHCYJunz/9lgcJgm6PP+6XBwmCbo8/AAAAAAAAAAAAAAAAAAAAAAAAAAAAAAAA7pcHCYJujz8AAAAAAAAAAAAAAAAAAAAAAAAAAAAAAAAAAAAAAAAAAAAAAAAAAAAAAAAAAAAAAAAAAAAAAAAAAP2WBwmCbo8/AAAAAAAAAADulwcJgm6PP+6XBwmCbo8/AAAAAAAAAADulwcJgm6PP+6XBwmCbo8/AAAAAAAAAAAAAAAAAAAAAAAAAAAAAAAAAAAAAAAAAAAAAAAAAAAAAAAAAAAAAAAAAAAAAAAAAAAAAAAAAAAAAAAAAAAAAAAAAAAAAAAAAAAAAAAAAAAAAAAAAAAAAAAA7pcHCYJujz8=\",\"dtype\":\"float64\",\"shape\":[100]}}},\"id\":\"1341cdbf-4e4d-4da4-8a5d-9799c1b2f9de\",\"type\":\"ColumnDataSource\"},{\"attributes\":{\"bottom\":{\"value\":0},\"fill_color\":{\"value\":\"#1f77b4\"},\"left\":{\"field\":\"left\"},\"line_color\":{\"value\":\"#555555\"},\"right\":{\"field\":\"right\"},\"top\":{\"field\":\"top\"}},\"id\":\"b84f9717-90cc-4e91-b0cc-f92b9192a64d\",\"type\":\"Quad\"},{\"attributes\":{\"plot\":{\"id\":\"16d2c326-f08f-4fc4-b165-b609565de153\",\"subtype\":\"Figure\",\"type\":\"Plot\"}},\"id\":\"139477a3-48d7-47a9-9f8f-0312399e544f\",\"type\":\"WheelZoomTool\"},{\"attributes\":{\"plot\":{\"id\":\"16d2c326-f08f-4fc4-b165-b609565de153\",\"subtype\":\"Figure\",\"type\":\"Plot\"}},\"id\":\"a3f7cce9-1403-4f7b-b89f-9ac80a23ce34\",\"type\":\"SaveTool\"}],\"root_ids\":[\"16d2c326-f08f-4fc4-b165-b609565de153\"]},\"title\":\"Bokeh Application\",\"version\":\"0.12.4\"}};\n",
       "            var render_items = [{\"docid\":\"c7128177-f07b-435b-82d5-dd8c39057408\",\"elementid\":\"88f30b4a-a629-4127-8cb5-74a65e06d413\",\"modelid\":\"16d2c326-f08f-4fc4-b165-b609565de153\"}];\n",
       "            \n",
       "            Bokeh.embed.embed_items(docs_json, render_items);\n",
       "          };\n",
       "          if (document.readyState != \"loading\") fn();\n",
       "          else document.addEventListener(\"DOMContentLoaded\", fn);\n",
       "        })();\n",
       "      },\n",
       "      function(Bokeh) {\n",
       "      }\n",
       "    ];\n",
       "  \n",
       "    function run_inline_js() {\n",
       "      \n",
       "      if ((window.Bokeh !== undefined) || (force === true)) {\n",
       "        for (var i = 0; i < inline_js.length; i++) {\n",
       "          inline_js[i](window.Bokeh);\n",
       "        }if (force === true) {\n",
       "          display_loaded();\n",
       "        }} else if (Date.now() < window._bokeh_timeout) {\n",
       "        setTimeout(run_inline_js, 100);\n",
       "      } else if (!window._bokeh_failed_load) {\n",
       "        console.log(\"Bokeh: BokehJS failed to load within specified timeout.\");\n",
       "        window._bokeh_failed_load = true;\n",
       "      } else if (force !== true) {\n",
       "        var cell = $(document.getElementById(\"88f30b4a-a629-4127-8cb5-74a65e06d413\")).parents('.cell').data().cell;\n",
       "        cell.output_area.append_execute_result(NB_LOAD_WARNING)\n",
       "      }\n",
       "  \n",
       "    }\n",
       "  \n",
       "    if (window._bokeh_is_loading === 0) {\n",
       "      console.log(\"Bokeh: BokehJS loaded, going straight to plotting\");\n",
       "      run_inline_js();\n",
       "    } else {\n",
       "      load_libs(js_urls, function() {\n",
       "        console.log(\"Bokeh: BokehJS plotting callback run at\", now());\n",
       "        run_inline_js();\n",
       "      });\n",
       "    }\n",
       "  }(this));\n",
       "</script>"
      ]
     },
     "metadata": {},
     "output_type": "display_data"
    }
   ],
   "source": [
    "hist, edges = np.histogram(np.log(counts_wiki_top1000), density=True, bins=100, normed=True)\n",
    "\n",
    "p = figure(tools=\"pan,wheel_zoom,reset,save\",\n",
    "           toolbar_location=\"above\",\n",
    "           title=\"Top-1000 words distribution\")\n",
    "p.quad(top=hist, bottom=0, left=edges[:-1], right=edges[1:], line_color=\"#555555\")\n",
    "show(p)"
   ]
  },
  {
   "cell_type": "code",
   "execution_count": 29,
   "metadata": {
    "collapsed": false
   },
   "outputs": [],
   "source": [
    "model_wiki= Word2Vec(sentences_wiki, size=100, window=5, min_count=5, workers=4)\n",
    "words_top_vec_wiki = model_wiki[words_wiki_top1000]\n",
    "\n",
    "tsne = TSNE(n_components=2, random_state=0)\n",
    "words_top_wiki_tsne = tsne.fit_transform(words_top_vec_wiki)"
   ]
  },
  {
   "cell_type": "code",
   "execution_count": 30,
   "metadata": {
    "collapsed": false
   },
   "outputs": [
    {
     "data": {
      "text/plain": [
       "[('woman', 0.683234691619873),\n",
       " ('boy', 0.6454422473907471),\n",
       " ('person', 0.6248052716255188),\n",
       " ('girl', 0.6162080764770508),\n",
       " ('dog', 0.5867989659309387),\n",
       " ('soldier', 0.5709465742111206),\n",
       " ('mask', 0.5529726147651672),\n",
       " ('creature', 0.5496262907981873),\n",
       " ('sword', 0.5496222972869873),\n",
       " ('warrior', 0.5341976284980774)]"
      ]
     },
     "execution_count": 30,
     "metadata": {},
     "output_type": "execute_result"
    }
   ],
   "source": [
    "model_wiki.most_similar(\"man\")"
   ]
  },
  {
   "cell_type": "code",
   "execution_count": 31,
   "metadata": {
    "collapsed": false
   },
   "outputs": [
    {
     "data": {
      "text/plain": [
       "[('software', 0.8107559680938721),\n",
       " ('user', 0.7706995010375977),\n",
       " ('computers', 0.7490717768669128),\n",
       " ('interface', 0.7457687854766846),\n",
       " ('controller', 0.7286148071289062),\n",
       " ('graphics', 0.7282423377037048),\n",
       " ('computing', 0.7251532077789307),\n",
       " ('portable', 0.7184460163116455),\n",
       " ('hardware', 0.7154513597488403),\n",
       " ('programming', 0.7136600613594055)]"
      ]
     },
     "execution_count": 31,
     "metadata": {},
     "output_type": "execute_result"
    }
   ],
   "source": [
    "model_wiki.most_similar(\"computer\")"
   ]
  },
  {
   "cell_type": "code",
   "execution_count": 32,
   "metadata": {
    "collapsed": false
   },
   "outputs": [
    {
     "data": {
      "text/plain": [
       "[('insect', 0.7865030765533447),\n",
       " ('mushroom', 0.7441552877426147),\n",
       " ('organism', 0.742639422416687),\n",
       " ('bird', 0.7231693267822266),\n",
       " ('fungus', 0.722698450088501),\n",
       " ('human', 0.7105056643486023),\n",
       " ('fruit', 0.7074892520904541),\n",
       " ('predator', 0.6990082263946533),\n",
       " ('animals', 0.6961447596549988),\n",
       " ('skeletal', 0.6856749057769775)]"
      ]
     },
     "execution_count": 32,
     "metadata": {},
     "output_type": "execute_result"
    }
   ],
   "source": [
    "model_wiki.most_similar(\"animal\")"
   ]
  },
  {
   "cell_type": "markdown",
   "metadata": {},
   "source": [
    "#### t-SNE visualization"
   ]
  },
  {
   "cell_type": "code",
   "execution_count": 33,
   "metadata": {
    "collapsed": false
   },
   "outputs": [
    {
     "data": {
      "text/html": [
       "\n",
       "\n",
       "    <div class=\"bk-root\">\n",
       "        <div class=\"bk-plotdiv\" id=\"b4b99648-741d-412a-9752-4316e1c99103\"></div>\n",
       "    </div>\n",
       "<script type=\"text/javascript\">\n",
       "  \n",
       "  (function(global) {\n",
       "    function now() {\n",
       "      return new Date();\n",
       "    }\n",
       "  \n",
       "    var force = false;\n",
       "  \n",
       "    if (typeof (window._bokeh_onload_callbacks) === \"undefined\" || force === true) {\n",
       "      window._bokeh_onload_callbacks = [];\n",
       "      window._bokeh_is_loading = undefined;\n",
       "    }\n",
       "  \n",
       "  \n",
       "    \n",
       "    if (typeof (window._bokeh_timeout) === \"undefined\" || force === true) {\n",
       "      window._bokeh_timeout = Date.now() + 0;\n",
       "      window._bokeh_failed_load = false;\n",
       "    }\n",
       "  \n",
       "    var NB_LOAD_WARNING = {'data': {'text/html':\n",
       "       \"<div style='background-color: #fdd'>\\n\"+\n",
       "       \"<p>\\n\"+\n",
       "       \"BokehJS does not appear to have successfully loaded. If loading BokehJS from CDN, this \\n\"+\n",
       "       \"may be due to a slow or bad network connection. Possible fixes:\\n\"+\n",
       "       \"</p>\\n\"+\n",
       "       \"<ul>\\n\"+\n",
       "       \"<li>re-rerun `output_notebook()` to attempt to load from CDN again, or</li>\\n\"+\n",
       "       \"<li>use INLINE resources instead, as so:</li>\\n\"+\n",
       "       \"</ul>\\n\"+\n",
       "       \"<code>\\n\"+\n",
       "       \"from bokeh.resources import INLINE\\n\"+\n",
       "       \"output_notebook(resources=INLINE)\\n\"+\n",
       "       \"</code>\\n\"+\n",
       "       \"</div>\"}};\n",
       "  \n",
       "    function display_loaded() {\n",
       "      if (window.Bokeh !== undefined) {\n",
       "        document.getElementById(\"b4b99648-741d-412a-9752-4316e1c99103\").textContent = \"BokehJS successfully loaded.\";\n",
       "      } else if (Date.now() < window._bokeh_timeout) {\n",
       "        setTimeout(display_loaded, 100)\n",
       "      }\n",
       "    }\n",
       "  \n",
       "    function run_callbacks() {\n",
       "      window._bokeh_onload_callbacks.forEach(function(callback) { callback() });\n",
       "      delete window._bokeh_onload_callbacks\n",
       "      console.info(\"Bokeh: all callbacks have finished\");\n",
       "    }\n",
       "  \n",
       "    function load_libs(js_urls, callback) {\n",
       "      window._bokeh_onload_callbacks.push(callback);\n",
       "      if (window._bokeh_is_loading > 0) {\n",
       "        console.log(\"Bokeh: BokehJS is being loaded, scheduling callback at\", now());\n",
       "        return null;\n",
       "      }\n",
       "      if (js_urls == null || js_urls.length === 0) {\n",
       "        run_callbacks();\n",
       "        return null;\n",
       "      }\n",
       "      console.log(\"Bokeh: BokehJS not loaded, scheduling load and callback at\", now());\n",
       "      window._bokeh_is_loading = js_urls.length;\n",
       "      for (var i = 0; i < js_urls.length; i++) {\n",
       "        var url = js_urls[i];\n",
       "        var s = document.createElement('script');\n",
       "        s.src = url;\n",
       "        s.async = false;\n",
       "        s.onreadystatechange = s.onload = function() {\n",
       "          window._bokeh_is_loading--;\n",
       "          if (window._bokeh_is_loading === 0) {\n",
       "            console.log(\"Bokeh: all BokehJS libraries loaded\");\n",
       "            run_callbacks()\n",
       "          }\n",
       "        };\n",
       "        s.onerror = function() {\n",
       "          console.warn(\"failed to load library \" + url);\n",
       "        };\n",
       "        console.log(\"Bokeh: injecting script tag for BokehJS library: \", url);\n",
       "        document.getElementsByTagName(\"head\")[0].appendChild(s);\n",
       "      }\n",
       "    };var element = document.getElementById(\"b4b99648-741d-412a-9752-4316e1c99103\");\n",
       "    if (element == null) {\n",
       "      console.log(\"Bokeh: ERROR: autoload.js configured with elementid 'b4b99648-741d-412a-9752-4316e1c99103' but no matching script tag was found. \")\n",
       "      return false;\n",
       "    }\n",
       "  \n",
       "    var js_urls = [];\n",
       "  \n",
       "    var inline_js = [\n",
       "      function(Bokeh) {\n",
       "        (function() {\n",
       "          var fn = function() {\n",
       "            var docs_json = {\"b8465628-deca-44c3-bde5-7d6d546301c8\":{\"roots\":{\"references\":[{\"attributes\":{\"formatter\":{\"id\":\"55184a21-74ca-4b1c-9039-d1f55024003b\",\"type\":\"BasicTickFormatter\"},\"plot\":{\"id\":\"cda62ed2-5c7a-4244-b9da-277c6f9c17de\",\"subtype\":\"Figure\",\"type\":\"Plot\"},\"ticker\":{\"id\":\"1b0be882-cb7d-4e93-9ef5-55f78d80c9ee\",\"type\":\"BasicTicker\"}},\"id\":\"a08766dd-7420-4fc7-9f39-68b4ab5b4f31\",\"type\":\"LinearAxis\"},{\"attributes\":{},\"id\":\"1b0be882-cb7d-4e93-9ef5-55f78d80c9ee\",\"type\":\"BasicTicker\"},{\"attributes\":{\"plot\":null,\"text\":\"word2vec T-SNE for most common words\"},\"id\":\"5309124b-39e9-4c7d-bac1-a3a931805c3c\",\"type\":\"Title\"},{\"attributes\":{\"active_drag\":\"auto\",\"active_scroll\":\"auto\",\"active_tap\":\"auto\",\"tools\":[{\"id\":\"346f754f-8c9f-4f32-9eb9-9b0b9e0c3e0a\",\"type\":\"PanTool\"},{\"id\":\"947ab65c-969e-4717-a8cc-69e2561ec5cc\",\"type\":\"WheelZoomTool\"},{\"id\":\"6c8b3733-e50f-4ff9-acda-508a434a6197\",\"type\":\"ResetTool\"},{\"id\":\"0003edfc-2f3a-4849-8830-02ee80aeb637\",\"type\":\"SaveTool\"}]},\"id\":\"b4764542-7642-4283-9a87-3b48f9b78a74\",\"type\":\"Toolbar\"},{\"attributes\":{\"callback\":null},\"id\":\"00fabe60-2681-44d6-b23b-f37ceb45f20a\",\"type\":\"DataRange1d\"},{\"attributes\":{\"dimension\":1,\"plot\":{\"id\":\"cda62ed2-5c7a-4244-b9da-277c6f9c17de\",\"subtype\":\"Figure\",\"type\":\"Plot\"},\"ticker\":{\"id\":\"1b0be882-cb7d-4e93-9ef5-55f78d80c9ee\",\"type\":\"BasicTicker\"}},\"id\":\"71e3dfdc-7a27-4464-b264-3016392ba481\",\"type\":\"Grid\"},{\"attributes\":{\"formatter\":{\"id\":\"e20e70ad-de85-4d9d-9387-c4bf26090044\",\"type\":\"BasicTickFormatter\"},\"plot\":{\"id\":\"cda62ed2-5c7a-4244-b9da-277c6f9c17de\",\"subtype\":\"Figure\",\"type\":\"Plot\"},\"ticker\":{\"id\":\"966be115-f31f-4e56-9eb4-4dc0771bfe4e\",\"type\":\"BasicTicker\"}},\"id\":\"365f2872-2c3e-4f5b-a859-0c4e4268aefe\",\"type\":\"LinearAxis\"},{\"attributes\":{\"callback\":null},\"id\":\"2034c8b9-2e55-4250-86c3-1dc4960ff673\",\"type\":\"DataRange1d\"},{\"attributes\":{\"fill_alpha\":{\"value\":0.1},\"fill_color\":{\"value\":\"#1f77b4\"},\"line_alpha\":{\"value\":0.1},\"line_color\":{\"value\":\"#1f77b4\"},\"size\":{\"units\":\"screen\",\"value\":8},\"x\":{\"field\":\"x1\"},\"y\":{\"field\":\"x2\"}},\"id\":\"a65684dc-7090-4981-b1af-6f89dd35889e\",\"type\":\"Circle\"},{\"attributes\":{},\"id\":\"55184a21-74ca-4b1c-9039-d1f55024003b\",\"type\":\"BasicTickFormatter\"},{\"attributes\":{\"plot\":{\"id\":\"cda62ed2-5c7a-4244-b9da-277c6f9c17de\",\"subtype\":\"Figure\",\"type\":\"Plot\"}},\"id\":\"346f754f-8c9f-4f32-9eb9-9b0b9e0c3e0a\",\"type\":\"PanTool\"},{\"attributes\":{},\"id\":\"e20e70ad-de85-4d9d-9387-c4bf26090044\",\"type\":\"BasicTickFormatter\"},{\"attributes\":{\"plot\":{\"id\":\"cda62ed2-5c7a-4244-b9da-277c6f9c17de\",\"subtype\":\"Figure\",\"type\":\"Plot\"}},\"id\":\"947ab65c-969e-4717-a8cc-69e2561ec5cc\",\"type\":\"WheelZoomTool\"},{\"attributes\":{\"plot\":{\"id\":\"cda62ed2-5c7a-4244-b9da-277c6f9c17de\",\"subtype\":\"Figure\",\"type\":\"Plot\"}},\"id\":\"6c8b3733-e50f-4ff9-acda-508a434a6197\",\"type\":\"ResetTool\"},{\"attributes\":{\"plot\":{\"id\":\"cda62ed2-5c7a-4244-b9da-277c6f9c17de\",\"subtype\":\"Figure\",\"type\":\"Plot\"}},\"id\":\"0003edfc-2f3a-4849-8830-02ee80aeb637\",\"type\":\"SaveTool\"},{\"attributes\":{\"data_source\":{\"id\":\"bc3c9a8e-3ed8-4a38-8ff8-b989b65ec01c\",\"type\":\"ColumnDataSource\"},\"glyph\":{\"id\":\"47ceadbe-cb1d-4725-a4a0-c2a0315cfb54\",\"type\":\"Circle\"},\"hover_glyph\":null,\"nonselection_glyph\":{\"id\":\"a65684dc-7090-4981-b1af-6f89dd35889e\",\"type\":\"Circle\"},\"selection_glyph\":null},\"id\":\"9b182220-e887-41e0-bd32-2275dc1e7652\",\"type\":\"GlyphRenderer\"},{\"attributes\":{},\"id\":\"204b2dc7-be94-468a-aa8d-ac9c3b656bc5\",\"type\":\"ToolEvents\"},{\"attributes\":{\"plot\":{\"id\":\"cda62ed2-5c7a-4244-b9da-277c6f9c17de\",\"subtype\":\"Figure\",\"type\":\"Plot\"},\"ticker\":{\"id\":\"966be115-f31f-4e56-9eb4-4dc0771bfe4e\",\"type\":\"BasicTicker\"}},\"id\":\"6fcfd41f-0318-4d8c-b828-d5ebd4c4e5c2\",\"type\":\"Grid\"},{\"attributes\":{},\"id\":\"966be115-f31f-4e56-9eb4-4dc0771bfe4e\",\"type\":\"BasicTicker\"},{\"attributes\":{\"plot\":{\"id\":\"cda62ed2-5c7a-4244-b9da-277c6f9c17de\",\"subtype\":\"Figure\",\"type\":\"Plot\"},\"source\":{\"id\":\"bc3c9a8e-3ed8-4a38-8ff8-b989b65ec01c\",\"type\":\"ColumnDataSource\"},\"text\":{\"field\":\"names\"},\"text_align\":\"center\",\"text_color\":{\"value\":\"#555555\"},\"text_font_size\":{\"value\":\"8pt\"},\"x\":{\"field\":\"x1\"},\"y\":{\"field\":\"x2\"},\"y_offset\":{\"value\":6}},\"id\":\"2bea4490-ea01-49d7-af88-f276aa71b23c\",\"type\":\"LabelSet\"},{\"attributes\":{\"below\":[{\"id\":\"365f2872-2c3e-4f5b-a859-0c4e4268aefe\",\"type\":\"LinearAxis\"}],\"left\":[{\"id\":\"a08766dd-7420-4fc7-9f39-68b4ab5b4f31\",\"type\":\"LinearAxis\"}],\"renderers\":[{\"id\":\"365f2872-2c3e-4f5b-a859-0c4e4268aefe\",\"type\":\"LinearAxis\"},{\"id\":\"6fcfd41f-0318-4d8c-b828-d5ebd4c4e5c2\",\"type\":\"Grid\"},{\"id\":\"a08766dd-7420-4fc7-9f39-68b4ab5b4f31\",\"type\":\"LinearAxis\"},{\"id\":\"71e3dfdc-7a27-4464-b264-3016392ba481\",\"type\":\"Grid\"},{\"id\":\"9b182220-e887-41e0-bd32-2275dc1e7652\",\"type\":\"GlyphRenderer\"},{\"id\":\"2bea4490-ea01-49d7-af88-f276aa71b23c\",\"type\":\"LabelSet\"}],\"title\":{\"id\":\"5309124b-39e9-4c7d-bac1-a3a931805c3c\",\"type\":\"Title\"},\"tool_events\":{\"id\":\"204b2dc7-be94-468a-aa8d-ac9c3b656bc5\",\"type\":\"ToolEvents\"},\"toolbar\":{\"id\":\"b4764542-7642-4283-9a87-3b48f9b78a74\",\"type\":\"Toolbar\"},\"toolbar_location\":\"above\",\"x_range\":{\"id\":\"00fabe60-2681-44d6-b23b-f37ceb45f20a\",\"type\":\"DataRange1d\"},\"y_range\":{\"id\":\"2034c8b9-2e55-4250-86c3-1dc4960ff673\",\"type\":\"DataRange1d\"}},\"id\":\"cda62ed2-5c7a-4244-b9da-277c6f9c17de\",\"subtype\":\"Figure\",\"type\":\"Plot\"},{\"attributes\":{\"callback\":null,\"column_names\":[\"x1\",\"x2\",\"names\"],\"data\":{\"names\":[\"the\",\"of\",\"and\",\"in\",\"to\",\"a\",\"was\",\"s\",\"on\",\"as\",\"for\",\"that\",\"with\",\"by\",\"is\",\"his\",\"at\",\"he\",\"from\",\"it\",\"were\",\"an\",\"had\",\"which\",\"be\",\"this\",\"but\",\"first\",\"are\",\"not\",\"their\",\"one\",\"after\",\"her\",\"also\",\"its\",\"they\",\"two\",\"or\",\"have\",\"who\",\"been\",\"new\",\"has\",\"she\",\"when\",\"during\",\"time\",\"other\",\"would\",\"into\",\"all\",\"i\",\"more\",\"while\",\"over\",\"him\",\"game\",\"later\",\"only\",\"most\",\"up\",\"three\",\"between\",\"out\",\"about\",\"th\",\"than\",\"there\",\"some\",\"film\",\"may\",\"before\",\"year\",\"no\",\"made\",\"such\",\"second\",\"season\",\"years\",\"where\",\"world\",\"war\",\"both\",\"then\",\"used\",\"however\",\"being\",\"song\",\"through\",\"against\",\"them\",\"series\",\"these\",\"many\",\"album\",\"m\",\"city\",\"part\",\"several\",\"team\",\"including\",\"number\",\"north\",\"well\",\"united\",\"became\",\"early\",\"four\",\"can\",\"under\",\"music\",\"state\",\"south\",\"so\",\"day\",\"episode\",\"states\",\"following\",\"said\",\"american\",\"although\",\"could\",\"known\",\"did\",\"work\",\"until\",\"began\",\"because\",\"released\",\"like\",\"end\",\"called\",\"high\",\"t\",\"people\",\"british\",\"since\",\"around\",\"long\",\"found\",\"each\",\"september\",\"us\",\"best\",\"national\",\"life\",\"if\",\"same\",\"five\",\"another\",\"west\",\"million\",\"show\",\"along\",\"back\",\"km\",\"use\",\"off\",\"area\",\"took\",\"group\",\"final\",\"august\",\"century\",\"any\",\"received\",\"you\",\"october\",\"school\",\"will\",\"due\",\"john\",\"system\",\"june\",\"government\",\"what\",\"july\",\"line\",\"games\",\"single\",\"general\",\"east\",\"third\",\"march\",\"much\",\"down\",\"home\",\"november\",\"set\",\"large\",\"major\",\"family\",\"left\",\"based\",\"place\",\"april\",\"house\",\"army\",\"company\",\"just\",\"york\",\"played\",\"we\",\"december\",\"history\",\"band\",\"road\",\"wrote\",\"six\",\"character\",\"name\",\"now\",\"january\",\"king\",\"included\",\"video\",\"main\",\"near\",\"won\",\"own\",\"men\",\"named\",\"river\",\"led\",\"air\",\"death\",\"according\",\"release\",\"within\",\"those\",\"next\",\"last\",\"top\",\"described\",\"d\",\"even\",\"league\",\"de\",\"battle\",\"make\",\"late\",\"way\",\"very\",\"st\",\"record\",\"times\",\"ship\",\"original\",\"force\",\"storm\",\"still\",\"man\",\"species\",\"great\",\"u\",\"club\",\"production\",\"old\",\"built\",\"route\",\"public\",\"february\",\"small\",\"again\",\"though\",\"days\",\"book\",\"held\",\"white\",\"service\",\"among\",\"further\",\"members\",\"university\",\"german\",\"play\",\"having\",\"story\",\"division\",\"side\",\"power\",\"water\",\"role\",\"french\",\"match\",\"do\",\"b\",\"h\",\"point\",\"park\",\"order\",\"continued\",\"career\",\"often\",\"former\",\"player\",\"considered\",\"town\",\"came\",\"england\",\"local\",\"black\",\"county\",\"despite\",\"without\",\"take\",\"party\",\"few\",\"half\",\"military\",\"version\",\"form\",\"development\",\"songs\",\"president\",\"c\",\"support\",\"moved\",\"different\",\"period\",\"island\",\"tropical\",\"written\",\"become\",\"building\",\"lost\",\"english\",\"given\",\"forces\",\"international\",\"country\",\"court\",\"ii\",\"re\",\"track\",\"tour\",\"london\",\"church\",\"position\",\"little\",\"my\",\"short\",\"n\",\"performance\",\"attack\",\"street\",\"similar\",\"aircraft\",\"using\",\"returned\",\"gave\",\"lead\",\"produced\",\"never\",\"television\",\"class\",\"went\",\"royal\",\"published\",\"highway\",\"recorded\",\"run\",\"father\",\"making\",\"children\",\"western\",\"total\",\"include\",\"good\",\"stated\",\"week\",\"star\",\"per\",\"how\",\"fire\",\"himself\",\"upon\",\"right\",\"land\",\"throughout\",\"control\",\"ships\",\"love\",\"live\",\"once\",\"characters\",\"women\",\"head\",\"central\",\"me\",\"across\",\"instead\",\"writing\",\"seven\",\"months\",\"design\",\"age\",\"rock\",\"light\",\"less\",\"station\",\"political\",\"australia\",\"e\",\"players\",\"developed\",\"young\",\"died\",\"title\",\"away\",\"night\",\"return\",\"hurricane\",\"ten\",\"red\",\"eight\",\"field\",\"southern\",\"previous\",\"law\",\"son\",\"r\",\"ft\",\"remained\",\"result\",\"race\",\"college\",\"too\",\"low\",\"areas\",\"sea\",\"announced\",\"reached\",\"award\",\"felt\",\"william\",\"construction\",\"center\",\"various\",\"should\",\"office\",\"noted\",\"james\",\"win\",\"created\",\"reported\",\"performed\",\"followed\",\"america\",\"japanese\",\"eventually\",\"sent\",\"seen\",\"miles\",\"style\",\"member\",\"together\",\"able\",\"campaign\",\"act\",\"range\",\"level\",\"full\",\"body\",\"originally\",\"mm\",\"front\",\"chart\",\"killed\",\"served\",\"born\",\"action\",\"established\",\"george\",\"points\",\"features\",\"northern\",\"taken\",\"located\",\"common\",\"special\",\"appeared\",\"works\",\"success\",\"others\",\"project\",\"get\",\"playing\",\"stage\",\"started\",\"decided\",\"addition\",\"modern\",\"australian\",\"present\",\"caused\",\"rather\",\"thought\",\"post\",\"football\",\"f\",\"formed\",\"fourth\",\"bridge\",\"championship\",\"almost\",\"feet\",\"sold\",\"guns\",\"added\",\"site\",\"see\",\"awards\",\"director\",\"population\",\"art\",\"strong\",\"heavy\",\"opened\",\"completed\",\"critics\",\"damage\",\"important\",\"saw\",\"fleet\",\"behind\",\"kingdom\",\"open\",\"go\",\"eastern\",\"popular\",\"every\",\"initially\",\"leading\",\"o\",\"worked\",\"soon\",\"command\",\"close\",\"case\",\"ground\",\"non\",\"coast\",\"david\",\"union\",\"weeks\",\"free\",\"l\",\"working\",\"region\",\"hall\",\"average\",\"mi\",\"france\",\"towards\",\"mother\",\"event\",\"scored\",\"training\",\"brought\",\"featured\",\"least\",\"navy\",\"wife\",\"put\",\"scene\",\"council\",\"michael\",\"recording\",\"help\",\"victory\",\"wanted\",\"hit\",\"sound\",\"either\",\"allowed\",\"ever\",\"records\",\"events\",\"magazine\",\"does\",\"studio\",\"troops\",\"provided\",\"cup\",\"generally\",\"mid\",\"designed\",\"henry\",\"placed\",\"hours\",\"runs\",\"far\",\"co\",\"nine\",\"washington\",\"example\",\"list\",\"start\",\"joined\",\"summer\",\"robert\",\"replaced\",\"radio\",\"al\",\"operation\",\"human\",\"european\",\"mph\",\"month\",\"europe\",\"rest\",\"earlier\",\"media\",\"saying\",\"possible\",\"japan\",\"opening\",\"films\",\"police\",\"review\",\"particularly\",\"taking\",\"x\",\"base\",\"successful\",\"society\",\"shot\",\"finished\",\"met\",\"highest\",\"official\",\"available\",\"believed\",\"squadron\",\"involved\",\"brown\",\"minutes\",\"test\",\"turned\",\"must\",\"beginning\",\"change\",\"forced\",\"captain\",\"association\",\"crew\",\"stone\",\"significant\",\"additional\",\"outside\",\"hill\",\"business\",\"research\",\"goal\",\"appearance\",\"units\",\"largest\",\"big\",\"ordered\",\"cast\",\"section\",\"space\",\"ended\",\"winds\",\"future\",\"process\",\"canada\",\"enough\",\"gold\",\"praised\",\"increased\",\"san\",\"relationship\",\"come\",\"lower\",\"social\",\"charles\",\"passed\",\"thus\",\"reviews\",\"previously\",\"real\",\"committee\",\"gun\",\"move\",\"above\",\"signed\",\"elements\",\"parts\",\"money\",\"board\",\"better\",\"community\",\"directed\",\"going\",\"castle\",\"attempt\",\"middle\",\"thomas\",\"chief\",\"program\",\"spent\",\"lake\",\"type\",\"positive\",\"find\",\"hand\",\"plan\",\"g\",\"paul\",\"groups\",\"staff\",\"cross\",\"female\",\"don\",\"musical\",\"round\",\"rights\",\"term\",\"brother\",\"infantry\",\"entire\",\"required\",\"india\",\"critical\",\"itself\",\"interest\",\"port\",\"personal\",\"failed\",\"governor\",\"california\",\"give\",\"v\",\"lines\",\"germany\",\"battalion\",\"introduced\",\"prior\",\"study\",\"whose\",\"election\",\"movement\",\"news\",\"idea\",\"already\",\"usually\",\"students\",\"smith\",\"score\",\"quickly\",\"blue\",\"complete\",\"overall\",\"told\",\"our\",\"bill\",\"reception\",\"especially\",\"queen\",\"asked\",\"woman\",\"estimated\",\"turn\",\"indian\",\"food\",\"evidence\",\"education\",\"district\",\"green\",\"k\",\"stars\",\"department\",\"background\",\"teams\",\"novel\",\"square\",\"arrived\",\"writer\",\"britain\",\"claimed\",\"grand\",\"living\",\"plot\",\"cover\",\"flight\",\"decision\",\"earth\",\"loss\",\"peter\",\"person\",\"issue\",\"anti\",\"whom\",\"room\",\"effects\",\"science\",\"speed\",\"carried\",\"minister\",\"press\",\"uk\",\"past\",\"sometimes\",\"surface\",\"bay\",\"limited\",\"richard\",\"structure\",\"mark\",\"p\",\"entered\",\"ny\",\"civil\",\"industry\",\"latter\",\"remaining\",\"response\",\"episodes\",\"fifth\",\"becoming\",\"larger\",\"material\",\"appointed\",\"debut\",\"operations\",\"la\",\"scenes\",\"suggested\",\"god\",\"voice\",\"centre\",\"leaving\",\"length\",\"higher\",\"immediately\",\"depression\",\"language\",\"self\",\"network\",\"changes\",\"shows\",\"running\",\"daughter\",\"village\",\"naval\",\"cut\",\"approximately\",\"winning\",\"services\",\"provide\",\"producer\",\"defeated\",\"hot\",\"tracks\",\"commander\",\"view\",\"los\",\"islands\",\"car\",\"virginia\",\"shortly\",\"finally\",\"related\",\"proposed\",\"size\",\"percent\",\"helped\",\"subsequently\",\"course\",\"compared\",\"lack\",\"soldiers\",\"commercial\",\"date\",\"natural\",\"current\",\"railway\",\"pressure\",\"married\",\"might\",\"report\",\"supported\",\"intended\",\"pop\",\"wide\",\"influence\",\"today\",\"nearly\",\"face\",\"soviet\",\"brigade\",\"professional\",\"agreed\",\"planned\",\"experience\",\"dark\",\"fans\",\"feature\",\"leader\",\"cost\",\"child\",\"officer\",\"edward\",\"destroyed\",\"effect\",\"ball\",\"your\",\"manager\",\"create\",\"regular\",\"upper\",\"health\",\"extended\",\"longer\",\"trade\",\"awarded\",\"nd\",\"fact\",\"museum\",\"initial\",\"themselves\",\"done\",\"empire\",\"private\",\"officers\",\"dead\",\"countries\",\"singles\",\"really\",\"spanish\",\"contract\",\"something\",\"forward\",\"lord\",\"associated\",\"information\",\"captured\",\"cm\",\"nature\",\"chinese\",\"pacific\",\"remains\",\"jackson\",\"chicago\",\"federal\",\"whether\",\"friend\",\"mostly\",\"fort\",\"probably\",\"guitar\",\"copies\",\"yet\",\"billboard\",\"singer\",\"issued\",\"location\",\"plans\",\"meeting\",\"leave\",\"primary\",\"energy\",\"corps\",\"books\",\"numerous\",\"friends\",\"composed\",\"pass\",\"changed\",\"key\",\"minute\",\"majority\",\"independent\",\"minor\",\"includes\",\"lyrics\",\"christian\",\"removed\",\"cause\",\"buildings\",\"problems\",\"appear\",\"mixed\",\"regiment\",\"always\",\"j\",\"inspired\",\"greater\",\"mary\",\"difficult\",\"moving\",\"discovered\",\"albums\",\"canadian\",\"edition\",\"got\",\"broadcast\"],\"x1\":{\"__ndarray__\":\"IzLIQ3A3DMA5g6K9dx73vxQplM/Wzfa/jAaG/JWaDUDSNZvGbYwSQHhAiMeOIhXAl5r0bE/CGECyuLDdob0XQAIcU/DhSQ9ATduZVjxUD8DUuhdyxtHzv/2IW6fzni3AbEySkCPt8L+ZVAdRrTsXwOZu3Zz1yxhA4BGcLrXiLMDVDWYF+of6vw49nf5fvDDAvmIV9SVkGcDs8a86/ecTwH+gxgAe2jDALktlAk1OFsCY61EUhMIXQAqhuncohjDAiKe1GqfKH0DN43JTsjITwAA1rljYTzHARa0VaAB7MsB63wrvPtkwwKgADfKKmiTAKY8rMarVKsDP9vvdPL/yv5PdgcG3qRBA1Qmj3VtNLcBXUKmKZ6QbwJjeMHaSIgzA2qHepAyAMMBcE+WE31oCwEgp9tVVewnA667MkKXjF0CWIG5u2ZE0wAwHEYxuHS5AHym9lP1SA8DGQT2cU9IXQE3ZXcP4vTDAd8S1R00nMMBsBG/eHW4IQKLA8ltHZSPABgHDhM+dEsArmI7qW58zQLcKQ/IhnRlAeO2sbzV/BcBpSvAn8yIwwNkHqA+CRSPAtx75QE7I+b/0X1fkzHoMQBCcDGhj9SrAJ++z+/z9NMAMNbd7iHggwMVniYdKbRHAAEhmH9U28j8bdloHZWcgQCZpLyG+WQDAZK4udYdOEUDSysl11Q4gQGHROAj3YMu/pk+dfhaNLsAIiBuVizbtP26AK5BDICDA0//B8WDhEMDV6nASFUMQwOdyZw3UTTdAkhzLzh63EEDD8ubPil4uwAWy07gaxiHA1d+qxyZNK0DJyvg+OCInwCP99faQVDLAJvUN1ZKqHcAIeCUWjFgxwIh+AK1AeTDAnGxUkQkiK8ALbtWeFb8iQIxgYav+AQjA8gR3h25RIMDE4yMSOwM1QP1uuQurFDHAB7fQXsiJ+T/ApN3HVPEowLpBQiCTCxdAJmBWNF4WJUDWtzkWp4UpwCMviAGeOhzAJreakiJKDcCiF0jGn5EGwG+bcb2Z0CnAMJNll7w4IUBV4Lhw2Xn+v6OkIbq5jhPA6+9tswaQC8B+cOCf5VEowOLk+CdsFypA7jNMKYJ3x7+986T6YX0hwP+Gy2lCEifAGLTeyrmmKsC6VDPv4IguQNZqzDviICfAMz93H+Hm/r8iN2kBBv02QKt+mylPxA5AVzMS51NxJMAvjZIapSYWQA+LpwUteSHAl9sFvdgfKsCYa9Hpki8twFoIjvvv7hrAZh4WG+HwJUAETs8EEfoPQGGEL2RlNzdAVX9e567mHUBSj3U3ChUxwBG7dWhnADZA2QEOfZSuNkDJYW8qjeA0QHptoSMLFf6/qt9456XbIcCiEagFxVswQAnnjmlipTDA4m27ZQg4NcCfmr2hK2EowHRJrvE5/iHA0OGWdLN2M0CsgZN4MxEhwDS9sXqQvyfAvPzJ+8pfEEBTlSXYlochQFzWlbN+XyLAqz/uoAzYE0D9NPQdipUowPJVKem62jRA96+V+kdAEMDg6/vhjQUXwI4ar/IIQSzAStbPIGmNMMB6jWTRubYnwGLcVnQBbgPAiDCECKraLcBLZ/RKzKARwEYGjs2iffq/Ki27pCTsFMApEafT2zchwJpyhtjMSvc/1vf1NyfQIMC9ewgZgNQUQKbph34DtB1AA9Ob/7uCKMC2MD/VP/IXQKzP539oxh5AAFA8HVBaG8B7GpBEk78pQDalW7FkWxRAy2Eu2WQeMsBGm9vHTgIXwFR/ke8PEyTAsdq9bt6CE8AYUSzrBmgzQJjHSNcOETDAshuuvYV7FsAnUQRSO6P0Pyc94H8qkTZA2pQmMHMfBUCTz35n/bUYQK4WjPTbggPAjEVWk5P9FcBhrtTBeScZQK06Rbxs/ivAhKMKCY9QFsAKi00Ozh4YwBPCj78p/TTADIj/iM1+K8DSz6DoiXonQOtDDDtcQCHAoa8L1ZdIMsCYaqSm1i8VwK2QdK49lSbAGwGyNxkqH0AXp4s6bQIZQCPS+W4JGxbAO95KkttOJEA3s46emYobwMzAU4Juiv0/Rghdkgr/DkB7Bfn/S40nQBDOpBXnLSZAVsHq54u9EMCbU0vFx5wVwMM5IvEmbfG/FmpnpeO7KUChpR5ZBkbQP7YgLEjgTybAcvh5QJXz7z/LMPrcZaQTwBass6j0PDDAlJzBqD0+FcCzJAAzVOwfwLk07s1nsifAqwiz3H1kEcA06msUajg3QLuVaH9dFPy/SrEjtOxXFMAoLzksYckuwDpRdG7l0xjArMcEDZ07FcA+2Q5Ve7EOQBVtNkONGC1ABi/W1j4hIcAk/BbITBMCwMqsQCf4CgHAPPdJJg7MKECGnfQYTgIHQFupL8zcMyVAkeChluqmM0Adp9Inkw4RwGgqqZ/bGDJATcP0oaCOJkAPrUr8Q8oSQE2p86FGOTRAMsXWyWf4NcC4Nla7tFMRQDNDyK7lNhHA2vzFB109MsC4nnGKhzEywFEbcFM9ny7AwBTfd5CxNUCad5UmMFUkQBZfFlbbISTAvN44xVzbJsBTYx5ux44dQNC43rFFcSlATFcdCHP4JkAG61g6MjknwBG7GRiz9x9AbB4cD7TGKcCpaFL5gHouwBI0TfTOQCjAYMQ2oFt/IsCZA45F0L4sQEDnxKbalQbAewdr5blaKUDpqnYfloo1wGi5e+29NRnAghMXJWlu+j9KMBeav1MgwCikgeuXzR7ApMhNwpN6K8A7umn738slwBJ+ryQMjOm/8YrqRBrPHsDEQuv1FBcwQGHPNo1ZqRPA++hctlSuDUAGE/sqWlIVwIO/yj01dBvAyyDl9aoqIMDYNdZurg4xwLoJAgb8KjHAsNBaYRNLDMBIRylHeXwyQPxHuJBH/Ni/NUJ3N3ioJUAWzxQAXakBQKb0QWoOKBbAp9Q3IT30I0AYmHWMzszCP3Kjr++CsiBAXxpLR6uEFcCDBxUN2LIXQMO0itIDnRPAwioMDAZsLEDhV8akm5vqP8yKg2qqjAHAzCTh0jSkEUBFRUIWzDYRwIhrX4hZyCBAksoPVyolIsB1TypPuRgiQMkzx3gK1SJA7E1cNlcoI0CgRvFRMDYUwIgj4E+jsPe/LJNlHuleFUCOVw5fo9YxQOpMjd1FhwXAv8v2e7SSD8DYL9W271ccQHO5BMJ1VSnAoiqdxKwhNUBhE0gNaAcDwClpj+nn/i5AMbBIKtyZLsDqYK/Ti8QSQOg8KQqSNvy/B9Yu4Z8s7b83dd9RIqwEQJB3eS0PRxPAgOJhRM6zJ0BKirQ2XPUSQPDkrho4hQfAZHwYGfJbvT9CdUtFDwciQKrmA/VLsTTACDUlwWaJD8C+jjK8lGrvv9mwyBWuMCnAQPCkAUy/JEBdCkhud3EjQMmHKmdLjg5AKY5WtfdQL0AlCkvEGL8TwBbCb2fQUyLA0E6bZFuuF8BOFO5X7JA1wGvX7jtKgDFA97fnQJ48L0DqkJhE1cIOwHpv+TrvXShAb+mUVnNrHEAk67EInskyQL9jW6v4xyhAbg0upt1TKMAqR4lG7gYrwBU5j/hbhhFAJ8iJ94ohH0B1TKpajd0hwJnJYjxzBSjA7kKC9FzZI8C8JYvguSGcv1zOe4erlQHAcvsajdD4C8DpSW6XNGIhwNqKmLzhTizAsTqc1QqVKMCgTSeMJOIgQLoPaR9ZKSHAtV1lylqeKkBQO7C32EgOwO2sEYwGG/k/J1FjoVvvKUCo8JjvpdsXQATcZlCsIC5AgLSIydH+L0DPBmWtuWIcQPOQPWzSkDFA8kTefaNjJMCrcVilymciwCd8dGkbQifAWXl0F9oWL0CDQCoAI8sgQMQyvpCPvjFA8+U2bMDbE8BE6I5zUEowQGGyi908rSJAuFeJ/PbZDUDA+gtOxMEqQFLfVmuPfw9AZhh1BfroIcCal2MaVMbWP34eqlieZSpAbi1eOwWPIMBjaCZwoxk3QDOHyn00FC7AwIL1MGiLIsCAy3mLbIDtP/WiZFhVGyzAS5iVlfoLK0Crz/IP2l8rwGcRhApcvw5AvK7DEwtJiz+60elvkU4YwLPEu70RWQpA4e98fsYuAcA7ZcV4k9osQLA5pzRyueg/320f6a6aHMCrIg+bX3kgwB8/+OGHpxLAKGk4mwbaDkCXiLtnkqPgv2MHjs6WkCLAMnU+WSvZLcBSgJ2fHKUUQJg7S8f3DhvAxeHWlvt8H0Dz8n6BufX5vwYKqjnUOzHAVmpvNUBL9r8C29VWkMIfwDsFa/wKziXAgNf3XW0VGMAYlqfuNiIjwND/wh6cbRLA8Dk5W4QGB0DDYrvla6QtwJ50t38L4CJAWH1XgTSQKsAeDUBuCQYyQJp0tcxKHwRAYI7kAsWxKUDtgM56RNkuwKLe/NraJB5ACqVDLdCNLMCMfE904WwhQGDqIf+pjDXAQawE5mUp9r9Y05TZTjoAwFQf4enQQfm/6rS3XI3KCMAW8/5tc6shwF2U95ma2SDA51OqEFjTEUC5QSjlHIYQQIyCnR5u/SFAva3no7FPAkBp5mrSTVMqQKyafXj5vSTABTO6mvaJIsCsT7gz/PT6P4vYdpbWzynADH8tsQ39IMAh89GCY+8bwLGFTd2X0BnAoDtzj+sJN0D4rvmFLtktQIcYkgAFkTLA52cBKmQCN0D6fJ/xkjcWQBr/USppog7AaBYEb+/m6r/Q4fev8LYTwKJmPXZePDhA2tsQxAZfG0CFagvllJ02QLpg7aE+PhlAbh/F2ZmnH8Bb9x5RDJQyQHHiRvDl3zVAFo+c4WkUMEAamaIL84wxQHJbWUUJAR5APFGDloArIUAF4NkXeloewFaSTMjiBTJAMYcC419ENkB9638ezC4owHQTc6uBHhXAEgXvki4aJEDBiYH909IiwDuxfarxfzNA5zuKMOBQFkCPdVbRdyoRQFW8/mGnHfu/B1F7s0aEAMDzEYQIFpb4v5l4Mo0ele2/4iP6nWmoHcByuDmGZMIMQE0b/zZRruM/NTykg4YqLcA822VTmlgnQC41POJMQSxAwReKrnhdKUC6gwmkP10PwKxhmn3qRTJA3D+axLO+F0BVlIQ8u5YXwKerM0/hrSxA0ymQ1xOyIcBOAOdbNyAyQLK8vDHdBwTAphFu5JAr0j8USyVvl+qzPzB6e/qT+S5AT7mN7cU3AcBVrBRlrF8AQAkPW6g+9xLAj94eeYs37D+A9swwS9AkQEuZMGuQuBLA7hiiPT7+IsB0BXTuLE0sQFqvvv2o6TNAjclcAvjC8D+RDa7llx/Qv/YyVQ0hWCfAW7bSai/V2b9XUMRQPysyQGFobuEoPiTAufdGO/ntN0D8LpdbVo0ZQDjKv1CvgSXA+r1+/6rPI0Ahz0+EK1EyQOBtGp+yPDLAxgtmJbwsEcC8M+JSwMUiwFB78f9gRui/DqEMXFAeAkAZNewFUEMwQILNjkJvVyxAaQv+H/ikM0CWfuK8XGIHwPkZVK6V6yNAjrBy+kWOMsAaYxaR0Y8gQIlvrKWJHCDAv5tBRlDO/r8WZvUuxBocwKynu5znbxjANvwv1w/bL0D/rPJkOBcwQKcLa0Ck8/I/O6o/BoQ4GkDPiP30c1vZP7MwgXbzJS9ANuIkXQelLEDJrBklQVoVQNH3FQvZ8CVA3d16aM3NEkBJEC3S/3UkQDDwNm92tSHAs01n3tS57j9/ObHiS/YQwLyQx+8lTRrAsHysMB9D6T9chE8ONFIhQMDKt0FI/StAd3fgq1c2HsDjoYlrGacnQH2ldmy/xhrAPgmfqtMIHsA6+2GFud0HwP/weYiViQfAERLI4cAVHcAQ6Oy6AosbQDwr9HyESBxAuNvF2SgqMcBfvhZHGu8KQJGBYf6F1yFAgAij6S+tJEAcniMvqhcdwOjDo9oj4s6/mCc0zRJc9z8gxiafCEYowCtGpCTmaC/Ao9MAJZN+F0DWKv5EmlILQCKNbwwP3SLAmvKBGfpVGsAoIDrldNclQBY0GfE3yDBAk7zGm+IDLkD2ORKWZOLDv9kc39x5WiNAQ4ZUJt4xDUBGbiFlv9wwQL1ue8YqVBjAs2f8CRQyGUAVVjK8DvwZQPGSmVMiBSbA1AqGYjyuEkDWMSygxGsfwN3t/8fEFDRAXeM4cCRTIUC9gMq5eHYlwI4B/g42LRHArWOjdJPcM0ARUvIZ0XMkwNywyxfWRSjAEpjAOpT5IsD+EyzeLzIjwLYTpvXr8zRA8DvGA5slJsDv/LWjkkIoQDwpW7KBGDNAB/n6BFzSIsCRj7QfbEoQwIgRJnp1GyfANRnF1JbBNEB8NhbGdrgTQCAJEGz85zJAktdTFK4GMcAeYEz8Gy0XwOUKKiV/qybAxOjUVc8IIEBawl5UrT/2v2oHD5OQtuE/1xLiowIS57/yPH7NwRYmwNlLsPPTrBvA3tkRQ2VSLUC/4ZMDhy4iwNdNotvFoRlAx88g5QxMMUA/k1S7A3AjwGOQRt80+hhA88FxKEKNKEDaMsgiAhT0P4kq7VQh8ynA2n4lES78KcBJFT4tFEwuwEPyCGj1Xy3AnfZ/SfdaEcCp2tuAHL0gwPRREfxY3CHAFnq8kD6MHcB0qPbEstjxv/j8H0PW9CzA+uSbyB4RMcDESvwHMRYTwEK3p4lVMyNAl4gTv6H6IcBbV2VJoH4DQK8t1HvHnihADTOWey2gJUCV+09/cK0JwAFNGQxPvPc/CreqgFIDEkCzHWQDyRUiQP/jVaIFWipASXrtUb7/LECet33xdKozwNTUYjn2vCXA5/O928AC3r+QwCSTj9s0QB1RjEI+ayxARoCN8TWGNECvs2Fc1mDlvxlWEH7drzDAaZUxdmUTHcBGFovW5MMwQHSbhJGUtjZABgMs95fiIsCAuBEB+e2TvxzQ/bgFEjNAnGJqAXhoJECV0a7IR7oFQNTCDwVJGiJAtIOF1YN547/2mI6AZRDVvwTzxbtOJQDAMbODlv+2EkBqJu1klekIwE54vVuC4QhAEjxT2acpBEAeVnBwiBQawAcqozHG9CDAgTaDpRMKKUCEvqq9ja4zwAdAASN5NSbAFhBU3KvlMkD+71oLRY0WwCiVAcrtOBbABhuY7myIBMDE9duR4lEuQLqIlcW/fyrA13S4MUIeAsA+815KoiDyv9gRLWSa6irAlj5XTXVhKcAfu7UnMTEHwMrNqH4/YzZApyvAiJat479F/QvMYrf6P0NNLE7IJP4/3fZXDx+DJECzvOncKCchwFhIgViDOAtA7hlnGMz9FEAlkCHOyGwwQJxSyFFgsw/AcqARPuHv9T/cOWqtBHsdwEvMw7X48QRAL8uzg7WLGUDeroTS5nMvQKtG1l1OmiNAHkxe1gzNFcB99hGlMJwrQPpLMRG5IBHATwtwujENEsBg1eM3fTsRQBvh2dK4sxlAa816gv3eIsBm1kgw0aUAQOiFJpgKkjFAU0ISqRPxK0Asu4w24E0LwJ+FfLp8OxZAgIlRt3b9GMBFrezsasUXQLKC0D8tRCZAXfdlKAzk7z9oq2p4O/wrQCxrnp9fZxDA7H/RbcLlEcAkOWA3tBnRP9/8GCOKtiRA8MKEDTtBu7+YmHGSABe/P8Hng6XQxyJAoHWway9pGUBIzA/dMJUUQOLuGo6N7yBAC/ckqXKXAMBYM+f0bW8CQGDM1DdDbR1AZEh237E6I8BRcFtvnqohwKt8Arap8gtAztohKFSoEcDmhU9+K9INQOHWY1sYgCtAVtvdVHvRDsBpfVYXbwM0QLXFl23zeCzAFs5gvr4QAkDfsFBspQQOwB8JibdQ2QfAVNgfxMjoEsD1TCQB03QFQEW6S7EUIDNABKPn5iLJJEDNz1YZ0FPmP7ye3rChLiZAdszbBld8IkAj9aH16ZkYwCZa6EwgDi7AX71SjDfOK0DEMP0duSIzQEz3OYj6TwpAcGEBEGhB6z+LdjP7VQUXQE4DjIar6RRAVC/WikkzEEAQ6Ax5VwkiwM2ejgw8NBHAEUxMcrGDHcA248ZyeIYUwGiYrwYeAAVAoL5urh58GUC/9qbyE88XwLCKZYBnDB3AYOH7Zib5wL8NoO5LvL3wvygU22+VBwHAj8rBB5dUN0DQrH4WlNsrwLm3xp6PKhlACVSD9a/rBEAcX5X4MhHbP9T6NoNYghBAaf+Xm8eNNED6tHWzRuIHQPyPGIlEhBxALYFqJMUbIUC1ckK7XyEdQNMKnWjsARFA/zpwStrGFsB0m9d/OG8HQOxmvX66c+6/lsxiFcZeBsDNS9dMxWQiQG7LFBTYhyLAug6x1azcGED7DSbg/TEawIfsj2OtpSbA2fyp6hVyB8BniFOx9WHVv4hTG1MvRS1A7WzElcwUHkBYlFue10ovwNcvPNv3KTZAnW0lqXZBFUA34/DqG9f3P+183jHOiwXAS1OvXC8fGcCh6SKJ244mQD+RsBz+BRzArZ0Ln9b/B8COs07lpuwdQGW7xzvRiRhA4AVVM/sb+z/BCHFNVMAewP1l/KEPxh1AzrMHOheTNMBE3oM6vXv0v5s4nX0DcAnAYnuFDe+j9T+huL5mYEb/v+yAR/cOsjFA1HjeDavPJEDIEnVCR5ghwItsEme/6inAKdhO0miSGMCA/6AM6h8GwEbpnnGzsAjAEO869XQkE8Ce7mnYgmTgv55i0S/hQhhAhiUTi8lXEsBRzROXlVsaQFrWNvghpCJA3rimE3M8K0DBFyHFOdQTwEW4lFgcriBAZ98FIJivJsAicmkKfLcHwNTxoKj6P/O/WDmh8J3uCEB+Sn75U2cawO796q9CMTLAhX68pvgLLkCPbVZZjmUhwM1t9M2M0xTAharTfVRVMUB7jbhSjIIxwDaveekYJydAgNEAb4JwHkAPFPSwWjUYwLIg3W7ZpzZAUUEdnwyQ8j/kVWOy0xAYwCKNGV3eiAbAXOwhJ/vyJkA0wVbONrASwBMeiPPNXyHAbhIDdp0KH8C6k2HB04w1wKbF17KqHRtA8zBymwbI+T9pt6Y7C4IiwM6g8f0cKBXAuGJ5cq6QGMC5pcjYdKAjQFI1Rx65UgpA2sv8EBXcCMC1gwB6WqciQLFyvD0KWiNAF+5eyIvR6z8yxOWMdE8fwAG0z2SwdSVAQDmGTf0qJUCYO7K13iogQJJxMLcUcCdAVoIK4Lj0LMB2ucG39FwowKiuViyUqSZANL66o3XIEcC4NQCAPmT0Px+tK13CrhjAeHqGBoQ5CcBKw5af/x/WP5VNljiBkx7AYh3yeiNmHsB2nhdaNuH9P7uUX830RjRAbvMZd5xBEsD2prYV1xn0P1hWzJCSGTNARUrZ57/8HcC/vJQKNJIZwCKcIuoGLDRA5ApF5YwL0D8GHYYKDGwmQA/PLcw0rvs/5Q1sBkePHMDWCF/SbvXpP61T+Z+WHAHAFAaJk5esEsCmeFtDu08EwG+YfR4cbylABAog+nyYNkAFHBl1rPEgwN4bE2qKWDJAXCjidc4fNECw14VBonEkwLWqEHl9jhvAnYkCQvdlBcAuBjuHDLcbwOATy5xU3OW/uJXuSWQcwr9otL2oU0wgQGw9MGfKxCtAQXR68/S4JMCm98PhofAzQNbCQKMdIzRAf6SGP7WLCcDq970HxRf4v+5QJ43Y8h7AhCBIulCtFcDm/BMVMqskQEQt3EYk9QBAvp4giwRzDUBNTX93/n4mQAKegfM9gBdARhBw+UmdJ0BB1sC1crEIwAE4+oAMxw7AVwBm+1pBLMDgC3Y/4e8gQMxrkw/oTSVATFOXVIDI5r80MJVhfRoXwEoEqEkNGwZA2gkeryZrMECS927WyAghwEQB9rmZxijAncXSiT9HM0A7ZaKFEYUuwIXOnwt4pRvAgN5XpDxa+78zMdd/cakCwPB7rEeROynALBjZMf1JNkCKGwx8ZlEwwKIH65I5YRFAKox7qi+IJEAqU3ruwO3aP2k8agbEWS7AlMdL5q39K8CaRfemENUowDs53WoBKiBAbjb/MhG3KkCzLhiesjopwLThGriEuBtAZoCF1m7yE0DSwgtqQtABQF/Qd4DPTxbAXBkSaBHhJ0AuTxy0fG0MQIDXOqpP0sK/tBltJUL0HEDuXYXMhCMdwFsgNhMxkwzAhd1wTrsTGEAFD1nxUN7dP62iL+CvHRdAsSLIdfubLcASnyjTZgsJQD0wl//bDgPAnn4swS94B8DfbdqLCVUNwANWKtzenCbAANtohGr4KsAeI0X1+NokwNHv1Ot20izArskUFrKdJcDeyTjxC1kzQLbmMTEX+hHAhzQc68Th8j9mwpJWmyEcQLfX6u8vcCFAREanUWHxAsD/eDGznawBwEAQFQ8eISxAvycRyF+fCMCWzAZn3nUBwH7d88XGQQVA0aNuggiRMUBFtmfAq1kiQFOtA0sAaDFArTLL6TG4A0DAKtmYJV8wwHKdF9nREv6/+KV5rGmdJcAoKCeVgL8KQCy5vhCKKyxAicgmYSedKMB2sJQks1AYQCzPOFIhMzFAFOimaeCZJMDYw7zg3d8NwJBRIit33dy/tKsBdlqjGMCaTFdNwkT5P0gZEkwLpitAKD39AJv7JcBDbAxdbgwiQLXwsuGtCDJACw7FlYSTIcAvZNF6NnQLQDZJEbH/avK/lAUfmf36JECh99vjWK40QFUPgiEcnCrAOIQN5sB3KMBelAyGfHM1wAHomUIo/S1AxaidRQ6WIcA=\",\"dtype\":\"float64\",\"shape\":[1000]},\"x2\":{\"__ndarray__\":\"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\",\"dtype\":\"float64\",\"shape\":[1000]}}},\"id\":\"bc3c9a8e-3ed8-4a38-8ff8-b989b65ec01c\",\"type\":\"ColumnDataSource\"},{\"attributes\":{\"fill_color\":{\"value\":\"#1f77b4\"},\"line_color\":{\"value\":\"#1f77b4\"},\"size\":{\"units\":\"screen\",\"value\":8},\"x\":{\"field\":\"x1\"},\"y\":{\"field\":\"x2\"}},\"id\":\"47ceadbe-cb1d-4725-a4a0-c2a0315cfb54\",\"type\":\"Circle\"}],\"root_ids\":[\"cda62ed2-5c7a-4244-b9da-277c6f9c17de\"]},\"title\":\"Bokeh Application\",\"version\":\"0.12.4\"}};\n",
       "            var render_items = [{\"docid\":\"b8465628-deca-44c3-bde5-7d6d546301c8\",\"elementid\":\"b4b99648-741d-412a-9752-4316e1c99103\",\"modelid\":\"cda62ed2-5c7a-4244-b9da-277c6f9c17de\"}];\n",
       "            \n",
       "            Bokeh.embed.embed_items(docs_json, render_items);\n",
       "          };\n",
       "          if (document.readyState != \"loading\") fn();\n",
       "          else document.addEventListener(\"DOMContentLoaded\", fn);\n",
       "        })();\n",
       "      },\n",
       "      function(Bokeh) {\n",
       "      }\n",
       "    ];\n",
       "  \n",
       "    function run_inline_js() {\n",
       "      \n",
       "      if ((window.Bokeh !== undefined) || (force === true)) {\n",
       "        for (var i = 0; i < inline_js.length; i++) {\n",
       "          inline_js[i](window.Bokeh);\n",
       "        }if (force === true) {\n",
       "          display_loaded();\n",
       "        }} else if (Date.now() < window._bokeh_timeout) {\n",
       "        setTimeout(run_inline_js, 100);\n",
       "      } else if (!window._bokeh_failed_load) {\n",
       "        console.log(\"Bokeh: BokehJS failed to load within specified timeout.\");\n",
       "        window._bokeh_failed_load = true;\n",
       "      } else if (force !== true) {\n",
       "        var cell = $(document.getElementById(\"b4b99648-741d-412a-9752-4316e1c99103\")).parents('.cell').data().cell;\n",
       "        cell.output_area.append_execute_result(NB_LOAD_WARNING)\n",
       "      }\n",
       "  \n",
       "    }\n",
       "  \n",
       "    if (window._bokeh_is_loading === 0) {\n",
       "      console.log(\"Bokeh: BokehJS loaded, going straight to plotting\");\n",
       "      run_inline_js();\n",
       "    } else {\n",
       "      load_libs(js_urls, function() {\n",
       "        console.log(\"Bokeh: BokehJS plotting callback run at\", now());\n",
       "        run_inline_js();\n",
       "      });\n",
       "    }\n",
       "  }(this));\n",
       "</script>"
      ]
     },
     "metadata": {},
     "output_type": "display_data"
    }
   ],
   "source": [
    "p = figure(tools=\"pan,wheel_zoom,reset,save\",\n",
    "           toolbar_location=\"above\",\n",
    "           title=\"word2vec T-SNE for most common words\")\n",
    "\n",
    "source = ColumnDataSource(data=dict(x1=words_top_wiki_tsne[:,0],\n",
    "                                    x2=words_top_wiki_tsne[:,1],\n",
    "                                    names=words_wiki_top1000))\n",
    "\n",
    "p.scatter(x=\"x1\", y=\"x2\", size=8, source=source)\n",
    "\n",
    "labels = LabelSet(x=\"x1\", y=\"x2\", text=\"names\", y_offset=6,\n",
    "                  text_font_size=\"8pt\", text_color=\"#555555\",\n",
    "                  source=source, text_align='center')\n",
    "p.add_layout(labels)\n",
    "\n",
    "show(p)"
   ]
  },
  {
   "cell_type": "code",
   "execution_count": 34,
   "metadata": {
    "collapsed": false,
    "scrolled": false
   },
   "outputs": [],
   "source": [
    "# This assumes words_top_wiki is a list of strings, the top 1000 words\n",
    "words_top_vec_wiki = model_wiki[words_wiki_top1000]\n",
    "\n",
    "tsne = TSNE(n_components=2, random_state=0)\n",
    "words_top_wiki_tsne = tsne.fit_transform(words_top_vec_wiki)\n",
    "\n",
    "#words_top_wiki = counts_wiki_top1000\n",
    "#words_top_vec_wiki = model_wiki[words_top_wiki]"
   ]
  },
  {
   "cell_type": "code",
   "execution_count": null,
   "metadata": {
    "collapsed": true
   },
   "outputs": [],
   "source": []
  },
  {
   "cell_type": "code",
   "execution_count": null,
   "metadata": {
    "collapsed": true
   },
   "outputs": [],
   "source": []
  }
 ],
 "metadata": {
  "anaconda-cloud": {},
  "kernelspec": {
   "display_name": "Python 3",
   "language": "python",
   "name": "python3"
  },
  "language_info": {
   "codemirror_mode": {
    "name": "ipython",
    "version": 3
   },
   "file_extension": ".py",
   "mimetype": "text/x-python",
   "name": "python",
   "nbconvert_exporter": "python",
   "pygments_lexer": "ipython3",
   "version": "3.6.0"
  }
 },
 "nbformat": 4,
 "nbformat_minor": 0
}
