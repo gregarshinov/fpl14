{
 "cells": [
  {
   "cell_type": "markdown",
   "metadata": {},
   "source": [
    "## Practical 1: word2vec\n",
    "<p>Oxford CS - Deep NLP 2017<br>\n",
    "https://www.cs.ox.ac.uk/teaching/courses/2016-2017/dl/</p>\n",
    "<p>[Yannis Assael, Brendan Shillingford, Chris Dyer]</p>"
   ]
  },
  {
   "cell_type": "markdown",
   "metadata": {},
   "source": [
    "This practical is presented as an IPython Notebook, with the code written for recent versions of **Python 3**. The code in this practical will not work with Python 2 unless you modify it. If you are using your own Python installation, ensure you have a setup identical to that described in the installation shell script (which is intended for use with the department lab machines). We will be unable to support installation on personal machines due to time constraints, so please use the lab machines and the setup script if you are unfamiliar with how to install Anaconda.\n",
    "\n",
    "To execute a notebook cell, press `shift-enter`. The return value of the last command will be displayed, if it is not `None`.\n",
    "\n",
    "Potentially useful library documentation, references, and resources:\n",
    "\n",
    "* IPython notebooks: <https://ipython.org/ipython-doc/3/notebook/notebook.html#introduction>\n",
    "* Numpy numerical array library: <https://docs.scipy.org/doc/>\n",
    "* Gensim's word2vec: <https://radimrehurek.com/gensim/models/word2vec.html>\n",
    "* Bokeh interactive plots: <http://bokeh.pydata.org/en/latest/> (we provide plotting code here, but click the thumbnails for more examples to copy-paste)\n",
    "* scikit-learn ML library (aka `sklearn`): <http://scikit-learn.org/stable/documentation.html>\n",
    "* nltk NLP toolkit: <http://www.nltk.org/>\n",
    "* tutorial for processing xml in python using `lxml`: <http://lxml.de/tutorial.html> (we did this for you below, but in case you need it in the future)"
   ]
  },
  {
   "cell_type": "code",
   "execution_count": 1,
   "metadata": {
    "collapsed": false
   },
   "outputs": [],
   "source": [
    "import numpy as np\n",
    "import os\n",
    "from random import shuffle\n",
    "import re"
   ]
  },
  {
   "cell_type": "code",
   "execution_count": 2,
   "metadata": {
    "collapsed": false
   },
   "outputs": [
    {
     "data": {
      "text/html": [
       "\n",
       "    <div class=\"bk-root\">\n",
       "        <a href=\"http://bokeh.pydata.org\" target=\"_blank\" class=\"bk-logo bk-logo-small bk-logo-notebook\"></a>\n",
       "        <span id=\"2cc92f1f-9e06-4ead-9b99-fafc86e413b3\">Loading BokehJS ...</span>\n",
       "    </div>"
      ]
     },
     "metadata": {},
     "output_type": "display_data"
    },
    {
     "data": {
      "application/javascript": [
       "\n",
       "(function(global) {\n",
       "  function now() {\n",
       "    return new Date();\n",
       "  }\n",
       "\n",
       "  var force = true;\n",
       "\n",
       "  if (typeof (window._bokeh_onload_callbacks) === \"undefined\" || force === true) {\n",
       "    window._bokeh_onload_callbacks = [];\n",
       "    window._bokeh_is_loading = undefined;\n",
       "  }\n",
       "\n",
       "\n",
       "  \n",
       "  if (typeof (window._bokeh_timeout) === \"undefined\" || force === true) {\n",
       "    window._bokeh_timeout = Date.now() + 5000;\n",
       "    window._bokeh_failed_load = false;\n",
       "  }\n",
       "\n",
       "  var NB_LOAD_WARNING = {'data': {'text/html':\n",
       "     \"<div style='background-color: #fdd'>\\n\"+\n",
       "     \"<p>\\n\"+\n",
       "     \"BokehJS does not appear to have successfully loaded. If loading BokehJS from CDN, this \\n\"+\n",
       "     \"may be due to a slow or bad network connection. Possible fixes:\\n\"+\n",
       "     \"</p>\\n\"+\n",
       "     \"<ul>\\n\"+\n",
       "     \"<li>re-rerun `output_notebook()` to attempt to load from CDN again, or</li>\\n\"+\n",
       "     \"<li>use INLINE resources instead, as so:</li>\\n\"+\n",
       "     \"</ul>\\n\"+\n",
       "     \"<code>\\n\"+\n",
       "     \"from bokeh.resources import INLINE\\n\"+\n",
       "     \"output_notebook(resources=INLINE)\\n\"+\n",
       "     \"</code>\\n\"+\n",
       "     \"</div>\"}};\n",
       "\n",
       "  function display_loaded() {\n",
       "    if (window.Bokeh !== undefined) {\n",
       "      document.getElementById(\"2cc92f1f-9e06-4ead-9b99-fafc86e413b3\").textContent = \"BokehJS successfully loaded.\";\n",
       "    } else if (Date.now() < window._bokeh_timeout) {\n",
       "      setTimeout(display_loaded, 100)\n",
       "    }\n",
       "  }\n",
       "\n",
       "  function run_callbacks() {\n",
       "    window._bokeh_onload_callbacks.forEach(function(callback) { callback() });\n",
       "    delete window._bokeh_onload_callbacks\n",
       "    console.info(\"Bokeh: all callbacks have finished\");\n",
       "  }\n",
       "\n",
       "  function load_libs(js_urls, callback) {\n",
       "    window._bokeh_onload_callbacks.push(callback);\n",
       "    if (window._bokeh_is_loading > 0) {\n",
       "      console.log(\"Bokeh: BokehJS is being loaded, scheduling callback at\", now());\n",
       "      return null;\n",
       "    }\n",
       "    if (js_urls == null || js_urls.length === 0) {\n",
       "      run_callbacks();\n",
       "      return null;\n",
       "    }\n",
       "    console.log(\"Bokeh: BokehJS not loaded, scheduling load and callback at\", now());\n",
       "    window._bokeh_is_loading = js_urls.length;\n",
       "    for (var i = 0; i < js_urls.length; i++) {\n",
       "      var url = js_urls[i];\n",
       "      var s = document.createElement('script');\n",
       "      s.src = url;\n",
       "      s.async = false;\n",
       "      s.onreadystatechange = s.onload = function() {\n",
       "        window._bokeh_is_loading--;\n",
       "        if (window._bokeh_is_loading === 0) {\n",
       "          console.log(\"Bokeh: all BokehJS libraries loaded\");\n",
       "          run_callbacks()\n",
       "        }\n",
       "      };\n",
       "      s.onerror = function() {\n",
       "        console.warn(\"failed to load library \" + url);\n",
       "      };\n",
       "      console.log(\"Bokeh: injecting script tag for BokehJS library: \", url);\n",
       "      document.getElementsByTagName(\"head\")[0].appendChild(s);\n",
       "    }\n",
       "  };var element = document.getElementById(\"2cc92f1f-9e06-4ead-9b99-fafc86e413b3\");\n",
       "  if (element == null) {\n",
       "    console.log(\"Bokeh: ERROR: autoload.js configured with elementid '2cc92f1f-9e06-4ead-9b99-fafc86e413b3' but no matching script tag was found. \")\n",
       "    return false;\n",
       "  }\n",
       "\n",
       "  var js_urls = [\"https://cdn.pydata.org/bokeh/release/bokeh-0.12.4.min.js\", \"https://cdn.pydata.org/bokeh/release/bokeh-widgets-0.12.4.min.js\"];\n",
       "\n",
       "  var inline_js = [\n",
       "    function(Bokeh) {\n",
       "      Bokeh.set_log_level(\"info\");\n",
       "    },\n",
       "    \n",
       "    function(Bokeh) {\n",
       "      \n",
       "      document.getElementById(\"2cc92f1f-9e06-4ead-9b99-fafc86e413b3\").textContent = \"BokehJS is loading...\";\n",
       "    },\n",
       "    function(Bokeh) {\n",
       "      console.log(\"Bokeh: injecting CSS: https://cdn.pydata.org/bokeh/release/bokeh-0.12.4.min.css\");\n",
       "      Bokeh.embed.inject_css(\"https://cdn.pydata.org/bokeh/release/bokeh-0.12.4.min.css\");\n",
       "      console.log(\"Bokeh: injecting CSS: https://cdn.pydata.org/bokeh/release/bokeh-widgets-0.12.4.min.css\");\n",
       "      Bokeh.embed.inject_css(\"https://cdn.pydata.org/bokeh/release/bokeh-widgets-0.12.4.min.css\");\n",
       "    }\n",
       "  ];\n",
       "\n",
       "  function run_inline_js() {\n",
       "    \n",
       "    if ((window.Bokeh !== undefined) || (force === true)) {\n",
       "      for (var i = 0; i < inline_js.length; i++) {\n",
       "        inline_js[i](window.Bokeh);\n",
       "      }if (force === true) {\n",
       "        display_loaded();\n",
       "      }} else if (Date.now() < window._bokeh_timeout) {\n",
       "      setTimeout(run_inline_js, 100);\n",
       "    } else if (!window._bokeh_failed_load) {\n",
       "      console.log(\"Bokeh: BokehJS failed to load within specified timeout.\");\n",
       "      window._bokeh_failed_load = true;\n",
       "    } else if (force !== true) {\n",
       "      var cell = $(document.getElementById(\"2cc92f1f-9e06-4ead-9b99-fafc86e413b3\")).parents('.cell').data().cell;\n",
       "      cell.output_area.append_execute_result(NB_LOAD_WARNING)\n",
       "    }\n",
       "\n",
       "  }\n",
       "\n",
       "  if (window._bokeh_is_loading === 0) {\n",
       "    console.log(\"Bokeh: BokehJS loaded, going straight to plotting\");\n",
       "    run_inline_js();\n",
       "  } else {\n",
       "    load_libs(js_urls, function() {\n",
       "      console.log(\"Bokeh: BokehJS plotting callback run at\", now());\n",
       "      run_inline_js();\n",
       "    });\n",
       "  }\n",
       "}(this));"
      ]
     },
     "metadata": {},
     "output_type": "display_data"
    }
   ],
   "source": [
    "from bokeh.models import ColumnDataSource, LabelSet\n",
    "from bokeh.plotting import figure, show, output_file\n",
    "from bokeh.io import output_notebook\n",
    "output_notebook()"
   ]
  },
  {
   "cell_type": "markdown",
   "metadata": {},
   "source": [
    "### Part 0: Download the TED dataset"
   ]
  },
  {
   "cell_type": "code",
   "execution_count": 3,
   "metadata": {
    "collapsed": false
   },
   "outputs": [],
   "source": [
    "import urllib.request\n",
    "import zipfile\n",
    "import lxml.etree"
   ]
  },
  {
   "cell_type": "code",
   "execution_count": null,
   "metadata": {
    "collapsed": false
   },
   "outputs": [],
   "source": [
    "# Download the dataset if it's not already there: this may take a minute as it is 75MB\n",
    "if not os.path.isfile('ted_en-20160408.zip'):\n",
    "    urllib.request.urlretrieve(\"https://wit3.fbk.eu/get.php?path=XML_releases/xml/ted_en-20160408.zip&filename=ted_en-20160408.zip\", filename=\"ted_en-20160408.zip\")"
   ]
  },
  {
   "cell_type": "code",
   "execution_count": 19,
   "metadata": {
    "collapsed": false
   },
   "outputs": [],
   "source": [
    "# For now, we're only interested in the subtitle text, so let's extract that from the XML:\n",
    "with zipfile.ZipFile('ted_en-20160408.zip', 'r') as z:\n",
    "    doc = lxml.etree.parse(z.open('ted_en-20160408.xml', 'r'))\n",
    "input_text = '\\n'.join(doc.xpath('//content/text()'))\n",
    "del doc"
   ]
  },
  {
   "cell_type": "markdown",
   "metadata": {},
   "source": [
    "### Part 1: Preprocessing\n",
    "\n",
    "In this part, we attempt to clean up the raw subtitles a bit, so that we get only sentences. The following substring shows examples of what we're trying to get rid of. Since it's hard to define precisely what we want to get rid of, we'll just use some simple heuristics."
   ]
  },
  {
   "cell_type": "code",
   "execution_count": 20,
   "metadata": {
    "collapsed": false,
    "scrolled": false
   },
   "outputs": [
    {
     "data": {
      "text/plain": [
       "' baby does.\\n(Video) Hyowon Gweon: See this? (Ball squeaks) Did you see that? (Ball squeaks) Cool. See this one? (Ball squeaks) Wow.\\nLaura Schulz: Told you. (Laughs)\\n(Vide'"
      ]
     },
     "execution_count": 20,
     "metadata": {},
     "output_type": "execute_result"
    }
   ],
   "source": [
    "i = input_text.find(\"Hyowon Gweon: See this?\")\n",
    "input_text[i-20:i+150]"
   ]
  },
  {
   "cell_type": "markdown",
   "metadata": {},
   "source": [
    "Let's start by removing all parenthesized strings using a regex:"
   ]
  },
  {
   "cell_type": "code",
   "execution_count": 21,
   "metadata": {
    "collapsed": true
   },
   "outputs": [],
   "source": [
    "input_text_noparens = re.sub(r'\\([^)]*\\)', '', input_text)"
   ]
  },
  {
   "cell_type": "markdown",
   "metadata": {},
   "source": [
    "We can verify the same location in the text is now clean as follows. We won't worry about the irregular spaces since we'll later split the text into sentences and tokenize it anyway."
   ]
  },
  {
   "cell_type": "code",
   "execution_count": 22,
   "metadata": {
    "collapsed": false
   },
   "outputs": [
    {
     "data": {
      "text/plain": [
       "\"hat the baby does.\\n Hyowon Gweon: See this?  Did you see that?  Cool. See this one?  Wow.\\nLaura Schulz: Told you. \\n HG: See this one?  Hey Clara, this one's for you. You \""
      ]
     },
     "execution_count": 22,
     "metadata": {},
     "output_type": "execute_result"
    }
   ],
   "source": [
    "i = input_text_noparens.find(\"Hyowon Gweon: See this?\")\n",
    "input_text_noparens[i-20:i+150]"
   ]
  },
  {
   "cell_type": "markdown",
   "metadata": {},
   "source": [
    "Now, let's attempt to remove speakers' names that occur at the beginning of a line, by deleting pieces of the form \"`<up to 20 characters>:`\", as shown in this example. Of course, this is an imperfect heuristic. "
   ]
  },
  {
   "cell_type": "code",
   "execution_count": 23,
   "metadata": {
    "collapsed": false
   },
   "outputs": [
    {
     "data": {
      "text/plain": [
       "[\"Here are two reasons companies fail: they only do more of the same, or they only do what's new\",\n",
       " 'To me the real, real solution to quality growth is figuring out the balance between two activities: exploration and exploitation',\n",
       " ' Both are necessary, but it can be too much of a good thing',\n",
       " 'Consider Facit',\n",
       " \" I'm actually old enough to remember them\"]"
      ]
     },
     "execution_count": 23,
     "metadata": {},
     "output_type": "execute_result"
    }
   ],
   "source": [
    "sentences_strings_ted = []\n",
    "for line in input_text_noparens.split('\\n'):\n",
    "    m = re.match(r'^(?:(?P<precolon>[^:]{,20}):)?(?P<postcolon>.*)$', line)\n",
    "    sentences_strings_ted.extend(sent for sent in m.groupdict()['postcolon'].split('.') if sent)\n",
    "\n",
    "# Uncomment if you need to save some RAM: these strings are about 50MB.\n",
    "# del input_text, input_text_noparens\n",
    "\n",
    "# Let's view the first few:\n",
    "sentences_strings_ted[:5]"
   ]
  },
  {
   "cell_type": "markdown",
   "metadata": {},
   "source": [
    "Now that we have sentences, we're ready to tokenize each of them into words. This tokenization is imperfect, of course. For instance, how many tokens is \"can't\", and where/how do we split it? We'll take the simplest naive approach of splitting on spaces. Before splitting, we remove non-alphanumeric characters, such as punctuation. You may want to consider the following question: why do we replace these characters with spaces rather than deleting them? Think of a case where this yields a different answer."
   ]
  },
  {
   "cell_type": "code",
   "execution_count": 24,
   "metadata": {
    "collapsed": false
   },
   "outputs": [],
   "source": [
    "sentences_ted = []\n",
    "for sent_str in sentences_strings_ted:\n",
    "    tokens = re.sub(r\"[^a-z0-9]+\", \" \", sent_str.lower()).split()\n",
    "    sentences_ted.append(tokens)"
   ]
  },
  {
   "cell_type": "markdown",
   "metadata": {},
   "source": [
    "Two sample processed sentences:"
   ]
  },
  {
   "cell_type": "code",
   "execution_count": 25,
   "metadata": {
    "collapsed": false
   },
   "outputs": [
    {
     "data": {
      "text/plain": [
       "266694"
      ]
     },
     "execution_count": 25,
     "metadata": {},
     "output_type": "execute_result"
    }
   ],
   "source": [
    "len(sentences_ted)"
   ]
  },
  {
   "cell_type": "code",
   "execution_count": 26,
   "metadata": {
    "collapsed": false
   },
   "outputs": [
    {
     "name": "stdout",
     "output_type": "stream",
     "text": [
      "['here', 'are', 'two', 'reasons', 'companies', 'fail', 'they', 'only', 'do', 'more', 'of', 'the', 'same', 'or', 'they', 'only', 'do', 'what', 's', 'new']\n",
      "['to', 'me', 'the', 'real', 'real', 'solution', 'to', 'quality', 'growth', 'is', 'figuring', 'out', 'the', 'balance', 'between', 'two', 'activities', 'exploration', 'and', 'exploitation']\n"
     ]
    }
   ],
   "source": [
    "print(sentences_ted[0])\n",
    "print(sentences_ted[1])"
   ]
  },
  {
   "cell_type": "markdown",
   "metadata": {},
   "source": [
    "### Part 2: Word Frequencies"
   ]
  },
  {
   "cell_type": "markdown",
   "metadata": {},
   "source": [
    "If you store the counts of the top 1000 words in a list called `counts_ted_top1000`, the code below will plot the histogram requested in the writeup."
   ]
  },
  {
   "cell_type": "code",
   "execution_count": 27,
   "metadata": {
    "collapsed": false
   },
   "outputs": [
    {
     "name": "stdout",
     "output_type": "stream",
     "text": [
      "[207749, 149306, 125170, 114819, 105400, 95147, 83181, 78071, 74739, 70924]\n"
     ]
    }
   ],
   "source": [
    "counts_ted={}\n",
    "for sentence in sentences_ted:\n",
    "    for word in sentence:\n",
    "        if word not in counts_ted:\n",
    "            counts_ted[word]=1\n",
    "        if word in counts_ted:\n",
    "            counts_ted[word]+=1\n",
    "\n",
    "words_ted_top1000=sorted(counts_ted, key=lambda x:int(counts_ted[x]), reverse=True)[:1000]\n",
    "counts_ted_top1000=[]\n",
    "for word in words_ted_top1000:\n",
    "    counts_ted_top1000.append(counts_ted[word])\n",
    "print(counts_ted_top1000[:10])\n",
    "\n",
    "    "
   ]
  },
  {
   "cell_type": "markdown",
   "metadata": {},
   "source": [
    "Plot distribution of top-1000 words"
   ]
  },
  {
   "cell_type": "code",
   "execution_count": 28,
   "metadata": {
    "collapsed": false
   },
   "outputs": [
    {
     "data": {
      "text/html": [
       "\n",
       "\n",
       "    <div class=\"bk-root\">\n",
       "        <div class=\"bk-plotdiv\" id=\"c68e9cf4-b50b-4330-853e-83c0f07eac6b\"></div>\n",
       "    </div>\n",
       "<script type=\"text/javascript\">\n",
       "  \n",
       "  (function(global) {\n",
       "    function now() {\n",
       "      return new Date();\n",
       "    }\n",
       "  \n",
       "    var force = false;\n",
       "  \n",
       "    if (typeof (window._bokeh_onload_callbacks) === \"undefined\" || force === true) {\n",
       "      window._bokeh_onload_callbacks = [];\n",
       "      window._bokeh_is_loading = undefined;\n",
       "    }\n",
       "  \n",
       "  \n",
       "    \n",
       "    if (typeof (window._bokeh_timeout) === \"undefined\" || force === true) {\n",
       "      window._bokeh_timeout = Date.now() + 0;\n",
       "      window._bokeh_failed_load = false;\n",
       "    }\n",
       "  \n",
       "    var NB_LOAD_WARNING = {'data': {'text/html':\n",
       "       \"<div style='background-color: #fdd'>\\n\"+\n",
       "       \"<p>\\n\"+\n",
       "       \"BokehJS does not appear to have successfully loaded. If loading BokehJS from CDN, this \\n\"+\n",
       "       \"may be due to a slow or bad network connection. Possible fixes:\\n\"+\n",
       "       \"</p>\\n\"+\n",
       "       \"<ul>\\n\"+\n",
       "       \"<li>re-rerun `output_notebook()` to attempt to load from CDN again, or</li>\\n\"+\n",
       "       \"<li>use INLINE resources instead, as so:</li>\\n\"+\n",
       "       \"</ul>\\n\"+\n",
       "       \"<code>\\n\"+\n",
       "       \"from bokeh.resources import INLINE\\n\"+\n",
       "       \"output_notebook(resources=INLINE)\\n\"+\n",
       "       \"</code>\\n\"+\n",
       "       \"</div>\"}};\n",
       "  \n",
       "    function display_loaded() {\n",
       "      if (window.Bokeh !== undefined) {\n",
       "        document.getElementById(\"c68e9cf4-b50b-4330-853e-83c0f07eac6b\").textContent = \"BokehJS successfully loaded.\";\n",
       "      } else if (Date.now() < window._bokeh_timeout) {\n",
       "        setTimeout(display_loaded, 100)\n",
       "      }\n",
       "    }\n",
       "  \n",
       "    function run_callbacks() {\n",
       "      window._bokeh_onload_callbacks.forEach(function(callback) { callback() });\n",
       "      delete window._bokeh_onload_callbacks\n",
       "      console.info(\"Bokeh: all callbacks have finished\");\n",
       "    }\n",
       "  \n",
       "    function load_libs(js_urls, callback) {\n",
       "      window._bokeh_onload_callbacks.push(callback);\n",
       "      if (window._bokeh_is_loading > 0) {\n",
       "        console.log(\"Bokeh: BokehJS is being loaded, scheduling callback at\", now());\n",
       "        return null;\n",
       "      }\n",
       "      if (js_urls == null || js_urls.length === 0) {\n",
       "        run_callbacks();\n",
       "        return null;\n",
       "      }\n",
       "      console.log(\"Bokeh: BokehJS not loaded, scheduling load and callback at\", now());\n",
       "      window._bokeh_is_loading = js_urls.length;\n",
       "      for (var i = 0; i < js_urls.length; i++) {\n",
       "        var url = js_urls[i];\n",
       "        var s = document.createElement('script');\n",
       "        s.src = url;\n",
       "        s.async = false;\n",
       "        s.onreadystatechange = s.onload = function() {\n",
       "          window._bokeh_is_loading--;\n",
       "          if (window._bokeh_is_loading === 0) {\n",
       "            console.log(\"Bokeh: all BokehJS libraries loaded\");\n",
       "            run_callbacks()\n",
       "          }\n",
       "        };\n",
       "        s.onerror = function() {\n",
       "          console.warn(\"failed to load library \" + url);\n",
       "        };\n",
       "        console.log(\"Bokeh: injecting script tag for BokehJS library: \", url);\n",
       "        document.getElementsByTagName(\"head\")[0].appendChild(s);\n",
       "      }\n",
       "    };var element = document.getElementById(\"c68e9cf4-b50b-4330-853e-83c0f07eac6b\");\n",
       "    if (element == null) {\n",
       "      console.log(\"Bokeh: ERROR: autoload.js configured with elementid 'c68e9cf4-b50b-4330-853e-83c0f07eac6b' but no matching script tag was found. \")\n",
       "      return false;\n",
       "    }\n",
       "  \n",
       "    var js_urls = [];\n",
       "  \n",
       "    var inline_js = [\n",
       "      function(Bokeh) {\n",
       "        (function() {\n",
       "          var fn = function() {\n",
       "            var docs_json = {\"5c65bc4c-bb91-4230-8b02-f1c65013d284\":{\"roots\":{\"references\":[{\"attributes\":{\"below\":[{\"id\":\"cd6fe7da-f616-41a2-a085-fe5e170c2956\",\"type\":\"LinearAxis\"}],\"left\":[{\"id\":\"528f9b9d-b0d0-4b33-9304-d051c22b3fe8\",\"type\":\"LinearAxis\"}],\"renderers\":[{\"id\":\"cd6fe7da-f616-41a2-a085-fe5e170c2956\",\"type\":\"LinearAxis\"},{\"id\":\"d7c872be-d14f-4d7a-b289-7766059449ca\",\"type\":\"Grid\"},{\"id\":\"528f9b9d-b0d0-4b33-9304-d051c22b3fe8\",\"type\":\"LinearAxis\"},{\"id\":\"97fd0ebb-043b-4926-97f0-11c369303891\",\"type\":\"Grid\"},{\"id\":\"71169898-4edf-40f7-8d63-3611cdc34a9d\",\"type\":\"GlyphRenderer\"}],\"title\":{\"id\":\"b73b32fe-65f7-4de9-bfc3-d3fef3ead12d\",\"type\":\"Title\"},\"tool_events\":{\"id\":\"0d5a3c4c-0bf4-42e2-9040-bf00b5620a30\",\"type\":\"ToolEvents\"},\"toolbar\":{\"id\":\"b8228554-f5ff-4c77-a492-cb595f31fec2\",\"type\":\"Toolbar\"},\"toolbar_location\":\"above\",\"x_range\":{\"id\":\"bb4b66fe-7c12-4553-b394-c1e1d214e691\",\"type\":\"DataRange1d\"},\"y_range\":{\"id\":\"440633aa-b0dd-4b79-a1c2-57ad1d1f4abb\",\"type\":\"DataRange1d\"}},\"id\":\"751bc7ef-c1a7-4e90-aea2-020ad7af4a4f\",\"subtype\":\"Figure\",\"type\":\"Plot\"},{\"attributes\":{\"data_source\":{\"id\":\"6235a3e5-4eca-43ce-892c-3ffc5108cc55\",\"type\":\"ColumnDataSource\"},\"glyph\":{\"id\":\"19934616-4980-4bea-9744-c2300027d615\",\"type\":\"Quad\"},\"hover_glyph\":null,\"nonselection_glyph\":{\"id\":\"fd762b59-36b9-476e-b80d-7906298def93\",\"type\":\"Quad\"},\"selection_glyph\":null},\"id\":\"71169898-4edf-40f7-8d63-3611cdc34a9d\",\"type\":\"GlyphRenderer\"},{\"attributes\":{},\"id\":\"0d5a3c4c-0bf4-42e2-9040-bf00b5620a30\",\"type\":\"ToolEvents\"},{\"attributes\":{\"bottom\":{\"value\":0},\"fill_alpha\":{\"value\":0.1},\"fill_color\":{\"value\":\"#1f77b4\"},\"left\":{\"field\":\"left\"},\"line_alpha\":{\"value\":0.1},\"line_color\":{\"value\":\"#1f77b4\"},\"right\":{\"field\":\"right\"},\"top\":{\"field\":\"top\"}},\"id\":\"fd762b59-36b9-476e-b80d-7906298def93\",\"type\":\"Quad\"},{\"attributes\":{\"active_drag\":\"auto\",\"active_scroll\":\"auto\",\"active_tap\":\"auto\",\"tools\":[{\"id\":\"59872266-b80e-4395-8021-0e04f6b69591\",\"type\":\"PanTool\"},{\"id\":\"42dfc786-5989-4b9d-9315-75a262576ba4\",\"type\":\"WheelZoomTool\"},{\"id\":\"65815078-ab27-4115-a561-dbcc08343783\",\"type\":\"ResetTool\"},{\"id\":\"b5f7385a-c276-47bd-921c-a7a8accf607e\",\"type\":\"SaveTool\"}]},\"id\":\"b8228554-f5ff-4c77-a492-cb595f31fec2\",\"type\":\"Toolbar\"},{\"attributes\":{\"callback\":null},\"id\":\"440633aa-b0dd-4b79-a1c2-57ad1d1f4abb\",\"type\":\"DataRange1d\"},{\"attributes\":{\"plot\":{\"id\":\"751bc7ef-c1a7-4e90-aea2-020ad7af4a4f\",\"subtype\":\"Figure\",\"type\":\"Plot\"}},\"id\":\"b5f7385a-c276-47bd-921c-a7a8accf607e\",\"type\":\"SaveTool\"},{\"attributes\":{\"callback\":null},\"id\":\"bb4b66fe-7c12-4553-b394-c1e1d214e691\",\"type\":\"DataRange1d\"},{\"attributes\":{\"bottom\":{\"value\":0},\"fill_color\":{\"value\":\"#1f77b4\"},\"left\":{\"field\":\"left\"},\"line_color\":{\"value\":\"#555555\"},\"right\":{\"field\":\"right\"},\"top\":{\"field\":\"top\"}},\"id\":\"19934616-4980-4bea-9744-c2300027d615\",\"type\":\"Quad\"},{\"attributes\":{\"plot\":{\"id\":\"751bc7ef-c1a7-4e90-aea2-020ad7af4a4f\",\"subtype\":\"Figure\",\"type\":\"Plot\"}},\"id\":\"65815078-ab27-4115-a561-dbcc08343783\",\"type\":\"ResetTool\"},{\"attributes\":{},\"id\":\"6fc4939b-222c-4860-a99d-80c6968ff180\",\"type\":\"BasicTickFormatter\"},{\"attributes\":{},\"id\":\"9cbc2a63-2c95-4770-bb0d-a4492eb14ef3\",\"type\":\"BasicTicker\"},{\"attributes\":{\"plot\":null,\"text\":\"Top-1000 words distribution\"},\"id\":\"b73b32fe-65f7-4de9-bfc3-d3fef3ead12d\",\"type\":\"Title\"},{\"attributes\":{},\"id\":\"1d323374-af96-4ac1-9a6d-895128b8db13\",\"type\":\"BasicTickFormatter\"},{\"attributes\":{\"plot\":{\"id\":\"751bc7ef-c1a7-4e90-aea2-020ad7af4a4f\",\"subtype\":\"Figure\",\"type\":\"Plot\"},\"ticker\":{\"id\":\"9cbc2a63-2c95-4770-bb0d-a4492eb14ef3\",\"type\":\"BasicTicker\"}},\"id\":\"d7c872be-d14f-4d7a-b289-7766059449ca\",\"type\":\"Grid\"},{\"attributes\":{\"formatter\":{\"id\":\"6fc4939b-222c-4860-a99d-80c6968ff180\",\"type\":\"BasicTickFormatter\"},\"plot\":{\"id\":\"751bc7ef-c1a7-4e90-aea2-020ad7af4a4f\",\"subtype\":\"Figure\",\"type\":\"Plot\"},\"ticker\":{\"id\":\"bb925c5e-b4e0-4ec0-a085-4cbc5287d9d5\",\"type\":\"BasicTicker\"}},\"id\":\"528f9b9d-b0d0-4b33-9304-d051c22b3fe8\",\"type\":\"LinearAxis\"},{\"attributes\":{\"plot\":{\"id\":\"751bc7ef-c1a7-4e90-aea2-020ad7af4a4f\",\"subtype\":\"Figure\",\"type\":\"Plot\"}},\"id\":\"59872266-b80e-4395-8021-0e04f6b69591\",\"type\":\"PanTool\"},{\"attributes\":{},\"id\":\"bb925c5e-b4e0-4ec0-a085-4cbc5287d9d5\",\"type\":\"BasicTicker\"},{\"attributes\":{\"dimension\":1,\"plot\":{\"id\":\"751bc7ef-c1a7-4e90-aea2-020ad7af4a4f\",\"subtype\":\"Figure\",\"type\":\"Plot\"},\"ticker\":{\"id\":\"bb925c5e-b4e0-4ec0-a085-4cbc5287d9d5\",\"type\":\"BasicTicker\"}},\"id\":\"97fd0ebb-043b-4926-97f0-11c369303891\",\"type\":\"Grid\"},{\"attributes\":{\"callback\":null,\"column_names\":[\"left\",\"right\",\"top\"],\"data\":{\"left\":{\"__ndarray__\":\"V2ao+PoDGEBtlDRH4UMYQIPCwJXHgxhAmvBM5K3DGECwHtkylAMZQMZMZYF6QxlA3Hrxz2CDGUDzqH0eR8MZQAnXCW0tAxpAHwWWuxNDGkA1MyIK+oIaQExhrljgwhpAYo86p8YCG0B4vcb1rEIbQI7rUkSTghtApBnfknnCG0C7R2vhXwIcQNF19y9GQhxA56ODfiyCHED90Q/NEsIcQBQAnBv5AR1AKi4oat9BHUBAXLS4xYEdQFaKQAeswR1AbLjMVZIBHkCD5likeEEeQJkU5fJegR5Ar0JxQUXBHkDFcP2PKwEfQNyeid4RQR9A8swVLfiAH0AI+6F73sAfQI8UF2ViACBAmitdjFUgIEClQqOzSEAgQLBZ6do7YCBAvHAvAi+AIEDHh3UpIqAgQNKeu1AVwCBA3bUBeAjgIEDozEef+/8gQPPjjcbuHyFA/vrT7eE/IUAJEhoV1V8hQBQpYDzIfyFAIECmY7ufIUArV+yKrr8hQDZuMrKh3yFAQYV42ZT/IUBMnL4AiB8iQFezBCh7PyJAYspKT25fIkBu4ZB2YX8iQHj41p1UnyJAhA8dxUe/IkCPJmPsOt8iQJo9qRMu/yJApVTvOiEfI0CwazViFD8jQLuCe4kHXyNAxpnBsPp+I0DSsAfY7Z4jQNzHTf/gviNA6N6TJtTeI0Dz9dlNx/4jQP4MIHW6HiRACSRmnK0+JEAUO6zDoF4kQB9S8uqTfiRAKmk4EoeeJEA2gH45er4kQECXxGBt3iRATK4KiGD+JEBXxVCvUx4lQGLcltZGPiVAbfPc/TleJUB4CiMlLX4lQIMhaUwgniVAjjivcxO+JUCaT/WaBt4lQKRmO8L5/SVAsH2B6ewdJkC7lMcQ4D0mQMarDTjTXSZA0cJTX8Z9JkDc2ZmGuZ0mQOfw362svSZA8gcm1Z/dJkD+Hmz8kv0mQAg2siOGHSdAFE34Snk9J0AfZD5ybF0nQCp7hJlffSdANZLKwFKdJ0BAqRDoRb0nQEzAVg853SdAVtecNiz9J0Bi7uJdHx0oQGwFKYUSPShAeBxvrAVdKEA=\",\"dtype\":\"float64\",\"shape\":[100]},\"right\":{\"__ndarray__\":\"bZQ0R+FDGECDwsCVx4MYQJrwTOStwxhAsB7ZMpQDGUDGTGWBekMZQNx68c9ggxlA86h9HkfDGUAJ1wltLQMaQB8FlrsTQxpANTMiCvqCGkBMYa5Y4MIaQGKPOqfGAhtAeL3G9axCG0CO61JEk4IbQKQZ35J5whtAu0dr4V8CHEDRdfcvRkIcQOejg34sghxA/dEPzRLCHEAUAJwb+QEdQCouKGrfQR1AQFy0uMWBHUBWikAHrMEdQGy4zFWSAR5Ag+ZYpHhBHkCZFOXyXoEeQK9CcUFFwR5AxXD9jysBH0DcnoneEUEfQPLMFS34gB9ACPuhe97AH0CPFBdlYgAgQJorXYxVICBApUKjs0hAIECwWenaO2AgQLxwLwIvgCBAx4d1KSKgIEDSnrtQFcAgQN21AXgI4CBA6MxHn/v/IEDz443G7h8hQP760+3hPyFACRIaFdVfIUAUKWA8yH8hQCBApmO7nyFAK1fsiq6/IUA2bjKyod8hQEGFeNmU/yFATJy+AIgfIkBXswQoez8iQGLKSk9uXyJAbuGQdmF/IkB4+NadVJ8iQIQPHcVHvyJAjyZj7DrfIkCaPakTLv8iQKVU7zohHyNAsGs1YhQ/I0C7gnuJB18jQMaZwbD6fiNA0rAH2O2eI0Dcx03/4L4jQOjekybU3iNA8/XZTcf+I0D+DCB1uh4kQAkkZpytPiRAFDusw6BeJEAfUvLqk34kQCppOBKHniRANoB+OXq+JEBAl8Rgbd4kQEyuCohg/iRAV8VQr1MeJUBi3JbWRj4lQG3z3P05XiVAeAojJS1+JUCDIWlMIJ4lQI44r3MTviVAmk/1mgbeJUCkZjvC+f0lQLB9gensHSZAu5THEOA9JkDGqw04010mQNHCU1/GfSZA3NmZhrmdJkDn8N+trL0mQPIHJtWf3SZA/h5s/JL9JkAINrIjhh0nQBRN+Ep5PSdAH2Q+cmxdJ0Aqe4SZX30nQDWSysBSnSdAQKkQ6EW9J0BMwFYPOd0nQFbXnDYs/SdAYu7iXR8dKEBsBSmFEj0oQHgcb6wFXShAgzO10/h8KEA=\",\"dtype\":\"float64\",\"shape\":[100]},\"top\":{\"__ndarray__\":\"bd9UDqzE7j+IxzyUnSDpPxtX+9grJ+o/fue5Hbot6z+IxzyUnSDpP7H/6EvkaOA/Va8kGo984z+oH2bVAHbiP3JPlskdvt0/sf/oS+Ro4D85X2DoOZDWP4p/3XFWndg/ck+WyR2+3T+Kf91xVp3YP6rXBrO58uE/DC8ZQAGx2z+Bn1r7cqraP4p/3XFWndg/hQ+ctuSj2T8MLxlAAbHbP7H/6EvkaNA/rY+nkHJv0T+Kf91xVp3IP4GfWvtyqso/cP/oS+RowD+tj6eQcm/RP54/414dg8Q/in/dcVadyD9MP+NeHYPEP3e/14SPt8w/nj/jXh2DxD+x/+hL5GjAP4p/3XFWnbg/d7/XhI+3vD+x/+hL5GigP5C+14SPt7w/in/dcVadqD+Kf91xVp24P4p/3XFWnbg/sf/oS+RokD+x/+hL5GjAP3e/14SPt7w/sf/oS+RosD+eP+NeHYO0P8Z+3XFWnag/sf/oS+RosD+Kf91xVp24P54/414dg7Q/sf/oS+RooD+eP+NeHYO0P7H/6EvkaLA/kL7XhI+3vD81AOlL5GiwP/o+414dg7Q/sf/oS+RosD+x/+hL5GigP4p/3XFWnbg/sf/oS+RokD+x/+hL5GigP4p/3XFWnag/xn7dcVadqD9QgN1xVp2oPy7/6EvkaKA/sf/oS+RooD+x/+hL5GigP7H/6EvkaJA/sf/oS+RokD+x/+hL5GiwP7H/6EvkaJA/Lv/oS+RokD81AOlL5GiQPwAAAAAAAAAAsf/oS+RokD8AAAAAAAAAAAAAAAAAAAAAAAAAAAAAAACx/+hL5GiQPwAAAAAAAAAAAAAAAAAAAAA1AOlL5GiQPy7/6EvkaJA/AAAAAAAAAACx/+hL5GigP7H/6EvkaJA/sf/oS+RokD+x/+hL5GiQPwAAAAAAAAAALv/oS+RokD8AAAAAAAAAAC7/6EvkaJA/sf/oS+RokD+x/+hL5GiQPwAAAAAAAAAAAAAAAAAAAAAu/+hL5GiQPwAAAAAAAAAAAAAAAAAAAAAAAAAAAAAAAAAAAAAAAAAAsf/oS+RokD8=\",\"dtype\":\"float64\",\"shape\":[100]}}},\"id\":\"6235a3e5-4eca-43ce-892c-3ffc5108cc55\",\"type\":\"ColumnDataSource\"},{\"attributes\":{\"plot\":{\"id\":\"751bc7ef-c1a7-4e90-aea2-020ad7af4a4f\",\"subtype\":\"Figure\",\"type\":\"Plot\"}},\"id\":\"42dfc786-5989-4b9d-9315-75a262576ba4\",\"type\":\"WheelZoomTool\"},{\"attributes\":{\"formatter\":{\"id\":\"1d323374-af96-4ac1-9a6d-895128b8db13\",\"type\":\"BasicTickFormatter\"},\"plot\":{\"id\":\"751bc7ef-c1a7-4e90-aea2-020ad7af4a4f\",\"subtype\":\"Figure\",\"type\":\"Plot\"},\"ticker\":{\"id\":\"9cbc2a63-2c95-4770-bb0d-a4492eb14ef3\",\"type\":\"BasicTicker\"}},\"id\":\"cd6fe7da-f616-41a2-a085-fe5e170c2956\",\"type\":\"LinearAxis\"}],\"root_ids\":[\"751bc7ef-c1a7-4e90-aea2-020ad7af4a4f\"]},\"title\":\"Bokeh Application\",\"version\":\"0.12.4\"}};\n",
       "            var render_items = [{\"docid\":\"5c65bc4c-bb91-4230-8b02-f1c65013d284\",\"elementid\":\"c68e9cf4-b50b-4330-853e-83c0f07eac6b\",\"modelid\":\"751bc7ef-c1a7-4e90-aea2-020ad7af4a4f\"}];\n",
       "            \n",
       "            Bokeh.embed.embed_items(docs_json, render_items);\n",
       "          };\n",
       "          if (document.readyState != \"loading\") fn();\n",
       "          else document.addEventListener(\"DOMContentLoaded\", fn);\n",
       "        })();\n",
       "      },\n",
       "      function(Bokeh) {\n",
       "      }\n",
       "    ];\n",
       "  \n",
       "    function run_inline_js() {\n",
       "      \n",
       "      if ((window.Bokeh !== undefined) || (force === true)) {\n",
       "        for (var i = 0; i < inline_js.length; i++) {\n",
       "          inline_js[i](window.Bokeh);\n",
       "        }if (force === true) {\n",
       "          display_loaded();\n",
       "        }} else if (Date.now() < window._bokeh_timeout) {\n",
       "        setTimeout(run_inline_js, 100);\n",
       "      } else if (!window._bokeh_failed_load) {\n",
       "        console.log(\"Bokeh: BokehJS failed to load within specified timeout.\");\n",
       "        window._bokeh_failed_load = true;\n",
       "      } else if (force !== true) {\n",
       "        var cell = $(document.getElementById(\"c68e9cf4-b50b-4330-853e-83c0f07eac6b\")).parents('.cell').data().cell;\n",
       "        cell.output_area.append_execute_result(NB_LOAD_WARNING)\n",
       "      }\n",
       "  \n",
       "    }\n",
       "  \n",
       "    if (window._bokeh_is_loading === 0) {\n",
       "      console.log(\"Bokeh: BokehJS loaded, going straight to plotting\");\n",
       "      run_inline_js();\n",
       "    } else {\n",
       "      load_libs(js_urls, function() {\n",
       "        console.log(\"Bokeh: BokehJS plotting callback run at\", now());\n",
       "        run_inline_js();\n",
       "      });\n",
       "    }\n",
       "  }(this));\n",
       "</script>"
      ]
     },
     "metadata": {},
     "output_type": "display_data"
    }
   ],
   "source": [
    "hist, edges = np.histogram(np.log(counts_ted_top1000), density=True, bins=100, normed=True)\n",
    "\n",
    "p = figure(tools=\"pan,wheel_zoom,reset,save\",\n",
    "           toolbar_location=\"above\",\n",
    "           title=\"Top-1000 words distribution\")\n",
    "p.quad(top=hist, bottom=0, left=edges[:-1], right=edges[1:], line_color=\"#555555\")\n",
    "show(p)"
   ]
  },
  {
   "cell_type": "markdown",
   "metadata": {},
   "source": [
    "### Part 3: Train Word2Vec"
   ]
  },
  {
   "cell_type": "code",
   "execution_count": 29,
   "metadata": {
    "collapsed": false
   },
   "outputs": [],
   "source": [
    "from gensim.models import Word2Vec"
   ]
  },
  {
   "cell_type": "code",
   "execution_count": 38,
   "metadata": {
    "collapsed": false
   },
   "outputs": [],
   "source": [
    "model_ted = Word2Vec(sentences_ted, size=100, window=5, min_count=5, workers=4)"
   ]
  },
  {
   "cell_type": "markdown",
   "metadata": {},
   "source": [
    "### Part 4: Ted Learnt Representations"
   ]
  },
  {
   "cell_type": "markdown",
   "metadata": {},
   "source": [
    "Finding similar words: (see gensim docs for more functionality of `most_similar`)"
   ]
  },
  {
   "cell_type": "code",
   "execution_count": 39,
   "metadata": {
    "collapsed": false
   },
   "outputs": [
    {
     "data": {
      "text/plain": [
       "[('woman', 0.8511790037155151),\n",
       " ('guy', 0.7964366674423218),\n",
       " ('lady', 0.765714704990387),\n",
       " ('boy', 0.7534699440002441),\n",
       " ('girl', 0.7446620464324951),\n",
       " ('gentleman', 0.7357062101364136),\n",
       " ('soldier', 0.7353505492210388),\n",
       " ('poet', 0.727491021156311),\n",
       " ('kid', 0.684545636177063),\n",
       " ('david', 0.6797847151756287)]"
      ]
     },
     "execution_count": 39,
     "metadata": {},
     "output_type": "execute_result"
    }
   ],
   "source": [
    "model_ted.most_similar(\"man\")"
   ]
  },
  {
   "cell_type": "code",
   "execution_count": 40,
   "metadata": {
    "collapsed": false
   },
   "outputs": [
    {
     "data": {
      "text/plain": [
       "[('software', 0.7215481996536255),\n",
       " ('machine', 0.710780918598175),\n",
       " ('device', 0.6937096118927002),\n",
       " ('robot', 0.6692734956741333),\n",
       " ('video', 0.664309561252594),\n",
       " ('chip', 0.6629804372787476),\n",
       " ('program', 0.656173586845398),\n",
       " ('3d', 0.648157000541687),\n",
       " ('camera', 0.6461249589920044),\n",
       " ('desktop', 0.6442070007324219)]"
      ]
     },
     "execution_count": 40,
     "metadata": {},
     "output_type": "execute_result"
    }
   ],
   "source": [
    "model_ted.most_similar(\"computer\")"
   ]
  },
  {
   "cell_type": "code",
   "execution_count": 43,
   "metadata": {
    "collapsed": false
   },
   "outputs": [
    {
     "data": {
      "text/plain": [
       "[('organism', 0.7542086243629456),\n",
       " ('organ', 0.7372924089431763),\n",
       " ('ant', 0.711887776851654),\n",
       " ('object', 0.6999450325965881),\n",
       " ('neuron', 0.6879304051399231),\n",
       " ('insect', 0.686909556388855),\n",
       " ('gene', 0.6526437401771545),\n",
       " ('individual', 0.6488552689552307),\n",
       " ('atom', 0.6466002464294434),\n",
       " ('pattern', 0.6452350616455078)]"
      ]
     },
     "execution_count": 43,
     "metadata": {},
     "output_type": "execute_result"
    }
   ],
   "source": [
    "model_ted.most_similar(\"animal\")"
   ]
  },
  {
   "cell_type": "markdown",
   "metadata": {},
   "source": [
    "#### t-SNE visualization\n",
    "To use the t-SNE code below, first put a list of the top 1000 words (as strings) into a variable `words_top_ted`. The following code gets the corresponding vectors from the model, assuming it's called `model_ted`:"
   ]
  },
  {
   "cell_type": "code",
   "execution_count": 47,
   "metadata": {
    "collapsed": false
   },
   "outputs": [],
   "source": [
    "# This assumes words_top_ted is a list of strings, the top 1000 words\n",
    "words_top_ted = words_ted_top1000\n",
    "words_top_vec_ted = model_ted[words_top_ted]"
   ]
  },
  {
   "cell_type": "code",
   "execution_count": 48,
   "metadata": {
    "collapsed": false
   },
   "outputs": [],
   "source": [
    "from sklearn.manifold import TSNE\n",
    "tsne = TSNE(n_components=2, random_state=0)\n",
    "words_top_ted_tsne = tsne.fit_transform(words_top_vec_ted)"
   ]
  },
  {
   "cell_type": "code",
   "execution_count": 49,
   "metadata": {
    "collapsed": false
   },
   "outputs": [
    {
     "data": {
      "text/html": [
       "\n",
       "\n",
       "    <div class=\"bk-root\">\n",
       "        <div class=\"bk-plotdiv\" id=\"4af9cabb-d3be-4e8e-aa5b-6befec696b67\"></div>\n",
       "    </div>\n",
       "<script type=\"text/javascript\">\n",
       "  \n",
       "  (function(global) {\n",
       "    function now() {\n",
       "      return new Date();\n",
       "    }\n",
       "  \n",
       "    var force = false;\n",
       "  \n",
       "    if (typeof (window._bokeh_onload_callbacks) === \"undefined\" || force === true) {\n",
       "      window._bokeh_onload_callbacks = [];\n",
       "      window._bokeh_is_loading = undefined;\n",
       "    }\n",
       "  \n",
       "  \n",
       "    \n",
       "    if (typeof (window._bokeh_timeout) === \"undefined\" || force === true) {\n",
       "      window._bokeh_timeout = Date.now() + 0;\n",
       "      window._bokeh_failed_load = false;\n",
       "    }\n",
       "  \n",
       "    var NB_LOAD_WARNING = {'data': {'text/html':\n",
       "       \"<div style='background-color: #fdd'>\\n\"+\n",
       "       \"<p>\\n\"+\n",
       "       \"BokehJS does not appear to have successfully loaded. If loading BokehJS from CDN, this \\n\"+\n",
       "       \"may be due to a slow or bad network connection. Possible fixes:\\n\"+\n",
       "       \"</p>\\n\"+\n",
       "       \"<ul>\\n\"+\n",
       "       \"<li>re-rerun `output_notebook()` to attempt to load from CDN again, or</li>\\n\"+\n",
       "       \"<li>use INLINE resources instead, as so:</li>\\n\"+\n",
       "       \"</ul>\\n\"+\n",
       "       \"<code>\\n\"+\n",
       "       \"from bokeh.resources import INLINE\\n\"+\n",
       "       \"output_notebook(resources=INLINE)\\n\"+\n",
       "       \"</code>\\n\"+\n",
       "       \"</div>\"}};\n",
       "  \n",
       "    function display_loaded() {\n",
       "      if (window.Bokeh !== undefined) {\n",
       "        document.getElementById(\"4af9cabb-d3be-4e8e-aa5b-6befec696b67\").textContent = \"BokehJS successfully loaded.\";\n",
       "      } else if (Date.now() < window._bokeh_timeout) {\n",
       "        setTimeout(display_loaded, 100)\n",
       "      }\n",
       "    }\n",
       "  \n",
       "    function run_callbacks() {\n",
       "      window._bokeh_onload_callbacks.forEach(function(callback) { callback() });\n",
       "      delete window._bokeh_onload_callbacks\n",
       "      console.info(\"Bokeh: all callbacks have finished\");\n",
       "    }\n",
       "  \n",
       "    function load_libs(js_urls, callback) {\n",
       "      window._bokeh_onload_callbacks.push(callback);\n",
       "      if (window._bokeh_is_loading > 0) {\n",
       "        console.log(\"Bokeh: BokehJS is being loaded, scheduling callback at\", now());\n",
       "        return null;\n",
       "      }\n",
       "      if (js_urls == null || js_urls.length === 0) {\n",
       "        run_callbacks();\n",
       "        return null;\n",
       "      }\n",
       "      console.log(\"Bokeh: BokehJS not loaded, scheduling load and callback at\", now());\n",
       "      window._bokeh_is_loading = js_urls.length;\n",
       "      for (var i = 0; i < js_urls.length; i++) {\n",
       "        var url = js_urls[i];\n",
       "        var s = document.createElement('script');\n",
       "        s.src = url;\n",
       "        s.async = false;\n",
       "        s.onreadystatechange = s.onload = function() {\n",
       "          window._bokeh_is_loading--;\n",
       "          if (window._bokeh_is_loading === 0) {\n",
       "            console.log(\"Bokeh: all BokehJS libraries loaded\");\n",
       "            run_callbacks()\n",
       "          }\n",
       "        };\n",
       "        s.onerror = function() {\n",
       "          console.warn(\"failed to load library \" + url);\n",
       "        };\n",
       "        console.log(\"Bokeh: injecting script tag for BokehJS library: \", url);\n",
       "        document.getElementsByTagName(\"head\")[0].appendChild(s);\n",
       "      }\n",
       "    };var element = document.getElementById(\"4af9cabb-d3be-4e8e-aa5b-6befec696b67\");\n",
       "    if (element == null) {\n",
       "      console.log(\"Bokeh: ERROR: autoload.js configured with elementid '4af9cabb-d3be-4e8e-aa5b-6befec696b67' but no matching script tag was found. \")\n",
       "      return false;\n",
       "    }\n",
       "  \n",
       "    var js_urls = [];\n",
       "  \n",
       "    var inline_js = [\n",
       "      function(Bokeh) {\n",
       "        (function() {\n",
       "          var fn = function() {\n",
       "            var docs_json = {\"b1891d03-d583-4508-8611-7a75cce819ec\":{\"roots\":{\"references\":[{\"attributes\":{\"dimension\":1,\"plot\":{\"id\":\"fea076ea-0991-4e7d-80f4-40d2afa2c1b3\",\"subtype\":\"Figure\",\"type\":\"Plot\"},\"ticker\":{\"id\":\"5b7d76f1-a969-4d31-9547-0d6f4d1d9926\",\"type\":\"BasicTicker\"}},\"id\":\"a6688286-d2c9-4351-a557-e6f1605a5003\",\"type\":\"Grid\"},{\"attributes\":{\"plot\":{\"id\":\"fea076ea-0991-4e7d-80f4-40d2afa2c1b3\",\"subtype\":\"Figure\",\"type\":\"Plot\"}},\"id\":\"e0799406-2d1f-49b5-8f83-ae6eeeb99b90\",\"type\":\"PanTool\"},{\"attributes\":{\"fill_alpha\":{\"value\":0.1},\"fill_color\":{\"value\":\"#1f77b4\"},\"line_alpha\":{\"value\":0.1},\"line_color\":{\"value\":\"#1f77b4\"},\"size\":{\"units\":\"screen\",\"value\":8},\"x\":{\"field\":\"x1\"},\"y\":{\"field\":\"x2\"}},\"id\":\"2b54c351-51ea-420a-bbf1-40dcac58aad3\",\"type\":\"Circle\"},{\"attributes\":{\"plot\":{\"id\":\"fea076ea-0991-4e7d-80f4-40d2afa2c1b3\",\"subtype\":\"Figure\",\"type\":\"Plot\"}},\"id\":\"3d17b566-b6b0-4603-b2a7-4170cd4b15c2\",\"type\":\"WheelZoomTool\"},{\"attributes\":{\"plot\":{\"id\":\"fea076ea-0991-4e7d-80f4-40d2afa2c1b3\",\"subtype\":\"Figure\",\"type\":\"Plot\"}},\"id\":\"86aa3749-aba0-4c81-84b4-72219e3e08b1\",\"type\":\"ResetTool\"},{\"attributes\":{\"plot\":{\"id\":\"fea076ea-0991-4e7d-80f4-40d2afa2c1b3\",\"subtype\":\"Figure\",\"type\":\"Plot\"}},\"id\":\"7d2ec143-3ecb-4359-af28-dcbaee872200\",\"type\":\"SaveTool\"},{\"attributes\":{\"formatter\":{\"id\":\"744d5617-b00b-41d9-9987-441ac393d9df\",\"type\":\"BasicTickFormatter\"},\"plot\":{\"id\":\"fea076ea-0991-4e7d-80f4-40d2afa2c1b3\",\"subtype\":\"Figure\",\"type\":\"Plot\"},\"ticker\":{\"id\":\"5b7d76f1-a969-4d31-9547-0d6f4d1d9926\",\"type\":\"BasicTicker\"}},\"id\":\"16ab4b95-6451-4d86-82b4-753fcf972a85\",\"type\":\"LinearAxis\"},{\"attributes\":{\"data_source\":{\"id\":\"668eaea8-3c27-4e0a-bee6-38a5d7b53257\",\"type\":\"ColumnDataSource\"},\"glyph\":{\"id\":\"dcab3c10-0974-40ce-870d-e735636200bd\",\"type\":\"Circle\"},\"hover_glyph\":null,\"nonselection_glyph\":{\"id\":\"2b54c351-51ea-420a-bbf1-40dcac58aad3\",\"type\":\"Circle\"},\"selection_glyph\":null},\"id\":\"363f8b8d-6be7-4e5d-84be-d16a2c2440be\",\"type\":\"GlyphRenderer\"},{\"attributes\":{\"below\":[{\"id\":\"e400ed81-a21f-41c7-92bd-10a5d472dbb7\",\"type\":\"LinearAxis\"}],\"left\":[{\"id\":\"16ab4b95-6451-4d86-82b4-753fcf972a85\",\"type\":\"LinearAxis\"}],\"renderers\":[{\"id\":\"e400ed81-a21f-41c7-92bd-10a5d472dbb7\",\"type\":\"LinearAxis\"},{\"id\":\"9af1d03e-9915-4e5b-abe5-16b5cc5cf8b0\",\"type\":\"Grid\"},{\"id\":\"16ab4b95-6451-4d86-82b4-753fcf972a85\",\"type\":\"LinearAxis\"},{\"id\":\"a6688286-d2c9-4351-a557-e6f1605a5003\",\"type\":\"Grid\"},{\"id\":\"363f8b8d-6be7-4e5d-84be-d16a2c2440be\",\"type\":\"GlyphRenderer\"},{\"id\":\"be26ee4e-6348-40e3-9c00-dc7c76fd0af8\",\"type\":\"LabelSet\"}],\"title\":{\"id\":\"244fc103-be9f-4bf1-a4d5-df838bccafa3\",\"type\":\"Title\"},\"tool_events\":{\"id\":\"ef9742b3-b261-4482-b048-fb3cb06cf316\",\"type\":\"ToolEvents\"},\"toolbar\":{\"id\":\"70418146-553b-4f6e-aef6-7576ac51823d\",\"type\":\"Toolbar\"},\"toolbar_location\":\"above\",\"x_range\":{\"id\":\"0c08d486-ba64-4c28-a4e2-215b4313eee8\",\"type\":\"DataRange1d\"},\"y_range\":{\"id\":\"6ebbd249-0841-48de-a1e3-18a40707dd60\",\"type\":\"DataRange1d\"}},\"id\":\"fea076ea-0991-4e7d-80f4-40d2afa2c1b3\",\"subtype\":\"Figure\",\"type\":\"Plot\"},{\"attributes\":{\"callback\":null,\"column_names\":[\"x1\",\"x2\",\"names\"],\"data\":{\"names\":[\"the\",\"and\",\"to\",\"of\",\"a\",\"that\",\"i\",\"in\",\"it\",\"you\",\"we\",\"is\",\"s\",\"this\",\"so\",\"they\",\"was\",\"for\",\"are\",\"have\",\"but\",\"what\",\"on\",\"with\",\"can\",\"t\",\"about\",\"there\",\"be\",\"as\",\"at\",\"all\",\"not\",\"do\",\"my\",\"one\",\"re\",\"people\",\"like\",\"if\",\"from\",\"now\",\"our\",\"he\",\"an\",\"just\",\"these\",\"or\",\"when\",\"because\",\"very\",\"me\",\"out\",\"by\",\"them\",\"how\",\"know\",\"up\",\"going\",\"had\",\"more\",\"think\",\"who\",\"were\",\"see\",\"your\",\"their\",\"which\",\"would\",\"here\",\"really\",\"get\",\"ve\",\"then\",\"m\",\"world\",\"us\",\"time\",\"some\",\"has\",\"don\",\"actually\",\"into\",\"way\",\"where\",\"will\",\"years\",\"things\",\"other\",\"no\",\"could\",\"go\",\"well\",\"want\",\"been\",\"make\",\"right\",\"she\",\"said\",\"something\",\"those\",\"first\",\"two\",\"than\",\"much\",\"also\",\"look\",\"new\",\"thing\",\"little\",\"got\",\"back\",\"over\",\"most\",\"say\",\"even\",\"his\",\"life\",\"only\",\"work\",\"many\",\"take\",\"need\",\"did\",\"lot\",\"kind\",\"why\",\"good\",\"around\",\"every\",\"different\",\"down\",\"ll\",\"let\",\"her\",\"through\",\"same\",\"being\",\"come\",\"d\",\"day\",\"year\",\"three\",\"use\",\"doing\",\"put\",\"called\",\"any\",\"today\",\"percent\",\"made\",\"after\",\"thank\",\"tell\",\"great\",\"human\",\"find\",\"didn\",\"fact\",\"talk\",\"change\",\"started\",\"another\",\"idea\",\"big\",\"last\",\"own\",\"before\",\"its\",\"never\",\"should\",\"better\",\"give\",\"thought\",\"went\",\"might\",\"important\",\"000\",\"again\",\"able\",\"together\",\"still\",\"problem\",\"off\",\"next\",\"part\",\"course\",\"system\",\"him\",\"does\",\"each\",\"start\",\"show\",\"long\",\"ago\",\"story\",\"came\",\"brain\",\"few\",\"bit\",\"between\",\"used\",\"place\",\"technology\",\"women\",\"too\",\"old\",\"mean\",\"data\",\"water\",\"looking\",\"question\",\"maybe\",\"found\",\"love\",\"doesn\",\"end\",\"example\",\"10\",\"done\",\"point\",\"four\",\"real\",\"wanted\",\"ever\",\"school\",\"understand\",\"sort\",\"live\",\"call\",\"whole\",\"children\",\"always\",\"trying\",\"may\",\"person\",\"away\",\"believe\",\"feel\",\"try\",\"million\",\"working\",\"help\",\"everything\",\"five\",\"country\",\"thinking\",\"second\",\"using\",\"information\",\"money\",\"means\",\"power\",\"took\",\"times\",\"high\",\"space\",\"number\",\"kids\",\"home\",\"become\",\"create\",\"small\",\"design\",\"making\",\"best\",\"left\",\"getting\",\"future\",\"enough\",\"man\",\"quite\",\"city\",\"without\",\"sense\",\"happened\",\"comes\",\"social\",\"probably\",\"less\",\"light\",\"talking\",\"energy\",\"am\",\"building\",\"science\",\"food\",\"body\",\"told\",\"interesting\",\"ask\",\"half\",\"pretty\",\"hard\",\"play\",\"anything\",\"lives\",\"countries\",\"coming\",\"such\",\"family\",\"stuff\",\"dollars\",\"earth\",\"moment\",\"20\",\"imagine\",\"across\",\"side\",\"while\",\"saw\",\"happen\",\"once\",\"okay\",\"build\",\"having\",\"men\",\"later\",\"experience\",\"makes\",\"asked\",\"living\",\"seen\",\"says\",\"room\",\"hand\",\"simple\",\"health\",\"ways\",\"else\",\"case\",\"yet\",\"almost\",\"young\",\"days\",\"nothing\",\"care\",\"bad\",\"happens\",\"goes\",\"move\",\"states\",\"reason\",\"computer\",\"open\",\"learn\",\"africa\",\"process\",\"inside\",\"someone\",\"six\",\"far\",\"mind\",\"project\",\"remember\",\"single\",\"picture\",\"both\",\"whether\",\"problems\",\"saying\",\"community\",\"basically\",\"already\",\"within\",\"looked\",\"myself\",\"billion\",\"often\",\"possible\",\"business\",\"planet\",\"global\",\"everybody\",\"top\",\"sure\",\"public\",\"set\",\"wrong\",\"car\",\"book\",\"keep\",\"yes\",\"answer\",\"oh\",\"hope\",\"sometimes\",\"true\",\"history\",\"war\",\"guy\",\"child\",\"instead\",\"months\",\"ideas\",\"looks\",\"matter\",\"government\",\"amazing\",\"united\",\"since\",\"bring\",\"age\",\"cells\",\"job\",\"heard\",\"until\",\"face\",\"wasn\",\"100\",\"read\",\"control\",\"isn\",\"research\",\"30\",\"words\",\"u\",\"group\",\"under\",\"self\",\"somebody\",\"built\",\"state\",\"woman\",\"turn\",\"friends\",\"beautiful\",\"line\",\"knew\",\"couple\",\"order\",\"form\",\"yeah\",\"internet\",\"middle\",\"music\",\"piece\",\"nature\",\"head\",\"though\",\"stop\",\"everyone\",\"50\",\"places\",\"video\",\"learned\",\"language\",\"run\",\"night\",\"decided\",\"study\",\"word\",\"cancer\",\"taking\",\"works\",\"became\",\"exactly\",\"species\",\"society\",\"completely\",\"education\",\"against\",\"stories\",\"large\",\"share\",\"level\",\"heart\",\"america\",\"model\",\"questions\",\"gets\",\"mother\",\"god\",\"company\",\"turns\",\"ourselves\",\"happening\",\"hear\",\"art\",\"themselves\",\"must\",\"itself\",\"rather\",\"kinds\",\"students\",\"name\",\"hours\",\"disease\",\"front\",\"house\",\"huge\",\"couldn\",\"created\",\"universe\",\"ok\",\"animals\",\"american\",\"environment\",\"worked\",\"minutes\",\"ones\",\"black\",\"perhaps\",\"1\",\"past\",\"third\",\"along\",\"others\",\"finally\",\"sound\",\"early\",\"game\",\"thousands\",\"century\",\"based\",\"least\",\"per\",\"ted\",\"lots\",\"figure\",\"free\",\"guys\",\"particular\",\"happy\",\"news\",\"learning\",\"entire\",\"won\",\"gave\",\"machine\",\"india\",\"during\",\"systems\",\"air\",\"difference\",\"outside\",\"natural\",\"taken\",\"seven\",\"given\",\"changed\",\"leave\",\"cell\",\"15\",\"close\",\"behind\",\"cities\",\"full\",\"scale\",\"difficult\",\"china\",\"takes\",\"companies\",\"yourself\",\"area\",\"reality\",\"seeing\",\"easy\",\"turned\",\"cost\",\"eyes\",\"team\",\"moving\",\"population\",\"culture\",\"york\",\"hands\",\"whatever\",\"began\",\"needs\",\"terms\",\"image\",\"simply\",\"needed\",\"beginning\",\"father\",\"local\",\"realized\",\"media\",\"death\",\"parents\",\"view\",\"walk\",\"white\",\"market\",\"parts\",\"ocean\",\"economic\",\"eight\",\"powerful\",\"known\",\"week\",\"size\",\"felt\",\"humans\",\"certain\",\"spend\",\"longer\",\"phone\",\"wonderful\",\"cannot\",\"grow\",\"common\",\"center\",\"tried\",\"fish\",\"land\",\"oil\",\"political\",\"interested\",\"deal\",\"red\",\"gone\",\"amount\",\"weeks\",\"spent\",\"opportunity\",\"paper\",\"lost\",\"national\",\"quickly\",\"blue\",\"step\",\"poor\",\"green\",\"buy\",\"growth\",\"wouldn\",\"either\",\"patients\",\"sitting\",\"ability\",\"changes\",\"write\",\"challenge\",\"south\",\"low\",\"growing\",\"friend\",\"field\",\"shows\",\"2\",\"born\",\"rest\",\"climate\",\"40\",\"test\",\"street\",\"surface\",\"incredible\",\"average\",\"physical\",\"morning\",\"scientists\",\"program\",\"pay\",\"value\",\"feeling\",\"hundreds\",\"girl\",\"met\",\"behavior\",\"economy\",\"dna\",\"complex\",\"access\",\"risk\",\"animal\",\"structure\",\"feet\",\"attention\",\"areas\",\"anyone\",\"deep\",\"watch\",\"short\",\"absolutely\",\"speak\",\"brought\",\"die\",\"bottom\",\"numbers\",\"audience\",\"stage\",\"realize\",\"law\",\"images\",\"wrote\",\"understanding\",\"knowledge\",\"literally\",\"books\",\"movement\",\"ground\",\"giving\",\"eat\",\"force\",\"seems\",\"alone\",\"telling\",\"starting\",\"hold\",\"nice\",\"forward\",\"sea\",\"developed\",\"individual\",\"kid\",\"millions\",\"support\",\"miles\",\"tools\",\"running\",\"online\",\"result\",\"act\",\"medical\",\"technologies\",\"north\",\"lab\",\"development\",\"blood\",\"fear\",\"nobody\",\"map\",\"personal\",\"issue\",\"voice\",\"material\",\"key\",\"12\",\"recently\",\"theory\",\"cut\",\"cars\",\"sun\",\"fast\",\"changing\",\"playing\",\"clear\",\"especially\",\"soon\",\"girls\",\"patient\",\"choice\",\"fly\",\"creating\",\"normal\",\"discovered\",\"europe\",\"talked\",\"relationship\",\"gives\",\"generation\",\"dark\",\"type\",\"showed\",\"chance\",\"seem\",\"industry\",\"asking\",\"rate\",\"fun\",\"issues\",\"color\",\"designed\",\"hour\",\"university\",\"innovation\",\"several\",\"class\",\"computers\",\"english\",\"tiny\",\"allow\",\"save\",\"focus\",\"digital\",\"solve\",\"developing\",\"network\",\"film\",\"special\",\"wall\",\"situation\",\"baby\",\"solution\",\"reasons\",\"box\",\"knows\",\"meet\",\"dead\",\"stand\",\"begin\",\"haven\",\"impact\",\"anybody\",\"term\",\"beyond\",\"pictures\",\"please\",\"ice\",\"produce\",\"shape\",\"non\",\"resources\",\"robot\",\"cool\",\"groups\",\"likely\",\"stay\",\"available\",\"truth\",\"rights\",\"major\",\"cause\",\"evidence\",\"obviously\",\"writing\",\"experiment\",\"modern\",\"drug\",\"becomes\",\"incredibly\",\"aren\",\"bigger\",\"guess\",\"nine\",\"product\",\"drugs\",\"lived\",\"involved\",\"perfect\",\"google\",\"month\",\"effect\",\"similar\",\"putting\",\"eye\",\"pick\",\"message\",\"quality\",\"violence\",\"web\",\"evolution\",\"security\",\"office\",\"basic\",\"solar\",\"indeed\",\"general\",\"towards\",\"present\",\"drive\",\"send\",\"listen\",\"worth\",\"revolution\",\"explain\",\"hundred\",\"certainly\",\"died\",\"ready\",\"teach\",\"journey\",\"25\",\"hit\",\"walking\",\"led\",\"approach\",\"international\",\"200\",\"scientific\",\"games\",\"60\",\"potential\",\"crazy\",\"communities\",\"chinese\",\"device\",\"source\",\"camera\",\"rules\",\"sex\",\"carbon\",\"sounds\",\"boy\",\"reach\",\"starts\",\"examples\",\"west\",\"3\",\"success\",\"measure\",\"particularly\",\"software\",\"totally\",\"suddenly\",\"action\",\"college\",\"higher\",\"code\",\"eventually\",\"democracy\",\"among\",\"minute\",\"sit\",\"largest\",\"showing\",\"hospital\",\"notice\",\"period\",\"mass\",\"develop\",\"dream\",\"onto\",\"plants\",\"break\",\"add\",\"memory\",\"everywhere\",\"favorite\",\"11\",\"zero\",\"speed\",\"schools\",\"moved\",\"response\",\"wants\",\"extremely\",\"movie\",\"individuals\",\"table\",\"wait\",\"medicine\",\"follow\",\"anyway\",\"trust\",\"plant\",\"biggest\",\"watching\",\"organization\",\"creative\",\"road\",\"choose\",\"worse\",\"lead\",\"results\",\"500\",\"exciting\",\"grew\",\"materials\",\"jobs\",\"plan\",\"east\",\"poverty\",\"positive\",\"safe\",\"strong\",\"fall\",\"essentially\",\"object\",\"door\",\"son\",\"vision\",\"further\",\"happiness\",\"continue\",\"student\",\"doctor\",\"including\",\"named\",\"role\",\"objects\",\"extraordinary\",\"standing\",\"skin\",\"leaders\",\"usually\",\"african\",\"conversation\",\"projects\",\"allowed\",\"models\",\"supposed\",\"faster\",\"interest\",\"families\",\"police\",\"fight\",\"tree\",\"connected\",\"screen\",\"5\",\"cases\",\"goal\",\"somewhere\",\"finding\",\"buildings\",\"shown\"],\"x1\":{\"__ndarray__\":\"SXiQZOCWH8CUW1wKE7cOwPmzUsI7DwfA4Wg+//1v+D+s826mOdE4wKB2iDbfgec/5KSEP/i6H8CofNOHNqrwv/tY9naZu/Q/Uv+WJjiHEUBrZ8k1cLcQQCMgHQjCLBpA/UtrOVE4GkALf4PllPfyP7gsMh7Rv/O/WxiFVMN4EECnYTS2uZ4gwEgUpbQe1uu/leuuWpbcE0BfSmttrQglwPZKGVBzMtq/KBs5j/VnIkAo/DmzulHzPxJq2T0n8QZAATnbaCHIKMAAq3yPpi0iwDXE2BYRBifAeGy9ZmEfFMAOec0lOesjwG6o+DYI2ibAj/iy0TiUJUDaH/iy/PgkwCY55eR9nyjA29r3nH+IIcCCcO/NlsUdwGGms/PaJDfAbGgqASfSE0AQAVdVi5L2vy94z4gdLxvAYtDKsdkgJsBD3N2MDsonQFMx37HK+P+/Ms/zGy2y4z+LoDBOhG8ZwCAoVZGGQDjA1HIX16fIIsAZCXNMdz8EQG1WWriHTijAAvgx5pSbB8D6okXDwWjZv8kcHGw1aDLAHCiJVByRIMDLU2iWVMoZQFOKny/xB+O/Z7mUox6Z7b+UQiA+neflv7xfslO6FhbA5XsgmGFxEUBTSpOWtFniP30jyOzIYxJA/wx1MCDXL0AdymMZ7H0SwD40SKJGEQjA3zKJNbflE0CkI/N+FwofwHjNhKv3/hrAF/Lfik+Ln79mAe2NaGfvP2jtHC69CSfAA2huie7oHsAt452raU0xwL94s0xGlyvAJMaVEXevB0AX7YJvF7YVwPEQVoEpni3AJXxEK6yKN8CyLnqwfivjvw/lRxTOwi/Ar5sysOYQJUCTu909V60TQDlKPK/iQy9AoK7wvlA5+r8SYbA8OVsDQChqzK/k7CvAmy+8tb9JA8B4c+tAYd4nwK0nkz03GTLAI2cqp0Ytz78JnBDe+rAYwMt+abP0QiDA0eJAw8t/J8B/Q34WgpwpwKAACrbmhB/AzXNMhKfvJ0AkbkEls88iwFAsrSU3by/AQ39gBIQeIsDePyNJq8EZwBWPfw6QTSVA+409pGlLI0AQqHgUz0IEQKCswYWEmxJAJ3aZgZ1WJEBvBIM9yt/+vzQLc/+cydM/Cv36P3CS/7918mdcYevmv37m3jkyySDAr4r9dSgsMMA9w1YCQv4AQAX1l89erilA3eURKKtsF0AlAt7uyMoJQFaolzybKTLAG3qA4E2ZFMAfc3nxDJInwJY6bbrZ3x3AtJooKowPLsCEeKhRdX4nwFvJrADeRTbALMsgBI85JUBlqqvjUz4swB8w2GVyridAY/CVsMjjI0De75cGEQsmQHX0G5R98yRAE2V86rYd8r8B4os/oR8tQGYGcTnaIghA919olN77MsDYgUKELUAawMADSy45ExlADpymWTYaKMB98FvRh6sawIQJrqIDQRzA0lCib8KCBECRU/RyyFYiwPwKCMKqESzAIplEQ689KcDMZkbWLc0mwM9vVslsky3AYNCpMkQcMMCaSWZFgBQkQP7NsIVW2S3AOx08o12QFcC9biIWKfUswEa4Z5oFGCTAyQWpC0PZKsC/hPMacNEywFaV/FTcIxZAGtBxzchjHMAutN7h2+wAwB1PUJpmBhfAjeuL6PzqHMDULyD1Mq4UwNLphcERAirAUVQ928qpJMCQYTyOShUvQG1YPY6jUy7AQxbN81CgG8D8fz/yNCMswE0SoyjbqyFAsU5mmUE2OcAEQLMVsT8wwJvH1rin0BPAN3JJo8wUEkAz4Tg6cpopwFph9eHAHwfAD2PQWdIGKcCh4HuUot41wIuRB2w8XSbA/3ZQsqcdLkAvmz6z5iUtwOlBKINCPCnAT0m5KFCzBUAb/l38rZImwNEA1HoMyhPA+fqbVKRGGEDqhzcr6qAVwEvH+Ea2xtw/CAFgjB4WFcDhAhLYWjUmwCjUU9Y+fDHAiv8ExmwIGkB2TglovT0SQHV4bNb3KTHAResu1aCLKsCpXnC7QRsuwGjWKI5cTCDAr1WZfUmHI0Dh3w8Mhu0ywAGrUh824SXAA8PgCPPNH8BtOzgrBnUewJPSVi/6tPG/jHCNGNgJL8BAjpkZlT4FQI/6dTdhPBdApVzOfuaDIkCsyEHzggwJQBx/TZ/wsPo/A13KStai7b/2ElCXCWIwwOw6Q0zsICHAjWIv581s5b8QSCcn7MoywGXE3JDCfQ/A6opwKq+GEcAYRyCzFqkewLOu3vVq4h1AgoEuM3Cn6r/8zsXestsuwOY67NEwXCXAGKhEdOadJ8DNn9z4w20twBfCQZv+NS9ARw3Ffk56EEBm+YmU73P0v8NlJdsKnCFASPeXYFd1JcB37lpZBKQrwK/VF/PYqyNA8Zn3MHecIcAiChbX3homQFIPyJo/4DXAd2Cw7Ox5KMB4MxBMDAMawBOCPMe88iRAVhdWvnilJcAgFUpwd5YhwIuPvuLIXhzAKMSk/GrS/b8hxcX2YPgowBLROquzrt4/rqAeozSaJsBKsUvp2dEPwD2WSLrPcRtAfKHgkHOUEsCvSu1UzfkawG4t6i0egiRATtqiXkHLGECo+PmK2eskwPsK+MyKkCjAtdWnDj9BI0DFW0fNNg0jQAjE4w4hPS/AoAvE7bafCsB+xDOp7+A4wLtXhmZjPhzA1Q2s1ze5HsAiz1qYv3cewB2zaOx/YwfAaDs/SMnAMMB0j21YZwARQGyj8lwuRzPA18n1AL8MJ0Cz1Yw5Q0YmwPyZP8r0Ch5AP0Jcy6ASAMCxiT+1iSYnwOgDWj7+YSrAhNsOfbR+LsCF34JLj/ABQDder8S3HzPABtKqMQlVGsBXQI7XdpE0wBUCOuRqhuI/iOZ9cHBoFsAAhj+5cxEzwKz7cOX6SCHATNr1XfjwE8CwOH39j9wxwGEG5oMnBC3AVmENtpGD1j9AdHRYK+4uwPMyyLNzISnAwtn/zs/1HUCVsl7TI6o1wHV/2a12sCXAGMAZinWGL0D1YMdnDAkcQOEF28gO6QrADz31U2MYHUAQeNeMqJwtwCUnT3RDdCLAckhazwliM8CfOdmLMoogQHE95Z8vJBZAlVxuR1F0BcAJMFBWYwsUwENhsqM3FiDAgsLyIPS3I0BWdbQJpZcywIFC9DYsZC5AZWzQlswSI8AQxB9ut0YjQEaSD4cJezPAaxoq6i6hBsDmgfswwf4TwOqd+MMlniXAB3TmHgddMMBp1Vnb6NvNv696GRGQARNA9CtzOkEyIkDW1JHRSkk0wFZwod901iBAm988JsWbHsBJmRc9uoYHQJ0ViUrn2Q9AeTZfgCKPEsCOcDwj2tkfwGfnEGWvwyPAdPVNlJ4zE8CWzxc61qgcwJXJ9Wz7ey7Apq+HvW9BEcDGvwxSnsHmvx0NucK1ePW/U+MEM2GTLsCg5AR6cUIWQBe4aA6UKQTAFDRPmC9HI8Dw4tWauBklwHqZSRiBmCVAiGeF9Sv8JMCuJLJbYHQQQF9Jmv6x1RjAkHw3qj/FN8BDCBTEHNwQwP3Cz3Y34yRAOC/odrbFLsDJClUk+r4mwF+lTzmvmSfAqCr65POOCsDmfZRj5oMxwNwkpr/fQiNAZps/JTjRMMDpAbZ+Bx4tQIqTQzhsTA3ALcDherzTHUAKhyItX3AqwA9S2pVJVjHAyG0zd/K8AsAOu3J3aq/8P8eket3vKxHAr5XU+UNlIcAyPEkxgx8wwDTP+5xBpSrAQmFXyUSSzT8rPkVI3dYhQD8gy3nkxiJA2qdAlZBHwD+AA5PN3kotwHs06PqFGzLAVzZTkZInGsBle2kb9icdwAD/zH2NZsa/WphE2/HGJcBxWSsei9IowIH3HodxbRjAwYTX+CodEsAA2fNuFGo3wFbI8ThECSXAQRXt0A/2JcBBvysLAXa/PwSxAYb5yfC/8zRRL57pH8B9inkJB/cYQM/kEt1WYyLAGkTsaIhiF8ChA9UQgRg3wD+VsKMRYSJAooxNSYmeNcDxsWpBOb0hQH0SzWOPzxNADuyTGSEFH8AhjTkRoO02wJTJrR/BHSbAB7tEEBvRHsCsdBHummH1P/CuqI635APAC7eCu2IPJ8AG8dypsesbwJvcUSc8hS7A4pjlmKoGG8AsCYfj+O8vwGWjUP6s0CLAP9wydD1fK8CleoInCO0ywIhaKnA1/DHAEtjZCxSxEsCDB5nB4t0RwCXX+KeXDCLAPLfUHCeTMcBNZVkkUQ4JwPlQO4b3GQTAq1i3lpf1K8C9/VXsu+02wKsRXgiMjBLAb5igkLSxMMBGMHpbnQwJwGuuBEJMQCzAyYcTrecpEUCsp5tnaG8HQNDY0UoMCjHAOyU/tkkxJcDxQ+QBPOwHwPrbZ0XFBBdAXlopNjZRLUBY3Lxj2hUfQCqATKX04B3AsNNvV6ABLsB8eMVhN1ktQCU09n95EDPAFdTz39PCIECcKxKfpDnDP/54hrajry7AVV9Qz/3LM8BWyDf/ZfX7v/gxLrbbsyzARcZA79/SIUAuRR0TbwImwEcxSQgOxzXAQFNqb5DVD8D4EGbX0KcqwA3iVeoP2gHAcB850hFkFsAMDia+5OGqP9gXCq+r8CjAY2SlGTCAIkDhDawJrXkjwBJwDbOY4ifA6VDvH9HfG8CKr82pz5MhwKtmJjnIoC/AD02Ukgv2DMD+DB9Lmt+7P0UyVubtzCzAh7tEUy+67T/vKf6ykxokwIOHvG2F7SXA6RWBAN65IUBsLnMBpCMgQJmSM76bYgTAFfkoapqZ8T/YU0WSWwgnwJihGmp57y3Atq/0rksUKcAtI71kszwswAjloYBfVSRAJ0pGV1nbMsBN9jKcxgMJwNvia0RF3BVAIbqeTGcyFMBTXSAlxDMHwJOcW9JmNCDAmNWjXyfMJMDOQEfJZl4IwDVIzMxG8DPAZuiWVMbRJ8B/Pnz10EY3wNYx4RFSIf4/xfk/h6tx879jMSk+afIBQFlJtlWhTSLAk7naZ9PYFEAPtKIASyQRQDJfmaQ3DjDAA51MredbMcB+frsyAk0EwJBXT8oFEhxAeGNs2IjUFcArpGNAnUMcwKI0fARgQDLABWNdoXj8AMBgpPdq4b70v/W8Ie7GuRTAg+FZmtHaG8DkW+wLtJozwIiPEvIsfPa/cIj/8aMKJsAPbi09xsoowC7N+62Cay5AoiMxoUQsD8BVHyZj550DwDo0/Yoq9hHAEzhowHRUMcBbiidbatcVQKL0KAB6/eS/q7+2VJyFJcDuN/59NlUTwOIAA/MuzC5A8xGNURcmKMB9uPZ46mErwBgTYKHzaxzAy1Twsr7CDMAwu4z7XEI3wIxLgf3PnS3AqRmoiq4uJcBVJJ9HRZIxwAscnpr98/K/zlAM991R3T9k4vyf4bolwIpi07QJERtAPtIVkRf5IcCrWP7ULVM4wB8fM5jWlARAGeu9Yg/nAMDhcPPMfZsNwO390y0ufA3AtXOE4+FKEMD5Pruby0nsP5ZLaO4N2yVAEaaSeBNgMsB/8B8cHNQowMtyMn2pVxNAjBIizm9iF0AoxGu0bfj7vyHcgKkFqiVA9MisGDd0IsDxJUEGyssSwCuS1wDDLKy/XtoSdCJxHMBlDBpQRC4gwALx3Ms9aC3AVHQAF7eVJ8BoGGJoaCkVwIuOCu1PsS5ALcJFSicnEUDK4cRZ+3H1PwUFB3qHxC/AxiOjVor8B8A3F5zwersVwKRSRUzr9BxAavJrEr4sMMD6QiuXtPS5v1bmSS+LGSPALbP4vrgbIcBqrK0+bfghQHAAr+uZ9yHASIghOp6VKcABfWAqWEYkwA0EnR4YGQdA8K7H5dNFIUBy2+r7z87ov3DBvAc2/+A/hQ/9DHYACcCow7pqvG8UwMywcg7dqyTABhYJOldZLkAqfJwOB9YvwN3FjIJuKxhAwiQlNPIgEsCrTpAO1Z4cwMNi5LbcySTAjT9RynxELMD6D9aTwD8TwEFinQ7QXi5AA+CZYof4AsApApdRAbwYQPEx/NnEeRRAcgWjWWWBM8BT8D1FAJsSwHFBI4fgFzXA/tYP55fALsAIwiLYukEqwMnQ/GnDlxRAy68l11HaKMBHnrmqt9ggQPMdO0QbcidAupWiNDj0McCA8EmD0uOmP21Srx9ezSPAFl4gtEOgJEBgp4wszpHpP2ZOMPl0BxbAEjSF36YYNsDyLWo5Rb8nwJIzepHhfDTAop8nJ6l7NMCUUsLx+7QBwFCvwlIq2y3AxxM/xYbnJ8CZx57nBtvdP9tjJWp6WjPArG2ST5PNBMCyV1mSsvMbQMJSdSmPOTXAp91CzuPEIUCVnXr/JswZwIuI8LSz7SjAGmQNNC9ML8Cv/8staToQQFJ40zeRjijAtkgLlGhSDcDcZR0xkZUdwCcQ5N06jirAYIk7UD7lK0BnzT8jVNr6P2b2cQhunBTALjKp6SDZJcC0EkROee4rwOs05q5JixzACGqR6aPMK8D0D7wwNS0lQGAVjYEuLxhA7zIoIvYhGkCnD+0SNNMaQMuBSSqEgzXAjPYMtEebK8AzuDBN1WIvwCtJaE0U5/Y/V7rwg/wSIcBMg430pxAbQBikC/DuejHAUFF8wNjcI8DvQWAlz5kxwMBn3HBOudY/pPu5OLnNI8CO9kNT2Pk1wCHTHig+oei/xCSDI0Jp9z+N+ArGUtkxwBd/sBHdGg7AGvgm9khN+T9Wy9TIDt0pwFxlztMaHjXAPKbJ5FK4LkCECNccq9UowKdvI+sHqgfA8KC/OfYVBsDweh7gEpsjwFXBzpzKJSLAYazY5fMHHsAc0y4vlfswwG9aQx6SpTDAErkTOOwFJ0Cc9WMW5TYawBNb6ky4VBXAtLQTkdXlJMB7mUvhE0EWwKgkqRjUkhtA7HEnduL4CMBtGCpNVzkSwGTb9Fjw8zXAPA9EO0oOIECqlnmcMQYywLY5Mx8PYOe/fxJsFHTjGkC/VqJMXBMZwMDQbN1pmw9A5h3hCrorI8An/Epr9qAswB1lQRS8FhTAiIbk/KgrMsDfs4+TitgpwI4eZSVzsDDAiq1lYkinLMBtGVYALtQlQNCszMlvthHAb9waioZGIcC4lgRZllQtwLLHKd845TTApzyjNfUAJMBfAcsDc7sawN55JtmunCrAb1vmXgbuE0AHCB8i2sQnwDob8H65GifAoSHtQLHhM8A9t/6/4UsxwCCbuDyD8gTAyYQNPDyKIUBNDG3tjMT/Pz/5PY4kryTASmxiSEr0HsDPeWmw/6kowOLkxSFZwCPA0CTeOlYkIMAEYg4/inMmwHyzwdOCchNAxoBzJOQS/787Z5fWNLkBwJChXpEvA/O/vpx80exVFcAw8eGyqv01wGwkUqgPOfa/jXoD/IV4HcAc+umAoiAvwLOVcmYIWTDAaOduH7HiBcDarFGUCVG+vw7nbS4fQDLAGRYURGk2GEDrlVrH0YQUwKFT2pfoHyjAC34an/EtMsBOElZ3wA8JwL7N10/UqSTAjh24f5N7C8DCIJdkh1zBPz+Cz4dA/CfAAuMJRMn6G8BvFQyiXxUoQNRAJJT/khtAmzV0dZYuJ8C1AF7H+rsnwIugYJD5/BLAw71+gefhJUBC2JgCJiwqwH/94wSH6TPAljFJCzHlFMCDVNFGs54MwPjP82JLVxvAFqIwPMaJKcB8xeR3XKUuwKtrSjp6HDXAKd01bZU5FcCpmDMLgqwwwLNVtsL42zLA6UVCa4fANMB70WJfOfwQQLHpbLnuQS3An2pFysayIUBWcolAHdgjwK/bOIwElCnALpP8XjRVMcD8aHU9KSUOwMTD30CVqybAoTWAvMRUIcAZvgRmqvIgQBpMj+yd0CPAaIu5TtD7K8CjqTxPjsYowASwGb2IKRHAmPsVV3zbG0AET5gdFebnv/aKuLM1iiLAJ9/1C1wODsCumZ1SJRQbwGMSNtAPmyrANMLQBTRH679NM1PwU1YBwLGJQfbyZhDAYmHMRB4OMMDLSRZtF4YowESASwCpFiTA4vI0o6n/IsDYeD6FwX0nwDD2MpYcBTDATiIU0QRuJcBkfl0kJR4wwDPHfZdbARZAxMiHcM9+McBk165MoywAQJwCyAVtNSfAlfZsmVcFH8BUBDGnxjUxwKqQcjyz0gvAUdQkV9RUM8Cs7b/YnrALwJ5+h91aUhRANJZUDhOlIMA5cZmyu5gXwMna5kbzmAhA8ltSwzDLJcAfmoql8UswwHToShkdYSjAxoR5OyFcNMCjm5Z+iCkhQMbojBRCoyrAnK/7yrJgFcDm5hA+Vxc2wFIQBd+10wJAXnBgLL62KMDjt1i6HjMpwAyd+WHZGynAqNs+p4SNIcBuVGjZEGUrwJ1+PoOuiyDAKMj2NZkxJMAHg9GKRgP6v50gAEDEfCDA0524YuN527/t2J8WZnswwFLxb3hFJgzAL4o5tsh3McCKS3norogCwArJOLUJBL6/8G/My0afJkD5yexus9IkwB5Qo099vQXAprZWKoWHJsDA1CwUgOcmwA+a94SJ4i1AAhw5TZLcKcC4cD2KFIchQLfEUpQmCzLAll9K5VknKEBQf4SXFabpvyeFP3qqEx3AODbUYPCSG0Doxq8zOfkswEyjAaRlXSjAPRVQ+cbWJcDYU1TY0NoVwAaeA80pyPU/UVS0PqbsGMAQQBBe8KsNwGExHmph+v6/Gt/vlDulJsBK2tUPPMgVwPFwLX/2TS3A/TyLwiDoN8CGx6sul1k0wKmJXdxXSi3AywAnO6lJK8CPWtEeRhwlwNQQlXKJEBnAgvsxb+YfIMDcrhwVlDU0wI+BVpcU7TLAddLUwnAFG0CjsgZb0tIxwN36S0PJiy1A8pcRn3s/LUAEF5Bif/ogwH+qTxJfLiFA6SArCNncMcAlhQZUuXURwB1mylJZliLA2Iam83l6K8ANnrPWO7kiwOWueTdnFh7ADciylQOzL8DGyvg2iMopwNjqEVdI6hjAHdaFCIbXFMCSUPpNyngNQLUKihowwCjAbJF1rgE7C8CvFXYhO0gxwBLENiC4/TbA99SUrQcCIsB9ujOro1YswKHHHRm3ATbAgw4LBwa0JsDQhKolX+ohwOY+kXh4ohlAWU94TBF2JcB5qW5GDyY0wMWKsS5TFChAZJrENHO2J8DCk6Fn1e8rwLV70D60JyvAN1YJH0WHJMAwJ43DFBgnwAhp82xXETTAb6K6cDlqF8B/8URy0UMgQJgUmBql4iXAJqRozcPhIcBY/LYpml7fv9+sBbRaHiLAZGs361v+MMBIPuS/z34fQLqtinJjCyTANrPPN989EsD/u3aNBe4hwEBvraFxPDHAmywuEM/2NcBuo6U31uweQIN38Mh/6TPAMOaEDiqPGcBnxIMIVXwfQB/czSH6lTDAanog0ZzGHcCRE92v9YcPwORnUiCXMjbAXBcHEq3m1T+4EudHj2cwwLfJWg884vU/xFwBzvWrEMAWR8HUQBsrwEZCCRpBghtAhL4b+HE8DcCyzYIcXbcMwMx6ckmNcSnAob+Oa2FvHUDv/iW6wVn5v7n5kOS/7S/A6a2/xatFHEAV8jHYKQAwwAVfxl5IfC3A3OkIjZ9IKsCEXzv6GjUhwILVY8sOzSvAtqpd2BC3EMDotrPEG5sywOnA8CxsqCfALbIeVK4RLUCnXucMvyQjwFyMcHM5khbAWbNTYverNMC4kom0n1wAQJ2M2hNpfi/AgbFUkgmkJsDUJi/kJYM0wOEZkBE1ORjAl8MfubEPJ8CYWBOI0LccwBL1bDrs7yDAOh9Ziw8AJsBT8synq2QswMB7b9ah4TDA+XNsddbh6j95M2BPuKwQwGZYINYPdyfAO5Ci2oBkKcDXCtiBuBMrwNn0EBop0wbAQNrPZ7JgE8DzNE2W3jMfQDcnNCeSJxtABAh972E7FUAQM9wl22oQwJL7zZY3tiDAqsfOoOrUL8DUIatGvN8mQCeNuI795THAoKghtL+E1z+/NMeVApoKwPOrOVnDIeC/MA12gWBJJMBftNuv7dszwI0PC03MTCbAGwNqocCaI8ARHgbz5BwnwFrqqF++ZibAPoUH7kBzNMBoCD04+UoOwG2z5NVrPzXAUVvKuc8sJMAVU1fkJ4zov95ziAtu7iXAOqim8Y5yLUBdmReW49UowGC5E/CNXgHAVopIfxAnHUA+RMwPysMVwLfVTu8WjxvAgN+b0XS/E8ChFaFhm4ARwJTZswu/qTHAe1L0evmVMMBIXSbbrRI3wEhEctdldCTA+uCKVlBLIsCcIQ3tQ7UawBCa4mAAryfAYdHx/HwQJMBkpy/yADL4v7k/8b63gdQ/r1Csgy5TFcBpkqEMNscvwAboBioLfCtA1uO4SYQNLsAvX518j4UnwIeBKRkcQifAwKNod13eD8AfqOhOE1sAQHY4AaFrjRvA93ksvHMFMcA1qM8pcygPwG6jJzbJqxHAW34rmZLFAcBOFX0ZrCsQQGtHOJpLgRHASMk6FUEQI8D8HY9BqDw3wGPwiKsQOzDA4wuo1JIVBMA9euMOl0bnv1s7gGI1OxTA8pCppm8/4L9DOmxE4fYsQIvamHp1RzDAsSXFRDd8DMBOuTQCo3M2wHn0x1XXFifAY8YXfg7b7b8Yw6bsfrwkwApV7w1ZgNC/YTa1SVX1HEDxlJBRX2z8v4cLBjfK8zDAG6OfHjEoAcCWZHG7yy0mwFBr55QfNxDAkFX9I4V+JcA=\",\"dtype\":\"float64\",\"shape\":[1000]},\"x2\":{\"__ndarray__\":\"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\",\"dtype\":\"float64\",\"shape\":[1000]}}},\"id\":\"668eaea8-3c27-4e0a-bee6-38a5d7b53257\",\"type\":\"ColumnDataSource\"},{\"attributes\":{\"plot\":{\"id\":\"fea076ea-0991-4e7d-80f4-40d2afa2c1b3\",\"subtype\":\"Figure\",\"type\":\"Plot\"},\"source\":{\"id\":\"668eaea8-3c27-4e0a-bee6-38a5d7b53257\",\"type\":\"ColumnDataSource\"},\"text\":{\"field\":\"names\"},\"text_align\":\"center\",\"text_color\":{\"value\":\"#555555\"},\"text_font_size\":{\"value\":\"8pt\"},\"x\":{\"field\":\"x1\"},\"y\":{\"field\":\"x2\"},\"y_offset\":{\"value\":6}},\"id\":\"be26ee4e-6348-40e3-9c00-dc7c76fd0af8\",\"type\":\"LabelSet\"},{\"attributes\":{},\"id\":\"0663da2f-9e73-45f4-bfcc-6280ff52da6e\",\"type\":\"BasicTickFormatter\"},{\"attributes\":{\"callback\":null},\"id\":\"0c08d486-ba64-4c28-a4e2-215b4313eee8\",\"type\":\"DataRange1d\"},{\"attributes\":{},\"id\":\"ef9742b3-b261-4482-b048-fb3cb06cf316\",\"type\":\"ToolEvents\"},{\"attributes\":{\"active_drag\":\"auto\",\"active_scroll\":\"auto\",\"active_tap\":\"auto\",\"tools\":[{\"id\":\"e0799406-2d1f-49b5-8f83-ae6eeeb99b90\",\"type\":\"PanTool\"},{\"id\":\"3d17b566-b6b0-4603-b2a7-4170cd4b15c2\",\"type\":\"WheelZoomTool\"},{\"id\":\"86aa3749-aba0-4c81-84b4-72219e3e08b1\",\"type\":\"ResetTool\"},{\"id\":\"7d2ec143-3ecb-4359-af28-dcbaee872200\",\"type\":\"SaveTool\"}]},\"id\":\"70418146-553b-4f6e-aef6-7576ac51823d\",\"type\":\"Toolbar\"},{\"attributes\":{},\"id\":\"744d5617-b00b-41d9-9987-441ac393d9df\",\"type\":\"BasicTickFormatter\"},{\"attributes\":{\"formatter\":{\"id\":\"0663da2f-9e73-45f4-bfcc-6280ff52da6e\",\"type\":\"BasicTickFormatter\"},\"plot\":{\"id\":\"fea076ea-0991-4e7d-80f4-40d2afa2c1b3\",\"subtype\":\"Figure\",\"type\":\"Plot\"},\"ticker\":{\"id\":\"38aa8d58-cb21-4ceb-ac24-d02fe4cba74b\",\"type\":\"BasicTicker\"}},\"id\":\"e400ed81-a21f-41c7-92bd-10a5d472dbb7\",\"type\":\"LinearAxis\"},{\"attributes\":{\"callback\":null},\"id\":\"6ebbd249-0841-48de-a1e3-18a40707dd60\",\"type\":\"DataRange1d\"},{\"attributes\":{\"plot\":null,\"text\":\"word2vec T-SNE for most common words\"},\"id\":\"244fc103-be9f-4bf1-a4d5-df838bccafa3\",\"type\":\"Title\"},{\"attributes\":{},\"id\":\"38aa8d58-cb21-4ceb-ac24-d02fe4cba74b\",\"type\":\"BasicTicker\"},{\"attributes\":{\"plot\":{\"id\":\"fea076ea-0991-4e7d-80f4-40d2afa2c1b3\",\"subtype\":\"Figure\",\"type\":\"Plot\"},\"ticker\":{\"id\":\"38aa8d58-cb21-4ceb-ac24-d02fe4cba74b\",\"type\":\"BasicTicker\"}},\"id\":\"9af1d03e-9915-4e5b-abe5-16b5cc5cf8b0\",\"type\":\"Grid\"},{\"attributes\":{\"fill_color\":{\"value\":\"#1f77b4\"},\"line_color\":{\"value\":\"#1f77b4\"},\"size\":{\"units\":\"screen\",\"value\":8},\"x\":{\"field\":\"x1\"},\"y\":{\"field\":\"x2\"}},\"id\":\"dcab3c10-0974-40ce-870d-e735636200bd\",\"type\":\"Circle\"},{\"attributes\":{},\"id\":\"5b7d76f1-a969-4d31-9547-0d6f4d1d9926\",\"type\":\"BasicTicker\"}],\"root_ids\":[\"fea076ea-0991-4e7d-80f4-40d2afa2c1b3\"]},\"title\":\"Bokeh Application\",\"version\":\"0.12.4\"}};\n",
       "            var render_items = [{\"docid\":\"b1891d03-d583-4508-8611-7a75cce819ec\",\"elementid\":\"4af9cabb-d3be-4e8e-aa5b-6befec696b67\",\"modelid\":\"fea076ea-0991-4e7d-80f4-40d2afa2c1b3\"}];\n",
       "            \n",
       "            Bokeh.embed.embed_items(docs_json, render_items);\n",
       "          };\n",
       "          if (document.readyState != \"loading\") fn();\n",
       "          else document.addEventListener(\"DOMContentLoaded\", fn);\n",
       "        })();\n",
       "      },\n",
       "      function(Bokeh) {\n",
       "      }\n",
       "    ];\n",
       "  \n",
       "    function run_inline_js() {\n",
       "      \n",
       "      if ((window.Bokeh !== undefined) || (force === true)) {\n",
       "        for (var i = 0; i < inline_js.length; i++) {\n",
       "          inline_js[i](window.Bokeh);\n",
       "        }if (force === true) {\n",
       "          display_loaded();\n",
       "        }} else if (Date.now() < window._bokeh_timeout) {\n",
       "        setTimeout(run_inline_js, 100);\n",
       "      } else if (!window._bokeh_failed_load) {\n",
       "        console.log(\"Bokeh: BokehJS failed to load within specified timeout.\");\n",
       "        window._bokeh_failed_load = true;\n",
       "      } else if (force !== true) {\n",
       "        var cell = $(document.getElementById(\"4af9cabb-d3be-4e8e-aa5b-6befec696b67\")).parents('.cell').data().cell;\n",
       "        cell.output_area.append_execute_result(NB_LOAD_WARNING)\n",
       "      }\n",
       "  \n",
       "    }\n",
       "  \n",
       "    if (window._bokeh_is_loading === 0) {\n",
       "      console.log(\"Bokeh: BokehJS loaded, going straight to plotting\");\n",
       "      run_inline_js();\n",
       "    } else {\n",
       "      load_libs(js_urls, function() {\n",
       "        console.log(\"Bokeh: BokehJS plotting callback run at\", now());\n",
       "        run_inline_js();\n",
       "      });\n",
       "    }\n",
       "  }(this));\n",
       "</script>"
      ]
     },
     "metadata": {},
     "output_type": "display_data"
    }
   ],
   "source": [
    "p = figure(tools=\"pan,wheel_zoom,reset,save\",\n",
    "           toolbar_location=\"above\",\n",
    "           title=\"word2vec T-SNE for most common words\")\n",
    "\n",
    "source = ColumnDataSource(data=dict(x1=words_top_ted_tsne[:,0],\n",
    "                                    x2=words_top_ted_tsne[:,1],\n",
    "                                    names=words_top_ted))\n",
    "\n",
    "p.scatter(x=\"x1\", y=\"x2\", size=8, source=source)\n",
    "\n",
    "labels = LabelSet(x=\"x1\", y=\"x2\", text=\"names\", y_offset=6,\n",
    "                  text_font_size=\"8pt\", text_color=\"#555555\",\n",
    "                  source=source, text_align='center')\n",
    "p.add_layout(labels)\n",
    "\n",
    "show(p)"
   ]
  },
  {
   "cell_type": "markdown",
   "metadata": {},
   "source": [
    "### Part 5: Wiki Learnt Representations"
   ]
  },
  {
   "cell_type": "markdown",
   "metadata": {},
   "source": [
    "Download dataset"
   ]
  },
  {
   "cell_type": "code",
   "execution_count": 51,
   "metadata": {
    "collapsed": false
   },
   "outputs": [
    {
     "ename": "ConnectionAbortedError",
     "evalue": "[WinError 10053] Программа на вашем хост-компьютере разорвала установленное подключение",
     "output_type": "error",
     "traceback": [
      "\u001b[0;31m---------------------------------------------------------------------------\u001b[0m",
      "\u001b[0;31mConnectionAbortedError\u001b[0m                    Traceback (most recent call last)",
      "\u001b[0;32m<ipython-input-51-435aca3ec090>\u001b[0m in \u001b[0;36m<module>\u001b[0;34m()\u001b[0m\n\u001b[1;32m      1\u001b[0m \u001b[1;32mif\u001b[0m \u001b[1;32mnot\u001b[0m \u001b[0mos\u001b[0m\u001b[1;33m.\u001b[0m\u001b[0mpath\u001b[0m\u001b[1;33m.\u001b[0m\u001b[0misfile\u001b[0m\u001b[1;33m(\u001b[0m\u001b[1;34m'wikitext-103-raw-v1.zip'\u001b[0m\u001b[1;33m)\u001b[0m\u001b[1;33m:\u001b[0m\u001b[1;33m\u001b[0m\u001b[0m\n\u001b[0;32m----> 2\u001b[0;31m     \u001b[0murllib\u001b[0m\u001b[1;33m.\u001b[0m\u001b[0mrequest\u001b[0m\u001b[1;33m.\u001b[0m\u001b[0murlretrieve\u001b[0m\u001b[1;33m(\u001b[0m\u001b[1;34m\"https://s3.amazonaws.com/research.metamind.io/wikitext/wikitext-103-raw-v1.zip\"\u001b[0m\u001b[1;33m,\u001b[0m \u001b[0mfilename\u001b[0m\u001b[1;33m=\u001b[0m\u001b[1;34m\"wikitext-103-raw-v1.zip\"\u001b[0m\u001b[1;33m)\u001b[0m\u001b[1;33m\u001b[0m\u001b[0m\n\u001b[0m",
      "\u001b[0;32mC:\\ProgramData\\Anaconda3\\lib\\urllib\\request.py\u001b[0m in \u001b[0;36murlretrieve\u001b[0;34m(url, filename, reporthook, data)\u001b[0m\n\u001b[1;32m    275\u001b[0m \u001b[1;33m\u001b[0m\u001b[0m\n\u001b[1;32m    276\u001b[0m             \u001b[1;32mwhile\u001b[0m \u001b[1;32mTrue\u001b[0m\u001b[1;33m:\u001b[0m\u001b[1;33m\u001b[0m\u001b[0m\n\u001b[0;32m--> 277\u001b[0;31m                 \u001b[0mblock\u001b[0m \u001b[1;33m=\u001b[0m \u001b[0mfp\u001b[0m\u001b[1;33m.\u001b[0m\u001b[0mread\u001b[0m\u001b[1;33m(\u001b[0m\u001b[0mbs\u001b[0m\u001b[1;33m)\u001b[0m\u001b[1;33m\u001b[0m\u001b[0m\n\u001b[0m\u001b[1;32m    278\u001b[0m                 \u001b[1;32mif\u001b[0m \u001b[1;32mnot\u001b[0m \u001b[0mblock\u001b[0m\u001b[1;33m:\u001b[0m\u001b[1;33m\u001b[0m\u001b[0m\n\u001b[1;32m    279\u001b[0m                     \u001b[1;32mbreak\u001b[0m\u001b[1;33m\u001b[0m\u001b[0m\n",
      "\u001b[0;32mC:\\ProgramData\\Anaconda3\\lib\\http\\client.py\u001b[0m in \u001b[0;36mread\u001b[0;34m(self, amt)\u001b[0m\n\u001b[1;32m    447\u001b[0m             \u001b[1;31m# Amount is given, implement using readinto\u001b[0m\u001b[1;33m\u001b[0m\u001b[1;33m\u001b[0m\u001b[0m\n\u001b[1;32m    448\u001b[0m             \u001b[0mb\u001b[0m \u001b[1;33m=\u001b[0m \u001b[0mbytearray\u001b[0m\u001b[1;33m(\u001b[0m\u001b[0mamt\u001b[0m\u001b[1;33m)\u001b[0m\u001b[1;33m\u001b[0m\u001b[0m\n\u001b[0;32m--> 449\u001b[0;31m             \u001b[0mn\u001b[0m \u001b[1;33m=\u001b[0m \u001b[0mself\u001b[0m\u001b[1;33m.\u001b[0m\u001b[0mreadinto\u001b[0m\u001b[1;33m(\u001b[0m\u001b[0mb\u001b[0m\u001b[1;33m)\u001b[0m\u001b[1;33m\u001b[0m\u001b[0m\n\u001b[0m\u001b[1;32m    450\u001b[0m             \u001b[1;32mreturn\u001b[0m \u001b[0mmemoryview\u001b[0m\u001b[1;33m(\u001b[0m\u001b[0mb\u001b[0m\u001b[1;33m)\u001b[0m\u001b[1;33m[\u001b[0m\u001b[1;33m:\u001b[0m\u001b[0mn\u001b[0m\u001b[1;33m]\u001b[0m\u001b[1;33m.\u001b[0m\u001b[0mtobytes\u001b[0m\u001b[1;33m(\u001b[0m\u001b[1;33m)\u001b[0m\u001b[1;33m\u001b[0m\u001b[0m\n\u001b[1;32m    451\u001b[0m         \u001b[1;32melse\u001b[0m\u001b[1;33m:\u001b[0m\u001b[1;33m\u001b[0m\u001b[0m\n",
      "\u001b[0;32mC:\\ProgramData\\Anaconda3\\lib\\http\\client.py\u001b[0m in \u001b[0;36mreadinto\u001b[0;34m(self, b)\u001b[0m\n\u001b[1;32m    491\u001b[0m         \u001b[1;31m# connection, and the user is reading more bytes than will be provided\u001b[0m\u001b[1;33m\u001b[0m\u001b[1;33m\u001b[0m\u001b[0m\n\u001b[1;32m    492\u001b[0m         \u001b[1;31m# (for example, reading in 1k chunks)\u001b[0m\u001b[1;33m\u001b[0m\u001b[1;33m\u001b[0m\u001b[0m\n\u001b[0;32m--> 493\u001b[0;31m         \u001b[0mn\u001b[0m \u001b[1;33m=\u001b[0m \u001b[0mself\u001b[0m\u001b[1;33m.\u001b[0m\u001b[0mfp\u001b[0m\u001b[1;33m.\u001b[0m\u001b[0mreadinto\u001b[0m\u001b[1;33m(\u001b[0m\u001b[0mb\u001b[0m\u001b[1;33m)\u001b[0m\u001b[1;33m\u001b[0m\u001b[0m\n\u001b[0m\u001b[1;32m    494\u001b[0m         \u001b[1;32mif\u001b[0m \u001b[1;32mnot\u001b[0m \u001b[0mn\u001b[0m \u001b[1;32mand\u001b[0m \u001b[0mb\u001b[0m\u001b[1;33m:\u001b[0m\u001b[1;33m\u001b[0m\u001b[0m\n\u001b[1;32m    495\u001b[0m             \u001b[1;31m# Ideally, we would raise IncompleteRead if the content-length\u001b[0m\u001b[1;33m\u001b[0m\u001b[1;33m\u001b[0m\u001b[0m\n",
      "\u001b[0;32mC:\\ProgramData\\Anaconda3\\lib\\socket.py\u001b[0m in \u001b[0;36mreadinto\u001b[0;34m(self, b)\u001b[0m\n\u001b[1;32m    584\u001b[0m         \u001b[1;32mwhile\u001b[0m \u001b[1;32mTrue\u001b[0m\u001b[1;33m:\u001b[0m\u001b[1;33m\u001b[0m\u001b[0m\n\u001b[1;32m    585\u001b[0m             \u001b[1;32mtry\u001b[0m\u001b[1;33m:\u001b[0m\u001b[1;33m\u001b[0m\u001b[0m\n\u001b[0;32m--> 586\u001b[0;31m                 \u001b[1;32mreturn\u001b[0m \u001b[0mself\u001b[0m\u001b[1;33m.\u001b[0m\u001b[0m_sock\u001b[0m\u001b[1;33m.\u001b[0m\u001b[0mrecv_into\u001b[0m\u001b[1;33m(\u001b[0m\u001b[0mb\u001b[0m\u001b[1;33m)\u001b[0m\u001b[1;33m\u001b[0m\u001b[0m\n\u001b[0m\u001b[1;32m    587\u001b[0m             \u001b[1;32mexcept\u001b[0m \u001b[0mtimeout\u001b[0m\u001b[1;33m:\u001b[0m\u001b[1;33m\u001b[0m\u001b[0m\n\u001b[1;32m    588\u001b[0m                 \u001b[0mself\u001b[0m\u001b[1;33m.\u001b[0m\u001b[0m_timeout_occurred\u001b[0m \u001b[1;33m=\u001b[0m \u001b[1;32mTrue\u001b[0m\u001b[1;33m\u001b[0m\u001b[0m\n",
      "\u001b[0;32mC:\\ProgramData\\Anaconda3\\lib\\ssl.py\u001b[0m in \u001b[0;36mrecv_into\u001b[0;34m(self, buffer, nbytes, flags)\u001b[0m\n\u001b[1;32m   1000\u001b[0m                   \u001b[1;34m\"non-zero flags not allowed in calls to recv_into() on %s\"\u001b[0m \u001b[1;33m%\u001b[0m\u001b[1;33m\u001b[0m\u001b[0m\n\u001b[1;32m   1001\u001b[0m                   self.__class__)\n\u001b[0;32m-> 1002\u001b[0;31m             \u001b[1;32mreturn\u001b[0m \u001b[0mself\u001b[0m\u001b[1;33m.\u001b[0m\u001b[0mread\u001b[0m\u001b[1;33m(\u001b[0m\u001b[0mnbytes\u001b[0m\u001b[1;33m,\u001b[0m \u001b[0mbuffer\u001b[0m\u001b[1;33m)\u001b[0m\u001b[1;33m\u001b[0m\u001b[0m\n\u001b[0m\u001b[1;32m   1003\u001b[0m         \u001b[1;32melse\u001b[0m\u001b[1;33m:\u001b[0m\u001b[1;33m\u001b[0m\u001b[0m\n\u001b[1;32m   1004\u001b[0m             \u001b[1;32mreturn\u001b[0m \u001b[0msocket\u001b[0m\u001b[1;33m.\u001b[0m\u001b[0mrecv_into\u001b[0m\u001b[1;33m(\u001b[0m\u001b[0mself\u001b[0m\u001b[1;33m,\u001b[0m \u001b[0mbuffer\u001b[0m\u001b[1;33m,\u001b[0m \u001b[0mnbytes\u001b[0m\u001b[1;33m,\u001b[0m \u001b[0mflags\u001b[0m\u001b[1;33m)\u001b[0m\u001b[1;33m\u001b[0m\u001b[0m\n",
      "\u001b[0;32mC:\\ProgramData\\Anaconda3\\lib\\ssl.py\u001b[0m in \u001b[0;36mread\u001b[0;34m(self, len, buffer)\u001b[0m\n\u001b[1;32m    863\u001b[0m             \u001b[1;32mraise\u001b[0m \u001b[0mValueError\u001b[0m\u001b[1;33m(\u001b[0m\u001b[1;34m\"Read on closed or unwrapped SSL socket.\"\u001b[0m\u001b[1;33m)\u001b[0m\u001b[1;33m\u001b[0m\u001b[0m\n\u001b[1;32m    864\u001b[0m         \u001b[1;32mtry\u001b[0m\u001b[1;33m:\u001b[0m\u001b[1;33m\u001b[0m\u001b[0m\n\u001b[0;32m--> 865\u001b[0;31m             \u001b[1;32mreturn\u001b[0m \u001b[0mself\u001b[0m\u001b[1;33m.\u001b[0m\u001b[0m_sslobj\u001b[0m\u001b[1;33m.\u001b[0m\u001b[0mread\u001b[0m\u001b[1;33m(\u001b[0m\u001b[0mlen\u001b[0m\u001b[1;33m,\u001b[0m \u001b[0mbuffer\u001b[0m\u001b[1;33m)\u001b[0m\u001b[1;33m\u001b[0m\u001b[0m\n\u001b[0m\u001b[1;32m    866\u001b[0m         \u001b[1;32mexcept\u001b[0m \u001b[0mSSLError\u001b[0m \u001b[1;32mas\u001b[0m \u001b[0mx\u001b[0m\u001b[1;33m:\u001b[0m\u001b[1;33m\u001b[0m\u001b[0m\n\u001b[1;32m    867\u001b[0m             \u001b[1;32mif\u001b[0m \u001b[0mx\u001b[0m\u001b[1;33m.\u001b[0m\u001b[0margs\u001b[0m\u001b[1;33m[\u001b[0m\u001b[1;36m0\u001b[0m\u001b[1;33m]\u001b[0m \u001b[1;33m==\u001b[0m \u001b[0mSSL_ERROR_EOF\u001b[0m \u001b[1;32mand\u001b[0m \u001b[0mself\u001b[0m\u001b[1;33m.\u001b[0m\u001b[0msuppress_ragged_eofs\u001b[0m\u001b[1;33m:\u001b[0m\u001b[1;33m\u001b[0m\u001b[0m\n",
      "\u001b[0;32mC:\\ProgramData\\Anaconda3\\lib\\ssl.py\u001b[0m in \u001b[0;36mread\u001b[0;34m(self, len, buffer)\u001b[0m\n\u001b[1;32m    623\u001b[0m         \"\"\"\n\u001b[1;32m    624\u001b[0m         \u001b[1;32mif\u001b[0m \u001b[0mbuffer\u001b[0m \u001b[1;32mis\u001b[0m \u001b[1;32mnot\u001b[0m \u001b[1;32mNone\u001b[0m\u001b[1;33m:\u001b[0m\u001b[1;33m\u001b[0m\u001b[0m\n\u001b[0;32m--> 625\u001b[0;31m             \u001b[0mv\u001b[0m \u001b[1;33m=\u001b[0m \u001b[0mself\u001b[0m\u001b[1;33m.\u001b[0m\u001b[0m_sslobj\u001b[0m\u001b[1;33m.\u001b[0m\u001b[0mread\u001b[0m\u001b[1;33m(\u001b[0m\u001b[0mlen\u001b[0m\u001b[1;33m,\u001b[0m \u001b[0mbuffer\u001b[0m\u001b[1;33m)\u001b[0m\u001b[1;33m\u001b[0m\u001b[0m\n\u001b[0m\u001b[1;32m    626\u001b[0m         \u001b[1;32melse\u001b[0m\u001b[1;33m:\u001b[0m\u001b[1;33m\u001b[0m\u001b[0m\n\u001b[1;32m    627\u001b[0m             \u001b[0mv\u001b[0m \u001b[1;33m=\u001b[0m \u001b[0mself\u001b[0m\u001b[1;33m.\u001b[0m\u001b[0m_sslobj\u001b[0m\u001b[1;33m.\u001b[0m\u001b[0mread\u001b[0m\u001b[1;33m(\u001b[0m\u001b[0mlen\u001b[0m\u001b[1;33m)\u001b[0m\u001b[1;33m\u001b[0m\u001b[0m\n",
      "\u001b[0;31mConnectionAbortedError\u001b[0m: [WinError 10053] Программа на вашем хост-компьютере разорвала установленное подключение"
     ]
    }
   ],
   "source": [
    "if not os.path.isfile('wikitext-103-raw-v1.zip'):\n",
    "    urllib.request.urlretrieve(\"https://s3.amazonaws.com/research.metamind.io/wikitext/wikitext-103-raw-v1.zip\", filename=\"wikitext-103-raw-v1.zip\")"
   ]
  },
  {
   "cell_type": "code",
   "execution_count": null,
   "metadata": {
    "collapsed": false
   },
   "outputs": [],
   "source": [
    "with zipfile.ZipFile('wikitext-103-raw-v1.zip', 'r') as z:\n",
    "    input_text = str(z.open('wikitext-103-raw/wiki.train.raw', 'r').read(), encoding='utf-8') # Thanks Robert Bastian"
   ]
  },
  {
   "cell_type": "markdown",
   "metadata": {},
   "source": [
    "Preprocess sentences (note that it's important to remove small sentences for performance)"
   ]
  },
  {
   "cell_type": "code",
   "execution_count": null,
   "metadata": {
    "collapsed": false
   },
   "outputs": [],
   "source": [
    "sentences_wiki = []\n",
    "for line in input_text.split('\\n'):\n",
    "    s = [x for x in line.split('.') if x and len(x.split()) >= 5]\n",
    "    sentences_wiki.extend(s)\n",
    "    \n",
    "for s_i in range(len(sentences_wiki)):\n",
    "    sentences_wiki[s_i] = re.sub(\"[^a-z]\", \" \", sentences_wiki[s_i].lower())\n",
    "    sentences_wiki[s_i] = re.sub(r'\\([^)]*\\)', '', sentences_wiki[s_i])\n",
    "del input_text"
   ]
  },
  {
   "cell_type": "code",
   "execution_count": null,
   "metadata": {
    "collapsed": false
   },
   "outputs": [],
   "source": [
    "# sample 1/5 of the data\n",
    "shuffle(sentences_wiki)\n",
    "print(len(sentences_wiki))\n",
    "sentences_wiki = sentences_wiki[:int(len(sentences_wiki)/5)]\n",
    "print(len(sentences_wiki))"
   ]
  },
  {
   "cell_type": "markdown",
   "metadata": {},
   "source": [
    "Now, repeat all the same steps that you performed above. You should be able to reuse essentially all the code."
   ]
  },
  {
   "cell_type": "code",
   "execution_count": null,
   "metadata": {
    "collapsed": true
   },
   "outputs": [],
   "source": [
    "# ..."
   ]
  },
  {
   "cell_type": "markdown",
   "metadata": {},
   "source": [
    "#### t-SNE visualization"
   ]
  },
  {
   "cell_type": "code",
   "execution_count": null,
   "metadata": {
    "collapsed": true
   },
   "outputs": [],
   "source": [
    "# This assumes words_top_wiki is a list of strings, the top 1000 words\n",
    "words_top_vec_wiki = model_wiki[words_top_wiki]\n",
    "\n",
    "tsne = TSNE(n_components=2, random_state=0)\n",
    "words_top_wiki_tsne = tsne.fit_transform(words_top_vec_wiki)"
   ]
  },
  {
   "cell_type": "code",
   "execution_count": null,
   "metadata": {
    "collapsed": false
   },
   "outputs": [],
   "source": [
    "p = figure(tools=\"pan,wheel_zoom,reset,save\",\n",
    "           toolbar_location=\"above\",\n",
    "           title=\"word2vec T-SNE for most common words\")\n",
    "\n",
    "source = ColumnDataSource(data=dict(x1=words_top_wiki_tsne[:,0],\n",
    "                                    x2=words_top_wiki_tsne[:,1],\n",
    "                                    names=words_top_wiki))\n",
    "\n",
    "p.scatter(x=\"x1\", y=\"x2\", size=8, source=source)\n",
    "\n",
    "labels = LabelSet(x=\"x1\", y=\"x2\", text=\"names\", y_offset=6,\n",
    "                  text_font_size=\"8pt\", text_color=\"#555555\",\n",
    "                  source=source, text_align='center')\n",
    "p.add_layout(labels)\n",
    "\n",
    "show(p)"
   ]
  }
 ],
 "metadata": {
  "anaconda-cloud": {},
  "kernelspec": {
   "display_name": "Python 3",
   "language": "python",
   "name": "python3"
  },
  "language_info": {
   "codemirror_mode": {
    "name": "ipython",
    "version": 3
   },
   "file_extension": ".py",
   "mimetype": "text/x-python",
   "name": "python",
   "nbconvert_exporter": "python",
   "pygments_lexer": "ipython3",
   "version": "3.6.0"
  }
 },
 "nbformat": 4,
 "nbformat_minor": 0
}
