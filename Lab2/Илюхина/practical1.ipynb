{
 "cells": [
  {
   "cell_type": "markdown",
   "metadata": {},
   "source": [
    "## Practical 1: word2vec\n",
    "<p>Oxford CS - Deep NLP 2017<br>\n",
    "https://www.cs.ox.ac.uk/teaching/courses/2016-2017/dl/</p>\n",
    "<p>[Yannis Assael, Brendan Shillingford, Chris Dyer]</p>"
   ]
  },
  {
   "cell_type": "markdown",
   "metadata": {},
   "source": [
    "This practical is presented as an IPython Notebook, with the code written for recent versions of **Python 3**. The code in this practical will not work with Python 2 unless you modify it. If you are using your own Python installation, ensure you have a setup identical to that described in the installation shell script (which is intended for use with the department lab machines). We will be unable to support installation on personal machines due to time constraints, so please use the lab machines and the setup script if you are unfamiliar with how to install Anaconda.\n",
    "\n",
    "To execute a notebook cell, press `shift-enter`. The return value of the last command will be displayed, if it is not `None`.\n",
    "\n",
    "Potentially useful library documentation, references, and resources:\n",
    "\n",
    "* IPython notebooks: <https://ipython.org/ipython-doc/3/notebook/notebook.html#introduction>\n",
    "* Numpy numerical array library: <https://docs.scipy.org/doc/>\n",
    "* Gensim's word2vec: <https://radimrehurek.com/gensim/models/word2vec.html>\n",
    "* Bokeh interactive plots: <http://bokeh.pydata.org/en/latest/> (we provide plotting code here, but click the thumbnails for more examples to copy-paste)\n",
    "* scikit-learn ML library (aka `sklearn`): <http://scikit-learn.org/stable/documentation.html>\n",
    "* nltk NLP toolkit: <http://www.nltk.org/>\n",
    "* tutorial for processing xml in python using `lxml`: <http://lxml.de/tutorial.html> (we did this for you below, but in case you need it in the future)"
   ]
  },
  {
   "cell_type": "code",
   "execution_count": 25,
   "metadata": {
    "collapsed": false
   },
   "outputs": [],
   "source": [
    "import numpy as np\n",
    "import os\n",
    "from random import shuffle\n",
    "import re"
   ]
  },
  {
   "cell_type": "code",
   "execution_count": 26,
   "metadata": {
    "collapsed": false
   },
   "outputs": [
    {
     "data": {
      "text/html": [
       "\n",
       "    <div class=\"bk-root\">\n",
       "        <a href=\"http://bokeh.pydata.org\" target=\"_blank\" class=\"bk-logo bk-logo-small bk-logo-notebook\"></a>\n",
       "        <span id=\"a0c52b5b-1270-42f5-b6c1-3c9dce87ec2a\">Loading BokehJS ...</span>\n",
       "    </div>"
      ]
     },
     "metadata": {},
     "output_type": "display_data"
    },
    {
     "data": {
      "application/javascript": [
       "\n",
       "(function(global) {\n",
       "  function now() {\n",
       "    return new Date();\n",
       "  }\n",
       "\n",
       "  var force = true;\n",
       "\n",
       "  if (typeof (window._bokeh_onload_callbacks) === \"undefined\" || force === true) {\n",
       "    window._bokeh_onload_callbacks = [];\n",
       "    window._bokeh_is_loading = undefined;\n",
       "  }\n",
       "\n",
       "\n",
       "  \n",
       "  if (typeof (window._bokeh_timeout) === \"undefined\" || force === true) {\n",
       "    window._bokeh_timeout = Date.now() + 5000;\n",
       "    window._bokeh_failed_load = false;\n",
       "  }\n",
       "\n",
       "  var NB_LOAD_WARNING = {'data': {'text/html':\n",
       "     \"<div style='background-color: #fdd'>\\n\"+\n",
       "     \"<p>\\n\"+\n",
       "     \"BokehJS does not appear to have successfully loaded. If loading BokehJS from CDN, this \\n\"+\n",
       "     \"may be due to a slow or bad network connection. Possible fixes:\\n\"+\n",
       "     \"</p>\\n\"+\n",
       "     \"<ul>\\n\"+\n",
       "     \"<li>re-rerun `output_notebook()` to attempt to load from CDN again, or</li>\\n\"+\n",
       "     \"<li>use INLINE resources instead, as so:</li>\\n\"+\n",
       "     \"</ul>\\n\"+\n",
       "     \"<code>\\n\"+\n",
       "     \"from bokeh.resources import INLINE\\n\"+\n",
       "     \"output_notebook(resources=INLINE)\\n\"+\n",
       "     \"</code>\\n\"+\n",
       "     \"</div>\"}};\n",
       "\n",
       "  function display_loaded() {\n",
       "    if (window.Bokeh !== undefined) {\n",
       "      document.getElementById(\"a0c52b5b-1270-42f5-b6c1-3c9dce87ec2a\").textContent = \"BokehJS successfully loaded.\";\n",
       "    } else if (Date.now() < window._bokeh_timeout) {\n",
       "      setTimeout(display_loaded, 100)\n",
       "    }\n",
       "  }\n",
       "\n",
       "  function run_callbacks() {\n",
       "    window._bokeh_onload_callbacks.forEach(function(callback) { callback() });\n",
       "    delete window._bokeh_onload_callbacks\n",
       "    console.info(\"Bokeh: all callbacks have finished\");\n",
       "  }\n",
       "\n",
       "  function load_libs(js_urls, callback) {\n",
       "    window._bokeh_onload_callbacks.push(callback);\n",
       "    if (window._bokeh_is_loading > 0) {\n",
       "      console.log(\"Bokeh: BokehJS is being loaded, scheduling callback at\", now());\n",
       "      return null;\n",
       "    }\n",
       "    if (js_urls == null || js_urls.length === 0) {\n",
       "      run_callbacks();\n",
       "      return null;\n",
       "    }\n",
       "    console.log(\"Bokeh: BokehJS not loaded, scheduling load and callback at\", now());\n",
       "    window._bokeh_is_loading = js_urls.length;\n",
       "    for (var i = 0; i < js_urls.length; i++) {\n",
       "      var url = js_urls[i];\n",
       "      var s = document.createElement('script');\n",
       "      s.src = url;\n",
       "      s.async = false;\n",
       "      s.onreadystatechange = s.onload = function() {\n",
       "        window._bokeh_is_loading--;\n",
       "        if (window._bokeh_is_loading === 0) {\n",
       "          console.log(\"Bokeh: all BokehJS libraries loaded\");\n",
       "          run_callbacks()\n",
       "        }\n",
       "      };\n",
       "      s.onerror = function() {\n",
       "        console.warn(\"failed to load library \" + url);\n",
       "      };\n",
       "      console.log(\"Bokeh: injecting script tag for BokehJS library: \", url);\n",
       "      document.getElementsByTagName(\"head\")[0].appendChild(s);\n",
       "    }\n",
       "  };var element = document.getElementById(\"a0c52b5b-1270-42f5-b6c1-3c9dce87ec2a\");\n",
       "  if (element == null) {\n",
       "    console.log(\"Bokeh: ERROR: autoload.js configured with elementid 'a0c52b5b-1270-42f5-b6c1-3c9dce87ec2a' but no matching script tag was found. \")\n",
       "    return false;\n",
       "  }\n",
       "\n",
       "  var js_urls = [\"https://cdn.pydata.org/bokeh/release/bokeh-0.12.4.min.js\", \"https://cdn.pydata.org/bokeh/release/bokeh-widgets-0.12.4.min.js\"];\n",
       "\n",
       "  var inline_js = [\n",
       "    function(Bokeh) {\n",
       "      Bokeh.set_log_level(\"info\");\n",
       "    },\n",
       "    \n",
       "    function(Bokeh) {\n",
       "      \n",
       "      document.getElementById(\"a0c52b5b-1270-42f5-b6c1-3c9dce87ec2a\").textContent = \"BokehJS is loading...\";\n",
       "    },\n",
       "    function(Bokeh) {\n",
       "      console.log(\"Bokeh: injecting CSS: https://cdn.pydata.org/bokeh/release/bokeh-0.12.4.min.css\");\n",
       "      Bokeh.embed.inject_css(\"https://cdn.pydata.org/bokeh/release/bokeh-0.12.4.min.css\");\n",
       "      console.log(\"Bokeh: injecting CSS: https://cdn.pydata.org/bokeh/release/bokeh-widgets-0.12.4.min.css\");\n",
       "      Bokeh.embed.inject_css(\"https://cdn.pydata.org/bokeh/release/bokeh-widgets-0.12.4.min.css\");\n",
       "    }\n",
       "  ];\n",
       "\n",
       "  function run_inline_js() {\n",
       "    \n",
       "    if ((window.Bokeh !== undefined) || (force === true)) {\n",
       "      for (var i = 0; i < inline_js.length; i++) {\n",
       "        inline_js[i](window.Bokeh);\n",
       "      }if (force === true) {\n",
       "        display_loaded();\n",
       "      }} else if (Date.now() < window._bokeh_timeout) {\n",
       "      setTimeout(run_inline_js, 100);\n",
       "    } else if (!window._bokeh_failed_load) {\n",
       "      console.log(\"Bokeh: BokehJS failed to load within specified timeout.\");\n",
       "      window._bokeh_failed_load = true;\n",
       "    } else if (force !== true) {\n",
       "      var cell = $(document.getElementById(\"a0c52b5b-1270-42f5-b6c1-3c9dce87ec2a\")).parents('.cell').data().cell;\n",
       "      cell.output_area.append_execute_result(NB_LOAD_WARNING)\n",
       "    }\n",
       "\n",
       "  }\n",
       "\n",
       "  if (window._bokeh_is_loading === 0) {\n",
       "    console.log(\"Bokeh: BokehJS loaded, going straight to plotting\");\n",
       "    run_inline_js();\n",
       "  } else {\n",
       "    load_libs(js_urls, function() {\n",
       "      console.log(\"Bokeh: BokehJS plotting callback run at\", now());\n",
       "      run_inline_js();\n",
       "    });\n",
       "  }\n",
       "}(this));"
      ]
     },
     "metadata": {},
     "output_type": "display_data"
    }
   ],
   "source": [
    "from bokeh.models import ColumnDataSource, LabelSet\n",
    "from bokeh.plotting import figure, show, output_file\n",
    "from bokeh.io import output_notebook\n",
    "output_notebook()"
   ]
  },
  {
   "cell_type": "markdown",
   "metadata": {},
   "source": [
    "### Part 0: Download the TED dataset"
   ]
  },
  {
   "cell_type": "code",
   "execution_count": 27,
   "metadata": {
    "collapsed": false
   },
   "outputs": [],
   "source": [
    "import urllib.request\n",
    "import zipfile\n",
    "import lxml.etree"
   ]
  },
  {
   "cell_type": "code",
   "execution_count": 28,
   "metadata": {
    "collapsed": false
   },
   "outputs": [],
   "source": [
    "# Download the dataset if it's not already there: this may take a minute as it is 75MB\n",
    "if not os.path.isfile('ted_en-20160408.zip'):\n",
    "    urllib.request.urlretrieve(\"https://wit3.fbk.eu/get.php?path=XML_releases/xml/ted_en-20160408.zip&filename=ted_en-20160408.zip\", filename=\"ted_en-20160408.zip\")"
   ]
  },
  {
   "cell_type": "code",
   "execution_count": 29,
   "metadata": {
    "collapsed": false
   },
   "outputs": [],
   "source": [
    "# For now, we're only interested in the subtitle text, so let's extract that from the XML:\n",
    "with zipfile.ZipFile('ted_en-20160408.zip', 'r') as z:\n",
    "    doc = lxml.etree.parse(z.open('ted_en-20160408.xml', 'r'))\n",
    "input_text = '\\n'.join(doc.xpath('//content/text()'))\n",
    "del doc"
   ]
  },
  {
   "cell_type": "markdown",
   "metadata": {},
   "source": [
    "### Part 1: Preprocessing\n",
    "\n",
    "In this part, we attempt to clean up the raw subtitles a bit, so that we get only sentences. The following substring shows examples of what we're trying to get rid of. Since it's hard to define precisely what we want to get rid of, we'll just use some simple heuristics."
   ]
  },
  {
   "cell_type": "code",
   "execution_count": 30,
   "metadata": {
    "collapsed": false,
    "scrolled": false
   },
   "outputs": [
    {
     "data": {
      "text/plain": [
       "' baby does.\\n(Video) Hyowon Gweon: See this? (Ball squeaks) Did you see that? (Ball squeaks) Cool. See this one? (Ball squeaks) Wow.\\nLaura Schulz: Told you. (Laughs)\\n(Vide'"
      ]
     },
     "execution_count": 30,
     "metadata": {},
     "output_type": "execute_result"
    }
   ],
   "source": [
    "i = input_text.find(\"Hyowon Gweon: See this?\")\n",
    "input_text[i-20:i+150]"
   ]
  },
  {
   "cell_type": "markdown",
   "metadata": {},
   "source": [
    "Let's start by removing all parenthesized strings using a regex:"
   ]
  },
  {
   "cell_type": "code",
   "execution_count": 31,
   "metadata": {
    "collapsed": true
   },
   "outputs": [],
   "source": [
    "input_text_noparens = re.sub(r'\\([^)]*\\)', '', input_text)"
   ]
  },
  {
   "cell_type": "markdown",
   "metadata": {},
   "source": [
    "We can verify the same location in the text is now clean as follows. We won't worry about the irregular spaces since we'll later split the text into sentences and tokenize it anyway."
   ]
  },
  {
   "cell_type": "code",
   "execution_count": 32,
   "metadata": {
    "collapsed": false
   },
   "outputs": [
    {
     "data": {
      "text/plain": [
       "\"hat the baby does.\\n Hyowon Gweon: See this?  Did you see that?  Cool. See this one?  Wow.\\nLaura Schulz: Told you. \\n HG: See this one?  Hey Clara, this one's for you. You \""
      ]
     },
     "execution_count": 32,
     "metadata": {},
     "output_type": "execute_result"
    }
   ],
   "source": [
    "i = input_text_noparens.find(\"Hyowon Gweon: See this?\")\n",
    "input_text_noparens[i-20:i+150]"
   ]
  },
  {
   "cell_type": "markdown",
   "metadata": {},
   "source": [
    "Now, let's attempt to remove speakers' names that occur at the beginning of a line, by deleting pieces of the form \"`<up to 20 characters>:`\", as shown in this example. Of course, this is an imperfect heuristic. "
   ]
  },
  {
   "cell_type": "code",
   "execution_count": 33,
   "metadata": {
    "collapsed": false
   },
   "outputs": [
    {
     "data": {
      "text/plain": [
       "[\"Here are two reasons companies fail: they only do more of the same, or they only do what's new\",\n",
       " 'To me the real, real solution to quality growth is figuring out the balance between two activities: exploration and exploitation',\n",
       " ' Both are necessary, but it can be too much of a good thing',\n",
       " 'Consider Facit',\n",
       " \" I'm actually old enough to remember them\"]"
      ]
     },
     "execution_count": 33,
     "metadata": {},
     "output_type": "execute_result"
    }
   ],
   "source": [
    "sentences_strings_ted = []\n",
    "for line in input_text_noparens.split('\\n'):\n",
    "    m = re.match(r'^(?:(?P<precolon>[^:]{,20}):)?(?P<postcolon>.*)$', line)\n",
    "    sentences_strings_ted.extend(sent for sent in m.groupdict()['postcolon'].split('.') if sent)\n",
    "\n",
    "# Uncomment if you need to save some RAM: these strings are about 50MB.\n",
    "# del input_text, input_text_noparens\n",
    "\n",
    "# Let's view the first few:\n",
    "sentences_strings_ted[:5]"
   ]
  },
  {
   "cell_type": "markdown",
   "metadata": {},
   "source": [
    "Now that we have sentences, we're ready to tokenize each of them into words. This tokenization is imperfect, of course. For instance, how many tokens is \"can't\", and where/how do we split it? We'll take the simplest naive approach of splitting on spaces. Before splitting, we remove non-alphanumeric characters, such as punctuation. You may want to consider the following question: why do we replace these characters with spaces rather than deleting them? Think of a case where this yields a different answer."
   ]
  },
  {
   "cell_type": "code",
   "execution_count": 34,
   "metadata": {
    "collapsed": false
   },
   "outputs": [],
   "source": [
    "sentences_ted = []\n",
    "for sent_str in sentences_strings_ted:\n",
    "    tokens = re.sub(r\"[^a-z0-9]+\", \" \", sent_str.lower()).split()\n",
    "    sentences_ted.append(tokens)"
   ]
  },
  {
   "cell_type": "markdown",
   "metadata": {},
   "source": [
    "Two sample processed sentences:"
   ]
  },
  {
   "cell_type": "code",
   "execution_count": 35,
   "metadata": {
    "collapsed": false
   },
   "outputs": [
    {
     "data": {
      "text/plain": [
       "266694"
      ]
     },
     "execution_count": 35,
     "metadata": {},
     "output_type": "execute_result"
    }
   ],
   "source": [
    "len(sentences_ted)"
   ]
  },
  {
   "cell_type": "code",
   "execution_count": 36,
   "metadata": {
    "collapsed": false
   },
   "outputs": [
    {
     "name": "stdout",
     "output_type": "stream",
     "text": [
      "['here', 'are', 'two', 'reasons', 'companies', 'fail', 'they', 'only', 'do', 'more', 'of', 'the', 'same', 'or', 'they', 'only', 'do', 'what', 's', 'new']\n",
      "['to', 'me', 'the', 'real', 'real', 'solution', 'to', 'quality', 'growth', 'is', 'figuring', 'out', 'the', 'balance', 'between', 'two', 'activities', 'exploration', 'and', 'exploitation']\n"
     ]
    }
   ],
   "source": [
    "print(sentences_ted[0])\n",
    "print(sentences_ted[1])"
   ]
  },
  {
   "cell_type": "markdown",
   "metadata": {},
   "source": [
    "### Part 2: Word Frequencies"
   ]
  },
  {
   "cell_type": "markdown",
   "metadata": {},
   "source": [
    "If you store the counts of the top 1000 words in a list called `counts_ted_top1000`, the code below will plot the histogram requested in the writeup."
   ]
  },
  {
   "cell_type": "code",
   "execution_count": 37,
   "metadata": {
    "collapsed": false
   },
   "outputs": [
    {
     "name": "stdout",
     "output_type": "stream",
     "text": [
      "[207749, 149306, 125170, 114819, 105400, 95147, 83181, 78071, 74739, 70924]\n"
     ]
    }
   ],
   "source": [
    "counts_ted={}\n",
    "for sentence in sentences_ted:\n",
    "    for word in sentence:\n",
    "        if word not in counts_ted:\n",
    "            counts_ted[word]=1\n",
    "        if word in counts_ted:\n",
    "            counts_ted[word]+=1\n",
    "\n",
    "words_ted_top1000=sorted(counts_ted, key=lambda x:int(counts_ted[x]), reverse=True)[:1000]\n",
    "counts_ted_top1000=[]\n",
    "for word in words_ted_top1000:\n",
    "    counts_ted_top1000.append(counts_ted[word])\n",
    "print(counts_ted_top1000[:10])\n",
    "\n",
    "    "
   ]
  },
  {
   "cell_type": "markdown",
   "metadata": {},
   "source": [
    "Plot distribution of top-1000 words"
   ]
  },
  {
   "cell_type": "code",
   "execution_count": 38,
   "metadata": {
    "collapsed": false
   },
   "outputs": [
    {
     "data": {
      "text/html": [
       "\n",
       "\n",
       "    <div class=\"bk-root\">\n",
       "        <div class=\"bk-plotdiv\" id=\"a988f82c-32e2-4ae4-889b-226be2d7d8a8\"></div>\n",
       "    </div>\n",
       "<script type=\"text/javascript\">\n",
       "  \n",
       "  (function(global) {\n",
       "    function now() {\n",
       "      return new Date();\n",
       "    }\n",
       "  \n",
       "    var force = false;\n",
       "  \n",
       "    if (typeof (window._bokeh_onload_callbacks) === \"undefined\" || force === true) {\n",
       "      window._bokeh_onload_callbacks = [];\n",
       "      window._bokeh_is_loading = undefined;\n",
       "    }\n",
       "  \n",
       "  \n",
       "    \n",
       "    if (typeof (window._bokeh_timeout) === \"undefined\" || force === true) {\n",
       "      window._bokeh_timeout = Date.now() + 0;\n",
       "      window._bokeh_failed_load = false;\n",
       "    }\n",
       "  \n",
       "    var NB_LOAD_WARNING = {'data': {'text/html':\n",
       "       \"<div style='background-color: #fdd'>\\n\"+\n",
       "       \"<p>\\n\"+\n",
       "       \"BokehJS does not appear to have successfully loaded. If loading BokehJS from CDN, this \\n\"+\n",
       "       \"may be due to a slow or bad network connection. Possible fixes:\\n\"+\n",
       "       \"</p>\\n\"+\n",
       "       \"<ul>\\n\"+\n",
       "       \"<li>re-rerun `output_notebook()` to attempt to load from CDN again, or</li>\\n\"+\n",
       "       \"<li>use INLINE resources instead, as so:</li>\\n\"+\n",
       "       \"</ul>\\n\"+\n",
       "       \"<code>\\n\"+\n",
       "       \"from bokeh.resources import INLINE\\n\"+\n",
       "       \"output_notebook(resources=INLINE)\\n\"+\n",
       "       \"</code>\\n\"+\n",
       "       \"</div>\"}};\n",
       "  \n",
       "    function display_loaded() {\n",
       "      if (window.Bokeh !== undefined) {\n",
       "        document.getElementById(\"a988f82c-32e2-4ae4-889b-226be2d7d8a8\").textContent = \"BokehJS successfully loaded.\";\n",
       "      } else if (Date.now() < window._bokeh_timeout) {\n",
       "        setTimeout(display_loaded, 100)\n",
       "      }\n",
       "    }\n",
       "  \n",
       "    function run_callbacks() {\n",
       "      window._bokeh_onload_callbacks.forEach(function(callback) { callback() });\n",
       "      delete window._bokeh_onload_callbacks\n",
       "      console.info(\"Bokeh: all callbacks have finished\");\n",
       "    }\n",
       "  \n",
       "    function load_libs(js_urls, callback) {\n",
       "      window._bokeh_onload_callbacks.push(callback);\n",
       "      if (window._bokeh_is_loading > 0) {\n",
       "        console.log(\"Bokeh: BokehJS is being loaded, scheduling callback at\", now());\n",
       "        return null;\n",
       "      }\n",
       "      if (js_urls == null || js_urls.length === 0) {\n",
       "        run_callbacks();\n",
       "        return null;\n",
       "      }\n",
       "      console.log(\"Bokeh: BokehJS not loaded, scheduling load and callback at\", now());\n",
       "      window._bokeh_is_loading = js_urls.length;\n",
       "      for (var i = 0; i < js_urls.length; i++) {\n",
       "        var url = js_urls[i];\n",
       "        var s = document.createElement('script');\n",
       "        s.src = url;\n",
       "        s.async = false;\n",
       "        s.onreadystatechange = s.onload = function() {\n",
       "          window._bokeh_is_loading--;\n",
       "          if (window._bokeh_is_loading === 0) {\n",
       "            console.log(\"Bokeh: all BokehJS libraries loaded\");\n",
       "            run_callbacks()\n",
       "          }\n",
       "        };\n",
       "        s.onerror = function() {\n",
       "          console.warn(\"failed to load library \" + url);\n",
       "        };\n",
       "        console.log(\"Bokeh: injecting script tag for BokehJS library: \", url);\n",
       "        document.getElementsByTagName(\"head\")[0].appendChild(s);\n",
       "      }\n",
       "    };var element = document.getElementById(\"a988f82c-32e2-4ae4-889b-226be2d7d8a8\");\n",
       "    if (element == null) {\n",
       "      console.log(\"Bokeh: ERROR: autoload.js configured with elementid 'a988f82c-32e2-4ae4-889b-226be2d7d8a8' but no matching script tag was found. \")\n",
       "      return false;\n",
       "    }\n",
       "  \n",
       "    var js_urls = [];\n",
       "  \n",
       "    var inline_js = [\n",
       "      function(Bokeh) {\n",
       "        (function() {\n",
       "          var fn = function() {\n",
       "            var docs_json = {\"f3b16278-1bc6-4eb2-88e0-4db38303e373\":{\"roots\":{\"references\":[{\"attributes\":{},\"id\":\"e22a9327-7710-4b1a-b469-8f5ef147e300\",\"type\":\"BasicTicker\"},{\"attributes\":{\"plot\":{\"id\":\"6456cac7-5df3-4b1b-81b0-440950f27260\",\"subtype\":\"Figure\",\"type\":\"Plot\"}},\"id\":\"ef0b9c8d-611a-48f8-9ece-94114c6634b5\",\"type\":\"WheelZoomTool\"},{\"attributes\":{\"formatter\":{\"id\":\"12d49c55-35e2-4099-9c69-46c5ef89ddf3\",\"type\":\"BasicTickFormatter\"},\"plot\":{\"id\":\"6456cac7-5df3-4b1b-81b0-440950f27260\",\"subtype\":\"Figure\",\"type\":\"Plot\"},\"ticker\":{\"id\":\"23654f0d-37e4-4f62-98bc-0a46756af768\",\"type\":\"BasicTicker\"}},\"id\":\"15b90208-39a3-43eb-bfa0-3d0933c10032\",\"type\":\"LinearAxis\"},{\"attributes\":{\"plot\":{\"id\":\"6456cac7-5df3-4b1b-81b0-440950f27260\",\"subtype\":\"Figure\",\"type\":\"Plot\"}},\"id\":\"b6f0884a-47c7-4b4b-82ab-af87be2f8f98\",\"type\":\"SaveTool\"},{\"attributes\":{},\"id\":\"23654f0d-37e4-4f62-98bc-0a46756af768\",\"type\":\"BasicTicker\"},{\"attributes\":{\"plot\":{\"id\":\"6456cac7-5df3-4b1b-81b0-440950f27260\",\"subtype\":\"Figure\",\"type\":\"Plot\"}},\"id\":\"a45e3c12-31a6-425b-a69d-261c8151be2c\",\"type\":\"ResetTool\"},{\"attributes\":{\"active_drag\":\"auto\",\"active_scroll\":\"auto\",\"active_tap\":\"auto\",\"tools\":[{\"id\":\"24d163ba-ea73-4899-9415-372d5bfa7fa0\",\"type\":\"PanTool\"},{\"id\":\"ef0b9c8d-611a-48f8-9ece-94114c6634b5\",\"type\":\"WheelZoomTool\"},{\"id\":\"a45e3c12-31a6-425b-a69d-261c8151be2c\",\"type\":\"ResetTool\"},{\"id\":\"b6f0884a-47c7-4b4b-82ab-af87be2f8f98\",\"type\":\"SaveTool\"}]},\"id\":\"8a86520b-9235-4845-b389-dc358840605c\",\"type\":\"Toolbar\"},{\"attributes\":{},\"id\":\"0923ef26-ab4f-4989-aa4e-8976ec42eb91\",\"type\":\"ToolEvents\"},{\"attributes\":{\"plot\":null,\"text\":\"Top-1000 words distribution\"},\"id\":\"f2a5c2e3-d38d-402a-9060-d3d1484ead23\",\"type\":\"Title\"},{\"attributes\":{\"dimension\":1,\"plot\":{\"id\":\"6456cac7-5df3-4b1b-81b0-440950f27260\",\"subtype\":\"Figure\",\"type\":\"Plot\"},\"ticker\":{\"id\":\"23654f0d-37e4-4f62-98bc-0a46756af768\",\"type\":\"BasicTicker\"}},\"id\":\"dda099a1-b6dd-4585-89ed-8354d256de53\",\"type\":\"Grid\"},{\"attributes\":{\"data_source\":{\"id\":\"0349cda1-1e61-44a9-80fa-3252fd791d48\",\"type\":\"ColumnDataSource\"},\"glyph\":{\"id\":\"f8cff6d6-7658-401c-9ad3-10b3a62674cf\",\"type\":\"Quad\"},\"hover_glyph\":null,\"nonselection_glyph\":{\"id\":\"ee091338-3865-4ad7-87bf-7e754411c5da\",\"type\":\"Quad\"},\"selection_glyph\":null},\"id\":\"e1756464-1b74-4b8a-83d3-210c42aba584\",\"type\":\"GlyphRenderer\"},{\"attributes\":{\"callback\":null},\"id\":\"009e00f9-95bf-49d2-a31f-c31306095682\",\"type\":\"DataRange1d\"},{\"attributes\":{\"bottom\":{\"value\":0},\"fill_color\":{\"value\":\"#1f77b4\"},\"left\":{\"field\":\"left\"},\"line_color\":{\"value\":\"#555555\"},\"right\":{\"field\":\"right\"},\"top\":{\"field\":\"top\"}},\"id\":\"f8cff6d6-7658-401c-9ad3-10b3a62674cf\",\"type\":\"Quad\"},{\"attributes\":{\"formatter\":{\"id\":\"01870624-82db-48f7-a8e6-f115e673d02f\",\"type\":\"BasicTickFormatter\"},\"plot\":{\"id\":\"6456cac7-5df3-4b1b-81b0-440950f27260\",\"subtype\":\"Figure\",\"type\":\"Plot\"},\"ticker\":{\"id\":\"e22a9327-7710-4b1a-b469-8f5ef147e300\",\"type\":\"BasicTicker\"}},\"id\":\"a7b27bb0-3d8d-4287-a831-38d9cd7a0032\",\"type\":\"LinearAxis\"},{\"attributes\":{\"below\":[{\"id\":\"a7b27bb0-3d8d-4287-a831-38d9cd7a0032\",\"type\":\"LinearAxis\"}],\"left\":[{\"id\":\"15b90208-39a3-43eb-bfa0-3d0933c10032\",\"type\":\"LinearAxis\"}],\"renderers\":[{\"id\":\"a7b27bb0-3d8d-4287-a831-38d9cd7a0032\",\"type\":\"LinearAxis\"},{\"id\":\"4cab48cc-1f62-40ce-9a99-59c3c0a4f317\",\"type\":\"Grid\"},{\"id\":\"15b90208-39a3-43eb-bfa0-3d0933c10032\",\"type\":\"LinearAxis\"},{\"id\":\"dda099a1-b6dd-4585-89ed-8354d256de53\",\"type\":\"Grid\"},{\"id\":\"e1756464-1b74-4b8a-83d3-210c42aba584\",\"type\":\"GlyphRenderer\"}],\"title\":{\"id\":\"f2a5c2e3-d38d-402a-9060-d3d1484ead23\",\"type\":\"Title\"},\"tool_events\":{\"id\":\"0923ef26-ab4f-4989-aa4e-8976ec42eb91\",\"type\":\"ToolEvents\"},\"toolbar\":{\"id\":\"8a86520b-9235-4845-b389-dc358840605c\",\"type\":\"Toolbar\"},\"toolbar_location\":\"above\",\"x_range\":{\"id\":\"009e00f9-95bf-49d2-a31f-c31306095682\",\"type\":\"DataRange1d\"},\"y_range\":{\"id\":\"b0da4831-b029-4cb2-874a-f7767c25a465\",\"type\":\"DataRange1d\"}},\"id\":\"6456cac7-5df3-4b1b-81b0-440950f27260\",\"subtype\":\"Figure\",\"type\":\"Plot\"},{\"attributes\":{},\"id\":\"12d49c55-35e2-4099-9c69-46c5ef89ddf3\",\"type\":\"BasicTickFormatter\"},{\"attributes\":{\"plot\":{\"id\":\"6456cac7-5df3-4b1b-81b0-440950f27260\",\"subtype\":\"Figure\",\"type\":\"Plot\"}},\"id\":\"24d163ba-ea73-4899-9415-372d5bfa7fa0\",\"type\":\"PanTool\"},{\"attributes\":{\"plot\":{\"id\":\"6456cac7-5df3-4b1b-81b0-440950f27260\",\"subtype\":\"Figure\",\"type\":\"Plot\"},\"ticker\":{\"id\":\"e22a9327-7710-4b1a-b469-8f5ef147e300\",\"type\":\"BasicTicker\"}},\"id\":\"4cab48cc-1f62-40ce-9a99-59c3c0a4f317\",\"type\":\"Grid\"},{\"attributes\":{\"callback\":null},\"id\":\"b0da4831-b029-4cb2-874a-f7767c25a465\",\"type\":\"DataRange1d\"},{\"attributes\":{},\"id\":\"01870624-82db-48f7-a8e6-f115e673d02f\",\"type\":\"BasicTickFormatter\"},{\"attributes\":{\"bottom\":{\"value\":0},\"fill_alpha\":{\"value\":0.1},\"fill_color\":{\"value\":\"#1f77b4\"},\"left\":{\"field\":\"left\"},\"line_alpha\":{\"value\":0.1},\"line_color\":{\"value\":\"#1f77b4\"},\"right\":{\"field\":\"right\"},\"top\":{\"field\":\"top\"}},\"id\":\"ee091338-3865-4ad7-87bf-7e754411c5da\",\"type\":\"Quad\"},{\"attributes\":{\"callback\":null,\"column_names\":[\"left\",\"right\",\"top\"],\"data\":{\"left\":{\"__ndarray__\":\"V2ao+PoDGEBtlDRH4UMYQIPCwJXHgxhAmvBM5K3DGECwHtkylAMZQMZMZYF6QxlA3Hrxz2CDGUDzqH0eR8MZQAnXCW0tAxpAHwWWuxNDGkA1MyIK+oIaQExhrljgwhpAYo86p8YCG0B4vcb1rEIbQI7rUkSTghtApBnfknnCG0C7R2vhXwIcQNF19y9GQhxA56ODfiyCHED90Q/NEsIcQBQAnBv5AR1AKi4oat9BHUBAXLS4xYEdQFaKQAeswR1AbLjMVZIBHkCD5likeEEeQJkU5fJegR5Ar0JxQUXBHkDFcP2PKwEfQNyeid4RQR9A8swVLfiAH0AI+6F73sAfQI8UF2ViACBAmitdjFUgIEClQqOzSEAgQLBZ6do7YCBAvHAvAi+AIEDHh3UpIqAgQNKeu1AVwCBA3bUBeAjgIEDozEef+/8gQPPjjcbuHyFA/vrT7eE/IUAJEhoV1V8hQBQpYDzIfyFAIECmY7ufIUArV+yKrr8hQDZuMrKh3yFAQYV42ZT/IUBMnL4AiB8iQFezBCh7PyJAYspKT25fIkBu4ZB2YX8iQHj41p1UnyJAhA8dxUe/IkCPJmPsOt8iQJo9qRMu/yJApVTvOiEfI0CwazViFD8jQLuCe4kHXyNAxpnBsPp+I0DSsAfY7Z4jQNzHTf/gviNA6N6TJtTeI0Dz9dlNx/4jQP4MIHW6HiRACSRmnK0+JEAUO6zDoF4kQB9S8uqTfiRAKmk4EoeeJEA2gH45er4kQECXxGBt3iRATK4KiGD+JEBXxVCvUx4lQGLcltZGPiVAbfPc/TleJUB4CiMlLX4lQIMhaUwgniVAjjivcxO+JUCaT/WaBt4lQKRmO8L5/SVAsH2B6ewdJkC7lMcQ4D0mQMarDTjTXSZA0cJTX8Z9JkDc2ZmGuZ0mQOfw362svSZA8gcm1Z/dJkD+Hmz8kv0mQAg2siOGHSdAFE34Snk9J0AfZD5ybF0nQCp7hJlffSdANZLKwFKdJ0BAqRDoRb0nQEzAVg853SdAVtecNiz9J0Bi7uJdHx0oQGwFKYUSPShAeBxvrAVdKEA=\",\"dtype\":\"float64\",\"shape\":[100]},\"right\":{\"__ndarray__\":\"bZQ0R+FDGECDwsCVx4MYQJrwTOStwxhAsB7ZMpQDGUDGTGWBekMZQNx68c9ggxlA86h9HkfDGUAJ1wltLQMaQB8FlrsTQxpANTMiCvqCGkBMYa5Y4MIaQGKPOqfGAhtAeL3G9axCG0CO61JEk4IbQKQZ35J5whtAu0dr4V8CHEDRdfcvRkIcQOejg34sghxA/dEPzRLCHEAUAJwb+QEdQCouKGrfQR1AQFy0uMWBHUBWikAHrMEdQGy4zFWSAR5Ag+ZYpHhBHkCZFOXyXoEeQK9CcUFFwR5AxXD9jysBH0DcnoneEUEfQPLMFS34gB9ACPuhe97AH0CPFBdlYgAgQJorXYxVICBApUKjs0hAIECwWenaO2AgQLxwLwIvgCBAx4d1KSKgIEDSnrtQFcAgQN21AXgI4CBA6MxHn/v/IEDz443G7h8hQP760+3hPyFACRIaFdVfIUAUKWA8yH8hQCBApmO7nyFAK1fsiq6/IUA2bjKyod8hQEGFeNmU/yFATJy+AIgfIkBXswQoez8iQGLKSk9uXyJAbuGQdmF/IkB4+NadVJ8iQIQPHcVHvyJAjyZj7DrfIkCaPakTLv8iQKVU7zohHyNAsGs1YhQ/I0C7gnuJB18jQMaZwbD6fiNA0rAH2O2eI0Dcx03/4L4jQOjekybU3iNA8/XZTcf+I0D+DCB1uh4kQAkkZpytPiRAFDusw6BeJEAfUvLqk34kQCppOBKHniRANoB+OXq+JEBAl8Rgbd4kQEyuCohg/iRAV8VQr1MeJUBi3JbWRj4lQG3z3P05XiVAeAojJS1+JUCDIWlMIJ4lQI44r3MTviVAmk/1mgbeJUCkZjvC+f0lQLB9gensHSZAu5THEOA9JkDGqw04010mQNHCU1/GfSZA3NmZhrmdJkDn8N+trL0mQPIHJtWf3SZA/h5s/JL9JkAINrIjhh0nQBRN+Ep5PSdAH2Q+cmxdJ0Aqe4SZX30nQDWSysBSnSdAQKkQ6EW9J0BMwFYPOd0nQFbXnDYs/SdAYu7iXR8dKEBsBSmFEj0oQHgcb6wFXShAgzO10/h8KEA=\",\"dtype\":\"float64\",\"shape\":[100]},\"top\":{\"__ndarray__\":\"bd9UDqzE7j+IxzyUnSDpPxtX+9grJ+o/fue5Hbot6z+IxzyUnSDpP7H/6EvkaOA/Va8kGo984z+oH2bVAHbiP3JPlskdvt0/sf/oS+Ro4D85X2DoOZDWP4p/3XFWndg/ck+WyR2+3T+Kf91xVp3YP6rXBrO58uE/DC8ZQAGx2z+Bn1r7cqraP4p/3XFWndg/hQ+ctuSj2T8MLxlAAbHbP7H/6EvkaNA/rY+nkHJv0T+Kf91xVp3IP4GfWvtyqso/cP/oS+RowD+tj6eQcm/RP54/414dg8Q/in/dcVadyD9MP+NeHYPEP3e/14SPt8w/nj/jXh2DxD+x/+hL5GjAP4p/3XFWnbg/d7/XhI+3vD+x/+hL5GigP5C+14SPt7w/in/dcVadqD+Kf91xVp24P4p/3XFWnbg/sf/oS+RokD+x/+hL5GjAP3e/14SPt7w/sf/oS+RosD+eP+NeHYO0P8Z+3XFWnag/sf/oS+RosD+Kf91xVp24P54/414dg7Q/sf/oS+RooD+eP+NeHYO0P7H/6EvkaLA/kL7XhI+3vD81AOlL5GiwP/o+414dg7Q/sf/oS+RosD+x/+hL5GigP4p/3XFWnbg/sf/oS+RokD+x/+hL5GigP4p/3XFWnag/xn7dcVadqD9QgN1xVp2oPy7/6EvkaKA/sf/oS+RooD+x/+hL5GigP7H/6EvkaJA/sf/oS+RokD+x/+hL5GiwP7H/6EvkaJA/Lv/oS+RokD81AOlL5GiQPwAAAAAAAAAAsf/oS+RokD8AAAAAAAAAAAAAAAAAAAAAAAAAAAAAAACx/+hL5GiQPwAAAAAAAAAAAAAAAAAAAAA1AOlL5GiQPy7/6EvkaJA/AAAAAAAAAACx/+hL5GigP7H/6EvkaJA/sf/oS+RokD+x/+hL5GiQPwAAAAAAAAAALv/oS+RokD8AAAAAAAAAAC7/6EvkaJA/sf/oS+RokD+x/+hL5GiQPwAAAAAAAAAAAAAAAAAAAAAu/+hL5GiQPwAAAAAAAAAAAAAAAAAAAAAAAAAAAAAAAAAAAAAAAAAAsf/oS+RokD8=\",\"dtype\":\"float64\",\"shape\":[100]}}},\"id\":\"0349cda1-1e61-44a9-80fa-3252fd791d48\",\"type\":\"ColumnDataSource\"}],\"root_ids\":[\"6456cac7-5df3-4b1b-81b0-440950f27260\"]},\"title\":\"Bokeh Application\",\"version\":\"0.12.4\"}};\n",
       "            var render_items = [{\"docid\":\"f3b16278-1bc6-4eb2-88e0-4db38303e373\",\"elementid\":\"a988f82c-32e2-4ae4-889b-226be2d7d8a8\",\"modelid\":\"6456cac7-5df3-4b1b-81b0-440950f27260\"}];\n",
       "            \n",
       "            Bokeh.embed.embed_items(docs_json, render_items);\n",
       "          };\n",
       "          if (document.readyState != \"loading\") fn();\n",
       "          else document.addEventListener(\"DOMContentLoaded\", fn);\n",
       "        })();\n",
       "      },\n",
       "      function(Bokeh) {\n",
       "      }\n",
       "    ];\n",
       "  \n",
       "    function run_inline_js() {\n",
       "      \n",
       "      if ((window.Bokeh !== undefined) || (force === true)) {\n",
       "        for (var i = 0; i < inline_js.length; i++) {\n",
       "          inline_js[i](window.Bokeh);\n",
       "        }if (force === true) {\n",
       "          display_loaded();\n",
       "        }} else if (Date.now() < window._bokeh_timeout) {\n",
       "        setTimeout(run_inline_js, 100);\n",
       "      } else if (!window._bokeh_failed_load) {\n",
       "        console.log(\"Bokeh: BokehJS failed to load within specified timeout.\");\n",
       "        window._bokeh_failed_load = true;\n",
       "      } else if (force !== true) {\n",
       "        var cell = $(document.getElementById(\"a988f82c-32e2-4ae4-889b-226be2d7d8a8\")).parents('.cell').data().cell;\n",
       "        cell.output_area.append_execute_result(NB_LOAD_WARNING)\n",
       "      }\n",
       "  \n",
       "    }\n",
       "  \n",
       "    if (window._bokeh_is_loading === 0) {\n",
       "      console.log(\"Bokeh: BokehJS loaded, going straight to plotting\");\n",
       "      run_inline_js();\n",
       "    } else {\n",
       "      load_libs(js_urls, function() {\n",
       "        console.log(\"Bokeh: BokehJS plotting callback run at\", now());\n",
       "        run_inline_js();\n",
       "      });\n",
       "    }\n",
       "  }(this));\n",
       "</script>"
      ]
     },
     "metadata": {},
     "output_type": "display_data"
    }
   ],
   "source": [
    "hist, edges = np.histogram(np.log(counts_ted_top1000), density=True, bins=100, normed=True)\n",
    "\n",
    "p = figure(tools=\"pan,wheel_zoom,reset,save\",\n",
    "           toolbar_location=\"above\",\n",
    "           title=\"Top-1000 words distribution\")\n",
    "p.quad(top=hist, bottom=0, left=edges[:-1], right=edges[1:], line_color=\"#555555\")\n",
    "show(p)"
   ]
  },
  {
   "cell_type": "markdown",
   "metadata": {},
   "source": [
    "### Part 3: Train Word2Vec"
   ]
  },
  {
   "cell_type": "code",
   "execution_count": 39,
   "metadata": {
    "collapsed": false
   },
   "outputs": [],
   "source": [
    "from gensim.models import Word2Vec"
   ]
  },
  {
   "cell_type": "code",
   "execution_count": 40,
   "metadata": {
    "collapsed": false
   },
   "outputs": [],
   "source": [
    "model_ted = Word2Vec(sentences_ted, size=100, window=5, min_count=5, workers=4)"
   ]
  },
  {
   "cell_type": "markdown",
   "metadata": {},
   "source": [
    "### Part 4: Ted Learnt Representations"
   ]
  },
  {
   "cell_type": "markdown",
   "metadata": {},
   "source": [
    "Finding similar words: (see gensim docs for more functionality of `most_similar`)"
   ]
  },
  {
   "cell_type": "code",
   "execution_count": 41,
   "metadata": {
    "collapsed": false
   },
   "outputs": [
    {
     "data": {
      "text/plain": [
       "[('woman', 0.8552734851837158),\n",
       " ('guy', 0.8296010494232178),\n",
       " ('lady', 0.778739869594574),\n",
       " ('girl', 0.7501686811447144),\n",
       " ('soldier', 0.7453082799911499),\n",
       " ('boy', 0.7357522249221802),\n",
       " ('gentleman', 0.7307102084159851),\n",
       " ('kid', 0.7112668752670288),\n",
       " ('poet', 0.6926905512809753),\n",
       " ('david', 0.6740086078643799)]"
      ]
     },
     "execution_count": 41,
     "metadata": {},
     "output_type": "execute_result"
    }
   ],
   "source": [
    "model_ted.most_similar(\"man\")"
   ]
  },
  {
   "cell_type": "code",
   "execution_count": 42,
   "metadata": {
    "collapsed": false
   },
   "outputs": [
    {
     "data": {
      "text/plain": [
       "[('machine', 0.7355384826660156),\n",
       " ('robot', 0.7233259081840515),\n",
       " ('software', 0.6993870735168457),\n",
       " ('camera', 0.6796689033508301),\n",
       " ('3d', 0.6635931730270386),\n",
       " ('device', 0.656947135925293),\n",
       " ('interface', 0.6529245376586914),\n",
       " ('simulation', 0.6427710056304932),\n",
       " ('video', 0.6408343315124512),\n",
       " ('chip', 0.6214495897293091)]"
      ]
     },
     "execution_count": 42,
     "metadata": {},
     "output_type": "execute_result"
    }
   ],
   "source": [
    "model_ted.most_similar(\"computer\")"
   ]
  },
  {
   "cell_type": "code",
   "execution_count": 43,
   "metadata": {
    "collapsed": false
   },
   "outputs": [
    {
     "data": {
      "text/plain": [
       "[('organ', 0.7437419891357422),\n",
       " ('organism', 0.7333291172981262),\n",
       " ('ant', 0.7161191701889038),\n",
       " ('object', 0.7109949588775635),\n",
       " ('insect', 0.6879705190658569),\n",
       " ('neuron', 0.671383261680603),\n",
       " ('gene', 0.6709529757499695),\n",
       " ('atom', 0.665501058101654),\n",
       " ('individual', 0.657010018825531),\n",
       " ('algorithm', 0.6514096856117249)]"
      ]
     },
     "execution_count": 43,
     "metadata": {},
     "output_type": "execute_result"
    }
   ],
   "source": [
    "model_ted.most_similar(\"animal\")"
   ]
  },
  {
   "cell_type": "markdown",
   "metadata": {},
   "source": [
    "#### t-SNE visualization\n",
    "To use the t-SNE code below, first put a list of the top 1000 words (as strings) into a variable `words_top_ted`. The following code gets the corresponding vectors from the model, assuming it's called `model_ted`:"
   ]
  },
  {
   "cell_type": "code",
   "execution_count": 44,
   "metadata": {
    "collapsed": false
   },
   "outputs": [],
   "source": [
    "# This assumes words_top_ted is a list of strings, the top 1000 words\n",
    "words_top_ted = words_ted_top1000\n",
    "words_top_vec_ted = model_ted[words_top_ted]"
   ]
  },
  {
   "cell_type": "code",
   "execution_count": 45,
   "metadata": {
    "collapsed": false
   },
   "outputs": [],
   "source": [
    "from sklearn.manifold import TSNE\n",
    "tsne = TSNE(n_components=2, random_state=0)\n",
    "words_top_ted_tsne = tsne.fit_transform(words_top_vec_ted)"
   ]
  },
  {
   "cell_type": "code",
   "execution_count": 46,
   "metadata": {
    "collapsed": false
   },
   "outputs": [
    {
     "data": {
      "text/html": [
       "\n",
       "\n",
       "    <div class=\"bk-root\">\n",
       "        <div class=\"bk-plotdiv\" id=\"33c5bc8e-6e49-4701-9444-ea0ff2663dcf\"></div>\n",
       "    </div>\n",
       "<script type=\"text/javascript\">\n",
       "  \n",
       "  (function(global) {\n",
       "    function now() {\n",
       "      return new Date();\n",
       "    }\n",
       "  \n",
       "    var force = false;\n",
       "  \n",
       "    if (typeof (window._bokeh_onload_callbacks) === \"undefined\" || force === true) {\n",
       "      window._bokeh_onload_callbacks = [];\n",
       "      window._bokeh_is_loading = undefined;\n",
       "    }\n",
       "  \n",
       "  \n",
       "    \n",
       "    if (typeof (window._bokeh_timeout) === \"undefined\" || force === true) {\n",
       "      window._bokeh_timeout = Date.now() + 0;\n",
       "      window._bokeh_failed_load = false;\n",
       "    }\n",
       "  \n",
       "    var NB_LOAD_WARNING = {'data': {'text/html':\n",
       "       \"<div style='background-color: #fdd'>\\n\"+\n",
       "       \"<p>\\n\"+\n",
       "       \"BokehJS does not appear to have successfully loaded. If loading BokehJS from CDN, this \\n\"+\n",
       "       \"may be due to a slow or bad network connection. Possible fixes:\\n\"+\n",
       "       \"</p>\\n\"+\n",
       "       \"<ul>\\n\"+\n",
       "       \"<li>re-rerun `output_notebook()` to attempt to load from CDN again, or</li>\\n\"+\n",
       "       \"<li>use INLINE resources instead, as so:</li>\\n\"+\n",
       "       \"</ul>\\n\"+\n",
       "       \"<code>\\n\"+\n",
       "       \"from bokeh.resources import INLINE\\n\"+\n",
       "       \"output_notebook(resources=INLINE)\\n\"+\n",
       "       \"</code>\\n\"+\n",
       "       \"</div>\"}};\n",
       "  \n",
       "    function display_loaded() {\n",
       "      if (window.Bokeh !== undefined) {\n",
       "        document.getElementById(\"33c5bc8e-6e49-4701-9444-ea0ff2663dcf\").textContent = \"BokehJS successfully loaded.\";\n",
       "      } else if (Date.now() < window._bokeh_timeout) {\n",
       "        setTimeout(display_loaded, 100)\n",
       "      }\n",
       "    }\n",
       "  \n",
       "    function run_callbacks() {\n",
       "      window._bokeh_onload_callbacks.forEach(function(callback) { callback() });\n",
       "      delete window._bokeh_onload_callbacks\n",
       "      console.info(\"Bokeh: all callbacks have finished\");\n",
       "    }\n",
       "  \n",
       "    function load_libs(js_urls, callback) {\n",
       "      window._bokeh_onload_callbacks.push(callback);\n",
       "      if (window._bokeh_is_loading > 0) {\n",
       "        console.log(\"Bokeh: BokehJS is being loaded, scheduling callback at\", now());\n",
       "        return null;\n",
       "      }\n",
       "      if (js_urls == null || js_urls.length === 0) {\n",
       "        run_callbacks();\n",
       "        return null;\n",
       "      }\n",
       "      console.log(\"Bokeh: BokehJS not loaded, scheduling load and callback at\", now());\n",
       "      window._bokeh_is_loading = js_urls.length;\n",
       "      for (var i = 0; i < js_urls.length; i++) {\n",
       "        var url = js_urls[i];\n",
       "        var s = document.createElement('script');\n",
       "        s.src = url;\n",
       "        s.async = false;\n",
       "        s.onreadystatechange = s.onload = function() {\n",
       "          window._bokeh_is_loading--;\n",
       "          if (window._bokeh_is_loading === 0) {\n",
       "            console.log(\"Bokeh: all BokehJS libraries loaded\");\n",
       "            run_callbacks()\n",
       "          }\n",
       "        };\n",
       "        s.onerror = function() {\n",
       "          console.warn(\"failed to load library \" + url);\n",
       "        };\n",
       "        console.log(\"Bokeh: injecting script tag for BokehJS library: \", url);\n",
       "        document.getElementsByTagName(\"head\")[0].appendChild(s);\n",
       "      }\n",
       "    };var element = document.getElementById(\"33c5bc8e-6e49-4701-9444-ea0ff2663dcf\");\n",
       "    if (element == null) {\n",
       "      console.log(\"Bokeh: ERROR: autoload.js configured with elementid '33c5bc8e-6e49-4701-9444-ea0ff2663dcf' but no matching script tag was found. \")\n",
       "      return false;\n",
       "    }\n",
       "  \n",
       "    var js_urls = [];\n",
       "  \n",
       "    var inline_js = [\n",
       "      function(Bokeh) {\n",
       "        (function() {\n",
       "          var fn = function() {\n",
       "            var docs_json = {\"06989a9a-729a-43ef-be37-f63d4581c078\":{\"roots\":{\"references\":[{\"attributes\":{\"dimension\":1,\"plot\":{\"id\":\"e7e37102-1182-4623-97c5-793f60f92284\",\"subtype\":\"Figure\",\"type\":\"Plot\"},\"ticker\":{\"id\":\"11993540-4456-409e-a11b-aad716f10d4a\",\"type\":\"BasicTicker\"}},\"id\":\"12a3a40c-a8eb-446e-8eb8-aaaad52dc8ad\",\"type\":\"Grid\"},{\"attributes\":{\"fill_color\":{\"value\":\"#1f77b4\"},\"line_color\":{\"value\":\"#1f77b4\"},\"size\":{\"units\":\"screen\",\"value\":8},\"x\":{\"field\":\"x1\"},\"y\":{\"field\":\"x2\"}},\"id\":\"a2ffe8d8-29f1-4324-a255-da44cf7053a6\",\"type\":\"Circle\"},{\"attributes\":{\"plot\":null,\"text\":\"word2vec T-SNE for most common words\"},\"id\":\"945e1049-3b5b-4f6e-b4d7-d296ef17ee1d\",\"type\":\"Title\"},{\"attributes\":{\"plot\":{\"id\":\"e7e37102-1182-4623-97c5-793f60f92284\",\"subtype\":\"Figure\",\"type\":\"Plot\"}},\"id\":\"73c094de-10fb-4f7f-812c-d4e29d1677e3\",\"type\":\"WheelZoomTool\"},{\"attributes\":{\"active_drag\":\"auto\",\"active_scroll\":\"auto\",\"active_tap\":\"auto\",\"tools\":[{\"id\":\"9384ad48-6b6c-4115-b88f-bc8f1acb056e\",\"type\":\"PanTool\"},{\"id\":\"73c094de-10fb-4f7f-812c-d4e29d1677e3\",\"type\":\"WheelZoomTool\"},{\"id\":\"6d9da42a-24c6-4c5a-8f83-915fd8bf5ba4\",\"type\":\"ResetTool\"},{\"id\":\"96fe8818-7a58-4706-a5b9-f20e278192ae\",\"type\":\"SaveTool\"}]},\"id\":\"5a2e6729-1214-44b8-8fed-1421e78be006\",\"type\":\"Toolbar\"},{\"attributes\":{},\"id\":\"11993540-4456-409e-a11b-aad716f10d4a\",\"type\":\"BasicTicker\"},{\"attributes\":{},\"id\":\"d02c0c88-38e9-4e99-ad3b-fc714a8d01c9\",\"type\":\"BasicTicker\"},{\"attributes\":{},\"id\":\"233a9452-4c85-46c8-8131-85d046f7210e\",\"type\":\"BasicTickFormatter\"},{\"attributes\":{\"data_source\":{\"id\":\"14dd992f-18b6-4bcd-b7a1-23b8da2f7128\",\"type\":\"ColumnDataSource\"},\"glyph\":{\"id\":\"a2ffe8d8-29f1-4324-a255-da44cf7053a6\",\"type\":\"Circle\"},\"hover_glyph\":null,\"nonselection_glyph\":{\"id\":\"57a4781d-fd0e-4c06-8bc7-ee6ce3e9ae8d\",\"type\":\"Circle\"},\"selection_glyph\":null},\"id\":\"18b94a0c-c41a-4aac-851d-32b3bf935216\",\"type\":\"GlyphRenderer\"},{\"attributes\":{\"plot\":{\"id\":\"e7e37102-1182-4623-97c5-793f60f92284\",\"subtype\":\"Figure\",\"type\":\"Plot\"},\"source\":{\"id\":\"14dd992f-18b6-4bcd-b7a1-23b8da2f7128\",\"type\":\"ColumnDataSource\"},\"text\":{\"field\":\"names\"},\"text_align\":\"center\",\"text_color\":{\"value\":\"#555555\"},\"text_font_size\":{\"value\":\"8pt\"},\"x\":{\"field\":\"x1\"},\"y\":{\"field\":\"x2\"},\"y_offset\":{\"value\":6}},\"id\":\"14e47512-1ec5-4e84-95a5-191753887588\",\"type\":\"LabelSet\"},{\"attributes\":{\"below\":[{\"id\":\"e8a2bcdd-7d8d-46d0-aeb4-1767f288c23b\",\"type\":\"LinearAxis\"}],\"left\":[{\"id\":\"555768a1-441e-4d5d-8151-7a491143e46c\",\"type\":\"LinearAxis\"}],\"renderers\":[{\"id\":\"e8a2bcdd-7d8d-46d0-aeb4-1767f288c23b\",\"type\":\"LinearAxis\"},{\"id\":\"e794d917-bf4f-4226-92f9-ca64e4f773dd\",\"type\":\"Grid\"},{\"id\":\"555768a1-441e-4d5d-8151-7a491143e46c\",\"type\":\"LinearAxis\"},{\"id\":\"12a3a40c-a8eb-446e-8eb8-aaaad52dc8ad\",\"type\":\"Grid\"},{\"id\":\"18b94a0c-c41a-4aac-851d-32b3bf935216\",\"type\":\"GlyphRenderer\"},{\"id\":\"14e47512-1ec5-4e84-95a5-191753887588\",\"type\":\"LabelSet\"}],\"title\":{\"id\":\"945e1049-3b5b-4f6e-b4d7-d296ef17ee1d\",\"type\":\"Title\"},\"tool_events\":{\"id\":\"a3b62089-8a41-45fd-b3e0-4622380f90e5\",\"type\":\"ToolEvents\"},\"toolbar\":{\"id\":\"5a2e6729-1214-44b8-8fed-1421e78be006\",\"type\":\"Toolbar\"},\"toolbar_location\":\"above\",\"x_range\":{\"id\":\"a94ccdc7-81c7-4385-ac4b-c7e75c338d0a\",\"type\":\"DataRange1d\"},\"y_range\":{\"id\":\"3c41fe00-fea6-4842-8226-33ea9e665c33\",\"type\":\"DataRange1d\"}},\"id\":\"e7e37102-1182-4623-97c5-793f60f92284\",\"subtype\":\"Figure\",\"type\":\"Plot\"},{\"attributes\":{\"plot\":{\"id\":\"e7e37102-1182-4623-97c5-793f60f92284\",\"subtype\":\"Figure\",\"type\":\"Plot\"}},\"id\":\"96fe8818-7a58-4706-a5b9-f20e278192ae\",\"type\":\"SaveTool\"},{\"attributes\":{\"fill_alpha\":{\"value\":0.1},\"fill_color\":{\"value\":\"#1f77b4\"},\"line_alpha\":{\"value\":0.1},\"line_color\":{\"value\":\"#1f77b4\"},\"size\":{\"units\":\"screen\",\"value\":8},\"x\":{\"field\":\"x1\"},\"y\":{\"field\":\"x2\"}},\"id\":\"57a4781d-fd0e-4c06-8bc7-ee6ce3e9ae8d\",\"type\":\"Circle\"},{\"attributes\":{\"callback\":null},\"id\":\"a94ccdc7-81c7-4385-ac4b-c7e75c338d0a\",\"type\":\"DataRange1d\"},{\"attributes\":{\"plot\":{\"id\":\"e7e37102-1182-4623-97c5-793f60f92284\",\"subtype\":\"Figure\",\"type\":\"Plot\"}},\"id\":\"9384ad48-6b6c-4115-b88f-bc8f1acb056e\",\"type\":\"PanTool\"},{\"attributes\":{},\"id\":\"a66f100c-6b26-4974-bc74-0514935a336a\",\"type\":\"BasicTickFormatter\"},{\"attributes\":{},\"id\":\"a3b62089-8a41-45fd-b3e0-4622380f90e5\",\"type\":\"ToolEvents\"},{\"attributes\":{\"formatter\":{\"id\":\"a66f100c-6b26-4974-bc74-0514935a336a\",\"type\":\"BasicTickFormatter\"},\"plot\":{\"id\":\"e7e37102-1182-4623-97c5-793f60f92284\",\"subtype\":\"Figure\",\"type\":\"Plot\"},\"ticker\":{\"id\":\"11993540-4456-409e-a11b-aad716f10d4a\",\"type\":\"BasicTicker\"}},\"id\":\"555768a1-441e-4d5d-8151-7a491143e46c\",\"type\":\"LinearAxis\"},{\"attributes\":{\"plot\":{\"id\":\"e7e37102-1182-4623-97c5-793f60f92284\",\"subtype\":\"Figure\",\"type\":\"Plot\"},\"ticker\":{\"id\":\"d02c0c88-38e9-4e99-ad3b-fc714a8d01c9\",\"type\":\"BasicTicker\"}},\"id\":\"e794d917-bf4f-4226-92f9-ca64e4f773dd\",\"type\":\"Grid\"},{\"attributes\":{\"callback\":null},\"id\":\"3c41fe00-fea6-4842-8226-33ea9e665c33\",\"type\":\"DataRange1d\"},{\"attributes\":{\"plot\":{\"id\":\"e7e37102-1182-4623-97c5-793f60f92284\",\"subtype\":\"Figure\",\"type\":\"Plot\"}},\"id\":\"6d9da42a-24c6-4c5a-8f83-915fd8bf5ba4\",\"type\":\"ResetTool\"},{\"attributes\":{\"callback\":null,\"column_names\":[\"x1\",\"x2\",\"names\"],\"data\":{\"names\":[\"the\",\"and\",\"to\",\"of\",\"a\",\"that\",\"i\",\"in\",\"it\",\"you\",\"we\",\"is\",\"s\",\"this\",\"so\",\"they\",\"was\",\"for\",\"are\",\"have\",\"but\",\"what\",\"on\",\"with\",\"can\",\"t\",\"about\",\"there\",\"be\",\"as\",\"at\",\"all\",\"not\",\"do\",\"my\",\"one\",\"re\",\"people\",\"like\",\"if\",\"from\",\"now\",\"our\",\"he\",\"an\",\"just\",\"these\",\"or\",\"when\",\"because\",\"very\",\"me\",\"out\",\"by\",\"them\",\"how\",\"know\",\"up\",\"going\",\"had\",\"more\",\"think\",\"who\",\"were\",\"see\",\"your\",\"their\",\"which\",\"would\",\"here\",\"really\",\"get\",\"ve\",\"then\",\"m\",\"world\",\"us\",\"time\",\"some\",\"has\",\"don\",\"actually\",\"into\",\"way\",\"where\",\"will\",\"years\",\"things\",\"other\",\"no\",\"could\",\"go\",\"well\",\"want\",\"been\",\"make\",\"right\",\"she\",\"said\",\"something\",\"those\",\"first\",\"two\",\"than\",\"much\",\"also\",\"look\",\"new\",\"thing\",\"little\",\"got\",\"back\",\"over\",\"most\",\"say\",\"even\",\"his\",\"life\",\"only\",\"work\",\"many\",\"take\",\"need\",\"did\",\"lot\",\"kind\",\"why\",\"good\",\"around\",\"every\",\"different\",\"down\",\"ll\",\"let\",\"her\",\"through\",\"same\",\"being\",\"come\",\"d\",\"day\",\"year\",\"three\",\"use\",\"doing\",\"put\",\"called\",\"any\",\"today\",\"percent\",\"made\",\"after\",\"thank\",\"tell\",\"great\",\"human\",\"find\",\"didn\",\"fact\",\"talk\",\"change\",\"started\",\"another\",\"idea\",\"big\",\"last\",\"own\",\"before\",\"its\",\"never\",\"should\",\"better\",\"give\",\"thought\",\"went\",\"might\",\"important\",\"000\",\"again\",\"able\",\"together\",\"still\",\"problem\",\"off\",\"next\",\"part\",\"course\",\"system\",\"him\",\"does\",\"each\",\"start\",\"show\",\"long\",\"ago\",\"story\",\"came\",\"brain\",\"few\",\"bit\",\"between\",\"used\",\"place\",\"technology\",\"women\",\"too\",\"old\",\"mean\",\"data\",\"water\",\"looking\",\"question\",\"maybe\",\"found\",\"love\",\"doesn\",\"end\",\"example\",\"10\",\"done\",\"point\",\"four\",\"real\",\"wanted\",\"ever\",\"school\",\"understand\",\"sort\",\"live\",\"call\",\"whole\",\"children\",\"always\",\"trying\",\"may\",\"person\",\"away\",\"believe\",\"feel\",\"try\",\"million\",\"working\",\"help\",\"everything\",\"five\",\"country\",\"thinking\",\"second\",\"using\",\"information\",\"money\",\"means\",\"power\",\"took\",\"times\",\"high\",\"space\",\"number\",\"kids\",\"home\",\"become\",\"create\",\"small\",\"design\",\"making\",\"best\",\"left\",\"getting\",\"future\",\"enough\",\"man\",\"quite\",\"city\",\"without\",\"sense\",\"happened\",\"comes\",\"social\",\"probably\",\"less\",\"light\",\"talking\",\"energy\",\"am\",\"building\",\"science\",\"food\",\"body\",\"told\",\"interesting\",\"ask\",\"half\",\"pretty\",\"hard\",\"play\",\"anything\",\"lives\",\"countries\",\"coming\",\"such\",\"family\",\"stuff\",\"dollars\",\"earth\",\"moment\",\"20\",\"imagine\",\"across\",\"side\",\"while\",\"saw\",\"happen\",\"once\",\"okay\",\"build\",\"having\",\"men\",\"later\",\"experience\",\"makes\",\"asked\",\"living\",\"seen\",\"says\",\"room\",\"hand\",\"simple\",\"health\",\"ways\",\"else\",\"case\",\"yet\",\"almost\",\"young\",\"days\",\"nothing\",\"care\",\"bad\",\"happens\",\"goes\",\"move\",\"states\",\"reason\",\"computer\",\"open\",\"learn\",\"africa\",\"process\",\"inside\",\"someone\",\"six\",\"far\",\"mind\",\"project\",\"remember\",\"single\",\"picture\",\"both\",\"whether\",\"problems\",\"saying\",\"community\",\"basically\",\"already\",\"within\",\"looked\",\"myself\",\"billion\",\"often\",\"possible\",\"business\",\"planet\",\"global\",\"everybody\",\"top\",\"sure\",\"public\",\"set\",\"wrong\",\"car\",\"book\",\"keep\",\"yes\",\"answer\",\"oh\",\"hope\",\"sometimes\",\"true\",\"history\",\"war\",\"guy\",\"child\",\"instead\",\"months\",\"ideas\",\"looks\",\"matter\",\"government\",\"amazing\",\"united\",\"since\",\"bring\",\"age\",\"cells\",\"job\",\"heard\",\"until\",\"face\",\"wasn\",\"100\",\"read\",\"control\",\"isn\",\"research\",\"30\",\"words\",\"u\",\"group\",\"under\",\"self\",\"somebody\",\"built\",\"state\",\"woman\",\"turn\",\"friends\",\"beautiful\",\"line\",\"knew\",\"couple\",\"order\",\"form\",\"yeah\",\"internet\",\"middle\",\"music\",\"piece\",\"nature\",\"head\",\"though\",\"stop\",\"everyone\",\"50\",\"places\",\"video\",\"learned\",\"language\",\"run\",\"night\",\"decided\",\"study\",\"word\",\"cancer\",\"taking\",\"works\",\"became\",\"exactly\",\"species\",\"society\",\"completely\",\"education\",\"against\",\"stories\",\"large\",\"share\",\"level\",\"heart\",\"america\",\"model\",\"questions\",\"gets\",\"mother\",\"god\",\"company\",\"turns\",\"ourselves\",\"happening\",\"hear\",\"art\",\"themselves\",\"must\",\"itself\",\"rather\",\"kinds\",\"students\",\"name\",\"hours\",\"disease\",\"front\",\"house\",\"huge\",\"couldn\",\"created\",\"universe\",\"ok\",\"animals\",\"american\",\"environment\",\"worked\",\"minutes\",\"ones\",\"black\",\"perhaps\",\"1\",\"past\",\"third\",\"along\",\"others\",\"finally\",\"sound\",\"early\",\"game\",\"thousands\",\"century\",\"based\",\"least\",\"per\",\"ted\",\"lots\",\"figure\",\"free\",\"guys\",\"particular\",\"happy\",\"news\",\"learning\",\"entire\",\"won\",\"gave\",\"machine\",\"india\",\"during\",\"systems\",\"air\",\"difference\",\"outside\",\"natural\",\"taken\",\"seven\",\"given\",\"changed\",\"leave\",\"cell\",\"15\",\"close\",\"behind\",\"cities\",\"full\",\"scale\",\"difficult\",\"china\",\"takes\",\"companies\",\"yourself\",\"area\",\"reality\",\"seeing\",\"easy\",\"turned\",\"cost\",\"eyes\",\"team\",\"moving\",\"population\",\"culture\",\"york\",\"hands\",\"whatever\",\"began\",\"needs\",\"terms\",\"image\",\"simply\",\"needed\",\"beginning\",\"father\",\"local\",\"realized\",\"media\",\"death\",\"parents\",\"view\",\"walk\",\"white\",\"market\",\"parts\",\"ocean\",\"economic\",\"eight\",\"powerful\",\"known\",\"week\",\"size\",\"felt\",\"humans\",\"certain\",\"spend\",\"longer\",\"phone\",\"wonderful\",\"cannot\",\"grow\",\"common\",\"center\",\"tried\",\"fish\",\"land\",\"oil\",\"political\",\"interested\",\"deal\",\"red\",\"gone\",\"amount\",\"weeks\",\"spent\",\"opportunity\",\"paper\",\"lost\",\"national\",\"quickly\",\"blue\",\"step\",\"poor\",\"green\",\"buy\",\"growth\",\"wouldn\",\"either\",\"patients\",\"sitting\",\"ability\",\"changes\",\"write\",\"challenge\",\"south\",\"low\",\"growing\",\"friend\",\"field\",\"shows\",\"2\",\"born\",\"rest\",\"climate\",\"40\",\"test\",\"street\",\"surface\",\"incredible\",\"average\",\"physical\",\"morning\",\"scientists\",\"program\",\"pay\",\"value\",\"feeling\",\"hundreds\",\"girl\",\"met\",\"behavior\",\"economy\",\"dna\",\"complex\",\"access\",\"risk\",\"animal\",\"structure\",\"feet\",\"attention\",\"areas\",\"anyone\",\"deep\",\"watch\",\"short\",\"absolutely\",\"speak\",\"brought\",\"die\",\"bottom\",\"numbers\",\"audience\",\"stage\",\"realize\",\"law\",\"images\",\"wrote\",\"understanding\",\"knowledge\",\"literally\",\"books\",\"movement\",\"ground\",\"giving\",\"eat\",\"force\",\"seems\",\"alone\",\"telling\",\"starting\",\"hold\",\"nice\",\"forward\",\"sea\",\"developed\",\"individual\",\"kid\",\"millions\",\"support\",\"miles\",\"tools\",\"running\",\"online\",\"result\",\"act\",\"medical\",\"technologies\",\"north\",\"lab\",\"development\",\"blood\",\"fear\",\"nobody\",\"map\",\"personal\",\"issue\",\"voice\",\"material\",\"key\",\"12\",\"recently\",\"theory\",\"cut\",\"cars\",\"sun\",\"fast\",\"changing\",\"playing\",\"clear\",\"especially\",\"soon\",\"girls\",\"patient\",\"choice\",\"fly\",\"creating\",\"normal\",\"discovered\",\"europe\",\"talked\",\"relationship\",\"gives\",\"generation\",\"dark\",\"type\",\"showed\",\"chance\",\"seem\",\"industry\",\"asking\",\"rate\",\"fun\",\"issues\",\"color\",\"designed\",\"hour\",\"university\",\"innovation\",\"several\",\"class\",\"computers\",\"english\",\"tiny\",\"allow\",\"save\",\"focus\",\"digital\",\"solve\",\"developing\",\"network\",\"film\",\"special\",\"wall\",\"situation\",\"baby\",\"solution\",\"reasons\",\"box\",\"knows\",\"meet\",\"dead\",\"stand\",\"begin\",\"haven\",\"impact\",\"anybody\",\"term\",\"beyond\",\"pictures\",\"please\",\"ice\",\"produce\",\"shape\",\"non\",\"resources\",\"robot\",\"cool\",\"groups\",\"likely\",\"stay\",\"available\",\"truth\",\"rights\",\"major\",\"cause\",\"evidence\",\"obviously\",\"writing\",\"experiment\",\"modern\",\"drug\",\"becomes\",\"incredibly\",\"aren\",\"bigger\",\"guess\",\"nine\",\"product\",\"drugs\",\"lived\",\"involved\",\"perfect\",\"google\",\"month\",\"effect\",\"similar\",\"putting\",\"eye\",\"pick\",\"message\",\"quality\",\"violence\",\"web\",\"evolution\",\"security\",\"office\",\"basic\",\"solar\",\"indeed\",\"general\",\"towards\",\"present\",\"drive\",\"send\",\"listen\",\"worth\",\"revolution\",\"explain\",\"hundred\",\"certainly\",\"died\",\"ready\",\"teach\",\"journey\",\"25\",\"hit\",\"walking\",\"led\",\"approach\",\"international\",\"200\",\"scientific\",\"games\",\"60\",\"potential\",\"crazy\",\"communities\",\"chinese\",\"device\",\"source\",\"camera\",\"rules\",\"sex\",\"carbon\",\"sounds\",\"boy\",\"reach\",\"starts\",\"examples\",\"west\",\"3\",\"success\",\"measure\",\"particularly\",\"software\",\"totally\",\"suddenly\",\"action\",\"college\",\"higher\",\"code\",\"eventually\",\"democracy\",\"among\",\"minute\",\"sit\",\"largest\",\"showing\",\"hospital\",\"notice\",\"period\",\"mass\",\"develop\",\"dream\",\"onto\",\"plants\",\"break\",\"add\",\"memory\",\"everywhere\",\"favorite\",\"11\",\"zero\",\"speed\",\"schools\",\"moved\",\"response\",\"wants\",\"extremely\",\"movie\",\"individuals\",\"table\",\"wait\",\"medicine\",\"follow\",\"anyway\",\"trust\",\"plant\",\"biggest\",\"watching\",\"organization\",\"creative\",\"road\",\"choose\",\"worse\",\"lead\",\"results\",\"500\",\"exciting\",\"grew\",\"materials\",\"jobs\",\"plan\",\"east\",\"poverty\",\"positive\",\"safe\",\"strong\",\"fall\",\"essentially\",\"object\",\"door\",\"son\",\"vision\",\"further\",\"happiness\",\"continue\",\"student\",\"doctor\",\"including\",\"named\",\"role\",\"objects\",\"extraordinary\",\"standing\",\"skin\",\"leaders\",\"usually\",\"african\",\"conversation\",\"projects\",\"allowed\",\"models\",\"supposed\",\"faster\",\"interest\",\"families\",\"police\",\"fight\",\"tree\",\"connected\",\"screen\",\"5\",\"cases\",\"goal\",\"somewhere\",\"finding\",\"buildings\",\"shown\"],\"x1\":{\"__ndarray__\":\"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\",\"dtype\":\"float64\",\"shape\":[1000]},\"x2\":{\"__ndarray__\":\"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\",\"dtype\":\"float64\",\"shape\":[1000]}}},\"id\":\"14dd992f-18b6-4bcd-b7a1-23b8da2f7128\",\"type\":\"ColumnDataSource\"},{\"attributes\":{\"formatter\":{\"id\":\"233a9452-4c85-46c8-8131-85d046f7210e\",\"type\":\"BasicTickFormatter\"},\"plot\":{\"id\":\"e7e37102-1182-4623-97c5-793f60f92284\",\"subtype\":\"Figure\",\"type\":\"Plot\"},\"ticker\":{\"id\":\"d02c0c88-38e9-4e99-ad3b-fc714a8d01c9\",\"type\":\"BasicTicker\"}},\"id\":\"e8a2bcdd-7d8d-46d0-aeb4-1767f288c23b\",\"type\":\"LinearAxis\"}],\"root_ids\":[\"e7e37102-1182-4623-97c5-793f60f92284\"]},\"title\":\"Bokeh Application\",\"version\":\"0.12.4\"}};\n",
       "            var render_items = [{\"docid\":\"06989a9a-729a-43ef-be37-f63d4581c078\",\"elementid\":\"33c5bc8e-6e49-4701-9444-ea0ff2663dcf\",\"modelid\":\"e7e37102-1182-4623-97c5-793f60f92284\"}];\n",
       "            \n",
       "            Bokeh.embed.embed_items(docs_json, render_items);\n",
       "          };\n",
       "          if (document.readyState != \"loading\") fn();\n",
       "          else document.addEventListener(\"DOMContentLoaded\", fn);\n",
       "        })();\n",
       "      },\n",
       "      function(Bokeh) {\n",
       "      }\n",
       "    ];\n",
       "  \n",
       "    function run_inline_js() {\n",
       "      \n",
       "      if ((window.Bokeh !== undefined) || (force === true)) {\n",
       "        for (var i = 0; i < inline_js.length; i++) {\n",
       "          inline_js[i](window.Bokeh);\n",
       "        }if (force === true) {\n",
       "          display_loaded();\n",
       "        }} else if (Date.now() < window._bokeh_timeout) {\n",
       "        setTimeout(run_inline_js, 100);\n",
       "      } else if (!window._bokeh_failed_load) {\n",
       "        console.log(\"Bokeh: BokehJS failed to load within specified timeout.\");\n",
       "        window._bokeh_failed_load = true;\n",
       "      } else if (force !== true) {\n",
       "        var cell = $(document.getElementById(\"33c5bc8e-6e49-4701-9444-ea0ff2663dcf\")).parents('.cell').data().cell;\n",
       "        cell.output_area.append_execute_result(NB_LOAD_WARNING)\n",
       "      }\n",
       "  \n",
       "    }\n",
       "  \n",
       "    if (window._bokeh_is_loading === 0) {\n",
       "      console.log(\"Bokeh: BokehJS loaded, going straight to plotting\");\n",
       "      run_inline_js();\n",
       "    } else {\n",
       "      load_libs(js_urls, function() {\n",
       "        console.log(\"Bokeh: BokehJS plotting callback run at\", now());\n",
       "        run_inline_js();\n",
       "      });\n",
       "    }\n",
       "  }(this));\n",
       "</script>"
      ]
     },
     "metadata": {},
     "output_type": "display_data"
    }
   ],
   "source": [
    "p = figure(tools=\"pan,wheel_zoom,reset,save\",\n",
    "           toolbar_location=\"above\",\n",
    "           title=\"word2vec T-SNE for most common words\")\n",
    "\n",
    "source = ColumnDataSource(data=dict(x1=words_top_ted_tsne[:,0],\n",
    "                                    x2=words_top_ted_tsne[:,1],\n",
    "                                    names=words_top_ted))\n",
    "\n",
    "p.scatter(x=\"x1\", y=\"x2\", size=8, source=source)\n",
    "\n",
    "labels = LabelSet(x=\"x1\", y=\"x2\", text=\"names\", y_offset=6,\n",
    "                  text_font_size=\"8pt\", text_color=\"#555555\",\n",
    "                  source=source, text_align='center')\n",
    "p.add_layout(labels)\n",
    "\n",
    "show(p)"
   ]
  },
  {
   "cell_type": "markdown",
   "metadata": {},
   "source": [
    "### Part 5: Wiki Learnt Representations"
   ]
  },
  {
   "cell_type": "markdown",
   "metadata": {},
   "source": [
    "Download dataset"
   ]
  },
  {
   "cell_type": "code",
   "execution_count": 49,
   "metadata": {
    "collapsed": false
   },
   "outputs": [],
   "source": [
    "if not os.path.isfile('wikitext.zip'):\n",
    "    urllib.request.urlretrieve(\"https://s3.amazonaws.com/research.metamind.io/wikitext/wikitext-103-raw-v1.zip\", filename=\"wikitext-103-raw-v1.zip\")"
   ]
  },
  {
   "cell_type": "code",
   "execution_count": 51,
   "metadata": {
    "collapsed": false
   },
   "outputs": [],
   "source": [
    "with zipfile.ZipFile('wikitext-103-raw-v1.zip', 'r') as z:\n",
    "    input_text = str(z.open('wikitext-103-raw/wiki.train.raw', 'r').read(), encoding='utf-8') # Thanks Robert Bastian"
   ]
  },
  {
   "cell_type": "markdown",
   "metadata": {},
   "source": [
    "Preprocess sentences (note that it's important to remove small sentences for performance)"
   ]
  },
  {
   "cell_type": "code",
   "execution_count": 52,
   "metadata": {
    "collapsed": false
   },
   "outputs": [],
   "source": [
    "sentences_wiki = []\n",
    "for line in input_text.split('\\n'):\n",
    "    s = [x for x in line.split('.') if x and len(x.split()) >= 5]\n",
    "    sentences_wiki.extend(s)\n",
    "    \n",
    "for s_i in range(len(sentences_wiki)):\n",
    "    sentences_wiki[s_i] = re.sub(\"[^a-z]\", \" \", sentences_wiki[s_i].lower())\n",
    "    sentences_wiki[s_i] = re.sub(r'\\([^)]*\\)', '', sentences_wiki[s_i])\n",
    "del input_text"
   ]
  },
  {
   "cell_type": "code",
   "execution_count": 53,
   "metadata": {
    "collapsed": false
   },
   "outputs": [
    {
     "name": "stdout",
     "output_type": "stream",
     "text": [
      "4267112\n",
      "853422\n"
     ]
    }
   ],
   "source": [
    "# sample 1/5 of the data\n",
    "shuffle(sentences_wiki)\n",
    "print(len(sentences_wiki))\n",
    "sentences_wiki = sentences_wiki[:int(len(sentences_wiki)/5)]\n",
    "print(len(sentences_wiki))"
   ]
  },
  {
   "cell_type": "markdown",
   "metadata": {},
   "source": [
    "Now, repeat all the same steps that you performed above. You should be able to reuse essentially all the code."
   ]
  },
  {
   "cell_type": "code",
   "execution_count": 54,
   "metadata": {
    "collapsed": true
   },
   "outputs": [],
   "source": [
    "counts_wiki = {}\n",
    "for sentence in sentences_wiki:\n",
    "    for word in sentence:\n",
    "        if word in counts_wiki:\n",
    "            counts_wiki[word] += 1\n",
    "        else:\n",
    "            counts_wiki[word] = 1"
   ]
  },
  {
   "cell_type": "markdown",
   "metadata": {},
   "source": [
    "#### t-SNE visualization"
   ]
  },
  {
   "cell_type": "code",
   "execution_count": 56,
   "metadata": {
    "collapsed": false
   },
   "outputs": [
    {
     "ename": "NameError",
     "evalue": "name 'model_wiki' is not defined",
     "output_type": "error",
     "traceback": [
      "\u001b[0;31m---------------------------------------------------------------------------\u001b[0m",
      "\u001b[0;31mNameError\u001b[0m                                 Traceback (most recent call last)",
      "\u001b[0;32m<ipython-input-56-eb6fd141ef40>\u001b[0m in \u001b[0;36m<module>\u001b[0;34m()\u001b[0m\n\u001b[1;32m      1\u001b[0m \u001b[1;31m# This assumes words_top_wiki is a list of strings, the top 1000 words\u001b[0m\u001b[1;33m\u001b[0m\u001b[1;33m\u001b[0m\u001b[0m\n\u001b[0;32m----> 2\u001b[0;31m \u001b[0mwords_top_vec_wiki\u001b[0m \u001b[1;33m=\u001b[0m \u001b[0mmodel_wiki\u001b[0m\u001b[1;33m[\u001b[0m\u001b[0mwords_top_wiki\u001b[0m\u001b[1;33m[\u001b[0m\u001b[1;33m:\u001b[0m\u001b[1;36m1000\u001b[0m\u001b[1;33m]\u001b[0m\u001b[1;33m]\u001b[0m\u001b[1;33m\u001b[0m\u001b[0m\n\u001b[0m\u001b[1;32m      3\u001b[0m \u001b[1;32mfrom\u001b[0m \u001b[0msklearn\u001b[0m\u001b[1;33m.\u001b[0m\u001b[0mmanifold\u001b[0m \u001b[1;32mimport\u001b[0m \u001b[0mTSNE\u001b[0m\u001b[1;33m\u001b[0m\u001b[0m\n\u001b[1;32m      4\u001b[0m \u001b[0mtsne\u001b[0m \u001b[1;33m=\u001b[0m \u001b[0mTSNE\u001b[0m\u001b[1;33m(\u001b[0m\u001b[0mn_components\u001b[0m\u001b[1;33m=\u001b[0m\u001b[1;36m2\u001b[0m\u001b[1;33m,\u001b[0m \u001b[0mrandom_state\u001b[0m\u001b[1;33m=\u001b[0m\u001b[1;36m0\u001b[0m\u001b[1;33m)\u001b[0m\u001b[1;33m\u001b[0m\u001b[0m\n\u001b[1;32m      5\u001b[0m \u001b[0mwords_top_wiki_tsne\u001b[0m \u001b[1;33m=\u001b[0m \u001b[0mtsne\u001b[0m\u001b[1;33m.\u001b[0m\u001b[0mfit_transform\u001b[0m\u001b[1;33m(\u001b[0m\u001b[0mwords_top_vec_wiki\u001b[0m\u001b[1;33m)\u001b[0m\u001b[1;33m\u001b[0m\u001b[0m\n",
      "\u001b[0;31mNameError\u001b[0m: name 'model_wiki' is not defined"
     ]
    }
   ],
   "source": [
    "# This assumes words_top_wiki is a list of strings, the top 1000 words\n",
    "words_top_vec_wiki = model_wiki[words_top_wiki[:1000]]\n",
    "from sklearn.manifold import TSNE\n",
    "tsne = TSNE(n_components=2, random_state=0)\n",
    "words_top_wiki_tsne = tsne.fit_transform(words_top_vec_wiki)"
   ]
  },
  {
   "cell_type": "code",
   "execution_count": 57,
   "metadata": {
    "collapsed": false
   },
   "outputs": [
    {
     "ename": "NameError",
     "evalue": "name 'words_top_wiki_tsne' is not defined",
     "output_type": "error",
     "traceback": [
      "\u001b[0;31m---------------------------------------------------------------------------\u001b[0m",
      "\u001b[0;31mNameError\u001b[0m                                 Traceback (most recent call last)",
      "\u001b[0;32m<ipython-input-57-fe0f734cf098>\u001b[0m in \u001b[0;36m<module>\u001b[0;34m()\u001b[0m\n\u001b[1;32m      3\u001b[0m            title=\"word2vec T-SNE for most common words\")\n\u001b[1;32m      4\u001b[0m \u001b[1;33m\u001b[0m\u001b[0m\n\u001b[0;32m----> 5\u001b[0;31m source = ColumnDataSource(data=dict(x1=words_top_wiki_tsne[:,0],\n\u001b[0m\u001b[1;32m      6\u001b[0m                                     \u001b[0mx2\u001b[0m\u001b[1;33m=\u001b[0m\u001b[0mwords_top_wiki_tsne\u001b[0m\u001b[1;33m[\u001b[0m\u001b[1;33m:\u001b[0m\u001b[1;33m,\u001b[0m\u001b[1;36m1\u001b[0m\u001b[1;33m]\u001b[0m\u001b[1;33m,\u001b[0m\u001b[1;33m\u001b[0m\u001b[0m\n\u001b[1;32m      7\u001b[0m                                     names=words_top_wiki[:1000]))\n",
      "\u001b[0;31mNameError\u001b[0m: name 'words_top_wiki_tsne' is not defined"
     ]
    }
   ],
   "source": [
    "p = figure(tools=\"pan,wheel_zoom,reset,save\",\n",
    "           toolbar_location=\"above\",\n",
    "           title=\"word2vec T-SNE for most common words\")\n",
    "\n",
    "source = ColumnDataSource(data=dict(x1=words_top_wiki_tsne[:,0],\n",
    "                                    x2=words_top_wiki_tsne[:,1],\n",
    "                                    names=words_top_wiki[:1000]))\n",
    "\n",
    "p.scatter(x=\"x1\", y=\"x2\", size=8, source=source)\n",
    "\n",
    "labels = LabelSet(x=\"x1\", y=\"x2\", text=\"names\", y_offset=6,\n",
    "                  text_font_size=\"8pt\", text_color=\"#555555\",\n",
    "                  source=source, text_align='center')\n",
    "p.add_layout(labels)\n",
    "\n",
    "show(p)"
   ]
  },
  {
   "cell_type": "code",
   "execution_count": null,
   "metadata": {
    "collapsed": true
   },
   "outputs": [],
   "source": []
  }
 ],
 "metadata": {
  "anaconda-cloud": {},
  "kernelspec": {
   "display_name": "Python 3",
   "language": "python",
   "name": "python3"
  },
  "language_info": {
   "codemirror_mode": {
    "name": "ipython",
    "version": 3
   },
   "file_extension": ".py",
   "mimetype": "text/x-python",
   "name": "python",
   "nbconvert_exporter": "python",
   "pygments_lexer": "ipython3",
   "version": "3.6.0"
  }
 },
 "nbformat": 4,
 "nbformat_minor": 0
}
