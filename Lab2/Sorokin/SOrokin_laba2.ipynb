{
 "cells": [
  {
   "cell_type": "markdown",
   "metadata": {},
   "source": [
    "## Practical 1: word2vec\n",
    "<p>Oxford CS - Deep NLP 2017<br>\n",
    "https://www.cs.ox.ac.uk/teaching/courses/2016-2017/dl/</p>\n",
    "<p>[Yannis Assael, Brendan Shillingford, Chris Dyer]</p>"
   ]
  },
  {
   "cell_type": "markdown",
   "metadata": {},
   "source": [
    "This practical is presented as an IPython Notebook, with the code written for recent versions of **Python 3**. The code in this practical will not work with Python 2 unless you modify it. If you are using your own Python installation, ensure you have a setup identical to that described in the installation shell script (which is intended for use with the department lab machines). We will be unable to support installation on personal machines due to time constraints, so please use the lab machines and the setup script if you are unfamiliar with how to install Anaconda.\n",
    "\n",
    "To execute a notebook cell, press `shift-enter`. The return value of the last command will be displayed, if it is not `None`.\n",
    "\n",
    "Potentially useful library documentation, references, and resources:\n",
    "\n",
    "* IPython notebooks: <https://ipython.org/ipython-doc/3/notebook/notebook.html#introduction>\n",
    "* Numpy numerical array library: <https://docs.scipy.org/doc/>\n",
    "* Gensim's word2vec: <https://radimrehurek.com/gensim/models/word2vec.html>\n",
    "* Bokeh interactive plots: <http://bokeh.pydata.org/en/latest/> (we provide plotting code here, but click the thumbnails for more examples to copy-paste)\n",
    "* scikit-learn ML library (aka `sklearn`): <http://scikit-learn.org/stable/documentation.html>\n",
    "* nltk NLP toolkit: <http://www.nltk.org/>\n",
    "* tutorial for processing xml in python using `lxml`: <http://lxml.de/tutorial.html> (we did this for you below, but in case you need it in the future)"
   ]
  },
  {
   "cell_type": "code",
   "execution_count": 2,
   "metadata": {
    "collapsed": false
   },
   "outputs": [],
   "source": [
    "import numpy as np\n",
    "import os\n",
    "from random import shuffle\n",
    "import re"
   ]
  },
  {
   "cell_type": "code",
   "execution_count": 3,
   "metadata": {
    "collapsed": false
   },
   "outputs": [
    {
     "data": {
      "text/html": [
       "\n",
       "    <div class=\"bk-root\">\n",
       "        <a href=\"http://bokeh.pydata.org\" target=\"_blank\" class=\"bk-logo bk-logo-small bk-logo-notebook\"></a>\n",
       "        <span id=\"e92a7439-70d5-4639-9a08-2d62acd3a539\">Loading BokehJS ...</span>\n",
       "    </div>"
      ]
     },
     "metadata": {},
     "output_type": "display_data"
    },
    {
     "data": {
      "application/javascript": [
       "\n",
       "(function(global) {\n",
       "  function now() {\n",
       "    return new Date();\n",
       "  }\n",
       "\n",
       "  var force = true;\n",
       "\n",
       "  if (typeof (window._bokeh_onload_callbacks) === \"undefined\" || force === true) {\n",
       "    window._bokeh_onload_callbacks = [];\n",
       "    window._bokeh_is_loading = undefined;\n",
       "  }\n",
       "\n",
       "\n",
       "  \n",
       "  if (typeof (window._bokeh_timeout) === \"undefined\" || force === true) {\n",
       "    window._bokeh_timeout = Date.now() + 5000;\n",
       "    window._bokeh_failed_load = false;\n",
       "  }\n",
       "\n",
       "  var NB_LOAD_WARNING = {'data': {'text/html':\n",
       "     \"<div style='background-color: #fdd'>\\n\"+\n",
       "     \"<p>\\n\"+\n",
       "     \"BokehJS does not appear to have successfully loaded. If loading BokehJS from CDN, this \\n\"+\n",
       "     \"may be due to a slow or bad network connection. Possible fixes:\\n\"+\n",
       "     \"</p>\\n\"+\n",
       "     \"<ul>\\n\"+\n",
       "     \"<li>re-rerun `output_notebook()` to attempt to load from CDN again, or</li>\\n\"+\n",
       "     \"<li>use INLINE resources instead, as so:</li>\\n\"+\n",
       "     \"</ul>\\n\"+\n",
       "     \"<code>\\n\"+\n",
       "     \"from bokeh.resources import INLINE\\n\"+\n",
       "     \"output_notebook(resources=INLINE)\\n\"+\n",
       "     \"</code>\\n\"+\n",
       "     \"</div>\"}};\n",
       "\n",
       "  function display_loaded() {\n",
       "    if (window.Bokeh !== undefined) {\n",
       "      document.getElementById(\"e92a7439-70d5-4639-9a08-2d62acd3a539\").textContent = \"BokehJS successfully loaded.\";\n",
       "    } else if (Date.now() < window._bokeh_timeout) {\n",
       "      setTimeout(display_loaded, 100)\n",
       "    }\n",
       "  }\n",
       "\n",
       "  function run_callbacks() {\n",
       "    window._bokeh_onload_callbacks.forEach(function(callback) { callback() });\n",
       "    delete window._bokeh_onload_callbacks\n",
       "    console.info(\"Bokeh: all callbacks have finished\");\n",
       "  }\n",
       "\n",
       "  function load_libs(js_urls, callback) {\n",
       "    window._bokeh_onload_callbacks.push(callback);\n",
       "    if (window._bokeh_is_loading > 0) {\n",
       "      console.log(\"Bokeh: BokehJS is being loaded, scheduling callback at\", now());\n",
       "      return null;\n",
       "    }\n",
       "    if (js_urls == null || js_urls.length === 0) {\n",
       "      run_callbacks();\n",
       "      return null;\n",
       "    }\n",
       "    console.log(\"Bokeh: BokehJS not loaded, scheduling load and callback at\", now());\n",
       "    window._bokeh_is_loading = js_urls.length;\n",
       "    for (var i = 0; i < js_urls.length; i++) {\n",
       "      var url = js_urls[i];\n",
       "      var s = document.createElement('script');\n",
       "      s.src = url;\n",
       "      s.async = false;\n",
       "      s.onreadystatechange = s.onload = function() {\n",
       "        window._bokeh_is_loading--;\n",
       "        if (window._bokeh_is_loading === 0) {\n",
       "          console.log(\"Bokeh: all BokehJS libraries loaded\");\n",
       "          run_callbacks()\n",
       "        }\n",
       "      };\n",
       "      s.onerror = function() {\n",
       "        console.warn(\"failed to load library \" + url);\n",
       "      };\n",
       "      console.log(\"Bokeh: injecting script tag for BokehJS library: \", url);\n",
       "      document.getElementsByTagName(\"head\")[0].appendChild(s);\n",
       "    }\n",
       "  };var element = document.getElementById(\"e92a7439-70d5-4639-9a08-2d62acd3a539\");\n",
       "  if (element == null) {\n",
       "    console.log(\"Bokeh: ERROR: autoload.js configured with elementid 'e92a7439-70d5-4639-9a08-2d62acd3a539' but no matching script tag was found. \")\n",
       "    return false;\n",
       "  }\n",
       "\n",
       "  var js_urls = [\"https://cdn.pydata.org/bokeh/release/bokeh-0.12.4.min.js\", \"https://cdn.pydata.org/bokeh/release/bokeh-widgets-0.12.4.min.js\"];\n",
       "\n",
       "  var inline_js = [\n",
       "    function(Bokeh) {\n",
       "      Bokeh.set_log_level(\"info\");\n",
       "    },\n",
       "    \n",
       "    function(Bokeh) {\n",
       "      \n",
       "      document.getElementById(\"e92a7439-70d5-4639-9a08-2d62acd3a539\").textContent = \"BokehJS is loading...\";\n",
       "    },\n",
       "    function(Bokeh) {\n",
       "      console.log(\"Bokeh: injecting CSS: https://cdn.pydata.org/bokeh/release/bokeh-0.12.4.min.css\");\n",
       "      Bokeh.embed.inject_css(\"https://cdn.pydata.org/bokeh/release/bokeh-0.12.4.min.css\");\n",
       "      console.log(\"Bokeh: injecting CSS: https://cdn.pydata.org/bokeh/release/bokeh-widgets-0.12.4.min.css\");\n",
       "      Bokeh.embed.inject_css(\"https://cdn.pydata.org/bokeh/release/bokeh-widgets-0.12.4.min.css\");\n",
       "    }\n",
       "  ];\n",
       "\n",
       "  function run_inline_js() {\n",
       "    \n",
       "    if ((window.Bokeh !== undefined) || (force === true)) {\n",
       "      for (var i = 0; i < inline_js.length; i++) {\n",
       "        inline_js[i](window.Bokeh);\n",
       "      }if (force === true) {\n",
       "        display_loaded();\n",
       "      }} else if (Date.now() < window._bokeh_timeout) {\n",
       "      setTimeout(run_inline_js, 100);\n",
       "    } else if (!window._bokeh_failed_load) {\n",
       "      console.log(\"Bokeh: BokehJS failed to load within specified timeout.\");\n",
       "      window._bokeh_failed_load = true;\n",
       "    } else if (force !== true) {\n",
       "      var cell = $(document.getElementById(\"e92a7439-70d5-4639-9a08-2d62acd3a539\")).parents('.cell').data().cell;\n",
       "      cell.output_area.append_execute_result(NB_LOAD_WARNING)\n",
       "    }\n",
       "\n",
       "  }\n",
       "\n",
       "  if (window._bokeh_is_loading === 0) {\n",
       "    console.log(\"Bokeh: BokehJS loaded, going straight to plotting\");\n",
       "    run_inline_js();\n",
       "  } else {\n",
       "    load_libs(js_urls, function() {\n",
       "      console.log(\"Bokeh: BokehJS plotting callback run at\", now());\n",
       "      run_inline_js();\n",
       "    });\n",
       "  }\n",
       "}(this));"
      ]
     },
     "metadata": {},
     "output_type": "display_data"
    }
   ],
   "source": [
    "from bokeh.models import ColumnDataSource, LabelSet\n",
    "from bokeh.plotting import figure, show, output_file\n",
    "from bokeh.io import output_notebook\n",
    "output_notebook()"
   ]
  },
  {
   "cell_type": "markdown",
   "metadata": {},
   "source": [
    "### Part 0: Download the TED dataset"
   ]
  },
  {
   "cell_type": "code",
   "execution_count": 4,
   "metadata": {
    "collapsed": false
   },
   "outputs": [],
   "source": [
    "import urllib.request\n",
    "import zipfile\n",
    "import lxml.etree"
   ]
  },
  {
   "cell_type": "code",
   "execution_count": 5,
   "metadata": {
    "collapsed": false
   },
   "outputs": [],
   "source": [
    "# Download the dataset if it's not already there: this may take a minute as it is 75MB\n",
    "if not os.path.isfile('ted_en-20160408.zip'):\n",
    "    urllib.request.urlretrieve(\"https://wit3.fbk.eu/get.php?path=XML_releases/xml/ted_en-20160408.zip&filename=ted_en-20160408.zip\", filename=\"ted_en-20160408.zip\")"
   ]
  },
  {
   "cell_type": "code",
   "execution_count": 6,
   "metadata": {
    "collapsed": false
   },
   "outputs": [],
   "source": [
    "# For now, we're only interested in the subtitle text, so let's extract that from the XML:\n",
    "with zipfile.ZipFile('ted_en-20160408.zip', 'r') as z:\n",
    "    doc = lxml.etree.parse(z.open('ted_en-20160408.xml', 'r'))\n",
    "input_text = '\\n'.join(doc.xpath('//content/text()'))\n",
    "del doc"
   ]
  },
  {
   "cell_type": "markdown",
   "metadata": {},
   "source": [
    "### Part 1: Preprocessing\n",
    "\n",
    "In this part, we attempt to clean up the raw subtitles a bit, so that we get only sentences. The following substring shows examples of what we're trying to get rid of. Since it's hard to define precisely what we want to get rid of, we'll just use some simple heuristics."
   ]
  },
  {
   "cell_type": "code",
   "execution_count": 7,
   "metadata": {
    "collapsed": false,
    "scrolled": false
   },
   "outputs": [
    {
     "data": {
      "text/plain": [
       "' baby does.\\n(Video) Hyowon Gweon: See this? (Ball squeaks) Did you see that? (Ball squeaks) Cool. See this one? (Ball squeaks) Wow.\\nLaura Schulz: Told you. (Laughs)\\n(Vide'"
      ]
     },
     "execution_count": 7,
     "metadata": {},
     "output_type": "execute_result"
    }
   ],
   "source": [
    "i = input_text.find(\"Hyowon Gweon: See this?\")\n",
    "input_text[i-20:i+150]"
   ]
  },
  {
   "cell_type": "markdown",
   "metadata": {},
   "source": [
    "Let's start by removing all parenthesized strings using a regex:"
   ]
  },
  {
   "cell_type": "code",
   "execution_count": 8,
   "metadata": {
    "collapsed": true
   },
   "outputs": [],
   "source": [
    "input_text_noparens = re.sub(r'\\([^)]*\\)', '', input_text)"
   ]
  },
  {
   "cell_type": "markdown",
   "metadata": {},
   "source": [
    "We can verify the same location in the text is now clean as follows. We won't worry about the irregular spaces since we'll later split the text into sentences and tokenize it anyway."
   ]
  },
  {
   "cell_type": "code",
   "execution_count": 9,
   "metadata": {
    "collapsed": false
   },
   "outputs": [
    {
     "data": {
      "text/plain": [
       "\"hat the baby does.\\n Hyowon Gweon: See this?  Did you see that?  Cool. See this one?  Wow.\\nLaura Schulz: Told you. \\n HG: See this one?  Hey Clara, this one's for you. You \""
      ]
     },
     "execution_count": 9,
     "metadata": {},
     "output_type": "execute_result"
    }
   ],
   "source": [
    "i = input_text_noparens.find(\"Hyowon Gweon: See this?\")\n",
    "input_text_noparens[i-20:i+150]"
   ]
  },
  {
   "cell_type": "markdown",
   "metadata": {},
   "source": [
    "Now, let's attempt to remove speakers' names that occur at the beginning of a line, by deleting pieces of the form \"`<up to 20 characters>:`\", as shown in this example. Of course, this is an imperfect heuristic. "
   ]
  },
  {
   "cell_type": "code",
   "execution_count": 10,
   "metadata": {
    "collapsed": false
   },
   "outputs": [
    {
     "data": {
      "text/plain": [
       "[\"Here are two reasons companies fail: they only do more of the same, or they only do what's new\",\n",
       " 'To me the real, real solution to quality growth is figuring out the balance between two activities: exploration and exploitation',\n",
       " ' Both are necessary, but it can be too much of a good thing',\n",
       " 'Consider Facit',\n",
       " \" I'm actually old enough to remember them\"]"
      ]
     },
     "execution_count": 10,
     "metadata": {},
     "output_type": "execute_result"
    }
   ],
   "source": [
    "sentences_strings_ted = []\n",
    "for line in input_text_noparens.split('\\n'):\n",
    "    m = re.match(r'^(?:(?P<precolon>[^:]{,20}):)?(?P<postcolon>.*)$', line)\n",
    "    sentences_strings_ted.extend(sent for sent in m.groupdict()['postcolon'].split('.') if sent)\n",
    "\n",
    "# Uncomment if you need to save some RAM: these strings are about 50MB.\n",
    "# del input_text, input_text_noparens\n",
    "\n",
    "# Let's view the first few:\n",
    "sentences_strings_ted[:5]"
   ]
  },
  {
   "cell_type": "markdown",
   "metadata": {},
   "source": [
    "Now that we have sentences, we're ready to tokenize each of them into words. This tokenization is imperfect, of course. For instance, how many tokens is \"can't\", and where/how do we split it? We'll take the simplest naive approach of splitting on spaces. Before splitting, we remove non-alphanumeric characters, such as punctuation. You may want to consider the following question: why do we replace these characters with spaces rather than deleting them? Think of a case where this yields a different answer."
   ]
  },
  {
   "cell_type": "code",
   "execution_count": 11,
   "metadata": {
    "collapsed": false
   },
   "outputs": [],
   "source": [
    "sentences_ted = []\n",
    "for sent_str in sentences_strings_ted:\n",
    "    tokens = re.sub(r\"[^a-z0-9]+\", \" \", sent_str.lower()).split()\n",
    "    sentences_ted.append(tokens)"
   ]
  },
  {
   "cell_type": "markdown",
   "metadata": {},
   "source": [
    "Two sample processed sentences:"
   ]
  },
  {
   "cell_type": "code",
   "execution_count": 12,
   "metadata": {
    "collapsed": false
   },
   "outputs": [
    {
     "data": {
      "text/plain": [
       "266694"
      ]
     },
     "execution_count": 12,
     "metadata": {},
     "output_type": "execute_result"
    }
   ],
   "source": [
    "len(sentences_ted)"
   ]
  },
  {
   "cell_type": "code",
   "execution_count": 13,
   "metadata": {
    "collapsed": false
   },
   "outputs": [
    {
     "name": "stdout",
     "output_type": "stream",
     "text": [
      "['here', 'are', 'two', 'reasons', 'companies', 'fail', 'they', 'only', 'do', 'more', 'of', 'the', 'same', 'or', 'they', 'only', 'do', 'what', 's', 'new']\n",
      "['to', 'me', 'the', 'real', 'real', 'solution', 'to', 'quality', 'growth', 'is', 'figuring', 'out', 'the', 'balance', 'between', 'two', 'activities', 'exploration', 'and', 'exploitation']\n"
     ]
    }
   ],
   "source": [
    "print(sentences_ted[0])\n",
    "print(sentences_ted[1])"
   ]
  },
  {
   "cell_type": "markdown",
   "metadata": {},
   "source": [
    "### Part 2: Word Frequencies"
   ]
  },
  {
   "cell_type": "markdown",
   "metadata": {},
   "source": [
    "If you store the counts of the top 1000 words in a list called `counts_ted_top1000`, the code below will plot the histogram requested in the writeup."
   ]
  },
  {
   "cell_type": "code",
   "execution_count": 14,
   "metadata": {
    "collapsed": false
   },
   "outputs": [
    {
     "name": "stdout",
     "output_type": "stream",
     "text": [
      "[207749, 149306, 125170, 114819, 105400, 95147, 83181, 78071, 74739, 70924]\n"
     ]
    }
   ],
   "source": [
    "counts_ted={}\n",
    "for sentence in sentences_ted:\n",
    "    for word in sentence:\n",
    "        if word not in counts_ted:\n",
    "            counts_ted[word]=1\n",
    "        if word in counts_ted:\n",
    "            counts_ted[word]+=1\n",
    "words_ted_top1000=sorted(counts_ted, key=lambda x:int(counts_ted[x]), reverse=True)[:1000]\n",
    "counts_ted_top1000=[]\n",
    "for word in words_ted_top1000:\n",
    "    counts_ted_top1000.append(counts_ted[word])\n",
    "print(counts_ted_top1000[:10])\n"
   ]
  },
  {
   "cell_type": "markdown",
   "metadata": {},
   "source": [
    "Plot distribution of top-1000 words"
   ]
  },
  {
   "cell_type": "code",
   "execution_count": 15,
   "metadata": {
    "collapsed": false
   },
   "outputs": [
    {
     "data": {
      "text/html": [
       "\n",
       "\n",
       "    <div class=\"bk-root\">\n",
       "        <div class=\"bk-plotdiv\" id=\"5ba54932-6e8c-4549-8c43-1bbe9561f4bc\"></div>\n",
       "    </div>\n",
       "<script type=\"text/javascript\">\n",
       "  \n",
       "  (function(global) {\n",
       "    function now() {\n",
       "      return new Date();\n",
       "    }\n",
       "  \n",
       "    var force = false;\n",
       "  \n",
       "    if (typeof (window._bokeh_onload_callbacks) === \"undefined\" || force === true) {\n",
       "      window._bokeh_onload_callbacks = [];\n",
       "      window._bokeh_is_loading = undefined;\n",
       "    }\n",
       "  \n",
       "  \n",
       "    \n",
       "    if (typeof (window._bokeh_timeout) === \"undefined\" || force === true) {\n",
       "      window._bokeh_timeout = Date.now() + 0;\n",
       "      window._bokeh_failed_load = false;\n",
       "    }\n",
       "  \n",
       "    var NB_LOAD_WARNING = {'data': {'text/html':\n",
       "       \"<div style='background-color: #fdd'>\\n\"+\n",
       "       \"<p>\\n\"+\n",
       "       \"BokehJS does not appear to have successfully loaded. If loading BokehJS from CDN, this \\n\"+\n",
       "       \"may be due to a slow or bad network connection. Possible fixes:\\n\"+\n",
       "       \"</p>\\n\"+\n",
       "       \"<ul>\\n\"+\n",
       "       \"<li>re-rerun `output_notebook()` to attempt to load from CDN again, or</li>\\n\"+\n",
       "       \"<li>use INLINE resources instead, as so:</li>\\n\"+\n",
       "       \"</ul>\\n\"+\n",
       "       \"<code>\\n\"+\n",
       "       \"from bokeh.resources import INLINE\\n\"+\n",
       "       \"output_notebook(resources=INLINE)\\n\"+\n",
       "       \"</code>\\n\"+\n",
       "       \"</div>\"}};\n",
       "  \n",
       "    function display_loaded() {\n",
       "      if (window.Bokeh !== undefined) {\n",
       "        document.getElementById(\"5ba54932-6e8c-4549-8c43-1bbe9561f4bc\").textContent = \"BokehJS successfully loaded.\";\n",
       "      } else if (Date.now() < window._bokeh_timeout) {\n",
       "        setTimeout(display_loaded, 100)\n",
       "      }\n",
       "    }\n",
       "  \n",
       "    function run_callbacks() {\n",
       "      window._bokeh_onload_callbacks.forEach(function(callback) { callback() });\n",
       "      delete window._bokeh_onload_callbacks\n",
       "      console.info(\"Bokeh: all callbacks have finished\");\n",
       "    }\n",
       "  \n",
       "    function load_libs(js_urls, callback) {\n",
       "      window._bokeh_onload_callbacks.push(callback);\n",
       "      if (window._bokeh_is_loading > 0) {\n",
       "        console.log(\"Bokeh: BokehJS is being loaded, scheduling callback at\", now());\n",
       "        return null;\n",
       "      }\n",
       "      if (js_urls == null || js_urls.length === 0) {\n",
       "        run_callbacks();\n",
       "        return null;\n",
       "      }\n",
       "      console.log(\"Bokeh: BokehJS not loaded, scheduling load and callback at\", now());\n",
       "      window._bokeh_is_loading = js_urls.length;\n",
       "      for (var i = 0; i < js_urls.length; i++) {\n",
       "        var url = js_urls[i];\n",
       "        var s = document.createElement('script');\n",
       "        s.src = url;\n",
       "        s.async = false;\n",
       "        s.onreadystatechange = s.onload = function() {\n",
       "          window._bokeh_is_loading--;\n",
       "          if (window._bokeh_is_loading === 0) {\n",
       "            console.log(\"Bokeh: all BokehJS libraries loaded\");\n",
       "            run_callbacks()\n",
       "          }\n",
       "        };\n",
       "        s.onerror = function() {\n",
       "          console.warn(\"failed to load library \" + url);\n",
       "        };\n",
       "        console.log(\"Bokeh: injecting script tag for BokehJS library: \", url);\n",
       "        document.getElementsByTagName(\"head\")[0].appendChild(s);\n",
       "      }\n",
       "    };var element = document.getElementById(\"5ba54932-6e8c-4549-8c43-1bbe9561f4bc\");\n",
       "    if (element == null) {\n",
       "      console.log(\"Bokeh: ERROR: autoload.js configured with elementid '5ba54932-6e8c-4549-8c43-1bbe9561f4bc' but no matching script tag was found. \")\n",
       "      return false;\n",
       "    }\n",
       "  \n",
       "    var js_urls = [];\n",
       "  \n",
       "    var inline_js = [\n",
       "      function(Bokeh) {\n",
       "        (function() {\n",
       "          var fn = function() {\n",
       "            var docs_json = {\"efefdd8b-368f-43a3-8653-bf009bc5cb41\":{\"roots\":{\"references\":[{\"attributes\":{\"bottom\":{\"value\":0},\"fill_alpha\":{\"value\":0.1},\"fill_color\":{\"value\":\"#1f77b4\"},\"left\":{\"field\":\"left\"},\"line_alpha\":{\"value\":0.1},\"line_color\":{\"value\":\"#1f77b4\"},\"right\":{\"field\":\"right\"},\"top\":{\"field\":\"top\"}},\"id\":\"619658b5-ecfb-4b69-a0d8-180b3a069e99\",\"type\":\"Quad\"},{\"attributes\":{\"callback\":null,\"column_names\":[\"left\",\"right\",\"top\"],\"data\":{\"left\":{\"__ndarray__\":\"V2ao+PoDGEBtlDRH4UMYQIPCwJXHgxhAmvBM5K3DGECwHtkylAMZQMZMZYF6QxlA3Hrxz2CDGUDzqH0eR8MZQAnXCW0tAxpAHwWWuxNDGkA1MyIK+oIaQExhrljgwhpAYo86p8YCG0B4vcb1rEIbQI7rUkSTghtApBnfknnCG0C7R2vhXwIcQNF19y9GQhxA56ODfiyCHED90Q/NEsIcQBQAnBv5AR1AKi4oat9BHUBAXLS4xYEdQFaKQAeswR1AbLjMVZIBHkCD5likeEEeQJkU5fJegR5Ar0JxQUXBHkDFcP2PKwEfQNyeid4RQR9A8swVLfiAH0AI+6F73sAfQI8UF2ViACBAmitdjFUgIEClQqOzSEAgQLBZ6do7YCBAvHAvAi+AIEDHh3UpIqAgQNKeu1AVwCBA3bUBeAjgIEDozEef+/8gQPPjjcbuHyFA/vrT7eE/IUAJEhoV1V8hQBQpYDzIfyFAIECmY7ufIUArV+yKrr8hQDZuMrKh3yFAQYV42ZT/IUBMnL4AiB8iQFezBCh7PyJAYspKT25fIkBu4ZB2YX8iQHj41p1UnyJAhA8dxUe/IkCPJmPsOt8iQJo9qRMu/yJApVTvOiEfI0CwazViFD8jQLuCe4kHXyNAxpnBsPp+I0DSsAfY7Z4jQNzHTf/gviNA6N6TJtTeI0Dz9dlNx/4jQP4MIHW6HiRACSRmnK0+JEAUO6zDoF4kQB9S8uqTfiRAKmk4EoeeJEA2gH45er4kQECXxGBt3iRATK4KiGD+JEBXxVCvUx4lQGLcltZGPiVAbfPc/TleJUB4CiMlLX4lQIMhaUwgniVAjjivcxO+JUCaT/WaBt4lQKRmO8L5/SVAsH2B6ewdJkC7lMcQ4D0mQMarDTjTXSZA0cJTX8Z9JkDc2ZmGuZ0mQOfw362svSZA8gcm1Z/dJkD+Hmz8kv0mQAg2siOGHSdAFE34Snk9J0AfZD5ybF0nQCp7hJlffSdANZLKwFKdJ0BAqRDoRb0nQEzAVg853SdAVtecNiz9J0Bi7uJdHx0oQGwFKYUSPShAeBxvrAVdKEA=\",\"dtype\":\"float64\",\"shape\":[100]},\"right\":{\"__ndarray__\":\"bZQ0R+FDGECDwsCVx4MYQJrwTOStwxhAsB7ZMpQDGUDGTGWBekMZQNx68c9ggxlA86h9HkfDGUAJ1wltLQMaQB8FlrsTQxpANTMiCvqCGkBMYa5Y4MIaQGKPOqfGAhtAeL3G9axCG0CO61JEk4IbQKQZ35J5whtAu0dr4V8CHEDRdfcvRkIcQOejg34sghxA/dEPzRLCHEAUAJwb+QEdQCouKGrfQR1AQFy0uMWBHUBWikAHrMEdQGy4zFWSAR5Ag+ZYpHhBHkCZFOXyXoEeQK9CcUFFwR5AxXD9jysBH0DcnoneEUEfQPLMFS34gB9ACPuhe97AH0CPFBdlYgAgQJorXYxVICBApUKjs0hAIECwWenaO2AgQLxwLwIvgCBAx4d1KSKgIEDSnrtQFcAgQN21AXgI4CBA6MxHn/v/IEDz443G7h8hQP760+3hPyFACRIaFdVfIUAUKWA8yH8hQCBApmO7nyFAK1fsiq6/IUA2bjKyod8hQEGFeNmU/yFATJy+AIgfIkBXswQoez8iQGLKSk9uXyJAbuGQdmF/IkB4+NadVJ8iQIQPHcVHvyJAjyZj7DrfIkCaPakTLv8iQKVU7zohHyNAsGs1YhQ/I0C7gnuJB18jQMaZwbD6fiNA0rAH2O2eI0Dcx03/4L4jQOjekybU3iNA8/XZTcf+I0D+DCB1uh4kQAkkZpytPiRAFDusw6BeJEAfUvLqk34kQCppOBKHniRANoB+OXq+JEBAl8Rgbd4kQEyuCohg/iRAV8VQr1MeJUBi3JbWRj4lQG3z3P05XiVAeAojJS1+JUCDIWlMIJ4lQI44r3MTviVAmk/1mgbeJUCkZjvC+f0lQLB9gensHSZAu5THEOA9JkDGqw04010mQNHCU1/GfSZA3NmZhrmdJkDn8N+trL0mQPIHJtWf3SZA/h5s/JL9JkAINrIjhh0nQBRN+Ep5PSdAH2Q+cmxdJ0Aqe4SZX30nQDWSysBSnSdAQKkQ6EW9J0BMwFYPOd0nQFbXnDYs/SdAYu7iXR8dKEBsBSmFEj0oQHgcb6wFXShAgzO10/h8KEA=\",\"dtype\":\"float64\",\"shape\":[100]},\"top\":{\"__ndarray__\":\"bd9UDqzE7j+IxzyUnSDpPxtX+9grJ+o/fue5Hbot6z+IxzyUnSDpP7H/6EvkaOA/Va8kGo984z+oH2bVAHbiP3JPlskdvt0/sf/oS+Ro4D85X2DoOZDWP4p/3XFWndg/ck+WyR2+3T+Kf91xVp3YP6rXBrO58uE/DC8ZQAGx2z+Bn1r7cqraP4p/3XFWndg/hQ+ctuSj2T8MLxlAAbHbP7H/6EvkaNA/rY+nkHJv0T+Kf91xVp3IP4GfWvtyqso/cP/oS+RowD+tj6eQcm/RP54/414dg8Q/in/dcVadyD9MP+NeHYPEP3e/14SPt8w/nj/jXh2DxD+x/+hL5GjAP4p/3XFWnbg/d7/XhI+3vD+x/+hL5GigP5C+14SPt7w/in/dcVadqD+Kf91xVp24P4p/3XFWnbg/sf/oS+RokD+x/+hL5GjAP3e/14SPt7w/sf/oS+RosD+eP+NeHYO0P8Z+3XFWnag/sf/oS+RosD+Kf91xVp24P54/414dg7Q/sf/oS+RooD+eP+NeHYO0P7H/6EvkaLA/kL7XhI+3vD81AOlL5GiwP/o+414dg7Q/sf/oS+RosD+x/+hL5GigP4p/3XFWnbg/sf/oS+RokD+x/+hL5GigP4p/3XFWnag/xn7dcVadqD9QgN1xVp2oPy7/6EvkaKA/sf/oS+RooD+x/+hL5GigP7H/6EvkaJA/sf/oS+RokD+x/+hL5GiwP7H/6EvkaJA/Lv/oS+RokD81AOlL5GiQPwAAAAAAAAAAsf/oS+RokD8AAAAAAAAAAAAAAAAAAAAAAAAAAAAAAACx/+hL5GiQPwAAAAAAAAAAAAAAAAAAAAA1AOlL5GiQPy7/6EvkaJA/AAAAAAAAAACx/+hL5GigP7H/6EvkaJA/sf/oS+RokD+x/+hL5GiQPwAAAAAAAAAALv/oS+RokD8AAAAAAAAAAC7/6EvkaJA/sf/oS+RokD+x/+hL5GiQPwAAAAAAAAAAAAAAAAAAAAAu/+hL5GiQPwAAAAAAAAAAAAAAAAAAAAAAAAAAAAAAAAAAAAAAAAAAsf/oS+RokD8=\",\"dtype\":\"float64\",\"shape\":[100]}}},\"id\":\"1d64a444-79d5-4f4f-8fe2-8ee10edf98b5\",\"type\":\"ColumnDataSource\"},{\"attributes\":{\"bottom\":{\"value\":0},\"fill_color\":{\"value\":\"#1f77b4\"},\"left\":{\"field\":\"left\"},\"line_color\":{\"value\":\"#555555\"},\"right\":{\"field\":\"right\"},\"top\":{\"field\":\"top\"}},\"id\":\"9f7f1b24-53f1-46a9-8042-40b191314bd0\",\"type\":\"Quad\"},{\"attributes\":{},\"id\":\"27921b34-7f7c-40b8-b125-26110f18a8b8\",\"type\":\"BasicTickFormatter\"},{\"attributes\":{\"data_source\":{\"id\":\"1d64a444-79d5-4f4f-8fe2-8ee10edf98b5\",\"type\":\"ColumnDataSource\"},\"glyph\":{\"id\":\"9f7f1b24-53f1-46a9-8042-40b191314bd0\",\"type\":\"Quad\"},\"hover_glyph\":null,\"nonselection_glyph\":{\"id\":\"619658b5-ecfb-4b69-a0d8-180b3a069e99\",\"type\":\"Quad\"},\"selection_glyph\":null},\"id\":\"915cfde9-5d96-4824-a01a-15af9e8d5730\",\"type\":\"GlyphRenderer\"},{\"attributes\":{\"plot\":null,\"text\":\"Top-1000 words distribution\"},\"id\":\"736252ac-2e9f-4956-9218-4b9ef270b0d8\",\"type\":\"Title\"},{\"attributes\":{},\"id\":\"b9700811-eaab-4882-9086-c8c8e2aa3132\",\"type\":\"ToolEvents\"},{\"attributes\":{},\"id\":\"21ea778c-b010-442b-877e-b82a74abd47e\",\"type\":\"BasicTickFormatter\"},{\"attributes\":{\"callback\":null},\"id\":\"be0b3928-2819-4f4f-85f3-bfc12e13565d\",\"type\":\"DataRange1d\"},{\"attributes\":{\"formatter\":{\"id\":\"27921b34-7f7c-40b8-b125-26110f18a8b8\",\"type\":\"BasicTickFormatter\"},\"plot\":{\"id\":\"cd4b28fa-e942-4809-96c7-15ad986142b4\",\"subtype\":\"Figure\",\"type\":\"Plot\"},\"ticker\":{\"id\":\"5ad1e694-ac19-42eb-802b-58c8eb9b1dac\",\"type\":\"BasicTicker\"}},\"id\":\"a2d786d8-928a-4a38-a14a-6ad0eb017c17\",\"type\":\"LinearAxis\"},{\"attributes\":{\"active_drag\":\"auto\",\"active_scroll\":\"auto\",\"active_tap\":\"auto\",\"tools\":[{\"id\":\"39077202-fcfa-4c49-b519-4c36b6fde766\",\"type\":\"PanTool\"},{\"id\":\"427237d6-63a1-40af-be0e-0dcd283a724e\",\"type\":\"WheelZoomTool\"},{\"id\":\"77d9bc31-c154-4ad6-addc-7dd426338b63\",\"type\":\"ResetTool\"},{\"id\":\"55c6778b-bc7d-4f08-8036-bfd9eb6398e5\",\"type\":\"SaveTool\"}]},\"id\":\"63d6fde9-e251-44ed-8453-815a26835b8a\",\"type\":\"Toolbar\"},{\"attributes\":{\"callback\":null},\"id\":\"889fbb24-33a2-4f9c-b3eb-c531a807905f\",\"type\":\"DataRange1d\"},{\"attributes\":{},\"id\":\"5ad1e694-ac19-42eb-802b-58c8eb9b1dac\",\"type\":\"BasicTicker\"},{\"attributes\":{},\"id\":\"23ebf3e2-b5d6-4882-a1ef-6e6db7040225\",\"type\":\"BasicTicker\"},{\"attributes\":{\"formatter\":{\"id\":\"21ea778c-b010-442b-877e-b82a74abd47e\",\"type\":\"BasicTickFormatter\"},\"plot\":{\"id\":\"cd4b28fa-e942-4809-96c7-15ad986142b4\",\"subtype\":\"Figure\",\"type\":\"Plot\"},\"ticker\":{\"id\":\"23ebf3e2-b5d6-4882-a1ef-6e6db7040225\",\"type\":\"BasicTicker\"}},\"id\":\"f7e463ed-2b81-4bb8-947c-504291c11c34\",\"type\":\"LinearAxis\"},{\"attributes\":{\"plot\":{\"id\":\"cd4b28fa-e942-4809-96c7-15ad986142b4\",\"subtype\":\"Figure\",\"type\":\"Plot\"},\"ticker\":{\"id\":\"23ebf3e2-b5d6-4882-a1ef-6e6db7040225\",\"type\":\"BasicTicker\"}},\"id\":\"b9dfe132-2183-4c0d-baf7-c2b6c84e38fb\",\"type\":\"Grid\"},{\"attributes\":{\"dimension\":1,\"plot\":{\"id\":\"cd4b28fa-e942-4809-96c7-15ad986142b4\",\"subtype\":\"Figure\",\"type\":\"Plot\"},\"ticker\":{\"id\":\"5ad1e694-ac19-42eb-802b-58c8eb9b1dac\",\"type\":\"BasicTicker\"}},\"id\":\"a76f57e6-3e5a-4ba5-a764-f661286482b5\",\"type\":\"Grid\"},{\"attributes\":{\"plot\":{\"id\":\"cd4b28fa-e942-4809-96c7-15ad986142b4\",\"subtype\":\"Figure\",\"type\":\"Plot\"}},\"id\":\"427237d6-63a1-40af-be0e-0dcd283a724e\",\"type\":\"WheelZoomTool\"},{\"attributes\":{\"plot\":{\"id\":\"cd4b28fa-e942-4809-96c7-15ad986142b4\",\"subtype\":\"Figure\",\"type\":\"Plot\"}},\"id\":\"39077202-fcfa-4c49-b519-4c36b6fde766\",\"type\":\"PanTool\"},{\"attributes\":{\"plot\":{\"id\":\"cd4b28fa-e942-4809-96c7-15ad986142b4\",\"subtype\":\"Figure\",\"type\":\"Plot\"}},\"id\":\"77d9bc31-c154-4ad6-addc-7dd426338b63\",\"type\":\"ResetTool\"},{\"attributes\":{\"plot\":{\"id\":\"cd4b28fa-e942-4809-96c7-15ad986142b4\",\"subtype\":\"Figure\",\"type\":\"Plot\"}},\"id\":\"55c6778b-bc7d-4f08-8036-bfd9eb6398e5\",\"type\":\"SaveTool\"},{\"attributes\":{\"below\":[{\"id\":\"f7e463ed-2b81-4bb8-947c-504291c11c34\",\"type\":\"LinearAxis\"}],\"left\":[{\"id\":\"a2d786d8-928a-4a38-a14a-6ad0eb017c17\",\"type\":\"LinearAxis\"}],\"renderers\":[{\"id\":\"f7e463ed-2b81-4bb8-947c-504291c11c34\",\"type\":\"LinearAxis\"},{\"id\":\"b9dfe132-2183-4c0d-baf7-c2b6c84e38fb\",\"type\":\"Grid\"},{\"id\":\"a2d786d8-928a-4a38-a14a-6ad0eb017c17\",\"type\":\"LinearAxis\"},{\"id\":\"a76f57e6-3e5a-4ba5-a764-f661286482b5\",\"type\":\"Grid\"},{\"id\":\"915cfde9-5d96-4824-a01a-15af9e8d5730\",\"type\":\"GlyphRenderer\"}],\"title\":{\"id\":\"736252ac-2e9f-4956-9218-4b9ef270b0d8\",\"type\":\"Title\"},\"tool_events\":{\"id\":\"b9700811-eaab-4882-9086-c8c8e2aa3132\",\"type\":\"ToolEvents\"},\"toolbar\":{\"id\":\"63d6fde9-e251-44ed-8453-815a26835b8a\",\"type\":\"Toolbar\"},\"toolbar_location\":\"above\",\"x_range\":{\"id\":\"be0b3928-2819-4f4f-85f3-bfc12e13565d\",\"type\":\"DataRange1d\"},\"y_range\":{\"id\":\"889fbb24-33a2-4f9c-b3eb-c531a807905f\",\"type\":\"DataRange1d\"}},\"id\":\"cd4b28fa-e942-4809-96c7-15ad986142b4\",\"subtype\":\"Figure\",\"type\":\"Plot\"}],\"root_ids\":[\"cd4b28fa-e942-4809-96c7-15ad986142b4\"]},\"title\":\"Bokeh Application\",\"version\":\"0.12.4\"}};\n",
       "            var render_items = [{\"docid\":\"efefdd8b-368f-43a3-8653-bf009bc5cb41\",\"elementid\":\"5ba54932-6e8c-4549-8c43-1bbe9561f4bc\",\"modelid\":\"cd4b28fa-e942-4809-96c7-15ad986142b4\"}];\n",
       "            \n",
       "            Bokeh.embed.embed_items(docs_json, render_items);\n",
       "          };\n",
       "          if (document.readyState != \"loading\") fn();\n",
       "          else document.addEventListener(\"DOMContentLoaded\", fn);\n",
       "        })();\n",
       "      },\n",
       "      function(Bokeh) {\n",
       "      }\n",
       "    ];\n",
       "  \n",
       "    function run_inline_js() {\n",
       "      \n",
       "      if ((window.Bokeh !== undefined) || (force === true)) {\n",
       "        for (var i = 0; i < inline_js.length; i++) {\n",
       "          inline_js[i](window.Bokeh);\n",
       "        }if (force === true) {\n",
       "          display_loaded();\n",
       "        }} else if (Date.now() < window._bokeh_timeout) {\n",
       "        setTimeout(run_inline_js, 100);\n",
       "      } else if (!window._bokeh_failed_load) {\n",
       "        console.log(\"Bokeh: BokehJS failed to load within specified timeout.\");\n",
       "        window._bokeh_failed_load = true;\n",
       "      } else if (force !== true) {\n",
       "        var cell = $(document.getElementById(\"5ba54932-6e8c-4549-8c43-1bbe9561f4bc\")).parents('.cell').data().cell;\n",
       "        cell.output_area.append_execute_result(NB_LOAD_WARNING)\n",
       "      }\n",
       "  \n",
       "    }\n",
       "  \n",
       "    if (window._bokeh_is_loading === 0) {\n",
       "      console.log(\"Bokeh: BokehJS loaded, going straight to plotting\");\n",
       "      run_inline_js();\n",
       "    } else {\n",
       "      load_libs(js_urls, function() {\n",
       "        console.log(\"Bokeh: BokehJS plotting callback run at\", now());\n",
       "        run_inline_js();\n",
       "      });\n",
       "    }\n",
       "  }(this));\n",
       "</script>"
      ]
     },
     "metadata": {},
     "output_type": "display_data"
    }
   ],
   "source": [
    "hist, edges = np.histogram(np.log(counts_ted_top1000), density=True, bins=100, normed=True)\n",
    "\n",
    "p = figure(tools=\"pan,wheel_zoom,reset,save\",\n",
    "           toolbar_location=\"above\",\n",
    "           title=\"Top-1000 words distribution\")\n",
    "p.quad(top=hist, bottom=0, left=edges[:-1], right=edges[1:], line_color=\"#555555\")\n",
    "show(p)"
   ]
  },
  {
   "cell_type": "markdown",
   "metadata": {},
   "source": [
    "### Part 3: Train Word2Vec"
   ]
  },
  {
   "cell_type": "code",
   "execution_count": 16,
   "metadata": {
    "collapsed": false
   },
   "outputs": [
    {
     "name": "stderr",
     "output_type": "stream",
     "text": [
      "C:\\ProgramData\\Anaconda3\\lib\\site-packages\\gensim\\utils.py:862: UserWarning: detected Windows; aliasing chunkize to chunkize_serial\n",
      "  warnings.warn(\"detected Windows; aliasing chunkize to chunkize_serial\")\n"
     ]
    }
   ],
   "source": [
    "from gensim.models import Word2Vec"
   ]
  },
  {
   "cell_type": "code",
   "execution_count": 17,
   "metadata": {
    "collapsed": false
   },
   "outputs": [],
   "source": [
    "model_ted = Word2Vec(sentences_ted, size=100, window=5, min_count=5, workers=4)"
   ]
  },
  {
   "cell_type": "markdown",
   "metadata": {},
   "source": [
    "### Part 4: Ted Learnt Representations"
   ]
  },
  {
   "cell_type": "markdown",
   "metadata": {},
   "source": [
    "Finding similar words: (see gensim docs for more functionality of `most_similar`)"
   ]
  },
  {
   "cell_type": "code",
   "execution_count": 18,
   "metadata": {
    "collapsed": false
   },
   "outputs": [
    {
     "data": {
      "text/plain": [
       "[('woman', 0.8513389825820923),\n",
       " ('guy', 0.8237149715423584),\n",
       " ('girl', 0.77170729637146),\n",
       " ('lady', 0.7518131136894226),\n",
       " ('boy', 0.7494204044342041),\n",
       " ('soldier', 0.7255938649177551),\n",
       " ('gentleman', 0.7253188490867615),\n",
       " ('poet', 0.7012189626693726),\n",
       " ('kid', 0.6888014078140259),\n",
       " ('david', 0.6664323806762695)]"
      ]
     },
     "execution_count": 18,
     "metadata": {},
     "output_type": "execute_result"
    }
   ],
   "source": [
    "model_ted.most_similar(\"man\")"
   ]
  },
  {
   "cell_type": "code",
   "execution_count": 19,
   "metadata": {
    "collapsed": false
   },
   "outputs": [
    {
     "data": {
      "text/plain": [
       "[('machine', 0.7600623369216919),\n",
       " ('software', 0.7129181623458862),\n",
       " ('robot', 0.6974642276763916),\n",
       " ('interface', 0.6485573053359985),\n",
       " ('device', 0.6479209065437317),\n",
       " ('program', 0.6476264595985413),\n",
       " ('video', 0.6294466257095337),\n",
       " ('chip', 0.6264814734458923),\n",
       " ('3d', 0.625323474407196),\n",
       " ('camera', 0.6214001178741455)]"
      ]
     },
     "execution_count": 19,
     "metadata": {},
     "output_type": "execute_result"
    }
   ],
   "source": [
    "model_ted.most_similar(\"computer\")"
   ]
  },
  {
   "cell_type": "code",
   "execution_count": 20,
   "metadata": {
    "collapsed": true
   },
   "outputs": [],
   "source": [
    "# ..."
   ]
  },
  {
   "cell_type": "markdown",
   "metadata": {},
   "source": [
    "#### t-SNE visualization\n",
    "To use the t-SNE code below, first put a list of the top 1000 words (as strings) into a variable `words_top_ted`. The following code gets the corresponding vectors from the model, assuming it's called `model_ted`:"
   ]
  },
  {
   "cell_type": "code",
   "execution_count": 21,
   "metadata": {
    "collapsed": false
   },
   "outputs": [],
   "source": [
    "# This assumes words_top_ted is a list of strings, the top 1000 words\n",
    "words_top_ted=words_ted_top1000\n",
    "words_top_vec_ted = model_ted[words_top_ted]"
   ]
  },
  {
   "cell_type": "code",
   "execution_count": 22,
   "metadata": {
    "collapsed": false
   },
   "outputs": [],
   "source": [
    "from sklearn.manifold import TSNE\n",
    "tsne = TSNE(n_components=2, random_state=0)\n",
    "words_top_ted_tsne = tsne.fit_transform(words_top_vec_ted)"
   ]
  },
  {
   "cell_type": "code",
   "execution_count": 23,
   "metadata": {
    "collapsed": false
   },
   "outputs": [
    {
     "data": {
      "text/html": [
       "\n",
       "\n",
       "    <div class=\"bk-root\">\n",
       "        <div class=\"bk-plotdiv\" id=\"a856b989-089b-4692-a580-a90a768bed14\"></div>\n",
       "    </div>\n",
       "<script type=\"text/javascript\">\n",
       "  \n",
       "  (function(global) {\n",
       "    function now() {\n",
       "      return new Date();\n",
       "    }\n",
       "  \n",
       "    var force = false;\n",
       "  \n",
       "    if (typeof (window._bokeh_onload_callbacks) === \"undefined\" || force === true) {\n",
       "      window._bokeh_onload_callbacks = [];\n",
       "      window._bokeh_is_loading = undefined;\n",
       "    }\n",
       "  \n",
       "  \n",
       "    \n",
       "    if (typeof (window._bokeh_timeout) === \"undefined\" || force === true) {\n",
       "      window._bokeh_timeout = Date.now() + 0;\n",
       "      window._bokeh_failed_load = false;\n",
       "    }\n",
       "  \n",
       "    var NB_LOAD_WARNING = {'data': {'text/html':\n",
       "       \"<div style='background-color: #fdd'>\\n\"+\n",
       "       \"<p>\\n\"+\n",
       "       \"BokehJS does not appear to have successfully loaded. If loading BokehJS from CDN, this \\n\"+\n",
       "       \"may be due to a slow or bad network connection. Possible fixes:\\n\"+\n",
       "       \"</p>\\n\"+\n",
       "       \"<ul>\\n\"+\n",
       "       \"<li>re-rerun `output_notebook()` to attempt to load from CDN again, or</li>\\n\"+\n",
       "       \"<li>use INLINE resources instead, as so:</li>\\n\"+\n",
       "       \"</ul>\\n\"+\n",
       "       \"<code>\\n\"+\n",
       "       \"from bokeh.resources import INLINE\\n\"+\n",
       "       \"output_notebook(resources=INLINE)\\n\"+\n",
       "       \"</code>\\n\"+\n",
       "       \"</div>\"}};\n",
       "  \n",
       "    function display_loaded() {\n",
       "      if (window.Bokeh !== undefined) {\n",
       "        document.getElementById(\"a856b989-089b-4692-a580-a90a768bed14\").textContent = \"BokehJS successfully loaded.\";\n",
       "      } else if (Date.now() < window._bokeh_timeout) {\n",
       "        setTimeout(display_loaded, 100)\n",
       "      }\n",
       "    }\n",
       "  \n",
       "    function run_callbacks() {\n",
       "      window._bokeh_onload_callbacks.forEach(function(callback) { callback() });\n",
       "      delete window._bokeh_onload_callbacks\n",
       "      console.info(\"Bokeh: all callbacks have finished\");\n",
       "    }\n",
       "  \n",
       "    function load_libs(js_urls, callback) {\n",
       "      window._bokeh_onload_callbacks.push(callback);\n",
       "      if (window._bokeh_is_loading > 0) {\n",
       "        console.log(\"Bokeh: BokehJS is being loaded, scheduling callback at\", now());\n",
       "        return null;\n",
       "      }\n",
       "      if (js_urls == null || js_urls.length === 0) {\n",
       "        run_callbacks();\n",
       "        return null;\n",
       "      }\n",
       "      console.log(\"Bokeh: BokehJS not loaded, scheduling load and callback at\", now());\n",
       "      window._bokeh_is_loading = js_urls.length;\n",
       "      for (var i = 0; i < js_urls.length; i++) {\n",
       "        var url = js_urls[i];\n",
       "        var s = document.createElement('script');\n",
       "        s.src = url;\n",
       "        s.async = false;\n",
       "        s.onreadystatechange = s.onload = function() {\n",
       "          window._bokeh_is_loading--;\n",
       "          if (window._bokeh_is_loading === 0) {\n",
       "            console.log(\"Bokeh: all BokehJS libraries loaded\");\n",
       "            run_callbacks()\n",
       "          }\n",
       "        };\n",
       "        s.onerror = function() {\n",
       "          console.warn(\"failed to load library \" + url);\n",
       "        };\n",
       "        console.log(\"Bokeh: injecting script tag for BokehJS library: \", url);\n",
       "        document.getElementsByTagName(\"head\")[0].appendChild(s);\n",
       "      }\n",
       "    };var element = document.getElementById(\"a856b989-089b-4692-a580-a90a768bed14\");\n",
       "    if (element == null) {\n",
       "      console.log(\"Bokeh: ERROR: autoload.js configured with elementid 'a856b989-089b-4692-a580-a90a768bed14' but no matching script tag was found. \")\n",
       "      return false;\n",
       "    }\n",
       "  \n",
       "    var js_urls = [];\n",
       "  \n",
       "    var inline_js = [\n",
       "      function(Bokeh) {\n",
       "        (function() {\n",
       "          var fn = function() {\n",
       "            var docs_json = {\"fa5fe6a3-c899-4db7-82af-b8595c994c01\":{\"roots\":{\"references\":[{\"attributes\":{\"plot\":{\"id\":\"3676193b-09ec-4895-a401-e5c90b5dab1d\",\"subtype\":\"Figure\",\"type\":\"Plot\"}},\"id\":\"8b09712c-dc26-4376-a7e8-966e4be4b436\",\"type\":\"SaveTool\"},{\"attributes\":{},\"id\":\"90e760f4-4aa7-4771-a76c-bb9d02b5af50\",\"type\":\"BasicTickFormatter\"},{\"attributes\":{\"fill_alpha\":{\"value\":0.1},\"fill_color\":{\"value\":\"#1f77b4\"},\"line_alpha\":{\"value\":0.1},\"line_color\":{\"value\":\"#1f77b4\"},\"size\":{\"units\":\"screen\",\"value\":8},\"x\":{\"field\":\"x1\"},\"y\":{\"field\":\"x2\"}},\"id\":\"9574860d-cb8f-4b2f-882b-c98e322b70db\",\"type\":\"Circle\"},{\"attributes\":{\"callback\":null,\"column_names\":[\"x1\",\"x2\",\"names\"],\"data\":{\"names\":[\"the\",\"and\",\"to\",\"of\",\"a\",\"that\",\"i\",\"in\",\"it\",\"you\",\"we\",\"is\",\"s\",\"this\",\"so\",\"they\",\"was\",\"for\",\"are\",\"have\",\"but\",\"what\",\"on\",\"with\",\"can\",\"t\",\"about\",\"there\",\"be\",\"as\",\"at\",\"all\",\"not\",\"do\",\"my\",\"one\",\"re\",\"people\",\"like\",\"if\",\"from\",\"now\",\"our\",\"he\",\"an\",\"just\",\"these\",\"or\",\"when\",\"because\",\"very\",\"me\",\"out\",\"by\",\"them\",\"how\",\"know\",\"up\",\"going\",\"had\",\"more\",\"think\",\"who\",\"were\",\"see\",\"your\",\"their\",\"which\",\"would\",\"here\",\"really\",\"get\",\"ve\",\"then\",\"m\",\"world\",\"us\",\"time\",\"some\",\"has\",\"don\",\"actually\",\"into\",\"way\",\"where\",\"will\",\"years\",\"things\",\"other\",\"no\",\"could\",\"go\",\"well\",\"want\",\"been\",\"make\",\"right\",\"she\",\"said\",\"something\",\"those\",\"first\",\"two\",\"than\",\"much\",\"also\",\"look\",\"new\",\"thing\",\"little\",\"got\",\"back\",\"over\",\"most\",\"say\",\"even\",\"his\",\"life\",\"only\",\"work\",\"many\",\"take\",\"need\",\"did\",\"lot\",\"kind\",\"why\",\"good\",\"around\",\"every\",\"different\",\"down\",\"ll\",\"let\",\"her\",\"through\",\"same\",\"being\",\"come\",\"d\",\"day\",\"year\",\"three\",\"use\",\"doing\",\"put\",\"called\",\"any\",\"today\",\"percent\",\"made\",\"after\",\"thank\",\"tell\",\"great\",\"human\",\"find\",\"didn\",\"fact\",\"talk\",\"change\",\"started\",\"another\",\"idea\",\"big\",\"last\",\"own\",\"before\",\"its\",\"never\",\"should\",\"better\",\"give\",\"thought\",\"went\",\"might\",\"important\",\"000\",\"again\",\"able\",\"together\",\"still\",\"problem\",\"off\",\"next\",\"part\",\"course\",\"system\",\"him\",\"does\",\"each\",\"start\",\"show\",\"long\",\"ago\",\"story\",\"came\",\"brain\",\"few\",\"bit\",\"between\",\"used\",\"place\",\"technology\",\"women\",\"too\",\"old\",\"mean\",\"data\",\"water\",\"looking\",\"question\",\"maybe\",\"found\",\"love\",\"doesn\",\"end\",\"example\",\"10\",\"done\",\"point\",\"four\",\"real\",\"wanted\",\"ever\",\"school\",\"understand\",\"sort\",\"live\",\"call\",\"whole\",\"children\",\"always\",\"trying\",\"may\",\"person\",\"away\",\"believe\",\"feel\",\"try\",\"million\",\"working\",\"help\",\"everything\",\"five\",\"country\",\"thinking\",\"second\",\"using\",\"information\",\"money\",\"means\",\"power\",\"took\",\"times\",\"high\",\"space\",\"number\",\"kids\",\"home\",\"become\",\"create\",\"small\",\"design\",\"making\",\"best\",\"left\",\"getting\",\"future\",\"enough\",\"man\",\"quite\",\"city\",\"without\",\"sense\",\"happened\",\"comes\",\"social\",\"probably\",\"less\",\"light\",\"talking\",\"energy\",\"am\",\"building\",\"science\",\"food\",\"body\",\"told\",\"interesting\",\"ask\",\"half\",\"pretty\",\"hard\",\"play\",\"anything\",\"lives\",\"countries\",\"coming\",\"such\",\"family\",\"stuff\",\"dollars\",\"earth\",\"moment\",\"20\",\"imagine\",\"across\",\"side\",\"while\",\"saw\",\"happen\",\"once\",\"okay\",\"build\",\"having\",\"men\",\"later\",\"experience\",\"makes\",\"asked\",\"living\",\"seen\",\"says\",\"room\",\"hand\",\"simple\",\"health\",\"ways\",\"else\",\"case\",\"yet\",\"almost\",\"young\",\"days\",\"nothing\",\"care\",\"bad\",\"happens\",\"goes\",\"move\",\"states\",\"reason\",\"computer\",\"open\",\"learn\",\"africa\",\"process\",\"inside\",\"someone\",\"six\",\"far\",\"mind\",\"project\",\"remember\",\"single\",\"picture\",\"both\",\"whether\",\"problems\",\"saying\",\"community\",\"basically\",\"already\",\"within\",\"looked\",\"myself\",\"billion\",\"often\",\"possible\",\"business\",\"planet\",\"global\",\"everybody\",\"top\",\"sure\",\"public\",\"set\",\"wrong\",\"car\",\"book\",\"keep\",\"yes\",\"answer\",\"oh\",\"hope\",\"sometimes\",\"true\",\"history\",\"war\",\"guy\",\"child\",\"instead\",\"months\",\"ideas\",\"looks\",\"matter\",\"government\",\"amazing\",\"united\",\"since\",\"bring\",\"age\",\"cells\",\"job\",\"heard\",\"until\",\"face\",\"wasn\",\"100\",\"read\",\"control\",\"isn\",\"research\",\"30\",\"words\",\"u\",\"group\",\"under\",\"self\",\"somebody\",\"built\",\"state\",\"woman\",\"turn\",\"friends\",\"beautiful\",\"line\",\"knew\",\"couple\",\"order\",\"form\",\"yeah\",\"internet\",\"middle\",\"music\",\"piece\",\"nature\",\"head\",\"though\",\"stop\",\"everyone\",\"50\",\"places\",\"video\",\"learned\",\"language\",\"run\",\"night\",\"decided\",\"study\",\"word\",\"cancer\",\"taking\",\"works\",\"became\",\"exactly\",\"species\",\"society\",\"completely\",\"education\",\"against\",\"stories\",\"large\",\"share\",\"level\",\"heart\",\"america\",\"model\",\"questions\",\"gets\",\"mother\",\"god\",\"company\",\"turns\",\"ourselves\",\"happening\",\"hear\",\"art\",\"themselves\",\"must\",\"itself\",\"rather\",\"kinds\",\"students\",\"name\",\"hours\",\"disease\",\"front\",\"house\",\"huge\",\"couldn\",\"created\",\"universe\",\"ok\",\"animals\",\"american\",\"environment\",\"worked\",\"minutes\",\"ones\",\"black\",\"perhaps\",\"1\",\"past\",\"third\",\"along\",\"others\",\"finally\",\"sound\",\"early\",\"game\",\"thousands\",\"century\",\"based\",\"least\",\"per\",\"ted\",\"lots\",\"figure\",\"free\",\"guys\",\"particular\",\"happy\",\"news\",\"learning\",\"entire\",\"won\",\"gave\",\"machine\",\"india\",\"during\",\"systems\",\"air\",\"difference\",\"outside\",\"natural\",\"taken\",\"seven\",\"given\",\"changed\",\"leave\",\"cell\",\"15\",\"close\",\"behind\",\"cities\",\"full\",\"scale\",\"difficult\",\"china\",\"takes\",\"companies\",\"yourself\",\"area\",\"reality\",\"seeing\",\"easy\",\"turned\",\"cost\",\"eyes\",\"team\",\"moving\",\"population\",\"culture\",\"york\",\"hands\",\"whatever\",\"began\",\"needs\",\"terms\",\"image\",\"simply\",\"needed\",\"beginning\",\"father\",\"local\",\"realized\",\"media\",\"death\",\"parents\",\"view\",\"walk\",\"white\",\"market\",\"parts\",\"ocean\",\"economic\",\"eight\",\"powerful\",\"known\",\"week\",\"size\",\"felt\",\"humans\",\"certain\",\"spend\",\"longer\",\"phone\",\"wonderful\",\"cannot\",\"grow\",\"common\",\"center\",\"tried\",\"fish\",\"land\",\"oil\",\"political\",\"interested\",\"deal\",\"red\",\"gone\",\"amount\",\"weeks\",\"spent\",\"opportunity\",\"paper\",\"lost\",\"national\",\"quickly\",\"blue\",\"step\",\"poor\",\"green\",\"buy\",\"growth\",\"wouldn\",\"either\",\"patients\",\"sitting\",\"ability\",\"changes\",\"write\",\"challenge\",\"south\",\"low\",\"growing\",\"friend\",\"field\",\"shows\",\"2\",\"born\",\"rest\",\"climate\",\"40\",\"test\",\"street\",\"surface\",\"incredible\",\"average\",\"physical\",\"morning\",\"scientists\",\"program\",\"pay\",\"value\",\"feeling\",\"hundreds\",\"girl\",\"met\",\"behavior\",\"economy\",\"dna\",\"complex\",\"access\",\"risk\",\"animal\",\"structure\",\"feet\",\"attention\",\"areas\",\"anyone\",\"deep\",\"watch\",\"short\",\"absolutely\",\"speak\",\"brought\",\"die\",\"bottom\",\"numbers\",\"audience\",\"stage\",\"realize\",\"law\",\"images\",\"wrote\",\"understanding\",\"knowledge\",\"literally\",\"books\",\"movement\",\"ground\",\"giving\",\"eat\",\"force\",\"seems\",\"alone\",\"telling\",\"starting\",\"hold\",\"nice\",\"forward\",\"sea\",\"developed\",\"individual\",\"kid\",\"millions\",\"support\",\"miles\",\"tools\",\"running\",\"online\",\"result\",\"act\",\"medical\",\"technologies\",\"north\",\"lab\",\"development\",\"blood\",\"fear\",\"nobody\",\"map\",\"personal\",\"issue\",\"voice\",\"material\",\"key\",\"12\",\"recently\",\"theory\",\"cut\",\"cars\",\"sun\",\"fast\",\"changing\",\"playing\",\"clear\",\"especially\",\"soon\",\"girls\",\"patient\",\"choice\",\"fly\",\"creating\",\"normal\",\"discovered\",\"europe\",\"talked\",\"relationship\",\"gives\",\"generation\",\"dark\",\"type\",\"showed\",\"chance\",\"seem\",\"industry\",\"asking\",\"rate\",\"fun\",\"issues\",\"color\",\"designed\",\"hour\",\"university\",\"innovation\",\"several\",\"class\",\"computers\",\"english\",\"tiny\",\"allow\",\"save\",\"focus\",\"digital\",\"solve\",\"developing\",\"network\",\"film\",\"special\",\"wall\",\"situation\",\"baby\",\"solution\",\"reasons\",\"box\",\"knows\",\"meet\",\"dead\",\"stand\",\"begin\",\"haven\",\"impact\",\"anybody\",\"term\",\"beyond\",\"pictures\",\"please\",\"ice\",\"produce\",\"shape\",\"non\",\"resources\",\"robot\",\"cool\",\"groups\",\"likely\",\"stay\",\"available\",\"truth\",\"rights\",\"major\",\"cause\",\"evidence\",\"obviously\",\"writing\",\"experiment\",\"modern\",\"drug\",\"becomes\",\"incredibly\",\"aren\",\"bigger\",\"guess\",\"nine\",\"product\",\"drugs\",\"lived\",\"involved\",\"perfect\",\"google\",\"month\",\"effect\",\"similar\",\"putting\",\"eye\",\"pick\",\"message\",\"quality\",\"violence\",\"web\",\"evolution\",\"security\",\"office\",\"basic\",\"solar\",\"indeed\",\"general\",\"towards\",\"present\",\"drive\",\"send\",\"listen\",\"worth\",\"revolution\",\"explain\",\"hundred\",\"certainly\",\"died\",\"ready\",\"teach\",\"journey\",\"25\",\"hit\",\"walking\",\"led\",\"approach\",\"international\",\"200\",\"scientific\",\"games\",\"60\",\"potential\",\"crazy\",\"communities\",\"chinese\",\"device\",\"source\",\"camera\",\"rules\",\"sex\",\"carbon\",\"sounds\",\"boy\",\"reach\",\"starts\",\"examples\",\"west\",\"3\",\"success\",\"measure\",\"particularly\",\"software\",\"totally\",\"suddenly\",\"action\",\"college\",\"higher\",\"code\",\"eventually\",\"democracy\",\"among\",\"minute\",\"sit\",\"largest\",\"showing\",\"hospital\",\"notice\",\"period\",\"mass\",\"develop\",\"dream\",\"onto\",\"plants\",\"break\",\"add\",\"memory\",\"everywhere\",\"favorite\",\"11\",\"zero\",\"speed\",\"schools\",\"moved\",\"response\",\"wants\",\"extremely\",\"movie\",\"individuals\",\"table\",\"wait\",\"medicine\",\"follow\",\"anyway\",\"trust\",\"plant\",\"biggest\",\"watching\",\"organization\",\"creative\",\"road\",\"choose\",\"worse\",\"lead\",\"results\",\"500\",\"exciting\",\"grew\",\"materials\",\"jobs\",\"plan\",\"east\",\"poverty\",\"positive\",\"safe\",\"strong\",\"fall\",\"essentially\",\"object\",\"door\",\"son\",\"vision\",\"further\",\"happiness\",\"continue\",\"student\",\"doctor\",\"including\",\"named\",\"role\",\"objects\",\"extraordinary\",\"standing\",\"skin\",\"leaders\",\"usually\",\"african\",\"conversation\",\"projects\",\"allowed\",\"models\",\"supposed\",\"faster\",\"interest\",\"families\",\"police\",\"fight\",\"tree\",\"connected\",\"screen\",\"5\",\"cases\",\"goal\",\"somewhere\",\"finding\",\"buildings\",\"shown\"],\"x1\":{\"__ndarray__\":\"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\",\"dtype\":\"float64\",\"shape\":[1000]},\"x2\":{\"__ndarray__\":\"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\",\"dtype\":\"float64\",\"shape\":[1000]}}},\"id\":\"4d83b8a3-3309-49e7-86bb-a6aa8ea74615\",\"type\":\"ColumnDataSource\"},{\"attributes\":{\"below\":[{\"id\":\"1030203c-8715-4d1a-93a6-0559cec99e6c\",\"type\":\"LinearAxis\"}],\"left\":[{\"id\":\"696bc620-3ff8-4385-9fea-3ec5c90a5bd1\",\"type\":\"LinearAxis\"}],\"renderers\":[{\"id\":\"1030203c-8715-4d1a-93a6-0559cec99e6c\",\"type\":\"LinearAxis\"},{\"id\":\"822865dd-76b0-4293-93e4-764a4999b39a\",\"type\":\"Grid\"},{\"id\":\"696bc620-3ff8-4385-9fea-3ec5c90a5bd1\",\"type\":\"LinearAxis\"},{\"id\":\"00ba268d-4c98-46ed-848c-92d5a772a5bb\",\"type\":\"Grid\"},{\"id\":\"c5d34dcd-8cb4-435b-8a12-ea00162e7f59\",\"type\":\"GlyphRenderer\"},{\"id\":\"d5b9d6dc-dbc2-4730-9369-b71924ab3137\",\"type\":\"LabelSet\"}],\"title\":{\"id\":\"6655db1c-2429-4d6c-a5e4-8d5abaaaf78e\",\"type\":\"Title\"},\"tool_events\":{\"id\":\"e1d4918c-93e5-43b0-94c6-c0826f18f1ff\",\"type\":\"ToolEvents\"},\"toolbar\":{\"id\":\"a2b4ffcb-1e87-4331-b043-795ed548df1d\",\"type\":\"Toolbar\"},\"toolbar_location\":\"above\",\"x_range\":{\"id\":\"c702e663-650c-4813-9678-3a7bd1828a29\",\"type\":\"DataRange1d\"},\"y_range\":{\"id\":\"c94cd1aa-bb1d-41d1-ac72-b60a0cc9162d\",\"type\":\"DataRange1d\"}},\"id\":\"3676193b-09ec-4895-a401-e5c90b5dab1d\",\"subtype\":\"Figure\",\"type\":\"Plot\"},{\"attributes\":{\"plot\":null,\"text\":\"word2vec T-SNE for most common words\"},\"id\":\"6655db1c-2429-4d6c-a5e4-8d5abaaaf78e\",\"type\":\"Title\"},{\"attributes\":{},\"id\":\"f202f9dc-ec9f-4581-a165-1f1855ae4036\",\"type\":\"BasicTickFormatter\"},{\"attributes\":{\"plot\":{\"id\":\"3676193b-09ec-4895-a401-e5c90b5dab1d\",\"subtype\":\"Figure\",\"type\":\"Plot\"},\"source\":{\"id\":\"4d83b8a3-3309-49e7-86bb-a6aa8ea74615\",\"type\":\"ColumnDataSource\"},\"text\":{\"field\":\"names\"},\"text_align\":\"center\",\"text_color\":{\"value\":\"#555555\"},\"text_font_size\":{\"value\":\"8pt\"},\"x\":{\"field\":\"x1\"},\"y\":{\"field\":\"x2\"},\"y_offset\":{\"value\":6}},\"id\":\"d5b9d6dc-dbc2-4730-9369-b71924ab3137\",\"type\":\"LabelSet\"},{\"attributes\":{},\"id\":\"e1d4918c-93e5-43b0-94c6-c0826f18f1ff\",\"type\":\"ToolEvents\"},{\"attributes\":{\"callback\":null},\"id\":\"c702e663-650c-4813-9678-3a7bd1828a29\",\"type\":\"DataRange1d\"},{\"attributes\":{\"formatter\":{\"id\":\"90e760f4-4aa7-4771-a76c-bb9d02b5af50\",\"type\":\"BasicTickFormatter\"},\"plot\":{\"id\":\"3676193b-09ec-4895-a401-e5c90b5dab1d\",\"subtype\":\"Figure\",\"type\":\"Plot\"},\"ticker\":{\"id\":\"96b9a442-0bdd-46b8-b78d-3950111cc104\",\"type\":\"BasicTicker\"}},\"id\":\"696bc620-3ff8-4385-9fea-3ec5c90a5bd1\",\"type\":\"LinearAxis\"},{\"attributes\":{\"active_drag\":\"auto\",\"active_scroll\":\"auto\",\"active_tap\":\"auto\",\"tools\":[{\"id\":\"ace2d77c-edf4-4ad9-b0cb-ae83d755dad4\",\"type\":\"PanTool\"},{\"id\":\"e5524ad0-a612-4a42-a00e-8ca1b6555d48\",\"type\":\"WheelZoomTool\"},{\"id\":\"21ab3d41-9e83-4875-bf01-ede312b92931\",\"type\":\"ResetTool\"},{\"id\":\"8b09712c-dc26-4376-a7e8-966e4be4b436\",\"type\":\"SaveTool\"}]},\"id\":\"a2b4ffcb-1e87-4331-b043-795ed548df1d\",\"type\":\"Toolbar\"},{\"attributes\":{\"dimension\":1,\"plot\":{\"id\":\"3676193b-09ec-4895-a401-e5c90b5dab1d\",\"subtype\":\"Figure\",\"type\":\"Plot\"},\"ticker\":{\"id\":\"96b9a442-0bdd-46b8-b78d-3950111cc104\",\"type\":\"BasicTicker\"}},\"id\":\"00ba268d-4c98-46ed-848c-92d5a772a5bb\",\"type\":\"Grid\"},{\"attributes\":{\"formatter\":{\"id\":\"f202f9dc-ec9f-4581-a165-1f1855ae4036\",\"type\":\"BasicTickFormatter\"},\"plot\":{\"id\":\"3676193b-09ec-4895-a401-e5c90b5dab1d\",\"subtype\":\"Figure\",\"type\":\"Plot\"},\"ticker\":{\"id\":\"466c892b-eb9d-4523-aea9-aa75c07678b4\",\"type\":\"BasicTicker\"}},\"id\":\"1030203c-8715-4d1a-93a6-0559cec99e6c\",\"type\":\"LinearAxis\"},{\"attributes\":{},\"id\":\"96b9a442-0bdd-46b8-b78d-3950111cc104\",\"type\":\"BasicTicker\"},{\"attributes\":{\"callback\":null},\"id\":\"c94cd1aa-bb1d-41d1-ac72-b60a0cc9162d\",\"type\":\"DataRange1d\"},{\"attributes\":{\"fill_color\":{\"value\":\"#1f77b4\"},\"line_color\":{\"value\":\"#1f77b4\"},\"size\":{\"units\":\"screen\",\"value\":8},\"x\":{\"field\":\"x1\"},\"y\":{\"field\":\"x2\"}},\"id\":\"16b8e628-d466-4289-b030-1fe812b4df2f\",\"type\":\"Circle\"},{\"attributes\":{\"data_source\":{\"id\":\"4d83b8a3-3309-49e7-86bb-a6aa8ea74615\",\"type\":\"ColumnDataSource\"},\"glyph\":{\"id\":\"16b8e628-d466-4289-b030-1fe812b4df2f\",\"type\":\"Circle\"},\"hover_glyph\":null,\"nonselection_glyph\":{\"id\":\"9574860d-cb8f-4b2f-882b-c98e322b70db\",\"type\":\"Circle\"},\"selection_glyph\":null},\"id\":\"c5d34dcd-8cb4-435b-8a12-ea00162e7f59\",\"type\":\"GlyphRenderer\"},{\"attributes\":{},\"id\":\"466c892b-eb9d-4523-aea9-aa75c07678b4\",\"type\":\"BasicTicker\"},{\"attributes\":{\"plot\":{\"id\":\"3676193b-09ec-4895-a401-e5c90b5dab1d\",\"subtype\":\"Figure\",\"type\":\"Plot\"},\"ticker\":{\"id\":\"466c892b-eb9d-4523-aea9-aa75c07678b4\",\"type\":\"BasicTicker\"}},\"id\":\"822865dd-76b0-4293-93e4-764a4999b39a\",\"type\":\"Grid\"},{\"attributes\":{\"plot\":{\"id\":\"3676193b-09ec-4895-a401-e5c90b5dab1d\",\"subtype\":\"Figure\",\"type\":\"Plot\"}},\"id\":\"e5524ad0-a612-4a42-a00e-8ca1b6555d48\",\"type\":\"WheelZoomTool\"},{\"attributes\":{\"plot\":{\"id\":\"3676193b-09ec-4895-a401-e5c90b5dab1d\",\"subtype\":\"Figure\",\"type\":\"Plot\"}},\"id\":\"ace2d77c-edf4-4ad9-b0cb-ae83d755dad4\",\"type\":\"PanTool\"},{\"attributes\":{\"plot\":{\"id\":\"3676193b-09ec-4895-a401-e5c90b5dab1d\",\"subtype\":\"Figure\",\"type\":\"Plot\"}},\"id\":\"21ab3d41-9e83-4875-bf01-ede312b92931\",\"type\":\"ResetTool\"}],\"root_ids\":[\"3676193b-09ec-4895-a401-e5c90b5dab1d\"]},\"title\":\"Bokeh Application\",\"version\":\"0.12.4\"}};\n",
       "            var render_items = [{\"docid\":\"fa5fe6a3-c899-4db7-82af-b8595c994c01\",\"elementid\":\"a856b989-089b-4692-a580-a90a768bed14\",\"modelid\":\"3676193b-09ec-4895-a401-e5c90b5dab1d\"}];\n",
       "            \n",
       "            Bokeh.embed.embed_items(docs_json, render_items);\n",
       "          };\n",
       "          if (document.readyState != \"loading\") fn();\n",
       "          else document.addEventListener(\"DOMContentLoaded\", fn);\n",
       "        })();\n",
       "      },\n",
       "      function(Bokeh) {\n",
       "      }\n",
       "    ];\n",
       "  \n",
       "    function run_inline_js() {\n",
       "      \n",
       "      if ((window.Bokeh !== undefined) || (force === true)) {\n",
       "        for (var i = 0; i < inline_js.length; i++) {\n",
       "          inline_js[i](window.Bokeh);\n",
       "        }if (force === true) {\n",
       "          display_loaded();\n",
       "        }} else if (Date.now() < window._bokeh_timeout) {\n",
       "        setTimeout(run_inline_js, 100);\n",
       "      } else if (!window._bokeh_failed_load) {\n",
       "        console.log(\"Bokeh: BokehJS failed to load within specified timeout.\");\n",
       "        window._bokeh_failed_load = true;\n",
       "      } else if (force !== true) {\n",
       "        var cell = $(document.getElementById(\"a856b989-089b-4692-a580-a90a768bed14\")).parents('.cell').data().cell;\n",
       "        cell.output_area.append_execute_result(NB_LOAD_WARNING)\n",
       "      }\n",
       "  \n",
       "    }\n",
       "  \n",
       "    if (window._bokeh_is_loading === 0) {\n",
       "      console.log(\"Bokeh: BokehJS loaded, going straight to plotting\");\n",
       "      run_inline_js();\n",
       "    } else {\n",
       "      load_libs(js_urls, function() {\n",
       "        console.log(\"Bokeh: BokehJS plotting callback run at\", now());\n",
       "        run_inline_js();\n",
       "      });\n",
       "    }\n",
       "  }(this));\n",
       "</script>"
      ]
     },
     "metadata": {},
     "output_type": "display_data"
    }
   ],
   "source": [
    "p = figure(tools=\"pan,wheel_zoom,reset,save\",\n",
    "           toolbar_location=\"above\",\n",
    "           title=\"word2vec T-SNE for most common words\")\n",
    "\n",
    "source = ColumnDataSource(data=dict(x1=words_top_ted_tsne[:,0],\n",
    "                                    x2=words_top_ted_tsne[:,1],\n",
    "                                    names=words_top_ted))\n",
    "\n",
    "p.scatter(x=\"x1\", y=\"x2\", size=8, source=source)\n",
    "\n",
    "labels = LabelSet(x=\"x1\", y=\"x2\", text=\"names\", y_offset=6,\n",
    "                  text_font_size=\"8pt\", text_color=\"#555555\",\n",
    "                  source=source, text_align='center')\n",
    "p.add_layout(labels)\n",
    "\n",
    "show(p)"
   ]
  },
  {
   "cell_type": "markdown",
   "metadata": {},
   "source": [
    "### Part 5: Wiki Learnt Representations"
   ]
  },
  {
   "cell_type": "markdown",
   "metadata": {},
   "source": [
    "Download dataset"
   ]
  },
  {
   "cell_type": "code",
   "execution_count": 28,
   "metadata": {
    "collapsed": false
   },
   "outputs": [],
   "source": [
    "if not os.path.isfile('wikitext-103-raw-v1.zip'):\n",
    "    urllib.request.urlretrieve(\"https://s3.amazonaws.com/research.metamind.io/wikitext/wikitext-103-raw-v1.zip\", filename=\"wikitext-103-raw-v1.zip\")"
   ]
  },
  {
   "cell_type": "code",
   "execution_count": 29,
   "metadata": {
    "collapsed": false
   },
   "outputs": [
    {
     "ename": "MemoryError",
     "evalue": "",
     "output_type": "error",
     "traceback": [
      "\u001b[0;31m---------------------------------------------------------------------------\u001b[0m",
      "\u001b[0;31mMemoryError\u001b[0m                               Traceback (most recent call last)",
      "\u001b[0;32m<ipython-input-29-cfc2cea5c33b>\u001b[0m in \u001b[0;36m<module>\u001b[0;34m()\u001b[0m\n\u001b[1;32m      1\u001b[0m \u001b[1;32mwith\u001b[0m \u001b[0mzipfile\u001b[0m\u001b[1;33m.\u001b[0m\u001b[0mZipFile\u001b[0m\u001b[1;33m(\u001b[0m\u001b[1;34m'wikitext-103-raw-v1.zip'\u001b[0m\u001b[1;33m,\u001b[0m \u001b[1;34m'r'\u001b[0m\u001b[1;33m)\u001b[0m \u001b[1;32mas\u001b[0m \u001b[0mz\u001b[0m\u001b[1;33m:\u001b[0m\u001b[1;33m\u001b[0m\u001b[0m\n\u001b[0;32m----> 2\u001b[0;31m     \u001b[0minput_text\u001b[0m \u001b[1;33m=\u001b[0m \u001b[0mstr\u001b[0m\u001b[1;33m(\u001b[0m\u001b[0mz\u001b[0m\u001b[1;33m.\u001b[0m\u001b[0mopen\u001b[0m\u001b[1;33m(\u001b[0m\u001b[1;34m'wikitext-103-raw/wiki.train.raw'\u001b[0m\u001b[1;33m,\u001b[0m \u001b[1;34m'r'\u001b[0m\u001b[1;33m)\u001b[0m\u001b[1;33m.\u001b[0m\u001b[0mread\u001b[0m\u001b[1;33m(\u001b[0m\u001b[1;33m)\u001b[0m\u001b[1;33m,\u001b[0m \u001b[0mencoding\u001b[0m\u001b[1;33m=\u001b[0m\u001b[1;34m'utf-8'\u001b[0m\u001b[1;33m)\u001b[0m \u001b[1;31m# Thanks Robert Bastian\u001b[0m\u001b[1;33m\u001b[0m\u001b[0m\n\u001b[0m",
      "\u001b[0;32mC:\\ProgramData\\Anaconda3\\lib\\zipfile.py\u001b[0m in \u001b[0;36mread\u001b[0;34m(self, n)\u001b[0m\n\u001b[1;32m    831\u001b[0m             \u001b[0mself\u001b[0m\u001b[1;33m.\u001b[0m\u001b[0m_offset\u001b[0m \u001b[1;33m=\u001b[0m \u001b[1;36m0\u001b[0m\u001b[1;33m\u001b[0m\u001b[0m\n\u001b[1;32m    832\u001b[0m             \u001b[1;32mwhile\u001b[0m \u001b[1;32mnot\u001b[0m \u001b[0mself\u001b[0m\u001b[1;33m.\u001b[0m\u001b[0m_eof\u001b[0m\u001b[1;33m:\u001b[0m\u001b[1;33m\u001b[0m\u001b[0m\n\u001b[0;32m--> 833\u001b[0;31m                 \u001b[0mbuf\u001b[0m \u001b[1;33m+=\u001b[0m \u001b[0mself\u001b[0m\u001b[1;33m.\u001b[0m\u001b[0m_read1\u001b[0m\u001b[1;33m(\u001b[0m\u001b[0mself\u001b[0m\u001b[1;33m.\u001b[0m\u001b[0mMAX_N\u001b[0m\u001b[1;33m)\u001b[0m\u001b[1;33m\u001b[0m\u001b[0m\n\u001b[0m\u001b[1;32m    834\u001b[0m             \u001b[1;32mreturn\u001b[0m \u001b[0mbuf\u001b[0m\u001b[1;33m\u001b[0m\u001b[0m\n\u001b[1;32m    835\u001b[0m \u001b[1;33m\u001b[0m\u001b[0m\n",
      "\u001b[0;32mC:\\ProgramData\\Anaconda3\\lib\\zipfile.py\u001b[0m in \u001b[0;36m_read1\u001b[0;34m(self, n)\u001b[0m\n\u001b[1;32m    921\u001b[0m         \u001b[1;32melif\u001b[0m \u001b[0mself\u001b[0m\u001b[1;33m.\u001b[0m\u001b[0m_compress_type\u001b[0m \u001b[1;33m==\u001b[0m \u001b[0mZIP_DEFLATED\u001b[0m\u001b[1;33m:\u001b[0m\u001b[1;33m\u001b[0m\u001b[0m\n\u001b[1;32m    922\u001b[0m             \u001b[0mn\u001b[0m \u001b[1;33m=\u001b[0m \u001b[0mmax\u001b[0m\u001b[1;33m(\u001b[0m\u001b[0mn\u001b[0m\u001b[1;33m,\u001b[0m \u001b[0mself\u001b[0m\u001b[1;33m.\u001b[0m\u001b[0mMIN_READ_SIZE\u001b[0m\u001b[1;33m)\u001b[0m\u001b[1;33m\u001b[0m\u001b[0m\n\u001b[0;32m--> 923\u001b[0;31m             \u001b[0mdata\u001b[0m \u001b[1;33m=\u001b[0m \u001b[0mself\u001b[0m\u001b[1;33m.\u001b[0m\u001b[0m_decompressor\u001b[0m\u001b[1;33m.\u001b[0m\u001b[0mdecompress\u001b[0m\u001b[1;33m(\u001b[0m\u001b[0mdata\u001b[0m\u001b[1;33m,\u001b[0m \u001b[0mn\u001b[0m\u001b[1;33m)\u001b[0m\u001b[1;33m\u001b[0m\u001b[0m\n\u001b[0m\u001b[1;32m    924\u001b[0m             self._eof = (self._decompressor.eof or\n\u001b[1;32m    925\u001b[0m                          \u001b[0mself\u001b[0m\u001b[1;33m.\u001b[0m\u001b[0m_compress_left\u001b[0m \u001b[1;33m<=\u001b[0m \u001b[1;36m0\u001b[0m \u001b[1;32mand\u001b[0m\u001b[1;33m\u001b[0m\u001b[0m\n",
      "\u001b[0;31mMemoryError\u001b[0m: "
     ]
    }
   ],
   "source": [
    "with zipfile.ZipFile('wikitext-103-raw-v1.zip', 'r') as z:\n",
    "    input_text = str(z.open('wikitext-103-raw/wiki.train.raw', 'r').read(), encoding='utf-8') # Thanks Robert Bastian"
   ]
  },
  {
   "cell_type": "markdown",
   "metadata": {},
   "source": [
    "Preprocess sentences (note that it's important to remove small sentences for performance)"
   ]
  },
  {
   "cell_type": "code",
   "execution_count": 30,
   "metadata": {
    "collapsed": false
   },
   "outputs": [],
   "source": [
    "sentences_wiki = []\n",
    "for line in input_text.split('\\n'):\n",
    "    s = [x for x in line.split('.') if x and len(x.split()) >= 5]\n",
    "    sentences_wiki.extend(s)\n",
    "    \n",
    "for s_i in range(len(sentences_wiki)):\n",
    "    sentences_wiki[s_i] = re.sub(\"[^a-z]\", \" \", sentences_wiki[s_i].lower())\n",
    "    sentences_wiki[s_i] = re.sub(r'\\([^)]*\\)', '', sentences_wiki[s_i])\n",
    "del input_text"
   ]
  },
  {
   "cell_type": "code",
   "execution_count": 40,
   "metadata": {
    "collapsed": false
   },
   "outputs": [
    {
     "name": "stdout",
     "output_type": "stream",
     "text": [
      "29430\n",
      "3678\n"
     ]
    }
   ],
   "source": [
    "# sample 1/5 of the data\n",
    "shuffle(sentences_wiki)\n",
    "print(len(sentences_wiki))\n",
    "sentences_wiki = sentences_wiki[:int(len(sentences_wiki)/8)]\n",
    "print(len(sentences_wiki))\n",
    "sentences_wiki = [sentence.split() for sentence in sentences_wiki]"
   ]
  },
  {
   "cell_type": "markdown",
   "metadata": {},
   "source": [
    "Now, repeat all the same steps that you performed above. You should be able to reuse essentially all the code."
   ]
  },
  {
   "cell_type": "code",
   "execution_count": 41,
   "metadata": {
    "collapsed": false
   },
   "outputs": [
    {
     "name": "stdout",
     "output_type": "stream",
     "text": [
      "[3203, 2354, 1975, 1784, 1622, 1482, 1284, 1202, 1128, 1072]\n"
     ]
    }
   ],
   "source": [
    "counts_wiki={}\n",
    "for sentence in sentences_wiki:\n",
    "    for word in sentence:\n",
    "        if word not in counts_wiki:\n",
    "            counts_wiki[word]=1\n",
    "        if word in counts_wiki:\n",
    "            counts_wiki[word]+=1\n",
    "words_wiki_top1000=sorted(counts_wiki, key=lambda x:int(counts_wiki[x]), reverse=True)[:1000]\n",
    "counts_wiki_top1000=[]\n",
    "for word in words_wiki_top1000:\n",
    "    counts_wiki_top1000.append(counts_wiki[word])\n",
    "print(counts_wiki_top1000[:10])\n",
    "model_wiki= Word2Vec(sentences_wiki, size=100, window=5, min_count=5, workers=4)"
   ]
  },
  {
   "cell_type": "markdown",
   "metadata": {},
   "source": [
    "#### t-SNE visualization"
   ]
  },
  {
   "cell_type": "code",
   "execution_count": 42,
   "metadata": {
    "collapsed": false
   },
   "outputs": [],
   "source": [
    "# This assumes words_top_wiki is a list of strings, the top 1000 words\n",
    "words_top_vec_wiki = model_wiki[words_wiki_top1000]\n",
    "\n",
    "tsne = TSNE(n_components=2, random_state=0)\n",
    "words_top_wiki_tsne = tsne.fit_transform(words_top_vec_wiki)"
   ]
  },
  {
   "cell_type": "code",
   "execution_count": 43,
   "metadata": {
    "collapsed": false
   },
   "outputs": [
    {
     "data": {
      "text/html": [
       "\n",
       "\n",
       "    <div class=\"bk-root\">\n",
       "        <div class=\"bk-plotdiv\" id=\"d673537f-883c-46a6-88f3-2267a2f48c5a\"></div>\n",
       "    </div>\n",
       "<script type=\"text/javascript\">\n",
       "  \n",
       "  (function(global) {\n",
       "    function now() {\n",
       "      return new Date();\n",
       "    }\n",
       "  \n",
       "    var force = false;\n",
       "  \n",
       "    if (typeof (window._bokeh_onload_callbacks) === \"undefined\" || force === true) {\n",
       "      window._bokeh_onload_callbacks = [];\n",
       "      window._bokeh_is_loading = undefined;\n",
       "    }\n",
       "  \n",
       "  \n",
       "    \n",
       "    if (typeof (window._bokeh_timeout) === \"undefined\" || force === true) {\n",
       "      window._bokeh_timeout = Date.now() + 0;\n",
       "      window._bokeh_failed_load = false;\n",
       "    }\n",
       "  \n",
       "    var NB_LOAD_WARNING = {'data': {'text/html':\n",
       "       \"<div style='background-color: #fdd'>\\n\"+\n",
       "       \"<p>\\n\"+\n",
       "       \"BokehJS does not appear to have successfully loaded. If loading BokehJS from CDN, this \\n\"+\n",
       "       \"may be due to a slow or bad network connection. Possible fixes:\\n\"+\n",
       "       \"</p>\\n\"+\n",
       "       \"<ul>\\n\"+\n",
       "       \"<li>re-rerun `output_notebook()` to attempt to load from CDN again, or</li>\\n\"+\n",
       "       \"<li>use INLINE resources instead, as so:</li>\\n\"+\n",
       "       \"</ul>\\n\"+\n",
       "       \"<code>\\n\"+\n",
       "       \"from bokeh.resources import INLINE\\n\"+\n",
       "       \"output_notebook(resources=INLINE)\\n\"+\n",
       "       \"</code>\\n\"+\n",
       "       \"</div>\"}};\n",
       "  \n",
       "    function display_loaded() {\n",
       "      if (window.Bokeh !== undefined) {\n",
       "        document.getElementById(\"d673537f-883c-46a6-88f3-2267a2f48c5a\").textContent = \"BokehJS successfully loaded.\";\n",
       "      } else if (Date.now() < window._bokeh_timeout) {\n",
       "        setTimeout(display_loaded, 100)\n",
       "      }\n",
       "    }\n",
       "  \n",
       "    function run_callbacks() {\n",
       "      window._bokeh_onload_callbacks.forEach(function(callback) { callback() });\n",
       "      delete window._bokeh_onload_callbacks\n",
       "      console.info(\"Bokeh: all callbacks have finished\");\n",
       "    }\n",
       "  \n",
       "    function load_libs(js_urls, callback) {\n",
       "      window._bokeh_onload_callbacks.push(callback);\n",
       "      if (window._bokeh_is_loading > 0) {\n",
       "        console.log(\"Bokeh: BokehJS is being loaded, scheduling callback at\", now());\n",
       "        return null;\n",
       "      }\n",
       "      if (js_urls == null || js_urls.length === 0) {\n",
       "        run_callbacks();\n",
       "        return null;\n",
       "      }\n",
       "      console.log(\"Bokeh: BokehJS not loaded, scheduling load and callback at\", now());\n",
       "      window._bokeh_is_loading = js_urls.length;\n",
       "      for (var i = 0; i < js_urls.length; i++) {\n",
       "        var url = js_urls[i];\n",
       "        var s = document.createElement('script');\n",
       "        s.src = url;\n",
       "        s.async = false;\n",
       "        s.onreadystatechange = s.onload = function() {\n",
       "          window._bokeh_is_loading--;\n",
       "          if (window._bokeh_is_loading === 0) {\n",
       "            console.log(\"Bokeh: all BokehJS libraries loaded\");\n",
       "            run_callbacks()\n",
       "          }\n",
       "        };\n",
       "        s.onerror = function() {\n",
       "          console.warn(\"failed to load library \" + url);\n",
       "        };\n",
       "        console.log(\"Bokeh: injecting script tag for BokehJS library: \", url);\n",
       "        document.getElementsByTagName(\"head\")[0].appendChild(s);\n",
       "      }\n",
       "    };var element = document.getElementById(\"d673537f-883c-46a6-88f3-2267a2f48c5a\");\n",
       "    if (element == null) {\n",
       "      console.log(\"Bokeh: ERROR: autoload.js configured with elementid 'd673537f-883c-46a6-88f3-2267a2f48c5a' but no matching script tag was found. \")\n",
       "      return false;\n",
       "    }\n",
       "  \n",
       "    var js_urls = [];\n",
       "  \n",
       "    var inline_js = [\n",
       "      function(Bokeh) {\n",
       "        (function() {\n",
       "          var fn = function() {\n",
       "            var docs_json = {\"93130cfb-268c-46a6-8fed-7533c334c5fb\":{\"roots\":{\"references\":[{\"attributes\":{\"callback\":null},\"id\":\"b502b7ff-057f-4d50-b768-525e9232859f\",\"type\":\"DataRange1d\"},{\"attributes\":{\"plot\":null,\"text\":\"word2vec T-SNE for most common words\"},\"id\":\"92398522-d4c4-4387-b197-7824f21e8ffd\",\"type\":\"Title\"},{\"attributes\":{\"plot\":{\"id\":\"39c718ed-02ce-460e-806e-447da16d120c\",\"subtype\":\"Figure\",\"type\":\"Plot\"},\"source\":{\"id\":\"922ee575-e9c8-40dd-a73f-255adffb1871\",\"type\":\"ColumnDataSource\"},\"text\":{\"field\":\"names\"},\"text_align\":\"center\",\"text_color\":{\"value\":\"#555555\"},\"text_font_size\":{\"value\":\"8pt\"},\"x\":{\"field\":\"x1\"},\"y\":{\"field\":\"x2\"},\"y_offset\":{\"value\":6}},\"id\":\"e3c490e2-ca4b-4813-bef8-20236067eaf7\",\"type\":\"LabelSet\"},{\"attributes\":{\"plot\":{\"id\":\"39c718ed-02ce-460e-806e-447da16d120c\",\"subtype\":\"Figure\",\"type\":\"Plot\"},\"ticker\":{\"id\":\"cd8276e0-427e-4c0b-b29b-0ec7e32f5a6f\",\"type\":\"BasicTicker\"}},\"id\":\"34f3f40a-e7af-4967-abf3-885dd0bac328\",\"type\":\"Grid\"},{\"attributes\":{\"callback\":null,\"column_names\":[\"x1\",\"x2\",\"names\"],\"data\":{\"names\":[\"the\",\"and\",\"to\",\"of\",\"a\",\"that\",\"i\",\"in\",\"you\",\"it\",\"we\",\"is\",\"s\",\"this\",\"so\",\"they\",\"was\",\"have\",\"what\",\"are\",\"for\",\"but\",\"on\",\"with\",\"there\",\"can\",\"t\",\"as\",\"about\",\"do\",\"all\",\"re\",\"be\",\"at\",\"my\",\"people\",\"not\",\"one\",\"from\",\"if\",\"like\",\"these\",\"when\",\"now\",\"our\",\"he\",\"going\",\"because\",\"just\",\"or\",\"me\",\"them\",\"by\",\"an\",\"out\",\"think\",\"up\",\"very\",\"see\",\"their\",\"get\",\"know\",\"how\",\"more\",\"who\",\"really\",\"which\",\"ve\",\"had\",\"here\",\"your\",\"would\",\"were\",\"time\",\"us\",\"then\",\"has\",\"world\",\"into\",\"m\",\"some\",\"don\",\"years\",\"things\",\"actually\",\"other\",\"where\",\"way\",\"go\",\"will\",\"first\",\"those\",\"well\",\"been\",\"no\",\"new\",\"something\",\"right\",\"make\",\"could\",\"want\",\"work\",\"said\",\"two\",\"she\",\"say\",\"than\",\"much\",\"over\",\"got\",\"look\",\"thing\",\"kind\",\"little\",\"also\",\"need\",\"most\",\"take\",\"life\",\"even\",\"many\",\"only\",\"lot\",\"back\",\"use\",\"different\",\"d\",\"down\",\"his\",\"through\",\"why\",\"today\",\"did\",\"around\",\"every\",\"doing\",\"called\",\"her\",\"tell\",\"ll\",\"being\",\"started\",\"better\",\"good\",\"let\",\"same\",\"laughter\",\"fact\",\"idea\",\"human\",\"put\",\"percent\",\"day\",\"come\",\"too\",\"three\",\"change\",\"might\",\"should\",\"went\",\"any\",\"still\",\"problem\",\"another\",\"great\",\"own\",\"didn\",\"year\",\"able\",\"find\",\"before\",\"does\",\"its\",\"important\",\"off\",\"again\",\"place\",\"maybe\",\"thought\",\"course\",\"story\",\"big\",\"talk\",\"came\",\"brain\",\"made\",\"each\",\"next\",\"after\",\"part\",\"last\",\"ago\",\"together\",\"kids\",\"comes\",\"ever\",\"between\",\"system\",\"trying\",\"wanted\",\"end\",\"give\",\"school\",\"city\",\"long\",\"done\",\"data\",\"used\",\"real\",\"technology\",\"never\",\"four\",\"love\",\"information\",\"design\",\"number\",\"person\",\"space\",\"create\",\"bit\",\"old\",\"probably\",\"money\",\"looking\",\"high\",\"example\",\"country\",\"him\",\"basically\",\"believe\",\"thinking\",\"using\",\"help\",\"ways\",\"five\",\"self\",\"become\",\"enough\",\"questions\",\"show\",\"always\",\"getting\",\"point\",\"less\",\"government\",\"making\",\"power\",\"left\",\"start\",\"live\",\"women\",\"understand\",\"everything\",\"ask\",\"times\",\"man\",\"found\",\"whole\",\"yet\",\"feel\",\"water\",\"took\",\"best\",\"experience\",\"saw\",\"million\",\"room\",\"health\",\"picture\",\"working\",\"question\",\"care\",\"few\",\"future\",\"light\",\"states\",\"call\",\"sort\",\"pretty\",\"imagine\",\"side\",\"sense\",\"mind\",\"build\",\"second\",\"having\",\"across\",\"process\",\"students\",\"community\",\"energy\",\"doesn\",\"case\",\"earth\",\"mean\",\"talking\",\"moment\",\"science\",\"small\",\"open\",\"within\",\"ideas\",\"asked\",\"body\",\"away\",\"billion\",\"often\",\"social\",\"am\",\"public\",\"music\",\"lives\",\"someone\",\"bad\",\"history\",\"itself\",\"home\",\"africa\",\"may\",\"young\",\"days\",\"interesting\",\"quite\",\"set\",\"play\",\"told\",\"project\",\"built\",\"both\",\"answer\",\"keep\",\"children\",\"run\",\"stuff\",\"building\",\"without\",\"anything\",\"single\",\"yes\",\"internet\",\"turn\",\"education\",\"works\",\"united\",\"share\",\"move\",\"makes\",\"york\",\"happened\",\"along\",\"bring\",\"middle\",\"means\",\"half\",\"worked\",\"computer\",\"reason\",\"almost\",\"nature\",\"hours\",\"animals\",\"child\",\"try\",\"lots\",\"book\",\"happens\",\"six\",\"model\",\"somebody\",\"wrong\",\"mass\",\"art\",\"though\",\"countries\",\"whether\",\"particular\",\"such\",\"living\",\"species\",\"video\",\"against\",\"company\",\"while\",\"night\",\"face\",\"places\",\"decided\",\"early\",\"nothing\",\"local\",\"themselves\",\"food\",\"family\",\"natural\",\"ourselves\",\"friends\",\"machine\",\"systems\",\"looks\",\"global\",\"mother\",\"business\",\"telling\",\"completely\",\"became\",\"order\",\"sure\",\"god\",\"week\",\"says\",\"happen\",\"else\",\"environment\",\"planet\",\"everyone\",\"th\",\"months\",\"news\",\"line\",\"okay\",\"amount\",\"ocean\",\"couple\",\"eight\",\"far\",\"instead\",\"word\",\"needed\",\"heard\",\"matter\",\"isn\",\"soon\",\"sometimes\",\"yourself\",\"top\",\"coming\",\"possible\",\"true\",\"american\",\"dollars\",\"read\",\"hand\",\"hard\",\"risk\",\"fast\",\"later\",\"learn\",\"third\",\"knew\",\"learned\",\"finally\",\"anyone\",\"since\",\"rights\",\"street\",\"dark\",\"guy\",\"applause\",\"gone\",\"behind\",\"patients\",\"gets\",\"simple\",\"seen\",\"state\",\"seven\",\"hear\",\"non\",\"china\",\"control\",\"everybody\",\"must\",\"running\",\"watch\",\"study\",\"difficult\",\"surface\",\"age\",\"under\",\"piece\",\"stories\",\"basic\",\"economic\",\"full\",\"problems\",\"humans\",\"couldn\",\"once\",\"ability\",\"taken\",\"certain\",\"u\",\"knows\",\"woman\",\"several\",\"pay\",\"figure\",\"moving\",\"wasn\",\"gave\",\"men\",\"created\",\"stand\",\"eyes\",\"area\",\"incredibly\",\"happy\",\"exactly\",\"force\",\"difference\",\"rather\",\"america\",\"scientists\",\"learning\",\"essentially\",\"map\",\"drugs\",\"terms\",\"lower\",\"putting\",\"absolutely\",\"red\",\"stage\",\"head\",\"showed\",\"goes\",\"job\",\"images\",\"known\",\"dead\",\"parts\",\"democracy\",\"saying\",\"sound\",\"step\",\"quickly\",\"average\",\"given\",\"media\",\"beautiful\",\"easily\",\"easy\",\"national\",\"car\",\"simply\",\"view\",\"opportunity\",\"access\",\"material\",\"outside\",\"deep\",\"until\",\"amazing\",\"law\",\"speak\",\"sun\",\"during\",\"short\",\"hands\",\"began\",\"green\",\"powerful\",\"creating\",\"hope\",\"father\",\"yeah\",\"oh\",\"patient\",\"normal\",\"form\",\"structure\",\"dna\",\"inside\",\"taking\",\"solve\",\"stop\",\"physical\",\"huge\",\"challenge\",\"die\",\"thank\",\"group\",\"front\",\"turns\",\"ted\",\"african\",\"game\",\"cancer\",\"movie\",\"creativity\",\"close\",\"choose\",\"large\",\"write\",\"won\",\"rest\",\"least\",\"changed\",\"entire\",\"minutes\",\"past\",\"cost\",\"cells\",\"worse\",\"skin\",\"name\",\"developed\",\"universe\",\"finding\",\"war\",\"girl\",\"whatever\",\"break\",\"ones\",\"team\",\"giving\",\"university\",\"takes\",\"animal\",\"fun\",\"population\",\"cities\",\"based\",\"search\",\"oil\",\"hundreds\",\"century\",\"program\",\"faster\",\"beginning\",\"innovation\",\"free\",\"zero\",\"industry\",\"communities\",\"obviously\",\"culture\",\"support\",\"moral\",\"international\",\"level\",\"follow\",\"camera\",\"technologies\",\"fall\",\"skills\",\"web\",\"individual\",\"hold\",\"brought\",\"forward\",\"truth\",\"blood\",\"incredible\",\"already\",\"journey\",\"network\",\"society\",\"test\",\"explain\",\"intelligence\",\"gotten\",\"audience\",\"carbon\",\"grow\",\"common\",\"language\",\"felt\",\"square\",\"paper\",\"air\",\"solution\",\"fish\",\"poor\",\"center\",\"tools\",\"research\",\"changes\",\"lab\",\"looked\",\"words\",\"perhaps\",\"happening\",\"wonderful\",\"similar\",\"particles\",\"complex\",\"noticed\",\"act\",\"governments\",\"weeks\",\"sea\",\"sex\",\"spend\",\"reality\",\"heart\",\"parents\",\"brand\",\"components\",\"numbers\",\"leave\",\"ground\",\"plant\",\"situation\",\"page\",\"extremely\",\"marriage\",\"wants\",\"kinds\",\"recognize\",\"medicine\",\"upon\",\"likely\",\"result\",\"activity\",\"fly\",\"college\",\"led\",\"hour\",\"needs\",\"month\",\"realized\",\"ok\",\"fight\",\"freedom\",\"worst\",\"robot\",\"tried\",\"size\",\"consider\",\"walk\",\"creative\",\"suddenly\",\"ready\",\"centers\",\"cause\",\"low\",\"income\",\"becomes\",\"online\",\"evolution\",\"theory\",\"complicated\",\"asking\",\"produce\",\"lesson\",\"begin\",\"forms\",\"miles\",\"spent\",\"cannot\",\"approach\",\"economy\",\"largest\",\"please\",\"medical\",\"nice\",\"table\",\"region\",\"alone\",\"moved\",\"willing\",\"deal\",\"met\",\"phone\",\"discovered\",\"supply\",\"remember\",\"notice\",\"text\",\"corruption\",\"diseases\",\"bottom\",\"choice\",\"bet\",\"western\",\"cut\",\"plants\",\"starting\",\"critical\",\"image\",\"tree\",\"seems\",\"response\",\"lived\",\"guess\",\"playing\",\"others\",\"older\",\"software\",\"key\",\"term\",\"companies\",\"trained\",\"land\",\"park\",\"rate\",\"cell\",\"anywhere\",\"turned\",\"consciousness\",\"reading\",\"temperature\",\"baby\",\"aren\",\"military\",\"begins\",\"effect\",\"film\",\"message\",\"feed\",\"upper\",\"google\",\"particularly\",\"alive\",\"dollar\",\"near\",\"black\",\"born\",\"traditional\",\"guys\",\"climate\",\"potential\",\"nobody\",\"house\",\"deeply\",\"disease\",\"europe\",\"multi\",\"core\",\"interested\",\"myself\",\"enjoy\",\"window\",\"progress\",\"travel\",\"ice\",\"mom\",\"feeling\",\"anybody\",\"millions\",\"grew\",\"feet\",\"groups\",\"cars\",\"funny\",\"held\",\"examples\",\"testing\",\"iraq\",\"flag\",\"pick\",\"doctor\",\"experiment\",\"computers\",\"levels\",\"legs\",\"major\",\"including\",\"financial\",\"digital\",\"morning\",\"materials\",\"pain\",\"plan\",\"continue\",\"property\",\"eat\",\"urban\",\"models\",\"onto\",\"action\",\"value\",\"aid\",\"supposed\",\"police\",\"rules\",\"costs\",\"tool\",\"demonstration\",\"bunch\",\"conditions\",\"clearly\",\"enormous\",\"useful\",\"addition\",\"jobs\",\"responsibility\",\"writing\",\"political\",\"tiny\",\"pieces\",\"fingers\",\"medium\",\"available\",\"nations\",\"greatest\",\"infrastructure\",\"fuel\",\"per\",\"ca\",\"resources\",\"allowed\",\"attention\",\"hospital\",\"shown\",\"compared\",\"understood\",\"asia\",\"buildings\",\"seeing\",\"exciting\",\"growth\",\"practice\",\"o\",\"cool\",\"security\",\"bed\",\"engine\",\"seem\",\"south\",\"haven\",\"tv\",\"sorry\",\"death\",\"sent\",\"shape\",\"white\",\"wouldn\",\"clean\",\"afford\",\"speed\",\"context\",\"somewhere\",\"general\",\"clear\",\"named\",\"production\",\"bits\",\"dreams\",\"electricity\",\"hundred\",\"nuclear\",\"solar\",\"sleep\",\"various\",\"daughter\",\"device\",\"store\",\"active\",\"site\",\"east\",\"connected\",\"sit\",\"happiness\",\"babies\",\"starts\",\"range\",\"rich\",\"biggest\",\"success\",\"article\",\"impact\",\"realize\",\"importantly\",\"trees\",\"involved\",\"son\",\"unique\",\"evidence\",\"sustainable\",\"sign\",\"events\",\"below\",\"tax\",\"everywhere\",\"recently\",\"mostly\",\"figured\",\"studies\",\"india\",\"mobile\",\"bought\",\"naturally\",\"americans\",\"radical\",\"fundamental\",\"ran\",\"standing\",\"strength\",\"further\",\"record\",\"argue\",\"fear\",\"books\",\"imagination\",\"issues\",\"hot\",\"cold\",\"environmental\"],\"x1\":{\"__ndarray__\":\"jZvY1Z9m9j/QSuTB/7z1Pz45Jws7J+A/uyvBBYrx8D/ZkwE/jPDtP8BJnaaPn/M/9ZUBJRFd1T+r6MwElp3uP9obe+kH//8/1u84dPMeAEBi5vl6xkL2P8jISCcEv/4/ZuliwdwiAUD5KW5IqxYBQEblZOT4igFA/5r5WP7X8D9Ga/fG2vP8P7qneHOBUQRAEvjLCMcDA0Cc8tNDOXf7P5ouOKSOV+4/QtrtTmZc+T/HVFm5+bLkP4ETqemfWu0/cfD6dJ4sAkD/WwN3tSQDQLRGGvXmFc8/vudRaMox+D+NpDUNoNv1P3UnWbjwUvg/eRV5+2kMAkD7ocyMzU4EQGguaKoQDvs//XV5M0Wz5j/gcuFTMszqP9pF06Ieufw/EYFvI5OpAUD8b8VH0ZkBQIGaeer5ouI/UCjqNm4AA0C8Ztcj+rD4P6JJGZ3mduY/PcYyC45YAUAGAxG9QV0CQGe2M1w0xuE/X2mV2Z0L+T/nR9tD/JXyP5/RmWo/9PY/0BLN5C4EAUDWgPqKmpH6PxYBYIHxdQFAMTAio9eRAkCxpfUPSnfoP9iZoq4Ji+0/QvOlxVnc9T/P61p2UPbXPz/nBq7BQv0/frKtZdqV9z8P1y3pw7ECQKuNomT1TeY/T9EX5vbOAUCQtoO4zpmgP4hqOALJPfs/Ue8hPkG45z8laX96XAvlP4HvR3PerAFAF3xNeVfo8D9cB9mVigMBQFx75IZohwJA85jn5JhZ/z+QP5FinVLyP2M8TkC/mPU/jelZABjp/j/ZVspnPegBQIvFnseAiwJAJ1ZGZL0KAkDEG0tF0/v4P2Ng6udMSvY/l65/NRDH+j/5q5P+pZTiPz8dA2E1TQJAdNdWUZiL0b8/MkTVxccAQB5taY6QiAJA8NfyRWeSAkC5sOeHqsABQJ4m2sASWgJAxw0LRbTN7j9FrmCg85L7P+XujCnTIAFAOJLs85RX8T+tbUXBL44BQIvWVlOZbQJAde2ByfcP+j9U6qAU6iD4P9c7JpieEPQ/mOYk8Ybi3z/FaaEbdRgBQPxXSFGnpwJALWWZtpa0AUB4gcp+fU0zwJx2lbudmzPARLNnfaHK6j9/XXseFScCQJarDhUDjwFA89U3Du095z97SvKhC1ICQB7EH6aFSPk/obTuPgQ3AUDjnx9qiq3HP2JM9lACoyjAj+rNuTx5NMBqRXS7KfU0wBO7fBkS+vc/XTMR5e5UAkDjuVAOJLQ0wIQnDtQPu/4/PgR+AGFOM8CrGGTv7vkzwDSPzx/zSvI//xjAVEkk8j8H2jdTfW4CQKjB+mHu/inAOluV2dbrM8Ao3vJbOFgzwPnGBaUoFO4/Q1j4UUQLNMAd4xPqML3lP0ob7CzdDvI/1IKfXEB7AkARrR4N4kA0wI/0jWNmvzTAU7K9wOXINMA1UMLA3GozwNqEPzq8qvI/mnq8JIHWK8CPg9MO0vHXP2bL504EZwBAdXG/gL21J8DzxqEWWsg0wCfP/AljUjTACGE/zZl7NMB4hCPjOLQ0wAIcMNiR6TTAf/ca+LZ3M8Dh75417V3yP6Rxxkz5+yTAsmjTdxBFI8BH4eh9VFUowMwN/ScpVTTA+n5EeV7sM8AF8G1RArUrwIk5pP2r6yvA996lK0BhLMBtF4za8DgzwEkS2CC7mTPAU+ZCIFarNMAp9XaSeNw0wC6cLyJp/SrARkZ/Li+eI8DkHZxyZxs0wBTy1FtrLyzAQnDZUH2vBcART92W934twELbOIKX4ynA6z3EmPtCK8DeBoatNl7kvx8I014+ATXAIc4r1psqK8DV01ptfaUowH7IXy0LlCvA9+enQoxpNMDN++jnIN7tPyUaLboJuRLAaNTPQr53NMC2J4dzV64jwFaSzEgK8hjAF7C33pEHJMAnVrOke9kYwANoxC3dKP+/+t+fLu/U878GRAsvENoswC5J2x5cUvC/sUK73SGvEMAUXT/6NX0lwH4Yj/5LUB3Aq1fRgP2RKsDTe6qx6LomwICo7Vh63jTAlGgekGNHG8CVdS2sX0UgwLm0JB6GAyzA4hbV32K4KcDV5wqU9KgbwH0t/mBMtSrAsMZY/TMpIsBAxBZKHWcswP/x66KxCSXAgwzpmCIr+L87OYI5MlDvv9FsVTjZRxjAAttpR94jHcDhHw4w5xEfwO4J6od4jfK/mhaVYSvVIcAKsI0bz+EFwAkkkonrAiHAYrEQGbodG8DRRg37ee4mwK4wIRxYSPS/kVKT06CdKsAf3sw4vVUpwJjBlpZgUBLAmiYvSCuDCcBNU4Ei3owtwGI+iRyr7vW/aCmB1EFEG8CZXh6VzS8JwI6ESdi7xSzAeyWt6mwhI8DsMWA5+loQwEmA+j5DWQHAC5VEqIgoEMCJsURO5aASwEFyhWrEux/AKD0wql4HHcC2B2mJGI7yvzI9nyFwSxzAwvw05bUnDcB5woJXVO4zQFzTjuwrH/G/ICGzUZU6IMAPVfHw0qUgwFApyWpofxzAyrhuZf75JMAErvzhLZzxv2G91HH4+hXAPMvyubSH+L9StrMVnBggwJL1UISmShfATaCDg/yP879yRVhWr30TwLIJI6bH9x7A2n4GsVQ1F8Ca3mHLysEPwCF7nLzAy/i/TlNSk0AfJcDq1aNMTc3xv75ypCJIpvm/LgXTZ+7mHMABfodp8gsUwLYlXoDbPAjADqp7zEvwCsBaYYQfgw4gwOleT5+tUinA9mppactBCsCKTf8vxQkUwBKuiCDiwSLAnOfATRhDFcC7NqUz3lwGwNnnVTuXMSHA6yGGPy/XHsA+wIS5/2jxv3h2dibQhQnA4uHqVqMe8L9o72Apri/5v8tP5Mt/XBbAzw8Po73xKsDiPOPuTx33vwMtkoxyNRXA48cjxY73FsDtmyspq2gOwHm+ewU14hzAQJdeDIF8FcCgMxKJdqX4v+6DJaNRAAPAukUwQwNeM0A2JgFjARITwGUZGK6TjAXASfV3r+D1678Hom8tl0MCwGpxxbZJUArAPaOcby1247/94Dc0BPoewKdb9UuPyhDA1qMojQII8b8tS07K1Mz4v+r8abG8zhnAHhH5kstmC8Bir3wy1qYHwBpuMjWc4irAuHFNxjDY779VmUPWSLYRwEm1y9DD4gbAWB8CFSZ7AcC071/OpmMDwBdzU2MJZeQ/YflJPajaDcBGML1vbC8XwCR+PtwF1PG/AnpH7Q45A8BlE3Gsta0NwApenvwn/QrAF1unypKbMkANoE/t7TESwOZCNpHmXwzADk5xsJ18BsCnTwN3MrXnP2OZaht+IBfABZ95KRJj8b+A7Qt6qcMVwJd15JdqiRzAw+SSFO6mEsCd3YSZAQwHwPhJcyL+v/S/4JOA7/XnnL//rcUVPbwMwN9v1W8xKxLAw9+A3UA4FsCtq2ikm9D6v0yXkG/3ZhfA9ChxnjIB8b/o1yhzutzyv0kXDbAYZwzAyV94M0uNHsBAn4xHg14yQDPfLvM/+xjARtpdI8/L5D9O68FCDPQBwJQveL2XLhvA3ay+Va3tEsC5M4Dwf7QUwB/gmw3eH/y/aKq60Wk4MkA0MGGg5yUfwCmJSQxycAjAeE0vYGAcHsDQHSqLUrfxv7UlBcSFzvO/v3fGPkCdMUB++F/GJFQRwIw5w7eikRPAFlVojfOU9b/4FYiQ+sEWwD0zl65zVx7ACSzno8ITEcBYJI8G1oX/v/TP5u+1ePO/rrRjz+hwMkBQOJkBtA0RwMaFNWtjdQbAldTU6Si5HcDMhYZWQr0CwG9o8XP6ASDAOemwwoduJkDVEynzCY8dwD6isFZS5DFAsF7r/7j3HsBE/iNWk50kQBsUwWnbehvAv7XtK92QL0BN+NQ+z6EzQGiyVWqILvK/sDB+S2XgBsD+IJFYQ7AyQLXKoaDaTQrAaG3AT56oDcAIQk4yC+EkQHEfYDleXzJAqzEX/o8IEcAOq1d3nckZwKufP/lxVwvAOyKYzeQhHMBQSNjZTEszQKfn9giKXCRAUqBJQT1nE8AlrNqCUdwVwJF/2BagghbAF41nkuZqJkDv+y3EEh8yQG/4+VNi9A/A0Pkw/JghM0CGTidLeAYpQLAXtHNcnAfAq/HsqkpuGsDwcLaQLsEIwE71RSm9YBHAZAE+CPwjM0A/yWE6yescQKycETr2bxLADiY5L28JMkBD4cIxDeL2v/7vPRfRriVApp2sbZ0XDMDa87IwSK4jQJXJhQaw1zJAgmq7v7hVEMATmwBeZ5QhQJoU3/WVkjNAkof+bpaQBMAKxWRa47YmQFaeJ1nZDTJApD5pSRM/5r8YBI3HvTgyQAIUziO0cQ7Ae/m3i7YcKUDFyqZbbQQuQL9zpjSksSNASWOkeb/kMUB8Zz4f0JMxQDW1Y1rMKjJA2Xew8mqZH8A2MTGpeFcrQMzbBkF6NitAFKWvD7MPH8C88/KRa4cxQAlesh2ZjhPAZTx/frf8JUAQwZizcuYXQK7Kk33oZyFAOH9X4t5YDcCQahQsby8kQLDVfiFj3C9Aw1UabK3uGcApUm5TPXwewM3di8LqOTNAZKttkrL3sb/Ag8GSm00zQDHSMnuqYi3AQO29aKqiJEDRn40IfYQiQHtqccXnoyNAN33Nrxj6JEBerOwJ99AiQM0OCHUWlSRAwk4wOE97M0AlWOLT52whQHlDiJYjMSLAEc1+nEc+M0DuEZ8OdDwKwPy44G1XyAdA+eoTZ5FYI0D3I9WdFXshQFvQYAUNhua/5M/pjzFOIkD59BpRAVwUwK+ldbNl2CRA3WD26zaoCMBpboStp/QeQKjX9qOOZiVA+vAG/53PKkCOT9JUDZ8RwMS4RZGLqOC/1HkTe6bpDsCApQKwINMuQBMhBn0N8QTASAK2lK7X2z85AwF3YtQyQGLYDNVmzSRA1Q8QxL7l57+F0V2CRlkzQDmeyo13VDNAJeMsVkDLKEB1f5O5D9wzQPfEtInn2RPAhrBhGL+I5D/WY0NNmz0pwJVM90jrpiJAMQmTI1/OG8COTNr5a+4iQN1/uqVjpTNABdlIiMWF1z/OOusQLbL0v9gAUWbBjCJAS7r+zzZ2MkBp18ZN5YUlQMolSeaiSCRAEj8xV7l9LkAfDXIU8JwzQOVkKhaDgSNAKKRBM9yMIkDaRcwQ6y8yQLCbMe+8EQzAksdxsQ9kKkA9cZnSmnMfwKXwGmJxEzJAXRWEPc/UMUAnk1Jf8RIqQDorbB3a5SRA4/CeC2KnLMBOYaKdaVoUQEpTmWCFEyBAsLUk2v/aMkBUrlQYKkQkQB15bwn/ax3AvGPJSbsZMkDy9JxOBUgfQNJewYFcYy9AL3H+CrJrJED5mAYP8YMlQJi2PgeMmixApMtQohuCM0Dq4etvIYcpQDGj2Ub5sSFAVNzN1MG0IEBNta8JB00hQBl6Lae/DyVA2LCjx2udLUCInib2o0YyQF6BqJOGoyrAq6gHzpSNL0BdasF5oM4uQPKtvP/M+Q9A5QtFzkiQMUA76NHCxmMjQDVlB3BMkP6/8wCVqdHYIkDaUrcbyYEhQLb8vrc7tBTAl65+IA5gKkBym6S9pIwzQOUVogU/nAZA1vjMac7xJcDw5smVWUkjQHNesofeiSVAnBzYTBXyHEAfu7i+GHInQMwV/+Z/RzNADIIxK5ojLcAjZDhn9i8fwA4gvgmz7CBADmcUVToWJEBQCLI12IgfwBEXKJEV0xxA6QrneLKJM0Au0sqzyTcewI1jajBy8h7AZe9mypNxJUB3NaAdul8sQOjkgso8NS5AYgoupFZ+LkAyxjCAeOgkQI3cgeHJZC9AVQdc3DLmEcC0bpu6NW0yQMK3+OfY/DJA4cG+ji6WLcDQGtyf0KIkQFBlL+22qiNAMVSuwTu/LECxDr9d8dIkQAXfQP9mqCFA9n/wCEcpLkCr+G/2XGMlQKkJvRlPUiJAEHYbn2hZIkCeQQ3pA1AfQGE1YQbTJzNAdP/uswwxIkCwnsB8yPAcwLaUGntKkTJAJicLRAGULUAxgk6NL0IoQLCmKpo5CQtAZqk6UcT2I0DYdhPfz1kiQJ2nQ/74RxhAK5E3smoYJUBrCdasQDstwOzQo8ruMixA5j0z6ZwUJUC+R5HEQ50yQO6UEwIBdvW/BgAY62WlI0Avs15lziQhQG4MpunUZhdAgFT1i1uMMkAVHoclmcoxQEDkySY4kiPAr4EEXFGlJcA7AkNnzdUgwDGD0y7SgiNANi7iDNs8IEBF5JtOGVMgQMGoJTDqUC1AIFyrxtXDLkD/xz7jYxcnwPaKNi/1By/AUr+HKQI9LkC4uhkZFuQkQLNHZ4vJiCLAiIbnnLUHK8AJl+RafRkmQCLTXwnsNSpAoPbGGBs1LMC9Skx/x5YFQCj6GUylPyRATJU/GG1gIMAgJpst4HQzQLssypgHJihAQ8tB2nIGKMAJmt7W+uwkQGebS6wSQhvAu/ImnTPPIsDbdt6FNpQqwEl/RinBtyDADckfOJVuJED9Pd9yKpQjQI1c/GBIdSjA+nJnTrutF0BYRhijx1AmQKqORcDehhZAcPS35sSZL0C2RQ9kakskQAKMLZqrGibALZeVHu/YJEAokFLmOGAHQC4SC0mvjCFAaFBqDUUpIkAOjAbcmDwnwAXn5PH6tQ5ADGomfG9GJUC6fuUbFF8hQOV/gCWamCNAVmW7mleZM0DiQDTyJJEhQOeGHkLhYC1ALDkV3Jd2J0AMHkIhXBwrwBfcvPqykCFArSRZVLXAJUAvUo1id8wiQJwgSim5PzNAYaMoqT7/JUD+Lr0CScUyQImwbXH7pR9AKI+e4MtDHcDMJDuVUpYlQKrXREYpgzNAGeS2v69vLMD9pZYCaa0lQN+kP/JB+yVAQ/E0vi46I0Dr+557LPwEQPPwLDdgSiRAb3NaSNL3GUC34anKwOYdwJTDqJynISrANkmITA/EGEAolSj367wbwEAx0ITK0hlAPkdfqizdLcD3O98BS1klQJmnopn0dSZAlVcC9Gni/T+3rz+fDqQswKieqaDlDy3ARVLmECtSJMCqgInaYJkawPCWwfdlkRZA6pAjqwk6JUDEvGVW/G4pwIymkvt6/SRAm1xL0Q4wM0BsKzRbjKMCQPzima3G7hBAxULFe/dwCkC63i7fyjYlQIlVw5SINzNARXQqf+K2K8BPuIC7SlUmwJl8vs93DCDAZJuZ+NLkIUAt0fLkTcUjQHFmBCo1hsS/6FiJieDQK8DmVJdjMTQiQFmjHdITMyJAG6lJbLgpJUA0KJiSanMjwBBrOeU5BRtAIh6yD7VLDUD3mcurBJIqwEPSoqCWfyvAQSQVl1KhG8A6bBMAHiAiQN/2weo8hTNAIhzUH7HFH8AMQvCM9vIiQJmZ5hTnmiVARkazA2koHcAYAr525ggowLUP+OegTiNAJ742smghJEBg/CX4ijoaQH+qPu920CrAWT4XUJZrCUDgV8Xy8wgRQBmepOjwsyvAdccLLNPsG0Be1NI5xgwmQKLPc73jTSbAK1ZbZK1MCEA4R+RsccIYwCJmXkMxVDNA/AklIOURJcDE1qy2T0kuQG+aOia+qyzADPbp9x/lKcAyruCjcvEkwBZzbpOj4SzA9IqjYR9WCEB6hCStsjAhwK3Wrr9teibAynsh9fZFI8C0diBlw9cqwMIHY8A0yh/Arnjtuyo3IsAaJu0kfOATQCgyUXhxXBhAMx3M7gKFJMCph4lgqJIcwGynh8lp5CDAe+940d8IKMBWGyfPSuYbwJGhxBK+HSzAPCosAb8cIcBxwoxBdbYjwIXXj2OzXyzAEcY2LuMbK8AeqrMHwOkoQD/C7bGpUSbAw+KyIby3FUB4X+RXl8QpwF4yfFB0lyVAdlbEfsG1K8D+i7T2xAgswK0eSIk4ADNAwv3DvteGJEB9k3OBCKwnQLtsFuQ6qiDACgJvaqVABED1Dog5PQErwJ9dGrgfyCnA4v2pZ+hZKsDe7R/ZiNgkQH5mhVvrEy7AFqq5pYjkF8CoH+WUHlIkQNViPzwL9CjA519m/ZdMHUDCXquE3KEhQC+bardN9iVA8kFoepYPJUA5fuOZHI4jQBItrpOo3iXAq2W/cFQnKcAy81KmNAUhwJyowWX2ziPARjxfvPwgLcD9IGAUsyUkQN+RrI41xx3AJwdr3lVnHMBrn3OEXyIqwFSoivTFMyJAqovJkVDGKcAm6uDaG5MxQN+telcNzxzAkPGkrz6ULcAqbwM6RvkgQNAgOMp//SzAZO0hWV7TJMCM4qNwBoIuQIj9R5CR9yXAiTd5RwZ9HUA/qZFaqPcqwN6lJQV14h3ANWFBULBkHsAjSKHPrPwqwFYhltFMmCPALMwxZG5DLEAcBaOlBhAfwGMs8kYCkyZAYsjdTrFWIUBJRXFbb0UqQEwhu48cpSHAlLa4oMO3J8D8yekWD40qQPjrT3FpjB3Ad42sSHqtLcASXqrRxt8rwFxwzwAqsyDAezKEU2Z0HMDOfb2b61UlQCFbIspttiTAjpbP9bRxKcCl7o9IYEogwJNzu3PFQyXAaJ+NDRFHI8B+7mkTm+UjQES36jP/ziNAxuz8KJ2dKMCOcBi1jYIhwG4lFT7XaSbAuL60QhBUJMBkIBO1jPoswK1CXxsdpi7ALJ9td1naH8CJN5u/eeMbwFxxTwb45SxAxe8tybJfKcB54mIdvgwoQLn0W67dFhZA/Pv+UTbOJ8A+h9cry+sqwJViium6WRvAJQuBsL+yEEAaL4oSIQolQG/LSq07EibAKya0WRcOK8BIyyHiLCMrwDv+ENFMEijA9fZ04Q1IHkBhOMYhjeAnwMkrjygQ1SnAB2WP63cxCEBX+skucpkoQHdCysr0ZxtAYviCtmMlJUCLKUTBUOYkQPlTFH/6jidAckBcgdG2K8AOrNjX2FoiwLNwc7+zUyHAe/2QLrllDkB4AIjHemYiQMweoOC1OSJAFgFHJ7QkLcBsF9U9TS4pwCEDnjg2pSjAJHbHb85IKEASBE0umJQmQDO7cq/JviBAZv15hHgbG8Bk0JxD1DYqwGDCdIK+nipAn9v0MntxJcBBsROhAzQiQCrzP4FOzS1A63fbtfeNJUDXhtIaN44uwFJtM4F0riJAFXz1uVFMK8CcUsmWmhwfwJtze7+E+yBAio+FDzJHJEDePJpD+nEswL+GEHGDCx/Av8a2iYUwM0D5lK2xVVkqQMmmgnlbKiJAuJKIZ+XeJ8C9h4bjAfciwOL2HAmQQiTAxSJU1BsgL0B6aRhVQmUjwFL+WnabTSVAMuNfWPXVKsDeCqfr8qcmwNmINxZD6R9AqpwlM7oMLsA0VNK2hwcjQJscDI7aDC7AsquG72flK8DeD6mhhx8fwOM7aVshMCNABJCDadYuJUBn+GU84k8kQDHQzHm6qSnA3kFh4E9XL0BXzAMTZ4gZwBD/S9Z3nSJAmbspC93FHcCQAd+qARMpQN3wDpVzDCdAEWHXfuUALUCRcwKQeDsoQGcR6lmWVSNABU5h8cTUJUC9/7eM3bIrwBeGx/+utBzA7qoiierJKsC8wn87Z1grwD8mJf91divAns6zYqwuLMC/3tlmFKErwFD0t8PzFCNAVVY9Ye6MFUBDaWJoIg4nwB4pEnXLmyjA9clNoQCCKEBP/BlgW0gcQB+bIvaCHirAmMKZ9El2IMCHC+Jti8MrwCldIeEnLiVAX0Y051sQHMCf1okUXcMdQMSdSt8CHRrABxSukp/GG8Ag5oJG9motQIZ3WVer0ipAVXbnfKIHJED14JvfsNMbwMjlIcdsTi9A0pvQ5x9aK8BWAD+gRccqwOONkviOexrAzlASCoW5KEAAlzXTTH8pwKCXd9qZXy7AQzNpLvlaH0B3+Xxf5AImwIv0rl5WWwNATBdjgpRmIMDEOeZZ+ZcrwM/P3uJkiilAAQNaDzSGKMCaNC+nGX8mQLEDTl8sayBAnokyQGXzKcBsw6LcyD4swKsASpb03itAaNA8Ng4DK0Cofc/uIUUewPIujCPfmSJAdg6+st0WLEA8vdJ6AC4hQKV8mr3gOivA9b0uMf52KcCvA+6DxhYjQEXcscKWAStA2zjq3jrHK8B2JnTDrMEoQHkj9mXlcSvAsrYrHMYcGcCyZ4FoulsrwPJcsoW3/CvA9W3GioUtJkBCMJ1cBUEtQFS6WBr1aS9AMSSA/CSeG8A75EU77C8kwDHdlaEKWCHAcnK+g9GNL0CstYcKkqYiwGjBkKHgtyzA+B/UALWJIED+fONQ19kXQJnF0IZ2DyrAjX8fCE/9LMA9ZfixZ8YqwNczUTsEDyvAswVJIcZAKcCB6EheJAggQAlvOZ1bJx7A0APojXBgKcAb7H3ohLkjwO62KveNJyzAW775+UTkHcCVhgHpmdwqwJ0LKap3RiBALtba5uuzK8AWQBgdfbggQG1O2KMwZQVAejUejWwVH8CwfcM1/P8rwCR5z0/AGi3Aj6v058RoIEAL0lZPP2sewPFIXb9ckCDAzkobBYdoLsC7FqtBqZErwMwPwczpfyRAAJ4epVd8IcDWlGH3ei8swHgChK7vgSRAsoVfgdAfK8Bq1GPZBOkhwHGosgKDmSTABXsxn04aK0B/kvZWQHYlQPfpq+0JDiRAwy+L1cYxLkChVUK/T0crQJZxm1U4SCxAjOhuHWxfIEBDW7l84qcdwEwP3/ZwQyzAmjIfFOtzK8A=\",\"dtype\":\"float64\",\"shape\":[1000]},\"x2\":{\"__ndarray__\":\"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\",\"dtype\":\"float64\",\"shape\":[1000]}}},\"id\":\"922ee575-e9c8-40dd-a73f-255adffb1871\",\"type\":\"ColumnDataSource\"},{\"attributes\":{},\"id\":\"cd8276e0-427e-4c0b-b29b-0ec7e32f5a6f\",\"type\":\"BasicTicker\"},{\"attributes\":{\"plot\":{\"id\":\"39c718ed-02ce-460e-806e-447da16d120c\",\"subtype\":\"Figure\",\"type\":\"Plot\"}},\"id\":\"aa1fbdca-ec77-446e-80d3-db45a67daa04\",\"type\":\"PanTool\"},{\"attributes\":{\"formatter\":{\"id\":\"f3c4d9f2-2151-4571-a721-9d71b1ae2b66\",\"type\":\"BasicTickFormatter\"},\"plot\":{\"id\":\"39c718ed-02ce-460e-806e-447da16d120c\",\"subtype\":\"Figure\",\"type\":\"Plot\"},\"ticker\":{\"id\":\"7720d030-011d-4b56-b668-7c4c55634094\",\"type\":\"BasicTicker\"}},\"id\":\"848c6465-3777-4ec9-9af8-0fb375e1ac21\",\"type\":\"LinearAxis\"},{\"attributes\":{\"fill_alpha\":{\"value\":0.1},\"fill_color\":{\"value\":\"#1f77b4\"},\"line_alpha\":{\"value\":0.1},\"line_color\":{\"value\":\"#1f77b4\"},\"size\":{\"units\":\"screen\",\"value\":8},\"x\":{\"field\":\"x1\"},\"y\":{\"field\":\"x2\"}},\"id\":\"681bae32-2e4f-4b0c-af54-6e65cca6e507\",\"type\":\"Circle\"},{\"attributes\":{},\"id\":\"7720d030-011d-4b56-b668-7c4c55634094\",\"type\":\"BasicTicker\"},{\"attributes\":{\"data_source\":{\"id\":\"922ee575-e9c8-40dd-a73f-255adffb1871\",\"type\":\"ColumnDataSource\"},\"glyph\":{\"id\":\"f682d08f-9a03-4770-bfb9-19eb4f98002b\",\"type\":\"Circle\"},\"hover_glyph\":null,\"nonselection_glyph\":{\"id\":\"681bae32-2e4f-4b0c-af54-6e65cca6e507\",\"type\":\"Circle\"},\"selection_glyph\":null},\"id\":\"fbf522ef-c48c-4a7c-a339-2e90f455e2e1\",\"type\":\"GlyphRenderer\"},{\"attributes\":{\"below\":[{\"id\":\"1d62e975-0d03-4b72-8419-f704266a6e36\",\"type\":\"LinearAxis\"}],\"left\":[{\"id\":\"848c6465-3777-4ec9-9af8-0fb375e1ac21\",\"type\":\"LinearAxis\"}],\"renderers\":[{\"id\":\"1d62e975-0d03-4b72-8419-f704266a6e36\",\"type\":\"LinearAxis\"},{\"id\":\"34f3f40a-e7af-4967-abf3-885dd0bac328\",\"type\":\"Grid\"},{\"id\":\"848c6465-3777-4ec9-9af8-0fb375e1ac21\",\"type\":\"LinearAxis\"},{\"id\":\"4253226d-d040-4c0d-8a4a-09d1fa241ef7\",\"type\":\"Grid\"},{\"id\":\"fbf522ef-c48c-4a7c-a339-2e90f455e2e1\",\"type\":\"GlyphRenderer\"},{\"id\":\"e3c490e2-ca4b-4813-bef8-20236067eaf7\",\"type\":\"LabelSet\"}],\"title\":{\"id\":\"92398522-d4c4-4387-b197-7824f21e8ffd\",\"type\":\"Title\"},\"tool_events\":{\"id\":\"b00b4f12-e165-46e3-955e-88ef840b1167\",\"type\":\"ToolEvents\"},\"toolbar\":{\"id\":\"442c09ea-8680-47c4-a21d-dbf38953a2b7\",\"type\":\"Toolbar\"},\"toolbar_location\":\"above\",\"x_range\":{\"id\":\"b502b7ff-057f-4d50-b768-525e9232859f\",\"type\":\"DataRange1d\"},\"y_range\":{\"id\":\"454da1fa-25b2-46fd-bc3f-9f64851a8521\",\"type\":\"DataRange1d\"}},\"id\":\"39c718ed-02ce-460e-806e-447da16d120c\",\"subtype\":\"Figure\",\"type\":\"Plot\"},{\"attributes\":{\"plot\":{\"id\":\"39c718ed-02ce-460e-806e-447da16d120c\",\"subtype\":\"Figure\",\"type\":\"Plot\"}},\"id\":\"7a741f74-7a2a-4590-9b67-2c70800ca96e\",\"type\":\"WheelZoomTool\"},{\"attributes\":{\"formatter\":{\"id\":\"111d5233-bd1a-4c8e-8b57-eaca524d8fec\",\"type\":\"BasicTickFormatter\"},\"plot\":{\"id\":\"39c718ed-02ce-460e-806e-447da16d120c\",\"subtype\":\"Figure\",\"type\":\"Plot\"},\"ticker\":{\"id\":\"cd8276e0-427e-4c0b-b29b-0ec7e32f5a6f\",\"type\":\"BasicTicker\"}},\"id\":\"1d62e975-0d03-4b72-8419-f704266a6e36\",\"type\":\"LinearAxis\"},{\"attributes\":{},\"id\":\"b00b4f12-e165-46e3-955e-88ef840b1167\",\"type\":\"ToolEvents\"},{\"attributes\":{\"callback\":null},\"id\":\"454da1fa-25b2-46fd-bc3f-9f64851a8521\",\"type\":\"DataRange1d\"},{\"attributes\":{},\"id\":\"f3c4d9f2-2151-4571-a721-9d71b1ae2b66\",\"type\":\"BasicTickFormatter\"},{\"attributes\":{\"plot\":{\"id\":\"39c718ed-02ce-460e-806e-447da16d120c\",\"subtype\":\"Figure\",\"type\":\"Plot\"}},\"id\":\"16586dbb-55b2-4517-9595-452db84920b5\",\"type\":\"SaveTool\"},{\"attributes\":{},\"id\":\"111d5233-bd1a-4c8e-8b57-eaca524d8fec\",\"type\":\"BasicTickFormatter\"},{\"attributes\":{\"active_drag\":\"auto\",\"active_scroll\":\"auto\",\"active_tap\":\"auto\",\"tools\":[{\"id\":\"aa1fbdca-ec77-446e-80d3-db45a67daa04\",\"type\":\"PanTool\"},{\"id\":\"7a741f74-7a2a-4590-9b67-2c70800ca96e\",\"type\":\"WheelZoomTool\"},{\"id\":\"3cb83b13-c64f-475c-ba55-d0c6eead079a\",\"type\":\"ResetTool\"},{\"id\":\"16586dbb-55b2-4517-9595-452db84920b5\",\"type\":\"SaveTool\"}]},\"id\":\"442c09ea-8680-47c4-a21d-dbf38953a2b7\",\"type\":\"Toolbar\"},{\"attributes\":{\"dimension\":1,\"plot\":{\"id\":\"39c718ed-02ce-460e-806e-447da16d120c\",\"subtype\":\"Figure\",\"type\":\"Plot\"},\"ticker\":{\"id\":\"7720d030-011d-4b56-b668-7c4c55634094\",\"type\":\"BasicTicker\"}},\"id\":\"4253226d-d040-4c0d-8a4a-09d1fa241ef7\",\"type\":\"Grid\"},{\"attributes\":{\"plot\":{\"id\":\"39c718ed-02ce-460e-806e-447da16d120c\",\"subtype\":\"Figure\",\"type\":\"Plot\"}},\"id\":\"3cb83b13-c64f-475c-ba55-d0c6eead079a\",\"type\":\"ResetTool\"},{\"attributes\":{\"fill_color\":{\"value\":\"#1f77b4\"},\"line_color\":{\"value\":\"#1f77b4\"},\"size\":{\"units\":\"screen\",\"value\":8},\"x\":{\"field\":\"x1\"},\"y\":{\"field\":\"x2\"}},\"id\":\"f682d08f-9a03-4770-bfb9-19eb4f98002b\",\"type\":\"Circle\"}],\"root_ids\":[\"39c718ed-02ce-460e-806e-447da16d120c\"]},\"title\":\"Bokeh Application\",\"version\":\"0.12.4\"}};\n",
       "            var render_items = [{\"docid\":\"93130cfb-268c-46a6-8fed-7533c334c5fb\",\"elementid\":\"d673537f-883c-46a6-88f3-2267a2f48c5a\",\"modelid\":\"39c718ed-02ce-460e-806e-447da16d120c\"}];\n",
       "            \n",
       "            Bokeh.embed.embed_items(docs_json, render_items);\n",
       "          };\n",
       "          if (document.readyState != \"loading\") fn();\n",
       "          else document.addEventListener(\"DOMContentLoaded\", fn);\n",
       "        })();\n",
       "      },\n",
       "      function(Bokeh) {\n",
       "      }\n",
       "    ];\n",
       "  \n",
       "    function run_inline_js() {\n",
       "      \n",
       "      if ((window.Bokeh !== undefined) || (force === true)) {\n",
       "        for (var i = 0; i < inline_js.length; i++) {\n",
       "          inline_js[i](window.Bokeh);\n",
       "        }if (force === true) {\n",
       "          display_loaded();\n",
       "        }} else if (Date.now() < window._bokeh_timeout) {\n",
       "        setTimeout(run_inline_js, 100);\n",
       "      } else if (!window._bokeh_failed_load) {\n",
       "        console.log(\"Bokeh: BokehJS failed to load within specified timeout.\");\n",
       "        window._bokeh_failed_load = true;\n",
       "      } else if (force !== true) {\n",
       "        var cell = $(document.getElementById(\"d673537f-883c-46a6-88f3-2267a2f48c5a\")).parents('.cell').data().cell;\n",
       "        cell.output_area.append_execute_result(NB_LOAD_WARNING)\n",
       "      }\n",
       "  \n",
       "    }\n",
       "  \n",
       "    if (window._bokeh_is_loading === 0) {\n",
       "      console.log(\"Bokeh: BokehJS loaded, going straight to plotting\");\n",
       "      run_inline_js();\n",
       "    } else {\n",
       "      load_libs(js_urls, function() {\n",
       "        console.log(\"Bokeh: BokehJS plotting callback run at\", now());\n",
       "        run_inline_js();\n",
       "      });\n",
       "    }\n",
       "  }(this));\n",
       "</script>"
      ]
     },
     "metadata": {},
     "output_type": "display_data"
    }
   ],
   "source": [
    "p = figure(tools=\"pan,wheel_zoom,reset,save\",\n",
    "           toolbar_location=\"above\",\n",
    "           title=\"word2vec T-SNE for most common words\")\n",
    "\n",
    "source = ColumnDataSource(data=dict(x1=words_top_wiki_tsne[:,0],\n",
    "                                    x2=words_top_wiki_tsne[:,1],\n",
    "                                    names=words_wiki_top1000))\n",
    "\n",
    "p.scatter(x=\"x1\", y=\"x2\", size=8, source=source)\n",
    "\n",
    "labels = LabelSet(x=\"x1\", y=\"x2\", text=\"names\", y_offset=6,\n",
    "                  text_font_size=\"8pt\", text_color=\"#555555\",\n",
    "                  source=source, text_align='center')\n",
    "p.add_layout(labels)\n",
    "\n",
    "show(p)"
   ]
  },
  {
   "cell_type": "code",
   "execution_count": null,
   "metadata": {
    "collapsed": true
   },
   "outputs": [],
   "source": []
  }
 ],
 "metadata": {
  "anaconda-cloud": {},
  "kernelspec": {
   "display_name": "Python 3",
   "language": "python",
   "name": "python3"
  }
 },
 "nbformat": 4,
 "nbformat_minor": 0
}
