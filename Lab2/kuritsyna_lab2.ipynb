{
 "cells": [
  {
   "cell_type": "markdown",
   "metadata": {},
   "source": [
    "## Practical 1: word2vec\n",
    "<p>Oxford CS - Deep NLP 2017<br>\n",
    "https://www.cs.ox.ac.uk/teaching/courses/2016-2017/dl/</p>\n",
    "<p>[Yannis Assael, Brendan Shillingford, Chris Dyer]</p>"
   ]
  },
  {
   "cell_type": "markdown",
   "metadata": {},
   "source": [
    "This practical is presented as an IPython Notebook, with the code written for recent versions of **Python 3**. The code in this practical will not work with Python 2 unless you modify it. If you are using your own Python installation, ensure you have a setup identical to that described in the installation shell script (which is intended for use with the department lab machines). We will be unable to support installation on personal machines due to time constraints, so please use the lab machines and the setup script if you are unfamiliar with how to install Anaconda.\n",
    "\n",
    "To execute a notebook cell, press `shift-enter`. The return value of the last command will be displayed, if it is not `None`.\n",
    "\n",
    "Potentially useful library documentation, references, and resources:\n",
    "\n",
    "* IPython notebooks: <https://ipython.org/ipython-doc/3/notebook/notebook.html#introduction>\n",
    "* Numpy numerical array library: <https://docs.scipy.org/doc/>\n",
    "* Gensim's word2vec: <https://radimrehurek.com/gensim/models/word2vec.html>\n",
    "* Bokeh interactive plots: <http://bokeh.pydata.org/en/latest/> (we provide plotting code here, but click the thumbnails for more examples to copy-paste)\n",
    "* scikit-learn ML library (aka `sklearn`): <http://scikit-learn.org/stable/documentation.html>\n",
    "* nltk NLP toolkit: <http://www.nltk.org/>\n",
    "* tutorial for processing xml in python using `lxml`: <http://lxml.de/tutorial.html> (we did this for you below, but in case you need it in the future)"
   ]
  },
  {
   "cell_type": "code",
   "execution_count": 1,
   "metadata": {
    "collapsed": true
   },
   "outputs": [],
   "source": [
    "import numpy as np\n",
    "import os\n",
    "from random import shuffle\n",
    "import re"
   ]
  },
  {
   "cell_type": "code",
   "execution_count": 2,
   "metadata": {
    "collapsed": false
   },
   "outputs": [
    {
     "data": {
      "text/html": [
       "\n",
       "    <div class=\"bk-root\">\n",
       "        <a href=\"http://bokeh.pydata.org\" target=\"_blank\" class=\"bk-logo bk-logo-small bk-logo-notebook\"></a>\n",
       "        <span id=\"a606190a-f334-4573-82aa-e33e72466ca5\">Loading BokehJS ...</span>\n",
       "    </div>"
      ]
     },
     "metadata": {},
     "output_type": "display_data"
    },
    {
     "data": {
      "application/javascript": [
       "\n",
       "(function(global) {\n",
       "  function now() {\n",
       "    return new Date();\n",
       "  }\n",
       "\n",
       "  var force = true;\n",
       "\n",
       "  if (typeof (window._bokeh_onload_callbacks) === \"undefined\" || force === true) {\n",
       "    window._bokeh_onload_callbacks = [];\n",
       "    window._bokeh_is_loading = undefined;\n",
       "  }\n",
       "\n",
       "\n",
       "  \n",
       "  if (typeof (window._bokeh_timeout) === \"undefined\" || force === true) {\n",
       "    window._bokeh_timeout = Date.now() + 5000;\n",
       "    window._bokeh_failed_load = false;\n",
       "  }\n",
       "\n",
       "  var NB_LOAD_WARNING = {'data': {'text/html':\n",
       "     \"<div style='background-color: #fdd'>\\n\"+\n",
       "     \"<p>\\n\"+\n",
       "     \"BokehJS does not appear to have successfully loaded. If loading BokehJS from CDN, this \\n\"+\n",
       "     \"may be due to a slow or bad network connection. Possible fixes:\\n\"+\n",
       "     \"</p>\\n\"+\n",
       "     \"<ul>\\n\"+\n",
       "     \"<li>re-rerun `output_notebook()` to attempt to load from CDN again, or</li>\\n\"+\n",
       "     \"<li>use INLINE resources instead, as so:</li>\\n\"+\n",
       "     \"</ul>\\n\"+\n",
       "     \"<code>\\n\"+\n",
       "     \"from bokeh.resources import INLINE\\n\"+\n",
       "     \"output_notebook(resources=INLINE)\\n\"+\n",
       "     \"</code>\\n\"+\n",
       "     \"</div>\"}};\n",
       "\n",
       "  function display_loaded() {\n",
       "    if (window.Bokeh !== undefined) {\n",
       "      document.getElementById(\"a606190a-f334-4573-82aa-e33e72466ca5\").textContent = \"BokehJS successfully loaded.\";\n",
       "    } else if (Date.now() < window._bokeh_timeout) {\n",
       "      setTimeout(display_loaded, 100)\n",
       "    }\n",
       "  }\n",
       "\n",
       "  function run_callbacks() {\n",
       "    window._bokeh_onload_callbacks.forEach(function(callback) { callback() });\n",
       "    delete window._bokeh_onload_callbacks\n",
       "    console.info(\"Bokeh: all callbacks have finished\");\n",
       "  }\n",
       "\n",
       "  function load_libs(js_urls, callback) {\n",
       "    window._bokeh_onload_callbacks.push(callback);\n",
       "    if (window._bokeh_is_loading > 0) {\n",
       "      console.log(\"Bokeh: BokehJS is being loaded, scheduling callback at\", now());\n",
       "      return null;\n",
       "    }\n",
       "    if (js_urls == null || js_urls.length === 0) {\n",
       "      run_callbacks();\n",
       "      return null;\n",
       "    }\n",
       "    console.log(\"Bokeh: BokehJS not loaded, scheduling load and callback at\", now());\n",
       "    window._bokeh_is_loading = js_urls.length;\n",
       "    for (var i = 0; i < js_urls.length; i++) {\n",
       "      var url = js_urls[i];\n",
       "      var s = document.createElement('script');\n",
       "      s.src = url;\n",
       "      s.async = false;\n",
       "      s.onreadystatechange = s.onload = function() {\n",
       "        window._bokeh_is_loading--;\n",
       "        if (window._bokeh_is_loading === 0) {\n",
       "          console.log(\"Bokeh: all BokehJS libraries loaded\");\n",
       "          run_callbacks()\n",
       "        }\n",
       "      };\n",
       "      s.onerror = function() {\n",
       "        console.warn(\"failed to load library \" + url);\n",
       "      };\n",
       "      console.log(\"Bokeh: injecting script tag for BokehJS library: \", url);\n",
       "      document.getElementsByTagName(\"head\")[0].appendChild(s);\n",
       "    }\n",
       "  };var element = document.getElementById(\"a606190a-f334-4573-82aa-e33e72466ca5\");\n",
       "  if (element == null) {\n",
       "    console.log(\"Bokeh: ERROR: autoload.js configured with elementid 'a606190a-f334-4573-82aa-e33e72466ca5' but no matching script tag was found. \")\n",
       "    return false;\n",
       "  }\n",
       "\n",
       "  var js_urls = [\"https://cdn.pydata.org/bokeh/release/bokeh-0.12.4.min.js\", \"https://cdn.pydata.org/bokeh/release/bokeh-widgets-0.12.4.min.js\"];\n",
       "\n",
       "  var inline_js = [\n",
       "    function(Bokeh) {\n",
       "      Bokeh.set_log_level(\"info\");\n",
       "    },\n",
       "    \n",
       "    function(Bokeh) {\n",
       "      \n",
       "      document.getElementById(\"a606190a-f334-4573-82aa-e33e72466ca5\").textContent = \"BokehJS is loading...\";\n",
       "    },\n",
       "    function(Bokeh) {\n",
       "      console.log(\"Bokeh: injecting CSS: https://cdn.pydata.org/bokeh/release/bokeh-0.12.4.min.css\");\n",
       "      Bokeh.embed.inject_css(\"https://cdn.pydata.org/bokeh/release/bokeh-0.12.4.min.css\");\n",
       "      console.log(\"Bokeh: injecting CSS: https://cdn.pydata.org/bokeh/release/bokeh-widgets-0.12.4.min.css\");\n",
       "      Bokeh.embed.inject_css(\"https://cdn.pydata.org/bokeh/release/bokeh-widgets-0.12.4.min.css\");\n",
       "    }\n",
       "  ];\n",
       "\n",
       "  function run_inline_js() {\n",
       "    \n",
       "    if ((window.Bokeh !== undefined) || (force === true)) {\n",
       "      for (var i = 0; i < inline_js.length; i++) {\n",
       "        inline_js[i](window.Bokeh);\n",
       "      }if (force === true) {\n",
       "        display_loaded();\n",
       "      }} else if (Date.now() < window._bokeh_timeout) {\n",
       "      setTimeout(run_inline_js, 100);\n",
       "    } else if (!window._bokeh_failed_load) {\n",
       "      console.log(\"Bokeh: BokehJS failed to load within specified timeout.\");\n",
       "      window._bokeh_failed_load = true;\n",
       "    } else if (force !== true) {\n",
       "      var cell = $(document.getElementById(\"a606190a-f334-4573-82aa-e33e72466ca5\")).parents('.cell').data().cell;\n",
       "      cell.output_area.append_execute_result(NB_LOAD_WARNING)\n",
       "    }\n",
       "\n",
       "  }\n",
       "\n",
       "  if (window._bokeh_is_loading === 0) {\n",
       "    console.log(\"Bokeh: BokehJS loaded, going straight to plotting\");\n",
       "    run_inline_js();\n",
       "  } else {\n",
       "    load_libs(js_urls, function() {\n",
       "      console.log(\"Bokeh: BokehJS plotting callback run at\", now());\n",
       "      run_inline_js();\n",
       "    });\n",
       "  }\n",
       "}(this));"
      ]
     },
     "metadata": {},
     "output_type": "display_data"
    }
   ],
   "source": [
    "from bokeh.models import ColumnDataSource, LabelSet\n",
    "from bokeh.plotting import figure, show, output_file\n",
    "from bokeh.io import output_notebook\n",
    "output_notebook()"
   ]
  },
  {
   "cell_type": "markdown",
   "metadata": {},
   "source": [
    "### Part 0: Download the TED dataset"
   ]
  },
  {
   "cell_type": "code",
   "execution_count": 3,
   "metadata": {
    "collapsed": true
   },
   "outputs": [],
   "source": [
    "import urllib.request\n",
    "import zipfile\n",
    "import lxml.etree"
   ]
  },
  {
   "cell_type": "code",
   "execution_count": 4,
   "metadata": {
    "collapsed": true
   },
   "outputs": [],
   "source": [
    "# Download the dataset if it's not already there: this may take a minute as it is 75MB\n",
    "if not os.path.isfile('ted_en-20160408.zip'):\n",
    "    urllib.request.urlretrieve(\"https://wit3.fbk.eu/get.php?path=XML_releases/xml/ted_en-20160408.zip&filename=ted_en-20160408.zip\", filename=\"ted_en-20160408.zip\")"
   ]
  },
  {
   "cell_type": "code",
   "execution_count": 5,
   "metadata": {
    "collapsed": true
   },
   "outputs": [],
   "source": [
    "# For now, we're only interested in the subtitle text, so let's extract that from the XML:\n",
    "with zipfile.ZipFile('ted_en-20160408.zip', 'r') as z:\n",
    "    doc = lxml.etree.parse(z.open('ted_en-20160408.xml', 'r'))\n",
    "input_text = '\\n'.join(doc.xpath('//content/text()'))\n",
    "del doc"
   ]
  },
  {
   "cell_type": "markdown",
   "metadata": {},
   "source": [
    "### Part 1: Preprocessing\n",
    "\n",
    "In this part, we attempt to clean up the raw subtitles a bit, so that we get only sentences. The following substring shows examples of what we're trying to get rid of. Since it's hard to define precisely what we want to get rid of, we'll just use some simple heuristics."
   ]
  },
  {
   "cell_type": "code",
   "execution_count": 6,
   "metadata": {
    "collapsed": false,
    "scrolled": false
   },
   "outputs": [
    {
     "data": {
      "text/plain": [
       "' baby does.\\n(Video) Hyowon Gweon: See this? (Ball squeaks) Did you see that? (Ball squeaks) Cool. See this one? (Ball squeaks) Wow.\\nLaura Schulz: Told you. (Laughs)\\n(Vide'"
      ]
     },
     "execution_count": 6,
     "metadata": {},
     "output_type": "execute_result"
    }
   ],
   "source": [
    "i = input_text.find(\"Hyowon Gweon: See this?\")\n",
    "input_text[i-20:i+150]"
   ]
  },
  {
   "cell_type": "markdown",
   "metadata": {},
   "source": [
    "Let's start by removing all parenthesized strings using a regex:"
   ]
  },
  {
   "cell_type": "code",
   "execution_count": 7,
   "metadata": {
    "collapsed": true
   },
   "outputs": [],
   "source": [
    "input_text_noparens = re.sub(r'\\([^)]*\\)', '', input_text)"
   ]
  },
  {
   "cell_type": "markdown",
   "metadata": {},
   "source": [
    "We can verify the same location in the text is now clean as follows. We won't worry about the irregular spaces since we'll later split the text into sentences and tokenize it anyway."
   ]
  },
  {
   "cell_type": "code",
   "execution_count": 8,
   "metadata": {
    "collapsed": false
   },
   "outputs": [
    {
     "data": {
      "text/plain": [
       "\"hat the baby does.\\n Hyowon Gweon: See this?  Did you see that?  Cool. See this one?  Wow.\\nLaura Schulz: Told you. \\n HG: See this one?  Hey Clara, this one's for you. You \""
      ]
     },
     "execution_count": 8,
     "metadata": {},
     "output_type": "execute_result"
    }
   ],
   "source": [
    "i = input_text_noparens.find(\"Hyowon Gweon: See this?\")\n",
    "input_text_noparens[i-20:i+150]"
   ]
  },
  {
   "cell_type": "markdown",
   "metadata": {},
   "source": [
    "Now, let's attempt to remove speakers' names that occur at the beginning of a line, by deleting pieces of the form \"`<up to 20 characters>:`\", as shown in this example. Of course, this is an imperfect heuristic. "
   ]
  },
  {
   "cell_type": "code",
   "execution_count": 9,
   "metadata": {
    "collapsed": false
   },
   "outputs": [
    {
     "data": {
      "text/plain": [
       "[\"Here are two reasons companies fail: they only do more of the same, or they only do what's new\",\n",
       " 'To me the real, real solution to quality growth is figuring out the balance between two activities: exploration and exploitation',\n",
       " ' Both are necessary, but it can be too much of a good thing',\n",
       " 'Consider Facit',\n",
       " \" I'm actually old enough to remember them\"]"
      ]
     },
     "execution_count": 9,
     "metadata": {},
     "output_type": "execute_result"
    }
   ],
   "source": [
    "sentences_strings_ted = []\n",
    "for line in input_text_noparens.split('\\n'):\n",
    "    m = re.match(r'^(?:(?P<precolon>[^:]{,20}):)?(?P<postcolon>.*)$', line)\n",
    "    sentences_strings_ted.extend(sent for sent in m.groupdict()['postcolon'].split('.') if sent)\n",
    "\n",
    "# Uncomment if you need to save some RAM: these strings are about 50MB.\n",
    "# del input_text, input_text_noparens\n",
    "\n",
    "# Let's view the first few:\n",
    "sentences_strings_ted[:5]"
   ]
  },
  {
   "cell_type": "markdown",
   "metadata": {},
   "source": [
    "Now that we have sentences, we're ready to tokenize each of them into words. This tokenization is imperfect, of course. For instance, how many tokens is \"can't\", and where/how do we split it? We'll take the simplest naive approach of splitting on spaces. Before splitting, we remove non-alphanumeric characters, such as punctuation. You may want to consider the following question: why do we replace these characters with spaces rather than deleting them? Think of a case where this yields a different answer."
   ]
  },
  {
   "cell_type": "code",
   "execution_count": 10,
   "metadata": {
    "collapsed": true
   },
   "outputs": [],
   "source": [
    "sentences_ted = []\n",
    "for sent_str in sentences_strings_ted:\n",
    "    tokens = re.sub(r\"[^a-z0-9]+\", \" \", sent_str.lower()).split()\n",
    "    sentences_ted.append(tokens)"
   ]
  },
  {
   "cell_type": "markdown",
   "metadata": {},
   "source": [
    "Two sample processed sentences:"
   ]
  },
  {
   "cell_type": "code",
   "execution_count": 11,
   "metadata": {
    "collapsed": false
   },
   "outputs": [
    {
     "data": {
      "text/plain": [
       "266694"
      ]
     },
     "execution_count": 11,
     "metadata": {},
     "output_type": "execute_result"
    }
   ],
   "source": [
    "len(sentences_ted)"
   ]
  },
  {
   "cell_type": "code",
   "execution_count": 12,
   "metadata": {
    "collapsed": false
   },
   "outputs": [
    {
     "name": "stdout",
     "output_type": "stream",
     "text": [
      "['here', 'are', 'two', 'reasons', 'companies', 'fail', 'they', 'only', 'do', 'more', 'of', 'the', 'same', 'or', 'they', 'only', 'do', 'what', 's', 'new']\n",
      "['to', 'me', 'the', 'real', 'real', 'solution', 'to', 'quality', 'growth', 'is', 'figuring', 'out', 'the', 'balance', 'between', 'two', 'activities', 'exploration', 'and', 'exploitation']\n"
     ]
    }
   ],
   "source": [
    "print(sentences_ted[0])\n",
    "print(sentences_ted[1])"
   ]
  },
  {
   "cell_type": "markdown",
   "metadata": {},
   "source": [
    "### Part 2: Word Frequencies"
   ]
  },
  {
   "cell_type": "markdown",
   "metadata": {},
   "source": [
    "If you store the counts of the top 1000 words in a list called `counts_ted_top1000`, the code below will plot the histogram requested in the writeup."
   ]
  },
  {
   "cell_type": "code",
   "execution_count": 13,
   "metadata": {
    "collapsed": true
   },
   "outputs": [],
   "source": [
    "from collections import Counter\n",
    "from itertools import chain"
   ]
  },
  {
   "cell_type": "code",
   "execution_count": 14,
   "metadata": {
    "collapsed": true
   },
   "outputs": [],
   "source": [
    "words_top_ted, counts_ted_top1000 = zip(*Counter(chain.from_iterable(sentences_ted)).most_common(1000))"
   ]
  },
  {
   "cell_type": "markdown",
   "metadata": {},
   "source": [
    "Plot distribution of top-1000 words"
   ]
  },
  {
   "cell_type": "code",
   "execution_count": 15,
   "metadata": {
    "collapsed": false
   },
   "outputs": [
    {
     "data": {
      "text/html": [
       "\n",
       "\n",
       "    <div class=\"bk-root\">\n",
       "        <div class=\"bk-plotdiv\" id=\"af6db285-7520-42d8-beb6-bd5d2ca9f430\"></div>\n",
       "    </div>\n",
       "<script type=\"text/javascript\">\n",
       "  \n",
       "  (function(global) {\n",
       "    function now() {\n",
       "      return new Date();\n",
       "    }\n",
       "  \n",
       "    var force = false;\n",
       "  \n",
       "    if (typeof (window._bokeh_onload_callbacks) === \"undefined\" || force === true) {\n",
       "      window._bokeh_onload_callbacks = [];\n",
       "      window._bokeh_is_loading = undefined;\n",
       "    }\n",
       "  \n",
       "  \n",
       "    \n",
       "    if (typeof (window._bokeh_timeout) === \"undefined\" || force === true) {\n",
       "      window._bokeh_timeout = Date.now() + 0;\n",
       "      window._bokeh_failed_load = false;\n",
       "    }\n",
       "  \n",
       "    var NB_LOAD_WARNING = {'data': {'text/html':\n",
       "       \"<div style='background-color: #fdd'>\\n\"+\n",
       "       \"<p>\\n\"+\n",
       "       \"BokehJS does not appear to have successfully loaded. If loading BokehJS from CDN, this \\n\"+\n",
       "       \"may be due to a slow or bad network connection. Possible fixes:\\n\"+\n",
       "       \"</p>\\n\"+\n",
       "       \"<ul>\\n\"+\n",
       "       \"<li>re-rerun `output_notebook()` to attempt to load from CDN again, or</li>\\n\"+\n",
       "       \"<li>use INLINE resources instead, as so:</li>\\n\"+\n",
       "       \"</ul>\\n\"+\n",
       "       \"<code>\\n\"+\n",
       "       \"from bokeh.resources import INLINE\\n\"+\n",
       "       \"output_notebook(resources=INLINE)\\n\"+\n",
       "       \"</code>\\n\"+\n",
       "       \"</div>\"}};\n",
       "  \n",
       "    function display_loaded() {\n",
       "      if (window.Bokeh !== undefined) {\n",
       "        document.getElementById(\"af6db285-7520-42d8-beb6-bd5d2ca9f430\").textContent = \"BokehJS successfully loaded.\";\n",
       "      } else if (Date.now() < window._bokeh_timeout) {\n",
       "        setTimeout(display_loaded, 100)\n",
       "      }\n",
       "    }\n",
       "  \n",
       "    function run_callbacks() {\n",
       "      window._bokeh_onload_callbacks.forEach(function(callback) { callback() });\n",
       "      delete window._bokeh_onload_callbacks\n",
       "      console.info(\"Bokeh: all callbacks have finished\");\n",
       "    }\n",
       "  \n",
       "    function load_libs(js_urls, callback) {\n",
       "      window._bokeh_onload_callbacks.push(callback);\n",
       "      if (window._bokeh_is_loading > 0) {\n",
       "        console.log(\"Bokeh: BokehJS is being loaded, scheduling callback at\", now());\n",
       "        return null;\n",
       "      }\n",
       "      if (js_urls == null || js_urls.length === 0) {\n",
       "        run_callbacks();\n",
       "        return null;\n",
       "      }\n",
       "      console.log(\"Bokeh: BokehJS not loaded, scheduling load and callback at\", now());\n",
       "      window._bokeh_is_loading = js_urls.length;\n",
       "      for (var i = 0; i < js_urls.length; i++) {\n",
       "        var url = js_urls[i];\n",
       "        var s = document.createElement('script');\n",
       "        s.src = url;\n",
       "        s.async = false;\n",
       "        s.onreadystatechange = s.onload = function() {\n",
       "          window._bokeh_is_loading--;\n",
       "          if (window._bokeh_is_loading === 0) {\n",
       "            console.log(\"Bokeh: all BokehJS libraries loaded\");\n",
       "            run_callbacks()\n",
       "          }\n",
       "        };\n",
       "        s.onerror = function() {\n",
       "          console.warn(\"failed to load library \" + url);\n",
       "        };\n",
       "        console.log(\"Bokeh: injecting script tag for BokehJS library: \", url);\n",
       "        document.getElementsByTagName(\"head\")[0].appendChild(s);\n",
       "      }\n",
       "    };var element = document.getElementById(\"af6db285-7520-42d8-beb6-bd5d2ca9f430\");\n",
       "    if (element == null) {\n",
       "      console.log(\"Bokeh: ERROR: autoload.js configured with elementid 'af6db285-7520-42d8-beb6-bd5d2ca9f430' but no matching script tag was found. \")\n",
       "      return false;\n",
       "    }\n",
       "  \n",
       "    var js_urls = [];\n",
       "  \n",
       "    var inline_js = [\n",
       "      function(Bokeh) {\n",
       "        (function() {\n",
       "          var fn = function() {\n",
       "            var docs_json = {\"74a6c804-e3fc-4dc4-bb0a-bab528909413\":{\"roots\":{\"references\":[{\"attributes\":{\"below\":[{\"id\":\"ee347780-c191-4fb0-817c-4a9aada6c404\",\"type\":\"LinearAxis\"}],\"left\":[{\"id\":\"b4d9fc47-a488-4780-b79f-8cb1ea99f056\",\"type\":\"LinearAxis\"}],\"renderers\":[{\"id\":\"ee347780-c191-4fb0-817c-4a9aada6c404\",\"type\":\"LinearAxis\"},{\"id\":\"39ec34d2-1f53-46ed-8464-2a79425aaa3c\",\"type\":\"Grid\"},{\"id\":\"b4d9fc47-a488-4780-b79f-8cb1ea99f056\",\"type\":\"LinearAxis\"},{\"id\":\"054b8bd3-b308-4c2f-ad33-2f41cecf84e2\",\"type\":\"Grid\"},{\"id\":\"4f9b50b2-055b-48c0-a2c6-9a616e70985d\",\"type\":\"GlyphRenderer\"}],\"title\":{\"id\":\"bc0c20ce-49f5-4ef9-87e9-bda19c311f98\",\"type\":\"Title\"},\"tool_events\":{\"id\":\"d6069e26-e3af-4331-92f1-0688ed66b611\",\"type\":\"ToolEvents\"},\"toolbar\":{\"id\":\"5fbae1ae-7817-4af4-86ae-967365229de5\",\"type\":\"Toolbar\"},\"toolbar_location\":\"above\",\"x_range\":{\"id\":\"e7d151e5-5de9-4b7c-b0b7-36e58779365c\",\"type\":\"DataRange1d\"},\"y_range\":{\"id\":\"0c0ecabb-d479-46bb-907a-62f8dd1b7ee6\",\"type\":\"DataRange1d\"}},\"id\":\"97828f28-64e6-4114-abbd-5fbc34a88bb7\",\"subtype\":\"Figure\",\"type\":\"Plot\"},{\"attributes\":{\"callback\":null,\"column_names\":[\"left\",\"right\",\"top\"],\"data\":{\"left\":{\"__ndarray__\":\"AAAAAABAeUB7FK5H4VqjQHsUrkfhxrFAuB6F61HguUB7FK5H4fzAQJqZmZmZCcVAuB6F61EWyUDXo3A9CiPNQHsUrkfhl9BACtejcD2e0kCamZmZmaTUQClcj8L1qtZAuB6F61Gx2EBI4XoUrrfaQNejcD0KvtxAZ2ZmZmbE3kB7FK5HYWXgQMP1KFyPaOFACtejcL1r4kBSuB6F627jQJqZmZkZcuRA4XoUrkd15UApXI/CdXjmQHE9Cteje+dAuB6F69F+6EAAAAAAAILpQEjhehQuhepAkML1KFyI60DXo3A9iovsQB+F61G4ju1AZ2ZmZuaR7kCuR+F6FJXvQHsUrkchTPBAH4XrUbjN8EDD9ShcT0/xQGdmZmbm0PFACtejcH1S8kCuR+F6FNTyQFK4HoWrVfNA9ihcj0LX80CamZmZ2Vj0QD4K16Nw2vRA4XoUrgdc9UCF61G4nt31QClcj8I1X/ZAzczMzMzg9kBxPQrXY2L3QBWuR+H64/dAuB6F65Fl+EBcj8L1KOf4QAAAAADAaPlApHA9Clfq+UBI4XoU7mv6QOxRuB6F7fpAkML1KBxv+0AzMzMzs/D7QNejcD1KcvxAexSuR+Hz/EAfhetReHX9QMP1KFwP9/1AZ2ZmZqZ4/kAK16NwPfr+QK5H4XrUe/9AUrgehWv9/0B7FK5HgT8AQc3MzMxMgABBH4XrURjBAEFxPQrX4wEBQcP1KFyvQgFBFa5H4XqDAUFnZmZmRsQBQbgehesRBQJBCtejcN1FAkFcj8L1qIYCQa5H4Xp0xwJBAAAAAEAIA0FSuB6FC0kDQaRwPQrXiQNB9ihcj6LKA0FI4XoUbgsEQZqZmZk5TARB7FG4HgWNBEE+Ctej0M0EQZDC9SicDgVB4XoUrmdPBUEzMzMzM5AFQYXrUbj+0AVB16NwPcoRBkEpXI/ClVIGQXsUrkdhkwZBzczMzCzUBkEfhetR+BQHQXE9CtfDVQdBw/UoXI+WB0EVrkfhWtcHQWdmZmYmGAhBuB6F6/FYCEEK16NwvZkIQVyPwvWI2ghBrkfhelQbCUE=\",\"dtype\":\"float64\",\"shape\":[100]},\"right\":{\"__ndarray__\":\"exSuR+Fao0B7FK5H4caxQLgehetR4LlAexSuR+H8wECamZmZmQnFQLgehetRFslA16NwPQojzUB7FK5H4ZfQQArXo3A9ntJAmpmZmZmk1EApXI/C9arWQLgehetRsdhASOF6FK632kDXo3A9Cr7cQGdmZmZmxN5AexSuR2Fl4EDD9Shcj2jhQArXo3C9a+JAUrgehetu40CamZmZGXLkQOF6FK5HdeVAKVyPwnV45kBxPQrXo3vnQLgehevRfuhAAAAAAACC6UBI4XoULoXqQJDC9ShciOtA16NwPYqL7EAfhetRuI7tQGdmZmbmke5ArkfhehSV70B7FK5HIUzwQB+F61G4zfBAw/UoXE9P8UBnZmZm5tDxQArXo3B9UvJArkfhehTU8kBSuB6Fq1XzQPYoXI9C1/NAmpmZmdlY9EA+CtejcNr0QOF6FK4HXPVAhetRuJ7d9UApXI/CNV/2QM3MzMzM4PZAcT0K12Ni90AVrkfh+uP3QLgeheuRZfhAXI/C9Sjn+EAAAAAAwGj5QKRwPQpX6vlASOF6FO5r+kDsUbgehe36QJDC9Sgcb/tAMzMzM7Pw+0DXo3A9SnL8QHsUrkfh8/xAH4XrUXh1/UDD9ShcD/f9QGdmZmameP5ACtejcD36/kCuR+F61Hv/QFK4HoVr/f9AexSuR4E/AEHNzMzMTIAAQR+F61EYwQBBcT0K1+MBAUHD9Shcr0IBQRWuR+F6gwFBZ2ZmZkbEAUG4HoXrEQUCQQrXo3DdRQJBXI/C9aiGAkGuR+F6dMcCQQAAAABACANBUrgehQtJA0GkcD0K14kDQfYoXI+iygNBSOF6FG4LBEGamZmZOUwEQexRuB4FjQRBPgrXo9DNBEGQwvUonA4FQeF6FK5nTwVBMzMzMzOQBUGF61G4/tAFQdejcD3KEQZBKVyPwpVSBkF7FK5HYZMGQc3MzMws1AZBH4XrUfgUB0FxPQrXw1UHQcP1KFyPlgdBFa5H4VrXB0FnZmZmJhgIQbgehevxWAhBCtejcL2ZCEFcj8L1iNoIQa5H4XpUGwlBAAAAACBcCUE=\",\"dtype\":\"float64\",\"shape\":[100]},\"top\":{\"__ndarray__\":\"50H1zNSBOT/ypb1tgHIBPwsriUb5Uew+zuTFiLI04j78kGUPxTHhPh40R25oQNY+zuTFiLI00j4pPQWW1y7APsTbB2FDRsg+JT0FltcuwD4tPQWW1y6wPi09BZbXLrA+JT0FltcuwD4tPQWW1y6gPiU9BZbXLrA+LT0FltcuoD4AAAAAAAAAADU9BZbXLqA+AAAAAAAAAAAAAAAAAAAAAAAAAAAAAAAAAAAAAAAAAAAAAAAAAAAAADU9BZbXLqA+AAAAAAAAAAAAAAAAAAAAAAAAAAAAAAAANT0FltcuoD4AAAAAAAAAAAAAAAAAAAAANT0FltcuoD4AAAAAAAAAACU9BZbXLqA+AAAAAAAAAAAlPQWW1y6gPkU9BZbXLqA+AAAAAAAAAAAlPQWW1y6gPgAAAAAAAAAAJT0FltcuoD4AAAAAAAAAAAAAAAAAAAAAAAAAAAAAAAAAAAAAAAAAAAAAAAAAAAAAJT0FltcuoD4AAAAAAAAAAAAAAAAAAAAAAAAAAAAAAAAAAAAAAAAAACU9BZbXLqA+AAAAAAAAAAAAAAAAAAAAAAAAAAAAAAAAAAAAAAAAAAAlPQWW1y6gPgAAAAAAAAAAAAAAAAAAAAAAAAAAAAAAAAAAAAAAAAAART0FltcuoD4AAAAAAAAAAAAAAAAAAAAAAAAAAAAAAAAAAAAAAAAAAAAAAAAAAAAAAAAAAAAAAAAAAAAAAAAAAAAAAAAAAAAAAAAAAAAAAAAAAAAAAAAAACU9BZbXLqA+AAAAAAAAAAAAAAAAAAAAAAAAAAAAAAAAAAAAAAAAAAAAAAAAAAAAAAAAAAAAAAAAAAAAAAAAAAAAAAAAAAAAAAAAAAAAAAAAAAAAAAAAAAAAAAAAAAAAAAAAAAAAAAAAAAAAAAAAAAAAAAAAAAAAAAAAAAAAAAAAAAAAAAAAAAAAAAAAAAAAAAAAAAAAAAAAAAAAAAAAAAAAAAAAAAAAAAAAAAAAAAAAAAAAAAAAAAAAAAAAAAAAAAAAAAAAAAAAAAAAAAAAAAAAAAAAAAAAAAAAAAAAAAAAJT0FltcuoD4=\",\"dtype\":\"float64\",\"shape\":[100]}}},\"id\":\"58fb5378-a42f-41b6-9aa5-964b49250ed2\",\"type\":\"ColumnDataSource\"},{\"attributes\":{\"plot\":null,\"text\":\"Top-1000 words distribution\"},\"id\":\"bc0c20ce-49f5-4ef9-87e9-bda19c311f98\",\"type\":\"Title\"},{\"attributes\":{\"callback\":null},\"id\":\"e7d151e5-5de9-4b7c-b0b7-36e58779365c\",\"type\":\"DataRange1d\"},{\"attributes\":{},\"id\":\"d6069e26-e3af-4331-92f1-0688ed66b611\",\"type\":\"ToolEvents\"},{\"attributes\":{\"active_drag\":\"auto\",\"active_scroll\":\"auto\",\"active_tap\":\"auto\",\"tools\":[{\"id\":\"0d523103-5d6a-495b-869b-af14c1232b1f\",\"type\":\"PanTool\"},{\"id\":\"c1d74140-ffc1-4e93-943a-2408432dc9ee\",\"type\":\"WheelZoomTool\"},{\"id\":\"3f6c69ea-2362-49d5-8b1d-81dec0195827\",\"type\":\"ResetTool\"},{\"id\":\"6af0d424-5563-4a5f-940c-c5a9b7419e73\",\"type\":\"SaveTool\"}]},\"id\":\"5fbae1ae-7817-4af4-86ae-967365229de5\",\"type\":\"Toolbar\"},{\"attributes\":{\"formatter\":{\"id\":\"78734ec2-aa2a-4d51-85e4-d06f208aa862\",\"type\":\"BasicTickFormatter\"},\"plot\":{\"id\":\"97828f28-64e6-4114-abbd-5fbc34a88bb7\",\"subtype\":\"Figure\",\"type\":\"Plot\"},\"ticker\":{\"id\":\"6039908a-f55b-4434-b7c0-0f1e59cd8f01\",\"type\":\"BasicTicker\"}},\"id\":\"ee347780-c191-4fb0-817c-4a9aada6c404\",\"type\":\"LinearAxis\"},{\"attributes\":{\"callback\":null},\"id\":\"0c0ecabb-d479-46bb-907a-62f8dd1b7ee6\",\"type\":\"DataRange1d\"},{\"attributes\":{},\"id\":\"6039908a-f55b-4434-b7c0-0f1e59cd8f01\",\"type\":\"BasicTicker\"},{\"attributes\":{\"bottom\":{\"value\":0},\"fill_alpha\":{\"value\":0.1},\"fill_color\":{\"value\":\"#1f77b4\"},\"left\":{\"field\":\"left\"},\"line_alpha\":{\"value\":0.1},\"line_color\":{\"value\":\"#1f77b4\"},\"right\":{\"field\":\"right\"},\"top\":{\"field\":\"top\"}},\"id\":\"0b31f9ac-c9dc-4210-851a-2876454a566d\",\"type\":\"Quad\"},{\"attributes\":{\"bottom\":{\"value\":0},\"fill_color\":{\"value\":\"#1f77b4\"},\"left\":{\"field\":\"left\"},\"line_color\":{\"value\":\"#555555\"},\"right\":{\"field\":\"right\"},\"top\":{\"field\":\"top\"}},\"id\":\"f92f8965-eef5-4180-8656-f3ea3067fedd\",\"type\":\"Quad\"},{\"attributes\":{\"plot\":{\"id\":\"97828f28-64e6-4114-abbd-5fbc34a88bb7\",\"subtype\":\"Figure\",\"type\":\"Plot\"},\"ticker\":{\"id\":\"6039908a-f55b-4434-b7c0-0f1e59cd8f01\",\"type\":\"BasicTicker\"}},\"id\":\"39ec34d2-1f53-46ed-8464-2a79425aaa3c\",\"type\":\"Grid\"},{\"attributes\":{\"formatter\":{\"id\":\"75934e8a-0401-4e2a-853d-759809a7775a\",\"type\":\"BasicTickFormatter\"},\"plot\":{\"id\":\"97828f28-64e6-4114-abbd-5fbc34a88bb7\",\"subtype\":\"Figure\",\"type\":\"Plot\"},\"ticker\":{\"id\":\"bcc15a45-71e5-4fd6-a22b-865b2427c039\",\"type\":\"BasicTicker\"}},\"id\":\"b4d9fc47-a488-4780-b79f-8cb1ea99f056\",\"type\":\"LinearAxis\"},{\"attributes\":{},\"id\":\"bcc15a45-71e5-4fd6-a22b-865b2427c039\",\"type\":\"BasicTicker\"},{\"attributes\":{},\"id\":\"78734ec2-aa2a-4d51-85e4-d06f208aa862\",\"type\":\"BasicTickFormatter\"},{\"attributes\":{\"dimension\":1,\"plot\":{\"id\":\"97828f28-64e6-4114-abbd-5fbc34a88bb7\",\"subtype\":\"Figure\",\"type\":\"Plot\"},\"ticker\":{\"id\":\"bcc15a45-71e5-4fd6-a22b-865b2427c039\",\"type\":\"BasicTicker\"}},\"id\":\"054b8bd3-b308-4c2f-ad33-2f41cecf84e2\",\"type\":\"Grid\"},{\"attributes\":{\"plot\":{\"id\":\"97828f28-64e6-4114-abbd-5fbc34a88bb7\",\"subtype\":\"Figure\",\"type\":\"Plot\"}},\"id\":\"0d523103-5d6a-495b-869b-af14c1232b1f\",\"type\":\"PanTool\"},{\"attributes\":{\"plot\":{\"id\":\"97828f28-64e6-4114-abbd-5fbc34a88bb7\",\"subtype\":\"Figure\",\"type\":\"Plot\"}},\"id\":\"c1d74140-ffc1-4e93-943a-2408432dc9ee\",\"type\":\"WheelZoomTool\"},{\"attributes\":{\"data_source\":{\"id\":\"58fb5378-a42f-41b6-9aa5-964b49250ed2\",\"type\":\"ColumnDataSource\"},\"glyph\":{\"id\":\"f92f8965-eef5-4180-8656-f3ea3067fedd\",\"type\":\"Quad\"},\"hover_glyph\":null,\"nonselection_glyph\":{\"id\":\"0b31f9ac-c9dc-4210-851a-2876454a566d\",\"type\":\"Quad\"},\"selection_glyph\":null},\"id\":\"4f9b50b2-055b-48c0-a2c6-9a616e70985d\",\"type\":\"GlyphRenderer\"},{\"attributes\":{\"plot\":{\"id\":\"97828f28-64e6-4114-abbd-5fbc34a88bb7\",\"subtype\":\"Figure\",\"type\":\"Plot\"}},\"id\":\"3f6c69ea-2362-49d5-8b1d-81dec0195827\",\"type\":\"ResetTool\"},{\"attributes\":{\"plot\":{\"id\":\"97828f28-64e6-4114-abbd-5fbc34a88bb7\",\"subtype\":\"Figure\",\"type\":\"Plot\"}},\"id\":\"6af0d424-5563-4a5f-940c-c5a9b7419e73\",\"type\":\"SaveTool\"},{\"attributes\":{},\"id\":\"75934e8a-0401-4e2a-853d-759809a7775a\",\"type\":\"BasicTickFormatter\"}],\"root_ids\":[\"97828f28-64e6-4114-abbd-5fbc34a88bb7\"]},\"title\":\"Bokeh Application\",\"version\":\"0.12.4\"}};\n",
       "            var render_items = [{\"docid\":\"74a6c804-e3fc-4dc4-bb0a-bab528909413\",\"elementid\":\"af6db285-7520-42d8-beb6-bd5d2ca9f430\",\"modelid\":\"97828f28-64e6-4114-abbd-5fbc34a88bb7\"}];\n",
       "            \n",
       "            Bokeh.embed.embed_items(docs_json, render_items);\n",
       "          };\n",
       "          if (document.readyState != \"loading\") fn();\n",
       "          else document.addEventListener(\"DOMContentLoaded\", fn);\n",
       "        })();\n",
       "      },\n",
       "      function(Bokeh) {\n",
       "      }\n",
       "    ];\n",
       "  \n",
       "    function run_inline_js() {\n",
       "      \n",
       "      if ((window.Bokeh !== undefined) || (force === true)) {\n",
       "        for (var i = 0; i < inline_js.length; i++) {\n",
       "          inline_js[i](window.Bokeh);\n",
       "        }if (force === true) {\n",
       "          display_loaded();\n",
       "        }} else if (Date.now() < window._bokeh_timeout) {\n",
       "        setTimeout(run_inline_js, 100);\n",
       "      } else if (!window._bokeh_failed_load) {\n",
       "        console.log(\"Bokeh: BokehJS failed to load within specified timeout.\");\n",
       "        window._bokeh_failed_load = true;\n",
       "      } else if (force !== true) {\n",
       "        var cell = $(document.getElementById(\"af6db285-7520-42d8-beb6-bd5d2ca9f430\")).parents('.cell').data().cell;\n",
       "        cell.output_area.append_execute_result(NB_LOAD_WARNING)\n",
       "      }\n",
       "  \n",
       "    }\n",
       "  \n",
       "    if (window._bokeh_is_loading === 0) {\n",
       "      console.log(\"Bokeh: BokehJS loaded, going straight to plotting\");\n",
       "      run_inline_js();\n",
       "    } else {\n",
       "      load_libs(js_urls, function() {\n",
       "        console.log(\"Bokeh: BokehJS plotting callback run at\", now());\n",
       "        run_inline_js();\n",
       "      });\n",
       "    }\n",
       "  }(this));\n",
       "</script>"
      ]
     },
     "metadata": {},
     "output_type": "display_data"
    }
   ],
   "source": [
    "hist, edges = np.histogram(counts_ted_top1000, density=True, bins=100, normed=True)\n",
    "\n",
    "p = figure(tools=\"pan,wheel_zoom,reset,save\",\n",
    "           toolbar_location=\"above\",\n",
    "           title=\"Top-1000 words distribution\")\n",
    "p.quad(top=hist, bottom=0, left=edges[:-1], right=edges[1:], line_color=\"#555555\")\n",
    "show(p)"
   ]
  },
  {
   "cell_type": "markdown",
   "metadata": {},
   "source": [
    "### Part 3: Train Word2Vec"
   ]
  },
  {
   "cell_type": "code",
   "execution_count": 16,
   "metadata": {
    "collapsed": false
   },
   "outputs": [
    {
     "ename": "ModuleNotFoundError",
     "evalue": "No module named 'gensim'",
     "output_type": "error",
     "traceback": [
      "\u001b[0;31m---------------------------------------------------------------------------\u001b[0m",
      "\u001b[0;31mModuleNotFoundError\u001b[0m                       Traceback (most recent call last)",
      "\u001b[0;32m<ipython-input-16-042ab788c51f>\u001b[0m in \u001b[0;36m<module>\u001b[0;34m()\u001b[0m\n\u001b[0;32m----> 1\u001b[0;31m \u001b[1;32mfrom\u001b[0m \u001b[0mgensim\u001b[0m\u001b[1;33m.\u001b[0m\u001b[0mmodels\u001b[0m \u001b[1;32mimport\u001b[0m \u001b[0mWord2Vec\u001b[0m\u001b[1;33m\u001b[0m\u001b[0m\n\u001b[0m",
      "\u001b[0;31mModuleNotFoundError\u001b[0m: No module named 'gensim'"
     ]
    }
   ],
   "source": [
    "from gensim.models import Word2Vec"
   ]
  },
  {
   "cell_type": "code",
   "execution_count": null,
   "metadata": {
    "collapsed": true
   },
   "outputs": [],
   "source": [
    "model_ted = Word2Vec(sentences_ted, min_count=10)"
   ]
  },
  {
   "cell_type": "markdown",
   "metadata": {},
   "source": [
    "### Part 4: Ted Learnt Representations"
   ]
  },
  {
   "cell_type": "markdown",
   "metadata": {},
   "source": [
    "Finding similar words: (see gensim docs for more functionality of `most_similar`)"
   ]
  },
  {
   "cell_type": "code",
   "execution_count": null,
   "metadata": {
    "collapsed": false
   },
   "outputs": [],
   "source": [
    "model_ted.most_similar(\"man\")"
   ]
  },
  {
   "cell_type": "code",
   "execution_count": null,
   "metadata": {
    "collapsed": false
   },
   "outputs": [],
   "source": [
    "model_ted.most_similar(\"computer\")"
   ]
  },
  {
   "cell_type": "code",
   "execution_count": null,
   "metadata": {
    "collapsed": false
   },
   "outputs": [],
   "source": [
    "model_ted.most_similar(\"public\")"
   ]
  },
  {
   "cell_type": "markdown",
   "metadata": {},
   "source": [
    "#### t-SNE visualization\n",
    "To use the t-SNE code below, first put a list of the top 1000 words (as strings) into a variable `words_top_ted`. The following code gets the corresponding vectors from the model, assuming it's called `model_ted`:"
   ]
  },
  {
   "cell_type": "code",
   "execution_count": null,
   "metadata": {
    "collapsed": true
   },
   "outputs": [],
   "source": [
    "# This assumes words_top_ted is a list of strings, the top 1000 words\n",
    "words_top_vec_ted = model_ted[words_top_ted]"
   ]
  },
  {
   "cell_type": "code",
   "execution_count": null,
   "metadata": {
    "collapsed": true
   },
   "outputs": [],
   "source": [
    "from sklearn.manifold import TSNE\n",
    "tsne = TSNE(n_components=2, random_state=0)\n",
    "words_top_ted_tsne = tsne.fit_transform(words_top_vec_ted)"
   ]
  },
  {
   "cell_type": "code",
   "execution_count": null,
   "metadata": {
    "collapsed": false
   },
   "outputs": [],
   "source": [
    "p = figure(tools=\"pan,wheel_zoom,reset,save\",\n",
    "           toolbar_location=\"above\",\n",
    "           title=\"word2vec T-SNE for most common words\")\n",
    "\n",
    "source = ColumnDataSource(data=dict(x1=words_top_ted_tsne[:,0],\n",
    "                                    x2=words_top_ted_tsne[:,1],\n",
    "                                    names=words_top_ted))\n",
    "\n",
    "p.scatter(x=\"x1\", y=\"x2\", size=8, source=source)\n",
    "\n",
    "labels = LabelSet(x=\"x1\", y=\"x2\", text=\"names\", y_offset=6,\n",
    "                  text_font_size=\"8pt\", text_color=\"#555555\",\n",
    "                  source=source, text_align='center')\n",
    "p.add_layout(labels)\n",
    "\n",
    "show(p)"
   ]
  },
  {
   "cell_type": "markdown",
   "metadata": {},
   "source": [
    "### Part 5: Wiki Learnt Representations"
   ]
  },
  {
   "cell_type": "markdown",
   "metadata": {},
   "source": [
    "Download dataset"
   ]
  },
  {
   "cell_type": "code",
   "execution_count": null,
   "metadata": {
    "collapsed": true
   },
   "outputs": [],
   "source": [
    "if not os.path.isfile('wikitext-103-raw-v1.zip'):\n",
    "    urllib.request.urlretrieve(\"https://s3.amazonaws.com/research.metamind.io/wikitext/wikitext-103-raw-v1.zip\", filename=\"wikitext-103-raw-v1.zip\")"
   ]
  },
  {
   "cell_type": "code",
   "execution_count": null,
   "metadata": {
    "collapsed": true
   },
   "outputs": [],
   "source": [
    "with zipfile.ZipFile('wikitext-103-raw-v1.zip', 'r') as z:\n",
    "    input_text = str(z.open('wikitext-103-raw/wiki.train.raw', 'r').read(), encoding='utf-8') # Thanks Robert Bastian"
   ]
  },
  {
   "cell_type": "markdown",
   "metadata": {},
   "source": [
    "Preprocess sentences (note that it's important to remove small sentences for performance)"
   ]
  },
  {
   "cell_type": "code",
   "execution_count": null,
   "metadata": {
    "collapsed": true
   },
   "outputs": [],
   "source": [
    "sentences_wiki = []\n",
    "for line in input_text.split('\\n'):\n",
    "    s = [x for x in line.split('.') if x and len(x.split()) >= 5]\n",
    "    sentences_wiki.extend(s)\n",
    "    \n",
    "for s_i in range(len(sentences_wiki)):\n",
    "    sentences_wiki[s_i] = re.sub(\"[^a-z]\", \" \", sentences_wiki[s_i].lower())\n",
    "    sentences_wiki[s_i] = re.sub(r'\\([^)]*\\)', '', sentences_wiki[s_i])\n",
    "del input_text"
   ]
  },
  {
   "cell_type": "code",
   "execution_count": null,
   "metadata": {
    "collapsed": false
   },
   "outputs": [],
   "source": [
    "# sample 1/5 of the data\n",
    "shuffle(sentences_wiki)\n",
    "print(len(sentences_wiki))\n",
    "sentences_wiki = sentences_wiki[:int(len(sentences_wiki)/5)]\n",
    "print(len(sentences_wiki))\n",
    "\n",
    "print(sentences_ted[0])"
   ]
  },
  {
   "cell_type": "markdown",
   "metadata": {},
   "source": [
    "Now, repeat all the same steps that you performed above. You should be able to reuse essentially all the code."
   ]
  },
  {
   "cell_type": "code",
   "execution_count": null,
   "metadata": {
    "collapsed": false
   },
   "outputs": [],
   "source": [
    "print(sentences_wiki[0])\n",
    "print(sentences_wiki[1])\n",
    "print(sentences_wiki[2])"
   ]
  },
  {
   "cell_type": "markdown",
   "metadata": {},
   "source": [
    "### Word frequences"
   ]
  },
  {
   "cell_type": "code",
   "execution_count": 17,
   "metadata": {
    "collapsed": false
   },
   "outputs": [
    {
     "ename": "NameError",
     "evalue": "name 'sentences_wiki' is not defined",
     "output_type": "error",
     "traceback": [
      "\u001b[0;31m---------------------------------------------------------------------------\u001b[0m",
      "\u001b[0;31mNameError\u001b[0m                                 Traceback (most recent call last)",
      "\u001b[0;32m<ipython-input-17-cd9544ccc9a3>\u001b[0m in \u001b[0;36m<module>\u001b[0;34m()\u001b[0m\n\u001b[0;32m----> 1\u001b[0;31m \u001b[0mwords_top_wiki\u001b[0m\u001b[1;33m,\u001b[0m \u001b[0mcounts_wiki_top1000\u001b[0m \u001b[1;33m=\u001b[0m \u001b[0mzip\u001b[0m\u001b[1;33m(\u001b[0m\u001b[1;33m*\u001b[0m\u001b[0mCounter\u001b[0m\u001b[1;33m(\u001b[0m\u001b[0mchain\u001b[0m\u001b[1;33m.\u001b[0m\u001b[0mfrom_iterable\u001b[0m\u001b[1;33m(\u001b[0m\u001b[0msentences_wiki\u001b[0m\u001b[1;33m)\u001b[0m\u001b[1;33m)\u001b[0m\u001b[1;33m.\u001b[0m\u001b[0mmost_common\u001b[0m\u001b[1;33m(\u001b[0m\u001b[1;36m1000\u001b[0m\u001b[1;33m)\u001b[0m\u001b[1;33m)\u001b[0m\u001b[1;33m\u001b[0m\u001b[0m\n\u001b[0m",
      "\u001b[0;31mNameError\u001b[0m: name 'sentences_wiki' is not defined"
     ]
    }
   ],
   "source": [
    "words_top_wiki, counts_wiki_top1000 = zip(*Counter(chain.from_iterable(sentences_wiki)).most_common(1000))"
   ]
  },
  {
   "cell_type": "code",
   "execution_count": 18,
   "metadata": {
    "collapsed": false
   },
   "outputs": [
    {
     "ename": "NameError",
     "evalue": "name 'words_top_wiki' is not defined",
     "output_type": "error",
     "traceback": [
      "\u001b[0;31m---------------------------------------------------------------------------\u001b[0m",
      "\u001b[0;31mNameError\u001b[0m                                 Traceback (most recent call last)",
      "\u001b[0;32m<ipython-input-18-0dccd3f4beaf>\u001b[0m in \u001b[0;36m<module>\u001b[0;34m()\u001b[0m\n\u001b[0;32m----> 1\u001b[0;31m \u001b[0mprint\u001b[0m \u001b[1;33m(\u001b[0m\u001b[0mwords_top_wiki\u001b[0m\u001b[1;33m[\u001b[0m\u001b[1;33m:\u001b[0m\u001b[1;36m10\u001b[0m\u001b[1;33m]\u001b[0m\u001b[1;33m,\u001b[0m \u001b[0mcounts_wiki_top1000\u001b[0m\u001b[1;33m[\u001b[0m\u001b[1;33m:\u001b[0m\u001b[1;36m10\u001b[0m\u001b[1;33m]\u001b[0m\u001b[1;33m)\u001b[0m\u001b[1;33m\u001b[0m\u001b[0m\n\u001b[0m",
      "\u001b[0;31mNameError\u001b[0m: name 'words_top_wiki' is not defined"
     ]
    }
   ],
   "source": [
    "print (words_top_wiki[:10], counts_wiki_top1000[:10])"
   ]
  },
  {
   "cell_type": "code",
   "execution_count": 19,
   "metadata": {
    "collapsed": false
   },
   "outputs": [
    {
     "ename": "NameError",
     "evalue": "name 'counts_wiki_top1000' is not defined",
     "output_type": "error",
     "traceback": [
      "\u001b[0;31m---------------------------------------------------------------------------\u001b[0m",
      "\u001b[0;31mNameError\u001b[0m                                 Traceback (most recent call last)",
      "\u001b[0;32m<ipython-input-19-afd99050d5b1>\u001b[0m in \u001b[0;36m<module>\u001b[0;34m()\u001b[0m\n\u001b[0;32m----> 1\u001b[0;31m \u001b[0mhist\u001b[0m\u001b[1;33m,\u001b[0m \u001b[0medges\u001b[0m \u001b[1;33m=\u001b[0m \u001b[0mnp\u001b[0m\u001b[1;33m.\u001b[0m\u001b[0mhistogram\u001b[0m\u001b[1;33m(\u001b[0m\u001b[0mcounts_wiki_top1000\u001b[0m\u001b[1;33m,\u001b[0m \u001b[0mdensity\u001b[0m\u001b[1;33m=\u001b[0m\u001b[1;32mTrue\u001b[0m\u001b[1;33m,\u001b[0m \u001b[0mbins\u001b[0m\u001b[1;33m=\u001b[0m\u001b[1;36m100\u001b[0m\u001b[1;33m,\u001b[0m \u001b[0mnormed\u001b[0m\u001b[1;33m=\u001b[0m\u001b[1;32mTrue\u001b[0m\u001b[1;33m)\u001b[0m\u001b[1;33m\u001b[0m\u001b[0m\n\u001b[0m\u001b[1;32m      2\u001b[0m \u001b[1;33m\u001b[0m\u001b[0m\n\u001b[1;32m      3\u001b[0m p = figure(tools=\"pan,wheel_zoom,reset,save\",\n\u001b[1;32m      4\u001b[0m            \u001b[0mtoolbar_location\u001b[0m\u001b[1;33m=\u001b[0m\u001b[1;34m\"above\"\u001b[0m\u001b[1;33m,\u001b[0m\u001b[1;33m\u001b[0m\u001b[0m\n\u001b[1;32m      5\u001b[0m            title=\"Top-1000 words distribution\")\n",
      "\u001b[0;31mNameError\u001b[0m: name 'counts_wiki_top1000' is not defined"
     ]
    }
   ],
   "source": [
    "hist, edges = np.histogram(counts_wiki_top1000, density=True, bins=100, normed=True)\n",
    "\n",
    "p = figure(tools=\"pan,wheel_zoom,reset,save\",\n",
    "           toolbar_location=\"above\",\n",
    "           title=\"Top-1000 words distribution\")\n",
    "p.quad(top=hist, bottom=0, left=edges[:-1], right=edges[1:], line_color=\"#555555\")\n",
    "show(p)"
   ]
  },
  {
   "cell_type": "markdown",
   "metadata": {},
   "source": [
    "### Word2Vec"
   ]
  },
  {
   "cell_type": "code",
   "execution_count": null,
   "metadata": {
    "collapsed": true
   },
   "outputs": [],
   "source": [
    "model_wiki = Word2Vec(min_count=10, sentences = sentences_wiki)"
   ]
  },
  {
   "cell_type": "markdown",
   "metadata": {},
   "source": [
    "P.4 Learnt Representation"
   ]
  },
  {
   "cell_type": "code",
   "execution_count": null,
   "metadata": {
    "collapsed": false
   },
   "outputs": [],
   "source": [
    "model_wiki.most_similar('man')"
   ]
  },
  {
   "cell_type": "code",
   "execution_count": null,
   "metadata": {
    "collapsed": false
   },
   "outputs": [],
   "source": [
    "model_wiki.most_similar('computer')"
   ]
  },
  {
   "cell_type": "code",
   "execution_count": null,
   "metadata": {
    "collapsed": false,
    "scrolled": false
   },
   "outputs": [],
   "source": [
    "model_wiki.most_similar(positive=['book', 'character'], negative=['adult'])"
   ]
  },
  {
   "cell_type": "markdown",
   "metadata": {},
   "source": [
    "#### t-SNE visualization"
   ]
  },
  {
   "cell_type": "code",
   "execution_count": null,
   "metadata": {
    "collapsed": true
   },
   "outputs": [],
   "source": [
    "# This assumes words_top_wiki is a list of strings, the top 1000 words\n",
    "words_top_vec_wiki = model_wiki[words_top_wiki]\n",
    "\n",
    "tsne = TSNE(n_components=2, random_state=0)\n",
    "words_top_wiki_tsne = tsne.fit_transform(words_top_vec_wiki)"
   ]
  },
  {
   "cell_type": "code",
   "execution_count": null,
   "metadata": {
    "collapsed": false
   },
   "outputs": [],
   "source": [
    "p = figure(tools=\"pan,wheel_zoom,reset,save\",\n",
    "           toolbar_location=\"above\",\n",
    "           title=\"word2vec T-SNE for most common words\")\n",
    "\n",
    "source = ColumnDataSource(data=dict(x1=words_top_wiki_tsne[:,0],\n",
    "                                    x2=words_top_wiki_tsne[:,1],\n",
    "                                    names=words_top_wiki))\n",
    "\n",
    "p.scatter(x=\"x1\", y=\"x2\", size=8, source=source)\n",
    "\n",
    "labels = LabelSet(x=\"x1\", y=\"x2\", text=\"names\", y_offset=6,\n",
    "                  text_font_size=\"8pt\", text_color=\"#555555\",\n",
    "                  source=source, text_align='center')\n",
    "p.add_layout(labels)\n",
    "\n",
    "show(p)"
   ]
  },
  {
   "cell_type": "code",
   "execution_count": null,
   "metadata": {
    "collapsed": true
   },
   "outputs": [],
   "source": []
  }
 ],
 "metadata": {
  "anaconda-cloud": {},
  "kernelspec": {
   "display_name": "Python 3",
   "language": "python",
   "name": "python3"
  },
  "language_info": {
   "codemirror_mode": {
    "name": "ipython",
    "version": 3
   },
   "file_extension": ".py",
   "mimetype": "text/x-python",
   "name": "python",
   "nbconvert_exporter": "python",
   "pygments_lexer": "ipython3",
   "version": "3.6.0"
  }
 },
 "nbformat": 4,
 "nbformat_minor": 1
}
