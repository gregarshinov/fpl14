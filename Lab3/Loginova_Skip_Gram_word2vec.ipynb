{
 "cells": [
  {
   "cell_type": "markdown",
   "metadata": {},
   "source": [
    "# Skip-gram word2vec\n",
    "\n",
    "In this notebook, I'll lead you through using TensorFlow to implement the word2vec algorithm using the skip-gram architecture. By implementing this, you'll learn about embedding words for use in natural language processing. This will come in handy when dealing with things like machine translation.\n",
    "\n",
    "## Readings\n",
    "\n",
    "Here are the resources I used to build this notebook. I suggest reading these either beforehand or while you're working on this material.\n",
    "\n",
    "* A really good [conceptual overview](http://mccormickml.com/2016/04/19/word2vec-tutorial-the-skip-gram-model/) of word2vec from Chris McCormick \n",
    "* [First word2vec paper](https://arxiv.org/pdf/1301.3781.pdf) from Mikolov et al.\n",
    "* [NIPS paper](http://papers.nips.cc/paper/5021-distributed-representations-of-words-and-phrases-and-their-compositionality.pdf) with improvements for word2vec also from Mikolov et al.\n",
    "* An [implementation of word2vec](http://www.thushv.com/natural_language_processing/word2vec-part-1-nlp-with-deep-learning-with-tensorflow-skip-gram/) from Thushan Ganegedara\n",
    "* TensorFlow [word2vec tutorial](https://www.tensorflow.org/tutorials/word2vec)\n",
    "\n",
    "## Word embeddings\n",
    "\n",
    "When you're dealing with words in text, you end up with tens of thousands of classes to predict, one for each word. Trying to one-hot encode these words is massively inefficient, you'll have one element set to 1 and the other 50,000 set to 0. The matrix multiplication going into the first hidden layer will have almost all of the resulting values be zero. This a huge waste of computation. \n",
    "\n",
    "![one-hot encodings](assets/one_hot_encoding.png)\n",
    "\n",
    "To solve this problem and greatly increase the efficiency of our networks, we use what are called embeddings. Embeddings are just a fully connected layer like you've seen before. We call this layer the embedding layer and the weights are embedding weights. We skip the multiplication into the embedding layer by instead directly grabbing the hidden layer values from the weight matrix. We can do this because the multiplication of a one-hot encoded vector with a matrix returns the row of the matrix corresponding the index of the \"on\" input unit.\n",
    "\n",
    "![lookup](assets/lookup_matrix.png)\n",
    "\n",
    "Instead of doing the matrix multiplication, we use the weight matrix as a lookup table. We encode the words as integers, for example \"heart\" is encoded as 958, \"mind\" as 18094. Then to get hidden layer values for \"heart\", you just take the 958th row of the embedding matrix. This process is called an **embedding lookup** and the number of hidden units is the **embedding dimension**.\n",
    "\n",
    "<img src='assets/tokenize_lookup.png' width=500>\n",
    " \n",
    "There is nothing magical going on here. The embedding lookup table is just a weight matrix. The embedding layer is just a hidden layer. The lookup is just a shortcut for the matrix multiplication. The lookup table is trained just like any weight matrix as well.\n",
    "\n",
    "Embeddings aren't only used for words of course. You can use them for any model where you have a massive number of classes. A particular type of model called **Word2Vec** uses the embedding layer to find vector representations of words that contain semantic meaning.\n",
    "\n"
   ]
  },
  {
   "cell_type": "markdown",
   "metadata": {},
   "source": [
    "## Word2Vec\n",
    "\n",
    "The word2vec algorithm finds much more efficient representations by finding vectors that represent the words. These vectors also contain semantic information about the words. Words that show up in similar contexts, such as \"black\", \"white\", and \"red\" will have vectors near each other. There are two architectures for implementing word2vec, CBOW (Continuous Bag-Of-Words) and Skip-gram.\n",
    "\n",
    "<img src=\"assets/word2vec_architectures.png\" width=\"500\">\n",
    "\n",
    "In this implementation, we'll be using the skip-gram architecture because it performs better than CBOW. Here, we pass in a word and try to predict the words surrounding it in the text. In this way, we can train the network to learn representations for words that show up in similar contexts.\n",
    "\n",
    "First up, importing packages."
   ]
  },
  {
   "cell_type": "code",
   "execution_count": 1,
   "metadata": {
    "collapsed": true
   },
   "outputs": [],
   "source": [
    "import time\n",
    "\n",
    "import numpy as np\n",
    "import tensorflow as tf\n",
    "\n",
    "import utils"
   ]
  },
  {
   "cell_type": "markdown",
   "metadata": {},
   "source": [
    "Load the [text8 dataset](http://mattmahoney.net/dc/textdata.html), a file of cleaned up Wikipedia articles from Matt Mahoney. The next cell will download the data set to the `data` folder. Then you can extract it and delete the archive file to save storage space."
   ]
  },
  {
   "cell_type": "code",
   "execution_count": 2,
   "metadata": {
    "collapsed": true
   },
   "outputs": [],
   "source": [
    "from urllib.request import urlretrieve\n",
    "from os.path import isfile, isdir\n",
    "from tqdm import tqdm\n",
    "import zipfile\n",
    "\n",
    "dataset_folder_path = 'data'\n",
    "dataset_filename = 'text8.zip'\n",
    "dataset_name = 'Text8 Dataset'\n",
    "\n",
    "class DLProgress(tqdm):\n",
    "    last_block = 0\n",
    "\n",
    "    def hook(self, block_num=1, block_size=1, total_size=None):\n",
    "        self.total = total_size\n",
    "        self.update((block_num - self.last_block) * block_size)\n",
    "        self.last_block = block_num\n",
    "\n",
    "if not isfile(dataset_filename):\n",
    "    with DLProgress(unit='B', unit_scale=True, miniters=1, desc=dataset_name) as pbar:\n",
    "        urlretrieve(\n",
    "            'http://mattmahoney.net/dc/text8.zip',\n",
    "            dataset_filename,\n",
    "            pbar.hook)\n",
    "\n",
    "if not isdir(dataset_folder_path):\n",
    "    with zipfile.ZipFile(dataset_filename) as zip_ref:\n",
    "        zip_ref.extractall(dataset_folder_path)\n",
    "        \n",
    "with open('data/text8') as f:\n",
    "    text = f.read()"
   ]
  },
  {
   "cell_type": "markdown",
   "metadata": {},
   "source": [
    "## Preprocessing\n",
    "\n",
    "Here I'm fixing up the text to make training easier. This comes from the `utils` module I wrote. The `preprocess` function coverts any punctuation into tokens, so a period is changed to ` <PERIOD> `. In this data set, there aren't any periods, but it will help in other NLP problems. I'm also removing all words that show up five or fewer times in the dataset. This will greatly reduce issues due to noise in the data and improve the quality of the vector representations. If you want to write your own functions for this stuff, go for it."
   ]
  },
  {
   "cell_type": "code",
   "execution_count": 3,
   "metadata": {},
   "outputs": [
    {
     "name": "stdout",
     "output_type": "stream",
     "text": [
      "['anarchism', 'originated', 'as', 'a', 'term', 'of', 'abuse', 'first', 'used', 'against', 'early', 'working', 'class', 'radicals', 'including', 'the', 'diggers', 'of', 'the', 'english', 'revolution', 'and', 'the', 'sans', 'culottes', 'of', 'the', 'french', 'revolution', 'whilst']\n"
     ]
    }
   ],
   "source": [
    "words = utils.preprocess(text)\n",
    "print(words[:30])"
   ]
  },
  {
   "cell_type": "code",
   "execution_count": 4,
   "metadata": {
    "collapsed": true
   },
   "outputs": [],
   "source": [
    "import re\n",
    "words = re.sub(r\"[^a-z0-9]+\", \" \", text.lower()).split()"
   ]
  },
  {
   "cell_type": "code",
   "execution_count": 5,
   "metadata": {},
   "outputs": [
    {
     "name": "stdout",
     "output_type": "stream",
     "text": [
      "Total words: 17005207\n",
      "Unique words: 253854\n"
     ]
    }
   ],
   "source": [
    "print(\"Total words: {}\".format(len(words)))\n",
    "print(\"Unique words: {}\".format(len(set(words))))"
   ]
  },
  {
   "cell_type": "markdown",
   "metadata": {},
   "source": [
    "And here I'm creating dictionaries to convert words to integers and backwards, integers to words. The integers are assigned in descending frequency order, so the most frequent word (\"the\") is given the integer 0 and the next most frequent is 1 and so on. The words are converted to integers and stored in the list `int_words`."
   ]
  },
  {
   "cell_type": "code",
   "execution_count": 6,
   "metadata": {
    "collapsed": true
   },
   "outputs": [],
   "source": [
    "vocab_to_int, int_to_vocab = utils.create_lookup_tables(words)\n",
    "int_words = [vocab_to_int[word] for word in words]"
   ]
  },
  {
   "cell_type": "code",
   "execution_count": 8,
   "metadata": {},
   "outputs": [
    {
     "data": {
      "text/plain": [
       "[5233, 3080, 11, 5, 194]"
      ]
     },
     "execution_count": 8,
     "metadata": {},
     "output_type": "execute_result"
    }
   ],
   "source": [
    "#int_words[:5]"
   ]
  },
  {
   "cell_type": "markdown",
   "metadata": {},
   "source": [
    "## Subsampling\n",
    "\n",
    "Words that show up often such as \"the\", \"of\", and \"for\" don't provide much context to the nearby words. If we discard some of them, we can remove some of the noise from our data and in return get faster training and better representations. This process is called subsampling by Mikolov. For each word $w_i$ in the training set, we'll discard it with probability given by \n",
    "\n",
    "$$ P(w_i) = 1 - \\sqrt{\\frac{t}{f(w_i)}} $$\n",
    "\n",
    "where $t$ is a threshold parameter and $f(w_i)$ is the frequency of word $w_i$ in the total dataset.\n",
    "\n",
    "I'm going to leave this up to you as an exercise. This is more of a programming challenge, than about deep learning specifically. But, being able to prepare your data for your network is an important skill to have. Check out my solution to see how I did it.\n",
    "\n",
    "> **Exercise:** Implement subsampling for the words in `int_words`. That is, go through `int_words` and discard each word given the probablility $P(w_i)$ shown above. Note that $P(w_i)$ is the probability that a word is discarded. Assign the subsampled data to `train_words`."
   ]
  },
  {
   "cell_type": "code",
   "execution_count": 9,
   "metadata": {
    "collapsed": true
   },
   "outputs": [],
   "source": [
    "from collections import Counter\n",
    "import random\n",
    "\n",
    "freqs = []\n",
    "p = [] \n",
    "train_words = []\n",
    "\n",
    "threshold = 1e-3\n",
    "word_counts = Counter(int_words)\n",
    "total_count = len(int_words)\n",
    "\n",
    "for word, count in word_counts.items():\n",
    "    freqs.append(count/total_count)\n",
    "    \n",
    "for word in word_counts:\n",
    "    p.append(1 - np.sqrt(threshold/freqs[word]))\n",
    "\n",
    "for word in int_words:\n",
    "    if random.random() < (1 - p[word]):\n",
    "        train_words.append(word)"
   ]
  },
  {
   "cell_type": "markdown",
   "metadata": {},
   "source": [
    "## Making batches"
   ]
  },
  {
   "cell_type": "markdown",
   "metadata": {},
   "source": [
    "Now that our data is in good shape, we need to get it into the proper form to pass it into our network. With the skip-gram architecture, for each word in the text, we want to grab all the words in a window around that word, with size $C$. \n",
    "\n",
    "From [Mikolov et al.](https://arxiv.org/pdf/1301.3781.pdf): \n",
    "\n",
    "\"Since the more distant words are usually less related to the current word than those close to it, we give less weight to the distant words by sampling less from those words in our training examples... If we choose $C = 5$, for each training word we will select randomly a number $R$ in range $< 1; C >$, and then use $R$ words from history and $R$ words from the future of the current word as correct labels.\"\n",
    "\n",
    "> **Exercise:** Implement a function `get_target` that receives a list of words, an index, and a window size, then returns a list of words in the window around the index. Make sure to use the algorithm described above, where you choose a random number of words from the window."
   ]
  },
  {
   "cell_type": "code",
   "execution_count": 10,
   "metadata": {
    "collapsed": true
   },
   "outputs": [],
   "source": [
    "def get_target(words, idx, window_size=5):\n",
    "    ''' Get a list of words in a window around an index. '''\n",
    "    \n",
    "    R = np.random.randint(1, window_size+1)\n",
    "    start = idx - R if (idx - R) > 0 else 0\n",
    "    stop = idx + R\n",
    "    target_words = set(words[start:idx] + words[idx + 1: stop + 1])\n",
    "        \n",
    "    return list(target_words)"
   ]
  },
  {
   "cell_type": "markdown",
   "metadata": {},
   "source": [
    "Here's a function that returns batches for our network. The idea is that it grabs `batch_size` words from a words list. Then for each of those words, it gets the target words in the window. I haven't found a way to pass in a random number of target words and get it to work with the architecture, so I make one row per input-target pair. This is a generator function by the way, helps save memory."
   ]
  },
  {
   "cell_type": "code",
   "execution_count": 11,
   "metadata": {
    "collapsed": true
   },
   "outputs": [],
   "source": [
    "def get_batches(words, batch_size, window_size=5):\n",
    "    ''' Create a generator of word batches as a tuple (inputs, targets) '''\n",
    "    \n",
    "    n_batches = len(words)//batch_size\n",
    "    \n",
    "    # only full batches\n",
    "    words = words[:n_batches*batch_size]\n",
    "    \n",
    "    for idx in range(0, len(words), batch_size):\n",
    "        x, y = [], []\n",
    "        batch = words[idx:idx+batch_size]\n",
    "        for ii in range(len(batch)):\n",
    "            batch_x = batch[ii]\n",
    "            batch_y = get_target(batch, ii, window_size)\n",
    "            y.extend(batch_y)\n",
    "            x.extend([batch_x]*len(batch_y))\n",
    "        yield x, y\n",
    "    "
   ]
  },
  {
   "cell_type": "markdown",
   "metadata": {},
   "source": [
    "## Building the graph\n",
    "\n",
    "From [Chris McCormick's blog](http://mccormickml.com/2016/04/19/word2vec-tutorial-the-skip-gram-model/), we can see the general structure of our network.\n",
    "![embedding_network](./assets/skip_gram_net_arch.png)\n",
    "\n",
    "The input words are passed in as integers. This will go into a hidden layer of linear units, then into a softmax layer. We'll use the softmax layer to make a prediction like normal.\n",
    "\n",
    "The idea here is to train the hidden layer weight matrix to find efficient representations for our words. We can discard the softmax layer becuase we don't really care about making predictions with this network. We just want the embedding matrix so we can use it in other networks we build from the dataset.\n",
    "\n",
    "I'm going to have you build the graph in stages now. First off, creating the `inputs` and `labels` placeholders like normal.\n",
    "\n",
    "> **Exercise:** Assign `inputs` and `labels` using `tf.placeholder`. We're going to be passing in integers, so set the data types to `tf.int32`. The batches we're passing in will have varying sizes, so set the batch sizes to [`None`]. To make things work later, you'll need to set the second dimension of `labels` to `None` or `1`."
   ]
  },
  {
   "cell_type": "code",
   "execution_count": 12,
   "metadata": {
    "collapsed": true
   },
   "outputs": [],
   "source": [
    "train_graph = tf.Graph()\n",
    "with train_graph.as_default():\n",
    "    inputs = tf.placeholder(tf.int32, [None], name='inputs')\n",
    "    labels = tf.placeholder(tf.int32, [None, None], name='labels')"
   ]
  },
  {
   "cell_type": "markdown",
   "metadata": {},
   "source": [
    "## Embedding\n",
    "\n"
   ]
  },
  {
   "cell_type": "markdown",
   "metadata": {
    "collapsed": true
   },
   "source": [
    "The embedding matrix has a size of the number of words by the number of units in the hidden layer. So, if you have 10,000 words and 300 hidden units, the matrix will have size $10,000 \\times 300$. Remember that we're using tokenized data for our inputs, usually as integers, where the number of tokens is the number of words in our vocabulary.\n",
    "\n",
    "\n",
    "> **Exercise:** Tensorflow provides a convenient function [`tf.nn.embedding_lookup`](https://www.tensorflow.org/api_docs/python/tf/nn/embedding_lookup) that does this lookup for us. You pass in the embedding matrix and a tensor of integers, then it returns rows in the matrix corresponding to those integers. Below, set the number of embedding features you'll use (200 is a good start), create the embedding matrix variable, and use `tf.nn.embedding_lookup` to get the embedding tensors. For the embedding matrix, I suggest you initialize it with a uniform random numbers between -1 and 1 using [tf.random_uniform](https://www.tensorflow.org/api_docs/python/tf/random_uniform)."
   ]
  },
  {
   "cell_type": "code",
   "execution_count": 13,
   "metadata": {
    "collapsed": true
   },
   "outputs": [],
   "source": [
    "n_vocab = len(int_to_vocab)\n",
    "n_embedding = 200 \n",
    "with train_graph.as_default():\n",
    "    embedding = tf.Variable(tf.random_uniform((n_vocab, n_embedding), -1, 1)) \n",
    "    embed = tf.nn.embedding_lookup(embedding, \n",
    "                                   inputs)"
   ]
  },
  {
   "cell_type": "markdown",
   "metadata": {},
   "source": [
    "## Negative sampling\n",
    "\n"
   ]
  },
  {
   "cell_type": "markdown",
   "metadata": {},
   "source": [
    "For every example we give the network, we train it using the output from the softmax layer. That means for each input, we're making very small changes to millions of weights even though we only have one true example. This makes training the network very inefficient. We can approximate the loss from the softmax layer by only updating a small subset of all the weights at once. We'll update the weights for the correct label, but only a small number of incorrect labels. This is called [\"negative sampling\"](http://papers.nips.cc/paper/5021-distributed-representations-of-words-and-phrases-and-their-compositionality.pdf). Tensorflow has a convenient function to do this, [`tf.nn.sampled_softmax_loss`](https://www.tensorflow.org/api_docs/python/tf/nn/sampled_softmax_loss).\n",
    "\n",
    "> **Exercise:** Below, create weights and biases for the softmax layer. Then, use [`tf.nn.sampled_softmax_loss`](https://www.tensorflow.org/api_docs/python/tf/nn/sampled_softmax_loss) to calculate the loss. Be sure to read the documentation to figure out how it works."
   ]
  },
  {
   "cell_type": "code",
   "execution_count": 14,
   "metadata": {
    "collapsed": true
   },
   "outputs": [],
   "source": [
    "# Number of negative labels to sample\n",
    "n_sampled = 100\n",
    "with train_graph.as_default():\n",
    "    softmax_w = tf.Variable(tf.truncated_normal((n_vocab, n_embedding),\n",
    "                                                mean=0.0,\n",
    "                                                stddev=0.1))\n",
    "    \n",
    "    softmax_b = tf.Variable(tf.zeros(n_vocab))\n",
    "    \n",
    "    # Calculate the loss using negative sampling\n",
    "    loss = tf.nn.sampled_softmax_loss(softmax_w, softmax_b,\n",
    "                                      labels, embed,\n",
    "                                      n_sampled, n_vocab)\n",
    "    \n",
    "    cost = tf.reduce_mean(loss)\n",
    "    optimizer = tf.train.AdamOptimizer().minimize(cost)"
   ]
  },
  {
   "cell_type": "markdown",
   "metadata": {},
   "source": [
    "## Validation\n",
    "\n",
    "This code is from Thushan Ganegedara's implementation. Here we're going to choose a few common words and few uncommon words. Then, we'll print out the closest words to them. It's a nice way to check that our embedding table is grouping together words with similar semantic meanings."
   ]
  },
  {
   "cell_type": "code",
   "execution_count": 15,
   "metadata": {
    "collapsed": true
   },
   "outputs": [],
   "source": [
    "with train_graph.as_default():\n",
    "    ## From Thushan Ganegedara's implementation\n",
    "    valid_size = 16 # Random set of words to evaluate similarity on.\n",
    "    valid_window = 100\n",
    "    # pick 8 samples from (0,100) and (1000,1100) each ranges. lower id implies more frequent \n",
    "    valid_examples = np.array(random.sample(range(valid_window), valid_size//2))\n",
    "    valid_examples = np.append(valid_examples, \n",
    "                               random.sample(range(1000,1000+valid_window), valid_size//2))\n",
    "\n",
    "    valid_dataset = tf.constant(valid_examples, dtype=tf.int32)\n",
    "    \n",
    "    # We use the cosine distance:\n",
    "    norm = tf.sqrt(tf.reduce_sum(tf.square(embedding), 1, keep_dims=True))\n",
    "    normalized_embedding = embedding / norm\n",
    "    valid_embedding = tf.nn.embedding_lookup(normalized_embedding, valid_dataset)\n",
    "    similarity = tf.matmul(valid_embedding, tf.transpose(normalized_embedding))"
   ]
  },
  {
   "cell_type": "code",
   "execution_count": 16,
   "metadata": {},
   "outputs": [
    {
     "name": "stderr",
     "output_type": "stream",
     "text": [
      "Подпапка или файл checkpoints уже существует.\n"
     ]
    }
   ],
   "source": [
    "# If the checkpoints directory doesn't exist:\n",
    "!mkdir checkpoints"
   ]
  },
  {
   "cell_type": "markdown",
   "metadata": {},
   "source": [
    "## Training\n",
    "\n",
    "Below is the code to train the network. Every 100 batches it reports the training loss. Every 1000 batches, it'll print out the validation words."
   ]
  },
  {
   "cell_type": "code",
   "execution_count": null,
   "metadata": {},
   "outputs": [
    {
     "name": "stdout",
     "output_type": "stream",
     "text": [
      "Epoch 1/1 Iteration: 100 Avg. Training loss: 8.3641 1.1794 sec/batch\n",
      "Epoch 1/1 Iteration: 200 Avg. Training loss: 8.1753 1.1386 sec/batch\n",
      "Epoch 1/1 Iteration: 300 Avg. Training loss: 8.1460 1.1392 sec/batch\n",
      "Epoch 1/1 Iteration: 400 Avg. Training loss: 7.9171 1.1305 sec/batch\n",
      "Epoch 1/1 Iteration: 500 Avg. Training loss: 7.6202 1.1408 sec/batch\n",
      "Epoch 1/1 Iteration: 600 Avg. Training loss: 7.1653 1.1566 sec/batch\n",
      "Epoch 1/1 Iteration: 700 Avg. Training loss: 6.6859 1.1472 sec/batch\n",
      "Epoch 1/1 Iteration: 800 Avg. Training loss: 6.3511 1.1354 sec/batch\n",
      "Epoch 1/1 Iteration: 900 Avg. Training loss: 6.2555 1.1318 sec/batch\n",
      "Epoch 1/1 Iteration: 1000 Avg. Training loss: 6.0054 1.1171 sec/batch\n",
      "Nearest to not: goldean, credam, earliest, morrow, haimann, claimed, magnficent, town,\n",
      "Nearest to there: been, mersienne, since, sites, much, josephus, lizard, identified,\n",
      "Nearest to to: shown, pious, resund, straight, oporinus, arguably, responsis, danneskjold,\n",
      "Nearest to it: presence, holliday, influence, neither, radicali, virserum, largely, first,\n",
      "Nearest to no: dismissed, trigonometry, arm, lastingly, at, slings, intended, so,\n",
      "Nearest to years: founding, she, nordhaus, ad, possibility, all, historians, selling,\n",
      "Nearest to this: american, settlement, unsuccessful, troop, first, translation, composer, direct,\n",
      "Nearest to some: gaim, hybridhunter, amurray, varies, software, bereans, undecidables, you,\n",
      "Nearest to professional: chesterton, secret, goths, outnumbers, party, older, objectively, petasus,\n",
      "Nearest to pope: training, snowplow, backgrounds, effective, erforschung, soilless, vii, enigmatically,\n",
      "Nearest to hit: circuitry, manaf, pontificating, pefer, greasy, libjpeg, morterone, forelimb,\n",
      "Nearest to nobel: university, tayler, henry, size, firm, bandnews, empowerment, modena,\n",
      "Nearest to alternative: lebeuf, transplant, bwc, puebloans, myths, tutl, ageism, ipekci,\n",
      "Nearest to orthodox: increasingly, undesirable, gcc, down, petrov, kvas, grabb, pursued,\n",
      "Nearest to joseph: vestey, widely, islamist, allures, infers, rivista, medina, johnstsone,\n",
      "Nearest to behind: wooburn, reinvigorate, peck, piits, episcopoi, tttttt, bhoomi, crossbow,\n",
      "Epoch 1/1 Iteration: 1100 Avg. Training loss: 5.8587 1.2125 sec/batch\n",
      "Epoch 1/1 Iteration: 1200 Avg. Training loss: 5.7104 1.1441 sec/batch\n",
      "Epoch 1/1 Iteration: 1300 Avg. Training loss: 5.6154 1.4124 sec/batch\n",
      "Epoch 1/1 Iteration: 1400 Avg. Training loss: 5.5429 1.2713 sec/batch\n",
      "Epoch 1/1 Iteration: 1500 Avg. Training loss: 5.3950 1.2211 sec/batch\n",
      "Epoch 1/1 Iteration: 1600 Avg. Training loss: 5.3912 1.1966 sec/batch\n",
      "Epoch 1/1 Iteration: 1700 Avg. Training loss: 5.3510 1.1896 sec/batch\n",
      "Epoch 1/1 Iteration: 1800 Avg. Training loss: 5.1651 1.1745 sec/batch\n",
      "Epoch 1/1 Iteration: 1900 Avg. Training loss: 5.3020 1.1900 sec/batch\n",
      "Epoch 1/1 Iteration: 2000 Avg. Training loss: 5.2227 1.1788 sec/batch\n",
      "Nearest to not: goldean, consumed, credam, morrow, earliest, claimed, intentionally, haimann,\n",
      "Nearest to there: mersienne, sites, since, expended, much, mormon, been, lizard,\n",
      "Nearest to to: shown, pious, straight, resund, arguably, judgment, connected, circulatory,\n",
      "Nearest to it: presence, holliday, neither, crews, convert, influence, floppy, steps,\n",
      "Nearest to no: dismissed, arm, lastingly, trigonometry, directed, passes, petagrams, wace,\n",
      "Nearest to years: possibility, founding, historians, selling, nordhaus, she, nutrient, ad,\n",
      "Nearest to this: troop, trading, settlement, unsuccessful, decades, magazine, appear, nationality,\n",
      "Nearest to some: gaim, varies, amurray, software, something, traffic, hybridhunter, express,\n",
      "Nearest to professional: originated, olympics, chesterton, objectively, secret, goths, jointly, bmws,\n",
      "Nearest to pope: training, backgrounds, snowplow, departed, improving, soilless, continuously, jacek,\n",
      "Nearest to hit: circuitry, greasy, hungary, educated, take, pefer, mercury, sweet,\n",
      "Nearest to nobel: firm, university, variants, tayler, imposed, bandnews, empowerment, henry,\n",
      "Nearest to alternative: myths, lebeuf, transplant, tutl, discover, pan, puebloans, ever,\n",
      "Nearest to orthodox: increasingly, undesirable, pursued, petrov, gcc, tangent, down, guild,\n",
      "Nearest to joseph: widely, islamist, vestey, baroque, eliminated, autonomy, policy, medina,\n",
      "Nearest to behind: christmas, adb, being, episcopoi, tourist, tttttt, wooburn, reinvigorate,\n",
      "Epoch 1/1 Iteration: 2100 Avg. Training loss: 5.1544 1.2309 sec/batch\n",
      "Epoch 1/1 Iteration: 2200 Avg. Training loss: 5.0977 1.1767 sec/batch\n",
      "Epoch 1/1 Iteration: 2300 Avg. Training loss: 5.0872 1.1864 sec/batch\n",
      "Epoch 1/1 Iteration: 2400 Avg. Training loss: 5.0788 1.1795 sec/batch\n",
      "Epoch 1/1 Iteration: 2500 Avg. Training loss: 5.0855 1.1770 sec/batch\n",
      "Epoch 1/1 Iteration: 2600 Avg. Training loss: 5.0331 1.1705 sec/batch\n",
      "Epoch 1/1 Iteration: 2700 Avg. Training loss: 4.9709 1.1817 sec/batch\n",
      "Epoch 1/1 Iteration: 2800 Avg. Training loss: 4.9826 1.1817 sec/batch\n",
      "Epoch 1/1 Iteration: 2900 Avg. Training loss: 4.8707 1.1763 sec/batch\n",
      "Epoch 1/1 Iteration: 3000 Avg. Training loss: 4.8242 1.1688 sec/batch\n",
      "Nearest to not: goldean, consumed, credam, intentionally, eczema, morrow, does, claimed,\n",
      "Nearest to there: mersienne, since, much, exist, gustaf, sites, trends, expended,\n",
      "Nearest to to: shown, resund, pious, judgment, straight, circulatory, arguably, responsis,\n",
      "Nearest to it: presence, holliday, crews, steps, neither, correlated, floppy, convert,\n",
      "Nearest to no: dismissed, lastingly, trigonometry, petagrams, arm, prudent, vladimir, slings,\n",
      "Nearest to years: founding, nordhaus, overtrain, possibility, cambodia, overhearing, apologise, selling,\n",
      "Nearest to this: troop, pulp, decades, trading, grasses, increasing, appear, unsuccessful,\n",
      "Nearest to some: gaim, hoped, amurray, varies, software, traffic, express, wah,\n",
      "Nearest to professional: olympics, objectively, chesterton, goths, originated, mutations, cal, jointly,\n",
      "Nearest to pope: training, snowplow, backgrounds, departed, delaying, soilless, jacek, balloting,\n",
      "Nearest to hit: circuitry, greasy, gravity, praised, hungary, hook, cheating, depicting,\n",
      "Nearest to nobel: firm, tayler, university, bandnews, variants, modena, imposed, empowerment,\n",
      "Nearest to alternative: bwc, myths, lebeuf, patterson, transplant, secures, tutl, discover,\n",
      "Nearest to orthodox: undesirable, increasingly, petrov, pursued, tangent, horizons, guild, gcc,\n",
      "Nearest to joseph: islamist, vestey, widely, attributes, baroque, sighted, allures, rivista,\n",
      "Nearest to behind: peck, adb, alternating, christmas, episcopoi, uptake, wooburn, clasped,\n",
      "Epoch 1/1 Iteration: 3100 Avg. Training loss: 4.9515 1.2347 sec/batch\n",
      "Epoch 1/1 Iteration: 3200 Avg. Training loss: 4.9032 1.1704 sec/batch\n",
      "Epoch 1/1 Iteration: 3300 Avg. Training loss: 4.8626 1.1714 sec/batch\n",
      "Epoch 1/1 Iteration: 3400 Avg. Training loss: 4.9027 1.1615 sec/batch\n",
      "Epoch 1/1 Iteration: 3500 Avg. Training loss: 4.8713 1.1891 sec/batch\n",
      "Epoch 1/1 Iteration: 3600 Avg. Training loss: 4.8897 1.1648 sec/batch\n",
      "Epoch 1/1 Iteration: 3700 Avg. Training loss: 4.9074 1.1638 sec/batch\n",
      "Epoch 1/1 Iteration: 3800 Avg. Training loss: 4.8750 1.1744 sec/batch\n",
      "Epoch 1/1 Iteration: 3900 Avg. Training loss: 4.8862 1.1718 sec/batch\n",
      "Epoch 1/1 Iteration: 4000 Avg. Training loss: 4.8157 1.1677 sec/batch\n",
      "Nearest to not: goldean, consumed, credam, else, does, claimed, eczema, morrow,\n",
      "Nearest to there: since, mersienne, exist, only, expended, insulator, much, gustaf,\n",
      "Nearest to to: shown, resund, fetuses, responsis, straight, judgment, petrochemical, circulatory,\n",
      "Nearest to it: holliday, presence, crews, steps, correlated, neither, lullaby, convert,\n",
      "Nearest to no: dismissed, trigonometry, lastingly, petagrams, prudent, slings, so, arm,\n",
      "Nearest to years: founding, overtrain, months, overhearing, possibility, apologise, nutrient, nordhaus,\n",
      "Nearest to this: troop, pulp, increasing, stupid, rounding, salesman, grasses, settlement,\n",
      "Nearest to some: gaim, hoped, varies, software, amurray, traffic, wah, something,\n",
      "Nearest to professional: chesterton, olympics, cal, mutations, scrip, objectively, goths, poitiers,\n",
      "Nearest to pope: training, snowplow, backgrounds, departed, prescient, delaying, jacek, marginally,\n"
     ]
    },
    {
     "name": "stdout",
     "output_type": "stream",
     "text": [
      "Nearest to hit: circuitry, greasy, hook, praised, cheating, gravity, growths, depicting,\n",
      "Nearest to nobel: tayler, bandnews, modena, decompiler, firm, university, planetarium, keyed,\n",
      "Nearest to alternative: myths, transplant, bwc, lebeuf, patterson, secures, hatcher, grossed,\n",
      "Nearest to orthodox: undesirable, petrov, tangent, increasingly, horizons, pursued, guild, gcc,\n",
      "Nearest to joseph: islamist, vestey, allures, sighted, rivista, clonic, medina, attributes,\n",
      "Nearest to behind: peck, crossbow, adb, masks, alternating, saliva, reinvigorate, christmas,\n",
      "Epoch 1/1 Iteration: 4100 Avg. Training loss: 4.7980 1.2440 sec/batch\n",
      "Epoch 1/1 Iteration: 4200 Avg. Training loss: 4.7985 1.1811 sec/batch\n",
      "Epoch 1/1 Iteration: 4300 Avg. Training loss: 4.8689 1.1654 sec/batch\n",
      "Epoch 1/1 Iteration: 4400 Avg. Training loss: 4.7518 1.1815 sec/batch\n",
      "Epoch 1/1 Iteration: 4500 Avg. Training loss: 4.8089 1.1806 sec/batch\n",
      "Epoch 1/1 Iteration: 4600 Avg. Training loss: 4.7896 1.1820 sec/batch\n",
      "Epoch 1/1 Iteration: 4700 Avg. Training loss: 4.8150 1.1692 sec/batch\n",
      "Epoch 1/1 Iteration: 4800 Avg. Training loss: 4.8039 1.1808 sec/batch\n",
      "Epoch 1/1 Iteration: 4900 Avg. Training loss: 4.7982 1.1285 sec/batch\n",
      "Epoch 1/1 Iteration: 5000 Avg. Training loss: 4.7777 1.1245 sec/batch\n",
      "Nearest to not: goldean, claimed, iq, morrow, credam, consumed, does, eczema,\n",
      "Nearest to there: since, mersienne, only, exist, absurd, insulator, expended, much,\n",
      "Nearest to to: resund, fetuses, shown, straight, responsis, petrochemical, judgment, will,\n",
      "Nearest to it: lullaby, presence, holliday, crews, steps, correlated, inefficient, virserum,\n",
      "Nearest to no: trigonometry, petagrams, dismissed, lastingly, so, slings, prudent, arm,\n",
      "Nearest to years: overhearing, months, overtrain, founding, apologise, murihead, nordhaus, gran,\n",
      "Nearest to this: pulp, troop, stupid, increasing, grasses, diffusions, that, salesman,\n",
      "Nearest to some: gaim, hoped, hattersley, wah, varies, traffic, amurray, expect,\n",
      "Nearest to professional: chesterton, mutations, objectively, olympics, cal, scrip, goths, poitiers,\n",
      "Nearest to pope: training, snowplow, backgrounds, prescient, departed, jacek, gnubrain, vii,\n",
      "Nearest to hit: circuitry, greasy, pontificating, praised, growths, hook, manaf, cheating,\n",
      "Nearest to nobel: tayler, bandnews, university, decompiler, modena, henry, somnolent, helvis,\n",
      "Nearest to alternative: bwc, hatcher, patterson, myths, transplant, lebeuf, secures, grossed,\n",
      "Nearest to orthodox: petrov, undesirable, tangent, accumulators, gnasher, increasingly, oriental, guild,\n",
      "Nearest to joseph: islamist, vestey, allures, comedian, clonic, flamsteed, widely, sighted,\n",
      "Nearest to behind: peck, crossbow, adb, masks, alternating, saliva, wooburn, episcopoi,\n",
      "Epoch 1/1 Iteration: 5100 Avg. Training loss: 4.7710 1.1737 sec/batch\n",
      "Epoch 1/1 Iteration: 5200 Avg. Training loss: 4.6731 1.1305 sec/batch\n",
      "Epoch 1/1 Iteration: 5300 Avg. Training loss: 4.7251 1.1348 sec/batch\n",
      "Epoch 1/1 Iteration: 5400 Avg. Training loss: 4.6643 1.1340 sec/batch\n",
      "Epoch 1/1 Iteration: 5500 Avg. Training loss: 4.7519 1.1274 sec/batch\n",
      "Epoch 1/1 Iteration: 5600 Avg. Training loss: 4.7072 1.1302 sec/batch\n",
      "Epoch 1/1 Iteration: 5700 Avg. Training loss: 4.6962 1.1337 sec/batch\n",
      "Epoch 1/1 Iteration: 5800 Avg. Training loss: 4.7584 1.1366 sec/batch\n",
      "Epoch 1/1 Iteration: 5900 Avg. Training loss: 4.7169 1.1265 sec/batch\n",
      "Epoch 1/1 Iteration: 6000 Avg. Training loss: 4.6393 1.1340 sec/batch\n",
      "Nearest to not: goldean, claimed, buch, eczema, reject, morrow, iq, consumed,\n",
      "Nearest to there: since, exist, only, mersienne, absurd, ectoderm, expended, insulator,\n",
      "Nearest to to: petrochemical, shown, responsis, resund, judgment, fetuses, pious, will,\n",
      "Nearest to it: lullaby, holliday, presence, correlated, crews, sorrows, virserum, steps,\n",
      "Nearest to no: trigonometry, petagrams, lastingly, dismissed, slings, prudent, inversely, wace,\n",
      "Nearest to years: months, overhearing, overtrain, founding, decades, apologise, expectancy, hundred,\n",
      "Nearest to this: grasses, increasing, troop, first, stupid, pulp, liking, that,\n",
      "Nearest to some: gaim, hoped, many, most, hattersley, software, secrecy, hybridhunter,\n",
      "Nearest to professional: chesterton, mutations, scrip, objectively, heredity, poitiers, olympics, goths,\n",
      "Nearest to pope: training, snowplow, prescient, backgrounds, vii, departed, balloting, jacek,\n",
      "Nearest to hit: circuitry, greasy, growths, cheating, praised, manaf, pontificating, depicting,\n",
      "Nearest to nobel: tayler, bandnews, university, decompiler, modena, henry, somnolent, helvis,\n",
      "Nearest to alternative: bwc, hatcher, grossed, transplant, myths, patterson, dn, lebeuf,\n",
      "Nearest to orthodox: petrov, oriental, church, tangent, undesirable, accumulators, eastern, gnasher,\n",
      "Nearest to joseph: islamist, clonic, vestey, allures, widely, flamsteed, rivista, comedian,\n",
      "Nearest to behind: crossbow, adb, masks, alternating, peck, wooburn, episcopoi, bhoomi,\n",
      "Epoch 1/1 Iteration: 6100 Avg. Training loss: 4.7032 1.1806 sec/batch\n",
      "Epoch 1/1 Iteration: 6200 Avg. Training loss: 4.6652 1.1362 sec/batch\n",
      "Epoch 1/1 Iteration: 6300 Avg. Training loss: 4.6704 1.1265 sec/batch\n",
      "Epoch 1/1 Iteration: 6400 Avg. Training loss: 4.7060 1.1248 sec/batch\n",
      "Epoch 1/1 Iteration: 6500 Avg. Training loss: 4.6736 1.1249 sec/batch\n",
      "Epoch 1/1 Iteration: 6600 Avg. Training loss: 4.6696 1.1326 sec/batch\n",
      "Epoch 1/1 Iteration: 6700 Avg. Training loss: 4.6278 1.1740 sec/batch\n",
      "Epoch 1/1 Iteration: 6800 Avg. Training loss: 4.5958 1.1331 sec/batch\n",
      "Epoch 1/1 Iteration: 6900 Avg. Training loss: 4.5529 1.1573 sec/batch\n",
      "Epoch 1/1 Iteration: 7000 Avg. Training loss: 4.6647 1.1447 sec/batch\n",
      "Nearest to not: goldean, buch, claimed, eczema, does, consumed, reject, iq,\n",
      "Nearest to there: exist, since, only, absurd, mersienne, ectoderm, regarding, expended,\n",
      "Nearest to to: petrochemical, fetuses, responsis, resund, would, judgment, will, abertzaleen,\n",
      "Nearest to it: holliday, lullaby, presence, correlated, neither, sorrows, virserum, crews,\n",
      "Nearest to no: trigonometry, lastingly, petagrams, slings, dismissed, inversely, prudent, expeditious,\n",
      "Nearest to years: months, overhearing, decades, overtrain, hundred, founding, expectancy, apologise,\n",
      "Nearest to this: stupid, troop, grasses, liking, first, that, increasing, rounding,\n",
      "Nearest to some: gaim, many, hattersley, most, hoped, traffic, all, few,\n",
      "Nearest to professional: chesterton, mutations, scrip, heredity, poitiers, petasus, elude, olympics,\n",
      "Nearest to pope: training, snowplow, prescient, vii, balloting, departed, backgrounds, schoolchild,\n",
      "Nearest to hit: circuitry, greasy, cheating, growths, praised, manaf, forelimb, depicting,\n",
      "Nearest to nobel: tayler, university, bandnews, decompiler, modena, henry, helvis, somnolent,\n",
      "Nearest to alternative: bwc, hatcher, myths, dn, grossed, transplant, derogatorily, tutl,\n",
      "Nearest to orthodox: petrov, oriental, church, undesirable, accumulators, tangent, eastern, gnasher,\n",
      "Nearest to joseph: islamist, clonic, vestey, allures, comedian, medina, spheroidal, malign,\n",
      "Nearest to behind: crossbow, adb, masks, alternating, peck, wooburn, reinvigorate, bhoomi,\n",
      "Epoch 1/1 Iteration: 7100 Avg. Training loss: 4.6620 1.1637 sec/batch\n",
      "Epoch 1/1 Iteration: 7200 Avg. Training loss: 4.6738 1.1551 sec/batch\n",
      "Epoch 1/1 Iteration: 7300 Avg. Training loss: 4.6848 1.1449 sec/batch\n",
      "Epoch 1/1 Iteration: 7400 Avg. Training loss: 4.6680 1.1471 sec/batch\n",
      "Epoch 1/1 Iteration: 7500 Avg. Training loss: 4.5277 1.1294 sec/batch\n",
      "Epoch 1/1 Iteration: 7600 Avg. Training loss: 4.6322 1.1347 sec/batch\n",
      "Epoch 1/1 Iteration: 7700 Avg. Training loss: 4.6629 1.1254 sec/batch\n",
      "Epoch 1/1 Iteration: 7800 Avg. Training loss: 4.6411 1.1411 sec/batch\n",
      "Epoch 1/1 Iteration: 7900 Avg. Training loss: 4.6043 1.2151 sec/batch\n",
      "Epoch 1/1 Iteration: 8000 Avg. Training loss: 4.6321 1.1452 sec/batch\n",
      "Nearest to not: buch, goldean, claimed, lethargy, does, reject, say, iq,\n",
      "Nearest to there: exist, since, ectoderm, only, absurd, regarding, mersienne, expended,\n",
      "Nearest to to: petrochemical, fetuses, will, responsis, would, oporinus, judgment, resund,\n",
      "Nearest to it: lullaby, holliday, presence, correlated, sorrows, battleground, savagely, virserum,\n"
     ]
    },
    {
     "name": "stdout",
     "output_type": "stream",
     "text": [
      "Nearest to no: trigonometry, lastingly, petagrams, slings, inversely, dismissed, expeditious, prudent,\n",
      "Nearest to years: months, overhearing, decades, hundred, overtrain, thousand, apologise, possibility,\n",
      "Nearest to this: stupid, troop, first, liking, the, grasses, eqnewbie, diffusions,\n",
      "Nearest to some: many, gaim, most, hoped, hattersley, few, all, heidenheim,\n",
      "Nearest to professional: chesterton, scrip, heredity, mutations, olympics, petasus, poitiers, elude,\n",
      "Nearest to pope: training, snowplow, vii, balloting, schoolchild, departed, aethiopis, reacted,\n",
      "Nearest to hit: circuitry, growths, greasy, praised, manaf, pefer, forelimb, cheating,\n",
      "Nearest to nobel: tayler, bandnews, university, decompiler, modena, henry, helvis, planetarium,\n",
      "Nearest to alternative: hatcher, bwc, dn, grossed, transplant, derogatorily, lebeuf, tutl,\n",
      "Nearest to orthodox: petrov, oriental, church, eastern, undesirable, accumulators, tangent, gnasher,\n",
      "Nearest to joseph: clonic, islamist, allures, vestey, malign, medina, spheroidal, widely,\n",
      "Nearest to behind: crossbow, masks, adb, wooburn, peck, alternating, bhoomi, reinvigorate,\n",
      "Epoch 1/1 Iteration: 8100 Avg. Training loss: 4.5993 1.1680 sec/batch\n",
      "Epoch 1/1 Iteration: 8200 Avg. Training loss: 4.6585 1.1312 sec/batch\n",
      "Epoch 1/1 Iteration: 8300 Avg. Training loss: 4.5923 1.1361 sec/batch\n",
      "Epoch 1/1 Iteration: 8400 Avg. Training loss: 4.4941 1.1422 sec/batch\n",
      "Epoch 1/1 Iteration: 8500 Avg. Training loss: 4.5432 1.1423 sec/batch\n",
      "Epoch 1/1 Iteration: 8600 Avg. Training loss: 4.5401 1.1380 sec/batch\n",
      "Epoch 1/1 Iteration: 8700 Avg. Training loss: 4.5503 1.1258 sec/batch\n",
      "Epoch 1/1 Iteration: 8800 Avg. Training loss: 4.5511 1.1362 sec/batch\n",
      "Epoch 1/1 Iteration: 8900 Avg. Training loss: 4.5263 1.1380 sec/batch\n",
      "Epoch 1/1 Iteration: 9000 Avg. Training loss: 4.5554 1.1332 sec/batch\n",
      "Nearest to not: buch, goldean, claimed, lethargy, conformists, does, they, eczema,\n",
      "Nearest to there: exist, only, absurd, eurosceptic, since, ectoderm, bakers, mersienne,\n",
      "Nearest to to: would, petrochemical, responsis, will, oporinus, fetuses, abertzaleen, judgment,\n",
      "Nearest to it: lullaby, holliday, kbytes, battleground, correlated, presence, savagely, this,\n",
      "Nearest to no: trigonometry, lastingly, petagrams, prudent, dismissed, involuntarily, inversely, expeditious,\n",
      "Nearest to years: months, decades, overhearing, thousand, hundred, overtrain, apologise, expectancy,\n",
      "Nearest to this: first, the, stupid, another, liking, that, troop, eqnewbie,\n",
      "Nearest to some: many, gaim, most, all, few, hoped, certain, hattersley,\n",
      "Nearest to professional: chesterton, petasus, scrip, heredity, kemono, olympics, arice, mutations,\n",
      "Nearest to pope: training, snowplow, vii, reacted, balloting, schoolchild, gnubrain, aethiopis,\n",
      "Nearest to hit: growths, circuitry, greasy, pontificating, loft, manaf, praised, forelimb,\n",
      "Nearest to nobel: tayler, university, bandnews, decompiler, modena, prize, henry, amcham,\n",
      "Nearest to alternative: transplant, bwc, hatcher, dn, grossed, lebeuf, tutl, myths,\n",
      "Nearest to orthodox: petrov, church, oriental, eastern, undesirable, evangelical, catholic, gnasher,\n",
      "Nearest to joseph: vestey, clonic, islamist, malign, allures, widely, medina, spheroidal,\n",
      "Nearest to behind: alternating, crossbow, adb, wooburn, peck, masks, episcopoi, bhoomi,\n",
      "Epoch 1/1 Iteration: 9100 Avg. Training loss: 4.3469 1.1694 sec/batch\n",
      "Epoch 1/1 Iteration: 9200 Avg. Training loss: 4.5487 1.1365 sec/batch\n",
      "Epoch 1/1 Iteration: 9300 Avg. Training loss: 4.4324 1.1419 sec/batch\n",
      "Epoch 1/1 Iteration: 9400 Avg. Training loss: 4.5352 1.1408 sec/batch\n",
      "Epoch 1/1 Iteration: 9500 Avg. Training loss: 4.5382 1.1397 sec/batch\n",
      "Epoch 1/1 Iteration: 9600 Avg. Training loss: 4.6187 1.1275 sec/batch\n",
      "Epoch 1/1 Iteration: 9700 Avg. Training loss: 4.5238 1.1394 sec/batch\n",
      "Epoch 1/1 Iteration: 9800 Avg. Training loss: 4.6417 1.1385 sec/batch\n",
      "Epoch 1/1 Iteration: 9900 Avg. Training loss: 4.6877 1.1289 sec/batch\n",
      "Epoch 1/1 Iteration: 10000 Avg. Training loss: 4.5993 1.1428 sec/batch\n",
      "Nearest to not: buch, goldean, claimed, conformists, does, lethargy, they, oppress,\n",
      "Nearest to there: exist, ectoderm, absurd, eurosceptic, only, since, mersienne, bakers,\n",
      "Nearest to to: would, oporinus, responsis, petrochemical, fetuses, will, judgment, abertzaleen,\n",
      "Nearest to it: lullaby, holliday, savagely, battleground, kbytes, correlated, still, this,\n",
      "Nearest to no: trigonometry, petagrams, lastingly, incheon, prudent, involuntarily, newspaperman, tbil,\n",
      "Nearest to years: months, overhearing, decades, hundred, thousand, overtrain, apologise, expectancy,\n",
      "Nearest to this: stupid, the, another, liking, eqnewbie, first, troop, madness,\n",
      "Nearest to some: many, gaim, most, all, few, certain, hoped, netburst,\n",
      "Nearest to professional: chesterton, petasus, agnelli, scrip, olympics, elude, heredity, arice,\n",
      "Nearest to pope: training, vii, snowplow, prescient, balloting, reacted, oxides, lian,\n",
      "Nearest to hit: growths, circuitry, greasy, success, forelimb, manaf, sizeface, praised,\n",
      "Nearest to nobel: prize, tayler, bandnews, university, decompiler, modena, ingeld, amcham,\n",
      "Nearest to alternative: bwc, hatcher, transplant, grossed, dn, lebeuf, minehead, tutl,\n",
      "Nearest to orthodox: petrov, oriental, church, eastern, evangelical, accumulators, gnasher, catholic,\n",
      "Nearest to joseph: vestey, clonic, islamist, malign, allures, medina, widely, spheroidal,\n",
      "Nearest to behind: adb, wooburn, crossbow, alternating, peck, episcopoi, bhoomi, masks,\n",
      "Epoch 1/1 Iteration: 10100 Avg. Training loss: 4.5466 1.1731 sec/batch\n",
      "Epoch 1/1 Iteration: 10200 Avg. Training loss: 4.3661 1.1409 sec/batch\n",
      "Epoch 1/1 Iteration: 10300 Avg. Training loss: 4.5411 1.1366 sec/batch\n",
      "Epoch 1/1 Iteration: 10400 Avg. Training loss: 4.5892 1.1429 sec/batch\n",
      "Epoch 1/1 Iteration: 10500 Avg. Training loss: 4.5943 1.1808 sec/batch\n",
      "Epoch 1/1 Iteration: 10600 Avg. Training loss: 4.5435 1.1377 sec/batch\n",
      "Epoch 1/1 Iteration: 10700 Avg. Training loss: 4.6263 1.1284 sec/batch\n",
      "Epoch 1/1 Iteration: 10800 Avg. Training loss: 4.5078 1.1363 sec/batch\n",
      "Epoch 1/1 Iteration: 10900 Avg. Training loss: 4.5012 1.1321 sec/batch\n",
      "Epoch 1/1 Iteration: 11000 Avg. Training loss: 4.2605 1.1364 sec/batch\n",
      "Nearest to not: goldean, buch, claimed, lethargy, multivariable, conformists, vertebrate, oppress,\n",
      "Nearest to there: exist, ectoderm, absurd, mersienne, only, since, luxemburggroussherzogtum, bakers,\n",
      "Nearest to to: would, responsis, oporinus, fetuses, danneskjold, will, petrochemical, abertzaleen,\n",
      "Nearest to it: lullaby, spymaster, kbytes, battleground, holliday, this, savagely, unicode,\n",
      "Nearest to no: trigonometry, petagrams, lastingly, incheon, prudent, expeditious, halcyon, involuntarily,\n",
      "Nearest to years: months, decades, overhearing, hundred, thousand, apologise, overtrain, expectancy,\n",
      "Nearest to this: another, the, settlement, stupid, it, eqnewbie, an, first,\n",
      "Nearest to some: many, gaim, all, most, few, certain, affluence, hattersley,\n",
      "Nearest to professional: chesterton, petasus, agnelli, scrip, olympics, elude, arice, ltu,\n",
      "Nearest to pope: vii, training, snowplow, lian, schoolchild, gnubrain, vhll, prescient,\n",
      "Nearest to hit: growths, manaf, greasy, circuitry, forelimb, success, praised, sizeface,\n",
      "Nearest to nobel: prize, tayler, bandnews, university, decompiler, ingeld, modena, somnolent,\n",
      "Nearest to alternative: bwc, cidade, transplant, hatcher, lebeuf, minehead, grossed, dn,\n",
      "Nearest to orthodox: petrov, oriental, church, evangelical, accumulators, catholic, catholics, gnasher,\n",
      "Nearest to joseph: vestey, clonic, islamist, malign, allures, medina, johnstsone, rivista,\n",
      "Nearest to behind: alternating, wooburn, crossbow, peck, bhoomi, episcopoi, todt, masks,\n",
      "Epoch 1/1 Iteration: 11100 Avg. Training loss: 4.5159 1.1641 sec/batch\n",
      "Epoch 1/1 Iteration: 11200 Avg. Training loss: 4.5099 1.1381 sec/batch\n",
      "Epoch 1/1 Iteration: 11300 Avg. Training loss: 4.4219 1.1302 sec/batch\n",
      "Epoch 1/1 Iteration: 11400 Avg. Training loss: 4.4849 1.1246 sec/batch\n"
     ]
    }
   ],
   "source": [
    "epochs = 1\n",
    "batch_size = 1000\n",
    "window_size = 5\n",
    "\n",
    "with train_graph.as_default():\n",
    "    saver = tf.train.Saver()\n",
    "\n",
    "with tf.Session(graph=train_graph) as sess:\n",
    "    iteration = 1\n",
    "    loss = 0\n",
    "    sess.run(tf.global_variables_initializer())\n",
    "\n",
    "    for e in range(1, epochs+1):\n",
    "        batches = get_batches(train_words, batch_size, window_size)\n",
    "        start = time.time()\n",
    "        for x, y in batches:\n",
    "            \n",
    "            feed = {inputs: x,\n",
    "                    labels: np.array(y)[:, None]}\n",
    "            train_loss, _ = sess.run([cost, optimizer], feed_dict=feed)\n",
    "            \n",
    "            loss += train_loss\n",
    "            \n",
    "            if iteration % 100 == 0: \n",
    "                end = time.time()\n",
    "                print(\"Epoch {}/{}\".format(e, epochs),\n",
    "                      \"Iteration: {}\".format(iteration),\n",
    "                      \"Avg. Training loss: {:.4f}\".format(loss/100),\n",
    "                      \"{:.4f} sec/batch\".format((end-start)/100))\n",
    "                loss = 0\n",
    "                start = time.time()\n",
    "            \n",
    "            if iteration % 1000 == 0:\n",
    "                ## From Thushan Ganegedara's implementation\n",
    "                # note that this is expensive (~20% slowdown if computed every 500 steps)\n",
    "                sim = similarity.eval()\n",
    "                for i in range(valid_size):\n",
    "                    valid_word = int_to_vocab[valid_examples[i]]\n",
    "                    top_k = 8 # number of nearest neighbors\n",
    "                    nearest = (-sim[i, :]).argsort()[1:top_k+1]\n",
    "                    log = 'Nearest to %s:' % valid_word\n",
    "                    for k in range(top_k):\n",
    "                        close_word = int_to_vocab[nearest[k]]\n",
    "                        log = '%s %s,' % (log, close_word)\n",
    "                    print(log)\n",
    "            \n",
    "            iteration += 1\n",
    "    save_path = saver.save(sess, \"checkpoints/text8.ckpt\")\n",
    "    embed_mat = sess.run(normalized_embedding)"
   ]
  },
  {
   "cell_type": "markdown",
   "metadata": {},
   "source": [
    "Restore the trained network if you need to:"
   ]
  },
  {
   "cell_type": "code",
   "execution_count": null,
   "metadata": {
    "collapsed": true
   },
   "outputs": [],
   "source": [
    "with train_graph.as_default():\n",
    "    saver = tf.train.Saver()\n",
    "\n",
    "with tf.Session(graph=train_graph) as sess:\n",
    "    saver.restore(sess, tf.train.latest_checkpoint('checkpoints'))\n",
    "    embed_mat = sess.run(embedding)"
   ]
  },
  {
   "cell_type": "markdown",
   "metadata": {},
   "source": [
    "## Visualizing the word vectors\n",
    "\n",
    "Below we'll use T-SNE to visualize how our high-dimensional word vectors cluster together. T-SNE is used to project these vectors into two dimensions while preserving local stucture. Check out [this post from Christopher Olah](http://colah.github.io/posts/2014-10-Visualizing-MNIST/) to learn more about T-SNE and other ways to visualize high-dimensional data."
   ]
  },
  {
   "cell_type": "code",
   "execution_count": null,
   "metadata": {
    "collapsed": true
   },
   "outputs": [],
   "source": [
    "%matplotlib inline\n",
    "%config InlineBackend.figure_format = 'retina'\n",
    "\n",
    "import matplotlib.pyplot as plt\n",
    "from sklearn.manifold import TSNE"
   ]
  },
  {
   "cell_type": "code",
   "execution_count": null,
   "metadata": {
    "collapsed": true
   },
   "outputs": [],
   "source": [
    "viz_words = 500\n",
    "tsne = TSNE()\n",
    "embed_tsne = tsne.fit_transform(embed_mat[:viz_words, :])"
   ]
  },
  {
   "cell_type": "code",
   "execution_count": null,
   "metadata": {
    "collapsed": true
   },
   "outputs": [],
   "source": [
    "fig, ax = plt.subplots(figsize=(14, 14))\n",
    "for idx in range(viz_words):\n",
    "    plt.scatter(*embed_tsne[idx, :], color='steelblue')\n",
    "    plt.annotate(int_to_vocab[idx], (embed_tsne[idx, 0], embed_tsne[idx, 1]), alpha=0.7)"
   ]
  }
 ],
 "metadata": {
  "kernelspec": {
   "display_name": "Python 3",
   "language": "python",
   "name": "python3"
  },
  "language_info": {
   "codemirror_mode": {
    "name": "ipython",
    "version": 3
   },
   "file_extension": ".py",
   "mimetype": "text/x-python",
   "name": "python",
   "nbconvert_exporter": "python",
   "pygments_lexer": "ipython3",
   "version": "3.6.0"
  }
 },
 "nbformat": 4,
 "nbformat_minor": 2
}
