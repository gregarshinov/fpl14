{
 "cells": [
  {
   "cell_type": "code",
   "execution_count": 10,
   "metadata": {
    "collapsed": true
   },
   "outputs": [
    {
     "name": "stdout",
     "output_type": "stream",
     "text": [
      "Epoch: 0001 cost=50.809946060\nEpoch: 0002 cost=44.068160057\nEpoch: 0003 cost=39.381271172\nEpoch: 0004 cost=37.533534050\nEpoch: 0005 cost=35.474301147\nEpoch: 0006 cost=33.478084946\nEpoch: 0007 cost=31.470410728\nEpoch: 0008 cost=29.446689034\nEpoch: 0009 cost=27.372642899\nEpoch: 0010 cost=25.257629013\nEpoch: 0011 cost=23.101586533\nEpoch: 0012 cost=20.901733685\nEpoch: 0013 cost=18.655049515\nEpoch: 0014 cost=16.360456944\nEpoch: 0015 cost=14.014461613\nEpoch: 0016 cost=11.612927341\nEpoch: 0017 cost=9.151543522\nEpoch: 0018 cost=6.625135803\n"
     ]
    },
    {
     "name": "stdout",
     "output_type": "stream",
     "text": [
      "Epoch: 0019 cost=4.028993523\nEpoch: 0020 cost=1.825650853\nEpoch: 0021 cost=1.067986983\nEpoch: 0022 cost=0.903559148\nEpoch: 0023 cost=0.870678252\nEpoch: 0024 cost=0.846443170\nEpoch: 0025 cost=0.821627265\nEpoch: 0026 cost=0.797787201\nEpoch: 0027 cost=0.774279666\nEpoch: 0028 cost=0.751278353\nEpoch: 0029 cost=0.729079586\nEpoch: 0030 cost=0.707410988\nOptimization Finished!\n"
     ]
    },
    {
     "name": "stdout",
     "output_type": "stream",
     "text": [
      "Accuracy: 0.74\n"
     ]
    }
   ],
   "source": [
    "from sklearn import datasets, utils\n",
    "import tensorflow as tf\n",
    "from sklearn.preprocessing import label_binarize\n",
    "import numpy as np\n",
    "\n",
    "raw_data_set = datasets.load_iris()\n",
    "iris = np.column_stack([raw_data_set['data'], raw_data_set['target']])\n",
    "iris = utils.shuffle(iris)\n",
    "target_multiclass = label_binarize(iris[:, -1], classes=[0, 1, 2])\n",
    "data = iris[:, :4]\n",
    "\n",
    "# Network Parameters\n",
    "n_hidden_1 = 8\n",
    "n_hidden_2 = 8\n",
    "n_input = 4\n",
    "n_classes = 3\n",
    "\n",
    "# tf Graph input\n",
    "X = tf.placeholder('float', [None, n_input])\n",
    "Y = tf.placeholder('float', [None, n_classes])\n",
    "\n",
    "weights = {\n",
    "    'w1': tf.Variable(tf.random_normal([n_input, n_hidden_1])),\n",
    "    'w2': tf.Variable(tf.random_normal([n_hidden_1, n_hidden_2])),\n",
    "    'out': tf.Variable(tf.random_normal([n_hidden_2, n_classes]))\n",
    "}\n",
    "\n",
    "biases = {\n",
    "    'b1': tf.Variable(tf.random_normal([n_hidden_1])),\n",
    "    'b2': tf.Variable(tf.random_normal([n_hidden_2])),\n",
    "    'out': tf.Variable(tf.random_normal([n_classes]))\n",
    "}\n",
    "\n",
    "# Create model\n",
    "# Hidden fully connected layer with 8 neurons\n",
    "\n",
    "layer_1 = tf.add(tf.matmul(X, weights['w1']), biases['b1'])\n",
    "layer_2 = tf.add(tf.matmul(layer_1, weights['w2']), biases['b2'])\n",
    "out_layer = tf.matmul(layer_2, weights['out']) + biases['out']\n",
    "\n",
    "# Parameters\n",
    "learning_rate = 0.001\n",
    "training_epochs = 30\n",
    "batch_size = 10\n",
    "display_step = 1\n",
    "\n",
    "# Define loss and optimizer\n",
    "\n",
    "loss_op = tf.reduce_mean(tf.nn.softmax_cross_entropy_with_logits(logits=out_layer, labels=Y))\n",
    "optimizer = tf.train.AdamOptimizer(learning_rate=learning_rate)\n",
    "train_op = optimizer.minimize(loss_op)\n",
    "\n",
    "# Initializing  the variables\n",
    "\n",
    "init = tf.global_variables_initializer()\n",
    "\n",
    "with tf.Session() as sess:\n",
    "    sess.run(init)\n",
    "\n",
    "    # Training cycle\n",
    "    for epoch in range(training_epochs):\n",
    "        avg_cost = 0.\n",
    "        total_batch = int(100/batch_size)  # there are 100 instances in total \n",
    "        train_x = data[:100, :]\n",
    "        train_y = target_multiclass[:100]\n",
    "        # Loop over all batches\n",
    "        for i in range(total_batch):\n",
    "            batch_x, batch_y = train_x[i:i+batch_size], train_y[i:i+batch_size]\n",
    "            # Run optimization op (backprop) and cost op (to get loss value)\n",
    "            _, c = sess.run([train_op, loss_op], feed_dict={X: batch_x,\n",
    "                                                            Y: batch_y})\n",
    "            # Compute average loss\n",
    "            avg_cost += c / total_batch\n",
    "        # Display logs per epoch step\n",
    "        if epoch % display_step == 0:\n",
    "            print(\"Epoch:\", '%04d' % (epoch+1), \"cost={:.9f}\".format(avg_cost))\n",
    "    print(\"Optimization Finished!\")\n",
    "\n",
    "    # Test model\n",
    "    pred = tf.nn.softmax(out_layer)  # Apply softmax to logits\n",
    "    correct_prediction = tf.equal(tf.argmax(pred, 1), tf.argmax(Y, 1))\n",
    "    # Calculate accuracy\n",
    "    accuracy = tf.reduce_mean(tf.cast(correct_prediction, \"float\"))\n",
    "    print(\"Accuracy:\", accuracy.eval({X: data[100:150, :], Y: target_multiclass[100:150]}))"
   ]
  },
  {
   "cell_type": "code",
   "execution_count": 8,
   "metadata": {},
   "outputs": [],
   "source": []
  },
  {
   "cell_type": "code",
   "execution_count": null,
   "metadata": {},
   "outputs": [],
   "source": []
  }
 ],
 "metadata": {
  "kernelspec": {
   "display_name": "Python 2",
   "language": "python",
   "name": "python2"
  },
  "language_info": {
   "codemirror_mode": {
    "name": "ipython",
    "version": 2
   },
   "file_extension": ".py",
   "mimetype": "text/x-python",
   "name": "python",
   "nbconvert_exporter": "python",
   "pygments_lexer": "ipython2",
   "version": "2.7.6"
  }
 },
 "nbformat": 4,
 "nbformat_minor": 0
}
